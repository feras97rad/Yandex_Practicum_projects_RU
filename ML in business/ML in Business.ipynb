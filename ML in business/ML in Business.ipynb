{
 "cells": [
  {
   "cell_type": "markdown",
   "metadata": {},
   "source": [
    "# Описание проекта"
   ]
  },
  {
   "cell_type": "markdown",
   "metadata": {},
   "source": [
    "В данном проекте нам предстоит решить где бурить скаважину в интересах добывающей компании.\\\n",
    "Имеется 3 дата-сета, содержащих необходимые сведения по каждому из 3-х регионов.\\\n",
    "Необходимо построить модель, которая определит потенциальные прибыль и риски для каждого из 3-х регионов.\\\n",
    "После оценки рисков нужно оставить лишь те регионы, в которых вероятность убытков меньше 2.5%.\\\n",
    "Для данной задачи подходит только модель Логистической регресии.\\\n",
    "Данные содержат столбец с идентификатором, 3 столбца с признаками и стобец с целевым признаком (всего 5 столбцов) и по 10000 строк в каждом дата-сете\\\n",
    "Примерный ход выполнения работы:\n",
    "- Загрузим и подготовим данные\n",
    "- Обучим и проверим модель для каждого региона\n",
    "- Рассчитаем прибыль\n",
    "- Напишем функцию для расчёта прибыли по выбранным скважинам и предсказаниям модели\n",
    "- Посчитаем риски и прибыль для каждого региона"
   ]
  },
  {
   "cell_type": "markdown",
   "metadata": {},
   "source": [
    "# Импортируем необходимые библиотеки"
   ]
  },
  {
   "cell_type": "code",
   "execution_count": 1,
   "metadata": {},
   "outputs": [],
   "source": [
    "import seaborn as sns\n",
    "import pandas as pd\n",
    "import numpy as np\n",
    "import matplotlib.pyplot as plt\n",
    "\n",
    "from sklearn.pipeline import make_pipeline\n",
    "from sklearn.preprocessing import MinMaxScaler, StandardScaler\n",
    "from sklearn.metrics import mean_squared_error, r2_score, make_scorer\n",
    "from sklearn.model_selection import train_test_split\n",
    "from sklearn.linear_model import LinearRegression"
   ]
  },
  {
   "cell_type": "code",
   "execution_count": 2,
   "metadata": {},
   "outputs": [],
   "source": [
    "#constants\n",
    "COUNT = 200\n",
    "MONEY = 10**10\n",
    "REVENUE = 45*(10**4)\n",
    "N = 500\n",
    "STATE = np.random.RandomState(12345)"
   ]
  },
  {
   "cell_type": "markdown",
   "metadata": {},
   "source": [
    "# Пользовательские функции.\n",
    "В этом проекте будет использовано несколько собственных функций для автоматизации повторяющихся действий"
   ]
  },
  {
   "cell_type": "code",
   "execution_count": 3,
   "metadata": {},
   "outputs": [],
   "source": [
    "# Функция для первичного анализа дата-сета\n",
    "def analyze_df(df):\n",
    "    # выводим размерность датафрейма\n",
    "    display(\"Размерность датафрейма:\")\n",
    "    display(df.shape)\n",
    "    display(\"\")\n",
    "\n",
    "    # выводим информацию о датафрейме\n",
    "    display(\"Информация о датафрейме:\")\n",
    "    display(df.info())\n",
    "    display(\"\")\n",
    "\n",
    "    # выводим статистическую информацию о датафрейме\n",
    "    display(\"Статистическая информация о датафрейме:\")\n",
    "    display(df.describe())\n",
    "    display(\"\")\n",
    "\n",
    "    # выводим первые 10 строк датафрейма\n",
    "    display(\"Первые 10 строк датафрейма:\")\n",
    "    display(df.head(10))\n",
    "\n",
    "    # выводим матрицу корреляции\n",
    "    display(\"Матрица корреляции:\")\n",
    "    corr_matrix = df.corr()\n",
    "    sns.heatmap(corr_matrix, cmap='coolwarm', linecolor='none', annot=True)"
   ]
  },
  {
   "cell_type": "code",
   "execution_count": 4,
   "metadata": {},
   "outputs": [],
   "source": [
    "# Функция для отрисовки гистограммы, и Boxplot\n",
    "def plot_df(df):\n",
    "    plt.figure(figsize=(12, 4))\n",
    "    plt.subplot(1, 2, 1) \n",
    "    plt.title('Boxplot')  \n",
    "    plt.ylabel('Value')\n",
    "    plt.boxplot (x = df['product'])\n",
    "    plt.subplot(1, 2, 2)\n",
    "    plt.title('Гистограмма распределения объёма')\n",
    "    plt.xlabel('Объём')\n",
    "    plt.ylabel('Количество')\n",
    "    plt.hist(x = df['product'], bins=35, range = (0, 200))\n",
    "    plt.show()"
   ]
  },
  {
   "cell_type": "code",
   "execution_count": 5,
   "metadata": {},
   "outputs": [],
   "source": [
    "def split_and_train(df):\n",
    " \n",
    "    features = df.drop(['product', 'id'], axis=1)\n",
    "    target = df[\"product\"]\n",
    "    features_train, features_valid, target_train, target_valid = train_test_split(features, \n",
    "                                                                                  target, \n",
    "                                                                                  test_size=0.25, \n",
    "                                                                                  random_state=STATE)\n",
    "    scaler = MinMaxScaler()\n",
    "    features_train = scaler.fit_transform(features_train)\n",
    "    features_valid = scaler.transform(features_valid)\n",
    "    \n",
    "    lr = LinearRegression(normalize=False)\n",
    "    lr.fit(features_train, target_train)\n",
    "    predictions = lr.predict(features_valid)\n",
    "    predictions = pd.Series(predictions)\n",
    "    rmse = (mean_squared_error(predictions, target_valid))**(0.5)\n",
    "    average_product = sum(predictions) / len(predictions)\n",
    "    \n",
    "    print(\"RMSE: {0:.2f}\".format(rmse))\n",
    "    print(\"Average product: {0:.2f}\".format(average_product))\n",
    "    \n",
    "    return (predictions, target_valid.reset_index(drop=True), rmse, average_product)"
   ]
  },
  {
   "cell_type": "markdown",
   "metadata": {},
   "source": [
    "# Загрузим необходимые дата-сеты"
   ]
  },
  {
   "cell_type": "code",
   "execution_count": 6,
   "metadata": {},
   "outputs": [],
   "source": [
    "try:\n",
    "    df_0 = pd.read_csv('/datasets/geo_data_0.csv')\n",
    "    df_1 = pd.read_csv('/datasets/geo_data_1.csv')\n",
    "    df_2 = pd.read_csv('/datasets/geo_data_2.csv')\n",
    "\n",
    "except:\n",
    "    df_0 = pd.read_csv('https://code.s3.yandex.net/datasets/geo_data_0.csv')\n",
    "    df_1 = pd.read_csv('https://code.s3.yandex.net/datasets/geo_data_1.csv')\n",
    "    df_2 = pd.read_csv('https://code.s3.yandex.net/datasets/geo_data_2.csv')"
   ]
  },
  {
   "cell_type": "markdown",
   "metadata": {},
   "source": [
    "# Изучим основные хар-ки дата-сетов"
   ]
  },
  {
   "cell_type": "code",
   "execution_count": 7,
   "metadata": {},
   "outputs": [
    {
     "data": {
      "text/plain": [
       "'Размерность датафрейма:'"
      ]
     },
     "metadata": {},
     "output_type": "display_data"
    },
    {
     "data": {
      "text/plain": [
       "(100000, 5)"
      ]
     },
     "metadata": {},
     "output_type": "display_data"
    },
    {
     "data": {
      "text/plain": [
       "''"
      ]
     },
     "metadata": {},
     "output_type": "display_data"
    },
    {
     "data": {
      "text/plain": [
       "'Информация о датафрейме:'"
      ]
     },
     "metadata": {},
     "output_type": "display_data"
    },
    {
     "name": "stdout",
     "output_type": "stream",
     "text": [
      "<class 'pandas.core.frame.DataFrame'>\n",
      "RangeIndex: 100000 entries, 0 to 99999\n",
      "Data columns (total 5 columns):\n",
      " #   Column   Non-Null Count   Dtype  \n",
      "---  ------   --------------   -----  \n",
      " 0   id       100000 non-null  object \n",
      " 1   f0       100000 non-null  float64\n",
      " 2   f1       100000 non-null  float64\n",
      " 3   f2       100000 non-null  float64\n",
      " 4   product  100000 non-null  float64\n",
      "dtypes: float64(4), object(1)\n",
      "memory usage: 3.8+ MB\n"
     ]
    },
    {
     "data": {
      "text/plain": [
       "None"
      ]
     },
     "metadata": {},
     "output_type": "display_data"
    },
    {
     "data": {
      "text/plain": [
       "''"
      ]
     },
     "metadata": {},
     "output_type": "display_data"
    },
    {
     "data": {
      "text/plain": [
       "'Статистическая информация о датафрейме:'"
      ]
     },
     "metadata": {},
     "output_type": "display_data"
    },
    {
     "data": {
      "text/html": [
       "<div>\n",
       "<style scoped>\n",
       "    .dataframe tbody tr th:only-of-type {\n",
       "        vertical-align: middle;\n",
       "    }\n",
       "\n",
       "    .dataframe tbody tr th {\n",
       "        vertical-align: top;\n",
       "    }\n",
       "\n",
       "    .dataframe thead th {\n",
       "        text-align: right;\n",
       "    }\n",
       "</style>\n",
       "<table border=\"1\" class=\"dataframe\">\n",
       "  <thead>\n",
       "    <tr style=\"text-align: right;\">\n",
       "      <th></th>\n",
       "      <th>f0</th>\n",
       "      <th>f1</th>\n",
       "      <th>f2</th>\n",
       "      <th>product</th>\n",
       "    </tr>\n",
       "  </thead>\n",
       "  <tbody>\n",
       "    <tr>\n",
       "      <th>count</th>\n",
       "      <td>100000.000000</td>\n",
       "      <td>100000.000000</td>\n",
       "      <td>100000.000000</td>\n",
       "      <td>100000.000000</td>\n",
       "    </tr>\n",
       "    <tr>\n",
       "      <th>mean</th>\n",
       "      <td>0.500419</td>\n",
       "      <td>0.250143</td>\n",
       "      <td>2.502647</td>\n",
       "      <td>92.500000</td>\n",
       "    </tr>\n",
       "    <tr>\n",
       "      <th>std</th>\n",
       "      <td>0.871832</td>\n",
       "      <td>0.504433</td>\n",
       "      <td>3.248248</td>\n",
       "      <td>44.288691</td>\n",
       "    </tr>\n",
       "    <tr>\n",
       "      <th>min</th>\n",
       "      <td>-1.408605</td>\n",
       "      <td>-0.848218</td>\n",
       "      <td>-12.088328</td>\n",
       "      <td>0.000000</td>\n",
       "    </tr>\n",
       "    <tr>\n",
       "      <th>25%</th>\n",
       "      <td>-0.072580</td>\n",
       "      <td>-0.200881</td>\n",
       "      <td>0.287748</td>\n",
       "      <td>56.497507</td>\n",
       "    </tr>\n",
       "    <tr>\n",
       "      <th>50%</th>\n",
       "      <td>0.502360</td>\n",
       "      <td>0.250252</td>\n",
       "      <td>2.515969</td>\n",
       "      <td>91.849972</td>\n",
       "    </tr>\n",
       "    <tr>\n",
       "      <th>75%</th>\n",
       "      <td>1.073581</td>\n",
       "      <td>0.700646</td>\n",
       "      <td>4.715088</td>\n",
       "      <td>128.564089</td>\n",
       "    </tr>\n",
       "    <tr>\n",
       "      <th>max</th>\n",
       "      <td>2.362331</td>\n",
       "      <td>1.343769</td>\n",
       "      <td>16.003790</td>\n",
       "      <td>185.364347</td>\n",
       "    </tr>\n",
       "  </tbody>\n",
       "</table>\n",
       "</div>"
      ],
      "text/plain": [
       "                  f0             f1             f2        product\n",
       "count  100000.000000  100000.000000  100000.000000  100000.000000\n",
       "mean        0.500419       0.250143       2.502647      92.500000\n",
       "std         0.871832       0.504433       3.248248      44.288691\n",
       "min        -1.408605      -0.848218     -12.088328       0.000000\n",
       "25%        -0.072580      -0.200881       0.287748      56.497507\n",
       "50%         0.502360       0.250252       2.515969      91.849972\n",
       "75%         1.073581       0.700646       4.715088     128.564089\n",
       "max         2.362331       1.343769      16.003790     185.364347"
      ]
     },
     "metadata": {},
     "output_type": "display_data"
    },
    {
     "data": {
      "text/plain": [
       "''"
      ]
     },
     "metadata": {},
     "output_type": "display_data"
    },
    {
     "data": {
      "text/plain": [
       "'Первые 10 строк датафрейма:'"
      ]
     },
     "metadata": {},
     "output_type": "display_data"
    },
    {
     "data": {
      "text/html": [
       "<div>\n",
       "<style scoped>\n",
       "    .dataframe tbody tr th:only-of-type {\n",
       "        vertical-align: middle;\n",
       "    }\n",
       "\n",
       "    .dataframe tbody tr th {\n",
       "        vertical-align: top;\n",
       "    }\n",
       "\n",
       "    .dataframe thead th {\n",
       "        text-align: right;\n",
       "    }\n",
       "</style>\n",
       "<table border=\"1\" class=\"dataframe\">\n",
       "  <thead>\n",
       "    <tr style=\"text-align: right;\">\n",
       "      <th></th>\n",
       "      <th>id</th>\n",
       "      <th>f0</th>\n",
       "      <th>f1</th>\n",
       "      <th>f2</th>\n",
       "      <th>product</th>\n",
       "    </tr>\n",
       "  </thead>\n",
       "  <tbody>\n",
       "    <tr>\n",
       "      <th>0</th>\n",
       "      <td>txEyH</td>\n",
       "      <td>0.705745</td>\n",
       "      <td>-0.497823</td>\n",
       "      <td>1.221170</td>\n",
       "      <td>105.280062</td>\n",
       "    </tr>\n",
       "    <tr>\n",
       "      <th>1</th>\n",
       "      <td>2acmU</td>\n",
       "      <td>1.334711</td>\n",
       "      <td>-0.340164</td>\n",
       "      <td>4.365080</td>\n",
       "      <td>73.037750</td>\n",
       "    </tr>\n",
       "    <tr>\n",
       "      <th>2</th>\n",
       "      <td>409Wp</td>\n",
       "      <td>1.022732</td>\n",
       "      <td>0.151990</td>\n",
       "      <td>1.419926</td>\n",
       "      <td>85.265647</td>\n",
       "    </tr>\n",
       "    <tr>\n",
       "      <th>3</th>\n",
       "      <td>iJLyR</td>\n",
       "      <td>-0.032172</td>\n",
       "      <td>0.139033</td>\n",
       "      <td>2.978566</td>\n",
       "      <td>168.620776</td>\n",
       "    </tr>\n",
       "    <tr>\n",
       "      <th>4</th>\n",
       "      <td>Xdl7t</td>\n",
       "      <td>1.988431</td>\n",
       "      <td>0.155413</td>\n",
       "      <td>4.751769</td>\n",
       "      <td>154.036647</td>\n",
       "    </tr>\n",
       "    <tr>\n",
       "      <th>5</th>\n",
       "      <td>wX4Hy</td>\n",
       "      <td>0.969570</td>\n",
       "      <td>0.489775</td>\n",
       "      <td>-0.735383</td>\n",
       "      <td>64.741541</td>\n",
       "    </tr>\n",
       "    <tr>\n",
       "      <th>6</th>\n",
       "      <td>tL6pL</td>\n",
       "      <td>0.645075</td>\n",
       "      <td>0.530656</td>\n",
       "      <td>1.780266</td>\n",
       "      <td>49.055285</td>\n",
       "    </tr>\n",
       "    <tr>\n",
       "      <th>7</th>\n",
       "      <td>BYPU6</td>\n",
       "      <td>-0.400648</td>\n",
       "      <td>0.808337</td>\n",
       "      <td>-5.624670</td>\n",
       "      <td>72.943292</td>\n",
       "    </tr>\n",
       "    <tr>\n",
       "      <th>8</th>\n",
       "      <td>j9Oui</td>\n",
       "      <td>0.643105</td>\n",
       "      <td>-0.551583</td>\n",
       "      <td>2.372141</td>\n",
       "      <td>113.356160</td>\n",
       "    </tr>\n",
       "    <tr>\n",
       "      <th>9</th>\n",
       "      <td>OLuZU</td>\n",
       "      <td>2.173381</td>\n",
       "      <td>0.563698</td>\n",
       "      <td>9.441852</td>\n",
       "      <td>127.910945</td>\n",
       "    </tr>\n",
       "  </tbody>\n",
       "</table>\n",
       "</div>"
      ],
      "text/plain": [
       "      id        f0        f1        f2     product\n",
       "0  txEyH  0.705745 -0.497823  1.221170  105.280062\n",
       "1  2acmU  1.334711 -0.340164  4.365080   73.037750\n",
       "2  409Wp  1.022732  0.151990  1.419926   85.265647\n",
       "3  iJLyR -0.032172  0.139033  2.978566  168.620776\n",
       "4  Xdl7t  1.988431  0.155413  4.751769  154.036647\n",
       "5  wX4Hy  0.969570  0.489775 -0.735383   64.741541\n",
       "6  tL6pL  0.645075  0.530656  1.780266   49.055285\n",
       "7  BYPU6 -0.400648  0.808337 -5.624670   72.943292\n",
       "8  j9Oui  0.643105 -0.551583  2.372141  113.356160\n",
       "9  OLuZU  2.173381  0.563698  9.441852  127.910945"
      ]
     },
     "metadata": {},
     "output_type": "display_data"
    },
    {
     "data": {
      "text/plain": [
       "'Матрица корреляции:'"
      ]
     },
     "metadata": {},
     "output_type": "display_data"
    },
    {
     "data": {
      "image/png": "[encoded data removed]",
      "text/plain": [
       "<Figure size 432x288 with 2 Axes>"
      ]
     },
     "metadata": {
      "needs_background": "light"
     },
     "output_type": "display_data"
    }
   ],
   "source": [
    "analyze_df(df_0)"
   ]
  },
  {
   "cell_type": "code",
   "execution_count": 8,
   "metadata": {},
   "outputs": [
    {
     "data": {
      "text/plain": [
       "'Размерность датафрейма:'"
      ]
     },
     "metadata": {},
     "output_type": "display_data"
    },
    {
     "data": {
      "text/plain": [
       "(100000, 5)"
      ]
     },
     "metadata": {},
     "output_type": "display_data"
    },
    {
     "data": {
      "text/plain": [
       "''"
      ]
     },
     "metadata": {},
     "output_type": "display_data"
    },
    {
     "data": {
      "text/plain": [
       "'Информация о датафрейме:'"
      ]
     },
     "metadata": {},
     "output_type": "display_data"
    },
    {
     "name": "stdout",
     "output_type": "stream",
     "text": [
      "<class 'pandas.core.frame.DataFrame'>\n",
      "RangeIndex: 100000 entries, 0 to 99999\n",
      "Data columns (total 5 columns):\n",
      " #   Column   Non-Null Count   Dtype  \n",
      "---  ------   --------------   -----  \n",
      " 0   id       100000 non-null  object \n",
      " 1   f0       100000 non-null  float64\n",
      " 2   f1       100000 non-null  float64\n",
      " 3   f2       100000 non-null  float64\n",
      " 4   product  100000 non-null  float64\n",
      "dtypes: float64(4), object(1)\n",
      "memory usage: 3.8+ MB\n"
     ]
    },
    {
     "data": {
      "text/plain": [
       "None"
      ]
     },
     "metadata": {},
     "output_type": "display_data"
    },
    {
     "data": {
      "text/plain": [
       "''"
      ]
     },
     "metadata": {},
     "output_type": "display_data"
    },
    {
     "data": {
      "text/plain": [
       "'Статистическая информация о датафрейме:'"
      ]
     },
     "metadata": {},
     "output_type": "display_data"
    },
    {
     "data": {
      "text/html": [
       "<div>\n",
       "<style scoped>\n",
       "    .dataframe tbody tr th:only-of-type {\n",
       "        vertical-align: middle;\n",
       "    }\n",
       "\n",
       "    .dataframe tbody tr th {\n",
       "        vertical-align: top;\n",
       "    }\n",
       "\n",
       "    .dataframe thead th {\n",
       "        text-align: right;\n",
       "    }\n",
       "</style>\n",
       "<table border=\"1\" class=\"dataframe\">\n",
       "  <thead>\n",
       "    <tr style=\"text-align: right;\">\n",
       "      <th></th>\n",
       "      <th>f0</th>\n",
       "      <th>f1</th>\n",
       "      <th>f2</th>\n",
       "      <th>product</th>\n",
       "    </tr>\n",
       "  </thead>\n",
       "  <tbody>\n",
       "    <tr>\n",
       "      <th>count</th>\n",
       "      <td>100000.000000</td>\n",
       "      <td>100000.000000</td>\n",
       "      <td>100000.000000</td>\n",
       "      <td>100000.000000</td>\n",
       "    </tr>\n",
       "    <tr>\n",
       "      <th>mean</th>\n",
       "      <td>1.141296</td>\n",
       "      <td>-4.796579</td>\n",
       "      <td>2.494541</td>\n",
       "      <td>68.825000</td>\n",
       "    </tr>\n",
       "    <tr>\n",
       "      <th>std</th>\n",
       "      <td>8.965932</td>\n",
       "      <td>5.119872</td>\n",
       "      <td>1.703572</td>\n",
       "      <td>45.944423</td>\n",
       "    </tr>\n",
       "    <tr>\n",
       "      <th>min</th>\n",
       "      <td>-31.609576</td>\n",
       "      <td>-26.358598</td>\n",
       "      <td>-0.018144</td>\n",
       "      <td>0.000000</td>\n",
       "    </tr>\n",
       "    <tr>\n",
       "      <th>25%</th>\n",
       "      <td>-6.298551</td>\n",
       "      <td>-8.267985</td>\n",
       "      <td>1.000021</td>\n",
       "      <td>26.953261</td>\n",
       "    </tr>\n",
       "    <tr>\n",
       "      <th>50%</th>\n",
       "      <td>1.153055</td>\n",
       "      <td>-4.813172</td>\n",
       "      <td>2.011479</td>\n",
       "      <td>57.085625</td>\n",
       "    </tr>\n",
       "    <tr>\n",
       "      <th>75%</th>\n",
       "      <td>8.621015</td>\n",
       "      <td>-1.332816</td>\n",
       "      <td>3.999904</td>\n",
       "      <td>107.813044</td>\n",
       "    </tr>\n",
       "    <tr>\n",
       "      <th>max</th>\n",
       "      <td>29.421755</td>\n",
       "      <td>18.734063</td>\n",
       "      <td>5.019721</td>\n",
       "      <td>137.945408</td>\n",
       "    </tr>\n",
       "  </tbody>\n",
       "</table>\n",
       "</div>"
      ],
      "text/plain": [
       "                  f0             f1             f2        product\n",
       "count  100000.000000  100000.000000  100000.000000  100000.000000\n",
       "mean        1.141296      -4.796579       2.494541      68.825000\n",
       "std         8.965932       5.119872       1.703572      45.944423\n",
       "min       -31.609576     -26.358598      -0.018144       0.000000\n",
       "25%        -6.298551      -8.267985       1.000021      26.953261\n",
       "50%         1.153055      -4.813172       2.011479      57.085625\n",
       "75%         8.621015      -1.332816       3.999904     107.813044\n",
       "max        29.421755      18.734063       5.019721     137.945408"
      ]
     },
     "metadata": {},
     "output_type": "display_data"
    },
    {
     "data": {
      "text/plain": [
       "''"
      ]
     },
     "metadata": {},
     "output_type": "display_data"
    },
    {
     "data": {
      "text/plain": [
       "'Первые 10 строк датафрейма:'"
      ]
     },
     "metadata": {},
     "output_type": "display_data"
    },
    {
     "data": {
      "text/html": [
       "<div>\n",
       "<style scoped>\n",
       "    .dataframe tbody tr th:only-of-type {\n",
       "        vertical-align: middle;\n",
       "    }\n",
       "\n",
       "    .dataframe tbody tr th {\n",
       "        vertical-align: top;\n",
       "    }\n",
       "\n",
       "    .dataframe thead th {\n",
       "        text-align: right;\n",
       "    }\n",
       "</style>\n",
       "<table border=\"1\" class=\"dataframe\">\n",
       "  <thead>\n",
       "    <tr style=\"text-align: right;\">\n",
       "      <th></th>\n",
       "      <th>id</th>\n",
       "      <th>f0</th>\n",
       "      <th>f1</th>\n",
       "      <th>f2</th>\n",
       "      <th>product</th>\n",
       "    </tr>\n",
       "  </thead>\n",
       "  <tbody>\n",
       "    <tr>\n",
       "      <th>0</th>\n",
       "      <td>kBEdx</td>\n",
       "      <td>-15.001348</td>\n",
       "      <td>-8.276000</td>\n",
       "      <td>-0.005876</td>\n",
       "      <td>3.179103</td>\n",
       "    </tr>\n",
       "    <tr>\n",
       "      <th>1</th>\n",
       "      <td>62mP7</td>\n",
       "      <td>14.272088</td>\n",
       "      <td>-3.475083</td>\n",
       "      <td>0.999183</td>\n",
       "      <td>26.953261</td>\n",
       "    </tr>\n",
       "    <tr>\n",
       "      <th>2</th>\n",
       "      <td>vyE1P</td>\n",
       "      <td>6.263187</td>\n",
       "      <td>-5.948386</td>\n",
       "      <td>5.001160</td>\n",
       "      <td>134.766305</td>\n",
       "    </tr>\n",
       "    <tr>\n",
       "      <th>3</th>\n",
       "      <td>KcrkZ</td>\n",
       "      <td>-13.081196</td>\n",
       "      <td>-11.506057</td>\n",
       "      <td>4.999415</td>\n",
       "      <td>137.945408</td>\n",
       "    </tr>\n",
       "    <tr>\n",
       "      <th>4</th>\n",
       "      <td>AHL4O</td>\n",
       "      <td>12.702195</td>\n",
       "      <td>-8.147433</td>\n",
       "      <td>5.004363</td>\n",
       "      <td>134.766305</td>\n",
       "    </tr>\n",
       "    <tr>\n",
       "      <th>5</th>\n",
       "      <td>HHckp</td>\n",
       "      <td>-3.327590</td>\n",
       "      <td>-2.205276</td>\n",
       "      <td>3.003647</td>\n",
       "      <td>84.038886</td>\n",
       "    </tr>\n",
       "    <tr>\n",
       "      <th>6</th>\n",
       "      <td>h5Ujo</td>\n",
       "      <td>-11.142655</td>\n",
       "      <td>-10.133399</td>\n",
       "      <td>4.002382</td>\n",
       "      <td>110.992147</td>\n",
       "    </tr>\n",
       "    <tr>\n",
       "      <th>7</th>\n",
       "      <td>muH9x</td>\n",
       "      <td>4.234715</td>\n",
       "      <td>-0.001354</td>\n",
       "      <td>2.004588</td>\n",
       "      <td>53.906522</td>\n",
       "    </tr>\n",
       "    <tr>\n",
       "      <th>8</th>\n",
       "      <td>YiRkx</td>\n",
       "      <td>13.355129</td>\n",
       "      <td>-0.332068</td>\n",
       "      <td>4.998647</td>\n",
       "      <td>134.766305</td>\n",
       "    </tr>\n",
       "    <tr>\n",
       "      <th>9</th>\n",
       "      <td>jG6Gi</td>\n",
       "      <td>1.069227</td>\n",
       "      <td>-11.025667</td>\n",
       "      <td>4.997844</td>\n",
       "      <td>137.945408</td>\n",
       "    </tr>\n",
       "  </tbody>\n",
       "</table>\n",
       "</div>"
      ],
      "text/plain": [
       "      id         f0         f1        f2     product\n",
       "0  kBEdx -15.001348  -8.276000 -0.005876    3.179103\n",
       "1  62mP7  14.272088  -3.475083  0.999183   26.953261\n",
       "2  vyE1P   6.263187  -5.948386  5.001160  134.766305\n",
       "3  KcrkZ -13.081196 -11.506057  4.999415  137.945408\n",
       "4  AHL4O  12.702195  -8.147433  5.004363  134.766305\n",
       "5  HHckp  -3.327590  -2.205276  3.003647   84.038886\n",
       "6  h5Ujo -11.142655 -10.133399  4.002382  110.992147\n",
       "7  muH9x   4.234715  -0.001354  2.004588   53.906522\n",
       "8  YiRkx  13.355129  -0.332068  4.998647  134.766305\n",
       "9  jG6Gi   1.069227 -11.025667  4.997844  137.945408"
      ]
     },
     "metadata": {},
     "output_type": "display_data"
    },
    {
     "data": {
      "text/plain": [
       "'Матрица корреляции:'"
      ]
     },
     "metadata": {},
     "output_type": "display_data"
    },
    {
     "data": {
      "image/png": "[encoded data removed]",
      "text/plain": [
       "<Figure size 432x288 with 2 Axes>"
      ]
     },
     "metadata": {
      "needs_background": "light"
     },
     "output_type": "display_data"
    }
   ],
   "source": [
    "analyze_df(df_1)"
   ]
  },
  {
   "cell_type": "code",
   "execution_count": 9,
   "metadata": {},
   "outputs": [
    {
     "data": {
      "text/plain": [
       "'Размерность датафрейма:'"
      ]
     },
     "metadata": {},
     "output_type": "display_data"
    },
    {
     "data": {
      "text/plain": [
       "(100000, 5)"
      ]
     },
     "metadata": {},
     "output_type": "display_data"
    },
    {
     "data": {
      "text/plain": [
       "''"
      ]
     },
     "metadata": {},
     "output_type": "display_data"
    },
    {
     "data": {
      "text/plain": [
       "'Информация о датафрейме:'"
      ]
     },
     "metadata": {},
     "output_type": "display_data"
    },
    {
     "name": "stdout",
     "output_type": "stream",
     "text": [
      "<class 'pandas.core.frame.DataFrame'>\n",
      "RangeIndex: 100000 entries, 0 to 99999\n",
      "Data columns (total 5 columns):\n",
      " #   Column   Non-Null Count   Dtype  \n",
      "---  ------   --------------   -----  \n",
      " 0   id       100000 non-null  object \n",
      " 1   f0       100000 non-null  float64\n",
      " 2   f1       100000 non-null  float64\n",
      " 3   f2       100000 non-null  float64\n",
      " 4   product  100000 non-null  float64\n",
      "dtypes: float64(4), object(1)\n",
      "memory usage: 3.8+ MB\n"
     ]
    },
    {
     "data": {
      "text/plain": [
       "None"
      ]
     },
     "metadata": {},
     "output_type": "display_data"
    },
    {
     "data": {
      "text/plain": [
       "''"
      ]
     },
     "metadata": {},
     "output_type": "display_data"
    },
    {
     "data": {
      "text/plain": [
       "'Статистическая информация о датафрейме:'"
      ]
     },
     "metadata": {},
     "output_type": "display_data"
    },
    {
     "data": {
      "text/html": [
       "<div>\n",
       "<style scoped>\n",
       "    .dataframe tbody tr th:only-of-type {\n",
       "        vertical-align: middle;\n",
       "    }\n",
       "\n",
       "    .dataframe tbody tr th {\n",
       "        vertical-align: top;\n",
       "    }\n",
       "\n",
       "    .dataframe thead th {\n",
       "        text-align: right;\n",
       "    }\n",
       "</style>\n",
       "<table border=\"1\" class=\"dataframe\">\n",
       "  <thead>\n",
       "    <tr style=\"text-align: right;\">\n",
       "      <th></th>\n",
       "      <th>f0</th>\n",
       "      <th>f1</th>\n",
       "      <th>f2</th>\n",
       "      <th>product</th>\n",
       "    </tr>\n",
       "  </thead>\n",
       "  <tbody>\n",
       "    <tr>\n",
       "      <th>count</th>\n",
       "      <td>100000.000000</td>\n",
       "      <td>100000.000000</td>\n",
       "      <td>100000.000000</td>\n",
       "      <td>100000.000000</td>\n",
       "    </tr>\n",
       "    <tr>\n",
       "      <th>mean</th>\n",
       "      <td>0.002023</td>\n",
       "      <td>-0.002081</td>\n",
       "      <td>2.495128</td>\n",
       "      <td>95.000000</td>\n",
       "    </tr>\n",
       "    <tr>\n",
       "      <th>std</th>\n",
       "      <td>1.732045</td>\n",
       "      <td>1.730417</td>\n",
       "      <td>3.473445</td>\n",
       "      <td>44.749921</td>\n",
       "    </tr>\n",
       "    <tr>\n",
       "      <th>min</th>\n",
       "      <td>-8.760004</td>\n",
       "      <td>-7.084020</td>\n",
       "      <td>-11.970335</td>\n",
       "      <td>0.000000</td>\n",
       "    </tr>\n",
       "    <tr>\n",
       "      <th>25%</th>\n",
       "      <td>-1.162288</td>\n",
       "      <td>-1.174820</td>\n",
       "      <td>0.130359</td>\n",
       "      <td>59.450441</td>\n",
       "    </tr>\n",
       "    <tr>\n",
       "      <th>50%</th>\n",
       "      <td>0.009424</td>\n",
       "      <td>-0.009482</td>\n",
       "      <td>2.484236</td>\n",
       "      <td>94.925613</td>\n",
       "    </tr>\n",
       "    <tr>\n",
       "      <th>75%</th>\n",
       "      <td>1.158535</td>\n",
       "      <td>1.163678</td>\n",
       "      <td>4.858794</td>\n",
       "      <td>130.595027</td>\n",
       "    </tr>\n",
       "    <tr>\n",
       "      <th>max</th>\n",
       "      <td>7.238262</td>\n",
       "      <td>7.844801</td>\n",
       "      <td>16.739402</td>\n",
       "      <td>190.029838</td>\n",
       "    </tr>\n",
       "  </tbody>\n",
       "</table>\n",
       "</div>"
      ],
      "text/plain": [
       "                  f0             f1             f2        product\n",
       "count  100000.000000  100000.000000  100000.000000  100000.000000\n",
       "mean        0.002023      -0.002081       2.495128      95.000000\n",
       "std         1.732045       1.730417       3.473445      44.749921\n",
       "min        -8.760004      -7.084020     -11.970335       0.000000\n",
       "25%        -1.162288      -1.174820       0.130359      59.450441\n",
       "50%         0.009424      -0.009482       2.484236      94.925613\n",
       "75%         1.158535       1.163678       4.858794     130.595027\n",
       "max         7.238262       7.844801      16.739402     190.029838"
      ]
     },
     "metadata": {},
     "output_type": "display_data"
    },
    {
     "data": {
      "text/plain": [
       "''"
      ]
     },
     "metadata": {},
     "output_type": "display_data"
    },
    {
     "data": {
      "text/plain": [
       "'Первые 10 строк датафрейма:'"
      ]
     },
     "metadata": {},
     "output_type": "display_data"
    },
    {
     "data": {
      "text/html": [
       "<div>\n",
       "<style scoped>\n",
       "    .dataframe tbody tr th:only-of-type {\n",
       "        vertical-align: middle;\n",
       "    }\n",
       "\n",
       "    .dataframe tbody tr th {\n",
       "        vertical-align: top;\n",
       "    }\n",
       "\n",
       "    .dataframe thead th {\n",
       "        text-align: right;\n",
       "    }\n",
       "</style>\n",
       "<table border=\"1\" class=\"dataframe\">\n",
       "  <thead>\n",
       "    <tr style=\"text-align: right;\">\n",
       "      <th></th>\n",
       "      <th>id</th>\n",
       "      <th>f0</th>\n",
       "      <th>f1</th>\n",
       "      <th>f2</th>\n",
       "      <th>product</th>\n",
       "    </tr>\n",
       "  </thead>\n",
       "  <tbody>\n",
       "    <tr>\n",
       "      <th>0</th>\n",
       "      <td>fwXo0</td>\n",
       "      <td>-1.146987</td>\n",
       "      <td>0.963328</td>\n",
       "      <td>-0.828965</td>\n",
       "      <td>27.758673</td>\n",
       "    </tr>\n",
       "    <tr>\n",
       "      <th>1</th>\n",
       "      <td>WJtFt</td>\n",
       "      <td>0.262778</td>\n",
       "      <td>0.269839</td>\n",
       "      <td>-2.530187</td>\n",
       "      <td>56.069697</td>\n",
       "    </tr>\n",
       "    <tr>\n",
       "      <th>2</th>\n",
       "      <td>ovLUW</td>\n",
       "      <td>0.194587</td>\n",
       "      <td>0.289035</td>\n",
       "      <td>-5.586433</td>\n",
       "      <td>62.871910</td>\n",
       "    </tr>\n",
       "    <tr>\n",
       "      <th>3</th>\n",
       "      <td>q6cA6</td>\n",
       "      <td>2.236060</td>\n",
       "      <td>-0.553760</td>\n",
       "      <td>0.930038</td>\n",
       "      <td>114.572842</td>\n",
       "    </tr>\n",
       "    <tr>\n",
       "      <th>4</th>\n",
       "      <td>WPMUX</td>\n",
       "      <td>-0.515993</td>\n",
       "      <td>1.716266</td>\n",
       "      <td>5.899011</td>\n",
       "      <td>149.600746</td>\n",
       "    </tr>\n",
       "    <tr>\n",
       "      <th>5</th>\n",
       "      <td>LzZXx</td>\n",
       "      <td>-0.758092</td>\n",
       "      <td>0.710691</td>\n",
       "      <td>2.585887</td>\n",
       "      <td>90.222465</td>\n",
       "    </tr>\n",
       "    <tr>\n",
       "      <th>6</th>\n",
       "      <td>WBHRv</td>\n",
       "      <td>-0.574891</td>\n",
       "      <td>0.317727</td>\n",
       "      <td>1.773745</td>\n",
       "      <td>45.641478</td>\n",
       "    </tr>\n",
       "    <tr>\n",
       "      <th>7</th>\n",
       "      <td>XO8fn</td>\n",
       "      <td>-1.906649</td>\n",
       "      <td>-2.458350</td>\n",
       "      <td>-0.177097</td>\n",
       "      <td>72.480640</td>\n",
       "    </tr>\n",
       "    <tr>\n",
       "      <th>8</th>\n",
       "      <td>ybmQ5</td>\n",
       "      <td>1.776292</td>\n",
       "      <td>-0.279356</td>\n",
       "      <td>3.004156</td>\n",
       "      <td>106.616832</td>\n",
       "    </tr>\n",
       "    <tr>\n",
       "      <th>9</th>\n",
       "      <td>OilcN</td>\n",
       "      <td>-1.214452</td>\n",
       "      <td>-0.439314</td>\n",
       "      <td>5.922514</td>\n",
       "      <td>52.954532</td>\n",
       "    </tr>\n",
       "  </tbody>\n",
       "</table>\n",
       "</div>"
      ],
      "text/plain": [
       "      id        f0        f1        f2     product\n",
       "0  fwXo0 -1.146987  0.963328 -0.828965   27.758673\n",
       "1  WJtFt  0.262778  0.269839 -2.530187   56.069697\n",
       "2  ovLUW  0.194587  0.289035 -5.586433   62.871910\n",
       "3  q6cA6  2.236060 -0.553760  0.930038  114.572842\n",
       "4  WPMUX -0.515993  1.716266  5.899011  149.600746\n",
       "5  LzZXx -0.758092  0.710691  2.585887   90.222465\n",
       "6  WBHRv -0.574891  0.317727  1.773745   45.641478\n",
       "7  XO8fn -1.906649 -2.458350 -0.177097   72.480640\n",
       "8  ybmQ5  1.776292 -0.279356  3.004156  106.616832\n",
       "9  OilcN -1.214452 -0.439314  5.922514   52.954532"
      ]
     },
     "metadata": {},
     "output_type": "display_data"
    },
    {
     "data": {
      "text/plain": [
       "'Матрица корреляции:'"
      ]
     },
     "metadata": {},
     "output_type": "display_data"
    },
    {
     "data": {
      "image/png": "[encoded data removed]",
      "text/plain": [
       "<Figure size 432x288 with 2 Axes>"
      ]
     },
     "metadata": {
      "needs_background": "light"
     },
     "output_type": "display_data"
    }
   ],
   "source": [
    "analyze_df(df_2)"
   ]
  },
  {
   "cell_type": "code",
   "execution_count": 10,
   "metadata": {},
   "outputs": [
    {
     "data": {
      "image/png": "[encoded data removed]",
      "text/plain": [
       "<Figure size 864x288 with 2 Axes>"
      ]
     },
     "metadata": {
      "needs_background": "light"
     },
     "output_type": "display_data"
    }
   ],
   "source": [
    "plot_df(df_0)"
   ]
  },
  {
   "cell_type": "code",
   "execution_count": 11,
   "metadata": {},
   "outputs": [
    {
     "data": {
      "image/png": "[encoded data removed]",
      "text/plain": [
       "<Figure size 864x288 with 2 Axes>"
      ]
     },
     "metadata": {
      "needs_background": "light"
     },
     "output_type": "display_data"
    }
   ],
   "source": [
    "plot_df(df_1)"
   ]
  },
  {
   "cell_type": "code",
   "execution_count": 12,
   "metadata": {},
   "outputs": [
    {
     "data": {
      "image/png": "[encoded data removed]",
      "text/plain": [
       "<Figure size 864x288 with 2 Axes>"
      ]
     },
     "metadata": {
      "needs_background": "light"
     },
     "output_type": "display_data"
    }
   ],
   "source": [
    "plot_df(df_2)"
   ]
  },
  {
   "cell_type": "markdown",
   "metadata": {},
   "source": [
    "# Выводы о составе датасетов.\n",
    "Каждый из 3-х датасетов содержит 5 столбцов и 10 000 значений.\n",
    "Пропусков и аномалий нет.\\\n",
    "Предобработка данных не понадобится.\\\n",
    "Судя по гистограммам, распределение не идельное, но приемлимое.\\\n",
    "Недопустимо больших значений корреляции не наблюдаем.\\\n",
    "Из графика распределения объёма по второй таблице видно, что много пустых скважин и много заполненных скважин, в сумме с более низким, чем в остальных случаях распределением объема, рисует довольно интересную картину.\n"
   ]
  },
  {
   "cell_type": "markdown",
   "metadata": {},
   "source": [
    "# Обучение и проверка модели"
   ]
  },
  {
   "cell_type": "code",
   "execution_count": 13,
   "metadata": {},
   "outputs": [
    {
     "name": "stdout",
     "output_type": "stream",
     "text": [
      "RMSE: 37.58\n",
      "Average product: 92.59\n",
      "RMSE: 0.89\n",
      "Average product: 68.77\n",
      "RMSE: 39.96\n",
      "Average product: 95.09\n"
     ]
    }
   ],
   "source": [
    "predictions_0, target_0, rmse_0, avg_0 = split_and_train(df_0)\n",
    "predictions_1, target_1, rmse_1, avg_1 = split_and_train(df_1)\n",
    "predictions_2, target_2, rmse_2, avg_2 = split_and_train(df_2)"
   ]
  },
  {
   "cell_type": "code",
   "execution_count": 14,
   "metadata": {},
   "outputs": [
    {
     "name": "stdout",
     "output_type": "stream",
     "text": [
      "RMSE: 37.58\n",
      "Average product: 92.66\n"
     ]
    },
    {
     "data": {
      "text/plain": [
       "(0        112.958982\n",
       " 1         68.877696\n",
       " 2        127.801985\n",
       " 3        142.532485\n",
       " 4        105.733497\n",
       "             ...    \n",
       " 24995     61.956631\n",
       " 24996    109.882884\n",
       " 24997    110.876772\n",
       " 24998     57.693018\n",
       " 24999     85.462470\n",
       " Length: 25000, dtype: float64,\n",
       " 0        129.546681\n",
       " 1         50.873862\n",
       " 2        184.695665\n",
       " 3        176.587720\n",
       " 4         51.054946\n",
       "             ...    \n",
       " 24995     39.431554\n",
       " 24996    181.399284\n",
       " 24997    122.817025\n",
       " 24998    103.835162\n",
       " 24999     29.021421\n",
       " Name: product, Length: 25000, dtype: float64,\n",
       " 37.57951548534859,\n",
       " 92.66386568661606)"
      ]
     },
     "execution_count": 14,
     "metadata": {},
     "output_type": "execute_result"
    }
   ],
   "source": [
    "split_and_train(df_0)"
   ]
  },
  {
   "cell_type": "code",
   "execution_count": 15,
   "metadata": {},
   "outputs": [
    {
     "name": "stdout",
     "output_type": "stream",
     "text": [
      "RMSE: 0.89\n",
      "Average product: 69.22\n"
     ]
    },
    {
     "data": {
      "text/plain": [
       "(0         29.117188\n",
       " 1         81.337208\n",
       " 2         83.587069\n",
       " 3        111.283568\n",
       " 4        111.627559\n",
       "             ...    \n",
       " 24995     55.872151\n",
       " 24996     81.691397\n",
       " 24997     81.608170\n",
       " 24998    135.144257\n",
       " 24999      3.541762\n",
       " Length: 25000, dtype: float64,\n",
       " 0         30.132364\n",
       " 1         80.859783\n",
       " 2         84.038886\n",
       " 3        110.992147\n",
       " 4        110.992147\n",
       "             ...    \n",
       " 24995     53.906522\n",
       " 24996     80.859783\n",
       " 24997     80.859783\n",
       " 24998    134.766305\n",
       " 24999      3.179103\n",
       " Name: product, Length: 25000, dtype: float64,\n",
       " 0.8904163214946189,\n",
       " 69.22345150014002)"
      ]
     },
     "execution_count": 15,
     "metadata": {},
     "output_type": "execute_result"
    }
   ],
   "source": [
    "split_and_train(df_1)"
   ]
  },
  {
   "cell_type": "code",
   "execution_count": 16,
   "metadata": {},
   "outputs": [
    {
     "name": "stdout",
     "output_type": "stream",
     "text": [
      "RMSE: 40.03\n",
      "Average product: 95.05\n"
     ]
    },
    {
     "data": {
      "text/plain": [
       "(0         78.982209\n",
       " 1         81.886679\n",
       " 2         73.981274\n",
       " 3        120.919108\n",
       " 4         67.622778\n",
       "             ...    \n",
       " 24995     97.545332\n",
       " 24996    113.845259\n",
       " 24997    120.308259\n",
       " 24998     55.882968\n",
       " 24999     99.355010\n",
       " Length: 25000, dtype: float64,\n",
       " 0        175.869899\n",
       " 1         55.009026\n",
       " 2         51.119151\n",
       " 3        162.193917\n",
       " 4         50.046784\n",
       "             ...    \n",
       " 24995     33.017737\n",
       " 24996    170.227089\n",
       " 24997    154.830621\n",
       " 24998     33.786606\n",
       " 24999    134.730975\n",
       " Name: product, Length: 25000, dtype: float64,\n",
       " 40.02938636981283,\n",
       " 95.04953599535948)"
      ]
     },
     "execution_count": 16,
     "metadata": {},
     "output_type": "execute_result"
    }
   ],
   "source": [
    "split_and_train(df_2)"
   ]
  },
  {
   "cell_type": "markdown",
   "metadata": {},
   "source": [
    "# Вывод о запасах продукта и ошибок модели по регионам"
   ]
  },
  {
   "cell_type": "markdown",
   "metadata": {},
   "source": [
    "Предварительный вывод после анализа дата-сетов подтвердился.\\\n",
    "Во втором месторождении (df_1) запасов продукта значительно меньше, чем в остальных. 68.82 против , приблизительно 93.00.\\\n",
    "Но и средняя квадратичная ошибка модели в этом случае значительно меньше 0.89 против, приблизительно 39.00.\\\n",
    "Переходим к расчету прибыли и рисков."
   ]
  },
  {
   "cell_type": "markdown",
   "metadata": {},
   "source": [
    "# Подготовка к расчёту прибыли"
   ]
  },
  {
   "cell_type": "code",
   "execution_count": 17,
   "metadata": {},
   "outputs": [
    {
     "name": "stdout",
     "output_type": "stream",
     "text": [
      "Достаточный объём для безубыточной разработки новой скважины: 111.11111111111111\n"
     ]
    }
   ],
   "source": [
    "volume_needed = MONEY/COUNT/REVENUE\n",
    "print('Достаточный объём для безубыточной разработки новой скважины:', volume_needed)"
   ]
  },
  {
   "cell_type": "markdown",
   "metadata": {},
   "source": [
    "Как видим, средний объем запасов меньше точки безубыточности.\\\n",
    "Соответственно, при нынешней себестоимости разработка всех 3-х месторождений не имеет смысла.\\\n",
    "На этом исследование можно было бы закончить, но мы идем дальше"
   ]
  },
  {
   "cell_type": "markdown",
   "metadata": {},
   "source": [
    "# Расчёт прибыли и рисков"
   ]
  },
  {
   "cell_type": "code",
   "execution_count": 18,
   "metadata": {},
   "outputs": [],
   "source": [
    "#функция для расчёта прибыли по выбранным скважинам и предсказаниям модели\n",
    "def revenue(target, probabilities, COUNT):\n",
    "    # Выберите скважины с максимальными значениями предсказаний.\n",
    "    probs_sorted = probabilities.sort_values(ascending=False)\n",
    "    selected = target[probs_sorted.index][:COUNT]\n",
    "    return REVENUE * selected.sum() - MONEY"
   ]
  },
  {
   "cell_type": "code",
   "execution_count": 19,
   "metadata": {},
   "outputs": [],
   "source": [
    "def risk(target, y_pred, df):\n",
    "    target = pd.Series(target).reset_index(drop=True)\n",
    "    predictions = pd.Series(y_pred).reset_index(drop=True)\n",
    "    values = []\n",
    "    for j in range(1000):\n",
    "        target_subsample = target.sample(n = N, replace = True, random_state = STATE)\n",
    "        probs_subsample = y_pred.loc[target_subsample.index]\n",
    "\n",
    "        values.append(revenue(target_subsample, probs_subsample, COUNT))\n",
    "\n",
    "    values = pd.Series(values)\n",
    "    lower = values.quantile(0.025)\n",
    "    upper = values.quantile(0.975)\n",
    "    risk = values.loc[values < 0].count() / values.count()*100\n",
    "    mean = values.mean()\n",
    "    print(\"Средняя выручка:\", round(mean/10**6, 2), 'млн.руб')\n",
    "    print(\"Доверительный интервал от:\", round(lower/10**6, 2),'млн.руб.', 'до:', round(upper/10**6, 2),'млн.руб')\n",
    "    print(\"Риск:\", round(risk, 2), '%')"
   ]
  },
  {
   "cell_type": "code",
   "execution_count": 20,
   "metadata": {},
   "outputs": [
    {
     "name": "stdout",
     "output_type": "stream",
     "text": [
      "RMSE: 37.72\n",
      "Average product: 92.48\n",
      "Средняя выручка: 473.57 млн.руб\n",
      "Доверительный интервал от: -84.2 млн.руб. до: 980.81 млн.руб\n",
      "Риск: 4.7 %\n"
     ]
    }
   ],
   "source": [
    "predictions_0, target_0, rmse_0, avg_0 = split_and_train(df_0)\n",
    "risk(target_0, predictions_0, df_0)"
   ]
  },
  {
   "cell_type": "code",
   "execution_count": 21,
   "metadata": {},
   "outputs": [
    {
     "name": "stdout",
     "output_type": "stream",
     "text": [
      "RMSE: 0.89\n",
      "Average product: 68.32\n",
      "Средняя выручка: 440.23 млн.руб\n",
      "Доверительный интервал от: 2.54 млн.руб. до: 873.11 млн.руб\n",
      "Риск: 2.3 %\n"
     ]
    }
   ],
   "source": [
    "predictions_1, target_1, rmse_1, avg_1 = split_and_train(df_1)\n",
    "risk(target_1, predictions_1, df_1)"
   ]
  },
  {
   "cell_type": "code",
   "execution_count": 22,
   "metadata": {},
   "outputs": [
    {
     "name": "stdout",
     "output_type": "stream",
     "text": [
      "RMSE: 39.84\n",
      "Average product: 95.09\n",
      "Средняя выручка: 386.03 млн.руб\n",
      "Доверительный интервал от: -161.04 млн.руб. до: 926.2 млн.руб\n",
      "Риск: 8.4 %\n"
     ]
    }
   ],
   "source": [
    "predictions_2, target_2, rmse_2, avg_2 = split_and_train(df_2)\n",
    "risk(target_2, predictions_2, df_2)"
   ]
  },
  {
   "cell_type": "markdown",
   "metadata": {},
   "source": [
    "# Вывод\n",
    "Опираясь на среднюю выручку, имеет смысл разрабатывать 1 регион (df_0).\\\n",
    "Однако, если опираться на риски, то 2 регион (df_1)\\\n",
    "Учитывая такую неопределенность, стоит отметить, что основным показателем для определения целесообразности добычи для нас служит именно риск! Он должен быть меньше 2,5%.\\\n",
    "Отдельно отметим, что 95% доверительный интервал лежит в области положительных значений только во 2 регионе (df_1).\n",
    "В 2-х остальных часть интервала - отрицательна.\\\n",
    "Резюмируя 2 вышеизложенных факта можно рассматривать добычу только во 2 регионе (df_1)\\\n",
    "При этом стоит учитывать, что все месторождения, согласно нашему предыдущему выводу - убыточны.\\\n",
    "P.S.Проект выполнял локально ( не в юпитере)"
   ]
  }
 ],
 "metadata": {
  "ExecuteTimeLog": [
   {
    "duration": 1675,
    "start_time": "2023-04-20T10:50:47.422Z"
   },
   {
    "duration": 3,
    "start_time": "2023-04-20T10:50:49.100Z"
   },
   {
    "duration": 20,
    "start_time": "2023-04-20T10:50:49.112Z"
   },
   {
    "duration": 42,
    "start_time": "2023-04-20T10:50:49.143Z"
   },
   {
    "duration": 15,
    "start_time": "2023-04-20T10:50:49.187Z"
   },
   {
    "duration": 1179,
    "start_time": "2023-04-20T10:50:49.204Z"
   },
   {
    "duration": 443,
    "start_time": "2023-04-20T10:50:50.385Z"
   },
   {
    "duration": 418,
    "start_time": "2023-04-20T10:50:50.837Z"
   },
   {
    "duration": 443,
    "start_time": "2023-04-20T10:50:51.262Z"
   },
   {
    "duration": 386,
    "start_time": "2023-04-20T10:50:51.707Z"
   },
   {
    "duration": 503,
    "start_time": "2023-04-20T10:50:52.096Z"
   },
   {
    "duration": 397,
    "start_time": "2023-04-20T10:50:52.601Z"
   },
   {
    "duration": 872,
    "start_time": "2023-04-20T10:50:53.001Z"
   },
   {
    "duration": 775,
    "start_time": "2023-04-20T10:50:53.880Z"
   },
   {
    "duration": 1111,
    "start_time": "2023-04-20T10:50:54.667Z"
   },
   {
    "duration": 24,
    "start_time": "2023-04-20T10:50:55.833Z"
   },
   {
    "duration": 36,
    "start_time": "2023-04-20T10:50:55.861Z"
   },
   {
    "duration": 14,
    "start_time": "2023-04-20T10:50:55.900Z"
   },
   {
    "duration": 2990,
    "start_time": "2023-04-20T10:50:55.915Z"
   },
   {
    "duration": 2900,
    "start_time": "2023-04-20T10:50:58.907Z"
   },
   {
    "duration": 2909,
    "start_time": "2023-04-20T10:51:01.809Z"
   },
   {
    "duration": 1628,
    "start_time": "2023-04-20T15:58:51.987Z"
   },
   {
    "duration": 5,
    "start_time": "2023-04-20T15:59:17.721Z"
   },
   {
    "duration": 80,
    "start_time": "2023-04-20T15:59:51.601Z"
   },
   {
    "duration": 3,
    "start_time": "2023-04-20T16:00:12.488Z"
   },
   {
    "duration": 4,
    "start_time": "2023-04-20T16:01:07.256Z"
   },
   {
    "duration": 4,
    "start_time": "2023-04-20T16:01:44.649Z"
   },
   {
    "duration": 6,
    "start_time": "2023-04-20T16:01:48.585Z"
   },
   {
    "duration": 745,
    "start_time": "2023-04-20T16:01:54.382Z"
   },
   {
    "duration": 446,
    "start_time": "2023-04-20T16:01:57.195Z"
   },
   {
    "duration": 4,
    "start_time": "2023-04-20T16:03:20.599Z"
   },
   {
    "duration": 5,
    "start_time": "2023-04-20T16:03:21.393Z"
   },
   {
    "duration": 376,
    "start_time": "2023-04-20T16:03:22.833Z"
   },
   {
    "duration": 352,
    "start_time": "2023-04-20T16:03:24.157Z"
   },
   {
    "duration": 381,
    "start_time": "2023-04-20T16:03:24.727Z"
   },
   {
    "duration": 363,
    "start_time": "2023-04-20T16:03:25.203Z"
   },
   {
    "duration": 338,
    "start_time": "2023-04-20T16:03:31.523Z"
   },
   {
    "duration": 262,
    "start_time": "2023-04-20T16:03:32.455Z"
   },
   {
    "duration": 286,
    "start_time": "2023-04-20T16:03:33.256Z"
   },
   {
    "duration": 1381,
    "start_time": "2023-04-20T17:48:18.402Z"
   },
   {
    "duration": 4,
    "start_time": "2023-04-20T17:48:19.786Z"
   },
   {
    "duration": 30,
    "start_time": "2023-04-20T17:48:19.796Z"
   },
   {
    "duration": 20,
    "start_time": "2023-04-20T17:48:19.828Z"
   },
   {
    "duration": 31,
    "start_time": "2023-04-20T17:48:19.849Z"
   },
   {
    "duration": 442,
    "start_time": "2023-04-20T17:48:19.882Z"
   },
   {
    "duration": 399,
    "start_time": "2023-04-20T17:48:20.326Z"
   },
   {
    "duration": 385,
    "start_time": "2023-04-20T17:48:20.727Z"
   },
   {
    "duration": 441,
    "start_time": "2023-04-20T17:48:21.113Z"
   },
   {
    "duration": 293,
    "start_time": "2023-04-20T17:48:21.556Z"
   },
   {
    "duration": 359,
    "start_time": "2023-04-20T17:48:21.851Z"
   },
   {
    "duration": 241,
    "start_time": "2023-04-20T17:48:22.212Z"
   },
   {
    "duration": 112,
    "start_time": "2023-04-20T17:48:22.455Z"
   },
   {
    "duration": 0,
    "start_time": "2023-04-20T17:48:22.569Z"
   },
   {
    "duration": 0,
    "start_time": "2023-04-20T17:48:22.570Z"
   },
   {
    "duration": 0,
    "start_time": "2023-04-20T17:48:22.571Z"
   },
   {
    "duration": 0,
    "start_time": "2023-04-20T17:48:22.572Z"
   },
   {
    "duration": 0,
    "start_time": "2023-04-20T17:48:22.583Z"
   },
   {
    "duration": 0,
    "start_time": "2023-04-20T17:48:22.584Z"
   },
   {
    "duration": 0,
    "start_time": "2023-04-20T17:48:22.585Z"
   },
   {
    "duration": 0,
    "start_time": "2023-04-20T17:48:22.586Z"
   },
   {
    "duration": 22,
    "start_time": "2023-04-20T17:49:12.848Z"
   },
   {
    "duration": 1753,
    "start_time": "2023-04-20T17:50:11.063Z"
   },
   {
    "duration": 2,
    "start_time": "2023-04-20T17:50:12.820Z"
   },
   {
    "duration": 7,
    "start_time": "2023-04-20T17:50:12.824Z"
   },
   {
    "duration": 13,
    "start_time": "2023-04-20T17:50:12.832Z"
   },
   {
    "duration": 6,
    "start_time": "2023-04-20T17:50:12.847Z"
   },
   {
    "duration": 461,
    "start_time": "2023-04-20T17:50:12.854Z"
   },
   {
    "duration": 461,
    "start_time": "2023-04-20T17:50:13.316Z"
   },
   {
    "duration": 414,
    "start_time": "2023-04-20T17:50:13.778Z"
   },
   {
    "duration": 438,
    "start_time": "2023-04-20T17:50:14.194Z"
   },
   {
    "duration": 373,
    "start_time": "2023-04-20T17:50:14.634Z"
   },
   {
    "duration": 458,
    "start_time": "2023-04-20T17:50:15.010Z"
   },
   {
    "duration": 259,
    "start_time": "2023-04-20T17:50:15.470Z"
   },
   {
    "duration": 159,
    "start_time": "2023-04-20T17:50:15.731Z"
   },
   {
    "duration": 174,
    "start_time": "2023-04-20T17:50:15.894Z"
   },
   {
    "duration": 0,
    "start_time": "2023-04-20T17:50:16.070Z"
   },
   {
    "duration": 0,
    "start_time": "2023-04-20T17:50:16.071Z"
   },
   {
    "duration": 0,
    "start_time": "2023-04-20T17:50:16.072Z"
   },
   {
    "duration": 0,
    "start_time": "2023-04-20T17:50:16.083Z"
   },
   {
    "duration": 0,
    "start_time": "2023-04-20T17:50:16.085Z"
   },
   {
    "duration": 0,
    "start_time": "2023-04-20T17:50:16.086Z"
   },
   {
    "duration": 0,
    "start_time": "2023-04-20T17:50:16.088Z"
   },
   {
    "duration": 164,
    "start_time": "2023-04-20T17:50:46.820Z"
   },
   {
    "duration": 65,
    "start_time": "2023-04-20T17:50:47.420Z"
   },
   {
    "duration": 3,
    "start_time": "2023-04-20T17:50:50.462Z"
   },
   {
    "duration": 4,
    "start_time": "2023-04-20T17:50:52.276Z"
   },
   {
    "duration": 6,
    "start_time": "2023-04-20T17:50:53.047Z"
   },
   {
    "duration": 13,
    "start_time": "2023-04-20T17:50:55.453Z"
   },
   {
    "duration": 9,
    "start_time": "2023-04-20T17:50:56.107Z"
   },
   {
    "duration": 159,
    "start_time": "2023-04-20T17:51:15.226Z"
   },
   {
    "duration": 73,
    "start_time": "2023-04-20T17:51:15.521Z"
   },
   {
    "duration": 212,
    "start_time": "2023-04-20T17:51:18.373Z"
   },
   {
    "duration": 1484,
    "start_time": "2023-04-20T18:00:27.796Z"
   },
   {
    "duration": 3,
    "start_time": "2023-04-20T18:00:29.283Z"
   },
   {
    "duration": 8,
    "start_time": "2023-04-20T18:00:29.287Z"
   },
   {
    "duration": 27,
    "start_time": "2023-04-20T18:00:29.297Z"
   },
   {
    "duration": 26,
    "start_time": "2023-04-20T18:00:29.325Z"
   },
   {
    "duration": 371,
    "start_time": "2023-04-20T18:00:29.353Z"
   },
   {
    "duration": 440,
    "start_time": "2023-04-20T18:00:29.726Z"
   },
   {
    "duration": 461,
    "start_time": "2023-04-20T18:00:30.167Z"
   },
   {
    "duration": 402,
    "start_time": "2023-04-20T18:00:30.629Z"
   },
   {
    "duration": 264,
    "start_time": "2023-04-20T18:00:31.034Z"
   },
   {
    "duration": 341,
    "start_time": "2023-04-20T18:00:31.300Z"
   },
   {
    "duration": 245,
    "start_time": "2023-04-20T18:00:31.643Z"
   },
   {
    "duration": 121,
    "start_time": "2023-04-20T18:00:31.889Z"
   },
   {
    "duration": 0,
    "start_time": "2023-04-20T18:00:32.011Z"
   },
   {
    "duration": 0,
    "start_time": "2023-04-20T18:00:32.012Z"
   },
   {
    "duration": 0,
    "start_time": "2023-04-20T18:00:32.014Z"
   },
   {
    "duration": 0,
    "start_time": "2023-04-20T18:00:32.015Z"
   },
   {
    "duration": 0,
    "start_time": "2023-04-20T18:00:32.016Z"
   },
   {
    "duration": 0,
    "start_time": "2023-04-20T18:00:32.017Z"
   },
   {
    "duration": 0,
    "start_time": "2023-04-20T18:00:32.018Z"
   },
   {
    "duration": 0,
    "start_time": "2023-04-20T18:00:32.019Z"
   },
   {
    "duration": 0,
    "start_time": "2023-04-20T18:00:32.020Z"
   },
   {
    "duration": 1373,
    "start_time": "2023-04-20T18:01:10.135Z"
   },
   {
    "duration": 2,
    "start_time": "2023-04-20T18:01:11.512Z"
   },
   {
    "duration": 12,
    "start_time": "2023-04-20T18:01:11.516Z"
   },
   {
    "duration": 9,
    "start_time": "2023-04-20T18:01:11.529Z"
   },
   {
    "duration": 11,
    "start_time": "2023-04-20T18:01:11.541Z"
   },
   {
    "duration": 389,
    "start_time": "2023-04-20T18:01:11.554Z"
   },
   {
    "duration": 431,
    "start_time": "2023-04-20T18:01:11.944Z"
   },
   {
    "duration": 382,
    "start_time": "2023-04-20T18:01:12.377Z"
   },
   {
    "duration": 400,
    "start_time": "2023-04-20T18:01:12.761Z"
   },
   {
    "duration": 251,
    "start_time": "2023-04-20T18:01:13.162Z"
   },
   {
    "duration": 351,
    "start_time": "2023-04-20T18:01:13.415Z"
   },
   {
    "duration": 246,
    "start_time": "2023-04-20T18:01:13.768Z"
   },
   {
    "duration": 386,
    "start_time": "2023-04-20T18:01:14.016Z"
   },
   {
    "duration": 279,
    "start_time": "2023-04-20T18:01:14.406Z"
   },
   {
    "duration": 198,
    "start_time": "2023-04-20T18:01:14.688Z"
   },
   {
    "duration": 201,
    "start_time": "2023-04-20T18:01:14.888Z"
   },
   {
    "duration": 89,
    "start_time": "2023-04-20T18:01:15.096Z"
   },
   {
    "duration": 34,
    "start_time": "2023-04-20T18:01:15.187Z"
   },
   {
    "duration": 23,
    "start_time": "2023-04-20T18:01:15.223Z"
   },
   {
    "duration": 337,
    "start_time": "2023-04-20T18:01:15.247Z"
   },
   {
    "duration": 0,
    "start_time": "2023-04-20T18:01:15.585Z"
   },
   {
    "duration": 0,
    "start_time": "2023-04-20T18:01:15.587Z"
   },
   {
    "duration": 13,
    "start_time": "2023-04-20T18:01:36.027Z"
   },
   {
    "duration": 95,
    "start_time": "2023-04-20T18:02:02.596Z"
   },
   {
    "duration": 141,
    "start_time": "2023-04-20T18:02:27.553Z"
   },
   {
    "duration": 1711,
    "start_time": "2023-04-20T18:03:57.602Z"
   },
   {
    "duration": 6,
    "start_time": "2023-04-20T18:04:26.806Z"
   },
   {
    "duration": 1755,
    "start_time": "2023-04-20T18:04:28.504Z"
   },
   {
    "duration": 194,
    "start_time": "2023-04-20T18:05:35.092Z"
   },
   {
    "duration": 1643,
    "start_time": "2023-04-20T18:05:50.532Z"
   },
   {
    "duration": 1657,
    "start_time": "2023-04-20T18:06:14.429Z"
   },
   {
    "duration": 1528,
    "start_time": "2023-04-20T18:06:37.877Z"
   },
   {
    "duration": 3,
    "start_time": "2023-04-20T18:06:39.409Z"
   },
   {
    "duration": 20,
    "start_time": "2023-04-20T18:06:39.413Z"
   },
   {
    "duration": 27,
    "start_time": "2023-04-20T18:06:39.436Z"
   },
   {
    "duration": 18,
    "start_time": "2023-04-20T18:06:39.464Z"
   },
   {
    "duration": 421,
    "start_time": "2023-04-20T18:06:39.483Z"
   },
   {
    "duration": 460,
    "start_time": "2023-04-20T18:06:39.907Z"
   },
   {
    "duration": 430,
    "start_time": "2023-04-20T18:06:40.369Z"
   },
   {
    "duration": 422,
    "start_time": "2023-04-20T18:06:40.800Z"
   },
   {
    "duration": 325,
    "start_time": "2023-04-20T18:06:41.225Z"
   },
   {
    "duration": 386,
    "start_time": "2023-04-20T18:06:41.552Z"
   },
   {
    "duration": 266,
    "start_time": "2023-04-20T18:06:41.940Z"
   },
   {
    "duration": 395,
    "start_time": "2023-04-20T18:06:42.207Z"
   },
   {
    "duration": 281,
    "start_time": "2023-04-20T18:06:42.604Z"
   },
   {
    "duration": 200,
    "start_time": "2023-04-20T18:06:42.887Z"
   },
   {
    "duration": 195,
    "start_time": "2023-04-20T18:06:43.090Z"
   },
   {
    "duration": 5,
    "start_time": "2023-04-20T18:06:43.287Z"
   },
   {
    "duration": 89,
    "start_time": "2023-04-20T18:06:43.295Z"
   },
   {
    "duration": 14,
    "start_time": "2023-04-20T18:06:43.386Z"
   },
   {
    "duration": 1752,
    "start_time": "2023-04-20T18:06:43.401Z"
   },
   {
    "duration": 1682,
    "start_time": "2023-04-20T18:06:45.155Z"
   },
   {
    "duration": 310,
    "start_time": "2023-04-20T18:06:46.839Z"
   },
   {
    "duration": 1447,
    "start_time": "2023-04-20T18:10:07.531Z"
   },
   {
    "duration": 3,
    "start_time": "2023-04-20T18:10:08.981Z"
   },
   {
    "duration": 13,
    "start_time": "2023-04-20T18:10:08.985Z"
   },
   {
    "duration": 18,
    "start_time": "2023-04-20T18:10:08.999Z"
   },
   {
    "duration": 7,
    "start_time": "2023-04-20T18:10:09.019Z"
   },
   {
    "duration": 387,
    "start_time": "2023-04-20T18:10:09.027Z"
   },
   {
    "duration": 502,
    "start_time": "2023-04-20T18:10:09.416Z"
   },
   {
    "duration": 375,
    "start_time": "2023-04-20T18:10:09.920Z"
   },
   {
    "duration": 411,
    "start_time": "2023-04-20T18:10:10.297Z"
   },
   {
    "duration": 286,
    "start_time": "2023-04-20T18:10:10.710Z"
   },
   {
    "duration": 374,
    "start_time": "2023-04-20T18:10:10.998Z"
   },
   {
    "duration": 280,
    "start_time": "2023-04-20T18:10:11.374Z"
   },
   {
    "duration": 130,
    "start_time": "2023-04-20T18:10:11.656Z"
   },
   {
    "duration": 198,
    "start_time": "2023-04-20T18:10:11.792Z"
   },
   {
    "duration": 196,
    "start_time": "2023-04-20T18:10:11.993Z"
   },
   {
    "duration": 94,
    "start_time": "2023-04-20T18:10:12.191Z"
   },
   {
    "duration": 8,
    "start_time": "2023-04-20T18:10:12.287Z"
   },
   {
    "duration": 10,
    "start_time": "2023-04-20T18:10:12.297Z"
   },
   {
    "duration": 1742,
    "start_time": "2023-04-20T18:10:12.309Z"
   },
   {
    "duration": 1806,
    "start_time": "2023-04-20T18:10:14.052Z"
   },
   {
    "duration": 1757,
    "start_time": "2023-04-20T18:10:15.859Z"
   },
   {
    "duration": 6,
    "start_time": "2023-04-20T18:12:05.905Z"
   },
   {
    "duration": 1516,
    "start_time": "2023-04-20T18:12:07.711Z"
   },
   {
    "duration": 1387,
    "start_time": "2023-04-20T18:12:32.696Z"
   },
   {
    "duration": 2,
    "start_time": "2023-04-20T18:12:34.087Z"
   },
   {
    "duration": 12,
    "start_time": "2023-04-20T18:12:34.091Z"
   },
   {
    "duration": 24,
    "start_time": "2023-04-20T18:12:34.105Z"
   },
   {
    "duration": 10,
    "start_time": "2023-04-20T18:12:34.130Z"
   },
   {
    "duration": 402,
    "start_time": "2023-04-20T18:12:34.142Z"
   },
   {
    "duration": 427,
    "start_time": "2023-04-20T18:12:34.546Z"
   },
   {
    "duration": 417,
    "start_time": "2023-04-20T18:12:34.975Z"
   },
   {
    "duration": 400,
    "start_time": "2023-04-20T18:12:35.394Z"
   },
   {
    "duration": 302,
    "start_time": "2023-04-20T18:12:35.797Z"
   },
   {
    "duration": 374,
    "start_time": "2023-04-20T18:12:36.101Z"
   },
   {
    "duration": 273,
    "start_time": "2023-04-20T18:12:36.477Z"
   },
   {
    "duration": 130,
    "start_time": "2023-04-20T18:12:36.752Z"
   },
   {
    "duration": 201,
    "start_time": "2023-04-20T18:12:36.889Z"
   },
   {
    "duration": 196,
    "start_time": "2023-04-20T18:12:37.094Z"
   },
   {
    "duration": 92,
    "start_time": "2023-04-20T18:12:37.293Z"
   },
   {
    "duration": 11,
    "start_time": "2023-04-20T18:12:37.387Z"
   },
   {
    "duration": 12,
    "start_time": "2023-04-20T18:12:37.400Z"
   },
   {
    "duration": 1795,
    "start_time": "2023-04-20T18:12:37.413Z"
   },
   {
    "duration": 1820,
    "start_time": "2023-04-20T18:12:39.210Z"
   },
   {
    "duration": 1746,
    "start_time": "2023-04-20T18:12:41.032Z"
   },
   {
    "duration": 1513,
    "start_time": "2023-04-20T18:15:20.250Z"
   },
   {
    "duration": 2,
    "start_time": "2023-04-20T18:15:21.767Z"
   },
   {
    "duration": 6,
    "start_time": "2023-04-20T18:15:21.771Z"
   },
   {
    "duration": 4,
    "start_time": "2023-04-20T18:15:21.779Z"
   },
   {
    "duration": 6,
    "start_time": "2023-04-20T18:15:21.785Z"
   },
   {
    "duration": 374,
    "start_time": "2023-04-20T18:15:21.792Z"
   },
   {
    "duration": 402,
    "start_time": "2023-04-20T18:15:22.168Z"
   },
   {
    "duration": 378,
    "start_time": "2023-04-20T18:15:22.571Z"
   },
   {
    "duration": 353,
    "start_time": "2023-04-20T18:15:22.951Z"
   },
   {
    "duration": 267,
    "start_time": "2023-04-20T18:15:23.306Z"
   },
   {
    "duration": 349,
    "start_time": "2023-04-20T18:15:23.575Z"
   },
   {
    "duration": 243,
    "start_time": "2023-04-20T18:15:23.926Z"
   },
   {
    "duration": 430,
    "start_time": "2023-04-20T18:15:24.171Z"
   },
   {
    "duration": 281,
    "start_time": "2023-04-20T18:15:24.604Z"
   },
   {
    "duration": 199,
    "start_time": "2023-04-20T18:15:24.887Z"
   },
   {
    "duration": 200,
    "start_time": "2023-04-20T18:15:25.088Z"
   },
   {
    "duration": 94,
    "start_time": "2023-04-20T18:15:25.291Z"
   },
   {
    "duration": 24,
    "start_time": "2023-04-20T18:15:25.387Z"
   },
   {
    "duration": 11,
    "start_time": "2023-04-20T18:15:25.413Z"
   },
   {
    "duration": 1433,
    "start_time": "2023-04-20T18:15:25.426Z"
   },
   {
    "duration": 1440,
    "start_time": "2023-04-20T18:15:26.860Z"
   },
   {
    "duration": 1454,
    "start_time": "2023-04-20T18:15:28.302Z"
   },
   {
    "duration": 1563,
    "start_time": "2023-04-20T18:16:51.815Z"
   },
   {
    "duration": 3,
    "start_time": "2023-04-20T18:16:53.381Z"
   },
   {
    "duration": 53,
    "start_time": "2023-04-20T18:16:53.385Z"
   },
   {
    "duration": 39,
    "start_time": "2023-04-20T18:16:53.440Z"
   },
   {
    "duration": 48,
    "start_time": "2023-04-20T18:16:53.481Z"
   },
   {
    "duration": 417,
    "start_time": "2023-04-20T18:16:53.531Z"
   },
   {
    "duration": 421,
    "start_time": "2023-04-20T18:16:53.950Z"
   },
   {
    "duration": 440,
    "start_time": "2023-04-20T18:16:54.373Z"
   },
   {
    "duration": 362,
    "start_time": "2023-04-20T18:16:54.816Z"
   },
   {
    "duration": 240,
    "start_time": "2023-04-20T18:16:55.183Z"
   },
   {
    "duration": 368,
    "start_time": "2023-04-20T18:16:55.426Z"
   },
   {
    "duration": 266,
    "start_time": "2023-04-20T18:16:55.795Z"
   },
   {
    "duration": 443,
    "start_time": "2023-04-20T18:16:56.064Z"
   },
   {
    "duration": 202,
    "start_time": "2023-04-20T18:16:56.586Z"
   },
   {
    "duration": 195,
    "start_time": "2023-04-20T18:16:56.793Z"
   },
   {
    "duration": 199,
    "start_time": "2023-04-20T18:16:56.991Z"
   },
   {
    "duration": 93,
    "start_time": "2023-04-20T18:16:57.192Z"
   },
   {
    "duration": 25,
    "start_time": "2023-04-20T18:16:57.287Z"
   },
   {
    "duration": 14,
    "start_time": "2023-04-20T18:16:57.313Z"
   },
   {
    "duration": 110,
    "start_time": "2023-04-20T18:16:57.328Z"
   },
   {
    "duration": 0,
    "start_time": "2023-04-20T18:16:57.440Z"
   },
   {
    "duration": 0,
    "start_time": "2023-04-20T18:16:57.442Z"
   },
   {
    "duration": 1485,
    "start_time": "2023-04-20T18:18:06.942Z"
   },
   {
    "duration": 3,
    "start_time": "2023-04-20T18:18:08.430Z"
   },
   {
    "duration": 18,
    "start_time": "2023-04-20T18:18:08.434Z"
   },
   {
    "duration": 36,
    "start_time": "2023-04-20T18:18:08.454Z"
   },
   {
    "duration": 16,
    "start_time": "2023-04-20T18:18:08.491Z"
   },
   {
    "duration": 406,
    "start_time": "2023-04-20T18:18:08.509Z"
   },
   {
    "duration": 432,
    "start_time": "2023-04-20T18:18:08.917Z"
   },
   {
    "duration": 376,
    "start_time": "2023-04-20T18:18:09.351Z"
   },
   {
    "duration": 461,
    "start_time": "2023-04-20T18:18:09.729Z"
   },
   {
    "duration": 285,
    "start_time": "2023-04-20T18:18:10.192Z"
   },
   {
    "duration": 373,
    "start_time": "2023-04-20T18:18:10.482Z"
   },
   {
    "duration": 286,
    "start_time": "2023-04-20T18:18:10.856Z"
   },
   {
    "duration": 460,
    "start_time": "2023-04-20T18:18:11.144Z"
   },
   {
    "duration": 285,
    "start_time": "2023-04-20T18:18:11.606Z"
   },
   {
    "duration": 194,
    "start_time": "2023-04-20T18:18:11.896Z"
   },
   {
    "duration": 195,
    "start_time": "2023-04-20T18:18:12.093Z"
   },
   {
    "duration": 94,
    "start_time": "2023-04-20T18:18:12.291Z"
   },
   {
    "duration": 13,
    "start_time": "2023-04-20T18:18:12.387Z"
   },
   {
    "duration": 16,
    "start_time": "2023-04-20T18:18:12.402Z"
   },
   {
    "duration": 130,
    "start_time": "2023-04-20T18:18:12.420Z"
   },
   {
    "duration": 0,
    "start_time": "2023-04-20T18:18:12.552Z"
   },
   {
    "duration": 0,
    "start_time": "2023-04-20T18:18:12.553Z"
   },
   {
    "duration": 1525,
    "start_time": "2023-04-20T18:18:39.871Z"
   },
   {
    "duration": 3,
    "start_time": "2023-04-20T18:18:41.399Z"
   },
   {
    "duration": 12,
    "start_time": "2023-04-20T18:18:41.403Z"
   },
   {
    "duration": 26,
    "start_time": "2023-04-20T18:18:41.416Z"
   },
   {
    "duration": 8,
    "start_time": "2023-04-20T18:18:41.445Z"
   },
   {
    "duration": 391,
    "start_time": "2023-04-20T18:18:41.455Z"
   },
   {
    "duration": 424,
    "start_time": "2023-04-20T18:18:41.848Z"
   },
   {
    "duration": 390,
    "start_time": "2023-04-20T18:18:42.274Z"
   },
   {
    "duration": 399,
    "start_time": "2023-04-20T18:18:42.666Z"
   },
   {
    "duration": 265,
    "start_time": "2023-04-20T18:18:43.067Z"
   },
   {
    "duration": 367,
    "start_time": "2023-04-20T18:18:43.334Z"
   },
   {
    "duration": 276,
    "start_time": "2023-04-20T18:18:43.703Z"
   },
   {
    "duration": 424,
    "start_time": "2023-04-20T18:18:43.984Z"
   },
   {
    "duration": 275,
    "start_time": "2023-04-20T18:18:44.412Z"
   },
   {
    "duration": 201,
    "start_time": "2023-04-20T18:18:44.689Z"
   },
   {
    "duration": 197,
    "start_time": "2023-04-20T18:18:44.892Z"
   },
   {
    "duration": 94,
    "start_time": "2023-04-20T18:18:45.091Z"
   },
   {
    "duration": 16,
    "start_time": "2023-04-20T18:18:45.186Z"
   },
   {
    "duration": 6,
    "start_time": "2023-04-20T18:18:45.203Z"
   },
   {
    "duration": 120,
    "start_time": "2023-04-20T18:18:45.210Z"
   },
   {
    "duration": 0,
    "start_time": "2023-04-20T18:18:45.332Z"
   },
   {
    "duration": 0,
    "start_time": "2023-04-20T18:18:45.333Z"
   },
   {
    "duration": 6,
    "start_time": "2023-04-20T18:19:03.505Z"
   },
   {
    "duration": 1554,
    "start_time": "2023-04-20T18:19:04.684Z"
   },
   {
    "duration": 6,
    "start_time": "2023-04-20T18:20:10.265Z"
   },
   {
    "duration": 1468,
    "start_time": "2023-04-20T18:20:11.640Z"
   },
   {
    "duration": 5,
    "start_time": "2023-04-20T18:20:34.223Z"
   },
   {
    "duration": 1441,
    "start_time": "2023-04-20T18:20:35.229Z"
   },
   {
    "duration": 1565,
    "start_time": "2023-04-20T18:20:39.841Z"
   },
   {
    "duration": 1471,
    "start_time": "2023-04-20T18:20:42.199Z"
   },
   {
    "duration": 1304,
    "start_time": "2023-04-20T18:21:10.930Z"
   },
   {
    "duration": 3,
    "start_time": "2023-04-20T18:21:12.237Z"
   },
   {
    "duration": 11,
    "start_time": "2023-04-20T18:21:12.242Z"
   },
   {
    "duration": 11,
    "start_time": "2023-04-20T18:21:12.254Z"
   },
   {
    "duration": 6,
    "start_time": "2023-04-20T18:21:12.267Z"
   },
   {
    "duration": 378,
    "start_time": "2023-04-20T18:21:12.274Z"
   },
   {
    "duration": 382,
    "start_time": "2023-04-20T18:21:12.653Z"
   },
   {
    "duration": 353,
    "start_time": "2023-04-20T18:21:13.037Z"
   },
   {
    "duration": 395,
    "start_time": "2023-04-20T18:21:13.392Z"
   },
   {
    "duration": 242,
    "start_time": "2023-04-20T18:21:13.788Z"
   },
   {
    "duration": 326,
    "start_time": "2023-04-20T18:21:14.032Z"
   },
   {
    "duration": 251,
    "start_time": "2023-04-20T18:21:14.360Z"
   },
   {
    "duration": 387,
    "start_time": "2023-04-20T18:21:14.613Z"
   },
   {
    "duration": 203,
    "start_time": "2023-04-20T18:21:15.083Z"
   },
   {
    "duration": 199,
    "start_time": "2023-04-20T18:21:15.288Z"
   },
   {
    "duration": 199,
    "start_time": "2023-04-20T18:21:15.489Z"
   },
   {
    "duration": 93,
    "start_time": "2023-04-20T18:21:15.690Z"
   },
   {
    "duration": 17,
    "start_time": "2023-04-20T18:21:15.785Z"
   },
   {
    "duration": 8,
    "start_time": "2023-04-20T18:21:15.804Z"
   },
   {
    "duration": 1484,
    "start_time": "2023-04-20T18:21:15.813Z"
   },
   {
    "duration": 1425,
    "start_time": "2023-04-20T18:21:17.299Z"
   },
   {
    "duration": 1461,
    "start_time": "2023-04-20T18:21:18.726Z"
   },
   {
    "duration": 1541,
    "start_time": "2023-04-20T18:22:13.760Z"
   },
   {
    "duration": 2,
    "start_time": "2023-04-20T18:22:15.305Z"
   },
   {
    "duration": 7,
    "start_time": "2023-04-20T18:22:15.308Z"
   },
   {
    "duration": 7,
    "start_time": "2023-04-20T18:22:15.316Z"
   },
   {
    "duration": 7,
    "start_time": "2023-04-20T18:22:15.325Z"
   },
   {
    "duration": 410,
    "start_time": "2023-04-20T18:22:15.334Z"
   },
   {
    "duration": 445,
    "start_time": "2023-04-20T18:22:15.745Z"
   },
   {
    "duration": 406,
    "start_time": "2023-04-20T18:22:16.192Z"
   },
   {
    "duration": 406,
    "start_time": "2023-04-20T18:22:16.600Z"
   },
   {
    "duration": 276,
    "start_time": "2023-04-20T18:22:17.009Z"
   },
   {
    "duration": 357,
    "start_time": "2023-04-20T18:22:17.287Z"
   },
   {
    "duration": 263,
    "start_time": "2023-04-20T18:22:17.645Z"
   },
   {
    "duration": 401,
    "start_time": "2023-04-20T18:22:17.909Z"
   },
   {
    "duration": 199,
    "start_time": "2023-04-20T18:22:18.386Z"
   },
   {
    "duration": 205,
    "start_time": "2023-04-20T18:22:18.587Z"
   },
   {
    "duration": 102,
    "start_time": "2023-04-20T18:22:18.884Z"
   },
   {
    "duration": 94,
    "start_time": "2023-04-20T18:22:18.988Z"
   },
   {
    "duration": 51,
    "start_time": "2023-04-20T18:22:19.084Z"
   },
   {
    "duration": 14,
    "start_time": "2023-04-20T18:22:19.137Z"
   },
   {
    "duration": 1807,
    "start_time": "2023-04-20T18:22:19.153Z"
   },
   {
    "duration": 1668,
    "start_time": "2023-04-20T18:22:20.961Z"
   },
   {
    "duration": 1693,
    "start_time": "2023-04-20T18:22:22.631Z"
   },
   {
    "duration": 1336,
    "start_time": "2023-04-20T18:25:47.615Z"
   },
   {
    "duration": 3,
    "start_time": "2023-04-20T18:25:48.955Z"
   },
   {
    "duration": 14,
    "start_time": "2023-04-20T18:25:48.959Z"
   },
   {
    "duration": 9,
    "start_time": "2023-04-20T18:25:48.975Z"
   },
   {
    "duration": 16,
    "start_time": "2023-04-20T18:25:48.986Z"
   },
   {
    "duration": 408,
    "start_time": "2023-04-20T18:25:49.004Z"
   },
   {
    "duration": 401,
    "start_time": "2023-04-20T18:25:49.414Z"
   },
   {
    "duration": 390,
    "start_time": "2023-04-20T18:25:49.819Z"
   },
   {
    "duration": 397,
    "start_time": "2023-04-20T18:25:50.211Z"
   },
   {
    "duration": 277,
    "start_time": "2023-04-20T18:25:50.610Z"
   },
   {
    "duration": 350,
    "start_time": "2023-04-20T18:25:50.890Z"
   },
   {
    "duration": 250,
    "start_time": "2023-04-20T18:25:51.242Z"
   },
   {
    "duration": 402,
    "start_time": "2023-04-20T18:25:51.495Z"
   },
   {
    "duration": 288,
    "start_time": "2023-04-20T18:25:51.900Z"
   },
   {
    "duration": 199,
    "start_time": "2023-04-20T18:25:52.190Z"
   },
   {
    "duration": 196,
    "start_time": "2023-04-20T18:25:52.393Z"
   },
   {
    "duration": 94,
    "start_time": "2023-04-20T18:25:52.591Z"
   },
   {
    "duration": 25,
    "start_time": "2023-04-20T18:25:52.687Z"
   },
   {
    "duration": 22,
    "start_time": "2023-04-20T18:25:52.713Z"
   },
   {
    "duration": 340,
    "start_time": "2023-04-20T18:25:52.737Z"
   },
   {
    "duration": 0,
    "start_time": "2023-04-20T18:25:53.083Z"
   },
   {
    "duration": 0,
    "start_time": "2023-04-20T18:25:53.084Z"
   },
   {
    "duration": 1492,
    "start_time": "2023-04-20T18:26:54.260Z"
   },
   {
    "duration": 3,
    "start_time": "2023-04-20T18:26:55.755Z"
   },
   {
    "duration": 13,
    "start_time": "2023-04-20T18:26:55.760Z"
   },
   {
    "duration": 12,
    "start_time": "2023-04-20T18:26:55.774Z"
   },
   {
    "duration": 7,
    "start_time": "2023-04-20T18:26:55.789Z"
   },
   {
    "duration": 404,
    "start_time": "2023-04-20T18:26:55.797Z"
   },
   {
    "duration": 423,
    "start_time": "2023-04-20T18:26:56.203Z"
   },
   {
    "duration": 402,
    "start_time": "2023-04-20T18:26:56.628Z"
   },
   {
    "duration": 380,
    "start_time": "2023-04-20T18:26:57.032Z"
   },
   {
    "duration": 271,
    "start_time": "2023-04-20T18:26:57.414Z"
   },
   {
    "duration": 374,
    "start_time": "2023-04-20T18:26:57.687Z"
   },
   {
    "duration": 283,
    "start_time": "2023-04-20T18:26:58.063Z"
   },
   {
    "duration": 450,
    "start_time": "2023-04-20T18:26:58.348Z"
   },
   {
    "duration": 295,
    "start_time": "2023-04-20T18:26:58.889Z"
   },
   {
    "duration": 102,
    "start_time": "2023-04-20T18:26:59.186Z"
   },
   {
    "duration": 200,
    "start_time": "2023-04-20T18:26:59.290Z"
   },
   {
    "duration": 92,
    "start_time": "2023-04-20T18:26:59.493Z"
   },
   {
    "duration": 28,
    "start_time": "2023-04-20T18:26:59.586Z"
   },
   {
    "duration": 12,
    "start_time": "2023-04-20T18:26:59.616Z"
   },
   {
    "duration": 352,
    "start_time": "2023-04-20T18:26:59.630Z"
   },
   {
    "duration": 0,
    "start_time": "2023-04-20T18:26:59.984Z"
   },
   {
    "duration": 0,
    "start_time": "2023-04-20T18:26:59.986Z"
   },
   {
    "duration": 1492,
    "start_time": "2023-04-20T18:28:10.544Z"
   },
   {
    "duration": 4,
    "start_time": "2023-04-20T18:28:12.039Z"
   },
   {
    "duration": 30,
    "start_time": "2023-04-20T18:28:12.044Z"
   },
   {
    "duration": 25,
    "start_time": "2023-04-20T18:28:12.076Z"
   },
   {
    "duration": 6,
    "start_time": "2023-04-20T18:28:12.104Z"
   },
   {
    "duration": 418,
    "start_time": "2023-04-20T18:28:12.112Z"
   },
   {
    "duration": 431,
    "start_time": "2023-04-20T18:28:12.532Z"
   },
   {
    "duration": 424,
    "start_time": "2023-04-20T18:28:12.965Z"
   },
   {
    "duration": 404,
    "start_time": "2023-04-20T18:28:13.390Z"
   },
   {
    "duration": 281,
    "start_time": "2023-04-20T18:28:13.796Z"
   },
   {
    "duration": 375,
    "start_time": "2023-04-20T18:28:14.078Z"
   },
   {
    "duration": 291,
    "start_time": "2023-04-20T18:28:14.455Z"
   },
   {
    "duration": 455,
    "start_time": "2023-04-20T18:28:14.748Z"
   },
   {
    "duration": 204,
    "start_time": "2023-04-20T18:28:15.288Z"
   },
   {
    "duration": 106,
    "start_time": "2023-04-20T18:28:15.584Z"
   },
   {
    "duration": 197,
    "start_time": "2023-04-20T18:28:15.693Z"
   },
   {
    "duration": 93,
    "start_time": "2023-04-20T18:28:15.892Z"
   },
   {
    "duration": 14,
    "start_time": "2023-04-20T18:28:15.986Z"
   },
   {
    "duration": 11,
    "start_time": "2023-04-20T18:28:16.002Z"
   },
   {
    "duration": 299,
    "start_time": "2023-04-20T18:28:16.015Z"
   },
   {
    "duration": 0,
    "start_time": "2023-04-20T18:28:16.316Z"
   },
   {
    "duration": 0,
    "start_time": "2023-04-20T18:28:16.317Z"
   },
   {
    "duration": 1375,
    "start_time": "2023-04-20T18:29:09.333Z"
   },
   {
    "duration": 3,
    "start_time": "2023-04-20T18:29:10.711Z"
   },
   {
    "duration": 11,
    "start_time": "2023-04-20T18:29:10.715Z"
   },
   {
    "duration": 12,
    "start_time": "2023-04-20T18:29:10.727Z"
   },
   {
    "duration": 11,
    "start_time": "2023-04-20T18:29:10.741Z"
   },
   {
    "duration": 410,
    "start_time": "2023-04-20T18:29:10.753Z"
   },
   {
    "duration": 445,
    "start_time": "2023-04-20T18:29:11.164Z"
   },
   {
    "duration": 374,
    "start_time": "2023-04-20T18:29:11.611Z"
   },
   {
    "duration": 393,
    "start_time": "2023-04-20T18:29:11.987Z"
   },
   {
    "duration": 281,
    "start_time": "2023-04-20T18:29:12.383Z"
   },
   {
    "duration": 356,
    "start_time": "2023-04-20T18:29:12.666Z"
   },
   {
    "duration": 280,
    "start_time": "2023-04-20T18:29:13.024Z"
   },
   {
    "duration": 398,
    "start_time": "2023-04-20T18:29:13.306Z"
   },
   {
    "duration": 277,
    "start_time": "2023-04-20T18:29:13.708Z"
   },
   {
    "duration": 198,
    "start_time": "2023-04-20T18:29:13.993Z"
   },
   {
    "duration": 192,
    "start_time": "2023-04-20T18:29:14.193Z"
   },
   {
    "duration": 4,
    "start_time": "2023-04-20T18:29:14.387Z"
   },
   {
    "duration": 104,
    "start_time": "2023-04-20T18:29:14.393Z"
   },
   {
    "duration": 6,
    "start_time": "2023-04-20T18:29:14.499Z"
   },
   {
    "duration": 1758,
    "start_time": "2023-04-20T18:29:14.507Z"
   },
   {
    "duration": 1742,
    "start_time": "2023-04-20T18:29:16.266Z"
   },
   {
    "duration": 1669,
    "start_time": "2023-04-20T18:29:18.010Z"
   },
   {
    "duration": 1403,
    "start_time": "2023-04-20T18:31:22.104Z"
   },
   {
    "duration": 3,
    "start_time": "2023-04-20T18:31:23.510Z"
   },
   {
    "duration": 9,
    "start_time": "2023-04-20T18:31:23.515Z"
   },
   {
    "duration": 5,
    "start_time": "2023-04-20T18:31:23.526Z"
   },
   {
    "duration": 6,
    "start_time": "2023-04-20T18:31:23.532Z"
   },
   {
    "duration": 396,
    "start_time": "2023-04-20T18:31:23.540Z"
   },
   {
    "duration": 479,
    "start_time": "2023-04-20T18:31:23.938Z"
   },
   {
    "duration": 413,
    "start_time": "2023-04-20T18:31:24.419Z"
   },
   {
    "duration": 435,
    "start_time": "2023-04-20T18:31:24.835Z"
   },
   {
    "duration": 311,
    "start_time": "2023-04-20T18:31:25.272Z"
   },
   {
    "duration": 376,
    "start_time": "2023-04-20T18:31:25.585Z"
   },
   {
    "duration": 293,
    "start_time": "2023-04-20T18:31:25.963Z"
   },
   {
    "duration": 444,
    "start_time": "2023-04-20T18:31:26.258Z"
   },
   {
    "duration": 204,
    "start_time": "2023-04-20T18:31:26.786Z"
   },
   {
    "duration": 196,
    "start_time": "2023-04-20T18:31:26.992Z"
   },
   {
    "duration": 196,
    "start_time": "2023-04-20T18:31:27.190Z"
   },
   {
    "duration": 4,
    "start_time": "2023-04-20T18:31:27.388Z"
   },
   {
    "duration": 100,
    "start_time": "2023-04-20T18:31:27.394Z"
   },
   {
    "duration": 7,
    "start_time": "2023-04-20T18:31:27.496Z"
   },
   {
    "duration": 1714,
    "start_time": "2023-04-20T18:31:27.504Z"
   },
   {
    "duration": 1719,
    "start_time": "2023-04-20T18:31:29.219Z"
   },
   {
    "duration": 1734,
    "start_time": "2023-04-20T18:31:30.940Z"
   },
   {
    "duration": 3,
    "start_time": "2023-04-20T18:36:59.060Z"
   },
   {
    "duration": 1561,
    "start_time": "2023-04-20T18:38:08.194Z"
   },
   {
    "duration": 3,
    "start_time": "2023-04-20T18:38:09.759Z"
   },
   {
    "duration": 32,
    "start_time": "2023-04-20T18:38:09.763Z"
   },
   {
    "duration": 25,
    "start_time": "2023-04-20T18:38:09.797Z"
   },
   {
    "duration": 36,
    "start_time": "2023-04-20T18:38:09.824Z"
   },
   {
    "duration": 438,
    "start_time": "2023-04-20T18:38:09.862Z"
   },
   {
    "duration": 433,
    "start_time": "2023-04-20T18:38:10.302Z"
   },
   {
    "duration": 484,
    "start_time": "2023-04-20T18:38:10.737Z"
   },
   {
    "duration": 411,
    "start_time": "2023-04-20T18:38:11.222Z"
   },
   {
    "duration": 330,
    "start_time": "2023-04-20T18:38:11.635Z"
   },
   {
    "duration": 424,
    "start_time": "2023-04-20T18:38:11.967Z"
   },
   {
    "duration": 286,
    "start_time": "2023-04-20T18:38:12.393Z"
   },
   {
    "duration": 178,
    "start_time": "2023-04-20T18:38:12.684Z"
   },
   {
    "duration": 0,
    "start_time": "2023-04-20T18:38:12.864Z"
   },
   {
    "duration": 1,
    "start_time": "2023-04-20T18:38:12.865Z"
   },
   {
    "duration": 0,
    "start_time": "2023-04-20T18:38:12.867Z"
   },
   {
    "duration": 0,
    "start_time": "2023-04-20T18:38:12.868Z"
   },
   {
    "duration": 0,
    "start_time": "2023-04-20T18:38:12.869Z"
   },
   {
    "duration": 0,
    "start_time": "2023-04-20T18:38:12.895Z"
   },
   {
    "duration": 0,
    "start_time": "2023-04-20T18:38:12.897Z"
   },
   {
    "duration": 0,
    "start_time": "2023-04-20T18:38:12.900Z"
   },
   {
    "duration": 0,
    "start_time": "2023-04-20T18:38:12.901Z"
   },
   {
    "duration": 1528,
    "start_time": "2023-04-20T18:39:18.292Z"
   },
   {
    "duration": 4,
    "start_time": "2023-04-20T18:39:19.823Z"
   },
   {
    "duration": 29,
    "start_time": "2023-04-20T18:39:19.829Z"
   },
   {
    "duration": 27,
    "start_time": "2023-04-20T18:39:19.859Z"
   },
   {
    "duration": 41,
    "start_time": "2023-04-20T18:39:19.889Z"
   },
   {
    "duration": 398,
    "start_time": "2023-04-20T18:39:19.931Z"
   },
   {
    "duration": 431,
    "start_time": "2023-04-20T18:39:20.330Z"
   },
   {
    "duration": 428,
    "start_time": "2023-04-20T18:39:20.762Z"
   },
   {
    "duration": 428,
    "start_time": "2023-04-20T18:39:21.193Z"
   },
   {
    "duration": 292,
    "start_time": "2023-04-20T18:39:21.622Z"
   },
   {
    "duration": 372,
    "start_time": "2023-04-20T18:39:21.916Z"
   },
   {
    "duration": 279,
    "start_time": "2023-04-20T18:39:22.289Z"
   },
   {
    "duration": 153,
    "start_time": "2023-04-20T18:39:22.569Z"
   },
   {
    "duration": 0,
    "start_time": "2023-04-20T18:39:22.723Z"
   },
   {
    "duration": 0,
    "start_time": "2023-04-20T18:39:22.724Z"
   },
   {
    "duration": 0,
    "start_time": "2023-04-20T18:39:22.726Z"
   },
   {
    "duration": 0,
    "start_time": "2023-04-20T18:39:22.727Z"
   },
   {
    "duration": 0,
    "start_time": "2023-04-20T18:39:22.728Z"
   },
   {
    "duration": 0,
    "start_time": "2023-04-20T18:39:22.729Z"
   },
   {
    "duration": 0,
    "start_time": "2023-04-20T18:39:22.730Z"
   },
   {
    "duration": 0,
    "start_time": "2023-04-20T18:39:22.731Z"
   },
   {
    "duration": 0,
    "start_time": "2023-04-20T18:39:22.732Z"
   },
   {
    "duration": 1300,
    "start_time": "2023-04-20T18:42:51.830Z"
   },
   {
    "duration": 4,
    "start_time": "2023-04-20T18:42:53.132Z"
   },
   {
    "duration": 25,
    "start_time": "2023-04-20T18:42:53.137Z"
   },
   {
    "duration": 15,
    "start_time": "2023-04-20T18:42:53.164Z"
   },
   {
    "duration": 21,
    "start_time": "2023-04-20T18:42:53.181Z"
   },
   {
    "duration": 410,
    "start_time": "2023-04-20T18:42:53.203Z"
   },
   {
    "duration": 395,
    "start_time": "2023-04-20T18:42:53.614Z"
   },
   {
    "duration": 389,
    "start_time": "2023-04-20T18:42:54.011Z"
   },
   {
    "duration": 388,
    "start_time": "2023-04-20T18:42:54.402Z"
   },
   {
    "duration": 250,
    "start_time": "2023-04-20T18:42:54.792Z"
   },
   {
    "duration": 377,
    "start_time": "2023-04-20T18:42:55.044Z"
   },
   {
    "duration": 291,
    "start_time": "2023-04-20T18:42:55.423Z"
   },
   {
    "duration": 374,
    "start_time": "2023-04-20T18:42:55.716Z"
   },
   {
    "duration": 295,
    "start_time": "2023-04-20T18:42:56.092Z"
   },
   {
    "duration": 198,
    "start_time": "2023-04-20T18:42:56.390Z"
   },
   {
    "duration": 196,
    "start_time": "2023-04-20T18:42:56.590Z"
   },
   {
    "duration": 95,
    "start_time": "2023-04-20T18:42:56.789Z"
   },
   {
    "duration": 5,
    "start_time": "2023-04-20T18:42:56.885Z"
   },
   {
    "duration": 11,
    "start_time": "2023-04-20T18:42:56.891Z"
   },
   {
    "duration": 1711,
    "start_time": "2023-04-20T18:42:56.903Z"
   },
   {
    "duration": 1791,
    "start_time": "2023-04-20T18:42:58.615Z"
   },
   {
    "duration": 1705,
    "start_time": "2023-04-20T18:43:00.408Z"
   },
   {
    "duration": 1386,
    "start_time": "2023-04-20T18:43:16.770Z"
   },
   {
    "duration": 5,
    "start_time": "2023-04-20T18:43:18.158Z"
   },
   {
    "duration": 9,
    "start_time": "2023-04-20T18:43:18.164Z"
   },
   {
    "duration": 24,
    "start_time": "2023-04-20T18:43:18.175Z"
   },
   {
    "duration": 23,
    "start_time": "2023-04-20T18:43:18.201Z"
   },
   {
    "duration": 396,
    "start_time": "2023-04-20T18:43:18.226Z"
   },
   {
    "duration": 402,
    "start_time": "2023-04-20T18:43:18.624Z"
   },
   {
    "duration": 457,
    "start_time": "2023-04-20T18:43:19.028Z"
   },
   {
    "duration": 408,
    "start_time": "2023-04-20T18:43:19.487Z"
   },
   {
    "duration": 262,
    "start_time": "2023-04-20T18:43:19.898Z"
   },
   {
    "duration": 340,
    "start_time": "2023-04-20T18:43:20.162Z"
   },
   {
    "duration": 248,
    "start_time": "2023-04-20T18:43:20.504Z"
   },
   {
    "duration": 531,
    "start_time": "2023-04-20T18:43:20.753Z"
   },
   {
    "duration": 201,
    "start_time": "2023-04-20T18:43:21.287Z"
   },
   {
    "duration": 295,
    "start_time": "2023-04-20T18:43:21.490Z"
   },
   {
    "duration": 107,
    "start_time": "2023-04-20T18:43:21.786Z"
   },
   {
    "duration": 3,
    "start_time": "2023-04-20T18:43:21.984Z"
   },
   {
    "duration": 6,
    "start_time": "2023-04-20T18:43:21.989Z"
   },
   {
    "duration": 13,
    "start_time": "2023-04-20T18:43:21.997Z"
   },
   {
    "duration": 1713,
    "start_time": "2023-04-20T18:43:22.012Z"
   },
   {
    "duration": 1693,
    "start_time": "2023-04-20T18:43:23.727Z"
   },
   {
    "duration": 1694,
    "start_time": "2023-04-20T18:43:25.421Z"
   },
   {
    "duration": 1420,
    "start_time": "2023-04-20T18:50:14.187Z"
   },
   {
    "duration": 4,
    "start_time": "2023-04-20T18:50:15.608Z"
   },
   {
    "duration": 22,
    "start_time": "2023-04-20T18:50:15.614Z"
   },
   {
    "duration": 18,
    "start_time": "2023-04-20T18:50:15.638Z"
   },
   {
    "duration": 12,
    "start_time": "2023-04-20T18:50:15.658Z"
   },
   {
    "duration": 391,
    "start_time": "2023-04-20T18:50:15.671Z"
   },
   {
    "duration": 428,
    "start_time": "2023-04-20T18:50:16.064Z"
   },
   {
    "duration": 378,
    "start_time": "2023-04-20T18:50:16.494Z"
   },
   {
    "duration": 396,
    "start_time": "2023-04-20T18:50:16.874Z"
   },
   {
    "duration": 279,
    "start_time": "2023-04-20T18:50:17.273Z"
   },
   {
    "duration": 344,
    "start_time": "2023-04-20T18:50:17.554Z"
   },
   {
    "duration": 250,
    "start_time": "2023-04-20T18:50:17.900Z"
   },
   {
    "duration": 134,
    "start_time": "2023-04-20T18:50:18.152Z"
   },
   {
    "duration": 0,
    "start_time": "2023-04-20T18:50:18.287Z"
   },
   {
    "duration": 0,
    "start_time": "2023-04-20T18:50:18.288Z"
   },
   {
    "duration": 0,
    "start_time": "2023-04-20T18:50:18.289Z"
   },
   {
    "duration": 0,
    "start_time": "2023-04-20T18:50:18.291Z"
   },
   {
    "duration": 0,
    "start_time": "2023-04-20T18:50:18.291Z"
   },
   {
    "duration": 0,
    "start_time": "2023-04-20T18:50:18.292Z"
   },
   {
    "duration": 0,
    "start_time": "2023-04-20T18:50:18.293Z"
   },
   {
    "duration": 0,
    "start_time": "2023-04-20T18:50:18.294Z"
   },
   {
    "duration": 0,
    "start_time": "2023-04-20T18:50:18.295Z"
   },
   {
    "duration": 1461,
    "start_time": "2023-04-20T18:51:12.958Z"
   },
   {
    "duration": 3,
    "start_time": "2023-04-20T18:51:14.422Z"
   },
   {
    "duration": 30,
    "start_time": "2023-04-20T18:51:14.426Z"
   },
   {
    "duration": 27,
    "start_time": "2023-04-20T18:51:14.457Z"
   },
   {
    "duration": 33,
    "start_time": "2023-04-20T18:51:14.486Z"
   },
   {
    "duration": 401,
    "start_time": "2023-04-20T18:51:14.521Z"
   },
   {
    "duration": 395,
    "start_time": "2023-04-20T18:51:14.924Z"
   },
   {
    "duration": 373,
    "start_time": "2023-04-20T18:51:15.320Z"
   },
   {
    "duration": 421,
    "start_time": "2023-04-20T18:51:15.695Z"
   },
   {
    "duration": 332,
    "start_time": "2023-04-20T18:51:16.118Z"
   },
   {
    "duration": 359,
    "start_time": "2023-04-20T18:51:16.452Z"
   },
   {
    "duration": 257,
    "start_time": "2023-04-20T18:51:16.812Z"
   },
   {
    "duration": 514,
    "start_time": "2023-04-20T18:51:17.070Z"
   },
   {
    "duration": 294,
    "start_time": "2023-04-20T18:51:17.589Z"
   },
   {
    "duration": 105,
    "start_time": "2023-04-20T18:51:17.885Z"
   },
   {
    "duration": 200,
    "start_time": "2023-04-20T18:51:17.992Z"
   },
   {
    "duration": 4,
    "start_time": "2023-04-20T18:51:18.284Z"
   },
   {
    "duration": 33,
    "start_time": "2023-04-20T18:51:18.289Z"
   },
   {
    "duration": 23,
    "start_time": "2023-04-20T18:51:18.324Z"
   },
   {
    "duration": 1813,
    "start_time": "2023-04-20T18:51:18.349Z"
   },
   {
    "duration": 1766,
    "start_time": "2023-04-20T18:51:20.164Z"
   },
   {
    "duration": 1714,
    "start_time": "2023-04-20T18:51:21.932Z"
   },
   {
    "duration": 1459,
    "start_time": "2023-04-20T18:52:09.278Z"
   },
   {
    "duration": 4,
    "start_time": "2023-04-20T18:52:10.741Z"
   },
   {
    "duration": 11,
    "start_time": "2023-04-20T18:52:10.748Z"
   },
   {
    "duration": 22,
    "start_time": "2023-04-20T18:52:10.761Z"
   },
   {
    "duration": 9,
    "start_time": "2023-04-20T18:52:10.787Z"
   },
   {
    "duration": 445,
    "start_time": "2023-04-20T18:52:10.798Z"
   },
   {
    "duration": 476,
    "start_time": "2023-04-20T18:52:11.245Z"
   },
   {
    "duration": 457,
    "start_time": "2023-04-20T18:52:11.724Z"
   },
   {
    "duration": 441,
    "start_time": "2023-04-20T18:52:12.184Z"
   },
   {
    "duration": 278,
    "start_time": "2023-04-20T18:52:12.627Z"
   },
   {
    "duration": 388,
    "start_time": "2023-04-20T18:52:12.908Z"
   },
   {
    "duration": 279,
    "start_time": "2023-04-20T18:52:13.298Z"
   },
   {
    "duration": 500,
    "start_time": "2023-04-20T18:52:13.584Z"
   },
   {
    "duration": 203,
    "start_time": "2023-04-20T18:52:14.088Z"
   },
   {
    "duration": 194,
    "start_time": "2023-04-20T18:52:14.293Z"
   },
   {
    "duration": 190,
    "start_time": "2023-04-20T18:52:14.495Z"
   },
   {
    "duration": 11,
    "start_time": "2023-04-20T18:52:14.687Z"
   },
   {
    "duration": 16,
    "start_time": "2023-04-20T18:52:14.784Z"
   },
   {
    "duration": 20,
    "start_time": "2023-04-20T18:52:14.802Z"
   },
   {
    "duration": 1807,
    "start_time": "2023-04-20T18:52:14.824Z"
   },
   {
    "duration": 1777,
    "start_time": "2023-04-20T18:52:16.633Z"
   },
   {
    "duration": 1710,
    "start_time": "2023-04-20T18:52:18.412Z"
   },
   {
    "duration": 6,
    "start_time": "2023-04-20T18:58:14.217Z"
   },
   {
    "duration": 1841,
    "start_time": "2023-04-20T18:58:15.981Z"
   },
   {
    "duration": 6,
    "start_time": "2023-04-20T18:58:30.243Z"
   },
   {
    "duration": 1618,
    "start_time": "2023-04-20T18:58:31.510Z"
   },
   {
    "duration": 6,
    "start_time": "2023-04-20T19:32:38.089Z"
   },
   {
    "duration": 1781,
    "start_time": "2023-04-20T19:32:39.581Z"
   },
   {
    "duration": 1496,
    "start_time": "2023-04-20T19:33:05.405Z"
   },
   {
    "duration": 3,
    "start_time": "2023-04-20T19:33:06.905Z"
   },
   {
    "duration": 11,
    "start_time": "2023-04-20T19:33:06.909Z"
   },
   {
    "duration": 21,
    "start_time": "2023-04-20T19:33:06.922Z"
   },
   {
    "duration": 19,
    "start_time": "2023-04-20T19:33:06.946Z"
   },
   {
    "duration": 392,
    "start_time": "2023-04-20T19:33:06.967Z"
   },
   {
    "duration": 448,
    "start_time": "2023-04-20T19:33:07.361Z"
   },
   {
    "duration": 401,
    "start_time": "2023-04-20T19:33:07.811Z"
   },
   {
    "duration": 528,
    "start_time": "2023-04-20T19:33:08.214Z"
   },
   {
    "duration": 316,
    "start_time": "2023-04-20T19:33:08.744Z"
   },
   {
    "duration": 365,
    "start_time": "2023-04-20T19:33:09.062Z"
   },
   {
    "duration": 279,
    "start_time": "2023-04-20T19:33:09.429Z"
   },
   {
    "duration": 477,
    "start_time": "2023-04-20T19:33:09.709Z"
   },
   {
    "duration": 195,
    "start_time": "2023-04-20T19:33:10.190Z"
   },
   {
    "duration": 204,
    "start_time": "2023-04-20T19:33:10.387Z"
   },
   {
    "duration": 103,
    "start_time": "2023-04-20T19:33:10.682Z"
   },
   {
    "duration": 3,
    "start_time": "2023-04-20T19:33:10.787Z"
   },
   {
    "duration": 105,
    "start_time": "2023-04-20T19:33:10.792Z"
   },
   {
    "duration": 22,
    "start_time": "2023-04-20T19:33:10.899Z"
   },
   {
    "duration": 1899,
    "start_time": "2023-04-20T19:33:10.922Z"
   },
   {
    "duration": 0,
    "start_time": "2023-04-20T19:33:12.823Z"
   },
   {
    "duration": 0,
    "start_time": "2023-04-20T19:33:12.824Z"
   },
   {
    "duration": 1440,
    "start_time": "2023-04-20T19:33:44.607Z"
   },
   {
    "duration": 3,
    "start_time": "2023-04-20T19:33:46.051Z"
   },
   {
    "duration": 7,
    "start_time": "2023-04-20T19:33:46.056Z"
   },
   {
    "duration": 6,
    "start_time": "2023-04-20T19:33:46.064Z"
   },
   {
    "duration": 5,
    "start_time": "2023-04-20T19:33:46.084Z"
   },
   {
    "duration": 388,
    "start_time": "2023-04-20T19:33:46.091Z"
   },
   {
    "duration": 451,
    "start_time": "2023-04-20T19:33:46.483Z"
   },
   {
    "duration": 463,
    "start_time": "2023-04-20T19:33:46.936Z"
   },
   {
    "duration": 424,
    "start_time": "2023-04-20T19:33:47.401Z"
   },
   {
    "duration": 298,
    "start_time": "2023-04-20T19:33:47.827Z"
   },
   {
    "duration": 359,
    "start_time": "2023-04-20T19:33:48.126Z"
   },
   {
    "duration": 265,
    "start_time": "2023-04-20T19:33:48.488Z"
   },
   {
    "duration": 437,
    "start_time": "2023-04-20T19:33:48.755Z"
   },
   {
    "duration": 289,
    "start_time": "2023-04-20T19:33:49.195Z"
   },
   {
    "duration": 209,
    "start_time": "2023-04-20T19:33:49.486Z"
   },
   {
    "duration": 186,
    "start_time": "2023-04-20T19:33:49.697Z"
   },
   {
    "duration": 4,
    "start_time": "2023-04-20T19:33:49.885Z"
   },
   {
    "duration": 110,
    "start_time": "2023-04-20T19:33:49.891Z"
   },
   {
    "duration": 21,
    "start_time": "2023-04-20T19:33:50.003Z"
   },
   {
    "duration": 1796,
    "start_time": "2023-04-20T19:33:50.026Z"
   },
   {
    "duration": 1756,
    "start_time": "2023-04-20T19:33:51.824Z"
   },
   {
    "duration": 1728,
    "start_time": "2023-04-20T19:33:53.584Z"
   },
   {
    "duration": 1412,
    "start_time": "2023-04-20T19:34:06.929Z"
   },
   {
    "duration": 5,
    "start_time": "2023-04-20T19:34:08.343Z"
   },
   {
    "duration": 28,
    "start_time": "2023-04-20T19:34:08.350Z"
   },
   {
    "duration": 46,
    "start_time": "2023-04-20T19:34:08.381Z"
   },
   {
    "duration": 27,
    "start_time": "2023-04-20T19:34:08.429Z"
   },
   {
    "duration": 430,
    "start_time": "2023-04-20T19:34:08.458Z"
   },
   {
    "duration": 440,
    "start_time": "2023-04-20T19:34:08.891Z"
   },
   {
    "duration": 487,
    "start_time": "2023-04-20T19:34:09.333Z"
   },
   {
    "duration": 496,
    "start_time": "2023-04-20T19:34:09.822Z"
   },
   {
    "duration": 274,
    "start_time": "2023-04-20T19:34:10.321Z"
   },
   {
    "duration": 364,
    "start_time": "2023-04-20T19:34:10.597Z"
   },
   {
    "duration": 261,
    "start_time": "2023-04-20T19:34:10.963Z"
   },
   {
    "duration": 460,
    "start_time": "2023-04-20T19:34:11.225Z"
   },
   {
    "duration": 203,
    "start_time": "2023-04-20T19:34:11.689Z"
   },
   {
    "duration": 192,
    "start_time": "2023-04-20T19:34:11.894Z"
   },
   {
    "duration": 196,
    "start_time": "2023-04-20T19:34:12.087Z"
   },
   {
    "duration": 6,
    "start_time": "2023-04-20T19:34:12.286Z"
   },
   {
    "duration": 89,
    "start_time": "2023-04-20T19:34:12.296Z"
   },
   {
    "duration": 8,
    "start_time": "2023-04-20T19:34:12.388Z"
   },
   {
    "duration": 1889,
    "start_time": "2023-04-20T19:34:12.398Z"
   },
   {
    "duration": 1825,
    "start_time": "2023-04-20T19:34:14.289Z"
   },
   {
    "duration": 1812,
    "start_time": "2023-04-20T19:34:16.116Z"
   },
   {
    "duration": 1524,
    "start_time": "2023-04-21T08:14:10.085Z"
   },
   {
    "duration": 4,
    "start_time": "2023-04-21T08:14:11.613Z"
   },
   {
    "duration": 13,
    "start_time": "2023-04-21T08:14:11.618Z"
   },
   {
    "duration": 10,
    "start_time": "2023-04-21T08:14:11.633Z"
   },
   {
    "duration": 7,
    "start_time": "2023-04-21T08:14:11.644Z"
   },
   {
    "duration": 449,
    "start_time": "2023-04-21T08:14:11.652Z"
   },
   {
    "duration": 449,
    "start_time": "2023-04-21T08:14:12.104Z"
   },
   {
    "duration": 410,
    "start_time": "2023-04-21T08:14:12.555Z"
   },
   {
    "duration": 447,
    "start_time": "2023-04-21T08:14:12.967Z"
   },
   {
    "duration": 306,
    "start_time": "2023-04-21T08:14:13.416Z"
   },
   {
    "duration": 390,
    "start_time": "2023-04-21T08:14:13.724Z"
   },
   {
    "duration": 291,
    "start_time": "2023-04-21T08:14:14.116Z"
   },
   {
    "duration": 410,
    "start_time": "2023-04-21T08:14:14.409Z"
   },
   {
    "duration": 219,
    "start_time": "2023-04-21T08:14:14.899Z"
   },
   {
    "duration": 103,
    "start_time": "2023-04-21T08:14:15.193Z"
   },
   {
    "duration": 212,
    "start_time": "2023-04-21T08:14:15.298Z"
   },
   {
    "duration": 83,
    "start_time": "2023-04-21T08:14:15.512Z"
   },
   {
    "duration": 20,
    "start_time": "2023-04-21T08:14:15.597Z"
   },
   {
    "duration": 12,
    "start_time": "2023-04-21T08:14:15.619Z"
   },
   {
    "duration": 1839,
    "start_time": "2023-04-21T08:14:15.632Z"
   },
   {
    "duration": 1893,
    "start_time": "2023-04-21T08:14:17.473Z"
   },
   {
    "duration": 1864,
    "start_time": "2023-04-21T08:14:19.367Z"
   },
   {
    "duration": 4,
    "start_time": "2023-04-21T08:18:15.378Z"
   },
   {
    "duration": 5,
    "start_time": "2023-04-21T08:18:33.202Z"
   },
   {
    "duration": 4,
    "start_time": "2023-04-21T08:18:39.482Z"
   },
   {
    "duration": 1604,
    "start_time": "2023-04-21T08:20:59.076Z"
   },
   {
    "duration": 5,
    "start_time": "2023-04-21T08:21:00.682Z"
   },
   {
    "duration": 23,
    "start_time": "2023-04-21T08:21:00.688Z"
   },
   {
    "duration": 34,
    "start_time": "2023-04-21T08:21:00.714Z"
   },
   {
    "duration": 25,
    "start_time": "2023-04-21T08:21:00.750Z"
   },
   {
    "duration": 449,
    "start_time": "2023-04-21T08:21:00.777Z"
   },
   {
    "duration": 423,
    "start_time": "2023-04-21T08:21:01.228Z"
   },
   {
    "duration": 445,
    "start_time": "2023-04-21T08:21:01.653Z"
   },
   {
    "duration": 433,
    "start_time": "2023-04-21T08:21:02.100Z"
   },
   {
    "duration": 291,
    "start_time": "2023-04-21T08:21:02.536Z"
   },
   {
    "duration": 381,
    "start_time": "2023-04-21T08:21:02.829Z"
   },
   {
    "duration": 298,
    "start_time": "2023-04-21T08:21:03.212Z"
   },
   {
    "duration": 292,
    "start_time": "2023-04-21T08:21:03.512Z"
   },
   {
    "duration": 200,
    "start_time": "2023-04-21T08:21:03.809Z"
   },
   {
    "duration": 188,
    "start_time": "2023-04-21T08:21:04.011Z"
   },
   {
    "duration": 202,
    "start_time": "2023-04-21T08:21:04.201Z"
   },
   {
    "duration": 4,
    "start_time": "2023-04-21T08:21:04.407Z"
   },
   {
    "duration": 90,
    "start_time": "2023-04-21T08:21:04.413Z"
   },
   {
    "duration": 6,
    "start_time": "2023-04-21T08:21:04.506Z"
   },
   {
    "duration": 1852,
    "start_time": "2023-04-21T08:21:04.514Z"
   },
   {
    "duration": 1848,
    "start_time": "2023-04-21T08:21:06.368Z"
   },
   {
    "duration": 1822,
    "start_time": "2023-04-21T08:21:08.218Z"
   },
   {
    "duration": 6,
    "start_time": "2023-04-21T08:26:47.325Z"
   },
   {
    "duration": 1727,
    "start_time": "2023-04-21T08:26:50.816Z"
   },
   {
    "duration": 1621,
    "start_time": "2023-04-21T08:26:52.545Z"
   },
   {
    "duration": 1613,
    "start_time": "2023-04-21T08:26:54.167Z"
   },
   {
    "duration": 5,
    "start_time": "2023-04-21T08:32:43.326Z"
   },
   {
    "duration": 1729,
    "start_time": "2023-04-21T08:32:45.729Z"
   },
   {
    "duration": 1822,
    "start_time": "2023-04-21T08:32:47.461Z"
   },
   {
    "duration": 1794,
    "start_time": "2023-04-21T08:32:49.285Z"
   },
   {
    "duration": 1503,
    "start_time": "2023-04-21T09:23:25.950Z"
   },
   {
    "duration": 5,
    "start_time": "2023-04-21T09:23:27.454Z"
   },
   {
    "duration": 7,
    "start_time": "2023-04-21T09:23:27.460Z"
   },
   {
    "duration": 8,
    "start_time": "2023-04-21T09:23:27.469Z"
   },
   {
    "duration": 12,
    "start_time": "2023-04-21T09:23:27.478Z"
   },
   {
    "duration": 1570,
    "start_time": "2023-04-21T09:23:27.492Z"
   },
   {
    "duration": 435,
    "start_time": "2023-04-21T09:23:29.063Z"
   },
   {
    "duration": 358,
    "start_time": "2023-04-21T09:23:29.499Z"
   },
   {
    "duration": 368,
    "start_time": "2023-04-21T09:23:29.859Z"
   },
   {
    "duration": 246,
    "start_time": "2023-04-21T09:23:30.229Z"
   },
   {
    "duration": 357,
    "start_time": "2023-04-21T09:23:30.477Z"
   },
   {
    "duration": 259,
    "start_time": "2023-04-21T09:23:30.835Z"
   },
   {
    "duration": 376,
    "start_time": "2023-04-21T09:23:31.096Z"
   },
   {
    "duration": 283,
    "start_time": "2023-04-21T09:23:31.473Z"
   },
   {
    "duration": 117,
    "start_time": "2023-04-21T09:23:31.758Z"
   },
   {
    "duration": 123,
    "start_time": "2023-04-21T09:23:31.956Z"
   },
   {
    "duration": 4,
    "start_time": "2023-04-21T09:23:32.156Z"
   },
   {
    "duration": 94,
    "start_time": "2023-04-21T09:23:32.162Z"
   },
   {
    "duration": 5,
    "start_time": "2023-04-21T09:23:32.258Z"
   },
   {
    "duration": 1429,
    "start_time": "2023-04-21T09:23:32.264Z"
   },
   {
    "duration": 1393,
    "start_time": "2023-04-21T09:23:33.695Z"
   },
   {
    "duration": 1425,
    "start_time": "2023-04-21T09:23:35.090Z"
   },
   {
    "duration": 1430,
    "start_time": "2023-04-21T09:40:29.502Z"
   },
   {
    "duration": 4,
    "start_time": "2023-04-21T09:40:30.936Z"
   },
   {
    "duration": 70,
    "start_time": "2023-04-21T09:40:30.942Z"
   },
   {
    "duration": 22,
    "start_time": "2023-04-21T09:40:31.014Z"
   },
   {
    "duration": 68,
    "start_time": "2023-04-21T09:40:31.039Z"
   },
   {
    "duration": 414,
    "start_time": "2023-04-21T09:40:31.110Z"
   },
   {
    "duration": 464,
    "start_time": "2023-04-21T09:40:31.526Z"
   },
   {
    "duration": 396,
    "start_time": "2023-04-21T09:40:31.992Z"
   },
   {
    "duration": 386,
    "start_time": "2023-04-21T09:40:32.389Z"
   },
   {
    "duration": 324,
    "start_time": "2023-04-21T09:40:32.781Z"
   },
   {
    "duration": 357,
    "start_time": "2023-04-21T09:40:33.107Z"
   },
   {
    "duration": 253,
    "start_time": "2023-04-21T09:40:33.465Z"
   },
   {
    "duration": 438,
    "start_time": "2023-04-21T09:40:33.720Z"
   },
   {
    "duration": 200,
    "start_time": "2023-04-21T09:40:34.162Z"
   },
   {
    "duration": 197,
    "start_time": "2023-04-21T09:40:34.365Z"
   },
   {
    "duration": 122,
    "start_time": "2023-04-21T09:40:34.566Z"
   },
   {
    "duration": 8,
    "start_time": "2023-04-21T09:40:34.760Z"
   },
   {
    "duration": 83,
    "start_time": "2023-04-21T09:40:34.775Z"
   },
   {
    "duration": 10,
    "start_time": "2023-04-21T09:40:34.863Z"
   },
   {
    "duration": 1504,
    "start_time": "2023-04-21T09:40:34.875Z"
   },
   {
    "duration": 1563,
    "start_time": "2023-04-21T09:40:36.381Z"
   },
   {
    "duration": 1539,
    "start_time": "2023-04-21T09:40:37.946Z"
   },
   {
    "duration": 3,
    "start_time": "2023-04-21T09:42:05.246Z"
   },
   {
    "duration": 1554,
    "start_time": "2023-04-22T09:34:52.634Z"
   },
   {
    "duration": 4,
    "start_time": "2023-04-22T09:34:54.191Z"
   },
   {
    "duration": 16,
    "start_time": "2023-04-22T09:34:54.196Z"
   },
   {
    "duration": 7,
    "start_time": "2023-04-22T09:34:54.216Z"
   },
   {
    "duration": 10,
    "start_time": "2023-04-22T09:34:54.225Z"
   },
   {
    "duration": 407,
    "start_time": "2023-04-22T09:34:54.237Z"
   },
   {
    "duration": 501,
    "start_time": "2023-04-22T09:34:54.646Z"
   },
   {
    "duration": 446,
    "start_time": "2023-04-22T09:34:55.149Z"
   },
   {
    "duration": 437,
    "start_time": "2023-04-22T09:34:55.597Z"
   },
   {
    "duration": 284,
    "start_time": "2023-04-22T09:34:56.038Z"
   },
   {
    "duration": 411,
    "start_time": "2023-04-22T09:34:56.324Z"
   },
   {
    "duration": 330,
    "start_time": "2023-04-22T09:34:56.737Z"
   },
   {
    "duration": 454,
    "start_time": "2023-04-22T09:34:57.069Z"
   },
   {
    "duration": 194,
    "start_time": "2023-04-22T09:34:57.527Z"
   },
   {
    "duration": 205,
    "start_time": "2023-04-22T09:34:57.723Z"
   },
   {
    "duration": 186,
    "start_time": "2023-04-22T09:34:57.930Z"
   },
   {
    "duration": 6,
    "start_time": "2023-04-22T09:34:58.119Z"
   },
   {
    "duration": 97,
    "start_time": "2023-04-22T09:34:58.127Z"
   },
   {
    "duration": 39,
    "start_time": "2023-04-22T09:34:58.226Z"
   },
   {
    "duration": 1827,
    "start_time": "2023-04-22T09:34:58.267Z"
   },
   {
    "duration": 1764,
    "start_time": "2023-04-22T09:35:00.096Z"
   },
   {
    "duration": 1735,
    "start_time": "2023-04-22T09:35:01.861Z"
   },
   {
    "duration": 1526,
    "start_time": "2023-04-22T09:37:06.803Z"
   },
   {
    "duration": 4,
    "start_time": "2023-04-22T09:37:08.333Z"
   },
   {
    "duration": 4,
    "start_time": "2023-04-22T09:37:08.339Z"
   },
   {
    "duration": 5,
    "start_time": "2023-04-22T09:37:08.346Z"
   },
   {
    "duration": 6,
    "start_time": "2023-04-22T09:37:08.354Z"
   },
   {
    "duration": 408,
    "start_time": "2023-04-22T09:37:08.362Z"
   },
   {
    "duration": 483,
    "start_time": "2023-04-22T09:37:08.773Z"
   },
   {
    "duration": 378,
    "start_time": "2023-04-22T09:37:09.258Z"
   },
   {
    "duration": 388,
    "start_time": "2023-04-22T09:37:09.638Z"
   },
   {
    "duration": 268,
    "start_time": "2023-04-22T09:37:10.028Z"
   },
   {
    "duration": 369,
    "start_time": "2023-04-22T09:37:10.298Z"
   },
   {
    "duration": 282,
    "start_time": "2023-04-22T09:37:10.669Z"
   },
   {
    "duration": 461,
    "start_time": "2023-04-22T09:37:10.953Z"
   },
   {
    "duration": 107,
    "start_time": "2023-04-22T09:37:11.511Z"
   },
   {
    "duration": 102,
    "start_time": "2023-04-22T09:37:11.711Z"
   },
   {
    "duration": 198,
    "start_time": "2023-04-22T09:37:11.816Z"
   },
   {
    "duration": 95,
    "start_time": "2023-04-22T09:37:12.016Z"
   },
   {
    "duration": 4,
    "start_time": "2023-04-22T09:37:12.113Z"
   },
   {
    "duration": 6,
    "start_time": "2023-04-22T09:37:12.119Z"
   },
   {
    "duration": 1633,
    "start_time": "2023-04-22T09:37:12.127Z"
   },
   {
    "duration": 1573,
    "start_time": "2023-04-22T09:37:13.762Z"
   },
   {
    "duration": 1595,
    "start_time": "2023-04-22T09:37:15.337Z"
   }
  ],
  "kernelspec": {
   "display_name": "Python 3 (ipykernel)",
   "language": "python",
   "name": "python3"
  },
  "language_info": {
   "codemirror_mode": {
    "name": "ipython",
    "version": 3
   },
   "file_extension": ".py",
   "mimetype": "text/x-python",
   "name": "python",
   "nbconvert_exporter": "python",
   "pygments_lexer": "ipython3",
   "version": "3.9.5"
  },
  "toc": {
   "base_numbering": 1,
   "nav_menu": {},
   "number_sections": true,
   "sideBar": true,
   "skip_h1_title": true,
   "title_cell": "Table of Contents",
   "title_sidebar": "Contents",
   "toc_cell": false,
   "toc_position": {},
   "toc_section_display": true,
   "toc_window_display": false
  }
 },
 "nbformat": 4,
 "nbformat_minor": 2
}
