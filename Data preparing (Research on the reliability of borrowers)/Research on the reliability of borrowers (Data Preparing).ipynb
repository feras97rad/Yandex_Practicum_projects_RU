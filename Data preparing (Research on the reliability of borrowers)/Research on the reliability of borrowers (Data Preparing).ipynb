{
 "cells": [
  {
   "cell_type": "markdown",
   "id": "52e366bf",
   "metadata": {
    "deletable": false,
    "editable": false,
    "id": "c81daeeb"
   },
   "source": [
    "# Исследование надежности заемщиков\n"
   ]
  },
  {
   "cell_type": "markdown",
   "id": "f7c3bd3e",
   "metadata": {
    "deletable": false,
    "editable": false,
    "id": "827c20bf"
   },
   "source": [
    "Во второй части проекта вы выполните шаги 3 и 4. Их вручную проверит ревьюер.\n",
    "Чтобы вам не пришлось писать код заново для шагов 1 и 2, мы добавили авторские решения в ячейки с кодом. \n",
    "\n"
   ]
  },
  {
   "cell_type": "markdown",
   "id": "e7bf7844",
   "metadata": {
    "deletable": false,
    "editable": false,
    "id": "744d7639"
   },
   "source": [
    "## Откройте таблицу и изучите общую информацию о данных"
   ]
  },
  {
   "cell_type": "markdown",
   "id": "30cee1a0",
   "metadata": {
    "deletable": false,
    "editable": false,
    "id": "e7a14c31"
   },
   "source": [
    "**Задание 1. Импортируйте библиотеку pandas. Считайте данные из csv-файла в датафрейм и сохраните в переменную `data`. Путь к файлу:**\n",
    "\n",
    "`/datasets/data.csv`"
   ]
  },
  {
   "cell_type": "code",
   "execution_count": 1,
   "id": "20f2f3d1",
   "metadata": {
    "deletable": false,
    "id": "7bcf75c9"
   },
   "outputs": [],
   "source": [
    "import pandas as pd\n",
    "\n",
    "\n",
    "try:\n",
    "    data = pd.read_csv('/datasets/data.csv')\n",
    "except:\n",
    "    data = pd.read_csv('https://code.s3.yandex.net/datasets/data.csv')"
   ]
  },
  {
   "cell_type": "markdown",
   "id": "345d01ee",
   "metadata": {
    "deletable": false,
    "editable": false,
    "id": "b8038fe3"
   },
   "source": [
    "**Задание 2. Выведите первые 20 строчек датафрейма `data` на экран.**"
   ]
  },
  {
   "cell_type": "code",
   "execution_count": 2,
   "id": "b9284a9d",
   "metadata": {
    "deletable": false,
    "id": "2a7cab99",
    "outputId": "1a8f3ef2-d323-4ec2-ddf7-89670b5944c4"
   },
   "outputs": [
    {
     "data": {
      "text/html": [
       "<div>\n",
       "<style scoped>\n",
       "    .dataframe tbody tr th:only-of-type {\n",
       "        vertical-align: middle;\n",
       "    }\n",
       "\n",
       "    .dataframe tbody tr th {\n",
       "        vertical-align: top;\n",
       "    }\n",
       "\n",
       "    .dataframe thead th {\n",
       "        text-align: right;\n",
       "    }\n",
       "</style>\n",
       "<table border=\"1\" class=\"dataframe\">\n",
       "  <thead>\n",
       "    <tr style=\"text-align: right;\">\n",
       "      <th></th>\n",
       "      <th>children</th>\n",
       "      <th>days_employed</th>\n",
       "      <th>dob_years</th>\n",
       "      <th>education</th>\n",
       "      <th>education_id</th>\n",
       "      <th>family_status</th>\n",
       "      <th>family_status_id</th>\n",
       "      <th>gender</th>\n",
       "      <th>income_type</th>\n",
       "      <th>debt</th>\n",
       "      <th>total_income</th>\n",
       "      <th>purpose</th>\n",
       "    </tr>\n",
       "  </thead>\n",
       "  <tbody>\n",
       "    <tr>\n",
       "      <th>0</th>\n",
       "      <td>1</td>\n",
       "      <td>-8437.673028</td>\n",
       "      <td>42</td>\n",
       "      <td>высшее</td>\n",
       "      <td>0</td>\n",
       "      <td>женат / замужем</td>\n",
       "      <td>0</td>\n",
       "      <td>F</td>\n",
       "      <td>сотрудник</td>\n",
       "      <td>0</td>\n",
       "      <td>253875.639453</td>\n",
       "      <td>покупка жилья</td>\n",
       "    </tr>\n",
       "    <tr>\n",
       "      <th>1</th>\n",
       "      <td>1</td>\n",
       "      <td>-4024.803754</td>\n",
       "      <td>36</td>\n",
       "      <td>среднее</td>\n",
       "      <td>1</td>\n",
       "      <td>женат / замужем</td>\n",
       "      <td>0</td>\n",
       "      <td>F</td>\n",
       "      <td>сотрудник</td>\n",
       "      <td>0</td>\n",
       "      <td>112080.014102</td>\n",
       "      <td>приобретение автомобиля</td>\n",
       "    </tr>\n",
       "    <tr>\n",
       "      <th>2</th>\n",
       "      <td>0</td>\n",
       "      <td>-5623.422610</td>\n",
       "      <td>33</td>\n",
       "      <td>Среднее</td>\n",
       "      <td>1</td>\n",
       "      <td>женат / замужем</td>\n",
       "      <td>0</td>\n",
       "      <td>M</td>\n",
       "      <td>сотрудник</td>\n",
       "      <td>0</td>\n",
       "      <td>145885.952297</td>\n",
       "      <td>покупка жилья</td>\n",
       "    </tr>\n",
       "    <tr>\n",
       "      <th>3</th>\n",
       "      <td>3</td>\n",
       "      <td>-4124.747207</td>\n",
       "      <td>32</td>\n",
       "      <td>среднее</td>\n",
       "      <td>1</td>\n",
       "      <td>женат / замужем</td>\n",
       "      <td>0</td>\n",
       "      <td>M</td>\n",
       "      <td>сотрудник</td>\n",
       "      <td>0</td>\n",
       "      <td>267628.550329</td>\n",
       "      <td>дополнительное образование</td>\n",
       "    </tr>\n",
       "    <tr>\n",
       "      <th>4</th>\n",
       "      <td>0</td>\n",
       "      <td>340266.072047</td>\n",
       "      <td>53</td>\n",
       "      <td>среднее</td>\n",
       "      <td>1</td>\n",
       "      <td>гражданский брак</td>\n",
       "      <td>1</td>\n",
       "      <td>F</td>\n",
       "      <td>пенсионер</td>\n",
       "      <td>0</td>\n",
       "      <td>158616.077870</td>\n",
       "      <td>сыграть свадьбу</td>\n",
       "    </tr>\n",
       "    <tr>\n",
       "      <th>5</th>\n",
       "      <td>0</td>\n",
       "      <td>-926.185831</td>\n",
       "      <td>27</td>\n",
       "      <td>высшее</td>\n",
       "      <td>0</td>\n",
       "      <td>гражданский брак</td>\n",
       "      <td>1</td>\n",
       "      <td>M</td>\n",
       "      <td>компаньон</td>\n",
       "      <td>0</td>\n",
       "      <td>255763.565419</td>\n",
       "      <td>покупка жилья</td>\n",
       "    </tr>\n",
       "    <tr>\n",
       "      <th>6</th>\n",
       "      <td>0</td>\n",
       "      <td>-2879.202052</td>\n",
       "      <td>43</td>\n",
       "      <td>высшее</td>\n",
       "      <td>0</td>\n",
       "      <td>женат / замужем</td>\n",
       "      <td>0</td>\n",
       "      <td>F</td>\n",
       "      <td>компаньон</td>\n",
       "      <td>0</td>\n",
       "      <td>240525.971920</td>\n",
       "      <td>операции с жильем</td>\n",
       "    </tr>\n",
       "    <tr>\n",
       "      <th>7</th>\n",
       "      <td>0</td>\n",
       "      <td>-152.779569</td>\n",
       "      <td>50</td>\n",
       "      <td>СРЕДНЕЕ</td>\n",
       "      <td>1</td>\n",
       "      <td>женат / замужем</td>\n",
       "      <td>0</td>\n",
       "      <td>M</td>\n",
       "      <td>сотрудник</td>\n",
       "      <td>0</td>\n",
       "      <td>135823.934197</td>\n",
       "      <td>образование</td>\n",
       "    </tr>\n",
       "    <tr>\n",
       "      <th>8</th>\n",
       "      <td>2</td>\n",
       "      <td>-6929.865299</td>\n",
       "      <td>35</td>\n",
       "      <td>ВЫСШЕЕ</td>\n",
       "      <td>0</td>\n",
       "      <td>гражданский брак</td>\n",
       "      <td>1</td>\n",
       "      <td>F</td>\n",
       "      <td>сотрудник</td>\n",
       "      <td>0</td>\n",
       "      <td>95856.832424</td>\n",
       "      <td>на проведение свадьбы</td>\n",
       "    </tr>\n",
       "    <tr>\n",
       "      <th>9</th>\n",
       "      <td>0</td>\n",
       "      <td>-2188.756445</td>\n",
       "      <td>41</td>\n",
       "      <td>среднее</td>\n",
       "      <td>1</td>\n",
       "      <td>женат / замужем</td>\n",
       "      <td>0</td>\n",
       "      <td>M</td>\n",
       "      <td>сотрудник</td>\n",
       "      <td>0</td>\n",
       "      <td>144425.938277</td>\n",
       "      <td>покупка жилья для семьи</td>\n",
       "    </tr>\n",
       "    <tr>\n",
       "      <th>10</th>\n",
       "      <td>2</td>\n",
       "      <td>-4171.483647</td>\n",
       "      <td>36</td>\n",
       "      <td>высшее</td>\n",
       "      <td>0</td>\n",
       "      <td>женат / замужем</td>\n",
       "      <td>0</td>\n",
       "      <td>M</td>\n",
       "      <td>компаньон</td>\n",
       "      <td>0</td>\n",
       "      <td>113943.491460</td>\n",
       "      <td>покупка недвижимости</td>\n",
       "    </tr>\n",
       "    <tr>\n",
       "      <th>11</th>\n",
       "      <td>0</td>\n",
       "      <td>-792.701887</td>\n",
       "      <td>40</td>\n",
       "      <td>среднее</td>\n",
       "      <td>1</td>\n",
       "      <td>женат / замужем</td>\n",
       "      <td>0</td>\n",
       "      <td>F</td>\n",
       "      <td>сотрудник</td>\n",
       "      <td>0</td>\n",
       "      <td>77069.234271</td>\n",
       "      <td>покупка коммерческой недвижимости</td>\n",
       "    </tr>\n",
       "    <tr>\n",
       "      <th>12</th>\n",
       "      <td>0</td>\n",
       "      <td>NaN</td>\n",
       "      <td>65</td>\n",
       "      <td>среднее</td>\n",
       "      <td>1</td>\n",
       "      <td>гражданский брак</td>\n",
       "      <td>1</td>\n",
       "      <td>M</td>\n",
       "      <td>пенсионер</td>\n",
       "      <td>0</td>\n",
       "      <td>NaN</td>\n",
       "      <td>сыграть свадьбу</td>\n",
       "    </tr>\n",
       "    <tr>\n",
       "      <th>13</th>\n",
       "      <td>0</td>\n",
       "      <td>-1846.641941</td>\n",
       "      <td>54</td>\n",
       "      <td>неоконченное высшее</td>\n",
       "      <td>2</td>\n",
       "      <td>женат / замужем</td>\n",
       "      <td>0</td>\n",
       "      <td>F</td>\n",
       "      <td>сотрудник</td>\n",
       "      <td>0</td>\n",
       "      <td>130458.228857</td>\n",
       "      <td>приобретение автомобиля</td>\n",
       "    </tr>\n",
       "    <tr>\n",
       "      <th>14</th>\n",
       "      <td>0</td>\n",
       "      <td>-1844.956182</td>\n",
       "      <td>56</td>\n",
       "      <td>высшее</td>\n",
       "      <td>0</td>\n",
       "      <td>гражданский брак</td>\n",
       "      <td>1</td>\n",
       "      <td>F</td>\n",
       "      <td>компаньон</td>\n",
       "      <td>1</td>\n",
       "      <td>165127.911772</td>\n",
       "      <td>покупка жилой недвижимости</td>\n",
       "    </tr>\n",
       "    <tr>\n",
       "      <th>15</th>\n",
       "      <td>1</td>\n",
       "      <td>-972.364419</td>\n",
       "      <td>26</td>\n",
       "      <td>среднее</td>\n",
       "      <td>1</td>\n",
       "      <td>женат / замужем</td>\n",
       "      <td>0</td>\n",
       "      <td>F</td>\n",
       "      <td>сотрудник</td>\n",
       "      <td>0</td>\n",
       "      <td>116820.904450</td>\n",
       "      <td>строительство собственной недвижимости</td>\n",
       "    </tr>\n",
       "    <tr>\n",
       "      <th>16</th>\n",
       "      <td>0</td>\n",
       "      <td>-1719.934226</td>\n",
       "      <td>35</td>\n",
       "      <td>среднее</td>\n",
       "      <td>1</td>\n",
       "      <td>женат / замужем</td>\n",
       "      <td>0</td>\n",
       "      <td>F</td>\n",
       "      <td>сотрудник</td>\n",
       "      <td>0</td>\n",
       "      <td>289202.704229</td>\n",
       "      <td>недвижимость</td>\n",
       "    </tr>\n",
       "    <tr>\n",
       "      <th>17</th>\n",
       "      <td>0</td>\n",
       "      <td>-2369.999720</td>\n",
       "      <td>33</td>\n",
       "      <td>высшее</td>\n",
       "      <td>0</td>\n",
       "      <td>гражданский брак</td>\n",
       "      <td>1</td>\n",
       "      <td>M</td>\n",
       "      <td>сотрудник</td>\n",
       "      <td>0</td>\n",
       "      <td>90410.586745</td>\n",
       "      <td>строительство недвижимости</td>\n",
       "    </tr>\n",
       "    <tr>\n",
       "      <th>18</th>\n",
       "      <td>0</td>\n",
       "      <td>400281.136913</td>\n",
       "      <td>53</td>\n",
       "      <td>среднее</td>\n",
       "      <td>1</td>\n",
       "      <td>вдовец / вдова</td>\n",
       "      <td>2</td>\n",
       "      <td>F</td>\n",
       "      <td>пенсионер</td>\n",
       "      <td>0</td>\n",
       "      <td>56823.777243</td>\n",
       "      <td>на покупку подержанного автомобиля</td>\n",
       "    </tr>\n",
       "    <tr>\n",
       "      <th>19</th>\n",
       "      <td>0</td>\n",
       "      <td>-10038.818549</td>\n",
       "      <td>48</td>\n",
       "      <td>СРЕДНЕЕ</td>\n",
       "      <td>1</td>\n",
       "      <td>в разводе</td>\n",
       "      <td>3</td>\n",
       "      <td>F</td>\n",
       "      <td>сотрудник</td>\n",
       "      <td>0</td>\n",
       "      <td>242831.107982</td>\n",
       "      <td>на покупку своего автомобиля</td>\n",
       "    </tr>\n",
       "  </tbody>\n",
       "</table>\n",
       "</div>"
      ],
      "text/plain": [
       "    children  days_employed  dob_years            education  education_id  \\\n",
       "0          1   -8437.673028         42               высшее             0   \n",
       "1          1   -4024.803754         36              среднее             1   \n",
       "2          0   -5623.422610         33              Среднее             1   \n",
       "3          3   -4124.747207         32              среднее             1   \n",
       "4          0  340266.072047         53              среднее             1   \n",
       "5          0    -926.185831         27               высшее             0   \n",
       "6          0   -2879.202052         43               высшее             0   \n",
       "7          0    -152.779569         50              СРЕДНЕЕ             1   \n",
       "8          2   -6929.865299         35               ВЫСШЕЕ             0   \n",
       "9          0   -2188.756445         41              среднее             1   \n",
       "10         2   -4171.483647         36               высшее             0   \n",
       "11         0    -792.701887         40              среднее             1   \n",
       "12         0            NaN         65              среднее             1   \n",
       "13         0   -1846.641941         54  неоконченное высшее             2   \n",
       "14         0   -1844.956182         56               высшее             0   \n",
       "15         1    -972.364419         26              среднее             1   \n",
       "16         0   -1719.934226         35              среднее             1   \n",
       "17         0   -2369.999720         33               высшее             0   \n",
       "18         0  400281.136913         53              среднее             1   \n",
       "19         0  -10038.818549         48              СРЕДНЕЕ             1   \n",
       "\n",
       "       family_status  family_status_id gender income_type  debt  \\\n",
       "0    женат / замужем                 0      F   сотрудник     0   \n",
       "1    женат / замужем                 0      F   сотрудник     0   \n",
       "2    женат / замужем                 0      M   сотрудник     0   \n",
       "3    женат / замужем                 0      M   сотрудник     0   \n",
       "4   гражданский брак                 1      F   пенсионер     0   \n",
       "5   гражданский брак                 1      M   компаньон     0   \n",
       "6    женат / замужем                 0      F   компаньон     0   \n",
       "7    женат / замужем                 0      M   сотрудник     0   \n",
       "8   гражданский брак                 1      F   сотрудник     0   \n",
       "9    женат / замужем                 0      M   сотрудник     0   \n",
       "10   женат / замужем                 0      M   компаньон     0   \n",
       "11   женат / замужем                 0      F   сотрудник     0   \n",
       "12  гражданский брак                 1      M   пенсионер     0   \n",
       "13   женат / замужем                 0      F   сотрудник     0   \n",
       "14  гражданский брак                 1      F   компаньон     1   \n",
       "15   женат / замужем                 0      F   сотрудник     0   \n",
       "16   женат / замужем                 0      F   сотрудник     0   \n",
       "17  гражданский брак                 1      M   сотрудник     0   \n",
       "18    вдовец / вдова                 2      F   пенсионер     0   \n",
       "19         в разводе                 3      F   сотрудник     0   \n",
       "\n",
       "     total_income                                 purpose  \n",
       "0   253875.639453                           покупка жилья  \n",
       "1   112080.014102                 приобретение автомобиля  \n",
       "2   145885.952297                           покупка жилья  \n",
       "3   267628.550329              дополнительное образование  \n",
       "4   158616.077870                         сыграть свадьбу  \n",
       "5   255763.565419                           покупка жилья  \n",
       "6   240525.971920                       операции с жильем  \n",
       "7   135823.934197                             образование  \n",
       "8    95856.832424                   на проведение свадьбы  \n",
       "9   144425.938277                 покупка жилья для семьи  \n",
       "10  113943.491460                    покупка недвижимости  \n",
       "11   77069.234271       покупка коммерческой недвижимости  \n",
       "12            NaN                         сыграть свадьбу  \n",
       "13  130458.228857                 приобретение автомобиля  \n",
       "14  165127.911772              покупка жилой недвижимости  \n",
       "15  116820.904450  строительство собственной недвижимости  \n",
       "16  289202.704229                            недвижимость  \n",
       "17   90410.586745              строительство недвижимости  \n",
       "18   56823.777243      на покупку подержанного автомобиля  \n",
       "19  242831.107982            на покупку своего автомобиля  "
      ]
     },
     "execution_count": 2,
     "metadata": {},
     "output_type": "execute_result"
    }
   ],
   "source": [
    "data.head(20)"
   ]
  },
  {
   "cell_type": "markdown",
   "id": "0ac875b5",
   "metadata": {
    "deletable": false,
    "editable": false,
    "id": "1c12e233"
   },
   "source": [
    "**Задание 3. Выведите основную информацию о датафрейме с помощью метода `info()`.**"
   ]
  },
  {
   "cell_type": "code",
   "execution_count": 3,
   "id": "9fd19063",
   "metadata": {
    "deletable": false,
    "id": "2b757bca",
    "outputId": "15376089-8dad-46c9-b520-c05248d43158"
   },
   "outputs": [
    {
     "name": "stdout",
     "output_type": "stream",
     "text": [
      "<class 'pandas.core.frame.DataFrame'>\n",
      "RangeIndex: 21525 entries, 0 to 21524\n",
      "Data columns (total 12 columns):\n",
      " #   Column            Non-Null Count  Dtype  \n",
      "---  ------            --------------  -----  \n",
      " 0   children          21525 non-null  int64  \n",
      " 1   days_employed     19351 non-null  float64\n",
      " 2   dob_years         21525 non-null  int64  \n",
      " 3   education         21525 non-null  object \n",
      " 4   education_id      21525 non-null  int64  \n",
      " 5   family_status     21525 non-null  object \n",
      " 6   family_status_id  21525 non-null  int64  \n",
      " 7   gender            21525 non-null  object \n",
      " 8   income_type       21525 non-null  object \n",
      " 9   debt              21525 non-null  int64  \n",
      " 10  total_income      19351 non-null  float64\n",
      " 11  purpose           21525 non-null  object \n",
      "dtypes: float64(2), int64(5), object(5)\n",
      "memory usage: 2.0+ MB\n"
     ]
    }
   ],
   "source": [
    "data.info()"
   ]
  },
  {
   "cell_type": "markdown",
   "id": "3c7afaae",
   "metadata": {
    "deletable": false,
    "editable": false,
    "id": "333ec665"
   },
   "source": [
    "## Предобработка данных"
   ]
  },
  {
   "cell_type": "markdown",
   "id": "40f85dd2",
   "metadata": {
    "deletable": false,
    "editable": false,
    "id": "02d92d53"
   },
   "source": [
    "### Удаление пропусков"
   ]
  },
  {
   "cell_type": "markdown",
   "id": "f4693a8b",
   "metadata": {
    "deletable": false,
    "editable": false,
    "id": "cd84967c"
   },
   "source": [
    "**Задание 4. Выведите количество пропущенных значений для каждого столбца. Используйте комбинацию двух методов.**"
   ]
  },
  {
   "cell_type": "code",
   "execution_count": 4,
   "id": "664d7190",
   "metadata": {
    "deletable": false,
    "id": "7f9b2309",
    "outputId": "81f4d817-781c-465c-ed15-91ce4446810d"
   },
   "outputs": [
    {
     "data": {
      "text/plain": [
       "children               0\n",
       "days_employed       2174\n",
       "dob_years              0\n",
       "education              0\n",
       "education_id           0\n",
       "family_status          0\n",
       "family_status_id       0\n",
       "gender                 0\n",
       "income_type            0\n",
       "debt                   0\n",
       "total_income        2174\n",
       "purpose                0\n",
       "dtype: int64"
      ]
     },
     "execution_count": 4,
     "metadata": {},
     "output_type": "execute_result"
    }
   ],
   "source": [
    "data.isna().sum()"
   ]
  },
  {
   "cell_type": "markdown",
   "id": "5a169d6c",
   "metadata": {
    "deletable": false,
    "editable": false,
    "id": "db86e27b"
   },
   "source": [
    "**Задание 5. В двух столбцах есть пропущенные значения. Один из них — `days_employed`. Пропуски в этом столбце вы обработаете на следующем этапе. Другой столбец с пропущенными значениями — `total_income` — хранит данные о доходах. На сумму дохода сильнее всего влияет тип занятости, поэтому заполнить пропуски в этом столбце нужно медианным значением по каждому типу из столбца `income_type`. Например, у человека с типом занятости `сотрудник` пропуск в столбце `total_income` должен быть заполнен медианным доходом среди всех записей с тем же типом.**"
   ]
  },
  {
   "cell_type": "code",
   "execution_count": 5,
   "id": "f589a966",
   "metadata": {
    "deletable": false,
    "id": "42006a93"
   },
   "outputs": [],
   "source": [
    "for t in data['income_type'].unique():\n",
    "    data.loc[(data['income_type'] == t) & (data['total_income'].isna()), 'total_income'] = \\\n",
    "    data.loc[(data['income_type'] == t), 'total_income'].median()"
   ]
  },
  {
   "cell_type": "markdown",
   "id": "cf48dfde",
   "metadata": {
    "deletable": false,
    "editable": false,
    "id": "89da5ece"
   },
   "source": [
    "### Обработка аномальных значений"
   ]
  },
  {
   "cell_type": "markdown",
   "id": "92f15474",
   "metadata": {
    "deletable": false,
    "editable": false,
    "id": "57964554"
   },
   "source": [
    "**Задание 6. В данных могут встречаться артефакты (аномалии) — значения, которые не отражают действительность и появились по какой-то ошибке. таким артефактом будет отрицательное количество дней трудового стажа в столбце `days_employed`. Для реальных данных это нормально. Обработайте значения в этом столбце: замените все отрицательные значения положительными с помощью метода `abs()`.**"
   ]
  },
  {
   "cell_type": "code",
   "execution_count": 6,
   "id": "93f3781c",
   "metadata": {
    "deletable": false,
    "id": "f6f055bf"
   },
   "outputs": [],
   "source": [
    "data['days_employed'] = data['days_employed'].abs()"
   ]
  },
  {
   "cell_type": "markdown",
   "id": "93ee0aa2",
   "metadata": {
    "deletable": false,
    "editable": false,
    "id": "6107dd2f"
   },
   "source": [
    "**Задание 7. Для каждого типа занятости выведите медианное значение трудового стажа `days_employed` в днях.**"
   ]
  },
  {
   "cell_type": "code",
   "execution_count": 7,
   "id": "fbc1a810",
   "metadata": {
    "deletable": false,
    "id": "85a5faf6",
    "outputId": "801ef80e-522b-4668-f34e-565af7432bcf"
   },
   "outputs": [
    {
     "data": {
      "text/plain": [
       "income_type\n",
       "безработный        366413.652744\n",
       "в декрете            3296.759962\n",
       "госслужащий          2689.368353\n",
       "компаньон            1547.382223\n",
       "пенсионер          365213.306266\n",
       "предприниматель       520.848083\n",
       "сотрудник            1574.202821\n",
       "студент               578.751554\n",
       "Name: days_employed, dtype: float64"
      ]
     },
     "execution_count": 7,
     "metadata": {},
     "output_type": "execute_result"
    }
   ],
   "source": [
    "data.groupby('income_type')['days_employed'].agg('median')"
   ]
  },
  {
   "cell_type": "markdown",
   "id": "fefce9eb",
   "metadata": {
    "deletable": false,
    "editable": false,
    "id": "38d1a030"
   },
   "source": [
    "У двух типов (безработные и пенсионеры) получатся аномально большие значения. Исправить такие значения сложно, поэтому оставьте их как есть. Тем более этот столбец не понадобится вам для исследования."
   ]
  },
  {
   "cell_type": "markdown",
   "id": "e2987dd1",
   "metadata": {
    "deletable": false,
    "editable": false,
    "id": "d8a9f147"
   },
   "source": [
    "**Задание 8. Выведите перечень уникальных значений столбца `children`.**"
   ]
  },
  {
   "cell_type": "code",
   "execution_count": 8,
   "id": "14e338bc",
   "metadata": {
    "deletable": false,
    "id": "ef5056eb",
    "outputId": "6975b15c-7f95-4697-d16d-a0c79b657b03"
   },
   "outputs": [
    {
     "data": {
      "text/plain": [
       "array([ 1,  0,  3,  2, -1,  4, 20,  5])"
      ]
     },
     "execution_count": 8,
     "metadata": {},
     "output_type": "execute_result"
    }
   ],
   "source": [
    "data['children'].unique()"
   ]
  },
  {
   "cell_type": "markdown",
   "id": "8a1c2d42",
   "metadata": {
    "deletable": false,
    "editable": false,
    "id": "40b9ebf2"
   },
   "source": [
    "**Задание 9. В столбце `children` есть два аномальных значения. Удалите строки, в которых встречаются такие аномальные значения из датафрейма `data`.**"
   ]
  },
  {
   "cell_type": "code",
   "execution_count": 9,
   "id": "c764753a",
   "metadata": {
    "deletable": false,
    "id": "3ff9801d"
   },
   "outputs": [],
   "source": [
    "data = data[(data['children'] != -1) & (data['children'] != 20)]"
   ]
  },
  {
   "cell_type": "markdown",
   "id": "53fe1dfa",
   "metadata": {
    "deletable": false,
    "editable": false,
    "id": "bbc4d0ce"
   },
   "source": [
    "**Задание 10. Ещё раз выведите перечень уникальных значений столбца `children`, чтобы убедиться, что артефакты удалены.**"
   ]
  },
  {
   "cell_type": "code",
   "execution_count": 10,
   "id": "3b6e2dda",
   "metadata": {
    "deletable": false,
    "id": "ad4fa8b7",
    "outputId": "b2097101-d49d-44d9-901b-32a65c9463d1"
   },
   "outputs": [
    {
     "data": {
      "text/plain": [
       "array([1, 0, 3, 2, 4, 5])"
      ]
     },
     "execution_count": 10,
     "metadata": {},
     "output_type": "execute_result"
    }
   ],
   "source": [
    "data['children'].unique()"
   ]
  },
  {
   "cell_type": "markdown",
   "id": "b128fc29",
   "metadata": {
    "deletable": false,
    "editable": false,
    "id": "75440b63"
   },
   "source": [
    "### Удаление пропусков (продолжение)"
   ]
  },
  {
   "cell_type": "markdown",
   "id": "f3189b43",
   "metadata": {
    "deletable": false,
    "editable": false,
    "id": "f4ea573f"
   },
   "source": [
    "**Задание 11. Заполните пропуски в столбце `days_employed` медианными значениями по каждого типа занятости `income_type`.**"
   ]
  },
  {
   "cell_type": "code",
   "execution_count": 11,
   "id": "d9590365",
   "metadata": {
    "deletable": false,
    "id": "af6b1a7e"
   },
   "outputs": [],
   "source": [
    "for t in data['income_type'].unique():\n",
    "    data.loc[(data['income_type'] == t) & (data['days_employed'].isna()), 'days_employed'] = \\\n",
    "    data.loc[(data['income_type'] == t), 'days_employed'].median()"
   ]
  },
  {
   "cell_type": "markdown",
   "id": "a7e03ee2",
   "metadata": {
    "deletable": false,
    "editable": false,
    "id": "2753f40d"
   },
   "source": [
    "**Задание 12. Убедитесь, что все пропуски заполнены. Проверьте себя и ещё раз выведите количество пропущенных значений для каждого столбца с помощью двух методов.**"
   ]
  },
  {
   "cell_type": "code",
   "execution_count": 12,
   "id": "e3dd6777",
   "metadata": {
    "deletable": false,
    "id": "55f78bc2",
    "outputId": "8da1e4e1-358e-4e87-98c9-f261bce0a7b2"
   },
   "outputs": [
    {
     "data": {
      "text/plain": [
       "children            0\n",
       "days_employed       0\n",
       "dob_years           0\n",
       "education           0\n",
       "education_id        0\n",
       "family_status       0\n",
       "family_status_id    0\n",
       "gender              0\n",
       "income_type         0\n",
       "debt                0\n",
       "total_income        0\n",
       "purpose             0\n",
       "dtype: int64"
      ]
     },
     "execution_count": 12,
     "metadata": {},
     "output_type": "execute_result"
    }
   ],
   "source": [
    "data.isna().sum()"
   ]
  },
  {
   "cell_type": "markdown",
   "id": "cac5d40f",
   "metadata": {
    "deletable": false,
    "editable": false,
    "id": "ddc81e43"
   },
   "source": [
    "### Изменение типов данных"
   ]
  },
  {
   "cell_type": "markdown",
   "id": "b591cdca",
   "metadata": {
    "deletable": false,
    "editable": false,
    "id": "42d19d24"
   },
   "source": [
    "**Задание 13. Замените вещественный тип данных в столбце `total_income` на целочисленный с помощью метода `astype()`.**"
   ]
  },
  {
   "cell_type": "code",
   "execution_count": 13,
   "id": "66c1001f",
   "metadata": {
    "deletable": false,
    "id": "920b65ad"
   },
   "outputs": [],
   "source": [
    "data['total_income'] = data['total_income'].astype(int)"
   ]
  },
  {
   "cell_type": "markdown",
   "id": "b5509155",
   "metadata": {
    "deletable": false,
    "editable": false,
    "id": "80c420ba"
   },
   "source": [
    "### Обработка дубликатов"
   ]
  },
  {
   "cell_type": "markdown",
   "id": "b7e1222b",
   "metadata": {
    "deletable": false,
    "editable": false
   },
   "source": [
    "**Задание 14. Обработайте неявные дубликаты в столбце `education`. В этом столбце есть одни и те же значения, но записанные по-разному: с использованием заглавных и строчных букв. Приведите их к нижнему регистру. Проверьте остальные столбцы.**"
   ]
  },
  {
   "cell_type": "code",
   "execution_count": 14,
   "id": "e2a2ef54",
   "metadata": {
    "deletable": false
   },
   "outputs": [],
   "source": [
    "data['education'] = data['education'].str.lower()"
   ]
  },
  {
   "cell_type": "markdown",
   "id": "589e8122",
   "metadata": {
    "deletable": false,
    "editable": false,
    "id": "dc587695"
   },
   "source": [
    "**Задание 15. Выведите на экран количество строк-дубликатов в данных. Если такие строки присутствуют, удалите их.**"
   ]
  },
  {
   "cell_type": "code",
   "execution_count": 15,
   "id": "59f47fcc",
   "metadata": {
    "deletable": false,
    "id": "3ee445e4",
    "outputId": "9684deba-1934-42d1-99e1-cda61740f822"
   },
   "outputs": [
    {
     "data": {
      "text/plain": [
       "71"
      ]
     },
     "execution_count": 15,
     "metadata": {},
     "output_type": "execute_result"
    }
   ],
   "source": [
    "data.duplicated().sum()"
   ]
  },
  {
   "cell_type": "code",
   "execution_count": 16,
   "id": "dfc00235",
   "metadata": {
    "deletable": false,
    "id": "8575fe05"
   },
   "outputs": [],
   "source": [
    "data = data.drop_duplicates()"
   ]
  },
  {
   "cell_type": "markdown",
   "id": "80f3c8d3",
   "metadata": {
    "deletable": false,
    "editable": false,
    "id": "9904cf55"
   },
   "source": [
    "### Категоризация данных"
   ]
  },
  {
   "cell_type": "markdown",
   "id": "6b7d6c67",
   "metadata": {
    "deletable": false,
    "editable": false,
    "id": "72fcc8a2"
   },
   "source": [
    "**Задание 16. На основании диапазонов, указанных ниже, создайте в датафрейме `data` столбец `total_income_category` с категориями:**\n",
    "\n",
    "- 0–30000 — `'E'`;\n",
    "- 30001–50000 — `'D'`;\n",
    "- 50001–200000 — `'C'`;\n",
    "- 200001–1000000 — `'B'`;\n",
    "- 1000001 и выше — `'A'`.\n",
    "\n",
    "\n",
    "**Например, кредитополучателю с доходом 25000 нужно назначить категорию `'E'`, а клиенту, получающему 235000, — `'B'`. Используйте собственную функцию с именем `categorize_income()` и метод `apply()`.**"
   ]
  },
  {
   "cell_type": "code",
   "execution_count": 17,
   "id": "a84a5576",
   "metadata": {
    "deletable": false,
    "id": "e1771346"
   },
   "outputs": [],
   "source": [
    "def categorize_income(income):\n",
    "    try:\n",
    "        if 0 <= income <= 30000:\n",
    "            return 'E'\n",
    "        elif 30001 <= income <= 50000:\n",
    "            return 'D'\n",
    "        elif 50001 <= income <= 200000:\n",
    "            return 'C'\n",
    "        elif 200001 <= income <= 1000000:\n",
    "            return 'B'\n",
    "        elif income >= 1000001:\n",
    "            return 'A'\n",
    "    except:\n",
    "        pass"
   ]
  },
  {
   "cell_type": "code",
   "execution_count": 18,
   "id": "896a2d1f",
   "metadata": {
    "deletable": false,
    "id": "d5f3586d"
   },
   "outputs": [],
   "source": [
    "data['total_income_category'] = data['total_income'].apply(categorize_income)"
   ]
  },
  {
   "cell_type": "markdown",
   "id": "77048770",
   "metadata": {
    "deletable": false,
    "editable": false,
    "id": "dde49b5c"
   },
   "source": [
    "**Задание 17. Выведите на экран перечень уникальных целей взятия кредита из столбца `purpose`.**"
   ]
  },
  {
   "cell_type": "code",
   "execution_count": 19,
   "id": "13a398e5",
   "metadata": {
    "deletable": false,
    "id": "f67ce9b3",
    "outputId": "673c12d9-7d7e-4ae0-9812-c622c89dd244"
   },
   "outputs": [
    {
     "data": {
      "text/plain": [
       "array(['покупка жилья', 'приобретение автомобиля',\n",
       "       'дополнительное образование', 'сыграть свадьбу',\n",
       "       'операции с жильем', 'образование', 'на проведение свадьбы',\n",
       "       'покупка жилья для семьи', 'покупка недвижимости',\n",
       "       'покупка коммерческой недвижимости', 'покупка жилой недвижимости',\n",
       "       'строительство собственной недвижимости', 'недвижимость',\n",
       "       'строительство недвижимости', 'на покупку подержанного автомобиля',\n",
       "       'на покупку своего автомобиля',\n",
       "       'операции с коммерческой недвижимостью',\n",
       "       'строительство жилой недвижимости', 'жилье',\n",
       "       'операции со своей недвижимостью', 'автомобили',\n",
       "       'заняться образованием', 'сделка с подержанным автомобилем',\n",
       "       'получение образования', 'автомобиль', 'свадьба',\n",
       "       'получение дополнительного образования', 'покупка своего жилья',\n",
       "       'операции с недвижимостью', 'получение высшего образования',\n",
       "       'свой автомобиль', 'сделка с автомобилем',\n",
       "       'профильное образование', 'высшее образование',\n",
       "       'покупка жилья для сдачи', 'на покупку автомобиля', 'ремонт жилью',\n",
       "       'заняться высшим образованием'], dtype=object)"
      ]
     },
     "execution_count": 19,
     "metadata": {},
     "output_type": "execute_result"
    }
   ],
   "source": [
    "data['purpose'].unique()"
   ]
  },
  {
   "cell_type": "markdown",
   "id": "421c533c",
   "metadata": {
    "deletable": false,
    "editable": false,
    "id": "85d0aef0"
   },
   "source": [
    "**Задание 18. Создайте функцию, которая на основании данных из столбца `purpose` сформирует новый столбец `purpose_category`, в который войдут следующие категории:**\n",
    "\n",
    "- `'операции с автомобилем'`,\n",
    "- `'операции с недвижимостью'`,\n",
    "- `'проведение свадьбы'`,\n",
    "- `'получение образования'`.\n",
    "\n",
    "**Например, если в столбце `purpose` находится подстрока `'на покупку автомобиля'`, то в столбце `purpose_category` должна появиться строка `'операции с автомобилем'`.**\n",
    "\n",
    "**Используйте собственную функцию с именем `categorize_purpose()` и метод `apply()`. Изучите данные в столбце `purpose` и определите, какие подстроки помогут вам правильно определить категорию.**"
   ]
  },
  {
   "cell_type": "code",
   "execution_count": 20,
   "id": "33fb212d",
   "metadata": {
    "deletable": false,
    "id": "e149fab4"
   },
   "outputs": [],
   "source": [
    "def categorize_purpose(row):\n",
    "    try:\n",
    "        if 'автом' in row:\n",
    "            return 'операции с автомобилем'\n",
    "        elif 'жил' in row or 'недвиж' in row:\n",
    "            return 'операции с недвижимостью'\n",
    "        elif 'свад' in row:\n",
    "            return 'проведение свадьбы'\n",
    "        elif 'образов' in row:\n",
    "            return 'получение образования'\n",
    "    except:\n",
    "        return 'нет категории'"
   ]
  },
  {
   "cell_type": "code",
   "execution_count": 21,
   "id": "1b7c293a",
   "metadata": {
    "deletable": false,
    "id": "bf36e69b"
   },
   "outputs": [],
   "source": [
    "data['purpose_category'] = data['purpose'].apply(categorize_purpose)"
   ]
  },
  {
   "cell_type": "markdown",
   "id": "c958b562",
   "metadata": {
    "deletable": false,
    "editable": false,
    "id": "09b242bf"
   },
   "source": [
    "### Шаг 3. Исследуйте данные и ответьте на вопросы"
   ]
  },
  {
   "cell_type": "markdown",
   "id": "216fae50",
   "metadata": {
    "deletable": false,
    "editable": false,
    "id": "c5d66278"
   },
   "source": [
    "#### 3.1 Есть ли зависимость между количеством детей и возвратом кредита в срок?"
   ]
  },
  {
   "cell_type": "code",
   "execution_count": 22,
   "id": "ba54139c",
   "metadata": {
    "deletable": false,
    "id": "2cacfc4a"
   },
   "outputs": [
    {
     "data": {
      "text/html": [
       "<div>\n",
       "<style scoped>\n",
       "    .dataframe tbody tr th:only-of-type {\n",
       "        vertical-align: middle;\n",
       "    }\n",
       "\n",
       "    .dataframe tbody tr th {\n",
       "        vertical-align: top;\n",
       "    }\n",
       "\n",
       "    .dataframe thead th {\n",
       "        text-align: right;\n",
       "    }\n",
       "</style>\n",
       "<table border=\"1\" class=\"dataframe\">\n",
       "  <thead>\n",
       "    <tr style=\"text-align: right;\">\n",
       "      <th></th>\n",
       "      <th>count</th>\n",
       "      <th>mean</th>\n",
       "      <th>sum</th>\n",
       "    </tr>\n",
       "    <tr>\n",
       "      <th>children</th>\n",
       "      <th></th>\n",
       "      <th></th>\n",
       "      <th></th>\n",
       "    </tr>\n",
       "  </thead>\n",
       "  <tbody>\n",
       "    <tr>\n",
       "      <th>0</th>\n",
       "      <td>14091.0</td>\n",
       "      <td>7.543822</td>\n",
       "      <td>1063.0</td>\n",
       "    </tr>\n",
       "    <tr>\n",
       "      <th>1</th>\n",
       "      <td>4808.0</td>\n",
       "      <td>9.234609</td>\n",
       "      <td>444.0</td>\n",
       "    </tr>\n",
       "    <tr>\n",
       "      <th>2</th>\n",
       "      <td>2052.0</td>\n",
       "      <td>9.454191</td>\n",
       "      <td>194.0</td>\n",
       "    </tr>\n",
       "    <tr>\n",
       "      <th>3</th>\n",
       "      <td>330.0</td>\n",
       "      <td>8.181818</td>\n",
       "      <td>27.0</td>\n",
       "    </tr>\n",
       "    <tr>\n",
       "      <th>4</th>\n",
       "      <td>41.0</td>\n",
       "      <td>9.756098</td>\n",
       "      <td>4.0</td>\n",
       "    </tr>\n",
       "    <tr>\n",
       "      <th>5</th>\n",
       "      <td>9.0</td>\n",
       "      <td>0.000000</td>\n",
       "      <td>0.0</td>\n",
       "    </tr>\n",
       "  </tbody>\n",
       "</table>\n",
       "</div>"
      ],
      "text/plain": [
       "            count      mean     sum\n",
       "children                           \n",
       "0         14091.0  7.543822  1063.0\n",
       "1          4808.0  9.234609   444.0\n",
       "2          2052.0  9.454191   194.0\n",
       "3           330.0  8.181818    27.0\n",
       "4            41.0  9.756098     4.0\n",
       "5             9.0  0.000000     0.0"
      ]
     },
     "execution_count": 22,
     "metadata": {},
     "output_type": "execute_result"
    }
   ],
   "source": [
    "# Ваш код будет здесь. Вы можете создавать новые ячейки.\n",
    "data_pivot = pd.pivot_table(data, values='debt', index='children', aggfunc={'debt' : ['sum', 'count', 'mean']})\n",
    "data_pivot['mean'] = data_pivot['mean'] * 100\n",
    "data_pivot"
   ]
  },
  {
   "cell_type": "code",
   "execution_count": 23,
   "id": "81887b04",
   "metadata": {},
   "outputs": [
    {
     "data": {
      "text/html": [
       "<div>\n",
       "<style scoped>\n",
       "    .dataframe tbody tr th:only-of-type {\n",
       "        vertical-align: middle;\n",
       "    }\n",
       "\n",
       "    .dataframe tbody tr th {\n",
       "        vertical-align: top;\n",
       "    }\n",
       "\n",
       "    .dataframe thead tr th {\n",
       "        text-align: left;\n",
       "    }\n",
       "\n",
       "    .dataframe thead tr:last-of-type th {\n",
       "        text-align: right;\n",
       "    }\n",
       "</style>\n",
       "<table border=\"1\" class=\"dataframe\">\n",
       "  <thead>\n",
       "    <tr>\n",
       "      <th></th>\n",
       "      <th>sum</th>\n",
       "      <th>count</th>\n",
       "      <th>mean</th>\n",
       "    </tr>\n",
       "    <tr>\n",
       "      <th></th>\n",
       "      <th>debt</th>\n",
       "      <th>debt</th>\n",
       "      <th>debt</th>\n",
       "    </tr>\n",
       "    <tr>\n",
       "      <th>children</th>\n",
       "      <th></th>\n",
       "      <th></th>\n",
       "      <th></th>\n",
       "    </tr>\n",
       "  </thead>\n",
       "  <tbody>\n",
       "    <tr>\n",
       "      <th>0</th>\n",
       "      <td>1063</td>\n",
       "      <td>14091</td>\n",
       "      <td>0.075438</td>\n",
       "    </tr>\n",
       "    <tr>\n",
       "      <th>1</th>\n",
       "      <td>444</td>\n",
       "      <td>4808</td>\n",
       "      <td>0.092346</td>\n",
       "    </tr>\n",
       "    <tr>\n",
       "      <th>2</th>\n",
       "      <td>194</td>\n",
       "      <td>2052</td>\n",
       "      <td>0.094542</td>\n",
       "    </tr>\n",
       "    <tr>\n",
       "      <th>3</th>\n",
       "      <td>27</td>\n",
       "      <td>330</td>\n",
       "      <td>0.081818</td>\n",
       "    </tr>\n",
       "    <tr>\n",
       "      <th>4</th>\n",
       "      <td>4</td>\n",
       "      <td>41</td>\n",
       "      <td>0.097561</td>\n",
       "    </tr>\n",
       "    <tr>\n",
       "      <th>5</th>\n",
       "      <td>0</td>\n",
       "      <td>9</td>\n",
       "      <td>0.000000</td>\n",
       "    </tr>\n",
       "  </tbody>\n",
       "</table>\n",
       "</div>"
      ],
      "text/plain": [
       "           sum  count      mean\n",
       "          debt   debt      debt\n",
       "children                       \n",
       "0         1063  14091  0.075438\n",
       "1          444   4808  0.092346\n",
       "2          194   2052  0.094542\n",
       "3           27    330  0.081818\n",
       "4            4     41  0.097561\n",
       "5            0      9  0.000000"
      ]
     },
     "execution_count": 23,
     "metadata": {},
     "output_type": "execute_result"
    }
   ],
   "source": [
    "##КОД РЕВЬЮЕРА\n",
    "data_pivot1 = pd.pivot_table(data, values='debt', index='children', aggfunc=['sum', 'count', 'mean'])\n",
    "data_pivot1 "
   ]
  },
  {
   "cell_type": "markdown",
   "id": "92c9093e",
   "metadata": {
    "deletable": false,
    "id": "3a6b99ec"
   },
   "source": [
    "**Вывод:** Люди не имеющие детей лучше всего отдают кредиты, отрыв от остальных категорий около 2-х %. Доля должников тут составляет 7.5%. Несколько хуже - люди имеющие одного или двух детей. 9.2% и 9.4%, соответственно. Такой вывод наталкивает на мысли, что с каждым ребенком доля просроченных платежей возрастает на 0.2%, однако данных для такого вывода недостаточно."
   ]
  },
  {
   "cell_type": "markdown",
   "id": "15270bcb",
   "metadata": {
    "deletable": false,
    "editable": false,
    "id": "97be82ca"
   },
   "source": [
    "#### 3.2 Есть ли зависимость между семейным положением и возвратом кредита в срок?"
   ]
  },
  {
   "cell_type": "code",
   "execution_count": 24,
   "id": "1e82a56e",
   "metadata": {
    "deletable": false,
    "id": "dc3f7ee8"
   },
   "outputs": [
    {
     "data": {
      "text/plain": [
       "array([0, 1, 2, 3, 4])"
      ]
     },
     "execution_count": 24,
     "metadata": {},
     "output_type": "execute_result"
    }
   ],
   "source": [
    "# Ваш код будет здесь. Вы можете создавать новые ячейки.\n",
    "data['family_status_id'].unique()\n"
   ]
  },
  {
   "cell_type": "code",
   "execution_count": 25,
   "id": "ca52af24",
   "metadata": {},
   "outputs": [
    {
     "data": {
      "text/plain": [
       "array(['женат / замужем', 'гражданский брак', 'вдовец / вдова',\n",
       "       'в разводе', 'Не женат / не замужем'], dtype=object)"
      ]
     },
     "execution_count": 25,
     "metadata": {},
     "output_type": "execute_result"
    }
   ],
   "source": [
    "data['family_status'].unique()"
   ]
  },
  {
   "cell_type": "code",
   "execution_count": 26,
   "id": "3a575e51",
   "metadata": {},
   "outputs": [
    {
     "data": {
      "text/html": [
       "<div>\n",
       "<style scoped>\n",
       "    .dataframe tbody tr th:only-of-type {\n",
       "        vertical-align: middle;\n",
       "    }\n",
       "\n",
       "    .dataframe tbody tr th {\n",
       "        vertical-align: top;\n",
       "    }\n",
       "\n",
       "    .dataframe thead th {\n",
       "        text-align: right;\n",
       "    }\n",
       "</style>\n",
       "<table border=\"1\" class=\"dataframe\">\n",
       "  <thead>\n",
       "    <tr style=\"text-align: right;\">\n",
       "      <th></th>\n",
       "      <th>count</th>\n",
       "      <th>mean</th>\n",
       "      <th>sum</th>\n",
       "    </tr>\n",
       "    <tr>\n",
       "      <th>family_status</th>\n",
       "      <th></th>\n",
       "      <th></th>\n",
       "      <th></th>\n",
       "    </tr>\n",
       "  </thead>\n",
       "  <tbody>\n",
       "    <tr>\n",
       "      <th>Не женат / не замужем</th>\n",
       "      <td>2796.0</td>\n",
       "      <td>9.763948</td>\n",
       "      <td>273.0</td>\n",
       "    </tr>\n",
       "    <tr>\n",
       "      <th>в разводе</th>\n",
       "      <td>1189.0</td>\n",
       "      <td>7.064760</td>\n",
       "      <td>84.0</td>\n",
       "    </tr>\n",
       "    <tr>\n",
       "      <th>вдовец / вдова</th>\n",
       "      <td>951.0</td>\n",
       "      <td>6.624606</td>\n",
       "      <td>63.0</td>\n",
       "    </tr>\n",
       "    <tr>\n",
       "      <th>гражданский брак</th>\n",
       "      <td>4134.0</td>\n",
       "      <td>9.313014</td>\n",
       "      <td>385.0</td>\n",
       "    </tr>\n",
       "    <tr>\n",
       "      <th>женат / замужем</th>\n",
       "      <td>12261.0</td>\n",
       "      <td>7.560558</td>\n",
       "      <td>927.0</td>\n",
       "    </tr>\n",
       "  </tbody>\n",
       "</table>\n",
       "</div>"
      ],
      "text/plain": [
       "                         count      mean    sum\n",
       "family_status                                  \n",
       "Не женат / не замужем   2796.0  9.763948  273.0\n",
       "в разводе               1189.0  7.064760   84.0\n",
       "вдовец / вдова           951.0  6.624606   63.0\n",
       "гражданский брак        4134.0  9.313014  385.0\n",
       "женат / замужем        12261.0  7.560558  927.0"
      ]
     },
     "execution_count": 26,
     "metadata": {},
     "output_type": "execute_result"
    }
   ],
   "source": [
    "family_status_pivot = pd.pivot_table(data, values='debt', index='family_status', aggfunc={'debt' : ['sum', 'count', 'mean']})\n",
    "family_status_pivot['mean'] = family_status_pivot['mean'] * 100\n",
    "family_status_pivot"
   ]
  },
  {
   "cell_type": "markdown",
   "id": "55acc4da",
   "metadata": {
    "deletable": false,
    "id": "1cef7837"
   },
   "source": [
    "**Вывод:** Наиболее дисциплинированными заемщиками являются лица, состоящие в официальном браке, доля просроченных платежей в этой категории 7.5%.   Наименее дисциплинированными не женатые/не замужние с долей должников 9.7%.\n",
    "Данные, на первый взгляд, являются достоверными.\n",
    "P.S. Так как в данных столбца \"family_status\" отсутствуют пропуски, было решено использовать названия семейного положения, вместо их кодов из колонки \"family_status_id\""
   ]
  },
  {
   "cell_type": "markdown",
   "id": "7c1523f5",
   "metadata": {
    "deletable": false,
    "editable": false,
    "id": "1e8b2fca"
   },
   "source": [
    "#### 3.3 Есть ли зависимость между уровнем дохода и возвратом кредита в срок?"
   ]
  },
  {
   "cell_type": "code",
   "execution_count": 27,
   "id": "aaf40af2",
   "metadata": {
    "deletable": false,
    "id": "cd7e3720"
   },
   "outputs": [
    {
     "data": {
      "text/html": [
       "<div>\n",
       "<style scoped>\n",
       "    .dataframe tbody tr th:only-of-type {\n",
       "        vertical-align: middle;\n",
       "    }\n",
       "\n",
       "    .dataframe tbody tr th {\n",
       "        vertical-align: top;\n",
       "    }\n",
       "\n",
       "    .dataframe thead th {\n",
       "        text-align: right;\n",
       "    }\n",
       "</style>\n",
       "<table border=\"1\" class=\"dataframe\">\n",
       "  <thead>\n",
       "    <tr style=\"text-align: right;\">\n",
       "      <th></th>\n",
       "      <th>count</th>\n",
       "      <th>mean</th>\n",
       "      <th>sum</th>\n",
       "    </tr>\n",
       "    <tr>\n",
       "      <th>total_income_category</th>\n",
       "      <th></th>\n",
       "      <th></th>\n",
       "      <th></th>\n",
       "    </tr>\n",
       "  </thead>\n",
       "  <tbody>\n",
       "    <tr>\n",
       "      <th>A</th>\n",
       "      <td>25.0</td>\n",
       "      <td>8.000000</td>\n",
       "      <td>2.0</td>\n",
       "    </tr>\n",
       "    <tr>\n",
       "      <th>B</th>\n",
       "      <td>5014.0</td>\n",
       "      <td>7.060231</td>\n",
       "      <td>354.0</td>\n",
       "    </tr>\n",
       "    <tr>\n",
       "      <th>C</th>\n",
       "      <td>15921.0</td>\n",
       "      <td>8.498210</td>\n",
       "      <td>1353.0</td>\n",
       "    </tr>\n",
       "    <tr>\n",
       "      <th>D</th>\n",
       "      <td>349.0</td>\n",
       "      <td>6.017192</td>\n",
       "      <td>21.0</td>\n",
       "    </tr>\n",
       "    <tr>\n",
       "      <th>E</th>\n",
       "      <td>22.0</td>\n",
       "      <td>9.090909</td>\n",
       "      <td>2.0</td>\n",
       "    </tr>\n",
       "  </tbody>\n",
       "</table>\n",
       "</div>"
      ],
      "text/plain": [
       "                         count      mean     sum\n",
       "total_income_category                           \n",
       "A                         25.0  8.000000     2.0\n",
       "B                       5014.0  7.060231   354.0\n",
       "C                      15921.0  8.498210  1353.0\n",
       "D                        349.0  6.017192    21.0\n",
       "E                         22.0  9.090909     2.0"
      ]
     },
     "execution_count": 27,
     "metadata": {},
     "output_type": "execute_result"
    }
   ],
   "source": [
    "# Ваш код будет здесь. Вы можете создавать новые ячейки.\n",
    "total_income_category_pivot = pd.pivot_table(data, values='debt', index='total_income_category', aggfunc={'debt' : ['sum', 'count', 'mean']})\n",
    "total_income_category_pivot['mean'] = total_income_category_pivot['mean'] * 100\n",
    "total_income_category_pivot"
   ]
  },
  {
   "cell_type": "markdown",
   "id": "532b88e5",
   "metadata": {
    "deletable": false,
    "id": "e8593def"
   },
   "source": [
    "**Вывод:** В связи с недостаточным для анализа объемом выборки по уровню дохода представляется возможным сравнить только категории B и C. В категории С доля просроченных займов 8.4%, в категории B - 7%. Тем не менее этих даных недостаточно для формулировки однозначного вывода о зависимости доли просроченных кредитов от располагаемого дохода."
   ]
  },
  {
   "cell_type": "markdown",
   "id": "cc2aa1b4",
   "metadata": {
    "deletable": false,
    "editable": false,
    "id": "99ecbd1f"
   },
   "source": [
    "#### 3.4 Как разные цели кредита влияют на его возврат в срок?"
   ]
  },
  {
   "cell_type": "code",
   "execution_count": 28,
   "id": "223ef8fe",
   "metadata": {
    "deletable": false,
    "id": "2b687290"
   },
   "outputs": [
    {
     "data": {
      "text/html": [
       "<div>\n",
       "<style scoped>\n",
       "    .dataframe tbody tr th:only-of-type {\n",
       "        vertical-align: middle;\n",
       "    }\n",
       "\n",
       "    .dataframe tbody tr th {\n",
       "        vertical-align: top;\n",
       "    }\n",
       "\n",
       "    .dataframe thead th {\n",
       "        text-align: right;\n",
       "    }\n",
       "</style>\n",
       "<table border=\"1\" class=\"dataframe\">\n",
       "  <thead>\n",
       "    <tr style=\"text-align: right;\">\n",
       "      <th></th>\n",
       "      <th>count</th>\n",
       "      <th>mean</th>\n",
       "      <th>sum</th>\n",
       "    </tr>\n",
       "    <tr>\n",
       "      <th>purpose_category</th>\n",
       "      <th></th>\n",
       "      <th></th>\n",
       "      <th></th>\n",
       "    </tr>\n",
       "  </thead>\n",
       "  <tbody>\n",
       "    <tr>\n",
       "      <th>операции с автомобилем</th>\n",
       "      <td>4279.0</td>\n",
       "      <td>9.347978</td>\n",
       "      <td>400.0</td>\n",
       "    </tr>\n",
       "    <tr>\n",
       "      <th>операции с недвижимостью</th>\n",
       "      <td>10751.0</td>\n",
       "      <td>7.255139</td>\n",
       "      <td>780.0</td>\n",
       "    </tr>\n",
       "    <tr>\n",
       "      <th>получение образования</th>\n",
       "      <td>3988.0</td>\n",
       "      <td>9.252758</td>\n",
       "      <td>369.0</td>\n",
       "    </tr>\n",
       "    <tr>\n",
       "      <th>проведение свадьбы</th>\n",
       "      <td>2313.0</td>\n",
       "      <td>7.911803</td>\n",
       "      <td>183.0</td>\n",
       "    </tr>\n",
       "  </tbody>\n",
       "</table>\n",
       "</div>"
      ],
      "text/plain": [
       "                            count      mean    sum\n",
       "purpose_category                                  \n",
       "операции с автомобилем     4279.0  9.347978  400.0\n",
       "операции с недвижимостью  10751.0  7.255139  780.0\n",
       "получение образования      3988.0  9.252758  369.0\n",
       "проведение свадьбы         2313.0  7.911803  183.0"
      ]
     },
     "execution_count": 28,
     "metadata": {},
     "output_type": "execute_result"
    }
   ],
   "source": [
    "# Ваш код будет здесь. Вы можете создавать новые ячейки.\n",
    "purpose_category_pivot = pd.pivot_table(data, values='debt', index='purpose_category', aggfunc={'debt' : ['sum', 'count', 'mean']})\n",
    "purpose_category_pivot['mean'] = purpose_category_pivot['mean'] * 100\n",
    "purpose_category_pivot"
   ]
  },
  {
   "cell_type": "markdown",
   "id": "1a733374",
   "metadata": {
    "deletable": false,
    "id": "b4bb2ce6"
   },
   "source": [
    "**Вывод:** Наиболее желанными клиентами оказались те, кто планирует операции с недвижимостью, доля должников тут всего 7.2%.\n",
    "Наименее желанными - автолюбители, 9.3% просроченных кредитов.\n",
    "Наблюдаем значительный разрыв в % между категориями \"операции с автомобилем\",\"получение образования\" с одной стороны, и \"операции с недвижимостью\" с другой.\n",
    "Категорию \"проведение свадьбы\" с другими категориями сравнивать некорректно из-за недостаточной выборки, она минимум в 2 раза меньше остальных."
   ]
  },
  {
   "cell_type": "markdown",
   "id": "06fffab2",
   "metadata": {
    "deletable": false,
    "editable": false,
    "id": "09c3ac4c"
   },
   "source": [
    "#### 3.5 Приведите возможные причины появления пропусков в исходных данных."
   ]
  },
  {
   "cell_type": "markdown",
   "id": "c42c83a2",
   "metadata": {
    "deletable": false,
    "id": "9da2ceda"
   },
   "source": [
    "*Ответ:* Наибольшее кол-во пропусков встречалось в столбцах \"days_employed\" и \"total_income\". Также в столбце \"days_employed\" встречалось большое кол-во отрицательных значений, что очень похоже на системную ошибку. Требуется проверить источники данных, методы их обработки и хранения. Пропуски, предположительно, появились из-за нежелания некоторых заемщиков разглашать некоторые сведения о себе по каким-то личным соображениям. В указанных выше 2х столбцах содержатся количественные показатели, именно они чаще всего располагают к неточностям и ошибкам"
   ]
  },
  {
   "cell_type": "markdown",
   "id": "18133c2c",
   "metadata": {
    "deletable": false,
    "editable": false,
    "id": "7b0487d6"
   },
   "source": [
    "#### 3.6 Объясните, почему заполнить пропуски медианным значением — лучшее решение для количественных переменных."
   ]
  },
  {
   "cell_type": "markdown",
   "id": "24c8b72b",
   "metadata": {
    "deletable": false,
    "id": "7ecf2b8e"
   },
   "source": [
    "*Ответ:* Медианное значение менее чувствительно к случайным ошибкам, чем среднее. Также оно (медианное) дает более точную картину в целом, соответственно ее можно корректнее интерпретировать"
   ]
  },
  {
   "cell_type": "markdown",
   "id": "4f691418",
   "metadata": {},
   "source": [
    "<div class=\"alert alert-block alert-success\">\n",
    "<b>Комментарий ревьюера:</b>\n",
    "\n",
    "✔️ Медиана не чувствительна к выборке, все верно)) \n",
    "  </div>"
   ]
  },
  {
   "cell_type": "markdown",
   "id": "b8ebfc66",
   "metadata": {
    "deletable": false,
    "editable": false,
    "id": "6db5255a"
   },
   "source": [
    "### Шаг 4: общий вывод."
   ]
  },
  {
   "cell_type": "markdown",
   "id": "b7e458fc",
   "metadata": {
    "deletable": false,
    "id": "bad65432"
   },
   "source": [
    "Исходя из результатов исследования, можно сделать вывод о том, что чем больше в семье детей, тем выше доля просроченных платежей. Меньше всего просроченных кредитов, с большим отрывом (около 2-х%) у семей не имеющих детей вовсе.\n",
    "Касаемо зависимости от семейного положения. Наиболее дисциплинированными, с отрывом в 2%, оказались люди, состоящие в официально зарегестрированном браке. \\\n",
    "Даных недостаточно для формулировки однозначного вывода о зависимости доли просроченных кредитов от располагаемого дохода. Из 5 категорий, сгруппированных по доходам, имеется возможность сравнить лишь 2, и то необходимо учесть разницу в объеме выборки, составляющую около 3-х раз (350 человек и 1350 человек). \\\n",
    "Наиболее желанными клиентами оказались те, кто планирует операции с недвижимостью, доля должников тут всего 7.2%. Наименее желанными - автолюбители, 9.3% просроченных кредитов. Наблюдаем значительный разрыв в % между категориями \"операции с автомобилем\",\"получение образования\" с одной стороны, и \"операции с недвижимостью\" с другой. Категорию \"проведение свадьбы\" с другими категориями сравнивать некорректно из-за недостаточной выборки, она минимум в 2 раза меньше остальных. \\\n",
    "Для улучшения качества и увеличения кол-ва данных необходимо расследование причин появления большого кол-ва отрицательных значений в столбце \"days_employed\" и большого кол-ва пропусков и столбце \"total_income\". Также необходимо увеличить объем данных по категориям заемщиков: с кол-вом детей более 3-х, в разводе, вдовец/вдова, кат. дохода A, D, E, проведение свадьбы"
   ]
  }
 ],
 "metadata": {
  "ExecuteTimeLog": [
   {
    "duration": 447,
    "start_time": "2023-02-06T00:37:19.034Z"
   },
   {
    "duration": 22,
    "start_time": "2023-02-06T00:37:19.484Z"
   },
   {
    "duration": 18,
    "start_time": "2023-02-06T00:37:19.508Z"
   },
   {
    "duration": 10,
    "start_time": "2023-02-06T00:37:19.529Z"
   },
   {
    "duration": 35,
    "start_time": "2023-02-06T00:37:19.540Z"
   },
   {
    "duration": 3,
    "start_time": "2023-02-06T00:37:19.577Z"
   },
   {
    "duration": 31,
    "start_time": "2023-02-06T00:37:19.581Z"
   },
   {
    "duration": 4,
    "start_time": "2023-02-06T00:37:19.614Z"
   },
   {
    "duration": 10,
    "start_time": "2023-02-06T00:37:19.619Z"
   },
   {
    "duration": 4,
    "start_time": "2023-02-06T00:37:19.630Z"
   },
   {
    "duration": 31,
    "start_time": "2023-02-06T00:37:19.636Z"
   },
   {
    "duration": 8,
    "start_time": "2023-02-06T00:37:19.668Z"
   },
   {
    "duration": 3,
    "start_time": "2023-02-06T00:37:19.678Z"
   },
   {
    "duration": 11,
    "start_time": "2023-02-06T00:37:19.710Z"
   },
   {
    "duration": 20,
    "start_time": "2023-02-06T00:37:19.722Z"
   },
   {
    "duration": 16,
    "start_time": "2023-02-06T00:37:19.744Z"
   },
   {
    "duration": 3,
    "start_time": "2023-02-06T00:37:19.761Z"
   },
   {
    "duration": 9,
    "start_time": "2023-02-06T00:37:19.766Z"
   },
   {
    "duration": 7,
    "start_time": "2023-02-06T00:37:19.776Z"
   },
   {
    "duration": 27,
    "start_time": "2023-02-06T00:37:19.784Z"
   },
   {
    "duration": 12,
    "start_time": "2023-02-06T00:37:19.812Z"
   },
   {
    "duration": 3,
    "start_time": "2023-02-06T00:37:19.825Z"
   },
   {
    "duration": 5,
    "start_time": "2023-02-06T00:37:19.829Z"
   },
   {
    "duration": 6,
    "start_time": "2023-02-06T00:37:19.835Z"
   },
   {
    "duration": 5,
    "start_time": "2023-02-06T00:37:19.842Z"
   },
   {
    "duration": 698,
    "start_time": "2023-02-08T15:06:33.793Z"
   },
   {
    "duration": 22,
    "start_time": "2023-02-08T15:06:34.492Z"
   },
   {
    "duration": 15,
    "start_time": "2023-02-08T15:06:34.516Z"
   },
   {
    "duration": 10,
    "start_time": "2023-02-08T15:06:34.533Z"
   },
   {
    "duration": 36,
    "start_time": "2023-02-08T15:06:34.544Z"
   },
   {
    "duration": 4,
    "start_time": "2023-02-08T15:06:34.581Z"
   },
   {
    "duration": 10,
    "start_time": "2023-02-08T15:06:34.586Z"
   },
   {
    "duration": 10,
    "start_time": "2023-02-08T15:06:34.598Z"
   },
   {
    "duration": 10,
    "start_time": "2023-02-08T15:06:34.609Z"
   },
   {
    "duration": 7,
    "start_time": "2023-02-08T15:06:34.622Z"
   },
   {
    "duration": 45,
    "start_time": "2023-02-08T15:06:34.630Z"
   },
   {
    "duration": 9,
    "start_time": "2023-02-08T15:06:34.677Z"
   },
   {
    "duration": 4,
    "start_time": "2023-02-08T15:06:34.687Z"
   },
   {
    "duration": 12,
    "start_time": "2023-02-08T15:06:34.693Z"
   },
   {
    "duration": 20,
    "start_time": "2023-02-08T15:06:34.707Z"
   },
   {
    "duration": 15,
    "start_time": "2023-02-08T15:06:34.749Z"
   },
   {
    "duration": 4,
    "start_time": "2023-02-08T15:06:34.765Z"
   },
   {
    "duration": 17,
    "start_time": "2023-02-08T15:06:34.771Z"
   },
   {
    "duration": 13,
    "start_time": "2023-02-08T15:06:34.790Z"
   },
   {
    "duration": 12,
    "start_time": "2023-02-08T15:06:34.804Z"
   },
   {
    "duration": 12,
    "start_time": "2023-02-08T15:06:34.818Z"
   },
   {
    "duration": 8,
    "start_time": "2023-02-08T15:06:34.832Z"
   },
   {
    "duration": 12,
    "start_time": "2023-02-08T15:06:34.841Z"
   },
   {
    "duration": 10,
    "start_time": "2023-02-08T15:06:34.855Z"
   },
   {
    "duration": 6,
    "start_time": "2023-02-08T15:06:34.866Z"
   },
   {
    "duration": 4,
    "start_time": "2023-02-08T15:55:32.427Z"
   },
   {
    "duration": 3,
    "start_time": "2023-02-08T15:56:01.782Z"
   },
   {
    "duration": 63,
    "start_time": "2023-02-08T15:56:13.282Z"
   },
   {
    "duration": 3,
    "start_time": "2023-02-08T16:02:07.974Z"
   },
   {
    "duration": 3,
    "start_time": "2023-02-08T16:02:11.268Z"
   },
   {
    "duration": 6,
    "start_time": "2023-02-08T16:02:40.003Z"
   },
   {
    "duration": 20,
    "start_time": "2023-02-08T16:02:51.388Z"
   },
   {
    "duration": 6,
    "start_time": "2023-02-08T16:09:03.708Z"
   },
   {
    "duration": 5,
    "start_time": "2023-02-08T16:09:12.060Z"
   },
   {
    "duration": 46,
    "start_time": "2023-02-08T16:11:03.355Z"
   },
   {
    "duration": 10,
    "start_time": "2023-02-08T16:11:17.765Z"
   },
   {
    "duration": 14,
    "start_time": "2023-02-08T16:11:22.976Z"
   },
   {
    "duration": 1118,
    "start_time": "2023-02-08T16:12:14.373Z"
   },
   {
    "duration": 1191,
    "start_time": "2023-02-08T16:12:33.339Z"
   },
   {
    "duration": 8,
    "start_time": "2023-02-08T16:16:09.000Z"
   },
   {
    "duration": 16,
    "start_time": "2023-02-08T16:16:12.579Z"
   },
   {
    "duration": 1245,
    "start_time": "2023-02-08T16:33:07.417Z"
   },
   {
    "duration": 1186,
    "start_time": "2023-02-08T16:33:14.712Z"
   },
   {
    "duration": 14,
    "start_time": "2023-02-08T16:33:32.550Z"
   },
   {
    "duration": 1086,
    "start_time": "2023-02-08T16:36:31.116Z"
   },
   {
    "duration": 15,
    "start_time": "2023-02-08T16:41:52.416Z"
   },
   {
    "duration": 449,
    "start_time": "2023-02-08T16:42:57.928Z"
   },
   {
    "duration": 15,
    "start_time": "2023-02-08T16:43:11.714Z"
   },
   {
    "duration": 73,
    "start_time": "2023-02-08T16:43:42.472Z"
   },
   {
    "duration": 17,
    "start_time": "2023-02-08T16:43:50.923Z"
   },
   {
    "duration": 15,
    "start_time": "2023-02-08T16:44:09.652Z"
   },
   {
    "duration": 26,
    "start_time": "2023-02-08T16:44:24.997Z"
   },
   {
    "duration": 19,
    "start_time": "2023-02-08T16:44:39.795Z"
   },
   {
    "duration": 23,
    "start_time": "2023-02-08T16:44:56.492Z"
   },
   {
    "duration": 14,
    "start_time": "2023-02-08T16:46:18.958Z"
   },
   {
    "duration": 26,
    "start_time": "2023-02-08T16:46:24.283Z"
   },
   {
    "duration": 8,
    "start_time": "2023-02-08T20:32:09.381Z"
   },
   {
    "duration": 21,
    "start_time": "2023-02-08T20:32:31.201Z"
   },
   {
    "duration": 5,
    "start_time": "2023-02-08T20:42:04.376Z"
   },
   {
    "duration": 7,
    "start_time": "2023-02-08T21:02:28.727Z"
   },
   {
    "duration": 10,
    "start_time": "2023-02-08T21:02:32.372Z"
   },
   {
    "duration": 24,
    "start_time": "2023-02-08T21:02:45.126Z"
   },
   {
    "duration": 1234,
    "start_time": "2023-02-08T21:03:17.312Z"
   },
   {
    "duration": 13,
    "start_time": "2023-02-08T21:03:45.625Z"
   },
   {
    "duration": 12,
    "start_time": "2023-02-08T21:04:16.677Z"
   },
   {
    "duration": 164,
    "start_time": "2023-02-08T21:13:22.436Z"
   },
   {
    "duration": 1892,
    "start_time": "2023-02-08T21:13:59.305Z"
   },
   {
    "duration": 38,
    "start_time": "2023-02-08T21:14:15.837Z"
   },
   {
    "duration": 14,
    "start_time": "2023-02-08T21:14:35.808Z"
   },
   {
    "duration": 149,
    "start_time": "2023-02-08T21:14:41.121Z"
   },
   {
    "duration": 311,
    "start_time": "2023-02-08T21:16:01.597Z"
   },
   {
    "duration": 164,
    "start_time": "2023-02-08T21:16:26.338Z"
   },
   {
    "duration": 152,
    "start_time": "2023-02-08T21:16:31.836Z"
   },
   {
    "duration": 166,
    "start_time": "2023-02-08T21:17:03.876Z"
   },
   {
    "duration": 169,
    "start_time": "2023-02-08T21:17:22.642Z"
   },
   {
    "duration": 182,
    "start_time": "2023-02-08T21:17:47.221Z"
   },
   {
    "duration": 11,
    "start_time": "2023-02-08T21:19:31.230Z"
   },
   {
    "duration": 13,
    "start_time": "2023-02-08T21:19:39.001Z"
   },
   {
    "duration": 1615,
    "start_time": "2023-02-08T21:19:44.515Z"
   },
   {
    "duration": 1721,
    "start_time": "2023-02-08T21:21:46.591Z"
   },
   {
    "duration": 19,
    "start_time": "2023-02-08T21:22:09.276Z"
   },
   {
    "duration": 17,
    "start_time": "2023-02-08T21:23:06.971Z"
   },
   {
    "duration": 754,
    "start_time": "2023-02-08T21:24:50.609Z"
   },
   {
    "duration": 29,
    "start_time": "2023-02-08T21:24:51.367Z"
   },
   {
    "duration": 27,
    "start_time": "2023-02-08T21:24:51.398Z"
   },
   {
    "duration": 17,
    "start_time": "2023-02-08T21:24:51.427Z"
   },
   {
    "duration": 67,
    "start_time": "2023-02-08T21:24:51.446Z"
   },
   {
    "duration": 4,
    "start_time": "2023-02-08T21:24:51.515Z"
   },
   {
    "duration": 22,
    "start_time": "2023-02-08T21:24:51.522Z"
   },
   {
    "duration": 44,
    "start_time": "2023-02-08T21:24:51.546Z"
   },
   {
    "duration": 19,
    "start_time": "2023-02-08T21:24:51.592Z"
   },
   {
    "duration": 9,
    "start_time": "2023-02-08T21:24:51.613Z"
   },
   {
    "duration": 75,
    "start_time": "2023-02-08T21:24:51.624Z"
   },
   {
    "duration": 10,
    "start_time": "2023-02-08T21:24:51.701Z"
   },
   {
    "duration": 14,
    "start_time": "2023-02-08T21:24:51.713Z"
   },
   {
    "duration": 23,
    "start_time": "2023-02-08T21:24:51.729Z"
   },
   {
    "duration": 64,
    "start_time": "2023-02-08T21:24:51.754Z"
   },
   {
    "duration": 18,
    "start_time": "2023-02-08T21:24:51.820Z"
   },
   {
    "duration": 4,
    "start_time": "2023-02-08T21:24:51.840Z"
   },
   {
    "duration": 54,
    "start_time": "2023-02-08T21:24:51.846Z"
   },
   {
    "duration": 12,
    "start_time": "2023-02-08T21:24:51.901Z"
   },
   {
    "duration": 16,
    "start_time": "2023-02-08T21:24:51.916Z"
   },
   {
    "duration": 24,
    "start_time": "2023-02-08T21:24:51.934Z"
   },
   {
    "duration": 11,
    "start_time": "2023-02-08T21:24:51.960Z"
   },
   {
    "duration": 18,
    "start_time": "2023-02-08T21:24:51.972Z"
   },
   {
    "duration": 105,
    "start_time": "2023-02-08T21:24:51.993Z"
   },
   {
    "duration": 0,
    "start_time": "2023-02-08T21:24:52.100Z"
   },
   {
    "duration": 0,
    "start_time": "2023-02-08T21:24:52.104Z"
   },
   {
    "duration": 0,
    "start_time": "2023-02-08T21:24:52.105Z"
   },
   {
    "duration": 2512,
    "start_time": "2023-02-08T21:25:01.776Z"
   },
   {
    "duration": 1524,
    "start_time": "2023-02-08T21:25:14.077Z"
   },
   {
    "duration": 516,
    "start_time": "2023-02-08T21:25:43.412Z"
   },
   {
    "duration": 25,
    "start_time": "2023-02-08T21:25:43.931Z"
   },
   {
    "duration": 37,
    "start_time": "2023-02-08T21:25:43.958Z"
   },
   {
    "duration": 12,
    "start_time": "2023-02-08T21:25:43.997Z"
   },
   {
    "duration": 66,
    "start_time": "2023-02-08T21:25:44.011Z"
   },
   {
    "duration": 4,
    "start_time": "2023-02-08T21:25:44.081Z"
   },
   {
    "duration": 21,
    "start_time": "2023-02-08T21:25:44.087Z"
   },
   {
    "duration": 21,
    "start_time": "2023-02-08T21:25:44.109Z"
   },
   {
    "duration": 60,
    "start_time": "2023-02-08T21:25:44.132Z"
   },
   {
    "duration": 17,
    "start_time": "2023-02-08T21:25:44.195Z"
   },
   {
    "duration": 52,
    "start_time": "2023-02-08T21:25:44.213Z"
   },
   {
    "duration": 20,
    "start_time": "2023-02-08T21:25:44.267Z"
   },
   {
    "duration": 6,
    "start_time": "2023-02-08T21:25:44.288Z"
   },
   {
    "duration": 24,
    "start_time": "2023-02-08T21:25:44.296Z"
   },
   {
    "duration": 32,
    "start_time": "2023-02-08T21:25:44.321Z"
   },
   {
    "duration": 48,
    "start_time": "2023-02-08T21:25:44.355Z"
   },
   {
    "duration": 16,
    "start_time": "2023-02-08T21:25:44.405Z"
   },
   {
    "duration": 13,
    "start_time": "2023-02-08T21:25:44.422Z"
   },
   {
    "duration": 10,
    "start_time": "2023-02-08T21:25:44.437Z"
   },
   {
    "duration": 43,
    "start_time": "2023-02-08T21:25:44.449Z"
   },
   {
    "duration": 22,
    "start_time": "2023-02-08T21:25:44.494Z"
   },
   {
    "duration": 9,
    "start_time": "2023-02-08T21:25:44.518Z"
   },
   {
    "duration": 24,
    "start_time": "2023-02-08T21:25:44.528Z"
   },
   {
    "duration": 23,
    "start_time": "2023-02-08T21:25:44.554Z"
   },
   {
    "duration": 13,
    "start_time": "2023-02-08T21:25:44.578Z"
   },
   {
    "duration": 24,
    "start_time": "2023-02-08T21:25:44.593Z"
   },
   {
    "duration": 575,
    "start_time": "2023-02-08T21:27:26.632Z"
   },
   {
    "duration": 23,
    "start_time": "2023-02-08T21:27:27.209Z"
   },
   {
    "duration": 39,
    "start_time": "2023-02-08T21:27:27.234Z"
   },
   {
    "duration": 15,
    "start_time": "2023-02-08T21:27:27.279Z"
   },
   {
    "duration": 37,
    "start_time": "2023-02-08T21:27:27.295Z"
   },
   {
    "duration": 3,
    "start_time": "2023-02-08T21:27:27.335Z"
   },
   {
    "duration": 39,
    "start_time": "2023-02-08T21:27:27.340Z"
   },
   {
    "duration": 21,
    "start_time": "2023-02-08T21:27:27.381Z"
   },
   {
    "duration": 25,
    "start_time": "2023-02-08T21:27:27.405Z"
   },
   {
    "duration": 5,
    "start_time": "2023-02-08T21:27:27.435Z"
   },
   {
    "duration": 59,
    "start_time": "2023-02-08T21:27:27.442Z"
   },
   {
    "duration": 11,
    "start_time": "2023-02-08T21:27:27.503Z"
   },
   {
    "duration": 9,
    "start_time": "2023-02-08T21:27:27.516Z"
   },
   {
    "duration": 16,
    "start_time": "2023-02-08T21:27:27.526Z"
   },
   {
    "duration": 30,
    "start_time": "2023-02-08T21:27:27.550Z"
   },
   {
    "duration": 19,
    "start_time": "2023-02-08T21:27:27.582Z"
   },
   {
    "duration": 3,
    "start_time": "2023-02-08T21:27:27.603Z"
   },
   {
    "duration": 17,
    "start_time": "2023-02-08T21:27:27.608Z"
   },
   {
    "duration": 34,
    "start_time": "2023-02-08T21:27:27.627Z"
   },
   {
    "duration": 21,
    "start_time": "2023-02-08T21:27:27.666Z"
   },
   {
    "duration": 16,
    "start_time": "2023-02-08T21:27:27.689Z"
   },
   {
    "duration": 14,
    "start_time": "2023-02-08T21:27:27.707Z"
   },
   {
    "duration": 18,
    "start_time": "2023-02-08T21:27:27.723Z"
   },
   {
    "duration": 3,
    "start_time": "2023-02-08T21:27:27.744Z"
   },
   {
    "duration": 29,
    "start_time": "2023-02-08T21:27:27.749Z"
   },
   {
    "duration": 12,
    "start_time": "2023-02-08T21:27:27.781Z"
   },
   {
    "duration": 528,
    "start_time": "2023-02-08T21:39:23.664Z"
   },
   {
    "duration": 20,
    "start_time": "2023-02-08T21:39:24.194Z"
   },
   {
    "duration": 14,
    "start_time": "2023-02-08T21:39:24.216Z"
   },
   {
    "duration": 28,
    "start_time": "2023-02-08T21:39:24.232Z"
   },
   {
    "duration": 45,
    "start_time": "2023-02-08T21:39:24.262Z"
   },
   {
    "duration": 4,
    "start_time": "2023-02-08T21:39:24.308Z"
   },
   {
    "duration": 10,
    "start_time": "2023-02-08T21:39:24.313Z"
   },
   {
    "duration": 4,
    "start_time": "2023-02-08T21:39:24.324Z"
   },
   {
    "duration": 26,
    "start_time": "2023-02-08T21:39:24.329Z"
   },
   {
    "duration": 36,
    "start_time": "2023-02-08T21:39:24.358Z"
   },
   {
    "duration": 32,
    "start_time": "2023-02-08T21:39:24.395Z"
   },
   {
    "duration": 9,
    "start_time": "2023-02-08T21:39:24.428Z"
   },
   {
    "duration": 4,
    "start_time": "2023-02-08T21:39:24.438Z"
   },
   {
    "duration": 21,
    "start_time": "2023-02-08T21:39:24.443Z"
   },
   {
    "duration": 43,
    "start_time": "2023-02-08T21:39:24.466Z"
   },
   {
    "duration": 18,
    "start_time": "2023-02-08T21:39:24.510Z"
   },
   {
    "duration": 4,
    "start_time": "2023-02-08T21:39:24.529Z"
   },
   {
    "duration": 10,
    "start_time": "2023-02-08T21:39:24.535Z"
   },
   {
    "duration": 19,
    "start_time": "2023-02-08T21:39:24.547Z"
   },
   {
    "duration": 17,
    "start_time": "2023-02-08T21:39:24.568Z"
   },
   {
    "duration": 9,
    "start_time": "2023-02-08T21:39:24.587Z"
   },
   {
    "duration": 16,
    "start_time": "2023-02-08T21:39:24.598Z"
   },
   {
    "duration": 2,
    "start_time": "2023-02-08T21:39:24.616Z"
   },
   {
    "duration": 6,
    "start_time": "2023-02-08T21:39:24.620Z"
   },
   {
    "duration": 6,
    "start_time": "2023-02-08T21:39:24.627Z"
   },
   {
    "duration": 88,
    "start_time": "2023-02-08T21:41:45.057Z"
   },
   {
    "duration": 5,
    "start_time": "2023-02-08T21:42:00.678Z"
   },
   {
    "duration": 6,
    "start_time": "2023-02-08T21:42:25.438Z"
   },
   {
    "duration": 6,
    "start_time": "2023-02-08T21:42:35.669Z"
   },
   {
    "duration": 9,
    "start_time": "2023-02-08T22:06:22.012Z"
   },
   {
    "duration": 10,
    "start_time": "2023-02-08T22:06:35.741Z"
   },
   {
    "duration": 9,
    "start_time": "2023-02-08T22:08:14.697Z"
   },
   {
    "duration": 15,
    "start_time": "2023-02-08T22:08:25.316Z"
   },
   {
    "duration": 12,
    "start_time": "2023-02-08T22:15:41.121Z"
   },
   {
    "duration": 12,
    "start_time": "2023-02-08T22:17:25.419Z"
   },
   {
    "duration": 475,
    "start_time": "2023-02-08T22:17:33.561Z"
   },
   {
    "duration": 27,
    "start_time": "2023-02-08T22:17:34.038Z"
   },
   {
    "duration": 21,
    "start_time": "2023-02-08T22:17:34.067Z"
   },
   {
    "duration": 10,
    "start_time": "2023-02-08T22:17:34.091Z"
   },
   {
    "duration": 35,
    "start_time": "2023-02-08T22:17:34.104Z"
   },
   {
    "duration": 17,
    "start_time": "2023-02-08T22:17:34.140Z"
   },
   {
    "duration": 17,
    "start_time": "2023-02-08T22:17:34.159Z"
   },
   {
    "duration": 4,
    "start_time": "2023-02-08T22:17:34.177Z"
   },
   {
    "duration": 7,
    "start_time": "2023-02-08T22:17:34.183Z"
   },
   {
    "duration": 8,
    "start_time": "2023-02-08T22:17:34.191Z"
   },
   {
    "duration": 34,
    "start_time": "2023-02-08T22:17:34.200Z"
   },
   {
    "duration": 27,
    "start_time": "2023-02-08T22:17:34.235Z"
   },
   {
    "duration": 10,
    "start_time": "2023-02-08T22:17:34.263Z"
   },
   {
    "duration": 14,
    "start_time": "2023-02-08T22:17:34.275Z"
   },
   {
    "duration": 22,
    "start_time": "2023-02-08T22:17:34.291Z"
   },
   {
    "duration": 20,
    "start_time": "2023-02-08T22:17:34.315Z"
   },
   {
    "duration": 3,
    "start_time": "2023-02-08T22:17:34.337Z"
   },
   {
    "duration": 16,
    "start_time": "2023-02-08T22:17:34.341Z"
   },
   {
    "duration": 11,
    "start_time": "2023-02-08T22:17:34.363Z"
   },
   {
    "duration": 5,
    "start_time": "2023-02-08T22:17:34.376Z"
   },
   {
    "duration": 19,
    "start_time": "2023-02-08T22:17:34.382Z"
   },
   {
    "duration": 14,
    "start_time": "2023-02-08T22:17:34.403Z"
   },
   {
    "duration": 4,
    "start_time": "2023-02-08T22:17:34.419Z"
   },
   {
    "duration": 25,
    "start_time": "2023-02-08T22:17:34.425Z"
   },
   {
    "duration": 12,
    "start_time": "2023-02-08T22:17:34.460Z"
   },
   {
    "duration": 11,
    "start_time": "2023-02-08T22:17:34.474Z"
   },
   {
    "duration": 13,
    "start_time": "2023-02-08T22:17:34.486Z"
   },
   {
    "duration": 449,
    "start_time": "2023-02-08T22:19:26.115Z"
   },
   {
    "duration": 22,
    "start_time": "2023-02-08T22:19:26.566Z"
   },
   {
    "duration": 14,
    "start_time": "2023-02-08T22:19:26.589Z"
   },
   {
    "duration": 9,
    "start_time": "2023-02-08T22:19:26.605Z"
   },
   {
    "duration": 55,
    "start_time": "2023-02-08T22:19:26.615Z"
   },
   {
    "duration": 3,
    "start_time": "2023-02-08T22:19:26.672Z"
   },
   {
    "duration": 11,
    "start_time": "2023-02-08T22:19:26.677Z"
   },
   {
    "duration": 4,
    "start_time": "2023-02-08T22:19:26.690Z"
   },
   {
    "duration": 8,
    "start_time": "2023-02-08T22:19:26.696Z"
   },
   {
    "duration": 4,
    "start_time": "2023-02-08T22:19:26.708Z"
   },
   {
    "duration": 66,
    "start_time": "2023-02-08T22:19:26.714Z"
   },
   {
    "duration": 9,
    "start_time": "2023-02-08T22:19:26.781Z"
   },
   {
    "duration": 3,
    "start_time": "2023-02-08T22:19:26.792Z"
   },
   {
    "duration": 11,
    "start_time": "2023-02-08T22:19:26.797Z"
   },
   {
    "duration": 21,
    "start_time": "2023-02-08T22:19:26.810Z"
   },
   {
    "duration": 24,
    "start_time": "2023-02-08T22:19:26.852Z"
   },
   {
    "duration": 4,
    "start_time": "2023-02-08T22:19:26.877Z"
   },
   {
    "duration": 14,
    "start_time": "2023-02-08T22:19:26.882Z"
   },
   {
    "duration": 6,
    "start_time": "2023-02-08T22:19:26.897Z"
   },
   {
    "duration": 5,
    "start_time": "2023-02-08T22:19:26.905Z"
   },
   {
    "duration": 10,
    "start_time": "2023-02-08T22:19:26.912Z"
   },
   {
    "duration": 40,
    "start_time": "2023-02-08T22:19:26.923Z"
   },
   {
    "duration": 8,
    "start_time": "2023-02-08T22:19:26.968Z"
   },
   {
    "duration": 6,
    "start_time": "2023-02-08T22:19:26.978Z"
   },
   {
    "duration": 12,
    "start_time": "2023-02-08T22:19:26.985Z"
   },
   {
    "duration": 13,
    "start_time": "2023-02-08T22:19:26.998Z"
   },
   {
    "duration": 40,
    "start_time": "2023-02-08T22:19:27.012Z"
   },
   {
    "duration": 460,
    "start_time": "2023-02-08T22:25:21.505Z"
   },
   {
    "duration": 21,
    "start_time": "2023-02-08T22:25:21.970Z"
   },
   {
    "duration": 15,
    "start_time": "2023-02-08T22:25:21.993Z"
   },
   {
    "duration": 10,
    "start_time": "2023-02-08T22:25:22.010Z"
   },
   {
    "duration": 60,
    "start_time": "2023-02-08T22:25:22.023Z"
   },
   {
    "duration": 3,
    "start_time": "2023-02-08T22:25:22.085Z"
   },
   {
    "duration": 16,
    "start_time": "2023-02-08T22:25:22.089Z"
   },
   {
    "duration": 4,
    "start_time": "2023-02-08T22:25:22.107Z"
   },
   {
    "duration": 13,
    "start_time": "2023-02-08T22:25:22.112Z"
   },
   {
    "duration": 8,
    "start_time": "2023-02-08T22:25:22.127Z"
   },
   {
    "duration": 40,
    "start_time": "2023-02-08T22:25:22.154Z"
   },
   {
    "duration": 9,
    "start_time": "2023-02-08T22:25:22.196Z"
   },
   {
    "duration": 15,
    "start_time": "2023-02-08T22:25:22.207Z"
   },
   {
    "duration": 40,
    "start_time": "2023-02-08T22:25:22.225Z"
   },
   {
    "duration": 36,
    "start_time": "2023-02-08T22:25:22.267Z"
   },
   {
    "duration": 17,
    "start_time": "2023-02-08T22:25:22.305Z"
   },
   {
    "duration": 3,
    "start_time": "2023-02-08T22:25:22.323Z"
   },
   {
    "duration": 18,
    "start_time": "2023-02-08T22:25:22.328Z"
   },
   {
    "duration": 24,
    "start_time": "2023-02-08T22:25:22.348Z"
   },
   {
    "duration": 5,
    "start_time": "2023-02-08T22:25:22.373Z"
   },
   {
    "duration": 11,
    "start_time": "2023-02-08T22:25:22.379Z"
   },
   {
    "duration": 13,
    "start_time": "2023-02-08T22:25:22.391Z"
   },
   {
    "duration": 4,
    "start_time": "2023-02-08T22:25:22.405Z"
   },
   {
    "duration": 10,
    "start_time": "2023-02-08T22:25:22.411Z"
   },
   {
    "duration": 33,
    "start_time": "2023-02-08T22:25:22.422Z"
   },
   {
    "duration": 12,
    "start_time": "2023-02-08T22:25:22.460Z"
   },
   {
    "duration": 17,
    "start_time": "2023-02-08T22:25:22.473Z"
   },
   {
    "duration": 436,
    "start_time": "2023-02-08T23:22:45.903Z"
   },
   {
    "duration": 37,
    "start_time": "2023-02-08T23:22:46.342Z"
   },
   {
    "duration": 35,
    "start_time": "2023-02-08T23:22:46.381Z"
   },
   {
    "duration": 12,
    "start_time": "2023-02-08T23:22:46.418Z"
   },
   {
    "duration": 52,
    "start_time": "2023-02-08T23:22:46.432Z"
   },
   {
    "duration": 5,
    "start_time": "2023-02-08T23:22:46.486Z"
   },
   {
    "duration": 17,
    "start_time": "2023-02-08T23:22:46.492Z"
   },
   {
    "duration": 3,
    "start_time": "2023-02-08T23:22:46.511Z"
   },
   {
    "duration": 7,
    "start_time": "2023-02-08T23:22:46.516Z"
   },
   {
    "duration": 3,
    "start_time": "2023-02-08T23:22:46.526Z"
   },
   {
    "duration": 56,
    "start_time": "2023-02-08T23:22:46.530Z"
   },
   {
    "duration": 9,
    "start_time": "2023-02-08T23:22:46.587Z"
   },
   {
    "duration": 4,
    "start_time": "2023-02-08T23:22:46.598Z"
   },
   {
    "duration": 11,
    "start_time": "2023-02-08T23:22:46.603Z"
   },
   {
    "duration": 35,
    "start_time": "2023-02-08T23:22:46.615Z"
   },
   {
    "duration": 27,
    "start_time": "2023-02-08T23:22:46.652Z"
   },
   {
    "duration": 3,
    "start_time": "2023-02-08T23:22:46.681Z"
   },
   {
    "duration": 11,
    "start_time": "2023-02-08T23:22:46.686Z"
   },
   {
    "duration": 10,
    "start_time": "2023-02-08T23:22:46.698Z"
   },
   {
    "duration": 3,
    "start_time": "2023-02-08T23:22:46.710Z"
   },
   {
    "duration": 10,
    "start_time": "2023-02-08T23:22:46.714Z"
   },
   {
    "duration": 46,
    "start_time": "2023-02-08T23:22:46.725Z"
   },
   {
    "duration": 4,
    "start_time": "2023-02-08T23:22:46.777Z"
   },
   {
    "duration": 13,
    "start_time": "2023-02-08T23:22:46.782Z"
   },
   {
    "duration": 11,
    "start_time": "2023-02-08T23:22:46.796Z"
   },
   {
    "duration": 11,
    "start_time": "2023-02-08T23:22:46.808Z"
   },
   {
    "duration": 12,
    "start_time": "2023-02-08T23:22:46.820Z"
   },
   {
    "duration": 99,
    "start_time": "2023-02-09T18:14:20.614Z"
   },
   {
    "duration": 91,
    "start_time": "2023-02-09T18:14:34.011Z"
   },
   {
    "duration": 118,
    "start_time": "2023-02-09T18:15:04.487Z"
   },
   {
    "duration": 111,
    "start_time": "2023-02-09T18:15:57.489Z"
   },
   {
    "duration": 83,
    "start_time": "2023-02-09T18:16:05.478Z"
   },
   {
    "duration": 58,
    "start_time": "2023-02-09T18:18:09.621Z"
   },
   {
    "duration": 1233,
    "start_time": "2023-02-09T18:18:24.293Z"
   },
   {
    "duration": 28,
    "start_time": "2023-02-09T18:18:25.528Z"
   },
   {
    "duration": 39,
    "start_time": "2023-02-09T18:18:25.557Z"
   },
   {
    "duration": 14,
    "start_time": "2023-02-09T18:18:25.599Z"
   },
   {
    "duration": 48,
    "start_time": "2023-02-09T18:18:25.615Z"
   },
   {
    "duration": 6,
    "start_time": "2023-02-09T18:18:25.670Z"
   },
   {
    "duration": 17,
    "start_time": "2023-02-09T18:18:25.679Z"
   },
   {
    "duration": 6,
    "start_time": "2023-02-09T18:18:25.697Z"
   },
   {
    "duration": 16,
    "start_time": "2023-02-09T18:18:25.704Z"
   },
   {
    "duration": 5,
    "start_time": "2023-02-09T18:18:25.722Z"
   },
   {
    "duration": 50,
    "start_time": "2023-02-09T18:18:25.728Z"
   },
   {
    "duration": 9,
    "start_time": "2023-02-09T18:18:25.780Z"
   },
   {
    "duration": 5,
    "start_time": "2023-02-09T18:18:25.791Z"
   },
   {
    "duration": 13,
    "start_time": "2023-02-09T18:18:25.798Z"
   },
   {
    "duration": 52,
    "start_time": "2023-02-09T18:18:25.813Z"
   },
   {
    "duration": 22,
    "start_time": "2023-02-09T18:18:25.867Z"
   },
   {
    "duration": 4,
    "start_time": "2023-02-09T18:18:25.890Z"
   },
   {
    "duration": 16,
    "start_time": "2023-02-09T18:18:25.896Z"
   },
   {
    "duration": 7,
    "start_time": "2023-02-09T18:18:25.914Z"
   },
   {
    "duration": 3,
    "start_time": "2023-02-09T18:18:25.923Z"
   },
   {
    "duration": 20,
    "start_time": "2023-02-09T18:18:25.928Z"
   },
   {
    "duration": 71,
    "start_time": "2023-02-09T18:18:25.950Z"
   },
   {
    "duration": 0,
    "start_time": "2023-02-09T18:18:26.023Z"
   },
   {
    "duration": 0,
    "start_time": "2023-02-09T18:18:26.024Z"
   },
   {
    "duration": 0,
    "start_time": "2023-02-09T18:18:26.025Z"
   },
   {
    "duration": 0,
    "start_time": "2023-02-09T18:18:26.026Z"
   },
   {
    "duration": 0,
    "start_time": "2023-02-09T18:18:26.027Z"
   },
   {
    "duration": 8,
    "start_time": "2023-02-09T18:19:10.589Z"
   },
   {
    "duration": 8,
    "start_time": "2023-02-09T18:19:18.988Z"
   },
   {
    "duration": 32,
    "start_time": "2023-02-09T18:19:31.785Z"
   },
   {
    "duration": 34,
    "start_time": "2023-02-09T18:19:41.625Z"
   },
   {
    "duration": 480,
    "start_time": "2023-02-09T18:19:55.891Z"
   },
   {
    "duration": 30,
    "start_time": "2023-02-09T18:19:56.378Z"
   },
   {
    "duration": 23,
    "start_time": "2023-02-09T18:19:56.410Z"
   },
   {
    "duration": 23,
    "start_time": "2023-02-09T18:19:56.435Z"
   },
   {
    "duration": 52,
    "start_time": "2023-02-09T18:19:56.465Z"
   },
   {
    "duration": 6,
    "start_time": "2023-02-09T18:19:56.518Z"
   },
   {
    "duration": 63,
    "start_time": "2023-02-09T18:19:56.525Z"
   },
   {
    "duration": 14,
    "start_time": "2023-02-09T18:19:56.590Z"
   },
   {
    "duration": 30,
    "start_time": "2023-02-09T18:19:56.606Z"
   },
   {
    "duration": 43,
    "start_time": "2023-02-09T18:19:56.637Z"
   },
   {
    "duration": 41,
    "start_time": "2023-02-09T18:19:56.682Z"
   },
   {
    "duration": 9,
    "start_time": "2023-02-09T18:19:56.725Z"
   },
   {
    "duration": 46,
    "start_time": "2023-02-09T18:19:56.736Z"
   },
   {
    "duration": 38,
    "start_time": "2023-02-09T18:19:56.785Z"
   },
   {
    "duration": 64,
    "start_time": "2023-02-09T18:19:56.825Z"
   },
   {
    "duration": 16,
    "start_time": "2023-02-09T18:19:56.891Z"
   },
   {
    "duration": 3,
    "start_time": "2023-02-09T18:19:56.909Z"
   },
   {
    "duration": 22,
    "start_time": "2023-02-09T18:19:56.914Z"
   },
   {
    "duration": 30,
    "start_time": "2023-02-09T18:19:56.937Z"
   },
   {
    "duration": 15,
    "start_time": "2023-02-09T18:19:56.969Z"
   },
   {
    "duration": 16,
    "start_time": "2023-02-09T18:19:56.986Z"
   },
   {
    "duration": 48,
    "start_time": "2023-02-09T18:19:57.003Z"
   },
   {
    "duration": 15,
    "start_time": "2023-02-09T18:19:57.057Z"
   },
   {
    "duration": 14,
    "start_time": "2023-02-09T18:19:57.074Z"
   },
   {
    "duration": 17,
    "start_time": "2023-02-09T18:19:57.089Z"
   },
   {
    "duration": 17,
    "start_time": "2023-02-09T18:19:57.107Z"
   },
   {
    "duration": 15,
    "start_time": "2023-02-09T18:19:57.126Z"
   },
   {
    "duration": 96,
    "start_time": "2023-02-09T18:22:49.478Z"
   },
   {
    "duration": 22,
    "start_time": "2023-02-09T18:22:56.982Z"
   },
   {
    "duration": 21,
    "start_time": "2023-02-09T18:23:12.919Z"
   },
   {
    "duration": 20,
    "start_time": "2023-02-09T18:23:42.278Z"
   },
   {
    "duration": 32,
    "start_time": "2023-02-09T18:23:51.927Z"
   },
   {
    "duration": 25,
    "start_time": "2023-02-09T18:23:59.545Z"
   },
   {
    "duration": 18,
    "start_time": "2023-02-09T18:24:15.082Z"
   },
   {
    "duration": 20,
    "start_time": "2023-02-09T18:24:38.915Z"
   },
   {
    "duration": 446,
    "start_time": "2023-02-09T20:58:13.058Z"
   },
   {
    "duration": 20,
    "start_time": "2023-02-09T20:58:13.506Z"
   },
   {
    "duration": 13,
    "start_time": "2023-02-09T20:58:13.529Z"
   },
   {
    "duration": 11,
    "start_time": "2023-02-09T20:58:13.544Z"
   },
   {
    "duration": 35,
    "start_time": "2023-02-09T20:58:13.556Z"
   },
   {
    "duration": 3,
    "start_time": "2023-02-09T20:58:13.593Z"
   },
   {
    "duration": 20,
    "start_time": "2023-02-09T20:58:13.598Z"
   },
   {
    "duration": 9,
    "start_time": "2023-02-09T20:58:13.619Z"
   },
   {
    "duration": 14,
    "start_time": "2023-02-09T20:58:13.631Z"
   },
   {
    "duration": 5,
    "start_time": "2023-02-09T20:58:13.646Z"
   },
   {
    "duration": 34,
    "start_time": "2023-02-09T20:58:13.653Z"
   },
   {
    "duration": 9,
    "start_time": "2023-02-09T20:58:13.689Z"
   },
   {
    "duration": 5,
    "start_time": "2023-02-09T20:58:13.699Z"
   },
   {
    "duration": 13,
    "start_time": "2023-02-09T20:58:13.705Z"
   },
   {
    "duration": 38,
    "start_time": "2023-02-09T20:58:13.719Z"
   },
   {
    "duration": 14,
    "start_time": "2023-02-09T20:58:13.758Z"
   },
   {
    "duration": 3,
    "start_time": "2023-02-09T20:58:13.773Z"
   },
   {
    "duration": 15,
    "start_time": "2023-02-09T20:58:13.778Z"
   },
   {
    "duration": 6,
    "start_time": "2023-02-09T20:58:13.794Z"
   },
   {
    "duration": 7,
    "start_time": "2023-02-09T20:58:13.801Z"
   },
   {
    "duration": 17,
    "start_time": "2023-02-09T20:58:13.809Z"
   },
   {
    "duration": 35,
    "start_time": "2023-02-09T20:58:13.827Z"
   },
   {
    "duration": 4,
    "start_time": "2023-02-09T20:58:13.864Z"
   },
   {
    "duration": 7,
    "start_time": "2023-02-09T20:58:13.869Z"
   },
   {
    "duration": 18,
    "start_time": "2023-02-09T20:58:13.878Z"
   },
   {
    "duration": 10,
    "start_time": "2023-02-09T20:58:13.897Z"
   },
   {
    "duration": 13,
    "start_time": "2023-02-09T20:58:13.909Z"
   },
   {
    "duration": 83,
    "start_time": "2023-02-09T21:00:43.118Z"
   },
   {
    "duration": 79,
    "start_time": "2023-02-09T21:00:55.392Z"
   },
   {
    "duration": 27,
    "start_time": "2023-02-09T21:01:22.326Z"
   },
   {
    "duration": 23,
    "start_time": "2023-02-09T21:01:27.665Z"
   },
   {
    "duration": 19,
    "start_time": "2023-02-09T21:01:46.261Z"
   },
   {
    "duration": 20,
    "start_time": "2023-02-09T21:30:20.985Z"
   },
   {
    "duration": 23,
    "start_time": "2023-02-09T21:30:26.450Z"
   },
   {
    "duration": 23,
    "start_time": "2023-02-09T21:30:38.084Z"
   },
   {
    "duration": 23,
    "start_time": "2023-02-09T21:30:52.920Z"
   },
   {
    "duration": 25,
    "start_time": "2023-02-09T21:32:00.194Z"
   },
   {
    "duration": 30,
    "start_time": "2023-02-09T21:32:04.657Z"
   },
   {
    "duration": 23,
    "start_time": "2023-02-09T21:33:20.359Z"
   },
   {
    "duration": 26,
    "start_time": "2023-02-09T21:34:13.424Z"
   },
   {
    "duration": 36,
    "start_time": "2023-02-09T21:34:18.490Z"
   },
   {
    "duration": 19,
    "start_time": "2023-02-09T21:36:15.886Z"
   },
   {
    "duration": 22,
    "start_time": "2023-02-09T21:36:30.862Z"
   },
   {
    "duration": 24,
    "start_time": "2023-02-09T21:36:36.806Z"
   },
   {
    "duration": 23,
    "start_time": "2023-02-09T21:36:43.903Z"
   },
   {
    "duration": 21,
    "start_time": "2023-02-09T21:37:03.425Z"
   },
   {
    "duration": 34,
    "start_time": "2023-02-09T21:37:18.565Z"
   },
   {
    "duration": 27,
    "start_time": "2023-02-09T21:38:03.498Z"
   },
   {
    "duration": 23,
    "start_time": "2023-02-09T21:38:07.887Z"
   },
   {
    "duration": 22,
    "start_time": "2023-02-09T21:38:56.790Z"
   },
   {
    "duration": 23,
    "start_time": "2023-02-09T21:39:02.621Z"
   },
   {
    "duration": 23,
    "start_time": "2023-02-09T21:39:22.225Z"
   },
   {
    "duration": 25,
    "start_time": "2023-02-09T21:39:26.470Z"
   },
   {
    "duration": 23,
    "start_time": "2023-02-09T21:39:33.164Z"
   },
   {
    "duration": 23,
    "start_time": "2023-02-09T21:39:36.892Z"
   },
   {
    "duration": 25,
    "start_time": "2023-02-09T21:39:40.633Z"
   },
   {
    "duration": 441,
    "start_time": "2023-02-09T21:42:05.586Z"
   },
   {
    "duration": 22,
    "start_time": "2023-02-09T21:42:06.029Z"
   },
   {
    "duration": 24,
    "start_time": "2023-02-09T21:42:06.053Z"
   },
   {
    "duration": 13,
    "start_time": "2023-02-09T21:42:06.079Z"
   },
   {
    "duration": 38,
    "start_time": "2023-02-09T21:42:06.094Z"
   },
   {
    "duration": 3,
    "start_time": "2023-02-09T21:42:06.134Z"
   },
   {
    "duration": 17,
    "start_time": "2023-02-09T21:42:06.139Z"
   },
   {
    "duration": 8,
    "start_time": "2023-02-09T21:42:06.158Z"
   },
   {
    "duration": 19,
    "start_time": "2023-02-09T21:42:06.168Z"
   },
   {
    "duration": 25,
    "start_time": "2023-02-09T21:42:06.188Z"
   },
   {
    "duration": 34,
    "start_time": "2023-02-09T21:42:06.215Z"
   },
   {
    "duration": 10,
    "start_time": "2023-02-09T21:42:06.251Z"
   },
   {
    "duration": 7,
    "start_time": "2023-02-09T21:42:06.263Z"
   },
   {
    "duration": 16,
    "start_time": "2023-02-09T21:42:06.273Z"
   },
   {
    "duration": 39,
    "start_time": "2023-02-09T21:42:06.291Z"
   },
   {
    "duration": 25,
    "start_time": "2023-02-09T21:42:06.332Z"
   },
   {
    "duration": 4,
    "start_time": "2023-02-09T21:42:06.358Z"
   },
   {
    "duration": 16,
    "start_time": "2023-02-09T21:42:06.364Z"
   },
   {
    "duration": 8,
    "start_time": "2023-02-09T21:42:06.383Z"
   },
   {
    "duration": 7,
    "start_time": "2023-02-09T21:42:06.393Z"
   },
   {
    "duration": 20,
    "start_time": "2023-02-09T21:42:06.402Z"
   },
   {
    "duration": 51,
    "start_time": "2023-02-09T21:42:06.424Z"
   },
   {
    "duration": 4,
    "start_time": "2023-02-09T21:42:06.477Z"
   },
   {
    "duration": 16,
    "start_time": "2023-02-09T21:42:06.482Z"
   },
   {
    "duration": 21,
    "start_time": "2023-02-09T21:42:06.500Z"
   },
   {
    "duration": 23,
    "start_time": "2023-02-09T21:42:06.523Z"
   },
   {
    "duration": 12,
    "start_time": "2023-02-09T21:42:06.547Z"
   },
   {
    "duration": 18,
    "start_time": "2023-02-09T21:47:17.808Z"
   },
   {
    "duration": 22,
    "start_time": "2023-02-09T21:47:32.766Z"
   },
   {
    "duration": 85,
    "start_time": "2023-02-09T21:48:20.554Z"
   },
   {
    "duration": 20,
    "start_time": "2023-02-09T21:48:35.664Z"
   },
   {
    "duration": 23,
    "start_time": "2023-02-09T21:49:12.171Z"
   },
   {
    "duration": 69,
    "start_time": "2023-02-09T21:59:48.021Z"
   },
   {
    "duration": 72,
    "start_time": "2023-02-09T21:59:57.026Z"
   },
   {
    "duration": 0,
    "start_time": "2023-02-09T21:59:57.101Z"
   },
   {
    "duration": 0,
    "start_time": "2023-02-09T21:59:57.104Z"
   },
   {
    "duration": 0,
    "start_time": "2023-02-09T21:59:57.106Z"
   },
   {
    "duration": 0,
    "start_time": "2023-02-09T21:59:57.107Z"
   },
   {
    "duration": 0,
    "start_time": "2023-02-09T21:59:57.110Z"
   },
   {
    "duration": 0,
    "start_time": "2023-02-09T21:59:57.111Z"
   },
   {
    "duration": 0,
    "start_time": "2023-02-09T21:59:57.113Z"
   },
   {
    "duration": 0,
    "start_time": "2023-02-09T21:59:57.114Z"
   },
   {
    "duration": 0,
    "start_time": "2023-02-09T21:59:57.116Z"
   },
   {
    "duration": 0,
    "start_time": "2023-02-09T21:59:57.118Z"
   },
   {
    "duration": 0,
    "start_time": "2023-02-09T21:59:57.119Z"
   },
   {
    "duration": 0,
    "start_time": "2023-02-09T21:59:57.121Z"
   },
   {
    "duration": 0,
    "start_time": "2023-02-09T21:59:57.122Z"
   },
   {
    "duration": 0,
    "start_time": "2023-02-09T21:59:57.123Z"
   },
   {
    "duration": 0,
    "start_time": "2023-02-09T21:59:57.124Z"
   },
   {
    "duration": 0,
    "start_time": "2023-02-09T21:59:57.126Z"
   },
   {
    "duration": 0,
    "start_time": "2023-02-09T21:59:57.127Z"
   },
   {
    "duration": 0,
    "start_time": "2023-02-09T21:59:57.128Z"
   },
   {
    "duration": 0,
    "start_time": "2023-02-09T21:59:57.130Z"
   },
   {
    "duration": 0,
    "start_time": "2023-02-09T21:59:57.131Z"
   },
   {
    "duration": 0,
    "start_time": "2023-02-09T21:59:57.132Z"
   },
   {
    "duration": 0,
    "start_time": "2023-02-09T21:59:57.144Z"
   },
   {
    "duration": 0,
    "start_time": "2023-02-09T21:59:57.145Z"
   },
   {
    "duration": 0,
    "start_time": "2023-02-09T21:59:57.146Z"
   },
   {
    "duration": 0,
    "start_time": "2023-02-09T21:59:57.147Z"
   },
   {
    "duration": 0,
    "start_time": "2023-02-09T21:59:57.148Z"
   },
   {
    "duration": 0,
    "start_time": "2023-02-09T21:59:57.149Z"
   },
   {
    "duration": 44,
    "start_time": "2023-02-09T22:05:37.155Z"
   },
   {
    "duration": 530,
    "start_time": "2023-02-09T22:05:54.512Z"
   },
   {
    "duration": 20,
    "start_time": "2023-02-09T22:05:55.044Z"
   },
   {
    "duration": 20,
    "start_time": "2023-02-09T22:05:55.068Z"
   },
   {
    "duration": 12,
    "start_time": "2023-02-09T22:05:55.090Z"
   },
   {
    "duration": 59,
    "start_time": "2023-02-09T22:05:55.104Z"
   },
   {
    "duration": 4,
    "start_time": "2023-02-09T22:05:55.165Z"
   },
   {
    "duration": 14,
    "start_time": "2023-02-09T22:05:55.171Z"
   },
   {
    "duration": 5,
    "start_time": "2023-02-09T22:05:55.187Z"
   },
   {
    "duration": 7,
    "start_time": "2023-02-09T22:05:55.196Z"
   },
   {
    "duration": 5,
    "start_time": "2023-02-09T22:05:55.205Z"
   },
   {
    "duration": 58,
    "start_time": "2023-02-09T22:05:55.211Z"
   },
   {
    "duration": 9,
    "start_time": "2023-02-09T22:05:55.271Z"
   },
   {
    "duration": 6,
    "start_time": "2023-02-09T22:05:55.282Z"
   },
   {
    "duration": 13,
    "start_time": "2023-02-09T22:05:55.289Z"
   },
   {
    "duration": 41,
    "start_time": "2023-02-09T22:05:55.304Z"
   },
   {
    "duration": 16,
    "start_time": "2023-02-09T22:05:55.346Z"
   },
   {
    "duration": 3,
    "start_time": "2023-02-09T22:05:55.364Z"
   },
   {
    "duration": 16,
    "start_time": "2023-02-09T22:05:55.368Z"
   },
   {
    "duration": 5,
    "start_time": "2023-02-09T22:05:55.386Z"
   },
   {
    "duration": 3,
    "start_time": "2023-02-09T22:05:55.393Z"
   },
   {
    "duration": 19,
    "start_time": "2023-02-09T22:05:55.398Z"
   },
   {
    "duration": 47,
    "start_time": "2023-02-09T22:05:55.419Z"
   },
   {
    "duration": 4,
    "start_time": "2023-02-09T22:05:55.468Z"
   },
   {
    "duration": 11,
    "start_time": "2023-02-09T22:05:55.474Z"
   },
   {
    "duration": 21,
    "start_time": "2023-02-09T22:05:55.486Z"
   },
   {
    "duration": 13,
    "start_time": "2023-02-09T22:05:55.509Z"
   },
   {
    "duration": 12,
    "start_time": "2023-02-09T22:05:55.546Z"
   },
   {
    "duration": 71,
    "start_time": "2023-02-09T22:16:18.391Z"
   },
   {
    "duration": 62,
    "start_time": "2023-02-09T22:16:55.329Z"
   },
   {
    "duration": 88,
    "start_time": "2023-02-09T22:24:43.277Z"
   },
   {
    "duration": 80,
    "start_time": "2023-02-09T22:24:58.870Z"
   },
   {
    "duration": 468,
    "start_time": "2023-02-09T22:28:00.906Z"
   },
   {
    "duration": 21,
    "start_time": "2023-02-09T22:28:01.376Z"
   },
   {
    "duration": 56,
    "start_time": "2023-02-09T22:28:01.399Z"
   },
   {
    "duration": 48,
    "start_time": "2023-02-09T22:28:01.457Z"
   },
   {
    "duration": 66,
    "start_time": "2023-02-09T22:28:01.507Z"
   },
   {
    "duration": 32,
    "start_time": "2023-02-09T22:28:01.575Z"
   },
   {
    "duration": 43,
    "start_time": "2023-02-09T22:28:01.609Z"
   },
   {
    "duration": 11,
    "start_time": "2023-02-09T22:28:01.654Z"
   },
   {
    "duration": 43,
    "start_time": "2023-02-09T22:28:01.666Z"
   },
   {
    "duration": 34,
    "start_time": "2023-02-09T22:28:01.710Z"
   },
   {
    "duration": 36,
    "start_time": "2023-02-09T22:28:01.746Z"
   },
   {
    "duration": 10,
    "start_time": "2023-02-09T22:28:01.784Z"
   },
   {
    "duration": 10,
    "start_time": "2023-02-09T22:28:01.795Z"
   },
   {
    "duration": 12,
    "start_time": "2023-02-09T22:28:01.807Z"
   },
   {
    "duration": 40,
    "start_time": "2023-02-09T22:28:01.821Z"
   },
   {
    "duration": 16,
    "start_time": "2023-02-09T22:28:01.863Z"
   },
   {
    "duration": 14,
    "start_time": "2023-02-09T22:28:01.881Z"
   },
   {
    "duration": 13,
    "start_time": "2023-02-09T22:28:01.897Z"
   },
   {
    "duration": 16,
    "start_time": "2023-02-09T22:28:01.911Z"
   },
   {
    "duration": 7,
    "start_time": "2023-02-09T22:28:01.929Z"
   },
   {
    "duration": 19,
    "start_time": "2023-02-09T22:28:01.937Z"
   },
   {
    "duration": 29,
    "start_time": "2023-02-09T22:28:01.957Z"
   },
   {
    "duration": 4,
    "start_time": "2023-02-09T22:28:01.988Z"
   },
   {
    "duration": 23,
    "start_time": "2023-02-09T22:28:01.993Z"
   },
   {
    "duration": 14,
    "start_time": "2023-02-09T22:28:02.018Z"
   },
   {
    "duration": 16,
    "start_time": "2023-02-09T22:28:02.043Z"
   },
   {
    "duration": 15,
    "start_time": "2023-02-09T22:28:02.061Z"
   },
   {
    "duration": 123,
    "start_time": "2023-02-09T22:29:50.359Z"
   },
   {
    "duration": 13,
    "start_time": "2023-02-09T22:29:58.392Z"
   },
   {
    "duration": 19,
    "start_time": "2023-02-09T22:31:10.087Z"
   },
   {
    "duration": 1134,
    "start_time": "2023-02-09T22:34:16.753Z"
   },
   {
    "duration": 21,
    "start_time": "2023-02-09T22:34:49.494Z"
   },
   {
    "duration": 23,
    "start_time": "2023-02-09T22:35:43.557Z"
   },
   {
    "duration": 24,
    "start_time": "2023-02-09T22:39:38.773Z"
   },
   {
    "duration": 23,
    "start_time": "2023-02-09T22:40:00.617Z"
   },
   {
    "duration": 22,
    "start_time": "2023-02-09T22:40:06.380Z"
   },
   {
    "duration": 20,
    "start_time": "2023-02-09T22:40:33.962Z"
   },
   {
    "duration": 29,
    "start_time": "2023-02-09T22:42:48.825Z"
   },
   {
    "duration": 21,
    "start_time": "2023-02-09T22:51:45.966Z"
   },
   {
    "duration": 672,
    "start_time": "2023-02-10T17:05:24.033Z"
   },
   {
    "duration": 23,
    "start_time": "2023-02-10T17:05:24.707Z"
   },
   {
    "duration": 16,
    "start_time": "2023-02-10T17:05:24.732Z"
   },
   {
    "duration": 11,
    "start_time": "2023-02-10T17:05:24.751Z"
   },
   {
    "duration": 48,
    "start_time": "2023-02-10T17:05:24.764Z"
   },
   {
    "duration": 3,
    "start_time": "2023-02-10T17:05:24.814Z"
   },
   {
    "duration": 9,
    "start_time": "2023-02-10T17:05:24.819Z"
   },
   {
    "duration": 10,
    "start_time": "2023-02-10T17:05:24.830Z"
   },
   {
    "duration": 8,
    "start_time": "2023-02-10T17:05:24.842Z"
   },
   {
    "duration": 8,
    "start_time": "2023-02-10T17:05:24.853Z"
   },
   {
    "duration": 44,
    "start_time": "2023-02-10T17:05:24.862Z"
   },
   {
    "duration": 10,
    "start_time": "2023-02-10T17:05:24.907Z"
   },
   {
    "duration": 8,
    "start_time": "2023-02-10T17:05:24.918Z"
   },
   {
    "duration": 19,
    "start_time": "2023-02-10T17:05:24.927Z"
   },
   {
    "duration": 21,
    "start_time": "2023-02-10T17:05:24.948Z"
   },
   {
    "duration": 24,
    "start_time": "2023-02-10T17:05:24.971Z"
   },
   {
    "duration": 3,
    "start_time": "2023-02-10T17:05:24.997Z"
   },
   {
    "duration": 16,
    "start_time": "2023-02-10T17:05:25.002Z"
   },
   {
    "duration": 6,
    "start_time": "2023-02-10T17:05:25.020Z"
   },
   {
    "duration": 6,
    "start_time": "2023-02-10T17:05:25.027Z"
   },
   {
    "duration": 17,
    "start_time": "2023-02-10T17:05:25.034Z"
   },
   {
    "duration": 25,
    "start_time": "2023-02-10T17:05:25.052Z"
   },
   {
    "duration": 4,
    "start_time": "2023-02-10T17:05:25.091Z"
   },
   {
    "duration": 7,
    "start_time": "2023-02-10T17:05:25.096Z"
   },
   {
    "duration": 22,
    "start_time": "2023-02-10T17:05:25.104Z"
   },
   {
    "duration": 22,
    "start_time": "2023-02-10T17:05:25.127Z"
   },
   {
    "duration": 47,
    "start_time": "2023-02-10T17:05:25.150Z"
   },
   {
    "duration": 459,
    "start_time": "2023-02-10T18:41:52.877Z"
   },
   {
    "duration": 23,
    "start_time": "2023-02-10T18:41:53.339Z"
   },
   {
    "duration": 18,
    "start_time": "2023-02-10T18:41:53.364Z"
   },
   {
    "duration": 10,
    "start_time": "2023-02-10T18:41:53.385Z"
   },
   {
    "duration": 45,
    "start_time": "2023-02-10T18:41:53.396Z"
   },
   {
    "duration": 4,
    "start_time": "2023-02-10T18:41:53.453Z"
   },
   {
    "duration": 12,
    "start_time": "2023-02-10T18:41:53.459Z"
   },
   {
    "duration": 4,
    "start_time": "2023-02-10T18:41:53.473Z"
   },
   {
    "duration": 13,
    "start_time": "2023-02-10T18:41:53.478Z"
   },
   {
    "duration": 10,
    "start_time": "2023-02-10T18:41:53.494Z"
   },
   {
    "duration": 53,
    "start_time": "2023-02-10T18:41:53.506Z"
   },
   {
    "duration": 10,
    "start_time": "2023-02-10T18:41:53.561Z"
   },
   {
    "duration": 4,
    "start_time": "2023-02-10T18:41:53.572Z"
   },
   {
    "duration": 16,
    "start_time": "2023-02-10T18:41:53.577Z"
   },
   {
    "duration": 19,
    "start_time": "2023-02-10T18:41:53.595Z"
   },
   {
    "duration": 38,
    "start_time": "2023-02-10T18:41:53.615Z"
   },
   {
    "duration": 3,
    "start_time": "2023-02-10T18:41:53.655Z"
   },
   {
    "duration": 25,
    "start_time": "2023-02-10T18:41:53.660Z"
   },
   {
    "duration": 5,
    "start_time": "2023-02-10T18:41:53.686Z"
   },
   {
    "duration": 7,
    "start_time": "2023-02-10T18:41:53.693Z"
   },
   {
    "duration": 12,
    "start_time": "2023-02-10T18:41:53.702Z"
   },
   {
    "duration": 25,
    "start_time": "2023-02-10T18:41:53.715Z"
   },
   {
    "duration": 13,
    "start_time": "2023-02-10T18:41:53.741Z"
   },
   {
    "duration": 15,
    "start_time": "2023-02-10T18:41:53.756Z"
   },
   {
    "duration": 26,
    "start_time": "2023-02-10T18:41:53.772Z"
   },
   {
    "duration": 21,
    "start_time": "2023-02-10T18:41:53.799Z"
   },
   {
    "duration": 37,
    "start_time": "2023-02-10T18:41:53.821Z"
   },
   {
    "duration": 438,
    "start_time": "2023-02-10T18:47:41.290Z"
   },
   {
    "duration": 20,
    "start_time": "2023-02-10T18:47:41.730Z"
   },
   {
    "duration": 14,
    "start_time": "2023-02-10T18:47:41.752Z"
   },
   {
    "duration": 9,
    "start_time": "2023-02-10T18:47:41.768Z"
   },
   {
    "duration": 33,
    "start_time": "2023-02-10T18:47:41.778Z"
   },
   {
    "duration": 3,
    "start_time": "2023-02-10T18:47:41.812Z"
   },
   {
    "duration": 11,
    "start_time": "2023-02-10T18:47:41.817Z"
   },
   {
    "duration": 24,
    "start_time": "2023-02-10T18:47:41.830Z"
   },
   {
    "duration": 8,
    "start_time": "2023-02-10T18:47:41.856Z"
   },
   {
    "duration": 4,
    "start_time": "2023-02-10T18:47:41.867Z"
   },
   {
    "duration": 37,
    "start_time": "2023-02-10T18:47:41.872Z"
   },
   {
    "duration": 9,
    "start_time": "2023-02-10T18:47:41.911Z"
   },
   {
    "duration": 3,
    "start_time": "2023-02-10T18:47:41.922Z"
   },
   {
    "duration": 34,
    "start_time": "2023-02-10T18:47:41.926Z"
   },
   {
    "duration": 18,
    "start_time": "2023-02-10T18:47:41.962Z"
   },
   {
    "duration": 17,
    "start_time": "2023-02-10T18:47:41.982Z"
   },
   {
    "duration": 3,
    "start_time": "2023-02-10T18:47:42.000Z"
   },
   {
    "duration": 12,
    "start_time": "2023-02-10T18:47:42.005Z"
   },
   {
    "duration": 13,
    "start_time": "2023-02-10T18:47:42.019Z"
   },
   {
    "duration": 3,
    "start_time": "2023-02-10T18:47:42.054Z"
   },
   {
    "duration": 10,
    "start_time": "2023-02-10T18:47:42.059Z"
   },
   {
    "duration": 25,
    "start_time": "2023-02-10T18:47:42.071Z"
   },
   {
    "duration": 19,
    "start_time": "2023-02-10T18:47:42.097Z"
   },
   {
    "duration": 3,
    "start_time": "2023-02-10T18:47:42.118Z"
   },
   {
    "duration": 31,
    "start_time": "2023-02-10T18:47:42.123Z"
   },
   {
    "duration": 22,
    "start_time": "2023-02-10T18:47:42.156Z"
   },
   {
    "duration": 20,
    "start_time": "2023-02-10T18:47:42.180Z"
   },
   {
    "duration": 21,
    "start_time": "2023-02-10T18:47:42.202Z"
   },
   {
    "duration": 23,
    "start_time": "2023-02-10T18:48:55.838Z"
   },
   {
    "duration": 49,
    "start_time": "2023-02-11T10:32:54.405Z"
   },
   {
    "duration": 481,
    "start_time": "2023-02-11T10:33:02.563Z"
   },
   {
    "duration": 24,
    "start_time": "2023-02-11T10:33:03.046Z"
   },
   {
    "duration": 15,
    "start_time": "2023-02-11T10:33:03.075Z"
   },
   {
    "duration": 20,
    "start_time": "2023-02-11T10:33:03.092Z"
   },
   {
    "duration": 31,
    "start_time": "2023-02-11T10:33:03.113Z"
   },
   {
    "duration": 4,
    "start_time": "2023-02-11T10:33:03.145Z"
   },
   {
    "duration": 15,
    "start_time": "2023-02-11T10:33:03.150Z"
   },
   {
    "duration": 9,
    "start_time": "2023-02-11T10:33:03.166Z"
   },
   {
    "duration": 7,
    "start_time": "2023-02-11T10:33:03.178Z"
   },
   {
    "duration": 6,
    "start_time": "2023-02-11T10:33:03.187Z"
   },
   {
    "duration": 45,
    "start_time": "2023-02-11T10:33:03.194Z"
   },
   {
    "duration": 8,
    "start_time": "2023-02-11T10:33:03.241Z"
   },
   {
    "duration": 9,
    "start_time": "2023-02-11T10:33:03.251Z"
   },
   {
    "duration": 17,
    "start_time": "2023-02-11T10:33:03.261Z"
   },
   {
    "duration": 32,
    "start_time": "2023-02-11T10:33:03.280Z"
   },
   {
    "duration": 18,
    "start_time": "2023-02-11T10:33:03.313Z"
   },
   {
    "duration": 4,
    "start_time": "2023-02-11T10:33:03.332Z"
   },
   {
    "duration": 13,
    "start_time": "2023-02-11T10:33:03.337Z"
   },
   {
    "duration": 9,
    "start_time": "2023-02-11T10:33:03.351Z"
   },
   {
    "duration": 4,
    "start_time": "2023-02-11T10:33:03.361Z"
   },
   {
    "duration": 18,
    "start_time": "2023-02-11T10:33:03.366Z"
   },
   {
    "duration": 42,
    "start_time": "2023-02-11T10:33:03.385Z"
   },
   {
    "duration": 22,
    "start_time": "2023-02-11T10:33:03.429Z"
   },
   {
    "duration": 4,
    "start_time": "2023-02-11T10:33:03.452Z"
   },
   {
    "duration": 9,
    "start_time": "2023-02-11T10:33:03.457Z"
   },
   {
    "duration": 105,
    "start_time": "2023-02-11T10:33:03.467Z"
   },
   {
    "duration": 0,
    "start_time": "2023-02-11T10:33:03.573Z"
   },
   {
    "duration": 0,
    "start_time": "2023-02-11T10:33:03.575Z"
   },
   {
    "duration": 21,
    "start_time": "2023-02-11T10:33:14.708Z"
   },
   {
    "duration": 19,
    "start_time": "2023-02-11T10:33:49.503Z"
   },
   {
    "duration": 22,
    "start_time": "2023-02-11T10:34:11.278Z"
   },
   {
    "duration": 494,
    "start_time": "2023-02-11T10:41:13.428Z"
   },
   {
    "duration": 21,
    "start_time": "2023-02-11T10:41:13.924Z"
   },
   {
    "duration": 16,
    "start_time": "2023-02-11T10:41:13.946Z"
   },
   {
    "duration": 10,
    "start_time": "2023-02-11T10:41:13.964Z"
   },
   {
    "duration": 47,
    "start_time": "2023-02-11T10:41:13.975Z"
   },
   {
    "duration": 3,
    "start_time": "2023-02-11T10:41:14.024Z"
   },
   {
    "duration": 9,
    "start_time": "2023-02-11T10:41:14.028Z"
   },
   {
    "duration": 4,
    "start_time": "2023-02-11T10:41:14.038Z"
   },
   {
    "duration": 8,
    "start_time": "2023-02-11T10:41:14.043Z"
   },
   {
    "duration": 4,
    "start_time": "2023-02-11T10:41:14.054Z"
   },
   {
    "duration": 63,
    "start_time": "2023-02-11T10:41:14.059Z"
   },
   {
    "duration": 9,
    "start_time": "2023-02-11T10:41:14.123Z"
   },
   {
    "duration": 4,
    "start_time": "2023-02-11T10:41:14.133Z"
   },
   {
    "duration": 12,
    "start_time": "2023-02-11T10:41:14.138Z"
   },
   {
    "duration": 42,
    "start_time": "2023-02-11T10:41:14.151Z"
   },
   {
    "duration": 25,
    "start_time": "2023-02-11T10:41:14.194Z"
   },
   {
    "duration": 4,
    "start_time": "2023-02-11T10:41:14.221Z"
   },
   {
    "duration": 17,
    "start_time": "2023-02-11T10:41:14.226Z"
   },
   {
    "duration": 7,
    "start_time": "2023-02-11T10:41:14.245Z"
   },
   {
    "duration": 4,
    "start_time": "2023-02-11T10:41:14.254Z"
   },
   {
    "duration": 16,
    "start_time": "2023-02-11T10:41:14.260Z"
   },
   {
    "duration": 51,
    "start_time": "2023-02-11T10:41:14.278Z"
   },
   {
    "duration": 24,
    "start_time": "2023-02-11T10:41:14.331Z"
   },
   {
    "duration": 4,
    "start_time": "2023-02-11T10:41:14.356Z"
   },
   {
    "duration": 8,
    "start_time": "2023-02-11T10:41:14.361Z"
   },
   {
    "duration": 43,
    "start_time": "2023-02-11T10:41:14.370Z"
   },
   {
    "duration": 19,
    "start_time": "2023-02-11T10:41:14.415Z"
   },
   {
    "duration": 21,
    "start_time": "2023-02-11T10:41:14.437Z"
   },
   {
    "duration": 490,
    "start_time": "2023-02-11T10:51:23.078Z"
   },
   {
    "duration": 21,
    "start_time": "2023-02-11T10:51:23.570Z"
   },
   {
    "duration": 14,
    "start_time": "2023-02-11T10:51:23.593Z"
   },
   {
    "duration": 9,
    "start_time": "2023-02-11T10:51:23.609Z"
   },
   {
    "duration": 34,
    "start_time": "2023-02-11T10:51:23.619Z"
   },
   {
    "duration": 4,
    "start_time": "2023-02-11T10:51:23.654Z"
   },
   {
    "duration": 9,
    "start_time": "2023-02-11T10:51:23.659Z"
   },
   {
    "duration": 4,
    "start_time": "2023-02-11T10:51:23.670Z"
   },
   {
    "duration": 35,
    "start_time": "2023-02-11T10:51:23.675Z"
   },
   {
    "duration": 5,
    "start_time": "2023-02-11T10:51:23.713Z"
   },
   {
    "duration": 32,
    "start_time": "2023-02-11T10:51:23.719Z"
   },
   {
    "duration": 10,
    "start_time": "2023-02-11T10:51:23.753Z"
   },
   {
    "duration": 4,
    "start_time": "2023-02-11T10:51:23.765Z"
   },
   {
    "duration": 13,
    "start_time": "2023-02-11T10:51:23.770Z"
   },
   {
    "duration": 20,
    "start_time": "2023-02-11T10:51:23.809Z"
   },
   {
    "duration": 17,
    "start_time": "2023-02-11T10:51:23.830Z"
   },
   {
    "duration": 4,
    "start_time": "2023-02-11T10:51:23.849Z"
   },
   {
    "duration": 10,
    "start_time": "2023-02-11T10:51:23.855Z"
   },
   {
    "duration": 7,
    "start_time": "2023-02-11T10:51:23.866Z"
   },
   {
    "duration": 3,
    "start_time": "2023-02-11T10:51:23.875Z"
   },
   {
    "duration": 9,
    "start_time": "2023-02-11T10:51:23.911Z"
   },
   {
    "duration": 24,
    "start_time": "2023-02-11T10:51:23.922Z"
   },
   {
    "duration": 22,
    "start_time": "2023-02-11T10:51:23.948Z"
   },
   {
    "duration": 4,
    "start_time": "2023-02-11T10:51:23.971Z"
   },
   {
    "duration": 34,
    "start_time": "2023-02-11T10:51:23.977Z"
   },
   {
    "duration": 26,
    "start_time": "2023-02-11T10:51:24.012Z"
   },
   {
    "duration": 19,
    "start_time": "2023-02-11T10:51:24.040Z"
   },
   {
    "duration": 51,
    "start_time": "2023-02-11T10:51:24.061Z"
   },
   {
    "duration": 110,
    "start_time": "2023-02-12T00:27:26.273Z"
   },
   {
    "duration": 107,
    "start_time": "2023-02-12T00:31:23.999Z"
   }
  ],
  "colab": {
   "name": "dpp_template_part2.ipynb",
   "provenance": []
  },
  "kernelspec": {
   "display_name": "Python 3 (ipykernel)",
   "language": "python",
   "name": "python3"
  },
  "language_info": {
   "codemirror_mode": {
    "name": "ipython",
    "version": 3
   },
   "file_extension": ".py",
   "mimetype": "text/x-python",
   "name": "python",
   "nbconvert_exporter": "python",
   "pygments_lexer": "ipython3",
   "version": "3.9.5"
  },
  "toc": {
   "base_numbering": 1,
   "nav_menu": {},
   "number_sections": true,
   "sideBar": true,
   "skip_h1_title": true,
   "title_cell": "Table of Contents",
   "title_sidebar": "Contents",
   "toc_cell": false,
   "toc_position": {},
   "toc_section_display": true,
   "toc_window_display": false
  }
 },
 "nbformat": 4,
 "nbformat_minor": 5
}
