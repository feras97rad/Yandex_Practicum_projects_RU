{
 "cells": [
  {
   "cell_type": "markdown",
   "metadata": {},
   "source": [
    "# Исследование объявлений о продаже квартир\n",
    "\n",
    "В вашем распоряжении данные сервиса Яндекс.Недвижимость — архив объявлений о продаже квартир в Санкт-Петербурге и соседних населённых пунктов за несколько лет. Нужно научиться определять рыночную стоимость объектов недвижимости. Ваша задача — установить параметры. Это позволит построить автоматизированную систему: она отследит аномалии и мошенническую деятельность. \n",
    "\n",
    "По каждой квартире на продажу доступны два вида данных. Первые вписаны пользователем, вторые — получены автоматически на основе картографических данных. Например, расстояние до центра, аэропорта, ближайшего парка и водоёма. "
   ]
  },
  {
   "cell_type": "markdown",
   "metadata": {},
   "source": [
    "\n",
    "Имея в своем распоряжении датасет, со всеми необходимыми для анализа данными проведем свое исследование по стандартому шаблону. \\\n",
    "-Для начала импортируем необходиые библиотеки.\\\n",
    "-Ознакомимся с данными в датасете, что бы составить первое представление о его составе и необходимой предобработке данных.\\\n",
    "-Проведем необходимую предобработку данных.\\\n",
    "-Проанализируем и визуализируем все имеющиеся зависимости.\\\n",
    "-Проведем некоторые вычисления, способные рассказать нам больше о важнейших скрытых закономерностях и особенностях предмета исследования.\\\n",
    "-Подведем итоги\n"
   ]
  },
  {
   "cell_type": "markdown",
   "metadata": {},
   "source": [
    "### Откройте файл с данными и изучите общую информацию. "
   ]
  },
  {
   "cell_type": "markdown",
   "metadata": {},
   "source": [
    "Для начала, импортируем необходимые библиотеки."
   ]
  },
  {
   "cell_type": "code",
   "execution_count": 1,
   "metadata": {},
   "outputs": [],
   "source": [
    "import pandas as pd\n",
    "import numpy as np\n",
    "import matplotlib.pyplot as plt"
   ]
  },
  {
   "cell_type": "markdown",
   "metadata": {},
   "source": [
    "Читаем csv, используя оба источника на случай технических неисправностей. \\\n",
    "Сохраняем файл в стандартную переменную."
   ]
  },
  {
   "cell_type": "code",
   "execution_count": 2,
   "metadata": {},
   "outputs": [],
   "source": [
    "try:\n",
    "    data = pd.read_csv('/datasets/real_estate_data.csv', sep='\\t')\n",
    "except:\n",
    "    data = pd.read_csv('https://code.s3.yandex.net/datasets/real_estate_data.csv', sep='\\t')"
   ]
  },
  {
   "cell_type": "markdown",
   "metadata": {},
   "source": [
    "Ознакамливаемся с данными и сразу же выводим основные характеристики csv файла"
   ]
  },
  {
   "cell_type": "code",
   "execution_count": 3,
   "metadata": {},
   "outputs": [
    {
     "data": {
      "text/html": [
       "<div>\n",
       "<style scoped>\n",
       "    .dataframe tbody tr th:only-of-type {\n",
       "        vertical-align: middle;\n",
       "    }\n",
       "\n",
       "    .dataframe tbody tr th {\n",
       "        vertical-align: top;\n",
       "    }\n",
       "\n",
       "    .dataframe thead th {\n",
       "        text-align: right;\n",
       "    }\n",
       "</style>\n",
       "<table border=\"1\" class=\"dataframe\">\n",
       "  <thead>\n",
       "    <tr style=\"text-align: right;\">\n",
       "      <th></th>\n",
       "      <th>total_images</th>\n",
       "      <th>last_price</th>\n",
       "      <th>total_area</th>\n",
       "      <th>first_day_exposition</th>\n",
       "      <th>rooms</th>\n",
       "      <th>ceiling_height</th>\n",
       "      <th>floors_total</th>\n",
       "      <th>living_area</th>\n",
       "      <th>floor</th>\n",
       "      <th>is_apartment</th>\n",
       "      <th>...</th>\n",
       "      <th>kitchen_area</th>\n",
       "      <th>balcony</th>\n",
       "      <th>locality_name</th>\n",
       "      <th>airports_nearest</th>\n",
       "      <th>cityCenters_nearest</th>\n",
       "      <th>parks_around3000</th>\n",
       "      <th>parks_nearest</th>\n",
       "      <th>ponds_around3000</th>\n",
       "      <th>ponds_nearest</th>\n",
       "      <th>days_exposition</th>\n",
       "    </tr>\n",
       "  </thead>\n",
       "  <tbody>\n",
       "    <tr>\n",
       "      <th>0</th>\n",
       "      <td>20</td>\n",
       "      <td>13000000.0</td>\n",
       "      <td>108.00</td>\n",
       "      <td>2019-03-07T00:00:00</td>\n",
       "      <td>3</td>\n",
       "      <td>2.70</td>\n",
       "      <td>16.0</td>\n",
       "      <td>51.00</td>\n",
       "      <td>8</td>\n",
       "      <td>NaN</td>\n",
       "      <td>...</td>\n",
       "      <td>25.00</td>\n",
       "      <td>NaN</td>\n",
       "      <td>Санкт-Петербург</td>\n",
       "      <td>18863.0</td>\n",
       "      <td>16028.0</td>\n",
       "      <td>1.0</td>\n",
       "      <td>482.0</td>\n",
       "      <td>2.0</td>\n",
       "      <td>755.0</td>\n",
       "      <td>NaN</td>\n",
       "    </tr>\n",
       "    <tr>\n",
       "      <th>1</th>\n",
       "      <td>7</td>\n",
       "      <td>3350000.0</td>\n",
       "      <td>40.40</td>\n",
       "      <td>2018-12-04T00:00:00</td>\n",
       "      <td>1</td>\n",
       "      <td>NaN</td>\n",
       "      <td>11.0</td>\n",
       "      <td>18.60</td>\n",
       "      <td>1</td>\n",
       "      <td>NaN</td>\n",
       "      <td>...</td>\n",
       "      <td>11.00</td>\n",
       "      <td>2.0</td>\n",
       "      <td>посёлок Шушары</td>\n",
       "      <td>12817.0</td>\n",
       "      <td>18603.0</td>\n",
       "      <td>0.0</td>\n",
       "      <td>NaN</td>\n",
       "      <td>0.0</td>\n",
       "      <td>NaN</td>\n",
       "      <td>81.0</td>\n",
       "    </tr>\n",
       "    <tr>\n",
       "      <th>2</th>\n",
       "      <td>10</td>\n",
       "      <td>5196000.0</td>\n",
       "      <td>56.00</td>\n",
       "      <td>2015-08-20T00:00:00</td>\n",
       "      <td>2</td>\n",
       "      <td>NaN</td>\n",
       "      <td>5.0</td>\n",
       "      <td>34.30</td>\n",
       "      <td>4</td>\n",
       "      <td>NaN</td>\n",
       "      <td>...</td>\n",
       "      <td>8.30</td>\n",
       "      <td>0.0</td>\n",
       "      <td>Санкт-Петербург</td>\n",
       "      <td>21741.0</td>\n",
       "      <td>13933.0</td>\n",
       "      <td>1.0</td>\n",
       "      <td>90.0</td>\n",
       "      <td>2.0</td>\n",
       "      <td>574.0</td>\n",
       "      <td>558.0</td>\n",
       "    </tr>\n",
       "    <tr>\n",
       "      <th>3</th>\n",
       "      <td>0</td>\n",
       "      <td>64900000.0</td>\n",
       "      <td>159.00</td>\n",
       "      <td>2015-07-24T00:00:00</td>\n",
       "      <td>3</td>\n",
       "      <td>NaN</td>\n",
       "      <td>14.0</td>\n",
       "      <td>NaN</td>\n",
       "      <td>9</td>\n",
       "      <td>NaN</td>\n",
       "      <td>...</td>\n",
       "      <td>NaN</td>\n",
       "      <td>0.0</td>\n",
       "      <td>Санкт-Петербург</td>\n",
       "      <td>28098.0</td>\n",
       "      <td>6800.0</td>\n",
       "      <td>2.0</td>\n",
       "      <td>84.0</td>\n",
       "      <td>3.0</td>\n",
       "      <td>234.0</td>\n",
       "      <td>424.0</td>\n",
       "    </tr>\n",
       "    <tr>\n",
       "      <th>4</th>\n",
       "      <td>2</td>\n",
       "      <td>10000000.0</td>\n",
       "      <td>100.00</td>\n",
       "      <td>2018-06-19T00:00:00</td>\n",
       "      <td>2</td>\n",
       "      <td>3.03</td>\n",
       "      <td>14.0</td>\n",
       "      <td>32.00</td>\n",
       "      <td>13</td>\n",
       "      <td>NaN</td>\n",
       "      <td>...</td>\n",
       "      <td>41.00</td>\n",
       "      <td>NaN</td>\n",
       "      <td>Санкт-Петербург</td>\n",
       "      <td>31856.0</td>\n",
       "      <td>8098.0</td>\n",
       "      <td>2.0</td>\n",
       "      <td>112.0</td>\n",
       "      <td>1.0</td>\n",
       "      <td>48.0</td>\n",
       "      <td>121.0</td>\n",
       "    </tr>\n",
       "    <tr>\n",
       "      <th>5</th>\n",
       "      <td>10</td>\n",
       "      <td>2890000.0</td>\n",
       "      <td>30.40</td>\n",
       "      <td>2018-09-10T00:00:00</td>\n",
       "      <td>1</td>\n",
       "      <td>NaN</td>\n",
       "      <td>12.0</td>\n",
       "      <td>14.40</td>\n",
       "      <td>5</td>\n",
       "      <td>NaN</td>\n",
       "      <td>...</td>\n",
       "      <td>9.10</td>\n",
       "      <td>NaN</td>\n",
       "      <td>городской посёлок Янино-1</td>\n",
       "      <td>NaN</td>\n",
       "      <td>NaN</td>\n",
       "      <td>NaN</td>\n",
       "      <td>NaN</td>\n",
       "      <td>NaN</td>\n",
       "      <td>NaN</td>\n",
       "      <td>55.0</td>\n",
       "    </tr>\n",
       "    <tr>\n",
       "      <th>6</th>\n",
       "      <td>6</td>\n",
       "      <td>3700000.0</td>\n",
       "      <td>37.30</td>\n",
       "      <td>2017-11-02T00:00:00</td>\n",
       "      <td>1</td>\n",
       "      <td>NaN</td>\n",
       "      <td>26.0</td>\n",
       "      <td>10.60</td>\n",
       "      <td>6</td>\n",
       "      <td>NaN</td>\n",
       "      <td>...</td>\n",
       "      <td>14.40</td>\n",
       "      <td>1.0</td>\n",
       "      <td>посёлок Парголово</td>\n",
       "      <td>52996.0</td>\n",
       "      <td>19143.0</td>\n",
       "      <td>0.0</td>\n",
       "      <td>NaN</td>\n",
       "      <td>0.0</td>\n",
       "      <td>NaN</td>\n",
       "      <td>155.0</td>\n",
       "    </tr>\n",
       "    <tr>\n",
       "      <th>7</th>\n",
       "      <td>5</td>\n",
       "      <td>7915000.0</td>\n",
       "      <td>71.60</td>\n",
       "      <td>2019-04-18T00:00:00</td>\n",
       "      <td>2</td>\n",
       "      <td>NaN</td>\n",
       "      <td>24.0</td>\n",
       "      <td>NaN</td>\n",
       "      <td>22</td>\n",
       "      <td>NaN</td>\n",
       "      <td>...</td>\n",
       "      <td>18.90</td>\n",
       "      <td>2.0</td>\n",
       "      <td>Санкт-Петербург</td>\n",
       "      <td>23982.0</td>\n",
       "      <td>11634.0</td>\n",
       "      <td>0.0</td>\n",
       "      <td>NaN</td>\n",
       "      <td>0.0</td>\n",
       "      <td>NaN</td>\n",
       "      <td>NaN</td>\n",
       "    </tr>\n",
       "    <tr>\n",
       "      <th>8</th>\n",
       "      <td>20</td>\n",
       "      <td>2900000.0</td>\n",
       "      <td>33.16</td>\n",
       "      <td>2018-05-23T00:00:00</td>\n",
       "      <td>1</td>\n",
       "      <td>NaN</td>\n",
       "      <td>27.0</td>\n",
       "      <td>15.43</td>\n",
       "      <td>26</td>\n",
       "      <td>NaN</td>\n",
       "      <td>...</td>\n",
       "      <td>8.81</td>\n",
       "      <td>NaN</td>\n",
       "      <td>посёлок Мурино</td>\n",
       "      <td>NaN</td>\n",
       "      <td>NaN</td>\n",
       "      <td>NaN</td>\n",
       "      <td>NaN</td>\n",
       "      <td>NaN</td>\n",
       "      <td>NaN</td>\n",
       "      <td>189.0</td>\n",
       "    </tr>\n",
       "    <tr>\n",
       "      <th>9</th>\n",
       "      <td>18</td>\n",
       "      <td>5400000.0</td>\n",
       "      <td>61.00</td>\n",
       "      <td>2017-02-26T00:00:00</td>\n",
       "      <td>3</td>\n",
       "      <td>2.50</td>\n",
       "      <td>9.0</td>\n",
       "      <td>43.60</td>\n",
       "      <td>7</td>\n",
       "      <td>NaN</td>\n",
       "      <td>...</td>\n",
       "      <td>6.50</td>\n",
       "      <td>2.0</td>\n",
       "      <td>Санкт-Петербург</td>\n",
       "      <td>50898.0</td>\n",
       "      <td>15008.0</td>\n",
       "      <td>0.0</td>\n",
       "      <td>NaN</td>\n",
       "      <td>0.0</td>\n",
       "      <td>NaN</td>\n",
       "      <td>289.0</td>\n",
       "    </tr>\n",
       "    <tr>\n",
       "      <th>10</th>\n",
       "      <td>5</td>\n",
       "      <td>5050000.0</td>\n",
       "      <td>39.60</td>\n",
       "      <td>2017-11-16T00:00:00</td>\n",
       "      <td>1</td>\n",
       "      <td>2.67</td>\n",
       "      <td>12.0</td>\n",
       "      <td>20.30</td>\n",
       "      <td>3</td>\n",
       "      <td>NaN</td>\n",
       "      <td>...</td>\n",
       "      <td>8.50</td>\n",
       "      <td>NaN</td>\n",
       "      <td>Санкт-Петербург</td>\n",
       "      <td>38357.0</td>\n",
       "      <td>13878.0</td>\n",
       "      <td>1.0</td>\n",
       "      <td>310.0</td>\n",
       "      <td>2.0</td>\n",
       "      <td>553.0</td>\n",
       "      <td>137.0</td>\n",
       "    </tr>\n",
       "    <tr>\n",
       "      <th>11</th>\n",
       "      <td>9</td>\n",
       "      <td>3300000.0</td>\n",
       "      <td>44.00</td>\n",
       "      <td>2018-08-27T00:00:00</td>\n",
       "      <td>2</td>\n",
       "      <td>NaN</td>\n",
       "      <td>5.0</td>\n",
       "      <td>31.00</td>\n",
       "      <td>4</td>\n",
       "      <td>False</td>\n",
       "      <td>...</td>\n",
       "      <td>6.00</td>\n",
       "      <td>1.0</td>\n",
       "      <td>Ломоносов</td>\n",
       "      <td>48252.0</td>\n",
       "      <td>51677.0</td>\n",
       "      <td>0.0</td>\n",
       "      <td>NaN</td>\n",
       "      <td>0.0</td>\n",
       "      <td>NaN</td>\n",
       "      <td>7.0</td>\n",
       "    </tr>\n",
       "    <tr>\n",
       "      <th>12</th>\n",
       "      <td>10</td>\n",
       "      <td>3890000.0</td>\n",
       "      <td>54.00</td>\n",
       "      <td>2016-06-30T00:00:00</td>\n",
       "      <td>2</td>\n",
       "      <td>NaN</td>\n",
       "      <td>5.0</td>\n",
       "      <td>30.00</td>\n",
       "      <td>5</td>\n",
       "      <td>NaN</td>\n",
       "      <td>...</td>\n",
       "      <td>9.00</td>\n",
       "      <td>0.0</td>\n",
       "      <td>Сертолово</td>\n",
       "      <td>NaN</td>\n",
       "      <td>NaN</td>\n",
       "      <td>NaN</td>\n",
       "      <td>NaN</td>\n",
       "      <td>NaN</td>\n",
       "      <td>NaN</td>\n",
       "      <td>90.0</td>\n",
       "    </tr>\n",
       "    <tr>\n",
       "      <th>13</th>\n",
       "      <td>20</td>\n",
       "      <td>3550000.0</td>\n",
       "      <td>42.80</td>\n",
       "      <td>2017-07-01T00:00:00</td>\n",
       "      <td>2</td>\n",
       "      <td>2.56</td>\n",
       "      <td>5.0</td>\n",
       "      <td>27.00</td>\n",
       "      <td>5</td>\n",
       "      <td>NaN</td>\n",
       "      <td>...</td>\n",
       "      <td>5.20</td>\n",
       "      <td>1.0</td>\n",
       "      <td>Петергоф</td>\n",
       "      <td>37868.0</td>\n",
       "      <td>33058.0</td>\n",
       "      <td>1.0</td>\n",
       "      <td>294.0</td>\n",
       "      <td>3.0</td>\n",
       "      <td>298.0</td>\n",
       "      <td>366.0</td>\n",
       "    </tr>\n",
       "    <tr>\n",
       "      <th>14</th>\n",
       "      <td>1</td>\n",
       "      <td>4400000.0</td>\n",
       "      <td>36.00</td>\n",
       "      <td>2016-06-23T00:00:00</td>\n",
       "      <td>1</td>\n",
       "      <td>NaN</td>\n",
       "      <td>6.0</td>\n",
       "      <td>17.00</td>\n",
       "      <td>1</td>\n",
       "      <td>NaN</td>\n",
       "      <td>...</td>\n",
       "      <td>8.00</td>\n",
       "      <td>0.0</td>\n",
       "      <td>Пушкин</td>\n",
       "      <td>20782.0</td>\n",
       "      <td>30759.0</td>\n",
       "      <td>0.0</td>\n",
       "      <td>NaN</td>\n",
       "      <td>1.0</td>\n",
       "      <td>96.0</td>\n",
       "      <td>203.0</td>\n",
       "    </tr>\n",
       "    <tr>\n",
       "      <th>15</th>\n",
       "      <td>16</td>\n",
       "      <td>4650000.0</td>\n",
       "      <td>39.00</td>\n",
       "      <td>2017-11-18T00:00:00</td>\n",
       "      <td>1</td>\n",
       "      <td>NaN</td>\n",
       "      <td>14.0</td>\n",
       "      <td>20.50</td>\n",
       "      <td>5</td>\n",
       "      <td>NaN</td>\n",
       "      <td>...</td>\n",
       "      <td>7.60</td>\n",
       "      <td>1.0</td>\n",
       "      <td>Санкт-Петербург</td>\n",
       "      <td>12900.0</td>\n",
       "      <td>14259.0</td>\n",
       "      <td>1.0</td>\n",
       "      <td>590.0</td>\n",
       "      <td>1.0</td>\n",
       "      <td>296.0</td>\n",
       "      <td>19.0</td>\n",
       "    </tr>\n",
       "    <tr>\n",
       "      <th>16</th>\n",
       "      <td>11</td>\n",
       "      <td>6700000.0</td>\n",
       "      <td>82.00</td>\n",
       "      <td>2017-11-23T00:00:00</td>\n",
       "      <td>3</td>\n",
       "      <td>3.05</td>\n",
       "      <td>5.0</td>\n",
       "      <td>55.60</td>\n",
       "      <td>1</td>\n",
       "      <td>NaN</td>\n",
       "      <td>...</td>\n",
       "      <td>9.00</td>\n",
       "      <td>NaN</td>\n",
       "      <td>Санкт-Петербург</td>\n",
       "      <td>22108.0</td>\n",
       "      <td>10698.0</td>\n",
       "      <td>3.0</td>\n",
       "      <td>420.0</td>\n",
       "      <td>0.0</td>\n",
       "      <td>NaN</td>\n",
       "      <td>397.0</td>\n",
       "    </tr>\n",
       "    <tr>\n",
       "      <th>17</th>\n",
       "      <td>6</td>\n",
       "      <td>4180000.0</td>\n",
       "      <td>36.00</td>\n",
       "      <td>2016-09-09T00:00:00</td>\n",
       "      <td>1</td>\n",
       "      <td>NaN</td>\n",
       "      <td>17.0</td>\n",
       "      <td>16.50</td>\n",
       "      <td>7</td>\n",
       "      <td>NaN</td>\n",
       "      <td>...</td>\n",
       "      <td>11.00</td>\n",
       "      <td>1.0</td>\n",
       "      <td>Санкт-Петербург</td>\n",
       "      <td>33564.0</td>\n",
       "      <td>14616.0</td>\n",
       "      <td>0.0</td>\n",
       "      <td>NaN</td>\n",
       "      <td>1.0</td>\n",
       "      <td>859.0</td>\n",
       "      <td>571.0</td>\n",
       "    </tr>\n",
       "    <tr>\n",
       "      <th>18</th>\n",
       "      <td>8</td>\n",
       "      <td>3250000.0</td>\n",
       "      <td>31.00</td>\n",
       "      <td>2017-01-27T00:00:00</td>\n",
       "      <td>1</td>\n",
       "      <td>2.50</td>\n",
       "      <td>5.0</td>\n",
       "      <td>19.40</td>\n",
       "      <td>2</td>\n",
       "      <td>NaN</td>\n",
       "      <td>...</td>\n",
       "      <td>5.60</td>\n",
       "      <td>1.0</td>\n",
       "      <td>Санкт-Петербург</td>\n",
       "      <td>44060.0</td>\n",
       "      <td>10842.0</td>\n",
       "      <td>1.0</td>\n",
       "      <td>759.0</td>\n",
       "      <td>0.0</td>\n",
       "      <td>NaN</td>\n",
       "      <td>168.0</td>\n",
       "    </tr>\n",
       "    <tr>\n",
       "      <th>19</th>\n",
       "      <td>16</td>\n",
       "      <td>14200000.0</td>\n",
       "      <td>121.00</td>\n",
       "      <td>2019-01-09T00:00:00</td>\n",
       "      <td>3</td>\n",
       "      <td>2.75</td>\n",
       "      <td>16.0</td>\n",
       "      <td>76.00</td>\n",
       "      <td>8</td>\n",
       "      <td>NaN</td>\n",
       "      <td>...</td>\n",
       "      <td>12.00</td>\n",
       "      <td>NaN</td>\n",
       "      <td>Санкт-Петербург</td>\n",
       "      <td>38900.0</td>\n",
       "      <td>12843.0</td>\n",
       "      <td>0.0</td>\n",
       "      <td>NaN</td>\n",
       "      <td>0.0</td>\n",
       "      <td>NaN</td>\n",
       "      <td>97.0</td>\n",
       "    </tr>\n",
       "  </tbody>\n",
       "</table>\n",
       "<p>20 rows × 22 columns</p>\n",
       "</div>"
      ],
      "text/plain": [
       "    total_images  last_price  total_area first_day_exposition  rooms  \\\n",
       "0             20  13000000.0      108.00  2019-03-07T00:00:00      3   \n",
       "1              7   3350000.0       40.40  2018-12-04T00:00:00      1   \n",
       "2             10   5196000.0       56.00  2015-08-20T00:00:00      2   \n",
       "3              0  64900000.0      159.00  2015-07-24T00:00:00      3   \n",
       "4              2  10000000.0      100.00  2018-06-19T00:00:00      2   \n",
       "5             10   2890000.0       30.40  2018-09-10T00:00:00      1   \n",
       "6              6   3700000.0       37.30  2017-11-02T00:00:00      1   \n",
       "7              5   7915000.0       71.60  2019-04-18T00:00:00      2   \n",
       "8             20   2900000.0       33.16  2018-05-23T00:00:00      1   \n",
       "9             18   5400000.0       61.00  2017-02-26T00:00:00      3   \n",
       "10             5   5050000.0       39.60  2017-11-16T00:00:00      1   \n",
       "11             9   3300000.0       44.00  2018-08-27T00:00:00      2   \n",
       "12            10   3890000.0       54.00  2016-06-30T00:00:00      2   \n",
       "13            20   3550000.0       42.80  2017-07-01T00:00:00      2   \n",
       "14             1   4400000.0       36.00  2016-06-23T00:00:00      1   \n",
       "15            16   4650000.0       39.00  2017-11-18T00:00:00      1   \n",
       "16            11   6700000.0       82.00  2017-11-23T00:00:00      3   \n",
       "17             6   4180000.0       36.00  2016-09-09T00:00:00      1   \n",
       "18             8   3250000.0       31.00  2017-01-27T00:00:00      1   \n",
       "19            16  14200000.0      121.00  2019-01-09T00:00:00      3   \n",
       "\n",
       "    ceiling_height  floors_total  living_area  floor is_apartment  ...  \\\n",
       "0             2.70          16.0        51.00      8          NaN  ...   \n",
       "1              NaN          11.0        18.60      1          NaN  ...   \n",
       "2              NaN           5.0        34.30      4          NaN  ...   \n",
       "3              NaN          14.0          NaN      9          NaN  ...   \n",
       "4             3.03          14.0        32.00     13          NaN  ...   \n",
       "5              NaN          12.0        14.40      5          NaN  ...   \n",
       "6              NaN          26.0        10.60      6          NaN  ...   \n",
       "7              NaN          24.0          NaN     22          NaN  ...   \n",
       "8              NaN          27.0        15.43     26          NaN  ...   \n",
       "9             2.50           9.0        43.60      7          NaN  ...   \n",
       "10            2.67          12.0        20.30      3          NaN  ...   \n",
       "11             NaN           5.0        31.00      4        False  ...   \n",
       "12             NaN           5.0        30.00      5          NaN  ...   \n",
       "13            2.56           5.0        27.00      5          NaN  ...   \n",
       "14             NaN           6.0        17.00      1          NaN  ...   \n",
       "15             NaN          14.0        20.50      5          NaN  ...   \n",
       "16            3.05           5.0        55.60      1          NaN  ...   \n",
       "17             NaN          17.0        16.50      7          NaN  ...   \n",
       "18            2.50           5.0        19.40      2          NaN  ...   \n",
       "19            2.75          16.0        76.00      8          NaN  ...   \n",
       "\n",
       "    kitchen_area  balcony              locality_name  airports_nearest  \\\n",
       "0          25.00      NaN            Санкт-Петербург           18863.0   \n",
       "1          11.00      2.0             посёлок Шушары           12817.0   \n",
       "2           8.30      0.0            Санкт-Петербург           21741.0   \n",
       "3            NaN      0.0            Санкт-Петербург           28098.0   \n",
       "4          41.00      NaN            Санкт-Петербург           31856.0   \n",
       "5           9.10      NaN  городской посёлок Янино-1               NaN   \n",
       "6          14.40      1.0          посёлок Парголово           52996.0   \n",
       "7          18.90      2.0            Санкт-Петербург           23982.0   \n",
       "8           8.81      NaN             посёлок Мурино               NaN   \n",
       "9           6.50      2.0            Санкт-Петербург           50898.0   \n",
       "10          8.50      NaN            Санкт-Петербург           38357.0   \n",
       "11          6.00      1.0                  Ломоносов           48252.0   \n",
       "12          9.00      0.0                  Сертолово               NaN   \n",
       "13          5.20      1.0                   Петергоф           37868.0   \n",
       "14          8.00      0.0                     Пушкин           20782.0   \n",
       "15          7.60      1.0            Санкт-Петербург           12900.0   \n",
       "16          9.00      NaN            Санкт-Петербург           22108.0   \n",
       "17         11.00      1.0            Санкт-Петербург           33564.0   \n",
       "18          5.60      1.0            Санкт-Петербург           44060.0   \n",
       "19         12.00      NaN            Санкт-Петербург           38900.0   \n",
       "\n",
       "   cityCenters_nearest  parks_around3000  parks_nearest  ponds_around3000  \\\n",
       "0              16028.0               1.0          482.0               2.0   \n",
       "1              18603.0               0.0            NaN               0.0   \n",
       "2              13933.0               1.0           90.0               2.0   \n",
       "3               6800.0               2.0           84.0               3.0   \n",
       "4               8098.0               2.0          112.0               1.0   \n",
       "5                  NaN               NaN            NaN               NaN   \n",
       "6              19143.0               0.0            NaN               0.0   \n",
       "7              11634.0               0.0            NaN               0.0   \n",
       "8                  NaN               NaN            NaN               NaN   \n",
       "9              15008.0               0.0            NaN               0.0   \n",
       "10             13878.0               1.0          310.0               2.0   \n",
       "11             51677.0               0.0            NaN               0.0   \n",
       "12                 NaN               NaN            NaN               NaN   \n",
       "13             33058.0               1.0          294.0               3.0   \n",
       "14             30759.0               0.0            NaN               1.0   \n",
       "15             14259.0               1.0          590.0               1.0   \n",
       "16             10698.0               3.0          420.0               0.0   \n",
       "17             14616.0               0.0            NaN               1.0   \n",
       "18             10842.0               1.0          759.0               0.0   \n",
       "19             12843.0               0.0            NaN               0.0   \n",
       "\n",
       "    ponds_nearest  days_exposition  \n",
       "0           755.0              NaN  \n",
       "1             NaN             81.0  \n",
       "2           574.0            558.0  \n",
       "3           234.0            424.0  \n",
       "4            48.0            121.0  \n",
       "5             NaN             55.0  \n",
       "6             NaN            155.0  \n",
       "7             NaN              NaN  \n",
       "8             NaN            189.0  \n",
       "9             NaN            289.0  \n",
       "10          553.0            137.0  \n",
       "11            NaN              7.0  \n",
       "12            NaN             90.0  \n",
       "13          298.0            366.0  \n",
       "14           96.0            203.0  \n",
       "15          296.0             19.0  \n",
       "16            NaN            397.0  \n",
       "17          859.0            571.0  \n",
       "18            NaN            168.0  \n",
       "19            NaN             97.0  \n",
       "\n",
       "[20 rows x 22 columns]"
      ]
     },
     "execution_count": 3,
     "metadata": {},
     "output_type": "execute_result"
    }
   ],
   "source": [
    "data.head(20)"
   ]
  },
  {
   "cell_type": "code",
   "execution_count": 4,
   "metadata": {
    "scrolled": false
   },
   "outputs": [
    {
     "name": "stdout",
     "output_type": "stream",
     "text": [
      "<class 'pandas.core.frame.DataFrame'>\n",
      "RangeIndex: 23699 entries, 0 to 23698\n",
      "Data columns (total 22 columns):\n",
      " #   Column                Non-Null Count  Dtype  \n",
      "---  ------                --------------  -----  \n",
      " 0   total_images          23699 non-null  int64  \n",
      " 1   last_price            23699 non-null  float64\n",
      " 2   total_area            23699 non-null  float64\n",
      " 3   first_day_exposition  23699 non-null  object \n",
      " 4   rooms                 23699 non-null  int64  \n",
      " 5   ceiling_height        14504 non-null  float64\n",
      " 6   floors_total          23613 non-null  float64\n",
      " 7   living_area           21796 non-null  float64\n",
      " 8   floor                 23699 non-null  int64  \n",
      " 9   is_apartment          2775 non-null   object \n",
      " 10  studio                23699 non-null  bool   \n",
      " 11  open_plan             23699 non-null  bool   \n",
      " 12  kitchen_area          21421 non-null  float64\n",
      " 13  balcony               12180 non-null  float64\n",
      " 14  locality_name         23650 non-null  object \n",
      " 15  airports_nearest      18157 non-null  float64\n",
      " 16  cityCenters_nearest   18180 non-null  float64\n",
      " 17  parks_around3000      18181 non-null  float64\n",
      " 18  parks_nearest         8079 non-null   float64\n",
      " 19  ponds_around3000      18181 non-null  float64\n",
      " 20  ponds_nearest         9110 non-null   float64\n",
      " 21  days_exposition       20518 non-null  float64\n",
      "dtypes: bool(2), float64(14), int64(3), object(3)\n",
      "memory usage: 3.7+ MB\n"
     ]
    }
   ],
   "source": [
    "data.info()"
   ]
  },
  {
   "cell_type": "code",
   "execution_count": 5,
   "metadata": {},
   "outputs": [
    {
     "data": {
      "text/html": [
       "<div>\n",
       "<style scoped>\n",
       "    .dataframe tbody tr th:only-of-type {\n",
       "        vertical-align: middle;\n",
       "    }\n",
       "\n",
       "    .dataframe tbody tr th {\n",
       "        vertical-align: top;\n",
       "    }\n",
       "\n",
       "    .dataframe thead th {\n",
       "        text-align: right;\n",
       "    }\n",
       "</style>\n",
       "<table border=\"1\" class=\"dataframe\">\n",
       "  <thead>\n",
       "    <tr style=\"text-align: right;\">\n",
       "      <th></th>\n",
       "      <th>total_images</th>\n",
       "      <th>last_price</th>\n",
       "      <th>total_area</th>\n",
       "      <th>rooms</th>\n",
       "      <th>ceiling_height</th>\n",
       "      <th>floors_total</th>\n",
       "      <th>living_area</th>\n",
       "      <th>floor</th>\n",
       "      <th>kitchen_area</th>\n",
       "      <th>balcony</th>\n",
       "      <th>airports_nearest</th>\n",
       "      <th>cityCenters_nearest</th>\n",
       "      <th>parks_around3000</th>\n",
       "      <th>parks_nearest</th>\n",
       "      <th>ponds_around3000</th>\n",
       "      <th>ponds_nearest</th>\n",
       "      <th>days_exposition</th>\n",
       "    </tr>\n",
       "  </thead>\n",
       "  <tbody>\n",
       "    <tr>\n",
       "      <th>count</th>\n",
       "      <td>23699.000000</td>\n",
       "      <td>2.369900e+04</td>\n",
       "      <td>23699.000000</td>\n",
       "      <td>23699.000000</td>\n",
       "      <td>14504.000000</td>\n",
       "      <td>23613.000000</td>\n",
       "      <td>21796.000000</td>\n",
       "      <td>23699.000000</td>\n",
       "      <td>21421.000000</td>\n",
       "      <td>12180.000000</td>\n",
       "      <td>18157.000000</td>\n",
       "      <td>18180.000000</td>\n",
       "      <td>18181.000000</td>\n",
       "      <td>8079.000000</td>\n",
       "      <td>18181.000000</td>\n",
       "      <td>9110.000000</td>\n",
       "      <td>20518.000000</td>\n",
       "    </tr>\n",
       "    <tr>\n",
       "      <th>mean</th>\n",
       "      <td>9.858475</td>\n",
       "      <td>6.541549e+06</td>\n",
       "      <td>60.348651</td>\n",
       "      <td>2.070636</td>\n",
       "      <td>2.771499</td>\n",
       "      <td>10.673824</td>\n",
       "      <td>34.457852</td>\n",
       "      <td>5.892358</td>\n",
       "      <td>10.569807</td>\n",
       "      <td>1.150082</td>\n",
       "      <td>28793.672193</td>\n",
       "      <td>14191.277833</td>\n",
       "      <td>0.611408</td>\n",
       "      <td>490.804555</td>\n",
       "      <td>0.770255</td>\n",
       "      <td>517.980900</td>\n",
       "      <td>180.888634</td>\n",
       "    </tr>\n",
       "    <tr>\n",
       "      <th>std</th>\n",
       "      <td>5.682529</td>\n",
       "      <td>1.088701e+07</td>\n",
       "      <td>35.654083</td>\n",
       "      <td>1.078405</td>\n",
       "      <td>1.261056</td>\n",
       "      <td>6.597173</td>\n",
       "      <td>22.030445</td>\n",
       "      <td>4.885249</td>\n",
       "      <td>5.905438</td>\n",
       "      <td>1.071300</td>\n",
       "      <td>12630.880622</td>\n",
       "      <td>8608.386210</td>\n",
       "      <td>0.802074</td>\n",
       "      <td>342.317995</td>\n",
       "      <td>0.938346</td>\n",
       "      <td>277.720643</td>\n",
       "      <td>219.727988</td>\n",
       "    </tr>\n",
       "    <tr>\n",
       "      <th>min</th>\n",
       "      <td>0.000000</td>\n",
       "      <td>1.219000e+04</td>\n",
       "      <td>12.000000</td>\n",
       "      <td>0.000000</td>\n",
       "      <td>1.000000</td>\n",
       "      <td>1.000000</td>\n",
       "      <td>2.000000</td>\n",
       "      <td>1.000000</td>\n",
       "      <td>1.300000</td>\n",
       "      <td>0.000000</td>\n",
       "      <td>0.000000</td>\n",
       "      <td>181.000000</td>\n",
       "      <td>0.000000</td>\n",
       "      <td>1.000000</td>\n",
       "      <td>0.000000</td>\n",
       "      <td>13.000000</td>\n",
       "      <td>1.000000</td>\n",
       "    </tr>\n",
       "    <tr>\n",
       "      <th>25%</th>\n",
       "      <td>6.000000</td>\n",
       "      <td>3.400000e+06</td>\n",
       "      <td>40.000000</td>\n",
       "      <td>1.000000</td>\n",
       "      <td>2.520000</td>\n",
       "      <td>5.000000</td>\n",
       "      <td>18.600000</td>\n",
       "      <td>2.000000</td>\n",
       "      <td>7.000000</td>\n",
       "      <td>0.000000</td>\n",
       "      <td>18585.000000</td>\n",
       "      <td>9238.000000</td>\n",
       "      <td>0.000000</td>\n",
       "      <td>288.000000</td>\n",
       "      <td>0.000000</td>\n",
       "      <td>294.000000</td>\n",
       "      <td>45.000000</td>\n",
       "    </tr>\n",
       "    <tr>\n",
       "      <th>50%</th>\n",
       "      <td>9.000000</td>\n",
       "      <td>4.650000e+06</td>\n",
       "      <td>52.000000</td>\n",
       "      <td>2.000000</td>\n",
       "      <td>2.650000</td>\n",
       "      <td>9.000000</td>\n",
       "      <td>30.000000</td>\n",
       "      <td>4.000000</td>\n",
       "      <td>9.100000</td>\n",
       "      <td>1.000000</td>\n",
       "      <td>26726.000000</td>\n",
       "      <td>13098.500000</td>\n",
       "      <td>0.000000</td>\n",
       "      <td>455.000000</td>\n",
       "      <td>1.000000</td>\n",
       "      <td>502.000000</td>\n",
       "      <td>95.000000</td>\n",
       "    </tr>\n",
       "    <tr>\n",
       "      <th>75%</th>\n",
       "      <td>14.000000</td>\n",
       "      <td>6.800000e+06</td>\n",
       "      <td>69.900000</td>\n",
       "      <td>3.000000</td>\n",
       "      <td>2.800000</td>\n",
       "      <td>16.000000</td>\n",
       "      <td>42.300000</td>\n",
       "      <td>8.000000</td>\n",
       "      <td>12.000000</td>\n",
       "      <td>2.000000</td>\n",
       "      <td>37273.000000</td>\n",
       "      <td>16293.000000</td>\n",
       "      <td>1.000000</td>\n",
       "      <td>612.000000</td>\n",
       "      <td>1.000000</td>\n",
       "      <td>729.000000</td>\n",
       "      <td>232.000000</td>\n",
       "    </tr>\n",
       "    <tr>\n",
       "      <th>max</th>\n",
       "      <td>50.000000</td>\n",
       "      <td>7.630000e+08</td>\n",
       "      <td>900.000000</td>\n",
       "      <td>19.000000</td>\n",
       "      <td>100.000000</td>\n",
       "      <td>60.000000</td>\n",
       "      <td>409.700000</td>\n",
       "      <td>33.000000</td>\n",
       "      <td>112.000000</td>\n",
       "      <td>5.000000</td>\n",
       "      <td>84869.000000</td>\n",
       "      <td>65968.000000</td>\n",
       "      <td>3.000000</td>\n",
       "      <td>3190.000000</td>\n",
       "      <td>3.000000</td>\n",
       "      <td>1344.000000</td>\n",
       "      <td>1580.000000</td>\n",
       "    </tr>\n",
       "  </tbody>\n",
       "</table>\n",
       "</div>"
      ],
      "text/plain": [
       "       total_images    last_price    total_area         rooms  ceiling_height  \\\n",
       "count  23699.000000  2.369900e+04  23699.000000  23699.000000    14504.000000   \n",
       "mean       9.858475  6.541549e+06     60.348651      2.070636        2.771499   \n",
       "std        5.682529  1.088701e+07     35.654083      1.078405        1.261056   \n",
       "min        0.000000  1.219000e+04     12.000000      0.000000        1.000000   \n",
       "25%        6.000000  3.400000e+06     40.000000      1.000000        2.520000   \n",
       "50%        9.000000  4.650000e+06     52.000000      2.000000        2.650000   \n",
       "75%       14.000000  6.800000e+06     69.900000      3.000000        2.800000   \n",
       "max       50.000000  7.630000e+08    900.000000     19.000000      100.000000   \n",
       "\n",
       "       floors_total   living_area         floor  kitchen_area       balcony  \\\n",
       "count  23613.000000  21796.000000  23699.000000  21421.000000  12180.000000   \n",
       "mean      10.673824     34.457852      5.892358     10.569807      1.150082   \n",
       "std        6.597173     22.030445      4.885249      5.905438      1.071300   \n",
       "min        1.000000      2.000000      1.000000      1.300000      0.000000   \n",
       "25%        5.000000     18.600000      2.000000      7.000000      0.000000   \n",
       "50%        9.000000     30.000000      4.000000      9.100000      1.000000   \n",
       "75%       16.000000     42.300000      8.000000     12.000000      2.000000   \n",
       "max       60.000000    409.700000     33.000000    112.000000      5.000000   \n",
       "\n",
       "       airports_nearest  cityCenters_nearest  parks_around3000  parks_nearest  \\\n",
       "count      18157.000000         18180.000000      18181.000000    8079.000000   \n",
       "mean       28793.672193         14191.277833          0.611408     490.804555   \n",
       "std        12630.880622          8608.386210          0.802074     342.317995   \n",
       "min            0.000000           181.000000          0.000000       1.000000   \n",
       "25%        18585.000000          9238.000000          0.000000     288.000000   \n",
       "50%        26726.000000         13098.500000          0.000000     455.000000   \n",
       "75%        37273.000000         16293.000000          1.000000     612.000000   \n",
       "max        84869.000000         65968.000000          3.000000    3190.000000   \n",
       "\n",
       "       ponds_around3000  ponds_nearest  days_exposition  \n",
       "count      18181.000000    9110.000000     20518.000000  \n",
       "mean           0.770255     517.980900       180.888634  \n",
       "std            0.938346     277.720643       219.727988  \n",
       "min            0.000000      13.000000         1.000000  \n",
       "25%            0.000000     294.000000        45.000000  \n",
       "50%            1.000000     502.000000        95.000000  \n",
       "75%            1.000000     729.000000       232.000000  \n",
       "max            3.000000    1344.000000      1580.000000  "
      ]
     },
     "execution_count": 5,
     "metadata": {},
     "output_type": "execute_result"
    }
   ],
   "source": [
    "data.describe()"
   ]
  },
  {
   "cell_type": "markdown",
   "metadata": {},
   "source": [
    "Для наглядности исходных данных выведем гистограммы столбцов датафрейма."
   ]
  },
  {
   "cell_type": "code",
   "execution_count": 6,
   "metadata": {},
   "outputs": [
    {
     "data": {
      "text/plain": [
       "array([[<AxesSubplot:title={'center':'total_images'}>,\n",
       "        <AxesSubplot:title={'center':'last_price'}>,\n",
       "        <AxesSubplot:title={'center':'total_area'}>,\n",
       "        <AxesSubplot:title={'center':'rooms'}>],\n",
       "       [<AxesSubplot:title={'center':'ceiling_height'}>,\n",
       "        <AxesSubplot:title={'center':'floors_total'}>,\n",
       "        <AxesSubplot:title={'center':'living_area'}>,\n",
       "        <AxesSubplot:title={'center':'floor'}>],\n",
       "       [<AxesSubplot:title={'center':'kitchen_area'}>,\n",
       "        <AxesSubplot:title={'center':'balcony'}>,\n",
       "        <AxesSubplot:title={'center':'airports_nearest'}>,\n",
       "        <AxesSubplot:title={'center':'cityCenters_nearest'}>],\n",
       "       [<AxesSubplot:title={'center':'parks_around3000'}>,\n",
       "        <AxesSubplot:title={'center':'parks_nearest'}>,\n",
       "        <AxesSubplot:title={'center':'ponds_around3000'}>,\n",
       "        <AxesSubplot:title={'center':'ponds_nearest'}>],\n",
       "       [<AxesSubplot:title={'center':'days_exposition'}>, <AxesSubplot:>,\n",
       "        <AxesSubplot:>, <AxesSubplot:>]], dtype=object)"
      ]
     },
     "execution_count": 6,
     "metadata": {},
     "output_type": "execute_result"
    },
    {
     "data": {
      "image/png": "[encoded data removed]",
      "text/plain": [
       "<Figure size 1440x1800 with 20 Axes>"
      ]
     },
     "metadata": {
      "needs_background": "light"
     },
     "output_type": "display_data"
    }
   ],
   "source": [
    "data.hist(figsize=(20, 25))"
   ]
  },
  {
   "cell_type": "markdown",
   "metadata": {},
   "source": [
    "Гистограммы исходных (не предобработанных) значений указывают на большое кол-во пропусков, неточностей и выбросов (случайных значений)"
   ]
  },
  {
   "cell_type": "markdown",
   "metadata": {},
   "source": [
    "### Предобработка данных"
   ]
  },
  {
   "cell_type": "markdown",
   "metadata": {},
   "source": [
    "Начнем предобратотку данных с корректировки названий столбцов согласно \"правилам хорошего тона\""
   ]
  },
  {
   "cell_type": "code",
   "execution_count": 7,
   "metadata": {
    "scrolled": true
   },
   "outputs": [
    {
     "data": {
      "text/plain": [
       "<bound method Index.unique of Index(['total_images', 'last_price', 'total_area', 'first_day_exposition',\n",
       "       'rooms', 'ceiling_height', 'floors_total', 'living_area', 'floor',\n",
       "       'is_apartment', 'studio', 'open_plan', 'kitchen_area', 'balcony',\n",
       "       'locality_name', 'airports_nearest', 'cityCenters_nearest',\n",
       "       'parks_around3000', 'parks_nearest', 'ponds_around3000',\n",
       "       'ponds_nearest', 'days_exposition'],\n",
       "      dtype='object')>"
      ]
     },
     "execution_count": 7,
     "metadata": {},
     "output_type": "execute_result"
    }
   ],
   "source": [
    "data.columns.unique"
   ]
  },
  {
   "cell_type": "code",
   "execution_count": 8,
   "metadata": {},
   "outputs": [],
   "source": [
    "data = data.rename(\n",
    "columns={ \n",
    "    'total_images' : 'total_images',\n",
    "    'last_price' : 'last_price',\n",
    "    'total_area' : 'total_area',\n",
    "    'first_day_exposition' : 'first_day_exposition',\n",
    "    'rooms' : 'rooms',\n",
    "    'ceiling_height' : 'ceiling_height',\n",
    "    'floors_total' : 'floors_total',\n",
    "    'living_area' : 'living_area',\n",
    "    'floor' : 'floor',\n",
    "    'is_apartment': 'is_apartment',\n",
    "    'studio': 'studio',\n",
    "    'open_plan' : 'open_plan',\n",
    "    'kitchen_area' : 'kitchen_area',\n",
    "    'balcony' : 'balcony',\n",
    "    'locality_name' : 'locality_name',\n",
    "    'airports_nearest' : 'airports_nearest',\n",
    "    'cityCenters_nearest' : 'city_centers_nearest',\n",
    "    'parks_around3000' : 'parks_around_3000',\n",
    "    'parks_nearest' : 'parks_nearest',\n",
    "    'ponds_around3000' : 'ponds_around_3000',\n",
    "    'ponds_nearest' : 'ponds_nearest',\n",
    "    'days_exposition' : 'days_exposition'\n",
    " } \n",
    ")"
   ]
  },
  {
   "cell_type": "markdown",
   "metadata": {},
   "source": [
    "Проверяем новые названия столбцов."
   ]
  },
  {
   "cell_type": "code",
   "execution_count": 9,
   "metadata": {
    "scrolled": true
   },
   "outputs": [
    {
     "data": {
      "text/plain": [
       "<bound method Index.unique of Index(['total_images', 'last_price', 'total_area', 'first_day_exposition',\n",
       "       'rooms', 'ceiling_height', 'floors_total', 'living_area', 'floor',\n",
       "       'is_apartment', 'studio', 'open_plan', 'kitchen_area', 'balcony',\n",
       "       'locality_name', 'airports_nearest', 'city_centers_nearest',\n",
       "       'parks_around_3000', 'parks_nearest', 'ponds_around_3000',\n",
       "       'ponds_nearest', 'days_exposition'],\n",
       "      dtype='object')>"
      ]
     },
     "execution_count": 9,
     "metadata": {},
     "output_type": "execute_result"
    }
   ],
   "source": [
    "data.columns.unique"
   ]
  },
  {
   "cell_type": "markdown",
   "metadata": {},
   "source": [
    "Подсчитываем количество пропущенных значений."
   ]
  },
  {
   "cell_type": "code",
   "execution_count": 10,
   "metadata": {},
   "outputs": [
    {
     "data": {
      "text/plain": [
       "total_images                0\n",
       "last_price                  0\n",
       "total_area                  0\n",
       "first_day_exposition        0\n",
       "rooms                       0\n",
       "ceiling_height           9195\n",
       "floors_total               86\n",
       "living_area              1903\n",
       "floor                       0\n",
       "is_apartment            20924\n",
       "studio                      0\n",
       "open_plan                   0\n",
       "kitchen_area             2278\n",
       "balcony                 11519\n",
       "locality_name              49\n",
       "airports_nearest         5542\n",
       "city_centers_nearest     5519\n",
       "parks_around_3000        5518\n",
       "parks_nearest           15620\n",
       "ponds_around_3000        5518\n",
       "ponds_nearest           14589\n",
       "days_exposition          3181\n",
       "dtype: int64"
      ]
     },
     "execution_count": 10,
     "metadata": {},
     "output_type": "execute_result"
    }
   ],
   "source": [
    "data.isna().sum()"
   ]
  },
  {
   "cell_type": "markdown",
   "metadata": {},
   "source": [
    "Наблюдаем пропущенные значения во многих столбцах. \\\n",
    "Можем предположить, что пользователи оставляли пропуски в столбцах обозначающих отсутствующие (кол-во балконов) или неизвестные им значения (высоту потолков, точные параметры кухни и жилой площади). \\\n",
    "Пропуски в параметре \"апартаменты\" могут указывать, что объект не является апартаментами. \\\n",
    "Пропуски в картографических данных, с наибольшей вероятностью, вызваны техническими ошибками, например: местоопределения (не значащийся на карте водоем/парк), невозможность однозначно определить расстояния до аэропорта/центра города."
   ]
  },
  {
   "cell_type": "markdown",
   "metadata": {},
   "source": [
    "Приведем значения стобца **locality_name** к общему виду без обозначений типа населенного пунка (деревня, поселок, село, и тд)"
   ]
  },
  {
   "cell_type": "code",
   "execution_count": 11,
   "metadata": {},
   "outputs": [],
   "source": [
    "data['locality_name'] = data['locality_name'].str.lower()\n",
    "data['locality_name'] = data['locality_name'].str.replace('ё', 'е')"
   ]
  },
  {
   "cell_type": "markdown",
   "metadata": {},
   "source": [
    "В столбце **ceiling_height** можем заменить случайные значения на нормальные ."
   ]
  },
  {
   "cell_type": "code",
   "execution_count": 12,
   "metadata": {},
   "outputs": [
    {
     "data": {
      "text/plain": [
       "array([  2.7 ,    nan,   3.03,   2.5 ,   2.67,   2.56,   3.05,   2.75,\n",
       "         2.6 ,   2.9 ,   2.8 ,   2.55,   3.  ,   2.65,   3.2 ,   2.61,\n",
       "         3.25,   3.45,   2.77,   2.85,   2.64,   2.57,   4.15,   3.5 ,\n",
       "         3.3 ,   2.71,   4.  ,   2.47,   2.73,   2.84,   3.1 ,   2.34,\n",
       "         3.4 ,   3.06,   2.72,   2.54,   2.51,   2.78,   2.76,  25.  ,\n",
       "         2.58,   3.7 ,   2.52,   5.2 ,   2.87,   2.66,   2.59,   2.  ,\n",
       "         2.45,   3.6 ,   2.92,   3.11,   3.13,   3.8 ,   3.15,   3.55,\n",
       "         3.16,   3.62,   3.12,   2.53,   2.74,   2.96,   2.46,   5.3 ,\n",
       "         5.  ,   2.79,   2.95,   4.06,   2.94,   3.82,   3.54,   3.53,\n",
       "         2.83,   4.7 ,   2.4 ,   3.38,   3.01,   5.6 ,   3.65,   3.9 ,\n",
       "         3.18,   3.35,   2.3 ,   3.57,   2.48,   2.62,   2.82,   3.98,\n",
       "         2.63,   3.83,   3.52,   3.95,   3.75,   2.88,   3.67,   3.87,\n",
       "         3.66,   3.85,   3.86,   4.19,   3.24,   4.8 ,   4.5 ,   4.2 ,\n",
       "         3.36,  32.  ,   3.08,   3.68,   3.07,   3.37,   3.09,   8.  ,\n",
       "         3.26,   3.34,   2.81,   3.44,   2.97,   3.14,   4.37,   2.68,\n",
       "         3.22,   3.27,  27.  ,   4.1 ,   2.93,   3.46,  24.  ,   3.47,\n",
       "         3.33,   3.63,   3.32,  26.  ,   1.2 ,   8.3 ,   2.98,   2.86,\n",
       "         3.17,   4.4 ,   3.28,   3.04,   4.45,   5.5 ,   3.84,   3.23,\n",
       "         3.02,   3.21,   3.43,   3.78,   4.3 ,   3.39,   2.69,   3.31,\n",
       "         4.65,   3.56,   2.2 ,   3.51,   3.93,   3.42,   2.99,   3.49,\n",
       "        14.  ,   4.14,   2.91,   3.88,   1.75,   4.25,   3.29,  20.  ,\n",
       "         2.25,   3.76,   3.69,   6.  ,  22.6 ,   2.89,   3.58,   5.8 ,\n",
       "        27.5 ,   2.49,   4.9 ,   3.48,  10.3 ,   1.  , 100.  ,   3.59])"
      ]
     },
     "execution_count": 12,
     "metadata": {},
     "output_type": "execute_result"
    }
   ],
   "source": [
    "data['ceiling_height'].unique()"
   ]
  },
  {
   "cell_type": "code",
   "execution_count": 13,
   "metadata": {},
   "outputs": [],
   "source": [
    "data['ceiling_height'] = data['ceiling_height'].where(data['ceiling_height'] >= 20, other=(data['ceiling_height'] / 10))"
   ]
  },
  {
   "cell_type": "markdown",
   "metadata": {},
   "source": [
    "Было проведено исследование всех столбцов датафрейма на аномальные значения. \\\n",
    "Во избежание нагромождения ненужного кода, ниже преведены только операции со столбцами над которыми проводились какие-либо манипуляции. \\\n",
    "Так же в коде не будут указываться проведенные команды для проверки удаления/изменения значений."
   ]
  },
  {
   "cell_type": "markdown",
   "metadata": {},
   "source": [
    "В столбце **rooms** были обнаружены аномальные значения кол-ва комнат.\n",
    "Удалим строки с значением больше 10 комнат.\n",
    "Так мы потеряем всего несколько строк, при этом сильно улучшим статистические показатели."
   ]
  },
  {
   "cell_type": "code",
   "execution_count": 14,
   "metadata": {},
   "outputs": [
    {
     "data": {
      "text/plain": [
       "1     8047\n",
       "2     7940\n",
       "3     5814\n",
       "4     1180\n",
       "5      326\n",
       "0      197\n",
       "6      105\n",
       "7       59\n",
       "8       12\n",
       "9        8\n",
       "10       3\n",
       "11       2\n",
       "14       2\n",
       "19       1\n",
       "16       1\n",
       "12       1\n",
       "15       1\n",
       "Name: rooms, dtype: int64"
      ]
     },
     "execution_count": 14,
     "metadata": {},
     "output_type": "execute_result"
    }
   ],
   "source": [
    "data['rooms'].value_counts()"
   ]
  },
  {
   "cell_type": "code",
   "execution_count": 15,
   "metadata": {},
   "outputs": [],
   "source": [
    "data = data.loc[data['rooms'] < 10]"
   ]
  },
  {
   "cell_type": "markdown",
   "metadata": {},
   "source": [
    "Удалим значения этажей выше 28"
   ]
  },
  {
   "cell_type": "code",
   "execution_count": 16,
   "metadata": {},
   "outputs": [],
   "source": [
    "data = data.loc[data['floors_total'] < 29]"
   ]
  },
  {
   "cell_type": "code",
   "execution_count": 17,
   "metadata": {},
   "outputs": [
    {
     "name": "stdout",
     "output_type": "stream",
     "text": [
      "<class 'pandas.core.frame.DataFrame'>\n",
      "Int64Index: 23569 entries, 0 to 23698\n",
      "Data columns (total 22 columns):\n",
      " #   Column                Non-Null Count  Dtype  \n",
      "---  ------                --------------  -----  \n",
      " 0   total_images          23569 non-null  int64  \n",
      " 1   last_price            23569 non-null  float64\n",
      " 2   total_area            23569 non-null  float64\n",
      " 3   first_day_exposition  23569 non-null  object \n",
      " 4   rooms                 23569 non-null  int64  \n",
      " 5   ceiling_height        14471 non-null  float64\n",
      " 6   floors_total          23569 non-null  float64\n",
      " 7   living_area           21700 non-null  float64\n",
      " 8   floor                 23569 non-null  int64  \n",
      " 9   is_apartment          2771 non-null   object \n",
      " 10  studio                23569 non-null  bool   \n",
      " 11  open_plan             23569 non-null  bool   \n",
      " 12  kitchen_area          21341 non-null  float64\n",
      " 13  balcony               12111 non-null  float64\n",
      " 14  locality_name         23521 non-null  object \n",
      " 15  airports_nearest      18037 non-null  float64\n",
      " 16  city_centers_nearest  18060 non-null  float64\n",
      " 17  parks_around_3000     18061 non-null  float64\n",
      " 18  parks_nearest         8034 non-null   float64\n",
      " 19  ponds_around_3000     18061 non-null  float64\n",
      " 20  ponds_nearest         9023 non-null   float64\n",
      " 21  days_exposition       20406 non-null  float64\n",
      "dtypes: bool(2), float64(14), int64(3), object(3)\n",
      "memory usage: 3.8+ MB\n"
     ]
    }
   ],
   "source": [
    "data.info()"
   ]
  },
  {
   "cell_type": "markdown",
   "metadata": {},
   "source": [
    "В столбце **is_apartment** заменим пропуски на False. Логически, можно предположить, что они означают, что объект не является апартаментами"
   ]
  },
  {
   "cell_type": "code",
   "execution_count": 18,
   "metadata": {},
   "outputs": [],
   "source": [
    "data['is_apartment'] = data['is_apartment'].fillna(False)"
   ]
  },
  {
   "cell_type": "markdown",
   "metadata": {},
   "source": [
    "Можем предположить, что пропуск в столбцах **balcony** , **ponds_around_3000** означает отсутствие объекта. \\\n",
    "Тем не менее заполнять эти пропуски чем-либо не представляется целесообразным во избежание искажения данных."
   ]
  },
  {
   "cell_type": "code",
   "execution_count": 19,
   "metadata": {},
   "outputs": [
    {
     "data": {
      "text/plain": [
       "total_images                0\n",
       "last_price                  0\n",
       "total_area                  0\n",
       "first_day_exposition        0\n",
       "rooms                       0\n",
       "ceiling_height           9098\n",
       "floors_total                0\n",
       "living_area              1869\n",
       "floor                       0\n",
       "is_apartment                0\n",
       "studio                      0\n",
       "open_plan                   0\n",
       "kitchen_area             2228\n",
       "balcony                 11458\n",
       "locality_name              48\n",
       "airports_nearest         5532\n",
       "city_centers_nearest     5509\n",
       "parks_around_3000        5508\n",
       "parks_nearest           15535\n",
       "ponds_around_3000        5508\n",
       "ponds_nearest           14546\n",
       "days_exposition          3163\n",
       "dtype: int64"
      ]
     },
     "execution_count": 19,
     "metadata": {},
     "output_type": "execute_result"
    }
   ],
   "source": [
    "data.isna().sum()"
   ]
  },
  {
   "cell_type": "markdown",
   "metadata": {},
   "source": [
    "Учитывая то, что перед нами стоит аналитическая задача, мы удалили максимально возможное кол-во пропусков, не искажая точность исследования, при этом не сильно уменьшая выборку. \\\n",
    "Дальнейшие удаления/замена другими значениями приведет к искажению точности исследования, было решено оставить их \"как есть\"."
   ]
  },
  {
   "cell_type": "markdown",
   "metadata": {},
   "source": [
    "Далее меняем форматы данных в столбцах датафрейма. \\\n",
    "Стоит упомянуть, что изменение форматов данных, не считая столбец \"время\", выполняется по нескольким причинам: \n",
    "- Эстетический аспект \n",
    "- Экономия памяти \n",
    "- Точность исполнения логических операций (например: жесткое сравнение) \n",
    "- Просто потому, что они обозначают целые величины и дробные части им не нужны )"
   ]
  },
  {
   "cell_type": "code",
   "execution_count": 20,
   "metadata": {},
   "outputs": [],
   "source": [
    "data = data.drop_duplicates().reset_index(drop=True)"
   ]
  },
  {
   "cell_type": "code",
   "execution_count": 21,
   "metadata": {},
   "outputs": [
    {
     "name": "stdout",
     "output_type": "stream",
     "text": [
      "<class 'pandas.core.frame.DataFrame'>\n",
      "RangeIndex: 23569 entries, 0 to 23568\n",
      "Data columns (total 22 columns):\n",
      " #   Column                Non-Null Count  Dtype  \n",
      "---  ------                --------------  -----  \n",
      " 0   total_images          23569 non-null  int64  \n",
      " 1   last_price            23569 non-null  float64\n",
      " 2   total_area            23569 non-null  float64\n",
      " 3   first_day_exposition  23569 non-null  object \n",
      " 4   rooms                 23569 non-null  int64  \n",
      " 5   ceiling_height        14471 non-null  float64\n",
      " 6   floors_total          23569 non-null  float64\n",
      " 7   living_area           21700 non-null  float64\n",
      " 8   floor                 23569 non-null  int64  \n",
      " 9   is_apartment          23569 non-null  bool   \n",
      " 10  studio                23569 non-null  bool   \n",
      " 11  open_plan             23569 non-null  bool   \n",
      " 12  kitchen_area          21341 non-null  float64\n",
      " 13  balcony               12111 non-null  float64\n",
      " 14  locality_name         23521 non-null  object \n",
      " 15  airports_nearest      18037 non-null  float64\n",
      " 16  city_centers_nearest  18060 non-null  float64\n",
      " 17  parks_around_3000     18061 non-null  float64\n",
      " 18  parks_nearest         8034 non-null   float64\n",
      " 19  ponds_around_3000     18061 non-null  float64\n",
      " 20  ponds_nearest         9023 non-null   float64\n",
      " 21  days_exposition       20406 non-null  float64\n",
      "dtypes: bool(3), float64(14), int64(3), object(2)\n",
      "memory usage: 3.5+ MB\n"
     ]
    }
   ],
   "source": [
    "data.info()"
   ]
  },
  {
   "cell_type": "markdown",
   "metadata": {},
   "source": [
    "Начнем с формата времени."
   ]
  },
  {
   "cell_type": "code",
   "execution_count": 22,
   "metadata": {
    "scrolled": true
   },
   "outputs": [],
   "source": [
    "data['first_day_exposition'] = pd.to_datetime(data['first_day_exposition'], format='%Y.%m.%dT%H:%M:%S')"
   ]
  },
  {
   "cell_type": "markdown",
   "metadata": {},
   "source": [
    "Далее переходим к столбцам:"
   ]
  },
  {
   "cell_type": "code",
   "execution_count": 23,
   "metadata": {},
   "outputs": [],
   "source": [
    "data['floors_total'] = data['floors_total'].astype('Int64')"
   ]
  },
  {
   "cell_type": "code",
   "execution_count": 24,
   "metadata": {},
   "outputs": [],
   "source": [
    "data['balcony'] = data['balcony'].astype('Int64')"
   ]
  },
  {
   "cell_type": "code",
   "execution_count": 25,
   "metadata": {},
   "outputs": [],
   "source": [
    "data['airports_nearest'] = data['airports_nearest'].astype({'airports_nearest': \"Int64\"})"
   ]
  },
  {
   "cell_type": "code",
   "execution_count": 26,
   "metadata": {},
   "outputs": [],
   "source": [
    "data['city_centers_nearest'] = data['city_centers_nearest'].astype({'city_centers_nearest': \"Int64\"})"
   ]
  },
  {
   "cell_type": "code",
   "execution_count": 27,
   "metadata": {},
   "outputs": [],
   "source": [
    "data['parks_around_3000'] = data['parks_around_3000'].astype({'parks_around_3000': \"Int64\"})"
   ]
  },
  {
   "cell_type": "code",
   "execution_count": 28,
   "metadata": {},
   "outputs": [],
   "source": [
    "data['parks_nearest'] = data['parks_nearest'].astype({'parks_nearest': \"Int64\"})"
   ]
  },
  {
   "cell_type": "code",
   "execution_count": 29,
   "metadata": {},
   "outputs": [],
   "source": [
    "data['ponds_around_3000'] = data['ponds_around_3000'].astype({'ponds_around_3000': \"Int64\"})"
   ]
  },
  {
   "cell_type": "code",
   "execution_count": 30,
   "metadata": {},
   "outputs": [],
   "source": [
    "data['ponds_nearest'] = data['ponds_nearest'].astype({'ponds_nearest': \"Int64\"})"
   ]
  },
  {
   "cell_type": "code",
   "execution_count": 31,
   "metadata": {},
   "outputs": [],
   "source": [
    "data['days_exposition'] = data['days_exposition'].round().astype({'days_exposition': \"Int64\"})"
   ]
  },
  {
   "cell_type": "markdown",
   "metadata": {},
   "source": [
    "Проверяем результат выполнения предыдущих шагов по изменению формата данных."
   ]
  },
  {
   "cell_type": "code",
   "execution_count": 32,
   "metadata": {},
   "outputs": [
    {
     "data": {
      "text/plain": [
       "total_images                     int64\n",
       "last_price                     float64\n",
       "total_area                     float64\n",
       "first_day_exposition    datetime64[ns]\n",
       "rooms                            int64\n",
       "ceiling_height                 float64\n",
       "floors_total                     Int64\n",
       "living_area                    float64\n",
       "floor                            int64\n",
       "is_apartment                      bool\n",
       "studio                            bool\n",
       "open_plan                         bool\n",
       "kitchen_area                   float64\n",
       "balcony                          Int64\n",
       "locality_name                   object\n",
       "airports_nearest                 Int64\n",
       "city_centers_nearest             Int64\n",
       "parks_around_3000                Int64\n",
       "parks_nearest                    Int64\n",
       "ponds_around_3000                Int64\n",
       "ponds_nearest                    Int64\n",
       "days_exposition                  Int64\n",
       "dtype: object"
      ]
     },
     "execution_count": 32,
     "metadata": {},
     "output_type": "execute_result"
    }
   ],
   "source": [
    "data.dtypes"
   ]
  },
  {
   "cell_type": "markdown",
   "metadata": {},
   "source": [
    "Отобразим статистическую информацию о датафрейме"
   ]
  },
  {
   "cell_type": "code",
   "execution_count": 33,
   "metadata": {},
   "outputs": [
    {
     "data": {
      "text/html": [
       "<div>\n",
       "<style scoped>\n",
       "    .dataframe tbody tr th:only-of-type {\n",
       "        vertical-align: middle;\n",
       "    }\n",
       "\n",
       "    .dataframe tbody tr th {\n",
       "        vertical-align: top;\n",
       "    }\n",
       "\n",
       "    .dataframe thead th {\n",
       "        text-align: right;\n",
       "    }\n",
       "</style>\n",
       "<table border=\"1\" class=\"dataframe\">\n",
       "  <thead>\n",
       "    <tr style=\"text-align: right;\">\n",
       "      <th></th>\n",
       "      <th>total_images</th>\n",
       "      <th>last_price</th>\n",
       "      <th>total_area</th>\n",
       "      <th>rooms</th>\n",
       "      <th>ceiling_height</th>\n",
       "      <th>floors_total</th>\n",
       "      <th>living_area</th>\n",
       "      <th>floor</th>\n",
       "      <th>kitchen_area</th>\n",
       "      <th>balcony</th>\n",
       "      <th>airports_nearest</th>\n",
       "      <th>city_centers_nearest</th>\n",
       "      <th>parks_around_3000</th>\n",
       "      <th>parks_nearest</th>\n",
       "      <th>ponds_around_3000</th>\n",
       "      <th>ponds_nearest</th>\n",
       "      <th>days_exposition</th>\n",
       "    </tr>\n",
       "  </thead>\n",
       "  <tbody>\n",
       "    <tr>\n",
       "      <th>count</th>\n",
       "      <td>23569.000000</td>\n",
       "      <td>2.356900e+04</td>\n",
       "      <td>23569.000000</td>\n",
       "      <td>23569.00000</td>\n",
       "      <td>14471.000000</td>\n",
       "      <td>23569.000000</td>\n",
       "      <td>21700.000000</td>\n",
       "      <td>23569.000000</td>\n",
       "      <td>21341.000000</td>\n",
       "      <td>12111.000000</td>\n",
       "      <td>18037.000000</td>\n",
       "      <td>18060.000000</td>\n",
       "      <td>18061.000000</td>\n",
       "      <td>8034.000000</td>\n",
       "      <td>18061.000000</td>\n",
       "      <td>9023.000000</td>\n",
       "      <td>20406.000000</td>\n",
       "    </tr>\n",
       "    <tr>\n",
       "      <th>mean</th>\n",
       "      <td>9.872078</td>\n",
       "      <td>6.512701e+06</td>\n",
       "      <td>60.204376</td>\n",
       "      <td>2.06657</td>\n",
       "      <td>0.317274</td>\n",
       "      <td>10.639781</td>\n",
       "      <td>34.376217</td>\n",
       "      <td>5.861174</td>\n",
       "      <td>10.544831</td>\n",
       "      <td>1.153579</td>\n",
       "      <td>28804.579919</td>\n",
       "      <td>14178.006035</td>\n",
       "      <td>0.612037</td>\n",
       "      <td>490.512074</td>\n",
       "      <td>0.766181</td>\n",
       "      <td>519.795744</td>\n",
       "      <td>180.844458</td>\n",
       "    </tr>\n",
       "    <tr>\n",
       "      <th>std</th>\n",
       "      <td>5.681998</td>\n",
       "      <td>1.055854e+07</td>\n",
       "      <td>34.825705</td>\n",
       "      <td>1.05143</td>\n",
       "      <td>1.289977</td>\n",
       "      <td>6.529470</td>\n",
       "      <td>21.545602</td>\n",
       "      <td>4.843957</td>\n",
       "      <td>5.826914</td>\n",
       "      <td>1.070910</td>\n",
       "      <td>12628.517803</td>\n",
       "      <td>8613.520864</td>\n",
       "      <td>0.802217</td>\n",
       "      <td>341.498399</td>\n",
       "      <td>0.935328</td>\n",
       "      <td>277.237092</td>\n",
       "      <td>219.584610</td>\n",
       "    </tr>\n",
       "    <tr>\n",
       "      <th>min</th>\n",
       "      <td>0.000000</td>\n",
       "      <td>1.219000e+04</td>\n",
       "      <td>12.000000</td>\n",
       "      <td>0.00000</td>\n",
       "      <td>0.100000</td>\n",
       "      <td>1.000000</td>\n",
       "      <td>2.000000</td>\n",
       "      <td>1.000000</td>\n",
       "      <td>1.300000</td>\n",
       "      <td>0.000000</td>\n",
       "      <td>0.000000</td>\n",
       "      <td>181.000000</td>\n",
       "      <td>0.000000</td>\n",
       "      <td>1.000000</td>\n",
       "      <td>0.000000</td>\n",
       "      <td>13.000000</td>\n",
       "      <td>1.000000</td>\n",
       "    </tr>\n",
       "    <tr>\n",
       "      <th>25%</th>\n",
       "      <td>6.000000</td>\n",
       "      <td>3.400000e+06</td>\n",
       "      <td>40.000000</td>\n",
       "      <td>1.00000</td>\n",
       "      <td>0.251000</td>\n",
       "      <td>5.000000</td>\n",
       "      <td>18.600000</td>\n",
       "      <td>2.000000</td>\n",
       "      <td>7.000000</td>\n",
       "      <td>0.000000</td>\n",
       "      <td>18557.000000</td>\n",
       "      <td>9233.000000</td>\n",
       "      <td>0.000000</td>\n",
       "      <td>288.000000</td>\n",
       "      <td>0.000000</td>\n",
       "      <td>296.000000</td>\n",
       "      <td>45.000000</td>\n",
       "    </tr>\n",
       "    <tr>\n",
       "      <th>50%</th>\n",
       "      <td>9.000000</td>\n",
       "      <td>4.635000e+06</td>\n",
       "      <td>52.000000</td>\n",
       "      <td>2.00000</td>\n",
       "      <td>0.265000</td>\n",
       "      <td>9.000000</td>\n",
       "      <td>30.000000</td>\n",
       "      <td>4.000000</td>\n",
       "      <td>9.100000</td>\n",
       "      <td>1.000000</td>\n",
       "      <td>26764.000000</td>\n",
       "      <td>13083.500000</td>\n",
       "      <td>0.000000</td>\n",
       "      <td>455.000000</td>\n",
       "      <td>0.000000</td>\n",
       "      <td>504.000000</td>\n",
       "      <td>95.000000</td>\n",
       "    </tr>\n",
       "    <tr>\n",
       "      <th>75%</th>\n",
       "      <td>14.000000</td>\n",
       "      <td>6.763392e+06</td>\n",
       "      <td>69.700000</td>\n",
       "      <td>3.00000</td>\n",
       "      <td>0.280000</td>\n",
       "      <td>16.000000</td>\n",
       "      <td>42.300000</td>\n",
       "      <td>8.000000</td>\n",
       "      <td>12.000000</td>\n",
       "      <td>2.000000</td>\n",
       "      <td>37273.000000</td>\n",
       "      <td>16270.000000</td>\n",
       "      <td>1.000000</td>\n",
       "      <td>612.000000</td>\n",
       "      <td>1.000000</td>\n",
       "      <td>732.000000</td>\n",
       "      <td>232.000000</td>\n",
       "    </tr>\n",
       "    <tr>\n",
       "      <th>max</th>\n",
       "      <td>50.000000</td>\n",
       "      <td>7.630000e+08</td>\n",
       "      <td>631.200000</td>\n",
       "      <td>9.00000</td>\n",
       "      <td>100.000000</td>\n",
       "      <td>28.000000</td>\n",
       "      <td>347.500000</td>\n",
       "      <td>27.000000</td>\n",
       "      <td>107.000000</td>\n",
       "      <td>5.000000</td>\n",
       "      <td>84869.000000</td>\n",
       "      <td>65968.000000</td>\n",
       "      <td>3.000000</td>\n",
       "      <td>3190.000000</td>\n",
       "      <td>3.000000</td>\n",
       "      <td>1344.000000</td>\n",
       "      <td>1580.000000</td>\n",
       "    </tr>\n",
       "  </tbody>\n",
       "</table>\n",
       "</div>"
      ],
      "text/plain": [
       "       total_images    last_price    total_area        rooms  ceiling_height  \\\n",
       "count  23569.000000  2.356900e+04  23569.000000  23569.00000    14471.000000   \n",
       "mean       9.872078  6.512701e+06     60.204376      2.06657        0.317274   \n",
       "std        5.681998  1.055854e+07     34.825705      1.05143        1.289977   \n",
       "min        0.000000  1.219000e+04     12.000000      0.00000        0.100000   \n",
       "25%        6.000000  3.400000e+06     40.000000      1.00000        0.251000   \n",
       "50%        9.000000  4.635000e+06     52.000000      2.00000        0.265000   \n",
       "75%       14.000000  6.763392e+06     69.700000      3.00000        0.280000   \n",
       "max       50.000000  7.630000e+08    631.200000      9.00000      100.000000   \n",
       "\n",
       "       floors_total   living_area         floor  kitchen_area       balcony  \\\n",
       "count  23569.000000  21700.000000  23569.000000  21341.000000  12111.000000   \n",
       "mean      10.639781     34.376217      5.861174     10.544831      1.153579   \n",
       "std        6.529470     21.545602      4.843957      5.826914      1.070910   \n",
       "min        1.000000      2.000000      1.000000      1.300000      0.000000   \n",
       "25%        5.000000     18.600000      2.000000      7.000000      0.000000   \n",
       "50%        9.000000     30.000000      4.000000      9.100000      1.000000   \n",
       "75%       16.000000     42.300000      8.000000     12.000000      2.000000   \n",
       "max       28.000000    347.500000     27.000000    107.000000      5.000000   \n",
       "\n",
       "       airports_nearest  city_centers_nearest  parks_around_3000  \\\n",
       "count      18037.000000          18060.000000       18061.000000   \n",
       "mean       28804.579919          14178.006035           0.612037   \n",
       "std        12628.517803           8613.520864           0.802217   \n",
       "min            0.000000            181.000000           0.000000   \n",
       "25%        18557.000000           9233.000000           0.000000   \n",
       "50%        26764.000000          13083.500000           0.000000   \n",
       "75%        37273.000000          16270.000000           1.000000   \n",
       "max        84869.000000          65968.000000           3.000000   \n",
       "\n",
       "       parks_nearest  ponds_around_3000  ponds_nearest  days_exposition  \n",
       "count    8034.000000       18061.000000    9023.000000     20406.000000  \n",
       "mean      490.512074           0.766181     519.795744       180.844458  \n",
       "std       341.498399           0.935328     277.237092       219.584610  \n",
       "min         1.000000           0.000000      13.000000         1.000000  \n",
       "25%       288.000000           0.000000     296.000000        45.000000  \n",
       "50%       455.000000           0.000000     504.000000        95.000000  \n",
       "75%       612.000000           1.000000     732.000000       232.000000  \n",
       "max      3190.000000           3.000000    1344.000000      1580.000000  "
      ]
     },
     "execution_count": 33,
     "metadata": {},
     "output_type": "execute_result"
    }
   ],
   "source": [
    "data.describe()"
   ]
  },
  {
   "cell_type": "markdown",
   "metadata": {},
   "source": [
    "### Посчитайте и добавьте в таблицу новые столбцы"
   ]
  },
  {
   "cell_type": "markdown",
   "metadata": {},
   "source": [
    "Добавляем в таблицу нужные столбцы согласно заданию, они понадобятся для выполнения дальнеших шагов исследования. \\\n",
    "P.S. При округлении значений столбца **расстояние до центра** произошол баг библиотеки, который не позволил правильно округлить значения. В результате чего, округление было выполнено грубо."
   ]
  },
  {
   "cell_type": "code",
   "execution_count": 34,
   "metadata": {},
   "outputs": [
    {
     "data": {
      "text/html": [
       "<div>\n",
       "<style scoped>\n",
       "    .dataframe tbody tr th:only-of-type {\n",
       "        vertical-align: middle;\n",
       "    }\n",
       "\n",
       "    .dataframe tbody tr th {\n",
       "        vertical-align: top;\n",
       "    }\n",
       "\n",
       "    .dataframe thead th {\n",
       "        text-align: right;\n",
       "    }\n",
       "</style>\n",
       "<table border=\"1\" class=\"dataframe\">\n",
       "  <thead>\n",
       "    <tr style=\"text-align: right;\">\n",
       "      <th></th>\n",
       "      <th>total_images</th>\n",
       "      <th>last_price</th>\n",
       "      <th>total_area</th>\n",
       "      <th>first_day_exposition</th>\n",
       "      <th>rooms</th>\n",
       "      <th>ceiling_height</th>\n",
       "      <th>floors_total</th>\n",
       "      <th>living_area</th>\n",
       "      <th>floor</th>\n",
       "      <th>is_apartment</th>\n",
       "      <th>...</th>\n",
       "      <th>kitchen_area</th>\n",
       "      <th>balcony</th>\n",
       "      <th>locality_name</th>\n",
       "      <th>airports_nearest</th>\n",
       "      <th>city_centers_nearest</th>\n",
       "      <th>parks_around_3000</th>\n",
       "      <th>parks_nearest</th>\n",
       "      <th>ponds_around_3000</th>\n",
       "      <th>ponds_nearest</th>\n",
       "      <th>days_exposition</th>\n",
       "    </tr>\n",
       "  </thead>\n",
       "  <tbody>\n",
       "    <tr>\n",
       "      <th>0</th>\n",
       "      <td>20</td>\n",
       "      <td>13000000.0</td>\n",
       "      <td>108.00</td>\n",
       "      <td>2019-03-07</td>\n",
       "      <td>3</td>\n",
       "      <td>0.270</td>\n",
       "      <td>16</td>\n",
       "      <td>51.00</td>\n",
       "      <td>8</td>\n",
       "      <td>False</td>\n",
       "      <td>...</td>\n",
       "      <td>25.00</td>\n",
       "      <td>&lt;NA&gt;</td>\n",
       "      <td>санкт-петербург</td>\n",
       "      <td>18863</td>\n",
       "      <td>16028</td>\n",
       "      <td>1</td>\n",
       "      <td>482</td>\n",
       "      <td>2</td>\n",
       "      <td>755</td>\n",
       "      <td>&lt;NA&gt;</td>\n",
       "    </tr>\n",
       "    <tr>\n",
       "      <th>1</th>\n",
       "      <td>7</td>\n",
       "      <td>3350000.0</td>\n",
       "      <td>40.40</td>\n",
       "      <td>2018-12-04</td>\n",
       "      <td>1</td>\n",
       "      <td>NaN</td>\n",
       "      <td>11</td>\n",
       "      <td>18.60</td>\n",
       "      <td>1</td>\n",
       "      <td>False</td>\n",
       "      <td>...</td>\n",
       "      <td>11.00</td>\n",
       "      <td>2</td>\n",
       "      <td>поселок шушары</td>\n",
       "      <td>12817</td>\n",
       "      <td>18603</td>\n",
       "      <td>0</td>\n",
       "      <td>&lt;NA&gt;</td>\n",
       "      <td>0</td>\n",
       "      <td>&lt;NA&gt;</td>\n",
       "      <td>81</td>\n",
       "    </tr>\n",
       "    <tr>\n",
       "      <th>2</th>\n",
       "      <td>10</td>\n",
       "      <td>5196000.0</td>\n",
       "      <td>56.00</td>\n",
       "      <td>2015-08-20</td>\n",
       "      <td>2</td>\n",
       "      <td>NaN</td>\n",
       "      <td>5</td>\n",
       "      <td>34.30</td>\n",
       "      <td>4</td>\n",
       "      <td>False</td>\n",
       "      <td>...</td>\n",
       "      <td>8.30</td>\n",
       "      <td>0</td>\n",
       "      <td>санкт-петербург</td>\n",
       "      <td>21741</td>\n",
       "      <td>13933</td>\n",
       "      <td>1</td>\n",
       "      <td>90</td>\n",
       "      <td>2</td>\n",
       "      <td>574</td>\n",
       "      <td>558</td>\n",
       "    </tr>\n",
       "    <tr>\n",
       "      <th>3</th>\n",
       "      <td>0</td>\n",
       "      <td>64900000.0</td>\n",
       "      <td>159.00</td>\n",
       "      <td>2015-07-24</td>\n",
       "      <td>3</td>\n",
       "      <td>NaN</td>\n",
       "      <td>14</td>\n",
       "      <td>NaN</td>\n",
       "      <td>9</td>\n",
       "      <td>False</td>\n",
       "      <td>...</td>\n",
       "      <td>NaN</td>\n",
       "      <td>0</td>\n",
       "      <td>санкт-петербург</td>\n",
       "      <td>28098</td>\n",
       "      <td>6800</td>\n",
       "      <td>2</td>\n",
       "      <td>84</td>\n",
       "      <td>3</td>\n",
       "      <td>234</td>\n",
       "      <td>424</td>\n",
       "    </tr>\n",
       "    <tr>\n",
       "      <th>4</th>\n",
       "      <td>2</td>\n",
       "      <td>10000000.0</td>\n",
       "      <td>100.00</td>\n",
       "      <td>2018-06-19</td>\n",
       "      <td>2</td>\n",
       "      <td>0.303</td>\n",
       "      <td>14</td>\n",
       "      <td>32.00</td>\n",
       "      <td>13</td>\n",
       "      <td>False</td>\n",
       "      <td>...</td>\n",
       "      <td>41.00</td>\n",
       "      <td>&lt;NA&gt;</td>\n",
       "      <td>санкт-петербург</td>\n",
       "      <td>31856</td>\n",
       "      <td>8098</td>\n",
       "      <td>2</td>\n",
       "      <td>112</td>\n",
       "      <td>1</td>\n",
       "      <td>48</td>\n",
       "      <td>121</td>\n",
       "    </tr>\n",
       "    <tr>\n",
       "      <th>5</th>\n",
       "      <td>10</td>\n",
       "      <td>2890000.0</td>\n",
       "      <td>30.40</td>\n",
       "      <td>2018-09-10</td>\n",
       "      <td>1</td>\n",
       "      <td>NaN</td>\n",
       "      <td>12</td>\n",
       "      <td>14.40</td>\n",
       "      <td>5</td>\n",
       "      <td>False</td>\n",
       "      <td>...</td>\n",
       "      <td>9.10</td>\n",
       "      <td>&lt;NA&gt;</td>\n",
       "      <td>городской поселок янино-1</td>\n",
       "      <td>&lt;NA&gt;</td>\n",
       "      <td>&lt;NA&gt;</td>\n",
       "      <td>&lt;NA&gt;</td>\n",
       "      <td>&lt;NA&gt;</td>\n",
       "      <td>&lt;NA&gt;</td>\n",
       "      <td>&lt;NA&gt;</td>\n",
       "      <td>55</td>\n",
       "    </tr>\n",
       "    <tr>\n",
       "      <th>6</th>\n",
       "      <td>6</td>\n",
       "      <td>3700000.0</td>\n",
       "      <td>37.30</td>\n",
       "      <td>2017-11-02</td>\n",
       "      <td>1</td>\n",
       "      <td>NaN</td>\n",
       "      <td>26</td>\n",
       "      <td>10.60</td>\n",
       "      <td>6</td>\n",
       "      <td>False</td>\n",
       "      <td>...</td>\n",
       "      <td>14.40</td>\n",
       "      <td>1</td>\n",
       "      <td>поселок парголово</td>\n",
       "      <td>52996</td>\n",
       "      <td>19143</td>\n",
       "      <td>0</td>\n",
       "      <td>&lt;NA&gt;</td>\n",
       "      <td>0</td>\n",
       "      <td>&lt;NA&gt;</td>\n",
       "      <td>155</td>\n",
       "    </tr>\n",
       "    <tr>\n",
       "      <th>7</th>\n",
       "      <td>5</td>\n",
       "      <td>7915000.0</td>\n",
       "      <td>71.60</td>\n",
       "      <td>2019-04-18</td>\n",
       "      <td>2</td>\n",
       "      <td>NaN</td>\n",
       "      <td>24</td>\n",
       "      <td>NaN</td>\n",
       "      <td>22</td>\n",
       "      <td>False</td>\n",
       "      <td>...</td>\n",
       "      <td>18.90</td>\n",
       "      <td>2</td>\n",
       "      <td>санкт-петербург</td>\n",
       "      <td>23982</td>\n",
       "      <td>11634</td>\n",
       "      <td>0</td>\n",
       "      <td>&lt;NA&gt;</td>\n",
       "      <td>0</td>\n",
       "      <td>&lt;NA&gt;</td>\n",
       "      <td>&lt;NA&gt;</td>\n",
       "    </tr>\n",
       "    <tr>\n",
       "      <th>8</th>\n",
       "      <td>20</td>\n",
       "      <td>2900000.0</td>\n",
       "      <td>33.16</td>\n",
       "      <td>2018-05-23</td>\n",
       "      <td>1</td>\n",
       "      <td>NaN</td>\n",
       "      <td>27</td>\n",
       "      <td>15.43</td>\n",
       "      <td>26</td>\n",
       "      <td>False</td>\n",
       "      <td>...</td>\n",
       "      <td>8.81</td>\n",
       "      <td>&lt;NA&gt;</td>\n",
       "      <td>поселок мурино</td>\n",
       "      <td>&lt;NA&gt;</td>\n",
       "      <td>&lt;NA&gt;</td>\n",
       "      <td>&lt;NA&gt;</td>\n",
       "      <td>&lt;NA&gt;</td>\n",
       "      <td>&lt;NA&gt;</td>\n",
       "      <td>&lt;NA&gt;</td>\n",
       "      <td>189</td>\n",
       "    </tr>\n",
       "    <tr>\n",
       "      <th>9</th>\n",
       "      <td>18</td>\n",
       "      <td>5400000.0</td>\n",
       "      <td>61.00</td>\n",
       "      <td>2017-02-26</td>\n",
       "      <td>3</td>\n",
       "      <td>0.250</td>\n",
       "      <td>9</td>\n",
       "      <td>43.60</td>\n",
       "      <td>7</td>\n",
       "      <td>False</td>\n",
       "      <td>...</td>\n",
       "      <td>6.50</td>\n",
       "      <td>2</td>\n",
       "      <td>санкт-петербург</td>\n",
       "      <td>50898</td>\n",
       "      <td>15008</td>\n",
       "      <td>0</td>\n",
       "      <td>&lt;NA&gt;</td>\n",
       "      <td>0</td>\n",
       "      <td>&lt;NA&gt;</td>\n",
       "      <td>289</td>\n",
       "    </tr>\n",
       "  </tbody>\n",
       "</table>\n",
       "<p>10 rows × 22 columns</p>\n",
       "</div>"
      ],
      "text/plain": [
       "   total_images  last_price  total_area first_day_exposition  rooms  \\\n",
       "0            20  13000000.0      108.00           2019-03-07      3   \n",
       "1             7   3350000.0       40.40           2018-12-04      1   \n",
       "2            10   5196000.0       56.00           2015-08-20      2   \n",
       "3             0  64900000.0      159.00           2015-07-24      3   \n",
       "4             2  10000000.0      100.00           2018-06-19      2   \n",
       "5            10   2890000.0       30.40           2018-09-10      1   \n",
       "6             6   3700000.0       37.30           2017-11-02      1   \n",
       "7             5   7915000.0       71.60           2019-04-18      2   \n",
       "8            20   2900000.0       33.16           2018-05-23      1   \n",
       "9            18   5400000.0       61.00           2017-02-26      3   \n",
       "\n",
       "   ceiling_height  floors_total  living_area  floor  is_apartment  ...  \\\n",
       "0           0.270            16        51.00      8         False  ...   \n",
       "1             NaN            11        18.60      1         False  ...   \n",
       "2             NaN             5        34.30      4         False  ...   \n",
       "3             NaN            14          NaN      9         False  ...   \n",
       "4           0.303            14        32.00     13         False  ...   \n",
       "5             NaN            12        14.40      5         False  ...   \n",
       "6             NaN            26        10.60      6         False  ...   \n",
       "7             NaN            24          NaN     22         False  ...   \n",
       "8             NaN            27        15.43     26         False  ...   \n",
       "9           0.250             9        43.60      7         False  ...   \n",
       "\n",
       "   kitchen_area  balcony              locality_name  airports_nearest  \\\n",
       "0         25.00     <NA>            санкт-петербург             18863   \n",
       "1         11.00        2             поселок шушары             12817   \n",
       "2          8.30        0            санкт-петербург             21741   \n",
       "3           NaN        0            санкт-петербург             28098   \n",
       "4         41.00     <NA>            санкт-петербург             31856   \n",
       "5          9.10     <NA>  городской поселок янино-1              <NA>   \n",
       "6         14.40        1          поселок парголово             52996   \n",
       "7         18.90        2            санкт-петербург             23982   \n",
       "8          8.81     <NA>             поселок мурино              <NA>   \n",
       "9          6.50        2            санкт-петербург             50898   \n",
       "\n",
       "  city_centers_nearest  parks_around_3000  parks_nearest  ponds_around_3000  \\\n",
       "0                16028                  1            482                  2   \n",
       "1                18603                  0           <NA>                  0   \n",
       "2                13933                  1             90                  2   \n",
       "3                 6800                  2             84                  3   \n",
       "4                 8098                  2            112                  1   \n",
       "5                 <NA>               <NA>           <NA>               <NA>   \n",
       "6                19143                  0           <NA>                  0   \n",
       "7                11634                  0           <NA>                  0   \n",
       "8                 <NA>               <NA>           <NA>               <NA>   \n",
       "9                15008                  0           <NA>                  0   \n",
       "\n",
       "   ponds_nearest  days_exposition  \n",
       "0            755             <NA>  \n",
       "1           <NA>               81  \n",
       "2            574              558  \n",
       "3            234              424  \n",
       "4             48              121  \n",
       "5           <NA>               55  \n",
       "6           <NA>              155  \n",
       "7           <NA>             <NA>  \n",
       "8           <NA>              189  \n",
       "9           <NA>              289  \n",
       "\n",
       "[10 rows x 22 columns]"
      ]
     },
     "execution_count": 34,
     "metadata": {},
     "output_type": "execute_result"
    }
   ],
   "source": [
    "data.head(10)"
   ]
  },
  {
   "cell_type": "code",
   "execution_count": 35,
   "metadata": {},
   "outputs": [
    {
     "data": {
      "text/plain": [
       "0        120370\n",
       "1         82921\n",
       "2         92786\n",
       "3        408176\n",
       "4        100000\n",
       "          ...  \n",
       "23564     72491\n",
       "23565     52542\n",
       "23566     44092\n",
       "23567    149511\n",
       "23568     41796\n",
       "Name: meter_price, Length: 23569, dtype: Int64"
      ]
     },
     "execution_count": 35,
     "metadata": {},
     "output_type": "execute_result"
    }
   ],
   "source": [
    "data['meter_price'] = (data['last_price'] / data['total_area']).round()\n",
    "data['meter_price'].astype({'meter_price': \"Int64\"})"
   ]
  },
  {
   "cell_type": "code",
   "execution_count": 36,
   "metadata": {},
   "outputs": [],
   "source": [
    "data['weekday'] = data['first_day_exposition'].dt.weekday"
   ]
  },
  {
   "cell_type": "code",
   "execution_count": 37,
   "metadata": {},
   "outputs": [],
   "source": [
    "data['month'] = data['first_day_exposition'].dt.month_name()"
   ]
  },
  {
   "cell_type": "code",
   "execution_count": 38,
   "metadata": {},
   "outputs": [],
   "source": [
    "data['year'] = data['first_day_exposition'].dt.year"
   ]
  },
  {
   "cell_type": "code",
   "execution_count": 39,
   "metadata": {},
   "outputs": [],
   "source": [
    "def floor_typer (row):\n",
    "    try:\n",
    "        if row['floor'] == 1:\n",
    "            return 'первый'\n",
    "        elif row['floor'] == row['floors_total']:\n",
    "            return 'последний'\n",
    "        else:\n",
    "            return 'другой'\n",
    "    except:\n",
    "        return pd.NA\n",
    "    \n",
    "data['floor_type'] = data.apply(floor_typer, axis=1)"
   ]
  },
  {
   "cell_type": "code",
   "execution_count": 40,
   "metadata": {},
   "outputs": [],
   "source": [
    "data['distance_km'] = (data['city_centers_nearest'] / 1000).astype('Int64')\n"
   ]
  },
  {
   "cell_type": "code",
   "execution_count": 41,
   "metadata": {
    "scrolled": true
   },
   "outputs": [
    {
     "data": {
      "text/html": [
       "<div>\n",
       "<style scoped>\n",
       "    .dataframe tbody tr th:only-of-type {\n",
       "        vertical-align: middle;\n",
       "    }\n",
       "\n",
       "    .dataframe tbody tr th {\n",
       "        vertical-align: top;\n",
       "    }\n",
       "\n",
       "    .dataframe thead th {\n",
       "        text-align: right;\n",
       "    }\n",
       "</style>\n",
       "<table border=\"1\" class=\"dataframe\">\n",
       "  <thead>\n",
       "    <tr style=\"text-align: right;\">\n",
       "      <th></th>\n",
       "      <th>total_images</th>\n",
       "      <th>last_price</th>\n",
       "      <th>total_area</th>\n",
       "      <th>first_day_exposition</th>\n",
       "      <th>rooms</th>\n",
       "      <th>ceiling_height</th>\n",
       "      <th>floors_total</th>\n",
       "      <th>living_area</th>\n",
       "      <th>floor</th>\n",
       "      <th>is_apartment</th>\n",
       "      <th>...</th>\n",
       "      <th>parks_nearest</th>\n",
       "      <th>ponds_around_3000</th>\n",
       "      <th>ponds_nearest</th>\n",
       "      <th>days_exposition</th>\n",
       "      <th>meter_price</th>\n",
       "      <th>weekday</th>\n",
       "      <th>month</th>\n",
       "      <th>year</th>\n",
       "      <th>floor_type</th>\n",
       "      <th>distance_km</th>\n",
       "    </tr>\n",
       "  </thead>\n",
       "  <tbody>\n",
       "    <tr>\n",
       "      <th>0</th>\n",
       "      <td>20</td>\n",
       "      <td>13000000.0</td>\n",
       "      <td>108.00</td>\n",
       "      <td>2019-03-07</td>\n",
       "      <td>3</td>\n",
       "      <td>0.270</td>\n",
       "      <td>16</td>\n",
       "      <td>51.00</td>\n",
       "      <td>8</td>\n",
       "      <td>False</td>\n",
       "      <td>...</td>\n",
       "      <td>482</td>\n",
       "      <td>2</td>\n",
       "      <td>755</td>\n",
       "      <td>&lt;NA&gt;</td>\n",
       "      <td>120370.0</td>\n",
       "      <td>3</td>\n",
       "      <td>March</td>\n",
       "      <td>2019</td>\n",
       "      <td>другой</td>\n",
       "      <td>16</td>\n",
       "    </tr>\n",
       "    <tr>\n",
       "      <th>1</th>\n",
       "      <td>7</td>\n",
       "      <td>3350000.0</td>\n",
       "      <td>40.40</td>\n",
       "      <td>2018-12-04</td>\n",
       "      <td>1</td>\n",
       "      <td>NaN</td>\n",
       "      <td>11</td>\n",
       "      <td>18.60</td>\n",
       "      <td>1</td>\n",
       "      <td>False</td>\n",
       "      <td>...</td>\n",
       "      <td>&lt;NA&gt;</td>\n",
       "      <td>0</td>\n",
       "      <td>&lt;NA&gt;</td>\n",
       "      <td>81</td>\n",
       "      <td>82921.0</td>\n",
       "      <td>1</td>\n",
       "      <td>December</td>\n",
       "      <td>2018</td>\n",
       "      <td>первый</td>\n",
       "      <td>18</td>\n",
       "    </tr>\n",
       "    <tr>\n",
       "      <th>2</th>\n",
       "      <td>10</td>\n",
       "      <td>5196000.0</td>\n",
       "      <td>56.00</td>\n",
       "      <td>2015-08-20</td>\n",
       "      <td>2</td>\n",
       "      <td>NaN</td>\n",
       "      <td>5</td>\n",
       "      <td>34.30</td>\n",
       "      <td>4</td>\n",
       "      <td>False</td>\n",
       "      <td>...</td>\n",
       "      <td>90</td>\n",
       "      <td>2</td>\n",
       "      <td>574</td>\n",
       "      <td>558</td>\n",
       "      <td>92786.0</td>\n",
       "      <td>3</td>\n",
       "      <td>August</td>\n",
       "      <td>2015</td>\n",
       "      <td>другой</td>\n",
       "      <td>13</td>\n",
       "    </tr>\n",
       "    <tr>\n",
       "      <th>3</th>\n",
       "      <td>0</td>\n",
       "      <td>64900000.0</td>\n",
       "      <td>159.00</td>\n",
       "      <td>2015-07-24</td>\n",
       "      <td>3</td>\n",
       "      <td>NaN</td>\n",
       "      <td>14</td>\n",
       "      <td>NaN</td>\n",
       "      <td>9</td>\n",
       "      <td>False</td>\n",
       "      <td>...</td>\n",
       "      <td>84</td>\n",
       "      <td>3</td>\n",
       "      <td>234</td>\n",
       "      <td>424</td>\n",
       "      <td>408176.0</td>\n",
       "      <td>4</td>\n",
       "      <td>July</td>\n",
       "      <td>2015</td>\n",
       "      <td>другой</td>\n",
       "      <td>6</td>\n",
       "    </tr>\n",
       "    <tr>\n",
       "      <th>4</th>\n",
       "      <td>2</td>\n",
       "      <td>10000000.0</td>\n",
       "      <td>100.00</td>\n",
       "      <td>2018-06-19</td>\n",
       "      <td>2</td>\n",
       "      <td>0.303</td>\n",
       "      <td>14</td>\n",
       "      <td>32.00</td>\n",
       "      <td>13</td>\n",
       "      <td>False</td>\n",
       "      <td>...</td>\n",
       "      <td>112</td>\n",
       "      <td>1</td>\n",
       "      <td>48</td>\n",
       "      <td>121</td>\n",
       "      <td>100000.0</td>\n",
       "      <td>1</td>\n",
       "      <td>June</td>\n",
       "      <td>2018</td>\n",
       "      <td>другой</td>\n",
       "      <td>8</td>\n",
       "    </tr>\n",
       "    <tr>\n",
       "      <th>5</th>\n",
       "      <td>10</td>\n",
       "      <td>2890000.0</td>\n",
       "      <td>30.40</td>\n",
       "      <td>2018-09-10</td>\n",
       "      <td>1</td>\n",
       "      <td>NaN</td>\n",
       "      <td>12</td>\n",
       "      <td>14.40</td>\n",
       "      <td>5</td>\n",
       "      <td>False</td>\n",
       "      <td>...</td>\n",
       "      <td>&lt;NA&gt;</td>\n",
       "      <td>&lt;NA&gt;</td>\n",
       "      <td>&lt;NA&gt;</td>\n",
       "      <td>55</td>\n",
       "      <td>95066.0</td>\n",
       "      <td>0</td>\n",
       "      <td>September</td>\n",
       "      <td>2018</td>\n",
       "      <td>другой</td>\n",
       "      <td>&lt;NA&gt;</td>\n",
       "    </tr>\n",
       "    <tr>\n",
       "      <th>6</th>\n",
       "      <td>6</td>\n",
       "      <td>3700000.0</td>\n",
       "      <td>37.30</td>\n",
       "      <td>2017-11-02</td>\n",
       "      <td>1</td>\n",
       "      <td>NaN</td>\n",
       "      <td>26</td>\n",
       "      <td>10.60</td>\n",
       "      <td>6</td>\n",
       "      <td>False</td>\n",
       "      <td>...</td>\n",
       "      <td>&lt;NA&gt;</td>\n",
       "      <td>0</td>\n",
       "      <td>&lt;NA&gt;</td>\n",
       "      <td>155</td>\n",
       "      <td>99196.0</td>\n",
       "      <td>3</td>\n",
       "      <td>November</td>\n",
       "      <td>2017</td>\n",
       "      <td>другой</td>\n",
       "      <td>19</td>\n",
       "    </tr>\n",
       "    <tr>\n",
       "      <th>7</th>\n",
       "      <td>5</td>\n",
       "      <td>7915000.0</td>\n",
       "      <td>71.60</td>\n",
       "      <td>2019-04-18</td>\n",
       "      <td>2</td>\n",
       "      <td>NaN</td>\n",
       "      <td>24</td>\n",
       "      <td>NaN</td>\n",
       "      <td>22</td>\n",
       "      <td>False</td>\n",
       "      <td>...</td>\n",
       "      <td>&lt;NA&gt;</td>\n",
       "      <td>0</td>\n",
       "      <td>&lt;NA&gt;</td>\n",
       "      <td>&lt;NA&gt;</td>\n",
       "      <td>110545.0</td>\n",
       "      <td>3</td>\n",
       "      <td>April</td>\n",
       "      <td>2019</td>\n",
       "      <td>другой</td>\n",
       "      <td>11</td>\n",
       "    </tr>\n",
       "    <tr>\n",
       "      <th>8</th>\n",
       "      <td>20</td>\n",
       "      <td>2900000.0</td>\n",
       "      <td>33.16</td>\n",
       "      <td>2018-05-23</td>\n",
       "      <td>1</td>\n",
       "      <td>NaN</td>\n",
       "      <td>27</td>\n",
       "      <td>15.43</td>\n",
       "      <td>26</td>\n",
       "      <td>False</td>\n",
       "      <td>...</td>\n",
       "      <td>&lt;NA&gt;</td>\n",
       "      <td>&lt;NA&gt;</td>\n",
       "      <td>&lt;NA&gt;</td>\n",
       "      <td>189</td>\n",
       "      <td>87455.0</td>\n",
       "      <td>2</td>\n",
       "      <td>May</td>\n",
       "      <td>2018</td>\n",
       "      <td>другой</td>\n",
       "      <td>&lt;NA&gt;</td>\n",
       "    </tr>\n",
       "    <tr>\n",
       "      <th>9</th>\n",
       "      <td>18</td>\n",
       "      <td>5400000.0</td>\n",
       "      <td>61.00</td>\n",
       "      <td>2017-02-26</td>\n",
       "      <td>3</td>\n",
       "      <td>0.250</td>\n",
       "      <td>9</td>\n",
       "      <td>43.60</td>\n",
       "      <td>7</td>\n",
       "      <td>False</td>\n",
       "      <td>...</td>\n",
       "      <td>&lt;NA&gt;</td>\n",
       "      <td>0</td>\n",
       "      <td>&lt;NA&gt;</td>\n",
       "      <td>289</td>\n",
       "      <td>88525.0</td>\n",
       "      <td>6</td>\n",
       "      <td>February</td>\n",
       "      <td>2017</td>\n",
       "      <td>другой</td>\n",
       "      <td>15</td>\n",
       "    </tr>\n",
       "    <tr>\n",
       "      <th>10</th>\n",
       "      <td>5</td>\n",
       "      <td>5050000.0</td>\n",
       "      <td>39.60</td>\n",
       "      <td>2017-11-16</td>\n",
       "      <td>1</td>\n",
       "      <td>0.267</td>\n",
       "      <td>12</td>\n",
       "      <td>20.30</td>\n",
       "      <td>3</td>\n",
       "      <td>False</td>\n",
       "      <td>...</td>\n",
       "      <td>310</td>\n",
       "      <td>2</td>\n",
       "      <td>553</td>\n",
       "      <td>137</td>\n",
       "      <td>127525.0</td>\n",
       "      <td>3</td>\n",
       "      <td>November</td>\n",
       "      <td>2017</td>\n",
       "      <td>другой</td>\n",
       "      <td>13</td>\n",
       "    </tr>\n",
       "    <tr>\n",
       "      <th>11</th>\n",
       "      <td>9</td>\n",
       "      <td>3300000.0</td>\n",
       "      <td>44.00</td>\n",
       "      <td>2018-08-27</td>\n",
       "      <td>2</td>\n",
       "      <td>NaN</td>\n",
       "      <td>5</td>\n",
       "      <td>31.00</td>\n",
       "      <td>4</td>\n",
       "      <td>False</td>\n",
       "      <td>...</td>\n",
       "      <td>&lt;NA&gt;</td>\n",
       "      <td>0</td>\n",
       "      <td>&lt;NA&gt;</td>\n",
       "      <td>7</td>\n",
       "      <td>75000.0</td>\n",
       "      <td>0</td>\n",
       "      <td>August</td>\n",
       "      <td>2018</td>\n",
       "      <td>другой</td>\n",
       "      <td>51</td>\n",
       "    </tr>\n",
       "    <tr>\n",
       "      <th>12</th>\n",
       "      <td>10</td>\n",
       "      <td>3890000.0</td>\n",
       "      <td>54.00</td>\n",
       "      <td>2016-06-30</td>\n",
       "      <td>2</td>\n",
       "      <td>NaN</td>\n",
       "      <td>5</td>\n",
       "      <td>30.00</td>\n",
       "      <td>5</td>\n",
       "      <td>False</td>\n",
       "      <td>...</td>\n",
       "      <td>&lt;NA&gt;</td>\n",
       "      <td>&lt;NA&gt;</td>\n",
       "      <td>&lt;NA&gt;</td>\n",
       "      <td>90</td>\n",
       "      <td>72037.0</td>\n",
       "      <td>3</td>\n",
       "      <td>June</td>\n",
       "      <td>2016</td>\n",
       "      <td>последний</td>\n",
       "      <td>&lt;NA&gt;</td>\n",
       "    </tr>\n",
       "    <tr>\n",
       "      <th>13</th>\n",
       "      <td>20</td>\n",
       "      <td>3550000.0</td>\n",
       "      <td>42.80</td>\n",
       "      <td>2017-07-01</td>\n",
       "      <td>2</td>\n",
       "      <td>0.256</td>\n",
       "      <td>5</td>\n",
       "      <td>27.00</td>\n",
       "      <td>5</td>\n",
       "      <td>False</td>\n",
       "      <td>...</td>\n",
       "      <td>294</td>\n",
       "      <td>3</td>\n",
       "      <td>298</td>\n",
       "      <td>366</td>\n",
       "      <td>82944.0</td>\n",
       "      <td>5</td>\n",
       "      <td>July</td>\n",
       "      <td>2017</td>\n",
       "      <td>последний</td>\n",
       "      <td>33</td>\n",
       "    </tr>\n",
       "    <tr>\n",
       "      <th>14</th>\n",
       "      <td>1</td>\n",
       "      <td>4400000.0</td>\n",
       "      <td>36.00</td>\n",
       "      <td>2016-06-23</td>\n",
       "      <td>1</td>\n",
       "      <td>NaN</td>\n",
       "      <td>6</td>\n",
       "      <td>17.00</td>\n",
       "      <td>1</td>\n",
       "      <td>False</td>\n",
       "      <td>...</td>\n",
       "      <td>&lt;NA&gt;</td>\n",
       "      <td>1</td>\n",
       "      <td>96</td>\n",
       "      <td>203</td>\n",
       "      <td>122222.0</td>\n",
       "      <td>3</td>\n",
       "      <td>June</td>\n",
       "      <td>2016</td>\n",
       "      <td>первый</td>\n",
       "      <td>30</td>\n",
       "    </tr>\n",
       "    <tr>\n",
       "      <th>15</th>\n",
       "      <td>16</td>\n",
       "      <td>4650000.0</td>\n",
       "      <td>39.00</td>\n",
       "      <td>2017-11-18</td>\n",
       "      <td>1</td>\n",
       "      <td>NaN</td>\n",
       "      <td>14</td>\n",
       "      <td>20.50</td>\n",
       "      <td>5</td>\n",
       "      <td>False</td>\n",
       "      <td>...</td>\n",
       "      <td>590</td>\n",
       "      <td>1</td>\n",
       "      <td>296</td>\n",
       "      <td>19</td>\n",
       "      <td>119231.0</td>\n",
       "      <td>5</td>\n",
       "      <td>November</td>\n",
       "      <td>2017</td>\n",
       "      <td>другой</td>\n",
       "      <td>14</td>\n",
       "    </tr>\n",
       "    <tr>\n",
       "      <th>16</th>\n",
       "      <td>11</td>\n",
       "      <td>6700000.0</td>\n",
       "      <td>82.00</td>\n",
       "      <td>2017-11-23</td>\n",
       "      <td>3</td>\n",
       "      <td>0.305</td>\n",
       "      <td>5</td>\n",
       "      <td>55.60</td>\n",
       "      <td>1</td>\n",
       "      <td>False</td>\n",
       "      <td>...</td>\n",
       "      <td>420</td>\n",
       "      <td>0</td>\n",
       "      <td>&lt;NA&gt;</td>\n",
       "      <td>397</td>\n",
       "      <td>81707.0</td>\n",
       "      <td>3</td>\n",
       "      <td>November</td>\n",
       "      <td>2017</td>\n",
       "      <td>первый</td>\n",
       "      <td>10</td>\n",
       "    </tr>\n",
       "    <tr>\n",
       "      <th>17</th>\n",
       "      <td>6</td>\n",
       "      <td>4180000.0</td>\n",
       "      <td>36.00</td>\n",
       "      <td>2016-09-09</td>\n",
       "      <td>1</td>\n",
       "      <td>NaN</td>\n",
       "      <td>17</td>\n",
       "      <td>16.50</td>\n",
       "      <td>7</td>\n",
       "      <td>False</td>\n",
       "      <td>...</td>\n",
       "      <td>&lt;NA&gt;</td>\n",
       "      <td>1</td>\n",
       "      <td>859</td>\n",
       "      <td>571</td>\n",
       "      <td>116111.0</td>\n",
       "      <td>4</td>\n",
       "      <td>September</td>\n",
       "      <td>2016</td>\n",
       "      <td>другой</td>\n",
       "      <td>14</td>\n",
       "    </tr>\n",
       "    <tr>\n",
       "      <th>18</th>\n",
       "      <td>8</td>\n",
       "      <td>3250000.0</td>\n",
       "      <td>31.00</td>\n",
       "      <td>2017-01-27</td>\n",
       "      <td>1</td>\n",
       "      <td>0.250</td>\n",
       "      <td>5</td>\n",
       "      <td>19.40</td>\n",
       "      <td>2</td>\n",
       "      <td>False</td>\n",
       "      <td>...</td>\n",
       "      <td>759</td>\n",
       "      <td>0</td>\n",
       "      <td>&lt;NA&gt;</td>\n",
       "      <td>168</td>\n",
       "      <td>104839.0</td>\n",
       "      <td>4</td>\n",
       "      <td>January</td>\n",
       "      <td>2017</td>\n",
       "      <td>другой</td>\n",
       "      <td>10</td>\n",
       "    </tr>\n",
       "    <tr>\n",
       "      <th>19</th>\n",
       "      <td>16</td>\n",
       "      <td>14200000.0</td>\n",
       "      <td>121.00</td>\n",
       "      <td>2019-01-09</td>\n",
       "      <td>3</td>\n",
       "      <td>0.275</td>\n",
       "      <td>16</td>\n",
       "      <td>76.00</td>\n",
       "      <td>8</td>\n",
       "      <td>False</td>\n",
       "      <td>...</td>\n",
       "      <td>&lt;NA&gt;</td>\n",
       "      <td>0</td>\n",
       "      <td>&lt;NA&gt;</td>\n",
       "      <td>97</td>\n",
       "      <td>117355.0</td>\n",
       "      <td>2</td>\n",
       "      <td>January</td>\n",
       "      <td>2019</td>\n",
       "      <td>другой</td>\n",
       "      <td>12</td>\n",
       "    </tr>\n",
       "  </tbody>\n",
       "</table>\n",
       "<p>20 rows × 28 columns</p>\n",
       "</div>"
      ],
      "text/plain": [
       "    total_images  last_price  total_area first_day_exposition  rooms  \\\n",
       "0             20  13000000.0      108.00           2019-03-07      3   \n",
       "1              7   3350000.0       40.40           2018-12-04      1   \n",
       "2             10   5196000.0       56.00           2015-08-20      2   \n",
       "3              0  64900000.0      159.00           2015-07-24      3   \n",
       "4              2  10000000.0      100.00           2018-06-19      2   \n",
       "5             10   2890000.0       30.40           2018-09-10      1   \n",
       "6              6   3700000.0       37.30           2017-11-02      1   \n",
       "7              5   7915000.0       71.60           2019-04-18      2   \n",
       "8             20   2900000.0       33.16           2018-05-23      1   \n",
       "9             18   5400000.0       61.00           2017-02-26      3   \n",
       "10             5   5050000.0       39.60           2017-11-16      1   \n",
       "11             9   3300000.0       44.00           2018-08-27      2   \n",
       "12            10   3890000.0       54.00           2016-06-30      2   \n",
       "13            20   3550000.0       42.80           2017-07-01      2   \n",
       "14             1   4400000.0       36.00           2016-06-23      1   \n",
       "15            16   4650000.0       39.00           2017-11-18      1   \n",
       "16            11   6700000.0       82.00           2017-11-23      3   \n",
       "17             6   4180000.0       36.00           2016-09-09      1   \n",
       "18             8   3250000.0       31.00           2017-01-27      1   \n",
       "19            16  14200000.0      121.00           2019-01-09      3   \n",
       "\n",
       "    ceiling_height  floors_total  living_area  floor  is_apartment  ...  \\\n",
       "0            0.270            16        51.00      8         False  ...   \n",
       "1              NaN            11        18.60      1         False  ...   \n",
       "2              NaN             5        34.30      4         False  ...   \n",
       "3              NaN            14          NaN      9         False  ...   \n",
       "4            0.303            14        32.00     13         False  ...   \n",
       "5              NaN            12        14.40      5         False  ...   \n",
       "6              NaN            26        10.60      6         False  ...   \n",
       "7              NaN            24          NaN     22         False  ...   \n",
       "8              NaN            27        15.43     26         False  ...   \n",
       "9            0.250             9        43.60      7         False  ...   \n",
       "10           0.267            12        20.30      3         False  ...   \n",
       "11             NaN             5        31.00      4         False  ...   \n",
       "12             NaN             5        30.00      5         False  ...   \n",
       "13           0.256             5        27.00      5         False  ...   \n",
       "14             NaN             6        17.00      1         False  ...   \n",
       "15             NaN            14        20.50      5         False  ...   \n",
       "16           0.305             5        55.60      1         False  ...   \n",
       "17             NaN            17        16.50      7         False  ...   \n",
       "18           0.250             5        19.40      2         False  ...   \n",
       "19           0.275            16        76.00      8         False  ...   \n",
       "\n",
       "    parks_nearest  ponds_around_3000  ponds_nearest  days_exposition  \\\n",
       "0             482                  2            755             <NA>   \n",
       "1            <NA>                  0           <NA>               81   \n",
       "2              90                  2            574              558   \n",
       "3              84                  3            234              424   \n",
       "4             112                  1             48              121   \n",
       "5            <NA>               <NA>           <NA>               55   \n",
       "6            <NA>                  0           <NA>              155   \n",
       "7            <NA>                  0           <NA>             <NA>   \n",
       "8            <NA>               <NA>           <NA>              189   \n",
       "9            <NA>                  0           <NA>              289   \n",
       "10            310                  2            553              137   \n",
       "11           <NA>                  0           <NA>                7   \n",
       "12           <NA>               <NA>           <NA>               90   \n",
       "13            294                  3            298              366   \n",
       "14           <NA>                  1             96              203   \n",
       "15            590                  1            296               19   \n",
       "16            420                  0           <NA>              397   \n",
       "17           <NA>                  1            859              571   \n",
       "18            759                  0           <NA>              168   \n",
       "19           <NA>                  0           <NA>               97   \n",
       "\n",
       "   meter_price  weekday      month  year  floor_type  distance_km  \n",
       "0     120370.0        3      March  2019      другой           16  \n",
       "1      82921.0        1   December  2018      первый           18  \n",
       "2      92786.0        3     August  2015      другой           13  \n",
       "3     408176.0        4       July  2015      другой            6  \n",
       "4     100000.0        1       June  2018      другой            8  \n",
       "5      95066.0        0  September  2018      другой         <NA>  \n",
       "6      99196.0        3   November  2017      другой           19  \n",
       "7     110545.0        3      April  2019      другой           11  \n",
       "8      87455.0        2        May  2018      другой         <NA>  \n",
       "9      88525.0        6   February  2017      другой           15  \n",
       "10    127525.0        3   November  2017      другой           13  \n",
       "11     75000.0        0     August  2018      другой           51  \n",
       "12     72037.0        3       June  2016   последний         <NA>  \n",
       "13     82944.0        5       July  2017   последний           33  \n",
       "14    122222.0        3       June  2016      первый           30  \n",
       "15    119231.0        5   November  2017      другой           14  \n",
       "16     81707.0        3   November  2017      первый           10  \n",
       "17    116111.0        4  September  2016      другой           14  \n",
       "18    104839.0        4    January  2017      другой           10  \n",
       "19    117355.0        2    January  2019      другой           12  \n",
       "\n",
       "[20 rows x 28 columns]"
      ]
     },
     "execution_count": 41,
     "metadata": {},
     "output_type": "execute_result"
    }
   ],
   "source": [
    "data.head(20)"
   ]
  },
  {
   "cell_type": "markdown",
   "metadata": {},
   "source": [
    "### Проведите исследовательский анализ данных"
   ]
  },
  {
   "cell_type": "code",
   "execution_count": 42,
   "metadata": {},
   "outputs": [
    {
     "data": {
      "text/plain": [
       "array([[<AxesSubplot:title={'center':'total_area'}>,\n",
       "        <AxesSubplot:title={'center':'living_area'}>,\n",
       "        <AxesSubplot:title={'center':'kitchen_area'}>],\n",
       "       [<AxesSubplot:title={'center':'last_price'}>,\n",
       "        <AxesSubplot:title={'center':'rooms'}>,\n",
       "        <AxesSubplot:title={'center':'ceiling_height'}>],\n",
       "       [<AxesSubplot:title={'center':'floor'}>,\n",
       "        <AxesSubplot:title={'center':'floors_total'}>,\n",
       "        <AxesSubplot:title={'center':'city_centers_nearest'}>],\n",
       "       [<AxesSubplot:title={'center':'airports_nearest'}>,\n",
       "        <AxesSubplot:title={'center':'parks_nearest'}>,\n",
       "        <AxesSubplot:title={'center':'weekday'}>]], dtype=object)"
      ]
     },
     "execution_count": 42,
     "metadata": {},
     "output_type": "execute_result"
    },
    {
     "data": {
      "image/png": "[encoded data removed]",
      "text/plain": [
       "<Figure size 1440x1440 with 12 Axes>"
      ]
     },
     "metadata": {
      "needs_background": "light"
     },
     "output_type": "display_data"
    }
   ],
   "source": [
    "data.hist(column=['total_area', 'living_area', 'kitchen_area', 'last_price', 'rooms', 'ceiling_height', 'floor', 'floor_type', \\\n",
    "                  'floors_total', 'city_centers_nearest', 'airports_nearest', 'parks_nearest', 'weekday'], figsize=(20, 20), bins=25)"
   ]
  },
  {
   "cell_type": "code",
   "execution_count": 43,
   "metadata": {},
   "outputs": [
    {
     "data": {
      "text/plain": [
       "<AxesSubplot:xlabel='month'>"
      ]
     },
     "execution_count": 43,
     "metadata": {},
     "output_type": "execute_result"
    },
    {
     "data": {
      "image/png": "[encoded data removed]",
      "text/plain": [
       "<Figure size 432x288 with 1 Axes>"
      ]
     },
     "metadata": {
      "needs_background": "light"
     },
     "output_type": "display_data"
    }
   ],
   "source": [
    "data.pivot_table(index='month', values='last_price', aggfunc='mean').plot.bar()"
   ]
  },
  {
   "cell_type": "code",
   "execution_count": 44,
   "metadata": {},
   "outputs": [
    {
     "data": {
      "text/plain": [
       "<AxesSubplot:xlabel='floor_type'>"
      ]
     },
     "execution_count": 44,
     "metadata": {},
     "output_type": "execute_result"
    },
    {
     "data": {
      "image/png": "[encoded data removed]",
      "text/plain": [
       "<Figure size 432x288 with 1 Axes>"
      ]
     },
     "metadata": {
      "needs_background": "light"
     },
     "output_type": "display_data"
    }
   ],
   "source": [
    "data.pivot_table(index='floor_type', values='last_price', aggfunc='mean').plot.bar()"
   ]
  },
  {
   "cell_type": "markdown",
   "metadata": {},
   "source": [
    "По гистограммам столбцов мы наблюдаем, что подавляющее большинство недвижимости обладает жилой площадью в районе 50 кв.м. и суммарной площадью в 100-400 кв.м. Скорее всего - это частные дома/коттеджи. \\\n",
    "Площадь кухни в большинстве случаев в районе 20 кв.м. \\\n",
    "Медианное значение цены составляет 4,7 млн руб. Стоит упомянуть, что цена имеет значительный разброс, скорректированное стандартное отклонение выборки равняется 9. \\\n",
    "Медианная стоимость жильня не сильно зависит от месяца подачи объявления. (от 6,2 до 6,8) млн.\\\n",
    "Кол-во комнат в подавляющим большинстве случаев -1,2,3 комнаты. Реже встречаются варианты с 4,5 комнатами. Большее кол-во комнат является достаточно редким явлением. \\\n",
    "Стандартная высота потолкоа - 2,7 м. Высота потолков различается в зависимости от времени постройки здания. Недвижимость в историческом центре имеет высоту потолков выше, чем новостройках. \\\n",
    "Подавляющее большинство недвижимости находится на 1 этаже и плавно уменьшается согласно распределению Пуассона по мере повышения этажа. \\\n",
    "Стоимость жилья меньше всего на 1-м этаже с медианой в 4,7 млн, за ним идет последний этаж, медиана 6,8. Дороже всего недвижимость на остальных этажах ( не 1-й и не последний) с медианным значением более 7 млн. \\\n",
    "Таже по гистограммам заметны типовые в плане этажности объекты - это знакомые нам 5, 9, 12, 16 и 26 этажные многоквартирные строения. Чаще всего встречаются 5 и 9 этажные. \\\n",
    "Типичная удаленность от центра составляет 10 - 18 км. Так же замечаем пик в рацоне 50 км, это не случайное значение, вероятнее всего это загородные поселки. \\\n",
    "Удаленность от аэропорта в большинстве случаев 10 - 55 км. \\\n",
    "А вот парки распологаются куда ближе, до 1 км в большинстве случаев. \\\n",
    "Касаемо дня публикации объявлений все просто - в среднем по будням рынок недвижимости в 2 раза активнее, чем в выходные дни."
   ]
  },
  {
   "cell_type": "code",
   "execution_count": 45,
   "metadata": {},
   "outputs": [
    {
     "data": {
      "text/plain": [
       "<AxesSubplot:>"
      ]
     },
     "execution_count": 45,
     "metadata": {},
     "output_type": "execute_result"
    },
    {
     "data": {
      "image/png": "[encoded data removed]",
      "text/plain": [
       "<Figure size 360x360 with 1 Axes>"
      ]
     },
     "metadata": {
      "needs_background": "light"
     },
     "output_type": "display_data"
    }
   ],
   "source": [
    "data['days_exposition'].hist(bins=20, figsize=(5,5))"
   ]
  },
  {
   "cell_type": "code",
   "execution_count": 46,
   "metadata": {},
   "outputs": [
    {
     "data": {
      "text/plain": [
       "count    20406.000000\n",
       "mean       180.844458\n",
       "std        219.584610\n",
       "min          1.000000\n",
       "25%         45.000000\n",
       "50%         95.000000\n",
       "75%        232.000000\n",
       "max       1580.000000\n",
       "Name: days_exposition, dtype: float64"
      ]
     },
     "execution_count": 46,
     "metadata": {},
     "output_type": "execute_result"
    }
   ],
   "source": [
    "data['days_exposition'].describe()"
   ]
  },
  {
   "cell_type": "markdown",
   "metadata": {},
   "source": [
    "Время продажи квартир соответствуют распределению Пуассона и варьируются от 0 до 1580 дней. \\\n",
    "Медианное время продажи объекта 102, среднее 185 дней. Большинство объектов (75%) продалось за 239 дней. \\\n",
    "Быстрыми можно считать продажи менее, чем за 45 дней, средними от45 до 239, необычно долгими продажи занявшие от 239 и более дней"
   ]
  },
  {
   "cell_type": "markdown",
   "metadata": {},
   "source": [
    "Рассчитаем факторы, в наибольшей степени влияющие на общую стоимость объекта."
   ]
  },
  {
   "cell_type": "code",
   "execution_count": 47,
   "metadata": {},
   "outputs": [
    {
     "data": {
      "text/plain": [
       "<AxesSubplot:xlabel='total_area', ylabel='last_price'>"
      ]
     },
     "execution_count": 47,
     "metadata": {},
     "output_type": "execute_result"
    },
    {
     "data": {
      "image/png": "[encoded data removed]",
      "text/plain": [
       "<Figure size 432x288 with 1 Axes>"
      ]
     },
     "metadata": {
      "needs_background": "light"
     },
     "output_type": "display_data"
    }
   ],
   "source": [
    "data.plot(x='total_area', y='last_price', kind='scatter') "
   ]
  },
  {
   "cell_type": "code",
   "execution_count": 48,
   "metadata": {},
   "outputs": [
    {
     "data": {
      "text/plain": [
       "<AxesSubplot:xlabel='living_area', ylabel='last_price'>"
      ]
     },
     "execution_count": 48,
     "metadata": {},
     "output_type": "execute_result"
    },
    {
     "data": {
      "image/png": "[encoded data removed]",
      "text/plain": [
       "<Figure size 432x288 with 1 Axes>"
      ]
     },
     "metadata": {
      "needs_background": "light"
     },
     "output_type": "display_data"
    }
   ],
   "source": [
    "data.plot(x='living_area', y='last_price', kind='scatter')"
   ]
  },
  {
   "cell_type": "code",
   "execution_count": 49,
   "metadata": {},
   "outputs": [
    {
     "data": {
      "text/plain": [
       "<AxesSubplot:xlabel='kitchen_area', ylabel='last_price'>"
      ]
     },
     "execution_count": 49,
     "metadata": {},
     "output_type": "execute_result"
    },
    {
     "data": {
      "image/png": "[encoded data removed]",
      "text/plain": [
       "<Figure size 432x288 with 1 Axes>"
      ]
     },
     "metadata": {
      "needs_background": "light"
     },
     "output_type": "display_data"
    }
   ],
   "source": [
    "data.plot(x='kitchen_area', y='last_price', kind='scatter')"
   ]
  },
  {
   "cell_type": "markdown",
   "metadata": {},
   "source": [
    "Как и ожидалось, стоимость объекта растет при увеличении его общей площади, жилой площади и площади кухни, однако, увеличивающиеся рассеивание на диаграмме говорит о том, что имеются и другие факторы, оказывающее серьезное влияние на общую стоимость объекта, помимо площади."
   ]
  },
  {
   "cell_type": "code",
   "execution_count": 50,
   "metadata": {},
   "outputs": [
    {
     "data": {
      "text/plain": [
       "<AxesSubplot:xlabel='rooms'>"
      ]
     },
     "execution_count": 50,
     "metadata": {},
     "output_type": "execute_result"
    },
    {
     "data": {
      "image/png": "[encoded data removed]",
      "text/plain": [
       "<Figure size 432x288 with 1 Axes>"
      ]
     },
     "metadata": {
      "needs_background": "light"
     },
     "output_type": "display_data"
    }
   ],
   "source": [
    "pd.pivot_table(data,index='rooms', values='last_price', aggfunc='median').plot()"
   ]
  },
  {
   "cell_type": "markdown",
   "metadata": {},
   "source": [
    "Касаемо кол-ва комнат, можно сделать логичный вывод о том, что по мере увеличения комнат, растет и стоимость объекта."
   ]
  },
  {
   "cell_type": "code",
   "execution_count": 51,
   "metadata": {},
   "outputs": [
    {
     "data": {
      "text/plain": [
       "<AxesSubplot:xlabel='floor_type'>"
      ]
     },
     "execution_count": 51,
     "metadata": {},
     "output_type": "execute_result"
    },
    {
     "data": {
      "image/png": "[encoded data removed]",
      "text/plain": [
       "<Figure size 432x288 with 1 Axes>"
      ]
     },
     "metadata": {
      "needs_background": "light"
     },
     "output_type": "display_data"
    }
   ],
   "source": [
    "pd.pivot_table(data,index='floor_type', values='last_price', aggfunc='median').plot(kind='bar')"
   ]
  },
  {
   "cell_type": "markdown",
   "metadata": {},
   "source": [
    "Дешевле всего обходятся объекты на первом этаже. Медианное значение такого жилья ~ 4 млн. \\\n",
    "За ним следют объекты на последних этажах с медианой в ~4,6 млн. \\\n",
    "Дороже всего обходятся квартиры на этажах между первым и последним с медианой ~4,9"
   ]
  },
  {
   "cell_type": "code",
   "execution_count": 52,
   "metadata": {},
   "outputs": [
    {
     "data": {
      "text/plain": [
       "<AxesSubplot:xlabel='weekday'>"
      ]
     },
     "execution_count": 52,
     "metadata": {},
     "output_type": "execute_result"
    },
    {
     "data": {
      "image/png": "[encoded data removed]",
      "text/plain": [
       "<Figure size 432x288 with 1 Axes>"
      ]
     },
     "metadata": {
      "needs_background": "light"
     },
     "output_type": "display_data"
    }
   ],
   "source": [
    "pd.pivot_table(data,index='weekday', values='last_price', aggfunc='median').plot()"
   ]
  },
  {
   "cell_type": "markdown",
   "metadata": {},
   "source": [
    "Наибольшая стоимость приходится на середину недели, наименьшая на выходные."
   ]
  },
  {
   "cell_type": "code",
   "execution_count": 53,
   "metadata": {},
   "outputs": [
    {
     "data": {
      "text/plain": [
       "<AxesSubplot:xlabel='month'>"
      ]
     },
     "execution_count": 53,
     "metadata": {},
     "output_type": "execute_result"
    },
    {
     "data": {
      "image/png": "[encoded data removed]",
      "text/plain": [
       "<Figure size 432x288 with 1 Axes>"
      ]
     },
     "metadata": {
      "needs_background": "light"
     },
     "output_type": "display_data"
    }
   ],
   "source": [
    "pd.pivot_table(data,index='month', values='last_price', aggfunc='median').plot()"
   ]
  },
  {
   "cell_type": "markdown",
   "metadata": {},
   "source": [
    "В декабре недвижимость стоит наибольшего кол-ва средств в районе 4,85. Дешевле всего в июне, около 4,5 млн."
   ]
  },
  {
   "cell_type": "code",
   "execution_count": 54,
   "metadata": {},
   "outputs": [
    {
     "data": {
      "text/plain": [
       "<AxesSubplot:xlabel='year'>"
      ]
     },
     "execution_count": 54,
     "metadata": {},
     "output_type": "execute_result"
    },
    {
     "data": {
      "image/png": "[encoded data removed]",
      "text/plain": [
       "<Figure size 432x288 with 1 Axes>"
      ]
     },
     "metadata": {
      "needs_background": "light"
     },
     "output_type": "display_data"
    }
   ],
   "source": [
    "pd.pivot_table(data,index='year', values='last_price', aggfunc='median').plot()"
   ]
  },
  {
   "cell_type": "markdown",
   "metadata": {},
   "source": [
    "Наблюдаем значительное (почти в 2 раза) снижение цен в 2016, 2017 годах. Возможно произошел спад рынка недвижимости. В 2018 происходит коррекция и дальнейшее движение цен вверх."
   ]
  },
  {
   "cell_type": "code",
   "execution_count": 55,
   "metadata": {},
   "outputs": [
    {
     "data": {
      "text/plain": [
       "<AxesSubplot:xlabel='balcony'>"
      ]
     },
     "execution_count": 55,
     "metadata": {},
     "output_type": "execute_result"
    },
    {
     "data": {
      "image/png": "[encoded data removed]",
      "text/plain": [
       "<Figure size 432x288 with 1 Axes>"
      ]
     },
     "metadata": {
      "needs_background": "light"
     },
     "output_type": "display_data"
    }
   ],
   "source": [
    "pd.pivot_table(data,index='balcony', values='last_price', aggfunc='median').plot()"
   ]
  },
  {
   "cell_type": "markdown",
   "metadata": {},
   "source": [
    "Наличие балконов значительно увеличивает итоговую стоимость. Особенно, когда кол-во балконов от 2-х до 4-х"
   ]
  },
  {
   "cell_type": "markdown",
   "metadata": {},
   "source": [
    "Посчитаем среднюю цену одного квадратного метра в 10 населённых пунктах с наибольшим числом объявлений."
   ]
  },
  {
   "cell_type": "code",
   "execution_count": 56,
   "metadata": {},
   "outputs": [
    {
     "data": {
      "text/html": [
       "<div>\n",
       "<style scoped>\n",
       "    .dataframe tbody tr th:only-of-type {\n",
       "        vertical-align: middle;\n",
       "    }\n",
       "\n",
       "    .dataframe tbody tr th {\n",
       "        vertical-align: top;\n",
       "    }\n",
       "\n",
       "    .dataframe thead th {\n",
       "        text-align: right;\n",
       "    }\n",
       "</style>\n",
       "<table border=\"1\" class=\"dataframe\">\n",
       "  <thead>\n",
       "    <tr style=\"text-align: right;\">\n",
       "      <th></th>\n",
       "      <th>meter_price</th>\n",
       "    </tr>\n",
       "    <tr>\n",
       "      <th>locality_name</th>\n",
       "      <th></th>\n",
       "    </tr>\n",
       "  </thead>\n",
       "  <tbody>\n",
       "    <tr>\n",
       "      <th>санкт-петербург</th>\n",
       "      <td>114857.308091</td>\n",
       "    </tr>\n",
       "    <tr>\n",
       "      <th>пушкин</th>\n",
       "      <td>103125.818428</td>\n",
       "    </tr>\n",
       "    <tr>\n",
       "      <th>деревня кудрово</th>\n",
       "      <td>92473.588629</td>\n",
       "    </tr>\n",
       "    <tr>\n",
       "      <th>поселок парголово</th>\n",
       "      <td>90161.374233</td>\n",
       "    </tr>\n",
       "    <tr>\n",
       "      <th>поселок мурино</th>\n",
       "      <td>85629.567029</td>\n",
       "    </tr>\n",
       "    <tr>\n",
       "      <th>поселок шушары</th>\n",
       "      <td>78551.359909</td>\n",
       "    </tr>\n",
       "    <tr>\n",
       "      <th>колпино</th>\n",
       "      <td>75424.571006</td>\n",
       "    </tr>\n",
       "    <tr>\n",
       "      <th>гатчина</th>\n",
       "      <td>68746.110749</td>\n",
       "    </tr>\n",
       "    <tr>\n",
       "      <th>всеволожск</th>\n",
       "      <td>68654.474874</td>\n",
       "    </tr>\n",
       "    <tr>\n",
       "      <th>выборг</th>\n",
       "      <td>58141.919831</td>\n",
       "    </tr>\n",
       "  </tbody>\n",
       "</table>\n",
       "</div>"
      ],
      "text/plain": [
       "                     meter_price\n",
       "locality_name                   \n",
       "санкт-петербург    114857.308091\n",
       "пушкин             103125.818428\n",
       "деревня кудрово     92473.588629\n",
       "поселок парголово   90161.374233\n",
       "поселок мурино      85629.567029\n",
       "поселок шушары      78551.359909\n",
       "колпино             75424.571006\n",
       "гатчина             68746.110749\n",
       "всеволожск          68654.474874\n",
       "выборг              58141.919831"
      ]
     },
     "execution_count": 56,
     "metadata": {},
     "output_type": "execute_result"
    }
   ],
   "source": [
    "top_ten = data['locality_name'].value_counts(ascending = False)\n",
    "top_ten =  top_ten.head(10).index.to_list()\n",
    "filtred_local_name = data[data['locality_name'].isin(top_ten)]\n",
    "top_ten_city_price= filtred_local_name.pivot_table(index = 'locality_name', values = 'meter_price')\n",
    "top_ten_city_price.sort_values(by='meter_price', ascending = False)"
   ]
  },
  {
   "cell_type": "markdown",
   "metadata": {},
   "source": [
    "Среди 10 населенных пунктов с самой высокой средней ценой за кв. м. как и ожидалось, лидирует Санкт-Петербург - 114857 руб. \\\n",
    "Замыкает топ-10 Выборг со средней ценой в 58141 руб за кв. м. "
   ]
  },
  {
   "cell_type": "markdown",
   "metadata": {},
   "source": [
    "Рассчитаем изменение цены каждого километра по мере удаления от центра города для Сенкт-Петербурга"
   ]
  },
  {
   "cell_type": "code",
   "execution_count": 57,
   "metadata": {},
   "outputs": [
    {
     "data": {
      "text/plain": [
       "<AxesSubplot:xlabel='distance_km'>"
      ]
     },
     "execution_count": 57,
     "metadata": {},
     "output_type": "execute_result"
    },
    {
     "data": {
      "image/png": "[encoded data removed]",
      "text/plain": [
       "<Figure size 432x288 with 1 Axes>"
      ]
     },
     "metadata": {
      "needs_background": "light"
     },
     "output_type": "display_data"
    }
   ],
   "source": [
    "km_price = data[data['locality_name'] == 'санкт-петербург'] \\\n",
    ".pivot_table(index='distance_km', values=['last_price'], aggfunc=['mean'])\n",
    "km_price.plot()"
   ]
  },
  {
   "cell_type": "markdown",
   "metadata": {},
   "source": [
    "Стоимость одного километра, ожидаемо, снижается по мере удаления от центра города. При этом скорость (крутизна) снижения больше в пределах 10 км от центра, при расстоянии свыше 10 км снижение происходит заметно \"плавнее\". \\\n",
    "Резкое увеличение стоимости в районе 26 - 28 км, возможно, говорит о наличии какого-то элитного загородного поселка с высокой стоимостью жилья."
   ]
  },
  {
   "cell_type": "markdown",
   "metadata": {},
   "source": [
    "### Общий вывод"
   ]
  },
  {
   "cell_type": "markdown",
   "metadata": {},
   "source": [
    "В ходе исследования, выяснилось, что наибольшее значение на общую стоимость объекта недвижимости оказывают:\n",
    "- Кол-во комнат. Больше комнат - выше стоимость.\n",
    "- Удаление от центра. Чем дальше находится объект от центра города, тем ниже стоимость. Значительнее всего цена падает в пределах 10 км., далее 10 км снижение цены менее существенное. \n",
    "- Значительное влияние оказывал год публикации объявления. В 2016 и 2017 произошло существенное (почти в 2 раза) снижение стоимости жилья. В последующем произошла коррекция цены вверх. \n",
    "- Общая площадь объекта, ожидаемо, оказывает большое влияние на его конечную стоимость. Но учитываю разброс значений, общая площадь играет большую роль в купе с др факторами .\n",
    "- Важным фактором является локация объекта. В небольших, отдаленных от Санкт-Петербурга населенных пункат жилье дешевле, чем в историческом центре города.\n",
    "- Наличие балконов значительно увеличивает итоговую стоимость. Особенно, когда кол-во балконов от 2-х до 4-х. При других значениях влияние не такое сильное. \\\n",
    "- Стоимость жилья меньше всего на 1-м этаже с медианой в 4,7 млн, за ним идет последний этаж, медиана 6,8. Дороже всего недвижимость на остальных этажах ( не 1-й и не последний) с медианным значением более 7 млн.\n",
    "- Стоимость жилья меньше всего на 1-м этаже с медианой в 4,7 млн, за ним идет последний этаж, медиана 6,8. Дороже всего недвижимость на остальных этажах ( не 1-й и не последний) с медианным значением более 7 млн.\\\n",
    "\\\n",
    "Менее значимыми факторами, влияющими на общую стоимость являются:\n",
    "- Медианная стоимость жильня не сильно зависит от месяца подачи объявления. (от 6,2 до 6,8) млн. При отсутствии честкой взаимосвязи между месяцем публикации и итоговой ценой.\\\n",
    "- Тип этажа объекта. Первый этаж дешевле всего, за ним следует последний этаж. Дороже всего обходится недвижимость на этажах между ними (любой другой этаж)\n",
    "- Медианная стоимость жильня не сильно зависит от месяца подачи объявления. (от 6,2 до 6,8) млн. При этом отсутвует какая-либо закономерность медианы стоимости от месяца публикации объявления.\\\n",
    "- Площадь кухни и жилая площадь по отдельности оказывали не самое значительное влияние на цену обекта.\n",
    "- День и месяц публикации обявления оказывали незначительное влияние на конечную стоимость. Разница с аналогичными обектами других дней/ месяцев публикации меньше 10%.\\\n",
    "Стоит отдельно упомянуть, что среди 10 населенных пунктов с самой высокой средней ценой за кв. м. как и ожидалось, лидирует Санкт-Петербург - 114857 руб.\n",
    "Замыкает топ-10 Выборг со средней ценой в 58141 руб за кв. м."
   ]
  },
  {
   "cell_type": "markdown",
   "metadata": {},
   "source": [
    "**Чек-лист готовности проекта**\n",
    "\n",
    "Поставьте 'x' в выполненных пунктах. Далее нажмите Shift+Enter."
   ]
  },
  {
   "cell_type": "markdown",
   "metadata": {},
   "source": [
    "- [x]  открыт файл\n",
    "- [x]  файлы изучены (выведены первые строки, метод `info()`, гистограммы и т.д.)\n",
    "- [x]  определены пропущенные значения\n",
    "- [x]  заполнены пропущенные значения там, где это возможно\n",
    "- [x]  есть пояснение, какие пропущенные значения обнаружены\n",
    "- [x]  изменены типы данных\n",
    "- [x]  есть пояснение, в каких столбцах изменены типы и почему\n",
    "- [x]  устранены неявные дубликаты в названиях населённых пунктов\n",
    "- [x]  устранены редкие и выбивающиеся значения (аномалии) во всех столбцах\n",
    "- [x]  посчитано и добавлено в таблицу: цена одного квадратного метра\n",
    "- [x]  посчитано и добавлено в таблицу: день публикации объявления (0 - понедельник, 1 - вторник и т.д.)\n",
    "- [x]  посчитано и добавлено в таблицу: месяц публикации объявления\n",
    "- [x]  посчитано и добавлено в таблицу: год публикации объявления\n",
    "- [x]  посчитано и добавлено в таблицу: тип этажа квартиры (значения — «первый», «последний», «другой»)\n",
    "- [x]  посчитано и добавлено в таблицу: расстояние в км до центра города\n",
    "- [x]  изучены и описаны следующие параметры:\n",
    "        - общая площадь;\n",
    "        - жилая площадь;\n",
    "        - площадь кухни;\n",
    "        - цена объекта;\n",
    "        - количество комнат;\n",
    "        - высота потолков;\n",
    "        - этаж квартиры;\n",
    "        - тип этажа квартиры («первый», «последний», «другой»);\n",
    "        - общее количество этажей в доме;\n",
    "        - расстояние до центра города в метрах;\n",
    "        - расстояние до ближайшего аэропорта;\n",
    "        - расстояние до ближайшего парка;\n",
    "        - день и месяц публикации объявления\n",
    "- [x]  построены гистограммы для каждого параметра\n",
    "- [x]  выполнено задание: \"Изучите, как быстро продавались квартиры (столбец days_exposition). Этот параметр показывает, сколько дней «висело» каждое объявление.\n",
    "    - Постройте гистограмму.\n",
    "    - Посчитайте среднее и медиану.\n",
    "    - В ячейке типа markdown опишите, сколько обычно занимает продажа. Какие продажи можно считать быстрыми, а какие — необычно долгими?\"\n",
    "- [x]  выполнено задание: \"Какие факторы больше всего влияют на общую (полную) стоимость объекта? Постройте графики, которые покажут зависимость цены от указанных ниже параметров. Для подготовки данных перед визуализацией вы можете использовать сводные таблицы.\"\n",
    "        - общей площади;\n",
    "        - жилой площади;\n",
    "        - площади кухни;\n",
    "        - количество комнат;\n",
    "        - типа этажа, на котором расположена квартира (первый, последний, другой);\n",
    "        - даты размещения (день недели, месяц, год);\n",
    "- [x]  выполнено задание: \"Посчитайте среднюю цену одного квадратного метра в 10 населённых пунктах с наибольшим числом объявлений. Выделите населённые пункты с самой высокой и низкой стоимостью квадратного метра. Эти данные можно найти по имени в столбце `locality_name`.\"\n",
    "- [x]  выполнено задание: \"Ранее вы посчитали расстояние до центра в километрах. Теперь выделите квартиры в Санкт-Петербурге с помощью столбца `locality_name` и вычислите среднюю цену каждого километра. Опишите, как стоимость объектов зависит от расстояния до центра города.\"\n",
    "- [x]  в каждом этапе есть промежуточные выводы\n",
    "- [x]  есть общий вывод"
   ]
  }
 ],
 "metadata": {
  "ExecuteTimeLog": [
   {
    "duration": 804,
    "start_time": "2023-02-16T16:07:18.502Z"
   },
   {
    "duration": 363,
    "start_time": "2023-02-16T16:07:19.308Z"
   },
   {
    "duration": 98,
    "start_time": "2023-02-16T16:09:46.861Z"
   },
   {
    "duration": 2,
    "start_time": "2023-02-16T16:10:05.712Z"
   },
   {
    "duration": 3,
    "start_time": "2023-02-16T16:11:02.530Z"
   },
   {
    "duration": 96,
    "start_time": "2023-02-16T16:11:03.573Z"
   },
   {
    "duration": 121,
    "start_time": "2023-02-16T16:12:19.654Z"
   },
   {
    "duration": 6,
    "start_time": "2023-02-16T16:12:35.379Z"
   },
   {
    "duration": 98,
    "start_time": "2023-02-16T16:12:36.565Z"
   },
   {
    "duration": 13,
    "start_time": "2023-02-16T16:14:04.378Z"
   },
   {
    "duration": 127,
    "start_time": "2023-02-16T16:14:44.435Z"
   },
   {
    "duration": 135,
    "start_time": "2023-02-16T16:15:22.282Z"
   },
   {
    "duration": 13,
    "start_time": "2023-02-16T16:15:24.646Z"
   },
   {
    "duration": 114,
    "start_time": "2023-02-16T16:15:37.433Z"
   },
   {
    "duration": 7,
    "start_time": "2023-02-16T16:15:38.534Z"
   },
   {
    "duration": 3,
    "start_time": "2023-02-16T16:17:02.393Z"
   },
   {
    "duration": 110,
    "start_time": "2023-02-16T16:17:03.531Z"
   },
   {
    "duration": 9,
    "start_time": "2023-02-16T16:17:05.610Z"
   },
   {
    "duration": 3,
    "start_time": "2023-02-16T16:17:28.886Z"
   },
   {
    "duration": 168,
    "start_time": "2023-02-16T16:17:29.966Z"
   },
   {
    "duration": 108,
    "start_time": "2023-02-16T16:17:39.096Z"
   },
   {
    "duration": 8,
    "start_time": "2023-02-16T16:17:40.877Z"
   },
   {
    "duration": 3,
    "start_time": "2023-02-16T16:18:22.904Z"
   },
   {
    "duration": 104,
    "start_time": "2023-02-16T16:18:24.085Z"
   },
   {
    "duration": 8,
    "start_time": "2023-02-16T16:18:26.482Z"
   },
   {
    "duration": 106,
    "start_time": "2023-02-16T16:23:46.049Z"
   },
   {
    "duration": 16,
    "start_time": "2023-02-16T16:23:47.161Z"
   },
   {
    "duration": 3,
    "start_time": "2023-02-16T16:31:03.718Z"
   },
   {
    "duration": 127,
    "start_time": "2023-02-16T16:31:04.737Z"
   },
   {
    "duration": 7,
    "start_time": "2023-02-16T16:31:06.097Z"
   },
   {
    "duration": 53,
    "start_time": "2023-02-16T16:33:47.076Z"
   },
   {
    "duration": 3,
    "start_time": "2023-02-16T16:55:31.733Z"
   },
   {
    "duration": 120,
    "start_time": "2023-02-16T16:55:32.875Z"
   },
   {
    "duration": 51,
    "start_time": "2023-02-16T16:55:34.324Z"
   },
   {
    "duration": 17,
    "start_time": "2023-02-16T16:59:01.308Z"
   },
   {
    "duration": 82,
    "start_time": "2023-02-16T16:59:12.801Z"
   },
   {
    "duration": 3,
    "start_time": "2023-02-16T17:00:26.713Z"
   },
   {
    "duration": 102,
    "start_time": "2023-02-16T17:00:27.372Z"
   },
   {
    "duration": 40,
    "start_time": "2023-02-16T17:00:28.187Z"
   },
   {
    "duration": 29,
    "start_time": "2023-02-16T17:00:29.064Z"
   },
   {
    "duration": 83,
    "start_time": "2023-02-16T17:04:50.986Z"
   },
   {
    "duration": 9,
    "start_time": "2023-02-16T17:06:37.784Z"
   },
   {
    "duration": 75,
    "start_time": "2023-02-16T17:22:50.949Z"
   },
   {
    "duration": 7,
    "start_time": "2023-02-16T17:23:01.313Z"
   },
   {
    "duration": 149,
    "start_time": "2023-02-16T17:23:07.247Z"
   },
   {
    "duration": 10,
    "start_time": "2023-02-16T17:27:39.388Z"
   },
   {
    "duration": 11,
    "start_time": "2023-02-16T17:31:14.974Z"
   },
   {
    "duration": 693,
    "start_time": "2023-02-16T17:34:25.264Z"
   },
   {
    "duration": 101,
    "start_time": "2023-02-16T17:34:25.959Z"
   },
   {
    "duration": 42,
    "start_time": "2023-02-16T17:34:26.066Z"
   },
   {
    "duration": 15,
    "start_time": "2023-02-16T17:34:26.109Z"
   },
   {
    "duration": 92,
    "start_time": "2023-02-16T17:34:26.126Z"
   },
   {
    "duration": 8,
    "start_time": "2023-02-16T17:34:26.220Z"
   },
   {
    "duration": 1323,
    "start_time": "2023-02-16T17:36:14.994Z"
   },
   {
    "duration": 3151,
    "start_time": "2023-02-16T17:42:11.059Z"
   },
   {
    "duration": 3288,
    "start_time": "2023-02-16T17:42:36.455Z"
   },
   {
    "duration": 6824,
    "start_time": "2023-02-16T17:43:05.039Z"
   },
   {
    "duration": 1640,
    "start_time": "2023-02-16T17:44:09.887Z"
   },
   {
    "duration": 7284,
    "start_time": "2023-02-16T17:44:32.068Z"
   },
   {
    "duration": 73,
    "start_time": "2023-02-16T17:48:03.867Z"
   },
   {
    "duration": 1344,
    "start_time": "2023-02-16T17:48:15.371Z"
   },
   {
    "duration": 1227,
    "start_time": "2023-02-16T17:48:35.439Z"
   },
   {
    "duration": 18,
    "start_time": "2023-02-16T17:48:51.850Z"
   },
   {
    "duration": 1133,
    "start_time": "2023-02-16T17:48:58.185Z"
   },
   {
    "duration": 18468,
    "start_time": "2023-02-16T17:50:27.400Z"
   },
   {
    "duration": 10691,
    "start_time": "2023-02-16T17:51:06.040Z"
   },
   {
    "duration": 2227,
    "start_time": "2023-02-16T17:52:03.991Z"
   },
   {
    "duration": 660,
    "start_time": "2023-02-16T17:52:21.234Z"
   },
   {
    "duration": 105,
    "start_time": "2023-02-16T17:52:21.896Z"
   },
   {
    "duration": 62,
    "start_time": "2023-02-16T17:52:22.003Z"
   },
   {
    "duration": 23,
    "start_time": "2023-02-16T17:52:22.066Z"
   },
   {
    "duration": 97,
    "start_time": "2023-02-16T17:52:22.092Z"
   },
   {
    "duration": 2176,
    "start_time": "2023-02-16T17:52:22.191Z"
   },
   {
    "duration": 10,
    "start_time": "2023-02-16T17:52:24.369Z"
   },
   {
    "duration": 67,
    "start_time": "2023-02-16T18:01:20.371Z"
   },
   {
    "duration": 1988,
    "start_time": "2023-02-16T18:02:21.702Z"
   },
   {
    "duration": 617,
    "start_time": "2023-02-16T18:02:42.036Z"
   },
   {
    "duration": 89,
    "start_time": "2023-02-16T18:02:42.655Z"
   },
   {
    "duration": 38,
    "start_time": "2023-02-16T18:02:42.746Z"
   },
   {
    "duration": 12,
    "start_time": "2023-02-16T18:02:42.786Z"
   },
   {
    "duration": 100,
    "start_time": "2023-02-16T18:02:42.799Z"
   },
   {
    "duration": 1999,
    "start_time": "2023-02-16T18:02:42.900Z"
   },
   {
    "duration": 10,
    "start_time": "2023-02-16T18:02:44.900Z"
   },
   {
    "duration": 66,
    "start_time": "2023-02-16T18:12:36.618Z"
   },
   {
    "duration": 9,
    "start_time": "2023-02-16T18:13:34.167Z"
   },
   {
    "duration": 4,
    "start_time": "2023-02-16T18:17:18.540Z"
   },
   {
    "duration": 4,
    "start_time": "2023-02-16T18:18:14.206Z"
   },
   {
    "duration": 4,
    "start_time": "2023-02-16T18:18:17.940Z"
   },
   {
    "duration": 7,
    "start_time": "2023-02-16T18:36:01.368Z"
   },
   {
    "duration": 5,
    "start_time": "2023-02-16T18:36:14.939Z"
   },
   {
    "duration": 12,
    "start_time": "2023-02-16T19:18:53.041Z"
   },
   {
    "duration": 5,
    "start_time": "2023-02-16T19:36:57.411Z"
   },
   {
    "duration": 12,
    "start_time": "2023-02-16T19:37:13.671Z"
   },
   {
    "duration": 86,
    "start_time": "2023-02-16T19:37:38.713Z"
   },
   {
    "duration": 642,
    "start_time": "2023-02-16T19:38:18.077Z"
   },
   {
    "duration": 103,
    "start_time": "2023-02-16T19:38:18.721Z"
   },
   {
    "duration": 52,
    "start_time": "2023-02-16T19:38:18.826Z"
   },
   {
    "duration": 15,
    "start_time": "2023-02-16T19:38:18.880Z"
   },
   {
    "duration": 86,
    "start_time": "2023-02-16T19:38:18.897Z"
   },
   {
    "duration": 2276,
    "start_time": "2023-02-16T19:38:18.984Z"
   },
   {
    "duration": 5,
    "start_time": "2023-02-16T19:38:21.262Z"
   },
   {
    "duration": 9,
    "start_time": "2023-02-16T19:38:21.269Z"
   },
   {
    "duration": 6,
    "start_time": "2023-02-16T19:38:21.280Z"
   },
   {
    "duration": 12,
    "start_time": "2023-02-16T19:38:21.288Z"
   },
   {
    "duration": 13,
    "start_time": "2023-02-16T19:38:21.301Z"
   },
   {
    "duration": 12,
    "start_time": "2023-02-16T19:52:45.022Z"
   },
   {
    "duration": 633,
    "start_time": "2023-02-16T20:43:27.927Z"
   },
   {
    "duration": 99,
    "start_time": "2023-02-16T20:43:28.564Z"
   },
   {
    "duration": 39,
    "start_time": "2023-02-16T20:43:28.665Z"
   },
   {
    "duration": 19,
    "start_time": "2023-02-16T20:43:28.706Z"
   },
   {
    "duration": 93,
    "start_time": "2023-02-16T20:43:28.727Z"
   },
   {
    "duration": 2101,
    "start_time": "2023-02-16T20:43:28.822Z"
   },
   {
    "duration": 5,
    "start_time": "2023-02-16T20:43:30.924Z"
   },
   {
    "duration": 30,
    "start_time": "2023-02-16T20:43:30.930Z"
   },
   {
    "duration": 27,
    "start_time": "2023-02-16T20:43:30.963Z"
   },
   {
    "duration": 21,
    "start_time": "2023-02-16T20:43:30.992Z"
   },
   {
    "duration": 21,
    "start_time": "2023-02-16T20:43:31.015Z"
   },
   {
    "duration": 25,
    "start_time": "2023-02-16T20:43:31.038Z"
   },
   {
    "duration": 13,
    "start_time": "2023-02-16T20:43:31.066Z"
   },
   {
    "duration": 3,
    "start_time": "2023-02-16T20:45:21.596Z"
   },
   {
    "duration": 645,
    "start_time": "2023-02-16T21:01:57.333Z"
   },
   {
    "duration": 87,
    "start_time": "2023-02-16T21:01:57.980Z"
   },
   {
    "duration": 38,
    "start_time": "2023-02-16T21:01:58.068Z"
   },
   {
    "duration": 13,
    "start_time": "2023-02-16T21:01:58.108Z"
   },
   {
    "duration": 76,
    "start_time": "2023-02-16T21:01:58.122Z"
   },
   {
    "duration": 1860,
    "start_time": "2023-02-16T21:01:58.199Z"
   },
   {
    "duration": 5,
    "start_time": "2023-02-16T21:02:00.060Z"
   },
   {
    "duration": 21,
    "start_time": "2023-02-16T21:02:00.066Z"
   },
   {
    "duration": 11,
    "start_time": "2023-02-16T21:02:00.089Z"
   },
   {
    "duration": 15,
    "start_time": "2023-02-16T21:02:00.102Z"
   },
   {
    "duration": 14,
    "start_time": "2023-02-16T21:02:00.118Z"
   },
   {
    "duration": 19,
    "start_time": "2023-02-16T21:02:00.133Z"
   },
   {
    "duration": 7,
    "start_time": "2023-02-16T21:02:00.153Z"
   },
   {
    "duration": 1279,
    "start_time": "2023-02-16T21:02:00.161Z"
   },
   {
    "duration": 3,
    "start_time": "2023-02-16T21:02:33.535Z"
   },
   {
    "duration": 10,
    "start_time": "2023-02-16T21:03:40.479Z"
   },
   {
    "duration": 654,
    "start_time": "2023-02-16T21:09:36.328Z"
   },
   {
    "duration": 96,
    "start_time": "2023-02-16T21:09:36.984Z"
   },
   {
    "duration": 41,
    "start_time": "2023-02-16T21:09:37.082Z"
   },
   {
    "duration": 25,
    "start_time": "2023-02-16T21:09:37.124Z"
   },
   {
    "duration": 71,
    "start_time": "2023-02-16T21:09:37.151Z"
   },
   {
    "duration": 2139,
    "start_time": "2023-02-16T21:09:37.224Z"
   },
   {
    "duration": 4,
    "start_time": "2023-02-16T21:09:39.365Z"
   },
   {
    "duration": 8,
    "start_time": "2023-02-16T21:09:39.370Z"
   },
   {
    "duration": 6,
    "start_time": "2023-02-16T21:09:39.380Z"
   },
   {
    "duration": 12,
    "start_time": "2023-02-16T21:09:39.388Z"
   },
   {
    "duration": 4,
    "start_time": "2023-02-16T21:09:39.402Z"
   },
   {
    "duration": 4,
    "start_time": "2023-02-16T21:09:39.407Z"
   },
   {
    "duration": 5,
    "start_time": "2023-02-16T21:09:39.413Z"
   },
   {
    "duration": 7,
    "start_time": "2023-02-16T21:09:39.420Z"
   },
   {
    "duration": 25,
    "start_time": "2023-02-16T21:09:39.429Z"
   },
   {
    "duration": 75,
    "start_time": "2023-02-16T21:25:15.631Z"
   },
   {
    "duration": 15,
    "start_time": "2023-02-16T21:25:51.736Z"
   },
   {
    "duration": 12,
    "start_time": "2023-02-16T21:29:59.770Z"
   },
   {
    "duration": 16,
    "start_time": "2023-02-16T21:30:02.331Z"
   },
   {
    "duration": 45,
    "start_time": "2023-02-16T21:30:20.602Z"
   },
   {
    "duration": 567,
    "start_time": "2023-02-16T21:30:49.796Z"
   },
   {
    "duration": 92,
    "start_time": "2023-02-16T21:30:50.365Z"
   },
   {
    "duration": 38,
    "start_time": "2023-02-16T21:30:50.458Z"
   },
   {
    "duration": 14,
    "start_time": "2023-02-16T21:30:50.497Z"
   },
   {
    "duration": 83,
    "start_time": "2023-02-16T21:30:50.512Z"
   },
   {
    "duration": 1962,
    "start_time": "2023-02-16T21:30:50.597Z"
   },
   {
    "duration": 5,
    "start_time": "2023-02-16T21:30:52.560Z"
   },
   {
    "duration": 11,
    "start_time": "2023-02-16T21:30:52.567Z"
   },
   {
    "duration": 7,
    "start_time": "2023-02-16T21:30:52.580Z"
   },
   {
    "duration": 10,
    "start_time": "2023-02-16T21:30:52.589Z"
   },
   {
    "duration": 6,
    "start_time": "2023-02-16T21:30:52.600Z"
   },
   {
    "duration": 5,
    "start_time": "2023-02-16T21:30:52.607Z"
   },
   {
    "duration": 7,
    "start_time": "2023-02-16T21:30:52.614Z"
   },
   {
    "duration": 5,
    "start_time": "2023-02-16T21:30:52.623Z"
   },
   {
    "duration": 24,
    "start_time": "2023-02-16T21:30:52.629Z"
   },
   {
    "duration": 12,
    "start_time": "2023-02-16T21:30:52.655Z"
   },
   {
    "duration": 7,
    "start_time": "2023-02-16T21:31:11.301Z"
   },
   {
    "duration": 6,
    "start_time": "2023-02-16T21:32:24.220Z"
   },
   {
    "duration": 5,
    "start_time": "2023-02-16T21:32:31.622Z"
   },
   {
    "duration": 8,
    "start_time": "2023-02-16T21:38:58.473Z"
   },
   {
    "duration": 720,
    "start_time": "2023-02-16T21:43:33.323Z"
   },
   {
    "duration": 0,
    "start_time": "2023-02-16T21:43:34.045Z"
   },
   {
    "duration": 0,
    "start_time": "2023-02-16T21:43:34.048Z"
   },
   {
    "duration": 0,
    "start_time": "2023-02-16T21:43:34.049Z"
   },
   {
    "duration": 0,
    "start_time": "2023-02-16T21:43:34.050Z"
   },
   {
    "duration": 0,
    "start_time": "2023-02-16T21:43:34.051Z"
   },
   {
    "duration": 0,
    "start_time": "2023-02-16T21:43:34.052Z"
   },
   {
    "duration": 0,
    "start_time": "2023-02-16T21:43:34.052Z"
   },
   {
    "duration": 0,
    "start_time": "2023-02-16T21:43:34.053Z"
   },
   {
    "duration": 0,
    "start_time": "2023-02-16T21:43:34.055Z"
   },
   {
    "duration": 0,
    "start_time": "2023-02-16T21:43:34.055Z"
   },
   {
    "duration": 0,
    "start_time": "2023-02-16T21:43:34.056Z"
   },
   {
    "duration": 0,
    "start_time": "2023-02-16T21:43:34.057Z"
   },
   {
    "duration": 0,
    "start_time": "2023-02-16T21:43:34.058Z"
   },
   {
    "duration": 0,
    "start_time": "2023-02-16T21:43:34.059Z"
   },
   {
    "duration": 0,
    "start_time": "2023-02-16T21:43:34.060Z"
   },
   {
    "duration": 0,
    "start_time": "2023-02-16T21:43:34.060Z"
   },
   {
    "duration": 68,
    "start_time": "2023-02-16T21:43:39.639Z"
   },
   {
    "duration": 6,
    "start_time": "2023-02-16T21:43:45.229Z"
   },
   {
    "duration": 3,
    "start_time": "2023-02-16T21:43:56.789Z"
   },
   {
    "duration": 7,
    "start_time": "2023-02-16T21:44:04.453Z"
   },
   {
    "duration": 612,
    "start_time": "2023-02-16T21:45:24.421Z"
   },
   {
    "duration": 96,
    "start_time": "2023-02-16T21:45:25.034Z"
   },
   {
    "duration": 37,
    "start_time": "2023-02-16T21:45:25.132Z"
   },
   {
    "duration": 14,
    "start_time": "2023-02-16T21:45:25.170Z"
   },
   {
    "duration": 95,
    "start_time": "2023-02-16T21:45:25.186Z"
   },
   {
    "duration": 2080,
    "start_time": "2023-02-16T21:45:25.283Z"
   },
   {
    "duration": 4,
    "start_time": "2023-02-16T21:45:27.364Z"
   },
   {
    "duration": 10,
    "start_time": "2023-02-16T21:45:27.370Z"
   },
   {
    "duration": 9,
    "start_time": "2023-02-16T21:45:27.381Z"
   },
   {
    "duration": 16,
    "start_time": "2023-02-16T21:45:27.391Z"
   },
   {
    "duration": 5,
    "start_time": "2023-02-16T21:45:27.409Z"
   },
   {
    "duration": 4,
    "start_time": "2023-02-16T21:45:27.416Z"
   },
   {
    "duration": 6,
    "start_time": "2023-02-16T21:45:27.421Z"
   },
   {
    "duration": 4,
    "start_time": "2023-02-16T21:45:27.429Z"
   },
   {
    "duration": 16,
    "start_time": "2023-02-16T21:45:27.435Z"
   },
   {
    "duration": 12,
    "start_time": "2023-02-16T21:45:27.453Z"
   },
   {
    "duration": 6,
    "start_time": "2023-02-16T21:57:53.760Z"
   },
   {
    "duration": 4,
    "start_time": "2023-02-16T21:57:54.949Z"
   },
   {
    "duration": 4,
    "start_time": "2023-02-16T21:57:55.296Z"
   },
   {
    "duration": 4,
    "start_time": "2023-02-16T21:57:55.760Z"
   },
   {
    "duration": 9,
    "start_time": "2023-02-16T21:57:57.226Z"
   },
   {
    "duration": 30,
    "start_time": "2023-02-16T23:45:49.284Z"
   },
   {
    "duration": 9,
    "start_time": "2023-02-16T23:46:30.525Z"
   },
   {
    "duration": 2198,
    "start_time": "2023-02-16T23:48:50.806Z"
   },
   {
    "duration": 2281,
    "start_time": "2023-02-16T23:49:33.452Z"
   },
   {
    "duration": 4165,
    "start_time": "2023-02-16T23:49:43.147Z"
   },
   {
    "duration": 3060,
    "start_time": "2023-02-16T23:49:58.317Z"
   },
   {
    "duration": 2330,
    "start_time": "2023-02-16T23:50:09.571Z"
   },
   {
    "duration": 649,
    "start_time": "2023-02-16T23:51:08.130Z"
   },
   {
    "duration": 93,
    "start_time": "2023-02-16T23:51:08.781Z"
   },
   {
    "duration": 39,
    "start_time": "2023-02-16T23:51:08.876Z"
   },
   {
    "duration": 14,
    "start_time": "2023-02-16T23:51:08.917Z"
   },
   {
    "duration": 79,
    "start_time": "2023-02-16T23:51:08.933Z"
   },
   {
    "duration": 2082,
    "start_time": "2023-02-16T23:51:09.013Z"
   },
   {
    "duration": 5,
    "start_time": "2023-02-16T23:51:11.097Z"
   },
   {
    "duration": 10,
    "start_time": "2023-02-16T23:51:11.104Z"
   },
   {
    "duration": 5,
    "start_time": "2023-02-16T23:51:11.116Z"
   },
   {
    "duration": 10,
    "start_time": "2023-02-16T23:51:11.123Z"
   },
   {
    "duration": 17,
    "start_time": "2023-02-16T23:51:11.135Z"
   },
   {
    "duration": 7,
    "start_time": "2023-02-16T23:51:11.153Z"
   },
   {
    "duration": 6,
    "start_time": "2023-02-16T23:51:11.161Z"
   },
   {
    "duration": 3,
    "start_time": "2023-02-16T23:51:11.170Z"
   },
   {
    "duration": 4,
    "start_time": "2023-02-16T23:51:11.175Z"
   },
   {
    "duration": 9,
    "start_time": "2023-02-16T23:51:11.181Z"
   },
   {
    "duration": 14,
    "start_time": "2023-02-16T23:51:11.192Z"
   },
   {
    "duration": 51,
    "start_time": "2023-02-16T23:51:11.207Z"
   },
   {
    "duration": 10,
    "start_time": "2023-02-16T23:51:11.260Z"
   },
   {
    "duration": 2232,
    "start_time": "2023-02-16T23:51:11.271Z"
   },
   {
    "duration": 641,
    "start_time": "2023-02-17T00:16:34.262Z"
   },
   {
    "duration": 98,
    "start_time": "2023-02-17T00:16:34.905Z"
   },
   {
    "duration": 48,
    "start_time": "2023-02-17T00:16:35.005Z"
   },
   {
    "duration": 17,
    "start_time": "2023-02-17T00:16:35.054Z"
   },
   {
    "duration": 93,
    "start_time": "2023-02-17T00:16:35.074Z"
   },
   {
    "duration": 2059,
    "start_time": "2023-02-17T00:16:35.168Z"
   },
   {
    "duration": 5,
    "start_time": "2023-02-17T00:16:37.229Z"
   },
   {
    "duration": 14,
    "start_time": "2023-02-17T00:16:37.236Z"
   },
   {
    "duration": 4,
    "start_time": "2023-02-17T00:16:37.252Z"
   },
   {
    "duration": 11,
    "start_time": "2023-02-17T00:16:37.258Z"
   },
   {
    "duration": 5,
    "start_time": "2023-02-17T00:16:37.271Z"
   },
   {
    "duration": 6,
    "start_time": "2023-02-17T00:16:37.278Z"
   },
   {
    "duration": 5,
    "start_time": "2023-02-17T00:16:37.286Z"
   },
   {
    "duration": 4,
    "start_time": "2023-02-17T00:16:37.294Z"
   },
   {
    "duration": 6,
    "start_time": "2023-02-17T00:16:37.299Z"
   },
   {
    "duration": 49,
    "start_time": "2023-02-17T00:16:37.306Z"
   },
   {
    "duration": 16,
    "start_time": "2023-02-17T00:16:37.357Z"
   },
   {
    "duration": 18,
    "start_time": "2023-02-17T00:16:37.376Z"
   },
   {
    "duration": 9,
    "start_time": "2023-02-17T00:16:37.395Z"
   },
   {
    "duration": 2180,
    "start_time": "2023-02-17T00:16:37.406Z"
   },
   {
    "duration": 47,
    "start_time": "2023-02-17T08:39:57.955Z"
   },
   {
    "duration": 929,
    "start_time": "2023-02-17T08:40:36.322Z"
   },
   {
    "duration": 173,
    "start_time": "2023-02-17T08:40:37.254Z"
   },
   {
    "duration": 45,
    "start_time": "2023-02-17T08:40:37.428Z"
   },
   {
    "duration": 15,
    "start_time": "2023-02-17T08:40:37.476Z"
   },
   {
    "duration": 84,
    "start_time": "2023-02-17T08:40:37.493Z"
   },
   {
    "duration": 2210,
    "start_time": "2023-02-17T08:40:37.579Z"
   },
   {
    "duration": 5,
    "start_time": "2023-02-17T08:40:39.791Z"
   },
   {
    "duration": 11,
    "start_time": "2023-02-17T08:40:39.798Z"
   },
   {
    "duration": 4,
    "start_time": "2023-02-17T08:40:39.811Z"
   },
   {
    "duration": 11,
    "start_time": "2023-02-17T08:40:39.817Z"
   },
   {
    "duration": 5,
    "start_time": "2023-02-17T08:40:39.830Z"
   },
   {
    "duration": 11,
    "start_time": "2023-02-17T08:40:39.837Z"
   },
   {
    "duration": 6,
    "start_time": "2023-02-17T08:40:39.850Z"
   },
   {
    "duration": 7,
    "start_time": "2023-02-17T08:40:39.858Z"
   },
   {
    "duration": 40,
    "start_time": "2023-02-17T08:40:39.867Z"
   },
   {
    "duration": 16,
    "start_time": "2023-02-17T08:40:39.909Z"
   },
   {
    "duration": 27,
    "start_time": "2023-02-17T08:40:39.927Z"
   },
   {
    "duration": 10,
    "start_time": "2023-02-17T08:40:39.956Z"
   },
   {
    "duration": 12,
    "start_time": "2023-02-17T08:40:39.968Z"
   },
   {
    "duration": 2561,
    "start_time": "2023-02-17T08:40:39.982Z"
   },
   {
    "duration": 408,
    "start_time": "2023-02-17T08:51:58.478Z"
   },
   {
    "duration": 8,
    "start_time": "2023-02-17T08:52:19.958Z"
   },
   {
    "duration": 35,
    "start_time": "2023-02-17T08:52:35.214Z"
   },
   {
    "duration": 35,
    "start_time": "2023-02-17T08:53:51.860Z"
   },
   {
    "duration": 36,
    "start_time": "2023-02-17T08:54:07.611Z"
   },
   {
    "duration": 27,
    "start_time": "2023-02-17T08:54:41.094Z"
   },
   {
    "duration": 13,
    "start_time": "2023-02-17T08:54:48.639Z"
   },
   {
    "duration": 10,
    "start_time": "2023-02-17T08:58:02.475Z"
   },
   {
    "duration": 10,
    "start_time": "2023-02-17T08:58:19.000Z"
   },
   {
    "duration": 4,
    "start_time": "2023-02-17T08:59:33.453Z"
   },
   {
    "duration": 14,
    "start_time": "2023-02-17T08:59:40.323Z"
   },
   {
    "duration": 5,
    "start_time": "2023-02-17T09:00:16.423Z"
   },
   {
    "duration": 14,
    "start_time": "2023-02-17T09:00:17.862Z"
   },
   {
    "duration": 4,
    "start_time": "2023-02-17T09:02:25.018Z"
   },
   {
    "duration": 4,
    "start_time": "2023-02-17T09:02:25.753Z"
   },
   {
    "duration": 15,
    "start_time": "2023-02-17T09:02:26.235Z"
   },
   {
    "duration": 4,
    "start_time": "2023-02-17T09:07:49.547Z"
   },
   {
    "duration": 4,
    "start_time": "2023-02-17T09:08:12.939Z"
   },
   {
    "duration": 4,
    "start_time": "2023-02-17T09:08:21.842Z"
   },
   {
    "duration": 3,
    "start_time": "2023-02-17T09:08:38.900Z"
   },
   {
    "duration": 13,
    "start_time": "2023-02-17T09:08:56.258Z"
   },
   {
    "duration": 4,
    "start_time": "2023-02-17T09:09:09.736Z"
   },
   {
    "duration": 3,
    "start_time": "2023-02-17T09:09:35.148Z"
   },
   {
    "duration": 4,
    "start_time": "2023-02-17T09:10:00.241Z"
   },
   {
    "duration": 3,
    "start_time": "2023-02-17T09:10:14.743Z"
   },
   {
    "duration": 4,
    "start_time": "2023-02-17T09:10:15.222Z"
   },
   {
    "duration": 3,
    "start_time": "2023-02-17T09:10:15.711Z"
   },
   {
    "duration": 13,
    "start_time": "2023-02-17T09:10:17.039Z"
   },
   {
    "duration": 3,
    "start_time": "2023-02-17T09:11:11.192Z"
   },
   {
    "duration": 4,
    "start_time": "2023-02-17T09:11:11.722Z"
   },
   {
    "duration": 15,
    "start_time": "2023-02-17T09:11:12.263Z"
   },
   {
    "duration": 4,
    "start_time": "2023-02-17T09:11:20.384Z"
   },
   {
    "duration": 4,
    "start_time": "2023-02-17T09:11:20.804Z"
   },
   {
    "duration": 773,
    "start_time": "2023-02-17T09:11:41.901Z"
   },
   {
    "duration": 114,
    "start_time": "2023-02-17T09:11:42.676Z"
   },
   {
    "duration": 47,
    "start_time": "2023-02-17T09:11:42.792Z"
   },
   {
    "duration": 16,
    "start_time": "2023-02-17T09:11:42.841Z"
   },
   {
    "duration": 98,
    "start_time": "2023-02-17T09:11:42.859Z"
   },
   {
    "duration": 2522,
    "start_time": "2023-02-17T09:11:42.959Z"
   },
   {
    "duration": 4,
    "start_time": "2023-02-17T09:11:45.483Z"
   },
   {
    "duration": 14,
    "start_time": "2023-02-17T09:11:45.489Z"
   },
   {
    "duration": 7,
    "start_time": "2023-02-17T09:11:45.505Z"
   },
   {
    "duration": 15,
    "start_time": "2023-02-17T09:11:45.515Z"
   },
   {
    "duration": 7,
    "start_time": "2023-02-17T09:11:45.532Z"
   },
   {
    "duration": 6,
    "start_time": "2023-02-17T09:11:45.541Z"
   },
   {
    "duration": 9,
    "start_time": "2023-02-17T09:11:45.549Z"
   },
   {
    "duration": 10,
    "start_time": "2023-02-17T09:11:45.559Z"
   },
   {
    "duration": 30,
    "start_time": "2023-02-17T09:11:45.570Z"
   },
   {
    "duration": 9,
    "start_time": "2023-02-17T09:11:45.602Z"
   },
   {
    "duration": 12,
    "start_time": "2023-02-17T09:11:45.612Z"
   },
   {
    "duration": 8,
    "start_time": "2023-02-17T09:11:45.626Z"
   },
   {
    "duration": 15,
    "start_time": "2023-02-17T09:11:45.636Z"
   },
   {
    "duration": 10,
    "start_time": "2023-02-17T09:11:45.653Z"
   },
   {
    "duration": 34,
    "start_time": "2023-02-17T09:11:45.665Z"
   },
   {
    "duration": 4,
    "start_time": "2023-02-17T09:11:45.701Z"
   },
   {
    "duration": 19,
    "start_time": "2023-02-17T09:11:45.706Z"
   },
   {
    "duration": 2478,
    "start_time": "2023-02-17T09:11:45.727Z"
   },
   {
    "duration": 68,
    "start_time": "2023-02-17T09:14:02.086Z"
   },
   {
    "duration": 908,
    "start_time": "2023-02-17T16:58:56.951Z"
   },
   {
    "duration": 180,
    "start_time": "2023-02-17T16:58:57.870Z"
   },
   {
    "duration": 53,
    "start_time": "2023-02-17T16:58:58.062Z"
   },
   {
    "duration": 16,
    "start_time": "2023-02-17T16:58:58.116Z"
   },
   {
    "duration": 85,
    "start_time": "2023-02-17T16:58:58.134Z"
   },
   {
    "duration": 2422,
    "start_time": "2023-02-17T16:58:58.220Z"
   },
   {
    "duration": 4,
    "start_time": "2023-02-17T16:59:00.645Z"
   },
   {
    "duration": 65,
    "start_time": "2023-02-17T16:59:00.651Z"
   },
   {
    "duration": 28,
    "start_time": "2023-02-17T16:59:00.719Z"
   },
   {
    "duration": 69,
    "start_time": "2023-02-17T16:59:00.749Z"
   },
   {
    "duration": 11,
    "start_time": "2023-02-17T16:59:00.820Z"
   },
   {
    "duration": 34,
    "start_time": "2023-02-17T16:59:00.833Z"
   },
   {
    "duration": 53,
    "start_time": "2023-02-17T16:59:00.869Z"
   },
   {
    "duration": 30,
    "start_time": "2023-02-17T16:59:00.924Z"
   },
   {
    "duration": 66,
    "start_time": "2023-02-17T16:59:00.956Z"
   },
   {
    "duration": 36,
    "start_time": "2023-02-17T16:59:01.024Z"
   },
   {
    "duration": 78,
    "start_time": "2023-02-17T16:59:01.062Z"
   },
   {
    "duration": 42,
    "start_time": "2023-02-17T16:59:01.142Z"
   },
   {
    "duration": 29,
    "start_time": "2023-02-17T16:59:01.185Z"
   },
   {
    "duration": 7,
    "start_time": "2023-02-17T16:59:01.216Z"
   },
   {
    "duration": 13,
    "start_time": "2023-02-17T16:59:01.225Z"
   },
   {
    "duration": 9,
    "start_time": "2023-02-17T16:59:01.240Z"
   },
   {
    "duration": 43,
    "start_time": "2023-02-17T16:59:01.250Z"
   },
   {
    "duration": 2735,
    "start_time": "2023-02-17T16:59:01.295Z"
   },
   {
    "duration": 87,
    "start_time": "2023-02-17T16:59:30.231Z"
   },
   {
    "duration": 12,
    "start_time": "2023-02-17T17:02:07.246Z"
   },
   {
    "duration": 10,
    "start_time": "2023-02-17T17:05:45.849Z"
   },
   {
    "duration": 5,
    "start_time": "2023-02-17T17:05:50.385Z"
   },
   {
    "duration": 13,
    "start_time": "2023-02-17T17:05:52.878Z"
   },
   {
    "duration": 67,
    "start_time": "2023-02-17T17:13:46.644Z"
   },
   {
    "duration": 3,
    "start_time": "2023-02-17T17:13:53.090Z"
   },
   {
    "duration": 14,
    "start_time": "2023-02-17T17:13:54.589Z"
   },
   {
    "duration": 3,
    "start_time": "2023-02-17T17:16:24.187Z"
   },
   {
    "duration": 679,
    "start_time": "2023-02-17T17:16:34.322Z"
   },
   {
    "duration": 102,
    "start_time": "2023-02-17T17:16:35.003Z"
   },
   {
    "duration": 54,
    "start_time": "2023-02-17T17:16:35.106Z"
   },
   {
    "duration": 15,
    "start_time": "2023-02-17T17:16:35.167Z"
   },
   {
    "duration": 85,
    "start_time": "2023-02-17T17:16:35.183Z"
   },
   {
    "duration": 2352,
    "start_time": "2023-02-17T17:16:35.270Z"
   },
   {
    "duration": 6,
    "start_time": "2023-02-17T17:16:37.625Z"
   },
   {
    "duration": 14,
    "start_time": "2023-02-17T17:16:37.632Z"
   },
   {
    "duration": 25,
    "start_time": "2023-02-17T17:16:37.648Z"
   },
   {
    "duration": 19,
    "start_time": "2023-02-17T17:16:37.676Z"
   },
   {
    "duration": 8,
    "start_time": "2023-02-17T17:16:37.697Z"
   },
   {
    "duration": 8,
    "start_time": "2023-02-17T17:16:37.708Z"
   },
   {
    "duration": 9,
    "start_time": "2023-02-17T17:16:37.718Z"
   },
   {
    "duration": 9,
    "start_time": "2023-02-17T17:16:37.728Z"
   },
   {
    "duration": 4,
    "start_time": "2023-02-17T17:16:37.739Z"
   },
   {
    "duration": 22,
    "start_time": "2023-02-17T17:16:37.745Z"
   },
   {
    "duration": 31,
    "start_time": "2023-02-17T17:16:37.769Z"
   },
   {
    "duration": 13,
    "start_time": "2023-02-17T17:16:37.802Z"
   },
   {
    "duration": 14,
    "start_time": "2023-02-17T17:16:37.816Z"
   },
   {
    "duration": 9,
    "start_time": "2023-02-17T17:16:37.832Z"
   },
   {
    "duration": 5,
    "start_time": "2023-02-17T17:16:37.842Z"
   },
   {
    "duration": 5,
    "start_time": "2023-02-17T17:16:37.849Z"
   },
   {
    "duration": 17,
    "start_time": "2023-02-17T17:16:37.856Z"
   },
   {
    "duration": 23,
    "start_time": "2023-02-17T17:16:37.874Z"
   },
   {
    "duration": 2557,
    "start_time": "2023-02-17T17:16:37.899Z"
   },
   {
    "duration": 3,
    "start_time": "2023-02-17T17:23:27.681Z"
   },
   {
    "duration": 1048,
    "start_time": "2023-02-17T17:41:22.778Z"
   },
   {
    "duration": 4,
    "start_time": "2023-02-17T17:43:02.575Z"
   },
   {
    "duration": 8,
    "start_time": "2023-02-17T17:43:03.048Z"
   },
   {
    "duration": 8,
    "start_time": "2023-02-17T17:43:03.508Z"
   },
   {
    "duration": 700,
    "start_time": "2023-02-17T17:43:55.608Z"
   },
   {
    "duration": 111,
    "start_time": "2023-02-17T17:43:56.312Z"
   },
   {
    "duration": 65,
    "start_time": "2023-02-17T17:43:56.425Z"
   },
   {
    "duration": 32,
    "start_time": "2023-02-17T17:43:56.493Z"
   },
   {
    "duration": 103,
    "start_time": "2023-02-17T17:43:56.528Z"
   },
   {
    "duration": 2961,
    "start_time": "2023-02-17T17:43:56.633Z"
   },
   {
    "duration": 4,
    "start_time": "2023-02-17T17:43:59.596Z"
   },
   {
    "duration": 10,
    "start_time": "2023-02-17T17:43:59.602Z"
   },
   {
    "duration": 5,
    "start_time": "2023-02-17T17:43:59.614Z"
   },
   {
    "duration": 18,
    "start_time": "2023-02-17T17:43:59.621Z"
   },
   {
    "duration": 6,
    "start_time": "2023-02-17T17:43:59.641Z"
   },
   {
    "duration": 29,
    "start_time": "2023-02-17T17:43:59.649Z"
   },
   {
    "duration": 7,
    "start_time": "2023-02-17T17:43:59.679Z"
   },
   {
    "duration": 5,
    "start_time": "2023-02-17T17:43:59.688Z"
   },
   {
    "duration": 7,
    "start_time": "2023-02-17T17:43:59.695Z"
   },
   {
    "duration": 11,
    "start_time": "2023-02-17T17:43:59.704Z"
   },
   {
    "duration": 17,
    "start_time": "2023-02-17T17:43:59.717Z"
   },
   {
    "duration": 22,
    "start_time": "2023-02-17T17:43:59.735Z"
   },
   {
    "duration": 25,
    "start_time": "2023-02-17T17:43:59.759Z"
   },
   {
    "duration": 12,
    "start_time": "2023-02-17T17:43:59.786Z"
   },
   {
    "duration": 8,
    "start_time": "2023-02-17T17:43:59.800Z"
   },
   {
    "duration": 16,
    "start_time": "2023-02-17T17:43:59.809Z"
   },
   {
    "duration": 12,
    "start_time": "2023-02-17T17:43:59.827Z"
   },
   {
    "duration": 31,
    "start_time": "2023-02-17T17:43:59.841Z"
   },
   {
    "duration": 2802,
    "start_time": "2023-02-17T17:43:59.874Z"
   },
   {
    "duration": 5,
    "start_time": "2023-02-17T17:45:01.971Z"
   },
   {
    "duration": 23,
    "start_time": "2023-02-17T17:45:09.868Z"
   },
   {
    "duration": 709,
    "start_time": "2023-02-17T21:22:34.022Z"
   },
   {
    "duration": 135,
    "start_time": "2023-02-17T21:22:34.733Z"
   },
   {
    "duration": 49,
    "start_time": "2023-02-17T21:22:34.870Z"
   },
   {
    "duration": 16,
    "start_time": "2023-02-17T21:22:34.922Z"
   },
   {
    "duration": 100,
    "start_time": "2023-02-17T21:22:34.940Z"
   },
   {
    "duration": 2633,
    "start_time": "2023-02-17T21:22:35.053Z"
   },
   {
    "duration": 8,
    "start_time": "2023-02-17T21:22:37.688Z"
   },
   {
    "duration": 24,
    "start_time": "2023-02-17T21:22:37.698Z"
   },
   {
    "duration": 13,
    "start_time": "2023-02-17T21:22:37.725Z"
   },
   {
    "duration": 59,
    "start_time": "2023-02-17T21:22:37.741Z"
   },
   {
    "duration": 9,
    "start_time": "2023-02-17T21:22:37.802Z"
   },
   {
    "duration": 15,
    "start_time": "2023-02-17T21:22:37.813Z"
   },
   {
    "duration": 42,
    "start_time": "2023-02-17T21:22:37.830Z"
   },
   {
    "duration": 31,
    "start_time": "2023-02-17T21:22:37.874Z"
   },
   {
    "duration": 11,
    "start_time": "2023-02-17T21:22:37.907Z"
   },
   {
    "duration": 13,
    "start_time": "2023-02-17T21:22:37.920Z"
   },
   {
    "duration": 22,
    "start_time": "2023-02-17T21:22:37.936Z"
   },
   {
    "duration": 13,
    "start_time": "2023-02-17T21:22:37.962Z"
   },
   {
    "duration": 24,
    "start_time": "2023-02-17T21:22:37.979Z"
   },
   {
    "duration": 21,
    "start_time": "2023-02-17T21:22:38.005Z"
   },
   {
    "duration": 6,
    "start_time": "2023-02-17T21:22:38.029Z"
   },
   {
    "duration": 8,
    "start_time": "2023-02-17T21:22:38.037Z"
   },
   {
    "duration": 12,
    "start_time": "2023-02-17T21:22:38.047Z"
   },
   {
    "duration": 35,
    "start_time": "2023-02-17T21:22:38.066Z"
   },
   {
    "duration": 31,
    "start_time": "2023-02-17T21:22:38.103Z"
   },
   {
    "duration": 2811,
    "start_time": "2023-02-17T21:22:38.136Z"
   },
   {
    "duration": 5,
    "start_time": "2023-02-17T21:23:08.139Z"
   },
   {
    "duration": 6,
    "start_time": "2023-02-17T21:24:22.346Z"
   },
   {
    "duration": 736,
    "start_time": "2023-02-17T21:25:53.341Z"
   },
   {
    "duration": 112,
    "start_time": "2023-02-17T21:25:54.082Z"
   },
   {
    "duration": 46,
    "start_time": "2023-02-17T21:25:54.196Z"
   },
   {
    "duration": 39,
    "start_time": "2023-02-17T21:25:54.244Z"
   },
   {
    "duration": 112,
    "start_time": "2023-02-17T21:25:54.289Z"
   },
   {
    "duration": 2662,
    "start_time": "2023-02-17T21:25:54.403Z"
   },
   {
    "duration": 15,
    "start_time": "2023-02-17T21:25:57.070Z"
   },
   {
    "duration": 12,
    "start_time": "2023-02-17T21:25:57.090Z"
   },
   {
    "duration": 5,
    "start_time": "2023-02-17T21:25:57.104Z"
   },
   {
    "duration": 14,
    "start_time": "2023-02-17T21:25:57.113Z"
   },
   {
    "duration": 6,
    "start_time": "2023-02-17T21:25:57.129Z"
   },
   {
    "duration": 7,
    "start_time": "2023-02-17T21:25:57.137Z"
   },
   {
    "duration": 7,
    "start_time": "2023-02-17T21:25:57.166Z"
   },
   {
    "duration": 25,
    "start_time": "2023-02-17T21:25:57.175Z"
   },
   {
    "duration": 8,
    "start_time": "2023-02-17T21:25:57.202Z"
   },
   {
    "duration": 15,
    "start_time": "2023-02-17T21:25:57.212Z"
   },
   {
    "duration": 18,
    "start_time": "2023-02-17T21:25:57.233Z"
   },
   {
    "duration": 27,
    "start_time": "2023-02-17T21:25:57.253Z"
   },
   {
    "duration": 36,
    "start_time": "2023-02-17T21:25:57.285Z"
   },
   {
    "duration": 15,
    "start_time": "2023-02-17T21:25:57.324Z"
   },
   {
    "duration": 5,
    "start_time": "2023-02-17T21:25:57.342Z"
   },
   {
    "duration": 8,
    "start_time": "2023-02-17T21:25:57.349Z"
   },
   {
    "duration": 47,
    "start_time": "2023-02-17T21:25:57.359Z"
   },
   {
    "duration": 5,
    "start_time": "2023-02-17T21:25:57.408Z"
   },
   {
    "duration": 7,
    "start_time": "2023-02-17T21:25:57.414Z"
   },
   {
    "duration": 9,
    "start_time": "2023-02-17T21:25:57.423Z"
   },
   {
    "duration": 5,
    "start_time": "2023-02-17T21:25:57.434Z"
   },
   {
    "duration": 8,
    "start_time": "2023-02-17T21:25:57.442Z"
   },
   {
    "duration": 154,
    "start_time": "2023-02-17T21:25:57.451Z"
   },
   {
    "duration": 0,
    "start_time": "2023-02-17T21:25:57.608Z"
   },
   {
    "duration": 1,
    "start_time": "2023-02-17T21:25:57.609Z"
   },
   {
    "duration": 19,
    "start_time": "2023-02-17T21:26:29.227Z"
   },
   {
    "duration": 8,
    "start_time": "2023-02-17T21:36:31.650Z"
   },
   {
    "duration": 14,
    "start_time": "2023-02-17T21:36:34.066Z"
   },
   {
    "duration": 17,
    "start_time": "2023-02-17T21:54:34.981Z"
   },
   {
    "duration": 2916,
    "start_time": "2023-02-17T21:54:39.744Z"
   },
   {
    "duration": 18760,
    "start_time": "2023-02-17T22:05:34.489Z"
   },
   {
    "duration": 24,
    "start_time": "2023-02-17T22:06:24.561Z"
   },
   {
    "duration": 9,
    "start_time": "2023-02-17T22:06:46.809Z"
   },
   {
    "duration": 664,
    "start_time": "2023-02-17T22:06:55.257Z"
   },
   {
    "duration": 102,
    "start_time": "2023-02-17T22:06:55.924Z"
   },
   {
    "duration": 54,
    "start_time": "2023-02-17T22:06:56.031Z"
   },
   {
    "duration": 17,
    "start_time": "2023-02-17T22:06:56.087Z"
   },
   {
    "duration": 113,
    "start_time": "2023-02-17T22:06:56.106Z"
   },
   {
    "duration": 2316,
    "start_time": "2023-02-17T22:06:56.222Z"
   },
   {
    "duration": 4,
    "start_time": "2023-02-17T22:06:58.540Z"
   },
   {
    "duration": 16,
    "start_time": "2023-02-17T22:06:58.546Z"
   },
   {
    "duration": 4,
    "start_time": "2023-02-17T22:06:58.565Z"
   },
   {
    "duration": 16,
    "start_time": "2023-02-17T22:06:58.571Z"
   },
   {
    "duration": 6,
    "start_time": "2023-02-17T22:06:58.588Z"
   },
   {
    "duration": 6,
    "start_time": "2023-02-17T22:06:58.595Z"
   },
   {
    "duration": 4,
    "start_time": "2023-02-17T22:06:58.603Z"
   },
   {
    "duration": 4,
    "start_time": "2023-02-17T22:06:58.609Z"
   },
   {
    "duration": 6,
    "start_time": "2023-02-17T22:06:58.614Z"
   },
   {
    "duration": 35,
    "start_time": "2023-02-17T22:06:58.621Z"
   },
   {
    "duration": 13,
    "start_time": "2023-02-17T22:06:58.658Z"
   },
   {
    "duration": 9,
    "start_time": "2023-02-17T22:06:58.673Z"
   },
   {
    "duration": 13,
    "start_time": "2023-02-17T22:06:58.684Z"
   },
   {
    "duration": 10,
    "start_time": "2023-02-17T22:06:58.699Z"
   },
   {
    "duration": 7,
    "start_time": "2023-02-17T22:06:58.710Z"
   },
   {
    "duration": 39,
    "start_time": "2023-02-17T22:06:58.719Z"
   },
   {
    "duration": 17,
    "start_time": "2023-02-17T22:06:58.760Z"
   },
   {
    "duration": 7,
    "start_time": "2023-02-17T22:06:58.779Z"
   },
   {
    "duration": 6,
    "start_time": "2023-02-17T22:06:58.789Z"
   },
   {
    "duration": 18,
    "start_time": "2023-02-17T22:06:58.796Z"
   },
   {
    "duration": 5,
    "start_time": "2023-02-17T22:06:58.817Z"
   },
   {
    "duration": 5,
    "start_time": "2023-02-17T22:06:58.823Z"
   },
   {
    "duration": 15,
    "start_time": "2023-02-17T22:06:58.830Z"
   },
   {
    "duration": 32,
    "start_time": "2023-02-17T22:06:58.846Z"
   },
   {
    "duration": 71,
    "start_time": "2023-02-17T22:06:58.879Z"
   },
   {
    "duration": 42,
    "start_time": "2023-02-17T22:08:10.707Z"
   },
   {
    "duration": 45,
    "start_time": "2023-02-17T22:08:19.587Z"
   },
   {
    "duration": 18542,
    "start_time": "2023-02-17T22:10:29.413Z"
   },
   {
    "duration": 9,
    "start_time": "2023-02-17T22:13:14.013Z"
   },
   {
    "duration": 5152,
    "start_time": "2023-02-17T22:13:24.433Z"
   },
   {
    "duration": 5439,
    "start_time": "2023-02-17T22:13:57.101Z"
   },
   {
    "duration": 592,
    "start_time": "2023-02-17T22:14:33.005Z"
   },
   {
    "duration": 94,
    "start_time": "2023-02-17T22:14:33.598Z"
   },
   {
    "duration": 41,
    "start_time": "2023-02-17T22:14:33.694Z"
   },
   {
    "duration": 17,
    "start_time": "2023-02-17T22:14:33.753Z"
   },
   {
    "duration": 93,
    "start_time": "2023-02-17T22:14:33.772Z"
   },
   {
    "duration": 2253,
    "start_time": "2023-02-17T22:14:33.869Z"
   },
   {
    "duration": 4,
    "start_time": "2023-02-17T22:14:36.124Z"
   },
   {
    "duration": 20,
    "start_time": "2023-02-17T22:14:36.130Z"
   },
   {
    "duration": 5,
    "start_time": "2023-02-17T22:14:36.152Z"
   },
   {
    "duration": 14,
    "start_time": "2023-02-17T22:14:36.160Z"
   },
   {
    "duration": 5,
    "start_time": "2023-02-17T22:14:36.175Z"
   },
   {
    "duration": 6,
    "start_time": "2023-02-17T22:14:36.182Z"
   },
   {
    "duration": 7,
    "start_time": "2023-02-17T22:14:36.190Z"
   },
   {
    "duration": 4,
    "start_time": "2023-02-17T22:14:36.199Z"
   },
   {
    "duration": 7,
    "start_time": "2023-02-17T22:14:36.204Z"
   },
   {
    "duration": 15,
    "start_time": "2023-02-17T22:14:36.213Z"
   },
   {
    "duration": 13,
    "start_time": "2023-02-17T22:14:36.253Z"
   },
   {
    "duration": 10,
    "start_time": "2023-02-17T22:14:36.267Z"
   },
   {
    "duration": 14,
    "start_time": "2023-02-17T22:14:36.279Z"
   },
   {
    "duration": 12,
    "start_time": "2023-02-17T22:14:36.295Z"
   },
   {
    "duration": 9,
    "start_time": "2023-02-17T22:14:36.309Z"
   },
   {
    "duration": 33,
    "start_time": "2023-02-17T22:14:36.320Z"
   },
   {
    "duration": 6,
    "start_time": "2023-02-17T22:14:36.355Z"
   },
   {
    "duration": 8,
    "start_time": "2023-02-17T22:14:36.363Z"
   },
   {
    "duration": 7,
    "start_time": "2023-02-17T22:14:36.373Z"
   },
   {
    "duration": 9,
    "start_time": "2023-02-17T22:14:36.382Z"
   },
   {
    "duration": 9,
    "start_time": "2023-02-17T22:14:36.393Z"
   },
   {
    "duration": 5,
    "start_time": "2023-02-17T22:14:36.405Z"
   },
   {
    "duration": 5,
    "start_time": "2023-02-17T22:14:36.411Z"
   },
   {
    "duration": 37,
    "start_time": "2023-02-17T22:14:36.417Z"
   },
   {
    "duration": 626,
    "start_time": "2023-02-17T22:36:18.349Z"
   },
   {
    "duration": 88,
    "start_time": "2023-02-17T22:43:42.029Z"
   },
   {
    "duration": 7,
    "start_time": "2023-02-17T22:43:50.077Z"
   },
   {
    "duration": 9,
    "start_time": "2023-02-17T22:56:42.493Z"
   },
   {
    "duration": 122,
    "start_time": "2023-02-17T22:56:50.454Z"
   },
   {
    "duration": 821,
    "start_time": "2023-02-18T11:00:13.084Z"
   },
   {
    "duration": 159,
    "start_time": "2023-02-18T11:00:13.907Z"
   },
   {
    "duration": 65,
    "start_time": "2023-02-18T11:00:14.068Z"
   },
   {
    "duration": 24,
    "start_time": "2023-02-18T11:00:14.136Z"
   },
   {
    "duration": 112,
    "start_time": "2023-02-18T11:00:14.162Z"
   },
   {
    "duration": 2337,
    "start_time": "2023-02-18T11:00:14.276Z"
   },
   {
    "duration": 5,
    "start_time": "2023-02-18T11:00:16.615Z"
   },
   {
    "duration": 15,
    "start_time": "2023-02-18T11:00:16.621Z"
   },
   {
    "duration": 4,
    "start_time": "2023-02-18T11:00:16.638Z"
   },
   {
    "duration": 9,
    "start_time": "2023-02-18T11:00:16.646Z"
   },
   {
    "duration": 5,
    "start_time": "2023-02-18T11:00:16.657Z"
   },
   {
    "duration": 6,
    "start_time": "2023-02-18T11:00:16.663Z"
   },
   {
    "duration": 6,
    "start_time": "2023-02-18T11:00:16.671Z"
   },
   {
    "duration": 25,
    "start_time": "2023-02-18T11:00:16.679Z"
   },
   {
    "duration": 5,
    "start_time": "2023-02-18T11:00:16.706Z"
   },
   {
    "duration": 14,
    "start_time": "2023-02-18T11:00:16.713Z"
   },
   {
    "duration": 12,
    "start_time": "2023-02-18T11:00:16.729Z"
   },
   {
    "duration": 8,
    "start_time": "2023-02-18T11:00:16.743Z"
   },
   {
    "duration": 21,
    "start_time": "2023-02-18T11:00:16.752Z"
   },
   {
    "duration": 34,
    "start_time": "2023-02-18T11:00:16.775Z"
   },
   {
    "duration": 18,
    "start_time": "2023-02-18T11:00:16.811Z"
   },
   {
    "duration": 25,
    "start_time": "2023-02-18T11:00:16.831Z"
   },
   {
    "duration": 7,
    "start_time": "2023-02-18T11:00:16.858Z"
   },
   {
    "duration": 8,
    "start_time": "2023-02-18T11:00:16.867Z"
   },
   {
    "duration": 10,
    "start_time": "2023-02-18T11:00:16.876Z"
   },
   {
    "duration": 6,
    "start_time": "2023-02-18T11:00:16.888Z"
   },
   {
    "duration": 8,
    "start_time": "2023-02-18T11:00:16.895Z"
   },
   {
    "duration": 6,
    "start_time": "2023-02-18T11:00:16.906Z"
   },
   {
    "duration": 8,
    "start_time": "2023-02-18T11:00:16.914Z"
   },
   {
    "duration": 16,
    "start_time": "2023-02-18T11:00:16.923Z"
   },
   {
    "duration": 127,
    "start_time": "2023-02-18T11:00:16.940Z"
   },
   {
    "duration": 89,
    "start_time": "2023-02-18T11:08:38.759Z"
   },
   {
    "duration": 5,
    "start_time": "2023-02-18T11:08:53.564Z"
   },
   {
    "duration": 4,
    "start_time": "2023-02-18T11:13:13.021Z"
   },
   {
    "duration": 3,
    "start_time": "2023-02-18T11:13:32.931Z"
   },
   {
    "duration": 8,
    "start_time": "2023-02-18T11:15:48.079Z"
   },
   {
    "duration": 9,
    "start_time": "2023-02-18T11:16:15.830Z"
   },
   {
    "duration": 9,
    "start_time": "2023-02-18T11:16:30.263Z"
   },
   {
    "duration": 11,
    "start_time": "2023-02-18T11:16:38.758Z"
   },
   {
    "duration": 55,
    "start_time": "2023-02-18T11:23:24.879Z"
   },
   {
    "duration": 55,
    "start_time": "2023-02-18T11:23:49.678Z"
   },
   {
    "duration": 7,
    "start_time": "2023-02-18T11:24:15.249Z"
   },
   {
    "duration": 4,
    "start_time": "2023-02-18T11:24:27.743Z"
   },
   {
    "duration": 11,
    "start_time": "2023-02-18T11:28:07.736Z"
   },
   {
    "duration": 26671,
    "start_time": "2023-02-18T11:32:24.793Z"
   },
   {
    "duration": 640,
    "start_time": "2023-02-18T11:33:19.032Z"
   },
   {
    "duration": 92,
    "start_time": "2023-02-18T11:33:19.674Z"
   },
   {
    "duration": 48,
    "start_time": "2023-02-18T11:33:19.768Z"
   },
   {
    "duration": 18,
    "start_time": "2023-02-18T11:33:19.819Z"
   },
   {
    "duration": 94,
    "start_time": "2023-02-18T11:33:19.840Z"
   },
   {
    "duration": 2333,
    "start_time": "2023-02-18T11:33:19.936Z"
   },
   {
    "duration": 5,
    "start_time": "2023-02-18T11:33:22.271Z"
   },
   {
    "duration": 10,
    "start_time": "2023-02-18T11:33:22.278Z"
   },
   {
    "duration": 5,
    "start_time": "2023-02-18T11:33:22.289Z"
   },
   {
    "duration": 10,
    "start_time": "2023-02-18T11:33:22.297Z"
   },
   {
    "duration": 5,
    "start_time": "2023-02-18T11:33:22.309Z"
   },
   {
    "duration": 6,
    "start_time": "2023-02-18T11:33:22.315Z"
   },
   {
    "duration": 7,
    "start_time": "2023-02-18T11:33:22.323Z"
   },
   {
    "duration": 6,
    "start_time": "2023-02-18T11:33:22.332Z"
   },
   {
    "duration": 6,
    "start_time": "2023-02-18T11:33:22.340Z"
   },
   {
    "duration": 11,
    "start_time": "2023-02-18T11:33:22.347Z"
   },
   {
    "duration": 13,
    "start_time": "2023-02-18T11:33:22.360Z"
   },
   {
    "duration": 36,
    "start_time": "2023-02-18T11:33:22.374Z"
   },
   {
    "duration": 14,
    "start_time": "2023-02-18T11:33:22.412Z"
   },
   {
    "duration": 13,
    "start_time": "2023-02-18T11:33:22.428Z"
   },
   {
    "duration": 7,
    "start_time": "2023-02-18T11:33:22.442Z"
   },
   {
    "duration": 5,
    "start_time": "2023-02-18T11:33:22.451Z"
   },
   {
    "duration": 7,
    "start_time": "2023-02-18T11:33:22.457Z"
   },
   {
    "duration": 5,
    "start_time": "2023-02-18T11:33:22.466Z"
   },
   {
    "duration": 33,
    "start_time": "2023-02-18T11:33:22.473Z"
   },
   {
    "duration": 14,
    "start_time": "2023-02-18T11:33:22.508Z"
   },
   {
    "duration": 17,
    "start_time": "2023-02-18T11:33:22.524Z"
   },
   {
    "duration": 12,
    "start_time": "2023-02-18T11:33:22.545Z"
   },
   {
    "duration": 21,
    "start_time": "2023-02-18T11:33:22.559Z"
   },
   {
    "duration": 16,
    "start_time": "2023-02-18T11:33:22.582Z"
   },
   {
    "duration": 116,
    "start_time": "2023-02-18T11:33:22.601Z"
   },
   {
    "duration": 17,
    "start_time": "2023-02-18T11:38:09.404Z"
   },
   {
    "duration": 23,
    "start_time": "2023-02-18T11:38:32.061Z"
   },
   {
    "duration": 47,
    "start_time": "2023-02-18T16:55:03.081Z"
   },
   {
    "duration": 897,
    "start_time": "2023-02-18T16:55:22.025Z"
   },
   {
    "duration": 165,
    "start_time": "2023-02-18T16:55:22.925Z"
   },
   {
    "duration": 53,
    "start_time": "2023-02-18T16:55:23.092Z"
   },
   {
    "duration": 25,
    "start_time": "2023-02-18T16:55:23.148Z"
   },
   {
    "duration": 110,
    "start_time": "2023-02-18T16:55:23.175Z"
   },
   {
    "duration": 2295,
    "start_time": "2023-02-18T16:55:23.287Z"
   },
   {
    "duration": 11,
    "start_time": "2023-02-18T16:55:25.584Z"
   },
   {
    "duration": 4,
    "start_time": "2023-02-18T16:55:25.597Z"
   },
   {
    "duration": 10,
    "start_time": "2023-02-18T16:55:25.602Z"
   },
   {
    "duration": 4,
    "start_time": "2023-02-18T16:55:25.617Z"
   },
   {
    "duration": 12,
    "start_time": "2023-02-18T16:55:25.623Z"
   },
   {
    "duration": 7,
    "start_time": "2023-02-18T16:55:25.654Z"
   },
   {
    "duration": 11,
    "start_time": "2023-02-18T16:55:25.663Z"
   },
   {
    "duration": 9,
    "start_time": "2023-02-18T16:55:25.676Z"
   },
   {
    "duration": 12,
    "start_time": "2023-02-18T16:55:25.687Z"
   },
   {
    "duration": 7,
    "start_time": "2023-02-18T16:55:25.702Z"
   },
   {
    "duration": 15,
    "start_time": "2023-02-18T16:55:25.710Z"
   },
   {
    "duration": 40,
    "start_time": "2023-02-18T16:55:25.727Z"
   },
   {
    "duration": 10,
    "start_time": "2023-02-18T16:55:25.769Z"
   },
   {
    "duration": 10,
    "start_time": "2023-02-18T16:55:25.781Z"
   },
   {
    "duration": 7,
    "start_time": "2023-02-18T16:55:25.793Z"
   },
   {
    "duration": 4,
    "start_time": "2023-02-18T16:55:25.802Z"
   },
   {
    "duration": 4,
    "start_time": "2023-02-18T16:55:25.808Z"
   },
   {
    "duration": 39,
    "start_time": "2023-02-18T16:55:25.814Z"
   },
   {
    "duration": 6,
    "start_time": "2023-02-18T16:55:25.855Z"
   },
   {
    "duration": 6,
    "start_time": "2023-02-18T16:55:25.862Z"
   },
   {
    "duration": 5,
    "start_time": "2023-02-18T16:55:25.870Z"
   },
   {
    "duration": 8,
    "start_time": "2023-02-18T16:55:25.878Z"
   },
   {
    "duration": 10,
    "start_time": "2023-02-18T16:55:25.888Z"
   },
   {
    "duration": 9,
    "start_time": "2023-02-18T16:55:25.899Z"
   },
   {
    "duration": 169,
    "start_time": "2023-02-18T16:55:25.910Z"
   },
   {
    "duration": 19,
    "start_time": "2023-02-18T16:55:26.081Z"
   },
   {
    "duration": 8,
    "start_time": "2023-02-18T16:56:28.785Z"
   },
   {
    "duration": 5,
    "start_time": "2023-02-18T16:56:49.729Z"
   },
   {
    "duration": 6,
    "start_time": "2023-02-18T17:03:12.503Z"
   },
   {
    "duration": 72,
    "start_time": "2023-02-18T17:20:28.786Z"
   },
   {
    "duration": 744,
    "start_time": "2023-02-18T17:20:41.144Z"
   },
   {
    "duration": 107,
    "start_time": "2023-02-18T17:20:41.890Z"
   },
   {
    "duration": 81,
    "start_time": "2023-02-18T17:20:41.999Z"
   },
   {
    "duration": 23,
    "start_time": "2023-02-18T17:20:42.083Z"
   },
   {
    "duration": 109,
    "start_time": "2023-02-18T17:20:42.108Z"
   },
   {
    "duration": 2575,
    "start_time": "2023-02-18T17:20:42.219Z"
   },
   {
    "duration": 6,
    "start_time": "2023-02-18T17:20:44.796Z"
   },
   {
    "duration": 11,
    "start_time": "2023-02-18T17:20:44.805Z"
   },
   {
    "duration": 4,
    "start_time": "2023-02-18T17:20:44.818Z"
   },
   {
    "duration": 18,
    "start_time": "2023-02-18T17:20:44.825Z"
   },
   {
    "duration": 7,
    "start_time": "2023-02-18T17:20:44.846Z"
   },
   {
    "duration": 73,
    "start_time": "2023-02-18T17:20:44.856Z"
   },
   {
    "duration": 5,
    "start_time": "2023-02-18T17:20:44.931Z"
   },
   {
    "duration": 7,
    "start_time": "2023-02-18T17:20:44.938Z"
   },
   {
    "duration": 6,
    "start_time": "2023-02-18T17:20:44.947Z"
   },
   {
    "duration": 23,
    "start_time": "2023-02-18T17:20:44.957Z"
   },
   {
    "duration": 9,
    "start_time": "2023-02-18T17:20:44.981Z"
   },
   {
    "duration": 12,
    "start_time": "2023-02-18T17:20:44.991Z"
   },
   {
    "duration": 16,
    "start_time": "2023-02-18T17:20:45.004Z"
   },
   {
    "duration": 20,
    "start_time": "2023-02-18T17:20:45.022Z"
   },
   {
    "duration": 40,
    "start_time": "2023-02-18T17:20:45.044Z"
   },
   {
    "duration": 8,
    "start_time": "2023-02-18T17:20:45.086Z"
   },
   {
    "duration": 6,
    "start_time": "2023-02-18T17:20:45.097Z"
   },
   {
    "duration": 8,
    "start_time": "2023-02-18T17:20:45.105Z"
   },
   {
    "duration": 7,
    "start_time": "2023-02-18T17:20:45.114Z"
   },
   {
    "duration": 9,
    "start_time": "2023-02-18T17:20:45.122Z"
   },
   {
    "duration": 7,
    "start_time": "2023-02-18T17:20:45.133Z"
   },
   {
    "duration": 11,
    "start_time": "2023-02-18T17:20:45.144Z"
   },
   {
    "duration": 7,
    "start_time": "2023-02-18T17:20:45.157Z"
   },
   {
    "duration": 15,
    "start_time": "2023-02-18T17:20:45.166Z"
   },
   {
    "duration": 10,
    "start_time": "2023-02-18T17:20:45.183Z"
   },
   {
    "duration": 155,
    "start_time": "2023-02-18T17:20:45.195Z"
   },
   {
    "duration": 33,
    "start_time": "2023-02-18T17:20:45.353Z"
   },
   {
    "duration": 759,
    "start_time": "2023-02-18T17:22:35.733Z"
   },
   {
    "duration": 121,
    "start_time": "2023-02-18T17:22:36.495Z"
   },
   {
    "duration": 57,
    "start_time": "2023-02-18T17:22:36.618Z"
   },
   {
    "duration": 18,
    "start_time": "2023-02-18T17:22:36.678Z"
   },
   {
    "duration": 141,
    "start_time": "2023-02-18T17:22:36.698Z"
   },
   {
    "duration": 2681,
    "start_time": "2023-02-18T17:22:36.841Z"
   },
   {
    "duration": 7,
    "start_time": "2023-02-18T17:22:39.525Z"
   },
   {
    "duration": 13,
    "start_time": "2023-02-18T17:22:39.534Z"
   },
   {
    "duration": 36,
    "start_time": "2023-02-18T17:22:39.549Z"
   },
   {
    "duration": 25,
    "start_time": "2023-02-18T17:22:39.588Z"
   },
   {
    "duration": 9,
    "start_time": "2023-02-18T17:22:39.615Z"
   },
   {
    "duration": 75,
    "start_time": "2023-02-18T17:22:39.626Z"
   },
   {
    "duration": 5,
    "start_time": "2023-02-18T17:22:39.703Z"
   },
   {
    "duration": 9,
    "start_time": "2023-02-18T17:22:39.710Z"
   },
   {
    "duration": 11,
    "start_time": "2023-02-18T17:22:39.721Z"
   },
   {
    "duration": 21,
    "start_time": "2023-02-18T17:22:39.734Z"
   },
   {
    "duration": 28,
    "start_time": "2023-02-18T17:22:39.757Z"
   },
   {
    "duration": 25,
    "start_time": "2023-02-18T17:22:39.788Z"
   },
   {
    "duration": 11,
    "start_time": "2023-02-18T17:22:39.815Z"
   },
   {
    "duration": 12,
    "start_time": "2023-02-18T17:22:39.828Z"
   },
   {
    "duration": 16,
    "start_time": "2023-02-18T17:22:39.842Z"
   },
   {
    "duration": 24,
    "start_time": "2023-02-18T17:22:39.860Z"
   },
   {
    "duration": 6,
    "start_time": "2023-02-18T17:22:39.886Z"
   },
   {
    "duration": 6,
    "start_time": "2023-02-18T17:22:39.894Z"
   },
   {
    "duration": 7,
    "start_time": "2023-02-18T17:22:39.901Z"
   },
   {
    "duration": 13,
    "start_time": "2023-02-18T17:22:39.910Z"
   },
   {
    "duration": 9,
    "start_time": "2023-02-18T17:22:39.925Z"
   },
   {
    "duration": 26,
    "start_time": "2023-02-18T17:22:39.938Z"
   },
   {
    "duration": 18,
    "start_time": "2023-02-18T17:22:39.966Z"
   },
   {
    "duration": 11,
    "start_time": "2023-02-18T17:22:39.986Z"
   },
   {
    "duration": 24,
    "start_time": "2023-02-18T17:22:40.000Z"
   },
   {
    "duration": 180,
    "start_time": "2023-02-18T17:22:40.026Z"
   },
   {
    "duration": 21,
    "start_time": "2023-02-18T17:22:40.207Z"
   },
   {
    "duration": 695,
    "start_time": "2023-02-18T19:01:13.654Z"
   },
   {
    "duration": 98,
    "start_time": "2023-02-18T19:01:14.350Z"
   },
   {
    "duration": 69,
    "start_time": "2023-02-18T19:01:14.450Z"
   },
   {
    "duration": 38,
    "start_time": "2023-02-18T19:01:14.522Z"
   },
   {
    "duration": 94,
    "start_time": "2023-02-18T19:01:14.562Z"
   },
   {
    "duration": 2584,
    "start_time": "2023-02-18T19:01:14.658Z"
   },
   {
    "duration": 6,
    "start_time": "2023-02-18T19:01:17.245Z"
   },
   {
    "duration": 14,
    "start_time": "2023-02-18T19:01:17.254Z"
   },
   {
    "duration": 8,
    "start_time": "2023-02-18T19:01:17.270Z"
   },
   {
    "duration": 23,
    "start_time": "2023-02-18T19:01:17.281Z"
   },
   {
    "duration": 10,
    "start_time": "2023-02-18T19:01:17.306Z"
   },
   {
    "duration": 87,
    "start_time": "2023-02-18T19:01:17.319Z"
   },
   {
    "duration": 8,
    "start_time": "2023-02-18T19:01:17.408Z"
   },
   {
    "duration": 14,
    "start_time": "2023-02-18T19:01:17.418Z"
   },
   {
    "duration": 23,
    "start_time": "2023-02-18T19:01:17.435Z"
   },
   {
    "duration": 13,
    "start_time": "2023-02-18T19:01:17.460Z"
   },
   {
    "duration": 5,
    "start_time": "2023-02-18T19:01:17.477Z"
   },
   {
    "duration": 27,
    "start_time": "2023-02-18T19:01:17.484Z"
   },
   {
    "duration": 15,
    "start_time": "2023-02-18T19:01:17.513Z"
   },
   {
    "duration": 31,
    "start_time": "2023-02-18T19:01:17.530Z"
   },
   {
    "duration": 14,
    "start_time": "2023-02-18T19:01:17.563Z"
   },
   {
    "duration": 10,
    "start_time": "2023-02-18T19:01:17.579Z"
   },
   {
    "duration": 8,
    "start_time": "2023-02-18T19:01:17.592Z"
   },
   {
    "duration": 24,
    "start_time": "2023-02-18T19:01:17.604Z"
   },
   {
    "duration": 29,
    "start_time": "2023-02-18T19:01:17.631Z"
   },
   {
    "duration": 10,
    "start_time": "2023-02-18T19:01:17.662Z"
   },
   {
    "duration": 21,
    "start_time": "2023-02-18T19:01:17.675Z"
   },
   {
    "duration": 21,
    "start_time": "2023-02-18T19:01:17.702Z"
   },
   {
    "duration": 20,
    "start_time": "2023-02-18T19:01:17.726Z"
   },
   {
    "duration": 34,
    "start_time": "2023-02-18T19:01:17.748Z"
   },
   {
    "duration": 22,
    "start_time": "2023-02-18T19:01:17.785Z"
   },
   {
    "duration": 223,
    "start_time": "2023-02-18T19:01:17.809Z"
   },
   {
    "duration": 34,
    "start_time": "2023-02-18T19:01:18.035Z"
   },
   {
    "duration": 725,
    "start_time": "2023-02-18T19:14:02.586Z"
   },
   {
    "duration": 109,
    "start_time": "2023-02-18T19:14:03.314Z"
   },
   {
    "duration": 61,
    "start_time": "2023-02-18T19:14:03.426Z"
   },
   {
    "duration": 28,
    "start_time": "2023-02-18T19:14:03.490Z"
   },
   {
    "duration": 143,
    "start_time": "2023-02-18T19:14:03.520Z"
   },
   {
    "duration": 2542,
    "start_time": "2023-02-18T19:14:03.665Z"
   },
   {
    "duration": 5,
    "start_time": "2023-02-18T19:14:06.209Z"
   },
   {
    "duration": 14,
    "start_time": "2023-02-18T19:14:06.216Z"
   },
   {
    "duration": 20,
    "start_time": "2023-02-18T19:14:06.233Z"
   },
   {
    "duration": 18,
    "start_time": "2023-02-18T19:14:06.256Z"
   },
   {
    "duration": 10,
    "start_time": "2023-02-18T19:14:06.277Z"
   },
   {
    "duration": 79,
    "start_time": "2023-02-18T19:14:06.289Z"
   },
   {
    "duration": 7,
    "start_time": "2023-02-18T19:14:06.370Z"
   },
   {
    "duration": 13,
    "start_time": "2023-02-18T19:14:06.379Z"
   },
   {
    "duration": 12,
    "start_time": "2023-02-18T19:14:06.394Z"
   },
   {
    "duration": 6,
    "start_time": "2023-02-18T19:14:06.408Z"
   },
   {
    "duration": 40,
    "start_time": "2023-02-18T19:14:06.416Z"
   },
   {
    "duration": 142,
    "start_time": "2023-02-18T19:14:06.458Z"
   },
   {
    "duration": 0,
    "start_time": "2023-02-18T19:14:06.603Z"
   },
   {
    "duration": 0,
    "start_time": "2023-02-18T19:14:06.605Z"
   },
   {
    "duration": 0,
    "start_time": "2023-02-18T19:14:06.607Z"
   },
   {
    "duration": 0,
    "start_time": "2023-02-18T19:14:06.608Z"
   },
   {
    "duration": 0,
    "start_time": "2023-02-18T19:14:06.610Z"
   },
   {
    "duration": 0,
    "start_time": "2023-02-18T19:14:06.611Z"
   },
   {
    "duration": 0,
    "start_time": "2023-02-18T19:14:06.613Z"
   },
   {
    "duration": 0,
    "start_time": "2023-02-18T19:14:06.615Z"
   },
   {
    "duration": 1,
    "start_time": "2023-02-18T19:14:06.616Z"
   },
   {
    "duration": 0,
    "start_time": "2023-02-18T19:14:06.618Z"
   },
   {
    "duration": 0,
    "start_time": "2023-02-18T19:14:06.621Z"
   },
   {
    "duration": 1,
    "start_time": "2023-02-18T19:14:06.652Z"
   },
   {
    "duration": 0,
    "start_time": "2023-02-18T19:14:06.655Z"
   },
   {
    "duration": 0,
    "start_time": "2023-02-18T19:14:06.657Z"
   },
   {
    "duration": 0,
    "start_time": "2023-02-18T19:14:06.659Z"
   },
   {
    "duration": 744,
    "start_time": "2023-02-18T19:14:24.360Z"
   },
   {
    "duration": 149,
    "start_time": "2023-02-18T19:14:25.106Z"
   },
   {
    "duration": 78,
    "start_time": "2023-02-18T19:14:25.258Z"
   },
   {
    "duration": 18,
    "start_time": "2023-02-18T19:14:25.355Z"
   },
   {
    "duration": 121,
    "start_time": "2023-02-18T19:14:25.376Z"
   },
   {
    "duration": 2626,
    "start_time": "2023-02-18T19:14:25.500Z"
   },
   {
    "duration": 5,
    "start_time": "2023-02-18T19:14:28.128Z"
   },
   {
    "duration": 53,
    "start_time": "2023-02-18T19:14:28.135Z"
   },
   {
    "duration": 67,
    "start_time": "2023-02-18T19:14:28.190Z"
   },
   {
    "duration": 79,
    "start_time": "2023-02-18T19:14:28.261Z"
   },
   {
    "duration": 11,
    "start_time": "2023-02-18T19:14:28.343Z"
   },
   {
    "duration": 82,
    "start_time": "2023-02-18T19:14:28.356Z"
   },
   {
    "duration": 8,
    "start_time": "2023-02-18T19:14:28.452Z"
   },
   {
    "duration": 10,
    "start_time": "2023-02-18T19:14:28.463Z"
   },
   {
    "duration": 10,
    "start_time": "2023-02-18T19:14:28.476Z"
   },
   {
    "duration": 22,
    "start_time": "2023-02-18T19:14:28.488Z"
   },
   {
    "duration": 23,
    "start_time": "2023-02-18T19:14:28.512Z"
   },
   {
    "duration": 16,
    "start_time": "2023-02-18T19:14:28.537Z"
   },
   {
    "duration": 18,
    "start_time": "2023-02-18T19:14:28.556Z"
   },
   {
    "duration": 13,
    "start_time": "2023-02-18T19:14:28.577Z"
   },
   {
    "duration": 12,
    "start_time": "2023-02-18T19:14:28.592Z"
   },
   {
    "duration": 14,
    "start_time": "2023-02-18T19:14:28.606Z"
   },
   {
    "duration": 32,
    "start_time": "2023-02-18T19:14:28.623Z"
   },
   {
    "duration": 16,
    "start_time": "2023-02-18T19:14:28.658Z"
   },
   {
    "duration": 6,
    "start_time": "2023-02-18T19:14:28.676Z"
   },
   {
    "duration": 9,
    "start_time": "2023-02-18T19:14:28.685Z"
   },
   {
    "duration": 11,
    "start_time": "2023-02-18T19:14:28.697Z"
   },
   {
    "duration": 7,
    "start_time": "2023-02-18T19:14:28.713Z"
   },
   {
    "duration": 6,
    "start_time": "2023-02-18T19:14:28.722Z"
   },
   {
    "duration": 25,
    "start_time": "2023-02-18T19:14:28.731Z"
   },
   {
    "duration": 20,
    "start_time": "2023-02-18T19:14:28.758Z"
   },
   {
    "duration": 153,
    "start_time": "2023-02-18T19:14:28.780Z"
   },
   {
    "duration": 39,
    "start_time": "2023-02-18T19:14:28.935Z"
   },
   {
    "duration": 8,
    "start_time": "2023-02-18T19:41:48.042Z"
   },
   {
    "duration": 10,
    "start_time": "2023-02-18T19:52:07.117Z"
   },
   {
    "duration": 731,
    "start_time": "2023-02-19T16:14:28.760Z"
   },
   {
    "duration": 352,
    "start_time": "2023-02-19T16:14:29.493Z"
   },
   {
    "duration": 37,
    "start_time": "2023-02-19T16:14:29.846Z"
   },
   {
    "duration": 14,
    "start_time": "2023-02-19T16:14:29.884Z"
   },
   {
    "duration": 84,
    "start_time": "2023-02-19T16:14:29.900Z"
   },
   {
    "duration": 1942,
    "start_time": "2023-02-19T16:14:29.985Z"
   },
   {
    "duration": 4,
    "start_time": "2023-02-19T16:14:31.929Z"
   },
   {
    "duration": 21,
    "start_time": "2023-02-19T16:14:31.934Z"
   },
   {
    "duration": 4,
    "start_time": "2023-02-19T16:14:31.957Z"
   },
   {
    "duration": 9,
    "start_time": "2023-02-19T16:14:31.962Z"
   },
   {
    "duration": 6,
    "start_time": "2023-02-19T16:14:31.972Z"
   },
   {
    "duration": 44,
    "start_time": "2023-02-19T16:14:31.979Z"
   },
   {
    "duration": 4,
    "start_time": "2023-02-19T16:14:32.025Z"
   },
   {
    "duration": 8,
    "start_time": "2023-02-19T16:14:32.049Z"
   },
   {
    "duration": 8,
    "start_time": "2023-02-19T16:14:32.059Z"
   },
   {
    "duration": 43,
    "start_time": "2023-02-19T16:14:32.068Z"
   },
   {
    "duration": 16,
    "start_time": "2023-02-19T16:14:32.113Z"
   },
   {
    "duration": 24,
    "start_time": "2023-02-19T16:14:32.130Z"
   },
   {
    "duration": 42,
    "start_time": "2023-02-19T16:14:32.155Z"
   },
   {
    "duration": 22,
    "start_time": "2023-02-19T16:14:32.198Z"
   },
   {
    "duration": 31,
    "start_time": "2023-02-19T16:14:32.222Z"
   },
   {
    "duration": 16,
    "start_time": "2023-02-19T16:14:32.254Z"
   },
   {
    "duration": 44,
    "start_time": "2023-02-19T16:14:32.272Z"
   },
   {
    "duration": 52,
    "start_time": "2023-02-19T16:14:32.318Z"
   },
   {
    "duration": 112,
    "start_time": "2023-02-19T16:14:32.371Z"
   },
   {
    "duration": 21,
    "start_time": "2023-02-19T16:14:32.485Z"
   },
   {
    "duration": 22,
    "start_time": "2023-02-19T16:14:32.507Z"
   },
   {
    "duration": 39,
    "start_time": "2023-02-19T16:14:32.531Z"
   },
   {
    "duration": 19,
    "start_time": "2023-02-19T16:14:32.571Z"
   },
   {
    "duration": 9,
    "start_time": "2023-02-19T16:14:32.592Z"
   },
   {
    "duration": 17,
    "start_time": "2023-02-19T16:14:32.603Z"
   },
   {
    "duration": 27,
    "start_time": "2023-02-19T16:14:32.622Z"
   },
   {
    "duration": 122,
    "start_time": "2023-02-19T16:14:32.650Z"
   },
   {
    "duration": 15,
    "start_time": "2023-02-19T16:14:32.774Z"
   },
   {
    "duration": 7,
    "start_time": "2023-02-19T16:15:49.771Z"
   },
   {
    "duration": 85,
    "start_time": "2023-02-19T16:27:39.514Z"
   },
   {
    "duration": 8,
    "start_time": "2023-02-19T16:27:48.026Z"
   },
   {
    "duration": 5,
    "start_time": "2023-02-19T16:28:24.922Z"
   },
   {
    "duration": 8,
    "start_time": "2023-02-19T16:28:43.682Z"
   },
   {
    "duration": 9,
    "start_time": "2023-02-19T16:29:49.660Z"
   },
   {
    "duration": 6,
    "start_time": "2023-02-19T16:30:08.258Z"
   },
   {
    "duration": 4,
    "start_time": "2023-02-19T16:30:42.465Z"
   },
   {
    "duration": 7,
    "start_time": "2023-02-19T16:31:02.151Z"
   },
   {
    "duration": 9,
    "start_time": "2023-02-19T16:31:22.210Z"
   },
   {
    "duration": 68,
    "start_time": "2023-02-19T16:32:40.669Z"
   },
   {
    "duration": 86,
    "start_time": "2023-02-19T16:32:48.610Z"
   },
   {
    "duration": 83,
    "start_time": "2023-02-19T16:36:05.657Z"
   },
   {
    "duration": 81,
    "start_time": "2023-02-19T16:36:18.130Z"
   },
   {
    "duration": 81,
    "start_time": "2023-02-19T16:36:23.316Z"
   },
   {
    "duration": 80,
    "start_time": "2023-02-19T16:36:33.282Z"
   },
   {
    "duration": 158,
    "start_time": "2023-02-19T16:36:40.274Z"
   },
   {
    "duration": 85,
    "start_time": "2023-02-19T16:36:59.594Z"
   },
   {
    "duration": 1140,
    "start_time": "2023-02-19T16:42:26.826Z"
   },
   {
    "duration": 6,
    "start_time": "2023-02-19T16:42:38.339Z"
   },
   {
    "duration": 100,
    "start_time": "2023-02-19T16:43:32.314Z"
   },
   {
    "duration": 101,
    "start_time": "2023-02-19T16:43:42.114Z"
   },
   {
    "duration": 98,
    "start_time": "2023-02-19T16:43:52.054Z"
   },
   {
    "duration": 87,
    "start_time": "2023-02-19T16:44:00.266Z"
   },
   {
    "duration": 10,
    "start_time": "2023-02-19T16:54:15.426Z"
   },
   {
    "duration": 8,
    "start_time": "2023-02-19T16:54:25.771Z"
   },
   {
    "duration": 7,
    "start_time": "2023-02-19T16:55:25.611Z"
   },
   {
    "duration": 7,
    "start_time": "2023-02-19T16:55:41.658Z"
   },
   {
    "duration": 6,
    "start_time": "2023-02-19T16:55:52.858Z"
   },
   {
    "duration": 12,
    "start_time": "2023-02-19T16:55:59.858Z"
   },
   {
    "duration": 7,
    "start_time": "2023-02-19T16:56:16.562Z"
   },
   {
    "duration": 17,
    "start_time": "2023-02-19T16:56:27.203Z"
   },
   {
    "duration": 13,
    "start_time": "2023-02-19T16:56:40.923Z"
   },
   {
    "duration": 7,
    "start_time": "2023-02-19T16:56:45.819Z"
   },
   {
    "duration": 6,
    "start_time": "2023-02-19T16:56:52.882Z"
   },
   {
    "duration": 79,
    "start_time": "2023-02-19T16:57:22.259Z"
   },
   {
    "duration": 22,
    "start_time": "2023-02-19T16:57:27.803Z"
   },
   {
    "duration": 197,
    "start_time": "2023-02-19T16:58:31.289Z"
   },
   {
    "duration": 6,
    "start_time": "2023-02-19T16:58:37.139Z"
   },
   {
    "duration": 8,
    "start_time": "2023-02-19T17:41:21.033Z"
   },
   {
    "duration": 7,
    "start_time": "2023-02-19T17:41:31.160Z"
   },
   {
    "duration": 9,
    "start_time": "2023-02-19T17:41:51.569Z"
   },
   {
    "duration": 7,
    "start_time": "2023-02-19T17:42:00.865Z"
   },
   {
    "duration": 6,
    "start_time": "2023-02-19T17:42:01.417Z"
   },
   {
    "duration": 221,
    "start_time": "2023-02-19T17:42:22.721Z"
   },
   {
    "duration": 6,
    "start_time": "2023-02-19T17:42:23.417Z"
   },
   {
    "duration": 7,
    "start_time": "2023-02-19T17:42:29.809Z"
   },
   {
    "duration": 6,
    "start_time": "2023-02-19T17:42:49.658Z"
   },
   {
    "duration": 7,
    "start_time": "2023-02-19T17:42:50.201Z"
   },
   {
    "duration": 6,
    "start_time": "2023-02-19T17:47:10.362Z"
   },
   {
    "duration": 60,
    "start_time": "2023-02-19T17:51:23.753Z"
   },
   {
    "duration": 6,
    "start_time": "2023-02-19T17:51:58.465Z"
   },
   {
    "duration": 10,
    "start_time": "2023-02-19T17:52:17.896Z"
   },
   {
    "duration": 5,
    "start_time": "2023-02-19T17:52:20.081Z"
   },
   {
    "duration": 9,
    "start_time": "2023-02-19T17:52:53.337Z"
   },
   {
    "duration": 7,
    "start_time": "2023-02-19T17:52:53.994Z"
   },
   {
    "duration": 6,
    "start_time": "2023-02-19T17:54:08.041Z"
   },
   {
    "duration": 9,
    "start_time": "2023-02-19T17:54:09.009Z"
   },
   {
    "duration": 10,
    "start_time": "2023-02-19T17:54:10.073Z"
   },
   {
    "duration": 7,
    "start_time": "2023-02-19T17:54:11.130Z"
   },
   {
    "duration": 7,
    "start_time": "2023-02-19T17:54:39.001Z"
   },
   {
    "duration": 9,
    "start_time": "2023-02-19T19:07:24.027Z"
   },
   {
    "duration": 7,
    "start_time": "2023-02-19T19:11:00.612Z"
   },
   {
    "duration": 9,
    "start_time": "2023-02-19T19:11:01.427Z"
   },
   {
    "duration": 12,
    "start_time": "2023-02-19T19:11:12.805Z"
   },
   {
    "duration": 3,
    "start_time": "2023-02-19T19:11:13.539Z"
   },
   {
    "duration": 10,
    "start_time": "2023-02-19T19:11:14.188Z"
   },
   {
    "duration": 560,
    "start_time": "2023-02-19T19:11:46.781Z"
   },
   {
    "duration": 91,
    "start_time": "2023-02-19T19:11:47.342Z"
   },
   {
    "duration": 35,
    "start_time": "2023-02-19T19:11:47.435Z"
   },
   {
    "duration": 12,
    "start_time": "2023-02-19T19:11:47.472Z"
   },
   {
    "duration": 72,
    "start_time": "2023-02-19T19:11:47.486Z"
   },
   {
    "duration": 1951,
    "start_time": "2023-02-19T19:11:47.560Z"
   },
   {
    "duration": 4,
    "start_time": "2023-02-19T19:11:49.512Z"
   },
   {
    "duration": 102,
    "start_time": "2023-02-19T19:11:49.518Z"
   },
   {
    "duration": 94,
    "start_time": "2023-02-19T19:11:49.621Z"
   },
   {
    "duration": 23,
    "start_time": "2023-02-19T19:11:49.717Z"
   },
   {
    "duration": 21,
    "start_time": "2023-02-19T19:11:49.741Z"
   },
   {
    "duration": 52,
    "start_time": "2023-02-19T19:11:49.763Z"
   },
   {
    "duration": 4,
    "start_time": "2023-02-19T19:11:49.816Z"
   },
   {
    "duration": 7,
    "start_time": "2023-02-19T19:11:49.822Z"
   },
   {
    "duration": 18,
    "start_time": "2023-02-19T19:11:49.830Z"
   },
   {
    "duration": 5,
    "start_time": "2023-02-19T19:11:49.849Z"
   },
   {
    "duration": 5,
    "start_time": "2023-02-19T19:11:49.856Z"
   },
   {
    "duration": 11,
    "start_time": "2023-02-19T19:11:49.862Z"
   },
   {
    "duration": 24,
    "start_time": "2023-02-19T19:11:49.874Z"
   },
   {
    "duration": 18,
    "start_time": "2023-02-19T19:11:49.899Z"
   },
   {
    "duration": 22,
    "start_time": "2023-02-19T19:11:49.918Z"
   },
   {
    "duration": 10,
    "start_time": "2023-02-19T19:11:49.941Z"
   },
   {
    "duration": 16,
    "start_time": "2023-02-19T19:11:49.952Z"
   },
   {
    "duration": 13,
    "start_time": "2023-02-19T19:11:49.970Z"
   },
   {
    "duration": 12,
    "start_time": "2023-02-19T19:11:49.985Z"
   },
   {
    "duration": 9,
    "start_time": "2023-02-19T19:11:49.999Z"
   },
   {
    "duration": 8,
    "start_time": "2023-02-19T19:11:50.010Z"
   },
   {
    "duration": 4,
    "start_time": "2023-02-19T19:11:50.022Z"
   },
   {
    "duration": 21,
    "start_time": "2023-02-19T19:11:50.027Z"
   },
   {
    "duration": 9,
    "start_time": "2023-02-19T19:11:50.050Z"
   },
   {
    "duration": 34,
    "start_time": "2023-02-19T19:11:50.060Z"
   },
   {
    "duration": 17,
    "start_time": "2023-02-19T19:11:50.096Z"
   },
   {
    "duration": 4,
    "start_time": "2023-02-19T19:11:50.115Z"
   },
   {
    "duration": 13,
    "start_time": "2023-02-19T19:11:50.122Z"
   },
   {
    "duration": 15,
    "start_time": "2023-02-19T19:11:50.136Z"
   },
   {
    "duration": 8,
    "start_time": "2023-02-19T19:11:50.153Z"
   },
   {
    "duration": 109,
    "start_time": "2023-02-19T19:11:50.162Z"
   },
   {
    "duration": 16,
    "start_time": "2023-02-19T19:11:50.273Z"
   },
   {
    "duration": 8,
    "start_time": "2023-02-19T19:12:24.539Z"
   },
   {
    "duration": 8,
    "start_time": "2023-02-19T19:12:48.843Z"
   },
   {
    "duration": 7,
    "start_time": "2023-02-19T19:19:45.340Z"
   },
   {
    "duration": 7,
    "start_time": "2023-02-19T19:19:58.558Z"
   },
   {
    "duration": 6,
    "start_time": "2023-02-19T19:20:24.700Z"
   },
   {
    "duration": 7,
    "start_time": "2023-02-19T19:20:45.020Z"
   },
   {
    "duration": 8,
    "start_time": "2023-02-19T19:20:56.404Z"
   },
   {
    "duration": 629,
    "start_time": "2023-02-19T19:21:17.461Z"
   },
   {
    "duration": 96,
    "start_time": "2023-02-19T19:21:18.092Z"
   },
   {
    "duration": 37,
    "start_time": "2023-02-19T19:21:18.190Z"
   },
   {
    "duration": 25,
    "start_time": "2023-02-19T19:21:18.228Z"
   },
   {
    "duration": 65,
    "start_time": "2023-02-19T19:21:18.256Z"
   },
   {
    "duration": 2136,
    "start_time": "2023-02-19T19:21:18.322Z"
   },
   {
    "duration": 5,
    "start_time": "2023-02-19T19:21:20.460Z"
   },
   {
    "duration": 10,
    "start_time": "2023-02-19T19:21:20.466Z"
   },
   {
    "duration": 6,
    "start_time": "2023-02-19T19:21:20.477Z"
   },
   {
    "duration": 10,
    "start_time": "2023-02-19T19:21:20.485Z"
   },
   {
    "duration": 5,
    "start_time": "2023-02-19T19:21:20.496Z"
   },
   {
    "duration": 65,
    "start_time": "2023-02-19T19:21:20.502Z"
   },
   {
    "duration": 5,
    "start_time": "2023-02-19T19:21:20.568Z"
   },
   {
    "duration": 6,
    "start_time": "2023-02-19T19:21:20.576Z"
   },
   {
    "duration": 9,
    "start_time": "2023-02-19T19:21:20.584Z"
   },
   {
    "duration": 6,
    "start_time": "2023-02-19T19:21:20.594Z"
   },
   {
    "duration": 7,
    "start_time": "2023-02-19T19:21:20.601Z"
   },
   {
    "duration": 16,
    "start_time": "2023-02-19T19:21:20.609Z"
   },
   {
    "duration": 26,
    "start_time": "2023-02-19T19:21:20.626Z"
   },
   {
    "duration": 22,
    "start_time": "2023-02-19T19:21:20.654Z"
   },
   {
    "duration": 7,
    "start_time": "2023-02-19T19:21:20.677Z"
   },
   {
    "duration": 5,
    "start_time": "2023-02-19T19:21:20.685Z"
   },
   {
    "duration": 9,
    "start_time": "2023-02-19T19:21:20.691Z"
   },
   {
    "duration": 8,
    "start_time": "2023-02-19T19:21:20.701Z"
   },
   {
    "duration": 7,
    "start_time": "2023-02-19T19:21:20.711Z"
   },
   {
    "duration": 7,
    "start_time": "2023-02-19T19:21:20.719Z"
   },
   {
    "duration": 21,
    "start_time": "2023-02-19T19:21:20.728Z"
   },
   {
    "duration": 21,
    "start_time": "2023-02-19T19:21:20.751Z"
   },
   {
    "duration": 7,
    "start_time": "2023-02-19T19:21:20.774Z"
   },
   {
    "duration": 24,
    "start_time": "2023-02-19T19:21:20.782Z"
   },
   {
    "duration": 28,
    "start_time": "2023-02-19T19:21:20.808Z"
   },
   {
    "duration": 33,
    "start_time": "2023-02-19T19:21:20.838Z"
   },
   {
    "duration": 20,
    "start_time": "2023-02-19T19:21:20.872Z"
   },
   {
    "duration": 10,
    "start_time": "2023-02-19T19:21:20.893Z"
   },
   {
    "duration": 15,
    "start_time": "2023-02-19T19:21:20.905Z"
   },
   {
    "duration": 8,
    "start_time": "2023-02-19T19:21:20.922Z"
   },
   {
    "duration": 117,
    "start_time": "2023-02-19T19:21:20.932Z"
   },
   {
    "duration": 23,
    "start_time": "2023-02-19T19:21:21.051Z"
   },
   {
    "duration": 5,
    "start_time": "2023-02-19T19:21:57.545Z"
   },
   {
    "duration": 8,
    "start_time": "2023-02-19T19:21:58.163Z"
   },
   {
    "duration": 64,
    "start_time": "2023-02-19T19:22:08.507Z"
   },
   {
    "duration": 4,
    "start_time": "2023-02-19T19:23:05.189Z"
   },
   {
    "duration": 9,
    "start_time": "2023-02-19T19:23:06.003Z"
   },
   {
    "duration": 4,
    "start_time": "2023-02-19T19:24:52.450Z"
   },
   {
    "duration": 9,
    "start_time": "2023-02-19T19:24:53.105Z"
   },
   {
    "duration": 1170,
    "start_time": "2023-02-19T19:25:14.042Z"
   },
   {
    "duration": 0,
    "start_time": "2023-02-19T19:25:15.214Z"
   },
   {
    "duration": 8,
    "start_time": "2023-02-19T19:25:28.212Z"
   },
   {
    "duration": 7,
    "start_time": "2023-02-19T19:25:31.709Z"
   },
   {
    "duration": 5,
    "start_time": "2023-02-19T19:25:47.161Z"
   },
   {
    "duration": 8,
    "start_time": "2023-02-19T19:25:48.687Z"
   },
   {
    "duration": 91,
    "start_time": "2023-02-19T19:37:30.014Z"
   },
   {
    "duration": 80,
    "start_time": "2023-02-19T19:54:18.357Z"
   },
   {
    "duration": 8,
    "start_time": "2023-02-19T20:13:35.429Z"
   },
   {
    "duration": 6,
    "start_time": "2023-02-19T20:13:51.629Z"
   },
   {
    "duration": 8,
    "start_time": "2023-02-19T20:13:53.526Z"
   },
   {
    "duration": 576,
    "start_time": "2023-02-19T20:14:03.169Z"
   },
   {
    "duration": 89,
    "start_time": "2023-02-19T20:14:03.747Z"
   },
   {
    "duration": 37,
    "start_time": "2023-02-19T20:14:03.837Z"
   },
   {
    "duration": 13,
    "start_time": "2023-02-19T20:14:03.876Z"
   },
   {
    "duration": 82,
    "start_time": "2023-02-19T20:14:03.890Z"
   },
   {
    "duration": 2045,
    "start_time": "2023-02-19T20:14:03.973Z"
   },
   {
    "duration": 4,
    "start_time": "2023-02-19T20:14:06.020Z"
   },
   {
    "duration": 9,
    "start_time": "2023-02-19T20:14:06.026Z"
   },
   {
    "duration": 6,
    "start_time": "2023-02-19T20:14:06.037Z"
   },
   {
    "duration": 13,
    "start_time": "2023-02-19T20:14:06.045Z"
   },
   {
    "duration": 6,
    "start_time": "2023-02-19T20:14:06.059Z"
   },
   {
    "duration": 47,
    "start_time": "2023-02-19T20:14:06.066Z"
   },
   {
    "duration": 4,
    "start_time": "2023-02-19T20:14:06.115Z"
   },
   {
    "duration": 5,
    "start_time": "2023-02-19T20:14:06.121Z"
   },
   {
    "duration": 23,
    "start_time": "2023-02-19T20:14:06.128Z"
   },
   {
    "duration": 5,
    "start_time": "2023-02-19T20:14:06.152Z"
   },
   {
    "duration": 5,
    "start_time": "2023-02-19T20:14:06.158Z"
   },
   {
    "duration": 9,
    "start_time": "2023-02-19T20:14:06.164Z"
   },
   {
    "duration": 8,
    "start_time": "2023-02-19T20:14:06.174Z"
   },
   {
    "duration": 10,
    "start_time": "2023-02-19T20:14:06.184Z"
   },
   {
    "duration": 4,
    "start_time": "2023-02-19T20:14:06.195Z"
   },
   {
    "duration": 4,
    "start_time": "2023-02-19T20:14:06.201Z"
   },
   {
    "duration": 12,
    "start_time": "2023-02-19T20:14:06.206Z"
   },
   {
    "duration": 29,
    "start_time": "2023-02-19T20:14:06.219Z"
   },
   {
    "duration": 7,
    "start_time": "2023-02-19T20:14:06.249Z"
   },
   {
    "duration": 7,
    "start_time": "2023-02-19T20:14:06.257Z"
   },
   {
    "duration": 5,
    "start_time": "2023-02-19T20:14:06.266Z"
   },
   {
    "duration": 3,
    "start_time": "2023-02-19T20:14:06.274Z"
   },
   {
    "duration": 8,
    "start_time": "2023-02-19T20:14:06.278Z"
   },
   {
    "duration": 5,
    "start_time": "2023-02-19T20:14:06.287Z"
   },
   {
    "duration": 5,
    "start_time": "2023-02-19T20:14:06.293Z"
   },
   {
    "duration": 5,
    "start_time": "2023-02-19T20:14:06.300Z"
   },
   {
    "duration": 5,
    "start_time": "2023-02-19T20:14:06.306Z"
   },
   {
    "duration": 5,
    "start_time": "2023-02-19T20:14:06.312Z"
   },
   {
    "duration": 29,
    "start_time": "2023-02-19T20:14:06.319Z"
   },
   {
    "duration": 4,
    "start_time": "2023-02-19T20:14:06.349Z"
   },
   {
    "duration": 111,
    "start_time": "2023-02-19T20:14:06.355Z"
   },
   {
    "duration": 19,
    "start_time": "2023-02-19T20:14:06.472Z"
   },
   {
    "duration": 7,
    "start_time": "2023-02-19T20:14:21.229Z"
   },
   {
    "duration": 11,
    "start_time": "2023-02-19T20:14:21.885Z"
   },
   {
    "duration": 5,
    "start_time": "2023-02-19T20:14:50.725Z"
   },
   {
    "duration": 8,
    "start_time": "2023-02-19T20:14:51.533Z"
   },
   {
    "duration": 643,
    "start_time": "2023-02-19T20:27:24.073Z"
   },
   {
    "duration": 101,
    "start_time": "2023-02-19T20:27:24.718Z"
   },
   {
    "duration": 42,
    "start_time": "2023-02-19T20:27:24.820Z"
   },
   {
    "duration": 14,
    "start_time": "2023-02-19T20:27:24.864Z"
   },
   {
    "duration": 111,
    "start_time": "2023-02-19T20:27:24.880Z"
   },
   {
    "duration": 2690,
    "start_time": "2023-02-19T20:27:24.993Z"
   },
   {
    "duration": 5,
    "start_time": "2023-02-19T20:27:27.686Z"
   },
   {
    "duration": 20,
    "start_time": "2023-02-19T20:27:27.693Z"
   },
   {
    "duration": 8,
    "start_time": "2023-02-19T20:27:27.715Z"
   },
   {
    "duration": 18,
    "start_time": "2023-02-19T20:27:27.726Z"
   },
   {
    "duration": 7,
    "start_time": "2023-02-19T20:27:27.746Z"
   },
   {
    "duration": 59,
    "start_time": "2023-02-19T20:27:27.755Z"
   },
   {
    "duration": 5,
    "start_time": "2023-02-19T20:27:27.816Z"
   },
   {
    "duration": 25,
    "start_time": "2023-02-19T20:27:27.823Z"
   },
   {
    "duration": 9,
    "start_time": "2023-02-19T20:27:27.850Z"
   },
   {
    "duration": 11,
    "start_time": "2023-02-19T20:27:27.862Z"
   },
   {
    "duration": 11,
    "start_time": "2023-02-19T20:27:27.875Z"
   },
   {
    "duration": 21,
    "start_time": "2023-02-19T20:27:27.890Z"
   },
   {
    "duration": 7,
    "start_time": "2023-02-19T20:27:27.917Z"
   },
   {
    "duration": 11,
    "start_time": "2023-02-19T20:27:27.926Z"
   },
   {
    "duration": 12,
    "start_time": "2023-02-19T20:27:27.949Z"
   },
   {
    "duration": 7,
    "start_time": "2023-02-19T20:27:27.964Z"
   },
   {
    "duration": 14,
    "start_time": "2023-02-19T20:27:27.973Z"
   },
   {
    "duration": 13,
    "start_time": "2023-02-19T20:27:27.989Z"
   },
   {
    "duration": 10,
    "start_time": "2023-02-19T20:27:28.005Z"
   },
   {
    "duration": 32,
    "start_time": "2023-02-19T20:27:28.017Z"
   },
   {
    "duration": 5,
    "start_time": "2023-02-19T20:27:28.051Z"
   },
   {
    "duration": 8,
    "start_time": "2023-02-19T20:27:28.059Z"
   },
   {
    "duration": 13,
    "start_time": "2023-02-19T20:27:28.069Z"
   },
   {
    "duration": 14,
    "start_time": "2023-02-19T20:27:28.083Z"
   },
   {
    "duration": 10,
    "start_time": "2023-02-19T20:27:28.099Z"
   },
   {
    "duration": 7,
    "start_time": "2023-02-19T20:27:28.111Z"
   },
   {
    "duration": 6,
    "start_time": "2023-02-19T20:27:28.120Z"
   },
   {
    "duration": 20,
    "start_time": "2023-02-19T20:27:28.128Z"
   },
   {
    "duration": 6,
    "start_time": "2023-02-19T20:27:28.150Z"
   },
   {
    "duration": 8,
    "start_time": "2023-02-19T20:27:28.157Z"
   },
   {
    "duration": 135,
    "start_time": "2023-02-19T20:27:28.167Z"
   },
   {
    "duration": 21,
    "start_time": "2023-02-19T20:27:28.304Z"
   },
   {
    "duration": 8,
    "start_time": "2023-02-19T20:27:51.976Z"
   },
   {
    "duration": 9,
    "start_time": "2023-02-19T20:28:04.017Z"
   },
   {
    "duration": 106,
    "start_time": "2023-02-19T20:29:15.544Z"
   },
   {
    "duration": 77,
    "start_time": "2023-02-19T20:29:25.402Z"
   },
   {
    "duration": 5,
    "start_time": "2023-02-19T20:29:47.784Z"
   },
   {
    "duration": 9,
    "start_time": "2023-02-19T20:29:48.728Z"
   },
   {
    "duration": 5,
    "start_time": "2023-02-19T20:30:15.944Z"
   },
   {
    "duration": 9,
    "start_time": "2023-02-19T20:30:16.744Z"
   },
   {
    "duration": 641,
    "start_time": "2023-02-19T20:30:23.476Z"
   },
   {
    "duration": 100,
    "start_time": "2023-02-19T20:30:24.119Z"
   },
   {
    "duration": 41,
    "start_time": "2023-02-19T20:30:24.221Z"
   },
   {
    "duration": 13,
    "start_time": "2023-02-19T20:30:24.265Z"
   },
   {
    "duration": 106,
    "start_time": "2023-02-19T20:30:24.280Z"
   },
   {
    "duration": 2186,
    "start_time": "2023-02-19T20:30:24.387Z"
   },
   {
    "duration": 5,
    "start_time": "2023-02-19T20:30:26.576Z"
   },
   {
    "duration": 24,
    "start_time": "2023-02-19T20:30:26.582Z"
   },
   {
    "duration": 8,
    "start_time": "2023-02-19T20:30:26.608Z"
   },
   {
    "duration": 13,
    "start_time": "2023-02-19T20:30:26.618Z"
   },
   {
    "duration": 12,
    "start_time": "2023-02-19T20:30:26.632Z"
   },
   {
    "duration": 51,
    "start_time": "2023-02-19T20:30:26.645Z"
   },
   {
    "duration": 4,
    "start_time": "2023-02-19T20:30:26.699Z"
   },
   {
    "duration": 19,
    "start_time": "2023-02-19T20:30:26.705Z"
   },
   {
    "duration": 14,
    "start_time": "2023-02-19T20:30:26.726Z"
   },
   {
    "duration": 6,
    "start_time": "2023-02-19T20:30:26.742Z"
   },
   {
    "duration": 6,
    "start_time": "2023-02-19T20:30:26.749Z"
   },
   {
    "duration": 11,
    "start_time": "2023-02-19T20:30:26.758Z"
   },
   {
    "duration": 39,
    "start_time": "2023-02-19T20:30:26.771Z"
   },
   {
    "duration": 9,
    "start_time": "2023-02-19T20:30:26.812Z"
   },
   {
    "duration": 7,
    "start_time": "2023-02-19T20:30:26.823Z"
   },
   {
    "duration": 6,
    "start_time": "2023-02-19T20:30:26.832Z"
   },
   {
    "duration": 16,
    "start_time": "2023-02-19T20:30:26.839Z"
   },
   {
    "duration": 11,
    "start_time": "2023-02-19T20:30:26.857Z"
   },
   {
    "duration": 27,
    "start_time": "2023-02-19T20:30:26.870Z"
   },
   {
    "duration": 17,
    "start_time": "2023-02-19T20:30:26.899Z"
   },
   {
    "duration": 13,
    "start_time": "2023-02-19T20:30:26.917Z"
   },
   {
    "duration": 9,
    "start_time": "2023-02-19T20:30:26.933Z"
   },
   {
    "duration": 42,
    "start_time": "2023-02-19T20:30:26.943Z"
   },
   {
    "duration": 70,
    "start_time": "2023-02-19T20:30:26.987Z"
   },
   {
    "duration": 16,
    "start_time": "2023-02-19T20:30:27.060Z"
   },
   {
    "duration": 9,
    "start_time": "2023-02-19T20:30:27.078Z"
   },
   {
    "duration": 6,
    "start_time": "2023-02-19T20:30:27.089Z"
   },
   {
    "duration": 36,
    "start_time": "2023-02-19T20:30:27.097Z"
   },
   {
    "duration": 29,
    "start_time": "2023-02-19T20:30:27.134Z"
   },
   {
    "duration": 14,
    "start_time": "2023-02-19T20:30:27.165Z"
   },
   {
    "duration": 126,
    "start_time": "2023-02-19T20:30:27.181Z"
   },
   {
    "duration": 26,
    "start_time": "2023-02-19T20:30:27.310Z"
   },
   {
    "duration": 76,
    "start_time": "2023-02-19T20:32:50.635Z"
   },
   {
    "duration": 6,
    "start_time": "2023-02-19T20:33:13.167Z"
   },
   {
    "duration": 8,
    "start_time": "2023-02-19T20:33:14.418Z"
   },
   {
    "duration": 657,
    "start_time": "2023-02-19T21:50:08.845Z"
   },
   {
    "duration": 91,
    "start_time": "2023-02-19T21:50:09.504Z"
   },
   {
    "duration": 38,
    "start_time": "2023-02-19T21:50:09.596Z"
   },
   {
    "duration": 24,
    "start_time": "2023-02-19T21:50:09.636Z"
   },
   {
    "duration": 64,
    "start_time": "2023-02-19T21:50:09.661Z"
   },
   {
    "duration": 1924,
    "start_time": "2023-02-19T21:50:09.727Z"
   },
   {
    "duration": 5,
    "start_time": "2023-02-19T21:50:11.652Z"
   },
   {
    "duration": 33,
    "start_time": "2023-02-19T21:50:11.658Z"
   },
   {
    "duration": 37,
    "start_time": "2023-02-19T21:50:11.692Z"
   },
   {
    "duration": 36,
    "start_time": "2023-02-19T21:50:11.731Z"
   },
   {
    "duration": 8,
    "start_time": "2023-02-19T21:50:11.768Z"
   },
   {
    "duration": 93,
    "start_time": "2023-02-19T21:50:11.777Z"
   },
   {
    "duration": 5,
    "start_time": "2023-02-19T21:50:11.872Z"
   },
   {
    "duration": 25,
    "start_time": "2023-02-19T21:50:11.878Z"
   },
   {
    "duration": 44,
    "start_time": "2023-02-19T21:50:11.904Z"
   },
   {
    "duration": 24,
    "start_time": "2023-02-19T21:50:11.950Z"
   },
   {
    "duration": 33,
    "start_time": "2023-02-19T21:50:11.975Z"
   },
   {
    "duration": 19,
    "start_time": "2023-02-19T21:50:12.010Z"
   },
   {
    "duration": 36,
    "start_time": "2023-02-19T21:50:12.031Z"
   },
   {
    "duration": 35,
    "start_time": "2023-02-19T21:50:12.069Z"
   },
   {
    "duration": 23,
    "start_time": "2023-02-19T21:50:12.106Z"
   },
   {
    "duration": 28,
    "start_time": "2023-02-19T21:50:12.131Z"
   },
   {
    "duration": 25,
    "start_time": "2023-02-19T21:50:12.161Z"
   },
   {
    "duration": 36,
    "start_time": "2023-02-19T21:50:12.187Z"
   },
   {
    "duration": 15,
    "start_time": "2023-02-19T21:50:12.224Z"
   },
   {
    "duration": 34,
    "start_time": "2023-02-19T21:50:12.240Z"
   },
   {
    "duration": 26,
    "start_time": "2023-02-19T21:50:12.275Z"
   },
   {
    "duration": 7,
    "start_time": "2023-02-19T21:50:12.304Z"
   },
   {
    "duration": 32,
    "start_time": "2023-02-19T21:50:12.312Z"
   },
   {
    "duration": 17,
    "start_time": "2023-02-19T21:50:12.346Z"
   },
   {
    "duration": 30,
    "start_time": "2023-02-19T21:50:12.364Z"
   },
   {
    "duration": 21,
    "start_time": "2023-02-19T21:50:12.395Z"
   },
   {
    "duration": 21,
    "start_time": "2023-02-19T21:50:12.418Z"
   },
   {
    "duration": 23,
    "start_time": "2023-02-19T21:50:12.441Z"
   },
   {
    "duration": 27,
    "start_time": "2023-02-19T21:50:12.466Z"
   },
   {
    "duration": 11,
    "start_time": "2023-02-19T21:50:12.495Z"
   },
   {
    "duration": 126,
    "start_time": "2023-02-19T21:50:12.507Z"
   },
   {
    "duration": 24,
    "start_time": "2023-02-19T21:50:12.634Z"
   },
   {
    "duration": 613,
    "start_time": "2023-02-19T21:53:35.278Z"
   },
   {
    "duration": 103,
    "start_time": "2023-02-19T21:53:35.894Z"
   },
   {
    "duration": 50,
    "start_time": "2023-02-19T21:53:36.002Z"
   },
   {
    "duration": 16,
    "start_time": "2023-02-19T21:53:36.053Z"
   },
   {
    "duration": 95,
    "start_time": "2023-02-19T21:53:36.070Z"
   },
   {
    "duration": 2232,
    "start_time": "2023-02-19T21:53:36.167Z"
   },
   {
    "duration": 5,
    "start_time": "2023-02-19T21:53:38.401Z"
   },
   {
    "duration": 8,
    "start_time": "2023-02-19T21:53:38.408Z"
   },
   {
    "duration": 4,
    "start_time": "2023-02-19T21:53:38.418Z"
   },
   {
    "duration": 11,
    "start_time": "2023-02-19T21:53:38.424Z"
   },
   {
    "duration": 6,
    "start_time": "2023-02-19T21:53:38.437Z"
   },
   {
    "duration": 56,
    "start_time": "2023-02-19T21:53:38.444Z"
   },
   {
    "duration": 5,
    "start_time": "2023-02-19T21:53:38.501Z"
   },
   {
    "duration": 8,
    "start_time": "2023-02-19T21:53:38.507Z"
   },
   {
    "duration": 8,
    "start_time": "2023-02-19T21:53:38.516Z"
   },
   {
    "duration": 23,
    "start_time": "2023-02-19T21:53:38.525Z"
   },
   {
    "duration": 6,
    "start_time": "2023-02-19T21:53:38.549Z"
   },
   {
    "duration": 14,
    "start_time": "2023-02-19T21:53:38.556Z"
   },
   {
    "duration": 5,
    "start_time": "2023-02-19T21:53:38.571Z"
   },
   {
    "duration": 53,
    "start_time": "2023-02-19T21:53:38.577Z"
   },
   {
    "duration": 5,
    "start_time": "2023-02-19T21:53:38.631Z"
   },
   {
    "duration": 5,
    "start_time": "2023-02-19T21:53:38.638Z"
   },
   {
    "duration": 10,
    "start_time": "2023-02-19T21:53:38.645Z"
   },
   {
    "duration": 12,
    "start_time": "2023-02-19T21:53:38.657Z"
   },
   {
    "duration": 16,
    "start_time": "2023-02-19T21:53:38.671Z"
   },
   {
    "duration": 27,
    "start_time": "2023-02-19T21:53:38.689Z"
   },
   {
    "duration": 19,
    "start_time": "2023-02-19T21:53:38.719Z"
   },
   {
    "duration": 9,
    "start_time": "2023-02-19T21:53:38.740Z"
   },
   {
    "duration": 9,
    "start_time": "2023-02-19T21:53:38.751Z"
   },
   {
    "duration": 8,
    "start_time": "2023-02-19T21:53:38.762Z"
   },
   {
    "duration": 9,
    "start_time": "2023-02-19T21:53:38.771Z"
   },
   {
    "duration": 7,
    "start_time": "2023-02-19T21:53:38.782Z"
   },
   {
    "duration": 5,
    "start_time": "2023-02-19T21:53:38.790Z"
   },
   {
    "duration": 6,
    "start_time": "2023-02-19T21:53:38.797Z"
   },
   {
    "duration": 10,
    "start_time": "2023-02-19T21:53:38.805Z"
   },
   {
    "duration": 7,
    "start_time": "2023-02-19T21:53:38.817Z"
   },
   {
    "duration": 129,
    "start_time": "2023-02-19T21:53:38.825Z"
   },
   {
    "duration": 19,
    "start_time": "2023-02-19T21:53:38.956Z"
   },
   {
    "duration": 5,
    "start_time": "2023-02-19T21:55:28.793Z"
   },
   {
    "duration": 9,
    "start_time": "2023-02-19T21:55:29.473Z"
   },
   {
    "duration": 5,
    "start_time": "2023-02-19T21:55:40.449Z"
   },
   {
    "duration": 9,
    "start_time": "2023-02-19T21:55:41.456Z"
   },
   {
    "duration": 612,
    "start_time": "2023-02-19T21:56:17.987Z"
   },
   {
    "duration": 104,
    "start_time": "2023-02-19T21:56:18.600Z"
   },
   {
    "duration": 38,
    "start_time": "2023-02-19T21:56:18.706Z"
   },
   {
    "duration": 21,
    "start_time": "2023-02-19T21:56:18.747Z"
   },
   {
    "duration": 69,
    "start_time": "2023-02-19T21:56:18.769Z"
   },
   {
    "duration": 2216,
    "start_time": "2023-02-19T21:56:18.848Z"
   },
   {
    "duration": 4,
    "start_time": "2023-02-19T21:56:21.066Z"
   },
   {
    "duration": 18,
    "start_time": "2023-02-19T21:56:21.072Z"
   },
   {
    "duration": 34,
    "start_time": "2023-02-19T21:56:21.091Z"
   },
   {
    "duration": 25,
    "start_time": "2023-02-19T21:56:21.128Z"
   },
   {
    "duration": 30,
    "start_time": "2023-02-19T21:56:21.155Z"
   },
   {
    "duration": 46,
    "start_time": "2023-02-19T21:56:21.186Z"
   },
   {
    "duration": 5,
    "start_time": "2023-02-19T21:56:21.233Z"
   },
   {
    "duration": 32,
    "start_time": "2023-02-19T21:56:21.239Z"
   },
   {
    "duration": 9,
    "start_time": "2023-02-19T21:56:21.273Z"
   },
   {
    "duration": 6,
    "start_time": "2023-02-19T21:56:21.284Z"
   },
   {
    "duration": 3,
    "start_time": "2023-02-19T21:56:21.292Z"
   },
   {
    "duration": 20,
    "start_time": "2023-02-19T21:56:21.296Z"
   },
   {
    "duration": 6,
    "start_time": "2023-02-19T21:56:21.318Z"
   },
   {
    "duration": 8,
    "start_time": "2023-02-19T21:56:21.325Z"
   },
   {
    "duration": 5,
    "start_time": "2023-02-19T21:56:21.334Z"
   },
   {
    "duration": 6,
    "start_time": "2023-02-19T21:56:21.340Z"
   },
   {
    "duration": 27,
    "start_time": "2023-02-19T21:56:21.347Z"
   },
   {
    "duration": 8,
    "start_time": "2023-02-19T21:56:21.376Z"
   },
   {
    "duration": 20,
    "start_time": "2023-02-19T21:56:21.385Z"
   },
   {
    "duration": 9,
    "start_time": "2023-02-19T21:56:21.406Z"
   },
   {
    "duration": 8,
    "start_time": "2023-02-19T21:56:21.417Z"
   },
   {
    "duration": 3,
    "start_time": "2023-02-19T21:56:21.428Z"
   },
   {
    "duration": 33,
    "start_time": "2023-02-19T21:56:21.433Z"
   },
   {
    "duration": 30,
    "start_time": "2023-02-19T21:56:21.467Z"
   },
   {
    "duration": 18,
    "start_time": "2023-02-19T21:56:21.498Z"
   },
   {
    "duration": 13,
    "start_time": "2023-02-19T21:56:21.517Z"
   },
   {
    "duration": 18,
    "start_time": "2023-02-19T21:56:21.531Z"
   },
   {
    "duration": 21,
    "start_time": "2023-02-19T21:56:21.550Z"
   },
   {
    "duration": 16,
    "start_time": "2023-02-19T21:56:21.573Z"
   },
   {
    "duration": 7,
    "start_time": "2023-02-19T21:56:21.591Z"
   },
   {
    "duration": 111,
    "start_time": "2023-02-19T21:56:21.600Z"
   },
   {
    "duration": 17,
    "start_time": "2023-02-19T21:56:21.712Z"
   },
   {
    "duration": 6,
    "start_time": "2023-02-19T21:59:53.216Z"
   },
   {
    "duration": 10,
    "start_time": "2023-02-19T21:59:55.202Z"
   },
   {
    "duration": 5,
    "start_time": "2023-02-19T22:00:05.170Z"
   },
   {
    "duration": 9,
    "start_time": "2023-02-19T22:00:05.778Z"
   },
   {
    "duration": 6,
    "start_time": "2023-02-19T22:09:04.474Z"
   },
   {
    "duration": 10,
    "start_time": "2023-02-19T22:09:05.394Z"
   },
   {
    "duration": 6,
    "start_time": "2023-02-19T22:09:15.331Z"
   },
   {
    "duration": 11,
    "start_time": "2023-02-19T22:09:15.874Z"
   },
   {
    "duration": 590,
    "start_time": "2023-02-19T22:09:30.790Z"
   },
   {
    "duration": 91,
    "start_time": "2023-02-19T22:09:31.381Z"
   },
   {
    "duration": 60,
    "start_time": "2023-02-19T22:09:31.474Z"
   },
   {
    "duration": 22,
    "start_time": "2023-02-19T22:09:31.537Z"
   },
   {
    "duration": 77,
    "start_time": "2023-02-19T22:09:31.561Z"
   },
   {
    "duration": 2096,
    "start_time": "2023-02-19T22:09:31.639Z"
   },
   {
    "duration": 7,
    "start_time": "2023-02-19T22:09:33.737Z"
   },
   {
    "duration": 18,
    "start_time": "2023-02-19T22:09:33.746Z"
   },
   {
    "duration": 32,
    "start_time": "2023-02-19T22:09:33.766Z"
   },
   {
    "duration": 31,
    "start_time": "2023-02-19T22:09:33.801Z"
   },
   {
    "duration": 18,
    "start_time": "2023-02-19T22:09:33.833Z"
   },
   {
    "duration": 70,
    "start_time": "2023-02-19T22:09:33.852Z"
   },
   {
    "duration": 5,
    "start_time": "2023-02-19T22:09:33.923Z"
   },
   {
    "duration": 34,
    "start_time": "2023-02-19T22:09:33.930Z"
   },
   {
    "duration": 32,
    "start_time": "2023-02-19T22:09:33.966Z"
   },
   {
    "duration": 33,
    "start_time": "2023-02-19T22:09:34.000Z"
   },
   {
    "duration": 17,
    "start_time": "2023-02-19T22:09:34.036Z"
   },
   {
    "duration": 46,
    "start_time": "2023-02-19T22:09:34.055Z"
   },
   {
    "duration": 35,
    "start_time": "2023-02-19T22:09:34.104Z"
   },
   {
    "duration": 36,
    "start_time": "2023-02-19T22:09:34.141Z"
   },
   {
    "duration": 26,
    "start_time": "2023-02-19T22:09:34.179Z"
   },
   {
    "duration": 21,
    "start_time": "2023-02-19T22:09:34.207Z"
   },
   {
    "duration": 30,
    "start_time": "2023-02-19T22:09:34.230Z"
   },
   {
    "duration": 35,
    "start_time": "2023-02-19T22:09:34.262Z"
   },
   {
    "duration": 41,
    "start_time": "2023-02-19T22:09:34.299Z"
   },
   {
    "duration": 42,
    "start_time": "2023-02-19T22:09:34.342Z"
   },
   {
    "duration": 24,
    "start_time": "2023-02-19T22:09:34.386Z"
   },
   {
    "duration": 21,
    "start_time": "2023-02-19T22:09:34.413Z"
   },
   {
    "duration": 36,
    "start_time": "2023-02-19T22:09:34.435Z"
   },
   {
    "duration": 45,
    "start_time": "2023-02-19T22:09:34.473Z"
   },
   {
    "duration": 30,
    "start_time": "2023-02-19T22:09:34.519Z"
   },
   {
    "duration": 32,
    "start_time": "2023-02-19T22:09:34.551Z"
   },
   {
    "duration": 29,
    "start_time": "2023-02-19T22:09:34.585Z"
   },
   {
    "duration": 18,
    "start_time": "2023-02-19T22:09:34.616Z"
   },
   {
    "duration": 31,
    "start_time": "2023-02-19T22:09:34.637Z"
   },
   {
    "duration": 25,
    "start_time": "2023-02-19T22:09:34.670Z"
   },
   {
    "duration": 161,
    "start_time": "2023-02-19T22:09:34.697Z"
   },
   {
    "duration": 26,
    "start_time": "2023-02-19T22:09:34.860Z"
   },
   {
    "duration": 7,
    "start_time": "2023-02-19T22:10:17.683Z"
   },
   {
    "duration": 5,
    "start_time": "2023-02-19T22:10:49.835Z"
   },
   {
    "duration": 8,
    "start_time": "2023-02-19T22:10:51.722Z"
   },
   {
    "duration": 7,
    "start_time": "2023-02-19T22:11:40.531Z"
   },
   {
    "duration": 5,
    "start_time": "2023-02-19T22:11:52.659Z"
   },
   {
    "duration": 8,
    "start_time": "2023-02-19T22:11:53.330Z"
   },
   {
    "duration": 604,
    "start_time": "2023-02-19T22:12:46.334Z"
   },
   {
    "duration": 93,
    "start_time": "2023-02-19T22:12:46.939Z"
   },
   {
    "duration": 37,
    "start_time": "2023-02-19T22:12:47.033Z"
   },
   {
    "duration": 33,
    "start_time": "2023-02-19T22:12:47.071Z"
   },
   {
    "duration": 126,
    "start_time": "2023-02-19T22:12:47.106Z"
   },
   {
    "duration": 1958,
    "start_time": "2023-02-19T22:12:47.233Z"
   },
   {
    "duration": 4,
    "start_time": "2023-02-19T22:12:49.192Z"
   },
   {
    "duration": 60,
    "start_time": "2023-02-19T22:12:49.198Z"
   },
   {
    "duration": 25,
    "start_time": "2023-02-19T22:12:49.260Z"
   },
   {
    "duration": 13,
    "start_time": "2023-02-19T22:12:49.287Z"
   },
   {
    "duration": 5,
    "start_time": "2023-02-19T22:12:49.301Z"
   },
   {
    "duration": 45,
    "start_time": "2023-02-19T22:12:49.307Z"
   },
   {
    "duration": 4,
    "start_time": "2023-02-19T22:12:49.353Z"
   },
   {
    "duration": 6,
    "start_time": "2023-02-19T22:12:49.359Z"
   },
   {
    "duration": 6,
    "start_time": "2023-02-19T22:12:49.366Z"
   },
   {
    "duration": 6,
    "start_time": "2023-02-19T22:12:49.374Z"
   },
   {
    "duration": 6,
    "start_time": "2023-02-19T22:12:49.381Z"
   },
   {
    "duration": 5,
    "start_time": "2023-02-19T22:12:49.388Z"
   },
   {
    "duration": 8,
    "start_time": "2023-02-19T22:12:49.394Z"
   },
   {
    "duration": 5,
    "start_time": "2023-02-19T22:12:49.403Z"
   },
   {
    "duration": 5,
    "start_time": "2023-02-19T22:12:49.409Z"
   },
   {
    "duration": 33,
    "start_time": "2023-02-19T22:12:49.415Z"
   },
   {
    "duration": 3,
    "start_time": "2023-02-19T22:12:49.450Z"
   },
   {
    "duration": 14,
    "start_time": "2023-02-19T22:12:49.454Z"
   },
   {
    "duration": 8,
    "start_time": "2023-02-19T22:12:49.469Z"
   },
   {
    "duration": 7,
    "start_time": "2023-02-19T22:12:49.479Z"
   },
   {
    "duration": 8,
    "start_time": "2023-02-19T22:12:49.488Z"
   },
   {
    "duration": 7,
    "start_time": "2023-02-19T22:12:49.498Z"
   },
   {
    "duration": 7,
    "start_time": "2023-02-19T22:12:49.506Z"
   },
   {
    "duration": 8,
    "start_time": "2023-02-19T22:12:49.514Z"
   },
   {
    "duration": 26,
    "start_time": "2023-02-19T22:12:49.523Z"
   },
   {
    "duration": 4,
    "start_time": "2023-02-19T22:12:49.551Z"
   },
   {
    "duration": 15,
    "start_time": "2023-02-19T22:12:49.557Z"
   },
   {
    "duration": 5,
    "start_time": "2023-02-19T22:12:49.574Z"
   },
   {
    "duration": 6,
    "start_time": "2023-02-19T22:12:49.581Z"
   },
   {
    "duration": 6,
    "start_time": "2023-02-19T22:12:49.589Z"
   },
   {
    "duration": 20,
    "start_time": "2023-02-19T22:12:49.596Z"
   },
   {
    "duration": 102,
    "start_time": "2023-02-19T22:12:49.617Z"
   },
   {
    "duration": 17,
    "start_time": "2023-02-19T22:12:49.720Z"
   },
   {
    "duration": 4,
    "start_time": "2023-02-19T22:47:39.884Z"
   },
   {
    "duration": 4,
    "start_time": "2023-02-19T22:48:27.067Z"
   },
   {
    "duration": 8,
    "start_time": "2023-02-19T22:48:53.628Z"
   },
   {
    "duration": 7,
    "start_time": "2023-02-19T22:49:07.676Z"
   },
   {
    "duration": 7,
    "start_time": "2023-02-19T22:49:16.963Z"
   },
   {
    "duration": 4,
    "start_time": "2023-02-19T22:49:41.059Z"
   },
   {
    "duration": 6,
    "start_time": "2023-02-19T22:49:52.316Z"
   },
   {
    "duration": 6,
    "start_time": "2023-02-19T22:50:13.179Z"
   },
   {
    "duration": 3,
    "start_time": "2023-02-19T22:50:31.468Z"
   },
   {
    "duration": 6,
    "start_time": "2023-02-19T23:06:21.859Z"
   },
   {
    "duration": 5,
    "start_time": "2023-02-19T23:07:03.979Z"
   },
   {
    "duration": 7,
    "start_time": "2023-02-19T23:07:19.443Z"
   },
   {
    "duration": 19,
    "start_time": "2023-02-19T23:07:36.227Z"
   },
   {
    "duration": 23,
    "start_time": "2023-02-19T23:07:46.467Z"
   },
   {
    "duration": 5,
    "start_time": "2023-02-19T23:09:25.546Z"
   },
   {
    "duration": 10,
    "start_time": "2023-02-20T00:37:08.225Z"
   },
   {
    "duration": 3,
    "start_time": "2023-02-20T00:37:08.944Z"
   },
   {
    "duration": 5,
    "start_time": "2023-02-20T00:37:48.936Z"
   },
   {
    "duration": 265,
    "start_time": "2023-02-20T00:58:55.540Z"
   },
   {
    "duration": 311,
    "start_time": "2023-02-20T01:00:50.012Z"
   },
   {
    "duration": 68,
    "start_time": "2023-02-20T01:06:06.695Z"
   },
   {
    "duration": 11,
    "start_time": "2023-02-20T01:08:06.838Z"
   },
   {
    "duration": 10,
    "start_time": "2023-02-20T01:08:25.949Z"
   },
   {
    "duration": 4,
    "start_time": "2023-02-20T01:08:34.478Z"
   },
   {
    "duration": 30,
    "start_time": "2023-02-20T01:08:48.933Z"
   },
   {
    "duration": 20,
    "start_time": "2023-02-20T01:11:10.740Z"
   },
   {
    "duration": 580,
    "start_time": "2023-02-20T01:11:46.600Z"
   },
   {
    "duration": 92,
    "start_time": "2023-02-20T01:11:47.182Z"
   },
   {
    "duration": 37,
    "start_time": "2023-02-20T01:11:47.276Z"
   },
   {
    "duration": 16,
    "start_time": "2023-02-20T01:11:47.314Z"
   },
   {
    "duration": 82,
    "start_time": "2023-02-20T01:11:47.332Z"
   },
   {
    "duration": 2004,
    "start_time": "2023-02-20T01:11:47.415Z"
   },
   {
    "duration": 4,
    "start_time": "2023-02-20T01:11:49.421Z"
   },
   {
    "duration": 9,
    "start_time": "2023-02-20T01:11:49.426Z"
   },
   {
    "duration": 5,
    "start_time": "2023-02-20T01:11:49.436Z"
   },
   {
    "duration": 16,
    "start_time": "2023-02-20T01:11:49.442Z"
   },
   {
    "duration": 13,
    "start_time": "2023-02-20T01:11:49.459Z"
   },
   {
    "duration": 46,
    "start_time": "2023-02-20T01:11:49.474Z"
   },
   {
    "duration": 5,
    "start_time": "2023-02-20T01:11:49.521Z"
   },
   {
    "duration": 33,
    "start_time": "2023-02-20T01:11:49.529Z"
   },
   {
    "duration": 18,
    "start_time": "2023-02-20T01:11:49.564Z"
   },
   {
    "duration": 8,
    "start_time": "2023-02-20T01:11:49.584Z"
   },
   {
    "duration": 17,
    "start_time": "2023-02-20T01:11:49.593Z"
   },
   {
    "duration": 19,
    "start_time": "2023-02-20T01:11:49.612Z"
   },
   {
    "duration": 32,
    "start_time": "2023-02-20T01:11:49.632Z"
   },
   {
    "duration": 9,
    "start_time": "2023-02-20T01:11:49.666Z"
   },
   {
    "duration": 14,
    "start_time": "2023-02-20T01:11:49.677Z"
   },
   {
    "duration": 8,
    "start_time": "2023-02-20T01:11:49.693Z"
   },
   {
    "duration": 37,
    "start_time": "2023-02-20T01:11:49.702Z"
   },
   {
    "duration": 55,
    "start_time": "2023-02-20T01:11:49.741Z"
   },
   {
    "duration": 35,
    "start_time": "2023-02-20T01:11:49.798Z"
   },
   {
    "duration": 64,
    "start_time": "2023-02-20T01:11:49.834Z"
   },
   {
    "duration": 47,
    "start_time": "2023-02-20T01:11:49.900Z"
   },
   {
    "duration": 39,
    "start_time": "2023-02-20T01:11:49.948Z"
   },
   {
    "duration": 36,
    "start_time": "2023-02-20T01:11:49.989Z"
   },
   {
    "duration": 53,
    "start_time": "2023-02-20T01:11:50.026Z"
   },
   {
    "duration": 31,
    "start_time": "2023-02-20T01:11:50.081Z"
   },
   {
    "duration": 55,
    "start_time": "2023-02-20T01:11:50.113Z"
   },
   {
    "duration": 26,
    "start_time": "2023-02-20T01:11:50.169Z"
   },
   {
    "duration": 27,
    "start_time": "2023-02-20T01:11:50.196Z"
   },
   {
    "duration": 41,
    "start_time": "2023-02-20T01:11:50.225Z"
   },
   {
    "duration": 36,
    "start_time": "2023-02-20T01:11:50.268Z"
   },
   {
    "duration": 132,
    "start_time": "2023-02-20T01:11:50.306Z"
   },
   {
    "duration": 24,
    "start_time": "2023-02-20T01:11:50.440Z"
   },
   {
    "duration": 38,
    "start_time": "2023-02-20T01:11:50.465Z"
   },
   {
    "duration": 75,
    "start_time": "2023-02-20T01:11:50.505Z"
   },
   {
    "duration": 0,
    "start_time": "2023-02-20T01:11:50.582Z"
   },
   {
    "duration": 0,
    "start_time": "2023-02-20T01:11:50.583Z"
   },
   {
    "duration": 0,
    "start_time": "2023-02-20T01:11:50.584Z"
   },
   {
    "duration": 0,
    "start_time": "2023-02-20T01:11:50.585Z"
   },
   {
    "duration": 0,
    "start_time": "2023-02-20T01:11:50.586Z"
   },
   {
    "duration": 0,
    "start_time": "2023-02-20T01:11:50.586Z"
   },
   {
    "duration": 16,
    "start_time": "2023-02-20T01:12:53.844Z"
   },
   {
    "duration": 8,
    "start_time": "2023-02-20T01:14:28.220Z"
   },
   {
    "duration": 74,
    "start_time": "2023-02-20T01:14:34.507Z"
   },
   {
    "duration": 8,
    "start_time": "2023-02-20T01:14:42.035Z"
   },
   {
    "duration": 9,
    "start_time": "2023-02-20T01:14:47.764Z"
   },
   {
    "duration": 8,
    "start_time": "2023-02-20T01:15:17.971Z"
   },
   {
    "duration": 5,
    "start_time": "2023-02-20T01:15:33.275Z"
   },
   {
    "duration": 11,
    "start_time": "2023-02-20T01:15:33.803Z"
   },
   {
    "duration": 6,
    "start_time": "2023-02-20T01:15:34.323Z"
   },
   {
    "duration": 269,
    "start_time": "2023-02-20T01:15:34.876Z"
   },
   {
    "duration": 11,
    "start_time": "2023-02-20T01:15:36.066Z"
   },
   {
    "duration": 9,
    "start_time": "2023-02-20T01:16:20.828Z"
   },
   {
    "duration": 4,
    "start_time": "2023-02-20T01:18:18.178Z"
   },
   {
    "duration": 29,
    "start_time": "2023-02-20T01:18:19.138Z"
   },
   {
    "duration": 9,
    "start_time": "2023-02-20T01:18:52.930Z"
   },
   {
    "duration": 9,
    "start_time": "2023-02-20T01:21:07.689Z"
   },
   {
    "duration": 8,
    "start_time": "2023-02-20T01:21:40.858Z"
   },
   {
    "duration": 616,
    "start_time": "2023-02-20T01:22:14.163Z"
   },
   {
    "duration": 92,
    "start_time": "2023-02-20T01:22:14.781Z"
   },
   {
    "duration": 47,
    "start_time": "2023-02-20T01:22:14.875Z"
   },
   {
    "duration": 26,
    "start_time": "2023-02-20T01:22:14.925Z"
   },
   {
    "duration": 74,
    "start_time": "2023-02-20T01:22:14.952Z"
   },
   {
    "duration": 1983,
    "start_time": "2023-02-20T01:22:15.028Z"
   },
   {
    "duration": 5,
    "start_time": "2023-02-20T01:22:17.012Z"
   },
   {
    "duration": 15,
    "start_time": "2023-02-20T01:22:17.018Z"
   },
   {
    "duration": 8,
    "start_time": "2023-02-20T01:22:17.034Z"
   },
   {
    "duration": 13,
    "start_time": "2023-02-20T01:22:17.044Z"
   },
   {
    "duration": 32,
    "start_time": "2023-02-20T01:22:17.058Z"
   },
   {
    "duration": 50,
    "start_time": "2023-02-20T01:22:17.091Z"
   },
   {
    "duration": 4,
    "start_time": "2023-02-20T01:22:17.143Z"
   },
   {
    "duration": 7,
    "start_time": "2023-02-20T01:22:17.149Z"
   },
   {
    "duration": 13,
    "start_time": "2023-02-20T01:22:17.157Z"
   },
   {
    "duration": 8,
    "start_time": "2023-02-20T01:22:17.172Z"
   },
   {
    "duration": 6,
    "start_time": "2023-02-20T01:22:17.181Z"
   },
   {
    "duration": 15,
    "start_time": "2023-02-20T01:22:17.189Z"
   },
   {
    "duration": 15,
    "start_time": "2023-02-20T01:22:17.206Z"
   },
   {
    "duration": 14,
    "start_time": "2023-02-20T01:22:17.222Z"
   },
   {
    "duration": 16,
    "start_time": "2023-02-20T01:22:17.237Z"
   },
   {
    "duration": 28,
    "start_time": "2023-02-20T01:22:17.255Z"
   },
   {
    "duration": 36,
    "start_time": "2023-02-20T01:22:17.284Z"
   },
   {
    "duration": 18,
    "start_time": "2023-02-20T01:22:17.321Z"
   },
   {
    "duration": 8,
    "start_time": "2023-02-20T01:22:17.341Z"
   },
   {
    "duration": 8,
    "start_time": "2023-02-20T01:22:17.350Z"
   },
   {
    "duration": 83,
    "start_time": "2023-02-20T01:22:17.359Z"
   },
   {
    "duration": 113,
    "start_time": "2023-02-20T01:22:17.445Z"
   },
   {
    "duration": 34,
    "start_time": "2023-02-20T01:22:17.559Z"
   },
   {
    "duration": 12,
    "start_time": "2023-02-20T01:22:17.595Z"
   },
   {
    "duration": 7,
    "start_time": "2023-02-20T01:22:17.608Z"
   },
   {
    "duration": 7,
    "start_time": "2023-02-20T01:22:17.616Z"
   },
   {
    "duration": 11,
    "start_time": "2023-02-20T01:22:17.624Z"
   },
   {
    "duration": 17,
    "start_time": "2023-02-20T01:22:17.636Z"
   },
   {
    "duration": 7,
    "start_time": "2023-02-20T01:22:17.655Z"
   },
   {
    "duration": 28,
    "start_time": "2023-02-20T01:22:17.664Z"
   },
   {
    "duration": 105,
    "start_time": "2023-02-20T01:22:17.693Z"
   },
   {
    "duration": 18,
    "start_time": "2023-02-20T01:22:17.799Z"
   },
   {
    "duration": 37,
    "start_time": "2023-02-20T01:22:17.819Z"
   },
   {
    "duration": 7,
    "start_time": "2023-02-20T01:22:17.857Z"
   },
   {
    "duration": 10,
    "start_time": "2023-02-20T01:22:17.865Z"
   },
   {
    "duration": 10,
    "start_time": "2023-02-20T01:22:17.876Z"
   },
   {
    "duration": 8,
    "start_time": "2023-02-20T01:22:17.887Z"
   },
   {
    "duration": 275,
    "start_time": "2023-02-20T01:22:17.896Z"
   },
   {
    "duration": 64,
    "start_time": "2023-02-20T01:22:18.173Z"
   },
   {
    "duration": 0,
    "start_time": "2023-02-20T01:22:18.238Z"
   },
   {
    "duration": 885,
    "start_time": "2023-02-20T13:20:18.529Z"
   },
   {
    "duration": 353,
    "start_time": "2023-02-20T13:20:19.417Z"
   },
   {
    "duration": 58,
    "start_time": "2023-02-20T13:20:19.772Z"
   },
   {
    "duration": 15,
    "start_time": "2023-02-20T13:20:19.833Z"
   },
   {
    "duration": 81,
    "start_time": "2023-02-20T13:20:19.850Z"
   },
   {
    "duration": 2479,
    "start_time": "2023-02-20T13:20:19.934Z"
   },
   {
    "duration": 9,
    "start_time": "2023-02-20T13:20:22.415Z"
   },
   {
    "duration": 36,
    "start_time": "2023-02-20T13:20:22.426Z"
   },
   {
    "duration": 71,
    "start_time": "2023-02-20T13:20:22.464Z"
   },
   {
    "duration": 49,
    "start_time": "2023-02-20T13:20:22.537Z"
   },
   {
    "duration": 51,
    "start_time": "2023-02-20T13:20:22.587Z"
   },
   {
    "duration": 98,
    "start_time": "2023-02-20T13:20:22.639Z"
   },
   {
    "duration": 4,
    "start_time": "2023-02-20T13:20:22.739Z"
   },
   {
    "duration": 66,
    "start_time": "2023-02-20T13:20:22.746Z"
   },
   {
    "duration": 64,
    "start_time": "2023-02-20T13:20:22.813Z"
   },
   {
    "duration": 70,
    "start_time": "2023-02-20T13:20:22.879Z"
   },
   {
    "duration": 41,
    "start_time": "2023-02-20T13:20:22.950Z"
   },
   {
    "duration": 59,
    "start_time": "2023-02-20T13:20:22.992Z"
   },
   {
    "duration": 26,
    "start_time": "2023-02-20T13:20:23.053Z"
   },
   {
    "duration": 66,
    "start_time": "2023-02-20T13:20:23.081Z"
   },
   {
    "duration": 47,
    "start_time": "2023-02-20T13:20:23.149Z"
   },
   {
    "duration": 95,
    "start_time": "2023-02-20T13:20:23.198Z"
   },
   {
    "duration": 43,
    "start_time": "2023-02-20T13:20:23.295Z"
   },
   {
    "duration": 92,
    "start_time": "2023-02-20T13:20:23.340Z"
   },
   {
    "duration": 43,
    "start_time": "2023-02-20T13:20:23.435Z"
   },
   {
    "duration": 56,
    "start_time": "2023-02-20T13:20:23.480Z"
   },
   {
    "duration": 30,
    "start_time": "2023-02-20T13:20:23.538Z"
   },
   {
    "duration": 82,
    "start_time": "2023-02-20T13:20:23.570Z"
   },
   {
    "duration": 42,
    "start_time": "2023-02-20T13:20:23.654Z"
   },
   {
    "duration": 60,
    "start_time": "2023-02-20T13:20:23.697Z"
   },
   {
    "duration": 29,
    "start_time": "2023-02-20T13:20:23.759Z"
   },
   {
    "duration": 46,
    "start_time": "2023-02-20T13:20:23.789Z"
   },
   {
    "duration": 46,
    "start_time": "2023-02-20T13:20:23.836Z"
   },
   {
    "duration": 54,
    "start_time": "2023-02-20T13:20:23.883Z"
   },
   {
    "duration": 55,
    "start_time": "2023-02-20T13:20:23.939Z"
   },
   {
    "duration": 52,
    "start_time": "2023-02-20T13:20:23.995Z"
   },
   {
    "duration": 152,
    "start_time": "2023-02-20T13:20:24.049Z"
   },
   {
    "duration": 38,
    "start_time": "2023-02-20T13:20:24.203Z"
   },
   {
    "duration": 97,
    "start_time": "2023-02-20T13:20:24.243Z"
   },
   {
    "duration": 34,
    "start_time": "2023-02-20T13:20:24.342Z"
   },
   {
    "duration": 44,
    "start_time": "2023-02-20T13:20:24.380Z"
   },
   {
    "duration": 54,
    "start_time": "2023-02-20T13:20:24.428Z"
   },
   {
    "duration": 6,
    "start_time": "2023-02-20T13:20:24.484Z"
   },
   {
    "duration": 342,
    "start_time": "2023-02-20T13:20:24.491Z"
   },
   {
    "duration": 84,
    "start_time": "2023-02-20T13:20:24.835Z"
   },
   {
    "duration": 0,
    "start_time": "2023-02-20T13:20:24.921Z"
   },
   {
    "duration": 8,
    "start_time": "2023-02-20T13:58:41.924Z"
   },
   {
    "duration": 10,
    "start_time": "2023-02-20T13:59:04.995Z"
   },
   {
    "duration": 8,
    "start_time": "2023-02-20T13:59:30.076Z"
   },
   {
    "duration": 5,
    "start_time": "2023-02-20T13:59:35.315Z"
   },
   {
    "duration": 33,
    "start_time": "2023-02-20T13:59:38.883Z"
   },
   {
    "duration": 10,
    "start_time": "2023-02-20T15:48:02.952Z"
   },
   {
    "duration": 686,
    "start_time": "2023-02-20T15:48:14.900Z"
   },
   {
    "duration": 92,
    "start_time": "2023-02-20T15:48:15.589Z"
   },
   {
    "duration": 43,
    "start_time": "2023-02-20T15:48:15.683Z"
   },
   {
    "duration": 16,
    "start_time": "2023-02-20T15:48:15.728Z"
   },
   {
    "duration": 93,
    "start_time": "2023-02-20T15:48:15.747Z"
   },
   {
    "duration": 2353,
    "start_time": "2023-02-20T15:48:15.843Z"
   },
   {
    "duration": 5,
    "start_time": "2023-02-20T15:48:18.198Z"
   },
   {
    "duration": 11,
    "start_time": "2023-02-20T15:48:18.205Z"
   },
   {
    "duration": 9,
    "start_time": "2023-02-20T15:48:18.217Z"
   },
   {
    "duration": 35,
    "start_time": "2023-02-20T15:48:18.228Z"
   },
   {
    "duration": 8,
    "start_time": "2023-02-20T15:48:18.265Z"
   },
   {
    "duration": 52,
    "start_time": "2023-02-20T15:48:18.276Z"
   },
   {
    "duration": 6,
    "start_time": "2023-02-20T15:48:18.331Z"
   },
   {
    "duration": 8,
    "start_time": "2023-02-20T15:48:18.340Z"
   },
   {
    "duration": 10,
    "start_time": "2023-02-20T15:48:18.349Z"
   },
   {
    "duration": 6,
    "start_time": "2023-02-20T15:48:18.360Z"
   },
   {
    "duration": 5,
    "start_time": "2023-02-20T15:48:18.368Z"
   },
   {
    "duration": 32,
    "start_time": "2023-02-20T15:48:18.374Z"
   },
   {
    "duration": 13,
    "start_time": "2023-02-20T15:48:18.408Z"
   },
   {
    "duration": 6,
    "start_time": "2023-02-20T15:48:18.423Z"
   },
   {
    "duration": 5,
    "start_time": "2023-02-20T15:48:18.430Z"
   },
   {
    "duration": 5,
    "start_time": "2023-02-20T15:48:18.436Z"
   },
   {
    "duration": 10,
    "start_time": "2023-02-20T15:48:18.443Z"
   },
   {
    "duration": 9,
    "start_time": "2023-02-20T15:48:18.455Z"
   },
   {
    "duration": 39,
    "start_time": "2023-02-20T15:48:18.466Z"
   },
   {
    "duration": 9,
    "start_time": "2023-02-20T15:48:18.506Z"
   },
   {
    "duration": 6,
    "start_time": "2023-02-20T15:48:18.518Z"
   },
   {
    "duration": 5,
    "start_time": "2023-02-20T15:48:18.526Z"
   },
   {
    "duration": 9,
    "start_time": "2023-02-20T15:48:18.533Z"
   },
   {
    "duration": 4,
    "start_time": "2023-02-20T15:48:18.544Z"
   },
   {
    "duration": 16,
    "start_time": "2023-02-20T15:48:18.550Z"
   },
   {
    "duration": 9,
    "start_time": "2023-02-20T15:48:18.568Z"
   },
   {
    "duration": 12,
    "start_time": "2023-02-20T15:48:18.578Z"
   },
   {
    "duration": 15,
    "start_time": "2023-02-20T15:48:18.592Z"
   },
   {
    "duration": 8,
    "start_time": "2023-02-20T15:48:18.609Z"
   },
   {
    "duration": 7,
    "start_time": "2023-02-20T15:48:18.619Z"
   },
   {
    "duration": 138,
    "start_time": "2023-02-20T15:48:18.627Z"
   },
   {
    "duration": 18,
    "start_time": "2023-02-20T15:48:18.766Z"
   },
   {
    "duration": 53,
    "start_time": "2023-02-20T15:48:18.786Z"
   },
   {
    "duration": 9,
    "start_time": "2023-02-20T15:48:18.841Z"
   },
   {
    "duration": 9,
    "start_time": "2023-02-20T15:48:18.854Z"
   },
   {
    "duration": 39,
    "start_time": "2023-02-20T15:48:18.865Z"
   },
   {
    "duration": 6,
    "start_time": "2023-02-20T15:48:18.906Z"
   },
   {
    "duration": 332,
    "start_time": "2023-02-20T15:48:18.914Z"
   },
   {
    "duration": 5,
    "start_time": "2023-02-20T15:48:19.248Z"
   },
   {
    "duration": 36,
    "start_time": "2023-02-20T15:48:19.255Z"
   },
   {
    "duration": 662,
    "start_time": "2023-02-20T16:14:18.102Z"
   },
   {
    "duration": 97,
    "start_time": "2023-02-20T16:14:18.765Z"
   },
   {
    "duration": 48,
    "start_time": "2023-02-20T16:14:18.864Z"
   },
   {
    "duration": 18,
    "start_time": "2023-02-20T16:14:18.915Z"
   },
   {
    "duration": 97,
    "start_time": "2023-02-20T16:14:18.935Z"
   },
   {
    "duration": 2294,
    "start_time": "2023-02-20T16:14:19.034Z"
   },
   {
    "duration": 5,
    "start_time": "2023-02-20T16:14:21.329Z"
   },
   {
    "duration": 18,
    "start_time": "2023-02-20T16:14:21.335Z"
   },
   {
    "duration": 4,
    "start_time": "2023-02-20T16:14:21.355Z"
   },
   {
    "duration": 13,
    "start_time": "2023-02-20T16:14:21.361Z"
   },
   {
    "duration": 7,
    "start_time": "2023-02-20T16:14:21.375Z"
   },
   {
    "duration": 50,
    "start_time": "2023-02-20T16:14:21.384Z"
   },
   {
    "duration": 6,
    "start_time": "2023-02-20T16:14:21.436Z"
   },
   {
    "duration": 11,
    "start_time": "2023-02-20T16:14:21.443Z"
   },
   {
    "duration": 6,
    "start_time": "2023-02-20T16:14:21.456Z"
   },
   {
    "duration": 5,
    "start_time": "2023-02-20T16:14:21.463Z"
   },
   {
    "duration": 7,
    "start_time": "2023-02-20T16:14:21.469Z"
   },
   {
    "duration": 27,
    "start_time": "2023-02-20T16:14:21.478Z"
   },
   {
    "duration": 6,
    "start_time": "2023-02-20T16:14:21.507Z"
   },
   {
    "duration": 11,
    "start_time": "2023-02-20T16:14:21.515Z"
   },
   {
    "duration": 8,
    "start_time": "2023-02-20T16:14:21.530Z"
   },
   {
    "duration": 10,
    "start_time": "2023-02-20T16:14:21.540Z"
   },
   {
    "duration": 12,
    "start_time": "2023-02-20T16:14:21.551Z"
   },
   {
    "duration": 12,
    "start_time": "2023-02-20T16:14:21.565Z"
   },
   {
    "duration": 26,
    "start_time": "2023-02-20T16:14:21.578Z"
   },
   {
    "duration": 15,
    "start_time": "2023-02-20T16:14:21.606Z"
   },
   {
    "duration": 12,
    "start_time": "2023-02-20T16:14:21.623Z"
   },
   {
    "duration": 13,
    "start_time": "2023-02-20T16:14:21.639Z"
   },
   {
    "duration": 6,
    "start_time": "2023-02-20T16:14:21.654Z"
   },
   {
    "duration": 4,
    "start_time": "2023-02-20T16:14:21.663Z"
   },
   {
    "duration": 5,
    "start_time": "2023-02-20T16:14:21.668Z"
   },
   {
    "duration": 4,
    "start_time": "2023-02-20T16:14:21.675Z"
   },
   {
    "duration": 6,
    "start_time": "2023-02-20T16:14:21.681Z"
   },
   {
    "duration": 5,
    "start_time": "2023-02-20T16:14:21.704Z"
   },
   {
    "duration": 5,
    "start_time": "2023-02-20T16:14:21.711Z"
   },
   {
    "duration": 9,
    "start_time": "2023-02-20T16:14:21.717Z"
   },
   {
    "duration": 125,
    "start_time": "2023-02-20T16:14:21.728Z"
   },
   {
    "duration": 18,
    "start_time": "2023-02-20T16:14:21.856Z"
   },
   {
    "duration": 41,
    "start_time": "2023-02-20T16:14:21.875Z"
   },
   {
    "duration": 8,
    "start_time": "2023-02-20T16:14:21.918Z"
   },
   {
    "duration": 10,
    "start_time": "2023-02-20T16:14:21.927Z"
   },
   {
    "duration": 10,
    "start_time": "2023-02-20T16:14:21.938Z"
   },
   {
    "duration": 6,
    "start_time": "2023-02-20T16:14:21.949Z"
   },
   {
    "duration": 316,
    "start_time": "2023-02-20T16:14:21.957Z"
   },
   {
    "duration": 5,
    "start_time": "2023-02-20T16:14:22.275Z"
   },
   {
    "duration": 41,
    "start_time": "2023-02-20T16:14:22.282Z"
   },
   {
    "duration": 2060,
    "start_time": "2023-02-20T16:24:37.136Z"
   },
   {
    "duration": 967,
    "start_time": "2023-02-20T16:30:05.112Z"
   },
   {
    "duration": 1653,
    "start_time": "2023-02-20T16:30:54.802Z"
   },
   {
    "duration": 73,
    "start_time": "2023-02-20T16:32:05.018Z"
   },
   {
    "duration": 3191,
    "start_time": "2023-02-20T16:32:19.235Z"
   },
   {
    "duration": 2489,
    "start_time": "2023-02-20T16:32:31.123Z"
   },
   {
    "duration": 1922,
    "start_time": "2023-02-20T16:32:43.763Z"
   },
   {
    "duration": 2036,
    "start_time": "2023-02-20T16:33:31.570Z"
   },
   {
    "duration": 1852,
    "start_time": "2023-02-20T16:33:58.613Z"
   },
   {
    "duration": 811,
    "start_time": "2023-02-21T13:36:22.040Z"
   },
   {
    "duration": 188,
    "start_time": "2023-02-21T13:36:22.853Z"
   },
   {
    "duration": 62,
    "start_time": "2023-02-21T13:36:23.043Z"
   },
   {
    "duration": 18,
    "start_time": "2023-02-21T13:36:23.107Z"
   },
   {
    "duration": 101,
    "start_time": "2023-02-21T13:36:23.127Z"
   },
   {
    "duration": 2478,
    "start_time": "2023-02-21T13:36:23.230Z"
   },
   {
    "duration": 6,
    "start_time": "2023-02-21T13:36:25.711Z"
   },
   {
    "duration": 16,
    "start_time": "2023-02-21T13:36:25.719Z"
   },
   {
    "duration": 8,
    "start_time": "2023-02-21T13:36:25.737Z"
   },
   {
    "duration": 20,
    "start_time": "2023-02-21T13:36:25.748Z"
   },
   {
    "duration": 9,
    "start_time": "2023-02-21T13:36:25.769Z"
   },
   {
    "duration": 80,
    "start_time": "2023-02-21T13:36:25.780Z"
   },
   {
    "duration": 5,
    "start_time": "2023-02-21T13:36:25.862Z"
   },
   {
    "duration": 19,
    "start_time": "2023-02-21T13:36:25.869Z"
   },
   {
    "duration": 43,
    "start_time": "2023-02-21T13:36:25.890Z"
   },
   {
    "duration": 16,
    "start_time": "2023-02-21T13:36:25.936Z"
   },
   {
    "duration": 21,
    "start_time": "2023-02-21T13:36:25.954Z"
   },
   {
    "duration": 35,
    "start_time": "2023-02-21T13:36:25.978Z"
   },
   {
    "duration": 17,
    "start_time": "2023-02-21T13:36:26.016Z"
   },
   {
    "duration": 20,
    "start_time": "2023-02-21T13:36:26.036Z"
   },
   {
    "duration": 27,
    "start_time": "2023-02-21T13:36:26.059Z"
   },
   {
    "duration": 32,
    "start_time": "2023-02-21T13:36:26.092Z"
   },
   {
    "duration": 14,
    "start_time": "2023-02-21T13:36:26.126Z"
   },
   {
    "duration": 12,
    "start_time": "2023-02-21T13:36:26.143Z"
   },
   {
    "duration": 20,
    "start_time": "2023-02-21T13:36:26.158Z"
   },
   {
    "duration": 16,
    "start_time": "2023-02-21T13:36:26.180Z"
   },
   {
    "duration": 12,
    "start_time": "2023-02-21T13:36:26.199Z"
   },
   {
    "duration": 8,
    "start_time": "2023-02-21T13:36:26.214Z"
   },
   {
    "duration": 7,
    "start_time": "2023-02-21T13:36:26.224Z"
   },
   {
    "duration": 11,
    "start_time": "2023-02-21T13:36:26.233Z"
   },
   {
    "duration": 19,
    "start_time": "2023-02-21T13:36:26.246Z"
   },
   {
    "duration": 43,
    "start_time": "2023-02-21T13:36:26.267Z"
   },
   {
    "duration": 9,
    "start_time": "2023-02-21T13:36:26.312Z"
   },
   {
    "duration": 9,
    "start_time": "2023-02-21T13:36:26.322Z"
   },
   {
    "duration": 16,
    "start_time": "2023-02-21T13:36:26.333Z"
   },
   {
    "duration": 16,
    "start_time": "2023-02-21T13:36:26.352Z"
   },
   {
    "duration": 114,
    "start_time": "2023-02-21T13:36:26.370Z"
   },
   {
    "duration": 25,
    "start_time": "2023-02-21T13:36:26.486Z"
   },
   {
    "duration": 31,
    "start_time": "2023-02-21T13:36:26.512Z"
   },
   {
    "duration": 14,
    "start_time": "2023-02-21T13:36:26.544Z"
   },
   {
    "duration": 9,
    "start_time": "2023-02-21T13:36:26.560Z"
   },
   {
    "duration": 18,
    "start_time": "2023-02-21T13:36:26.586Z"
   },
   {
    "duration": 13,
    "start_time": "2023-02-21T13:36:26.607Z"
   },
   {
    "duration": 329,
    "start_time": "2023-02-21T13:36:26.623Z"
   },
   {
    "duration": 4,
    "start_time": "2023-02-21T13:36:26.954Z"
   },
   {
    "duration": 56,
    "start_time": "2023-02-21T13:36:26.960Z"
   },
   {
    "duration": 2050,
    "start_time": "2023-02-21T13:36:27.017Z"
   },
   {
    "duration": 8,
    "start_time": "2023-02-21T13:44:21.841Z"
   },
   {
    "duration": 166,
    "start_time": "2023-02-21T14:19:46.846Z"
   },
   {
    "duration": 15,
    "start_time": "2023-02-21T14:22:17.134Z"
   },
   {
    "duration": 14,
    "start_time": "2023-02-21T14:47:17.528Z"
   },
   {
    "duration": 14,
    "start_time": "2023-02-21T14:47:38.613Z"
   },
   {
    "duration": 4,
    "start_time": "2023-02-21T17:22:48.350Z"
   },
   {
    "duration": 78,
    "start_time": "2023-02-21T17:23:13.234Z"
   },
   {
    "duration": 4,
    "start_time": "2023-02-21T17:24:05.263Z"
   },
   {
    "duration": 8,
    "start_time": "2023-02-21T17:24:32.522Z"
   },
   {
    "duration": 175,
    "start_time": "2023-02-21T17:25:15.297Z"
   },
   {
    "duration": 16,
    "start_time": "2023-02-21T17:27:12.080Z"
   },
   {
    "duration": 24547,
    "start_time": "2023-02-21T17:27:25.848Z"
   },
   {
    "duration": 334,
    "start_time": "2023-02-21T17:28:17.280Z"
   },
   {
    "duration": 11,
    "start_time": "2023-02-21T17:28:30.649Z"
   },
   {
    "duration": 9,
    "start_time": "2023-02-21T17:28:39.827Z"
   },
   {
    "duration": 155,
    "start_time": "2023-02-21T17:28:46.776Z"
   },
   {
    "duration": 151,
    "start_time": "2023-02-21T17:31:00.154Z"
   },
   {
    "duration": 214,
    "start_time": "2023-02-21T17:32:01.804Z"
   },
   {
    "duration": 148,
    "start_time": "2023-02-21T17:32:09.632Z"
   },
   {
    "duration": 148,
    "start_time": "2023-02-21T17:32:44.905Z"
   },
   {
    "duration": 23,
    "start_time": "2023-02-21T17:44:59.505Z"
   },
   {
    "duration": 25,
    "start_time": "2023-02-21T17:45:12.120Z"
   },
   {
    "duration": 158,
    "start_time": "2023-02-21T17:48:12.296Z"
   },
   {
    "duration": 23437,
    "start_time": "2023-02-21T17:48:39.225Z"
   },
   {
    "duration": 257,
    "start_time": "2023-02-21T17:50:49.474Z"
   },
   {
    "duration": 211,
    "start_time": "2023-02-21T18:16:14.460Z"
   },
   {
    "duration": 207,
    "start_time": "2023-02-21T18:36:26.288Z"
   },
   {
    "duration": 203,
    "start_time": "2023-02-21T18:36:28.012Z"
   },
   {
    "duration": 195,
    "start_time": "2023-02-21T18:36:31.438Z"
   },
   {
    "duration": 193,
    "start_time": "2023-02-21T18:36:32.742Z"
   },
   {
    "duration": 336,
    "start_time": "2023-02-21T18:37:42.711Z"
   },
   {
    "duration": 239866,
    "start_time": "2023-02-21T18:37:59.160Z"
   },
   {
    "duration": 660,
    "start_time": "2023-02-21T20:41:00.118Z"
   },
   {
    "duration": 256,
    "start_time": "2023-02-21T20:41:00.780Z"
   },
   {
    "duration": 40,
    "start_time": "2023-02-21T20:41:01.038Z"
   },
   {
    "duration": 103,
    "start_time": "2023-02-21T20:41:01.080Z"
   },
   {
    "duration": 176,
    "start_time": "2023-02-21T20:41:01.185Z"
   },
   {
    "duration": 2586,
    "start_time": "2023-02-21T20:41:01.362Z"
   },
   {
    "duration": 4,
    "start_time": "2023-02-21T20:41:03.951Z"
   },
   {
    "duration": 67,
    "start_time": "2023-02-21T20:41:03.956Z"
   },
   {
    "duration": 68,
    "start_time": "2023-02-21T20:41:04.025Z"
   },
   {
    "duration": 70,
    "start_time": "2023-02-21T20:41:04.095Z"
   },
   {
    "duration": 8,
    "start_time": "2023-02-21T20:41:04.167Z"
   },
   {
    "duration": 97,
    "start_time": "2023-02-21T20:41:04.177Z"
   },
   {
    "duration": 5,
    "start_time": "2023-02-21T20:41:04.275Z"
   },
   {
    "duration": 42,
    "start_time": "2023-02-21T20:41:04.283Z"
   },
   {
    "duration": 41,
    "start_time": "2023-02-21T20:41:04.327Z"
   },
   {
    "duration": 57,
    "start_time": "2023-02-21T20:41:04.369Z"
   },
   {
    "duration": 32,
    "start_time": "2023-02-21T20:41:04.427Z"
   },
   {
    "duration": 17,
    "start_time": "2023-02-21T20:41:04.461Z"
   },
   {
    "duration": 93,
    "start_time": "2023-02-21T20:41:04.480Z"
   },
   {
    "duration": 80,
    "start_time": "2023-02-21T20:41:04.575Z"
   },
   {
    "duration": 7,
    "start_time": "2023-02-21T20:41:04.657Z"
   },
   {
    "duration": 16,
    "start_time": "2023-02-21T20:41:04.666Z"
   },
   {
    "duration": 69,
    "start_time": "2023-02-21T20:41:04.684Z"
   },
   {
    "duration": 14,
    "start_time": "2023-02-21T20:41:04.755Z"
   },
   {
    "duration": 59,
    "start_time": "2023-02-21T20:41:04.771Z"
   },
   {
    "duration": 47,
    "start_time": "2023-02-21T20:41:04.831Z"
   },
   {
    "duration": 36,
    "start_time": "2023-02-21T20:41:04.880Z"
   },
   {
    "duration": 39,
    "start_time": "2023-02-21T20:41:04.917Z"
   },
   {
    "duration": 23,
    "start_time": "2023-02-21T20:41:04.957Z"
   },
   {
    "duration": 70,
    "start_time": "2023-02-21T20:41:04.981Z"
   },
   {
    "duration": 9,
    "start_time": "2023-02-21T20:41:05.052Z"
   },
   {
    "duration": 10,
    "start_time": "2023-02-21T20:41:05.062Z"
   },
   {
    "duration": 48,
    "start_time": "2023-02-21T20:41:05.080Z"
   },
   {
    "duration": 41,
    "start_time": "2023-02-21T20:41:05.130Z"
   },
   {
    "duration": 18,
    "start_time": "2023-02-21T20:41:05.173Z"
   },
   {
    "duration": 65,
    "start_time": "2023-02-21T20:41:05.197Z"
   },
   {
    "duration": 188,
    "start_time": "2023-02-21T20:41:05.264Z"
   },
   {
    "duration": 18,
    "start_time": "2023-02-21T20:41:05.454Z"
   },
   {
    "duration": 42,
    "start_time": "2023-02-21T20:41:05.474Z"
   },
   {
    "duration": 49,
    "start_time": "2023-02-21T20:41:05.517Z"
   },
   {
    "duration": 13,
    "start_time": "2023-02-21T20:41:05.570Z"
   },
   {
    "duration": 66,
    "start_time": "2023-02-21T20:41:05.584Z"
   },
   {
    "duration": 6,
    "start_time": "2023-02-21T20:41:05.652Z"
   },
   {
    "duration": 438,
    "start_time": "2023-02-21T20:41:05.659Z"
   },
   {
    "duration": 16,
    "start_time": "2023-02-21T20:41:06.102Z"
   },
   {
    "duration": 114,
    "start_time": "2023-02-21T20:41:06.120Z"
   },
   {
    "duration": 2344,
    "start_time": "2023-02-21T20:41:06.236Z"
   },
   {
    "duration": 260,
    "start_time": "2023-02-21T20:41:08.582Z"
   },
   {
    "duration": 20,
    "start_time": "2023-02-21T20:41:08.845Z"
   },
   {
    "duration": 255,
    "start_time": "2023-02-21T20:41:08.867Z"
   },
   {
    "duration": 233,
    "start_time": "2023-02-21T20:41:09.124Z"
   },
   {
    "duration": 222,
    "start_time": "2023-02-21T20:41:09.359Z"
   },
   {
    "duration": 274191,
    "start_time": "2023-02-21T20:41:09.583Z"
   },
   {
    "duration": 239,
    "start_time": "2023-02-21T20:49:31.840Z"
   },
   {
    "duration": 272057,
    "start_time": "2023-02-21T20:50:37.211Z"
   },
   {
    "duration": 401,
    "start_time": "2023-02-21T20:56:30.869Z"
   },
   {
    "duration": 1149,
    "start_time": "2023-02-21T20:57:01.170Z"
   },
   {
    "duration": 599,
    "start_time": "2023-02-21T20:57:17.938Z"
   },
   {
    "duration": 272,
    "start_time": "2023-02-21T20:57:37.936Z"
   },
   {
    "duration": 215,
    "start_time": "2023-02-21T20:57:45.324Z"
   },
   {
    "duration": 7,
    "start_time": "2023-02-21T21:01:45.835Z"
   },
   {
    "duration": 58,
    "start_time": "2023-02-21T21:01:51.849Z"
   },
   {
    "duration": 797,
    "start_time": "2023-02-21T21:07:46.313Z"
   },
   {
    "duration": 117,
    "start_time": "2023-02-21T21:07:47.121Z"
   },
   {
    "duration": 60,
    "start_time": "2023-02-21T21:07:47.244Z"
   },
   {
    "duration": 21,
    "start_time": "2023-02-21T21:07:47.311Z"
   },
   {
    "duration": 123,
    "start_time": "2023-02-21T21:07:47.338Z"
   },
   {
    "duration": 2414,
    "start_time": "2023-02-21T21:07:47.463Z"
   },
   {
    "duration": 5,
    "start_time": "2023-02-21T21:07:49.878Z"
   },
   {
    "duration": 77,
    "start_time": "2023-02-21T21:07:49.884Z"
   },
   {
    "duration": 9,
    "start_time": "2023-02-21T21:07:49.963Z"
   },
   {
    "duration": 24,
    "start_time": "2023-02-21T21:07:49.973Z"
   },
   {
    "duration": 42,
    "start_time": "2023-02-21T21:07:49.998Z"
   },
   {
    "duration": 109,
    "start_time": "2023-02-21T21:07:50.042Z"
   },
   {
    "duration": 5,
    "start_time": "2023-02-21T21:07:50.153Z"
   },
   {
    "duration": 12,
    "start_time": "2023-02-21T21:07:50.161Z"
   },
   {
    "duration": 24,
    "start_time": "2023-02-21T21:07:50.175Z"
   },
   {
    "duration": 44,
    "start_time": "2023-02-21T21:07:50.201Z"
   },
   {
    "duration": 10,
    "start_time": "2023-02-21T21:07:50.247Z"
   },
   {
    "duration": 13,
    "start_time": "2023-02-21T21:07:50.258Z"
   },
   {
    "duration": 13,
    "start_time": "2023-02-21T21:07:50.273Z"
   },
   {
    "duration": 11,
    "start_time": "2023-02-21T21:07:50.288Z"
   },
   {
    "duration": 58,
    "start_time": "2023-02-21T21:07:50.301Z"
   },
   {
    "duration": 19,
    "start_time": "2023-02-21T21:07:50.360Z"
   },
   {
    "duration": 73,
    "start_time": "2023-02-21T21:07:50.381Z"
   },
   {
    "duration": 117,
    "start_time": "2023-02-21T21:07:50.456Z"
   },
   {
    "duration": 0,
    "start_time": "2023-02-21T21:07:50.575Z"
   },
   {
    "duration": 0,
    "start_time": "2023-02-21T21:07:50.576Z"
   },
   {
    "duration": 0,
    "start_time": "2023-02-21T21:07:50.577Z"
   },
   {
    "duration": 0,
    "start_time": "2023-02-21T21:07:50.578Z"
   },
   {
    "duration": 0,
    "start_time": "2023-02-21T21:07:50.579Z"
   },
   {
    "duration": 0,
    "start_time": "2023-02-21T21:07:50.579Z"
   },
   {
    "duration": 0,
    "start_time": "2023-02-21T21:07:50.580Z"
   },
   {
    "duration": 0,
    "start_time": "2023-02-21T21:07:50.599Z"
   },
   {
    "duration": 0,
    "start_time": "2023-02-21T21:07:50.600Z"
   },
   {
    "duration": 0,
    "start_time": "2023-02-21T21:07:50.601Z"
   },
   {
    "duration": 0,
    "start_time": "2023-02-21T21:07:50.601Z"
   },
   {
    "duration": 0,
    "start_time": "2023-02-21T21:07:50.602Z"
   },
   {
    "duration": 0,
    "start_time": "2023-02-21T21:07:50.603Z"
   },
   {
    "duration": 0,
    "start_time": "2023-02-21T21:07:50.611Z"
   },
   {
    "duration": 0,
    "start_time": "2023-02-21T21:07:50.612Z"
   },
   {
    "duration": 0,
    "start_time": "2023-02-21T21:07:50.613Z"
   },
   {
    "duration": 0,
    "start_time": "2023-02-21T21:07:50.613Z"
   },
   {
    "duration": 0,
    "start_time": "2023-02-21T21:07:50.614Z"
   },
   {
    "duration": 0,
    "start_time": "2023-02-21T21:07:50.619Z"
   },
   {
    "duration": 0,
    "start_time": "2023-02-21T21:07:50.623Z"
   },
   {
    "duration": 0,
    "start_time": "2023-02-21T21:07:50.624Z"
   },
   {
    "duration": 0,
    "start_time": "2023-02-21T21:07:50.625Z"
   },
   {
    "duration": 0,
    "start_time": "2023-02-21T21:07:50.626Z"
   },
   {
    "duration": 0,
    "start_time": "2023-02-21T21:07:50.627Z"
   },
   {
    "duration": 1,
    "start_time": "2023-02-21T21:07:50.640Z"
   },
   {
    "duration": 41,
    "start_time": "2023-02-21T21:08:32.122Z"
   },
   {
    "duration": 7,
    "start_time": "2023-02-21T21:08:42.141Z"
   },
   {
    "duration": 9,
    "start_time": "2023-02-21T21:08:45.524Z"
   },
   {
    "duration": 817,
    "start_time": "2023-02-21T21:08:51.411Z"
   },
   {
    "duration": 114,
    "start_time": "2023-02-21T21:08:52.236Z"
   },
   {
    "duration": 63,
    "start_time": "2023-02-21T21:08:52.352Z"
   },
   {
    "duration": 23,
    "start_time": "2023-02-21T21:08:52.422Z"
   },
   {
    "duration": 97,
    "start_time": "2023-02-21T21:08:52.448Z"
   },
   {
    "duration": 2616,
    "start_time": "2023-02-21T21:08:52.549Z"
   },
   {
    "duration": 4,
    "start_time": "2023-02-21T21:08:55.167Z"
   },
   {
    "duration": 15,
    "start_time": "2023-02-21T21:08:55.173Z"
   },
   {
    "duration": 69,
    "start_time": "2023-02-21T21:08:55.192Z"
   },
   {
    "duration": 11,
    "start_time": "2023-02-21T21:08:55.264Z"
   },
   {
    "duration": 8,
    "start_time": "2023-02-21T21:08:55.277Z"
   },
   {
    "duration": 126,
    "start_time": "2023-02-21T21:08:55.289Z"
   },
   {
    "duration": 13,
    "start_time": "2023-02-21T21:08:55.417Z"
   },
   {
    "duration": 30,
    "start_time": "2023-02-21T21:08:55.436Z"
   },
   {
    "duration": 5,
    "start_time": "2023-02-21T21:08:55.468Z"
   },
   {
    "duration": 47,
    "start_time": "2023-02-21T21:08:55.474Z"
   },
   {
    "duration": 30,
    "start_time": "2023-02-21T21:08:55.526Z"
   },
   {
    "duration": 8,
    "start_time": "2023-02-21T21:08:55.557Z"
   },
   {
    "duration": 43,
    "start_time": "2023-02-21T21:08:55.567Z"
   },
   {
    "duration": 54,
    "start_time": "2023-02-21T21:08:55.613Z"
   },
   {
    "duration": 29,
    "start_time": "2023-02-21T21:08:55.669Z"
   },
   {
    "duration": 45,
    "start_time": "2023-02-21T21:08:55.707Z"
   },
   {
    "duration": 13,
    "start_time": "2023-02-21T21:08:55.754Z"
   },
   {
    "duration": 12,
    "start_time": "2023-02-21T21:08:55.769Z"
   },
   {
    "duration": 48,
    "start_time": "2023-02-21T21:08:55.783Z"
   },
   {
    "duration": 38,
    "start_time": "2023-02-21T21:08:55.844Z"
   },
   {
    "duration": 64,
    "start_time": "2023-02-21T21:08:55.884Z"
   },
   {
    "duration": 24,
    "start_time": "2023-02-21T21:08:55.951Z"
   },
   {
    "duration": 16,
    "start_time": "2023-02-21T21:08:55.977Z"
   },
   {
    "duration": 71,
    "start_time": "2023-02-21T21:08:55.997Z"
   },
   {
    "duration": 91,
    "start_time": "2023-02-21T21:08:56.070Z"
   },
   {
    "duration": 11,
    "start_time": "2023-02-21T21:08:56.162Z"
   },
   {
    "duration": 168,
    "start_time": "2023-02-21T21:08:56.175Z"
   },
   {
    "duration": 21,
    "start_time": "2023-02-21T21:08:56.349Z"
   },
   {
    "duration": 53,
    "start_time": "2023-02-21T21:08:56.371Z"
   },
   {
    "duration": 29,
    "start_time": "2023-02-21T21:08:56.432Z"
   },
   {
    "duration": 13,
    "start_time": "2023-02-21T21:08:56.462Z"
   },
   {
    "duration": 58,
    "start_time": "2023-02-21T21:08:56.477Z"
   },
   {
    "duration": 16,
    "start_time": "2023-02-21T21:08:56.537Z"
   },
   {
    "duration": 372,
    "start_time": "2023-02-21T21:08:56.555Z"
   },
   {
    "duration": 6,
    "start_time": "2023-02-21T21:08:56.931Z"
   },
   {
    "duration": 52,
    "start_time": "2023-02-21T21:08:56.938Z"
   },
   {
    "duration": 2340,
    "start_time": "2023-02-21T21:08:56.992Z"
   },
   {
    "duration": 234,
    "start_time": "2023-02-21T21:08:59.334Z"
   },
   {
    "duration": 33,
    "start_time": "2023-02-21T21:08:59.570Z"
   },
   {
    "duration": 220,
    "start_time": "2023-02-21T21:08:59.613Z"
   },
   {
    "duration": 239,
    "start_time": "2023-02-21T21:08:59.835Z"
   },
   {
    "duration": 218,
    "start_time": "2023-02-21T21:09:00.076Z"
   },
   {
    "duration": 359,
    "start_time": "2023-02-21T21:09:00.295Z"
   },
   {
    "duration": 186,
    "start_time": "2023-02-21T21:09:16.956Z"
   },
   {
    "duration": 677,
    "start_time": "2023-02-21T22:48:46.057Z"
   },
   {
    "duration": 93,
    "start_time": "2023-02-21T22:48:46.736Z"
   },
   {
    "duration": 41,
    "start_time": "2023-02-21T22:48:46.831Z"
   },
   {
    "duration": 31,
    "start_time": "2023-02-21T22:48:46.874Z"
   },
   {
    "duration": 81,
    "start_time": "2023-02-21T22:48:46.912Z"
   },
   {
    "duration": 2479,
    "start_time": "2023-02-21T22:48:46.994Z"
   },
   {
    "duration": 4,
    "start_time": "2023-02-21T22:48:49.474Z"
   },
   {
    "duration": 38,
    "start_time": "2023-02-21T22:48:49.480Z"
   },
   {
    "duration": 4,
    "start_time": "2023-02-21T22:48:49.520Z"
   },
   {
    "duration": 12,
    "start_time": "2023-02-21T22:48:49.527Z"
   },
   {
    "duration": 6,
    "start_time": "2023-02-21T22:48:49.540Z"
   },
   {
    "duration": 58,
    "start_time": "2023-02-21T22:48:49.548Z"
   },
   {
    "duration": 6,
    "start_time": "2023-02-21T22:48:49.607Z"
   },
   {
    "duration": 14,
    "start_time": "2023-02-21T22:48:49.615Z"
   },
   {
    "duration": 5,
    "start_time": "2023-02-21T22:48:49.630Z"
   },
   {
    "duration": 5,
    "start_time": "2023-02-21T22:48:49.637Z"
   },
   {
    "duration": 9,
    "start_time": "2023-02-21T22:48:49.643Z"
   },
   {
    "duration": 6,
    "start_time": "2023-02-21T22:48:49.654Z"
   },
   {
    "duration": 28,
    "start_time": "2023-02-21T22:48:49.662Z"
   },
   {
    "duration": 39,
    "start_time": "2023-02-21T22:48:49.691Z"
   },
   {
    "duration": 25,
    "start_time": "2023-02-21T22:48:49.732Z"
   },
   {
    "duration": 10,
    "start_time": "2023-02-21T22:48:49.759Z"
   },
   {
    "duration": 14,
    "start_time": "2023-02-21T22:48:49.770Z"
   },
   {
    "duration": 46,
    "start_time": "2023-02-21T22:48:49.785Z"
   },
   {
    "duration": 20,
    "start_time": "2023-02-21T22:48:49.833Z"
   },
   {
    "duration": 10,
    "start_time": "2023-02-21T22:48:49.854Z"
   },
   {
    "duration": 18,
    "start_time": "2023-02-21T22:48:49.865Z"
   },
   {
    "duration": 29,
    "start_time": "2023-02-21T22:48:49.886Z"
   },
   {
    "duration": 13,
    "start_time": "2023-02-21T22:48:49.917Z"
   },
   {
    "duration": 7,
    "start_time": "2023-02-21T22:48:49.932Z"
   },
   {
    "duration": 10,
    "start_time": "2023-02-21T22:48:49.941Z"
   },
   {
    "duration": 24,
    "start_time": "2023-02-21T22:48:49.952Z"
   },
   {
    "duration": 146,
    "start_time": "2023-02-21T22:48:49.977Z"
   },
   {
    "duration": 19,
    "start_time": "2023-02-21T22:48:50.125Z"
   },
   {
    "duration": 50,
    "start_time": "2023-02-21T22:48:50.145Z"
   },
   {
    "duration": 9,
    "start_time": "2023-02-21T22:48:50.197Z"
   },
   {
    "duration": 27,
    "start_time": "2023-02-21T22:48:50.209Z"
   },
   {
    "duration": 32,
    "start_time": "2023-02-21T22:48:50.237Z"
   },
   {
    "duration": 9,
    "start_time": "2023-02-21T22:48:50.271Z"
   },
   {
    "duration": 330,
    "start_time": "2023-02-21T22:48:50.282Z"
   },
   {
    "duration": 4,
    "start_time": "2023-02-21T22:48:50.614Z"
   },
   {
    "duration": 43,
    "start_time": "2023-02-21T22:48:50.620Z"
   },
   {
    "duration": 2149,
    "start_time": "2023-02-21T22:48:50.665Z"
   },
   {
    "duration": 206,
    "start_time": "2023-02-21T22:48:52.816Z"
   },
   {
    "duration": 19,
    "start_time": "2023-02-21T22:48:53.025Z"
   },
   {
    "duration": 226,
    "start_time": "2023-02-21T22:48:53.047Z"
   },
   {
    "duration": 227,
    "start_time": "2023-02-21T22:48:53.275Z"
   },
   {
    "duration": 213,
    "start_time": "2023-02-21T22:48:53.503Z"
   },
   {
    "duration": 216,
    "start_time": "2023-02-21T22:49:34.713Z"
   },
   {
    "duration": 646,
    "start_time": "2023-02-21T22:53:53.953Z"
   },
   {
    "duration": 103,
    "start_time": "2023-02-21T22:53:54.606Z"
   },
   {
    "duration": 44,
    "start_time": "2023-02-21T22:53:54.713Z"
   },
   {
    "duration": 29,
    "start_time": "2023-02-21T22:53:54.760Z"
   },
   {
    "duration": 84,
    "start_time": "2023-02-21T22:53:54.796Z"
   },
   {
    "duration": 2498,
    "start_time": "2023-02-21T22:53:54.882Z"
   },
   {
    "duration": 14,
    "start_time": "2023-02-21T22:53:57.382Z"
   },
   {
    "duration": 64,
    "start_time": "2023-02-21T22:53:57.398Z"
   },
   {
    "duration": 13,
    "start_time": "2023-02-21T22:53:57.464Z"
   },
   {
    "duration": 19,
    "start_time": "2023-02-21T22:53:57.479Z"
   },
   {
    "duration": 23,
    "start_time": "2023-02-21T22:53:57.500Z"
   },
   {
    "duration": 50,
    "start_time": "2023-02-21T22:53:57.525Z"
   },
   {
    "duration": 19,
    "start_time": "2023-02-21T22:53:57.577Z"
   },
   {
    "duration": 23,
    "start_time": "2023-02-21T22:53:57.600Z"
   },
   {
    "duration": 11,
    "start_time": "2023-02-21T22:53:57.625Z"
   },
   {
    "duration": 9,
    "start_time": "2023-02-21T22:53:57.638Z"
   },
   {
    "duration": 17,
    "start_time": "2023-02-21T22:53:57.649Z"
   },
   {
    "duration": 12,
    "start_time": "2023-02-21T22:53:57.667Z"
   },
   {
    "duration": 36,
    "start_time": "2023-02-21T22:53:57.681Z"
   },
   {
    "duration": 10,
    "start_time": "2023-02-21T22:53:57.718Z"
   },
   {
    "duration": 8,
    "start_time": "2023-02-21T22:53:57.729Z"
   },
   {
    "duration": 7,
    "start_time": "2023-02-21T22:53:57.739Z"
   },
   {
    "duration": 7,
    "start_time": "2023-02-21T22:53:57.748Z"
   },
   {
    "duration": 9,
    "start_time": "2023-02-21T22:53:57.757Z"
   },
   {
    "duration": 26,
    "start_time": "2023-02-21T22:53:57.767Z"
   },
   {
    "duration": 33,
    "start_time": "2023-02-21T22:53:57.794Z"
   },
   {
    "duration": 42,
    "start_time": "2023-02-21T22:53:57.829Z"
   },
   {
    "duration": 42,
    "start_time": "2023-02-21T22:53:57.875Z"
   },
   {
    "duration": 35,
    "start_time": "2023-02-21T22:53:57.919Z"
   },
   {
    "duration": 8,
    "start_time": "2023-02-21T22:53:57.956Z"
   },
   {
    "duration": 9,
    "start_time": "2023-02-21T22:53:57.966Z"
   },
   {
    "duration": 17,
    "start_time": "2023-02-21T22:53:57.976Z"
   },
   {
    "duration": 155,
    "start_time": "2023-02-21T22:53:57.997Z"
   },
   {
    "duration": 18,
    "start_time": "2023-02-21T22:53:58.154Z"
   },
   {
    "duration": 79,
    "start_time": "2023-02-21T22:53:58.174Z"
   },
   {
    "duration": 28,
    "start_time": "2023-02-21T22:53:58.254Z"
   },
   {
    "duration": 52,
    "start_time": "2023-02-21T22:53:58.284Z"
   },
   {
    "duration": 21,
    "start_time": "2023-02-21T22:53:58.338Z"
   },
   {
    "duration": 47,
    "start_time": "2023-02-21T22:53:58.361Z"
   },
   {
    "duration": 327,
    "start_time": "2023-02-21T22:53:58.412Z"
   },
   {
    "duration": 5,
    "start_time": "2023-02-21T22:53:58.741Z"
   },
   {
    "duration": 57,
    "start_time": "2023-02-21T22:53:58.747Z"
   },
   {
    "duration": 2145,
    "start_time": "2023-02-21T22:53:58.805Z"
   },
   {
    "duration": 208,
    "start_time": "2023-02-21T22:54:00.953Z"
   },
   {
    "duration": 26,
    "start_time": "2023-02-21T22:54:01.163Z"
   },
   {
    "duration": 332,
    "start_time": "2023-02-21T22:54:01.191Z"
   },
   {
    "duration": 210,
    "start_time": "2023-02-21T22:54:01.525Z"
   },
   {
    "duration": 200,
    "start_time": "2023-02-21T22:54:01.737Z"
   },
   {
    "duration": 255549,
    "start_time": "2023-02-21T22:54:01.940Z"
   },
   {
    "duration": 327522,
    "start_time": "2023-02-21T22:58:17.493Z"
   },
   {
    "duration": 221,
    "start_time": "2023-02-21T23:03:45.019Z"
   },
   {
    "duration": 204,
    "start_time": "2023-02-21T23:04:04.063Z"
   },
   {
    "duration": 190,
    "start_time": "2023-02-21T23:04:18.967Z"
   },
   {
    "duration": 179,
    "start_time": "2023-02-21T23:04:33.975Z"
   },
   {
    "duration": 313731,
    "start_time": "2023-02-21T23:04:42.217Z"
   },
   {
    "duration": 236,
    "start_time": "2023-02-21T23:10:44.970Z"
   },
   {
    "duration": 111,
    "start_time": "2023-02-21T23:10:58.386Z"
   },
   {
    "duration": 947,
    "start_time": "2023-02-21T23:12:08.903Z"
   },
   {
    "duration": 925,
    "start_time": "2023-02-21T23:12:43.903Z"
   },
   {
    "duration": 1181,
    "start_time": "2023-02-21T23:12:59.613Z"
   },
   {
    "duration": 17,
    "start_time": "2023-02-21T23:13:39.029Z"
   },
   {
    "duration": 162,
    "start_time": "2023-02-21T23:13:56.556Z"
   },
   {
    "duration": 133,
    "start_time": "2023-02-21T23:16:51.911Z"
   },
   {
    "duration": 142,
    "start_time": "2023-02-21T23:17:53.959Z"
   },
   {
    "duration": 141,
    "start_time": "2023-02-21T23:20:00.615Z"
   },
   {
    "duration": 149,
    "start_time": "2023-02-21T23:20:07.648Z"
   },
   {
    "duration": 147,
    "start_time": "2023-02-21T23:20:16.769Z"
   },
   {
    "duration": 139,
    "start_time": "2023-02-21T23:21:33.024Z"
   },
   {
    "duration": 177,
    "start_time": "2023-02-21T23:21:47.384Z"
   },
   {
    "duration": 169,
    "start_time": "2023-02-21T23:21:55.376Z"
   },
   {
    "duration": 141,
    "start_time": "2023-02-21T23:22:18.017Z"
   },
   {
    "duration": 24,
    "start_time": "2023-02-21T23:41:11.405Z"
   },
   {
    "duration": 25,
    "start_time": "2023-02-21T23:41:35.318Z"
   },
   {
    "duration": 35,
    "start_time": "2023-02-22T00:07:29.242Z"
   },
   {
    "duration": 37,
    "start_time": "2023-02-22T00:07:44.713Z"
   },
   {
    "duration": 634,
    "start_time": "2023-02-22T00:07:57.264Z"
   },
   {
    "duration": 97,
    "start_time": "2023-02-22T00:07:57.900Z"
   },
   {
    "duration": 41,
    "start_time": "2023-02-22T00:07:58.000Z"
   },
   {
    "duration": 16,
    "start_time": "2023-02-22T00:07:58.044Z"
   },
   {
    "duration": 97,
    "start_time": "2023-02-22T00:07:58.062Z"
   },
   {
    "duration": 2164,
    "start_time": "2023-02-22T00:07:58.161Z"
   },
   {
    "duration": 4,
    "start_time": "2023-02-22T00:08:00.326Z"
   },
   {
    "duration": 21,
    "start_time": "2023-02-22T00:08:00.331Z"
   },
   {
    "duration": 45,
    "start_time": "2023-02-22T00:08:00.354Z"
   },
   {
    "duration": 26,
    "start_time": "2023-02-22T00:08:00.401Z"
   },
   {
    "duration": 20,
    "start_time": "2023-02-22T00:08:00.428Z"
   },
   {
    "duration": 69,
    "start_time": "2023-02-22T00:08:00.450Z"
   },
   {
    "duration": 6,
    "start_time": "2023-02-22T00:08:00.520Z"
   },
   {
    "duration": 59,
    "start_time": "2023-02-22T00:08:00.528Z"
   },
   {
    "duration": 19,
    "start_time": "2023-02-22T00:08:00.589Z"
   },
   {
    "duration": 16,
    "start_time": "2023-02-22T00:08:00.609Z"
   },
   {
    "duration": 19,
    "start_time": "2023-02-22T00:08:00.627Z"
   },
   {
    "duration": 12,
    "start_time": "2023-02-22T00:08:00.648Z"
   },
   {
    "duration": 54,
    "start_time": "2023-02-22T00:08:00.661Z"
   },
   {
    "duration": 30,
    "start_time": "2023-02-22T00:08:00.716Z"
   },
   {
    "duration": 36,
    "start_time": "2023-02-22T00:08:00.748Z"
   },
   {
    "duration": 37,
    "start_time": "2023-02-22T00:08:00.788Z"
   },
   {
    "duration": 36,
    "start_time": "2023-02-22T00:08:00.827Z"
   },
   {
    "duration": 43,
    "start_time": "2023-02-22T00:08:00.865Z"
   },
   {
    "duration": 26,
    "start_time": "2023-02-22T00:08:00.910Z"
   },
   {
    "duration": 43,
    "start_time": "2023-02-22T00:08:00.938Z"
   },
   {
    "duration": 47,
    "start_time": "2023-02-22T00:08:00.983Z"
   },
   {
    "duration": 56,
    "start_time": "2023-02-22T00:08:01.033Z"
   },
   {
    "duration": 44,
    "start_time": "2023-02-22T00:08:01.094Z"
   },
   {
    "duration": 65,
    "start_time": "2023-02-22T00:08:01.139Z"
   },
   {
    "duration": 38,
    "start_time": "2023-02-22T00:08:01.206Z"
   },
   {
    "duration": 119,
    "start_time": "2023-02-22T00:08:01.245Z"
   },
   {
    "duration": 151,
    "start_time": "2023-02-22T00:08:01.365Z"
   },
   {
    "duration": 23,
    "start_time": "2023-02-22T00:08:01.518Z"
   },
   {
    "duration": 52,
    "start_time": "2023-02-22T00:08:01.543Z"
   },
   {
    "duration": 34,
    "start_time": "2023-02-22T00:08:01.598Z"
   },
   {
    "duration": 28,
    "start_time": "2023-02-22T00:08:01.633Z"
   },
   {
    "duration": 34,
    "start_time": "2023-02-22T00:08:01.663Z"
   },
   {
    "duration": 6,
    "start_time": "2023-02-22T00:08:01.700Z"
   },
   {
    "duration": 16,
    "start_time": "2023-02-22T00:08:01.707Z"
   },
   {
    "duration": 31,
    "start_time": "2023-02-22T00:08:01.724Z"
   },
   {
    "duration": 331,
    "start_time": "2023-02-22T00:08:01.757Z"
   },
   {
    "duration": 8,
    "start_time": "2023-02-22T00:08:02.093Z"
   },
   {
    "duration": 45,
    "start_time": "2023-02-22T00:08:02.102Z"
   },
   {
    "duration": 1954,
    "start_time": "2023-02-22T00:08:02.148Z"
   },
   {
    "duration": 165,
    "start_time": "2023-02-22T00:08:04.104Z"
   },
   {
    "duration": 30,
    "start_time": "2023-02-22T00:08:04.271Z"
   },
   {
    "duration": 197,
    "start_time": "2023-02-22T00:08:04.302Z"
   },
   {
    "duration": 200,
    "start_time": "2023-02-22T00:08:04.501Z"
   },
   {
    "duration": 173,
    "start_time": "2023-02-22T00:08:04.703Z"
   },
   {
    "duration": 269,
    "start_time": "2023-02-22T00:08:04.877Z"
   },
   {
    "duration": 153,
    "start_time": "2023-02-22T00:08:05.148Z"
   },
   {
    "duration": 165,
    "start_time": "2023-02-22T00:08:05.302Z"
   },
   {
    "duration": 171,
    "start_time": "2023-02-22T00:08:05.470Z"
   },
   {
    "duration": 159,
    "start_time": "2023-02-22T00:08:05.643Z"
   },
   {
    "duration": 7,
    "start_time": "2023-02-22T00:08:39.155Z"
   },
   {
    "duration": 612,
    "start_time": "2023-02-22T00:13:05.037Z"
   },
   {
    "duration": 93,
    "start_time": "2023-02-22T00:13:05.651Z"
   },
   {
    "duration": 54,
    "start_time": "2023-02-22T00:13:05.746Z"
   },
   {
    "duration": 14,
    "start_time": "2023-02-22T00:13:05.802Z"
   },
   {
    "duration": 87,
    "start_time": "2023-02-22T00:13:05.817Z"
   },
   {
    "duration": 2172,
    "start_time": "2023-02-22T00:13:05.905Z"
   },
   {
    "duration": 5,
    "start_time": "2023-02-22T00:13:08.078Z"
   },
   {
    "duration": 28,
    "start_time": "2023-02-22T00:13:08.084Z"
   },
   {
    "duration": 7,
    "start_time": "2023-02-22T00:13:08.113Z"
   },
   {
    "duration": 10,
    "start_time": "2023-02-22T00:13:08.122Z"
   },
   {
    "duration": 6,
    "start_time": "2023-02-22T00:13:08.134Z"
   },
   {
    "duration": 63,
    "start_time": "2023-02-22T00:13:08.141Z"
   },
   {
    "duration": 5,
    "start_time": "2023-02-22T00:13:08.206Z"
   },
   {
    "duration": 7,
    "start_time": "2023-02-22T00:13:08.213Z"
   },
   {
    "duration": 6,
    "start_time": "2023-02-22T00:13:08.222Z"
   },
   {
    "duration": 5,
    "start_time": "2023-02-22T00:13:08.230Z"
   },
   {
    "duration": 7,
    "start_time": "2023-02-22T00:13:08.236Z"
   },
   {
    "duration": 7,
    "start_time": "2023-02-22T00:13:08.244Z"
   },
   {
    "duration": 47,
    "start_time": "2023-02-22T00:13:08.252Z"
   },
   {
    "duration": 14,
    "start_time": "2023-02-22T00:13:08.300Z"
   },
   {
    "duration": 14,
    "start_time": "2023-02-22T00:13:08.316Z"
   },
   {
    "duration": 44,
    "start_time": "2023-02-22T00:13:08.332Z"
   },
   {
    "duration": 66,
    "start_time": "2023-02-22T00:13:08.378Z"
   },
   {
    "duration": 18,
    "start_time": "2023-02-22T00:13:08.445Z"
   },
   {
    "duration": 29,
    "start_time": "2023-02-22T00:13:08.465Z"
   },
   {
    "duration": 20,
    "start_time": "2023-02-22T00:13:08.495Z"
   },
   {
    "duration": 25,
    "start_time": "2023-02-22T00:13:08.516Z"
   },
   {
    "duration": 39,
    "start_time": "2023-02-22T00:13:08.545Z"
   },
   {
    "duration": 43,
    "start_time": "2023-02-22T00:13:08.585Z"
   },
   {
    "duration": 25,
    "start_time": "2023-02-22T00:13:08.630Z"
   },
   {
    "duration": 7,
    "start_time": "2023-02-22T00:13:08.657Z"
   },
   {
    "duration": 12,
    "start_time": "2023-02-22T00:13:08.665Z"
   },
   {
    "duration": 145,
    "start_time": "2023-02-22T00:13:08.679Z"
   },
   {
    "duration": 28,
    "start_time": "2023-02-22T00:13:08.826Z"
   },
   {
    "duration": 9,
    "start_time": "2023-02-22T00:13:08.856Z"
   },
   {
    "duration": 11,
    "start_time": "2023-02-22T00:13:08.886Z"
   },
   {
    "duration": 20,
    "start_time": "2023-02-22T00:13:08.898Z"
   },
   {
    "duration": 12,
    "start_time": "2023-02-22T00:13:08.920Z"
   },
   {
    "duration": 295,
    "start_time": "2023-02-22T00:13:08.933Z"
   },
   {
    "duration": 4,
    "start_time": "2023-02-22T00:13:09.230Z"
   },
   {
    "duration": 39,
    "start_time": "2023-02-22T00:13:09.236Z"
   },
   {
    "duration": 1925,
    "start_time": "2023-02-22T00:13:09.289Z"
   },
   {
    "duration": 190,
    "start_time": "2023-02-22T00:13:11.216Z"
   },
   {
    "duration": 17,
    "start_time": "2023-02-22T00:13:11.407Z"
   },
   {
    "duration": 197,
    "start_time": "2023-02-22T00:13:11.426Z"
   },
   {
    "duration": 199,
    "start_time": "2023-02-22T00:13:11.625Z"
   },
   {
    "duration": 180,
    "start_time": "2023-02-22T00:13:11.826Z"
   },
   {
    "duration": 167,
    "start_time": "2023-02-22T00:13:12.008Z"
   },
   {
    "duration": 225,
    "start_time": "2023-02-22T00:13:12.176Z"
   },
   {
    "duration": 156,
    "start_time": "2023-02-22T00:13:12.402Z"
   },
   {
    "duration": 147,
    "start_time": "2023-02-22T00:13:12.560Z"
   },
   {
    "duration": 148,
    "start_time": "2023-02-22T00:13:12.709Z"
   },
   {
    "duration": 47,
    "start_time": "2023-02-22T00:16:23.105Z"
   },
   {
    "duration": 69,
    "start_time": "2023-02-22T00:22:12.109Z"
   },
   {
    "duration": 71,
    "start_time": "2023-02-22T00:33:17.948Z"
   },
   {
    "duration": 68,
    "start_time": "2023-02-22T00:34:25.620Z"
   },
   {
    "duration": 8,
    "start_time": "2023-02-22T00:34:40.580Z"
   },
   {
    "duration": 174,
    "start_time": "2023-02-22T00:35:06.644Z"
   },
   {
    "duration": 14,
    "start_time": "2023-02-22T00:35:16.332Z"
   },
   {
    "duration": 34,
    "start_time": "2023-02-22T00:35:23.581Z"
   },
   {
    "duration": 113,
    "start_time": "2023-02-22T00:35:33.208Z"
   },
   {
    "duration": 7,
    "start_time": "2023-02-22T00:35:45.125Z"
   },
   {
    "duration": 20,
    "start_time": "2023-02-22T00:47:47.870Z"
   },
   {
    "duration": 22,
    "start_time": "2023-02-22T00:48:52.022Z"
   },
   {
    "duration": 28,
    "start_time": "2023-02-22T00:50:35.666Z"
   },
   {
    "duration": 24,
    "start_time": "2023-02-22T00:51:00.765Z"
   },
   {
    "duration": 21,
    "start_time": "2023-02-22T00:51:11.638Z"
   },
   {
    "duration": 25,
    "start_time": "2023-02-22T00:51:25.437Z"
   },
   {
    "duration": 26,
    "start_time": "2023-02-22T00:51:32.477Z"
   },
   {
    "duration": 7,
    "start_time": "2023-02-22T00:52:20.412Z"
   },
   {
    "duration": 22,
    "start_time": "2023-02-22T00:53:23.037Z"
   },
   {
    "duration": 23,
    "start_time": "2023-02-22T00:53:44.517Z"
   },
   {
    "duration": 8,
    "start_time": "2023-02-22T00:54:02.813Z"
   },
   {
    "duration": 7,
    "start_time": "2023-02-22T00:54:24.310Z"
   },
   {
    "duration": 802,
    "start_time": "2023-02-22T12:53:30.604Z"
   },
   {
    "duration": 161,
    "start_time": "2023-02-22T12:53:31.409Z"
   },
   {
    "duration": 43,
    "start_time": "2023-02-22T12:53:31.572Z"
   },
   {
    "duration": 16,
    "start_time": "2023-02-22T12:53:31.618Z"
   },
   {
    "duration": 90,
    "start_time": "2023-02-22T12:53:31.636Z"
   },
   {
    "duration": 2170,
    "start_time": "2023-02-22T12:53:31.728Z"
   },
   {
    "duration": 5,
    "start_time": "2023-02-22T12:53:33.901Z"
   },
   {
    "duration": 8,
    "start_time": "2023-02-22T12:53:33.908Z"
   },
   {
    "duration": 4,
    "start_time": "2023-02-22T12:53:33.918Z"
   },
   {
    "duration": 12,
    "start_time": "2023-02-22T12:53:33.925Z"
   },
   {
    "duration": 7,
    "start_time": "2023-02-22T12:53:33.953Z"
   },
   {
    "duration": 52,
    "start_time": "2023-02-22T12:53:33.962Z"
   },
   {
    "duration": 5,
    "start_time": "2023-02-22T12:53:34.015Z"
   },
   {
    "duration": 34,
    "start_time": "2023-02-22T12:53:34.021Z"
   },
   {
    "duration": 6,
    "start_time": "2023-02-22T12:53:34.057Z"
   },
   {
    "duration": 5,
    "start_time": "2023-02-22T12:53:34.065Z"
   },
   {
    "duration": 6,
    "start_time": "2023-02-22T12:53:34.071Z"
   },
   {
    "duration": 5,
    "start_time": "2023-02-22T12:53:34.079Z"
   },
   {
    "duration": 11,
    "start_time": "2023-02-22T12:53:34.085Z"
   },
   {
    "duration": 9,
    "start_time": "2023-02-22T12:53:34.098Z"
   },
   {
    "duration": 7,
    "start_time": "2023-02-22T12:53:34.109Z"
   },
   {
    "duration": 9,
    "start_time": "2023-02-22T12:53:34.153Z"
   },
   {
    "duration": 8,
    "start_time": "2023-02-22T12:53:34.164Z"
   },
   {
    "duration": 5,
    "start_time": "2023-02-22T12:53:34.174Z"
   },
   {
    "duration": 5,
    "start_time": "2023-02-22T12:53:34.180Z"
   },
   {
    "duration": 6,
    "start_time": "2023-02-22T12:53:34.186Z"
   },
   {
    "duration": 9,
    "start_time": "2023-02-22T12:53:34.193Z"
   },
   {
    "duration": 5,
    "start_time": "2023-02-22T12:53:34.205Z"
   },
   {
    "duration": 6,
    "start_time": "2023-02-22T12:53:34.211Z"
   },
   {
    "duration": 5,
    "start_time": "2023-02-22T12:53:34.219Z"
   },
   {
    "duration": 32,
    "start_time": "2023-02-22T12:53:34.225Z"
   },
   {
    "duration": 10,
    "start_time": "2023-02-22T12:53:34.258Z"
   },
   {
    "duration": 150,
    "start_time": "2023-02-22T12:53:34.269Z"
   },
   {
    "duration": 39,
    "start_time": "2023-02-22T12:53:34.420Z"
   },
   {
    "duration": 8,
    "start_time": "2023-02-22T12:53:34.460Z"
   },
   {
    "duration": 5,
    "start_time": "2023-02-22T12:53:34.470Z"
   },
   {
    "duration": 11,
    "start_time": "2023-02-22T12:53:34.477Z"
   },
   {
    "duration": 9,
    "start_time": "2023-02-22T12:53:34.489Z"
   },
   {
    "duration": 312,
    "start_time": "2023-02-22T12:53:34.499Z"
   },
   {
    "duration": 5,
    "start_time": "2023-02-22T12:53:34.813Z"
   },
   {
    "duration": 46,
    "start_time": "2023-02-22T12:53:34.820Z"
   },
   {
    "duration": 2109,
    "start_time": "2023-02-22T12:53:34.867Z"
   },
   {
    "duration": 188,
    "start_time": "2023-02-22T12:53:36.977Z"
   },
   {
    "duration": 17,
    "start_time": "2023-02-22T12:53:37.167Z"
   },
   {
    "duration": 205,
    "start_time": "2023-02-22T12:53:37.186Z"
   },
   {
    "duration": 196,
    "start_time": "2023-02-22T12:53:37.393Z"
   },
   {
    "duration": 244,
    "start_time": "2023-02-22T12:53:37.590Z"
   },
   {
    "duration": 181,
    "start_time": "2023-02-22T12:53:37.836Z"
   },
   {
    "duration": 221,
    "start_time": "2023-02-22T12:53:38.019Z"
   },
   {
    "duration": 164,
    "start_time": "2023-02-22T12:53:38.242Z"
   },
   {
    "duration": 148,
    "start_time": "2023-02-22T12:53:38.407Z"
   },
   {
    "duration": 147,
    "start_time": "2023-02-22T12:53:38.557Z"
   },
   {
    "duration": 24,
    "start_time": "2023-02-22T12:53:38.706Z"
   },
   {
    "duration": 7,
    "start_time": "2023-02-22T12:53:38.731Z"
   },
   {
    "duration": 649,
    "start_time": "2023-02-22T12:55:13.734Z"
   },
   {
    "duration": 109,
    "start_time": "2023-02-22T12:55:14.385Z"
   },
   {
    "duration": 47,
    "start_time": "2023-02-22T12:55:14.496Z"
   },
   {
    "duration": 16,
    "start_time": "2023-02-22T12:55:14.553Z"
   },
   {
    "duration": 93,
    "start_time": "2023-02-22T12:55:14.571Z"
   },
   {
    "duration": 2225,
    "start_time": "2023-02-22T12:55:14.665Z"
   },
   {
    "duration": 4,
    "start_time": "2023-02-22T12:55:16.892Z"
   },
   {
    "duration": 8,
    "start_time": "2023-02-22T12:55:16.897Z"
   },
   {
    "duration": 8,
    "start_time": "2023-02-22T12:55:16.906Z"
   },
   {
    "duration": 10,
    "start_time": "2023-02-22T12:55:16.916Z"
   },
   {
    "duration": 5,
    "start_time": "2023-02-22T12:55:16.927Z"
   },
   {
    "duration": 47,
    "start_time": "2023-02-22T12:55:16.934Z"
   },
   {
    "duration": 5,
    "start_time": "2023-02-22T12:55:16.983Z"
   },
   {
    "duration": 8,
    "start_time": "2023-02-22T12:55:16.989Z"
   },
   {
    "duration": 8,
    "start_time": "2023-02-22T12:55:16.999Z"
   },
   {
    "duration": 7,
    "start_time": "2023-02-22T12:55:17.009Z"
   },
   {
    "duration": 9,
    "start_time": "2023-02-22T12:55:17.017Z"
   },
   {
    "duration": 26,
    "start_time": "2023-02-22T12:55:17.028Z"
   },
   {
    "duration": 9,
    "start_time": "2023-02-22T12:55:17.055Z"
   },
   {
    "duration": 10,
    "start_time": "2023-02-22T12:55:17.066Z"
   },
   {
    "duration": 9,
    "start_time": "2023-02-22T12:55:17.078Z"
   },
   {
    "duration": 13,
    "start_time": "2023-02-22T12:55:17.089Z"
   },
   {
    "duration": 20,
    "start_time": "2023-02-22T12:55:17.104Z"
   },
   {
    "duration": 6,
    "start_time": "2023-02-22T12:55:17.125Z"
   },
   {
    "duration": 22,
    "start_time": "2023-02-22T12:55:17.133Z"
   },
   {
    "duration": 4,
    "start_time": "2023-02-22T12:55:17.157Z"
   },
   {
    "duration": 11,
    "start_time": "2023-02-22T12:55:17.162Z"
   },
   {
    "duration": 9,
    "start_time": "2023-02-22T12:55:17.177Z"
   },
   {
    "duration": 6,
    "start_time": "2023-02-22T12:55:17.188Z"
   },
   {
    "duration": 8,
    "start_time": "2023-02-22T12:55:17.196Z"
   },
   {
    "duration": 7,
    "start_time": "2023-02-22T12:55:17.205Z"
   },
   {
    "duration": 12,
    "start_time": "2023-02-22T12:55:17.214Z"
   },
   {
    "duration": 127,
    "start_time": "2023-02-22T12:55:17.227Z"
   },
   {
    "duration": 26,
    "start_time": "2023-02-22T12:55:17.355Z"
   },
   {
    "duration": 6,
    "start_time": "2023-02-22T12:55:17.383Z"
   },
   {
    "duration": 13,
    "start_time": "2023-02-22T12:55:17.390Z"
   },
   {
    "duration": 16,
    "start_time": "2023-02-22T12:55:17.404Z"
   },
   {
    "duration": 6,
    "start_time": "2023-02-22T12:55:17.422Z"
   },
   {
    "duration": 304,
    "start_time": "2023-02-22T12:55:17.430Z"
   },
   {
    "duration": 5,
    "start_time": "2023-02-22T12:55:17.736Z"
   },
   {
    "duration": 34,
    "start_time": "2023-02-22T12:55:17.753Z"
   },
   {
    "duration": 1970,
    "start_time": "2023-02-22T12:55:17.788Z"
   },
   {
    "duration": 188,
    "start_time": "2023-02-22T12:55:19.761Z"
   },
   {
    "duration": 19,
    "start_time": "2023-02-22T12:55:19.952Z"
   },
   {
    "duration": 217,
    "start_time": "2023-02-22T12:55:19.973Z"
   },
   {
    "duration": 197,
    "start_time": "2023-02-22T12:55:20.192Z"
   },
   {
    "duration": 193,
    "start_time": "2023-02-22T12:55:20.391Z"
   },
   {
    "duration": 171,
    "start_time": "2023-02-22T12:55:20.585Z"
   },
   {
    "duration": 226,
    "start_time": "2023-02-22T12:55:20.757Z"
   },
   {
    "duration": 161,
    "start_time": "2023-02-22T12:55:20.984Z"
   },
   {
    "duration": 161,
    "start_time": "2023-02-22T12:55:21.146Z"
   },
   {
    "duration": 163,
    "start_time": "2023-02-22T12:55:21.309Z"
   },
   {
    "duration": 22,
    "start_time": "2023-02-22T12:55:21.474Z"
   },
   {
    "duration": 7,
    "start_time": "2023-02-22T12:55:21.498Z"
   },
   {
    "duration": 6,
    "start_time": "2023-02-22T13:10:58.999Z"
   },
   {
    "duration": 10,
    "start_time": "2023-02-22T13:11:40.183Z"
   },
   {
    "duration": 15,
    "start_time": "2023-02-22T13:12:20.712Z"
   },
   {
    "duration": 7,
    "start_time": "2023-02-22T13:12:25.671Z"
   },
   {
    "duration": 14,
    "start_time": "2023-02-22T13:13:13.433Z"
   },
   {
    "duration": 6,
    "start_time": "2023-02-22T13:13:15.768Z"
   },
   {
    "duration": 8,
    "start_time": "2023-02-22T13:13:21.055Z"
   },
   {
    "duration": 9,
    "start_time": "2023-02-22T13:13:49.039Z"
   },
   {
    "duration": 6,
    "start_time": "2023-02-22T13:13:52.071Z"
   },
   {
    "duration": 666,
    "start_time": "2023-02-22T13:16:45.270Z"
   },
   {
    "duration": 103,
    "start_time": "2023-02-22T13:16:45.938Z"
   },
   {
    "duration": 46,
    "start_time": "2023-02-22T13:16:46.043Z"
   },
   {
    "duration": 17,
    "start_time": "2023-02-22T13:16:46.092Z"
   },
   {
    "duration": 101,
    "start_time": "2023-02-22T13:16:46.111Z"
   },
   {
    "duration": 2328,
    "start_time": "2023-02-22T13:16:46.214Z"
   },
   {
    "duration": 4,
    "start_time": "2023-02-22T13:16:48.544Z"
   },
   {
    "duration": 11,
    "start_time": "2023-02-22T13:16:48.549Z"
   },
   {
    "duration": 6,
    "start_time": "2023-02-22T13:16:48.561Z"
   },
   {
    "duration": 16,
    "start_time": "2023-02-22T13:16:48.569Z"
   },
   {
    "duration": 7,
    "start_time": "2023-02-22T13:16:48.587Z"
   },
   {
    "duration": 68,
    "start_time": "2023-02-22T13:16:48.595Z"
   },
   {
    "duration": 6,
    "start_time": "2023-02-22T13:16:48.665Z"
   },
   {
    "duration": 8,
    "start_time": "2023-02-22T13:16:48.673Z"
   },
   {
    "duration": 6,
    "start_time": "2023-02-22T13:16:48.682Z"
   },
   {
    "duration": 20,
    "start_time": "2023-02-22T13:16:48.689Z"
   },
   {
    "duration": 10,
    "start_time": "2023-02-22T13:16:48.710Z"
   },
   {
    "duration": 13,
    "start_time": "2023-02-22T13:16:48.722Z"
   },
   {
    "duration": 14,
    "start_time": "2023-02-22T13:16:48.737Z"
   },
   {
    "duration": 9,
    "start_time": "2023-02-22T13:16:48.752Z"
   },
   {
    "duration": 18,
    "start_time": "2023-02-22T13:16:48.762Z"
   },
   {
    "duration": 8,
    "start_time": "2023-02-22T13:16:48.781Z"
   },
   {
    "duration": 12,
    "start_time": "2023-02-22T13:16:48.790Z"
   },
   {
    "duration": 9,
    "start_time": "2023-02-22T13:16:48.804Z"
   },
   {
    "duration": 7,
    "start_time": "2023-02-22T13:16:48.815Z"
   },
   {
    "duration": 12,
    "start_time": "2023-02-22T13:16:48.824Z"
   },
   {
    "duration": 9,
    "start_time": "2023-02-22T13:16:48.837Z"
   },
   {
    "duration": 4,
    "start_time": "2023-02-22T13:16:48.850Z"
   },
   {
    "duration": 17,
    "start_time": "2023-02-22T13:16:48.856Z"
   },
   {
    "duration": 13,
    "start_time": "2023-02-22T13:16:48.874Z"
   },
   {
    "duration": 14,
    "start_time": "2023-02-22T13:16:48.891Z"
   },
   {
    "duration": 17,
    "start_time": "2023-02-22T13:16:48.906Z"
   },
   {
    "duration": 124,
    "start_time": "2023-02-22T13:16:48.924Z"
   },
   {
    "duration": 25,
    "start_time": "2023-02-22T13:16:49.050Z"
   },
   {
    "duration": 7,
    "start_time": "2023-02-22T13:16:49.076Z"
   },
   {
    "duration": 18,
    "start_time": "2023-02-22T13:16:49.084Z"
   },
   {
    "duration": 12,
    "start_time": "2023-02-22T13:16:49.103Z"
   },
   {
    "duration": 10,
    "start_time": "2023-02-22T13:16:49.116Z"
   },
   {
    "duration": 292,
    "start_time": "2023-02-22T13:16:49.128Z"
   },
   {
    "duration": 4,
    "start_time": "2023-02-22T13:16:49.421Z"
   },
   {
    "duration": 37,
    "start_time": "2023-02-22T13:16:49.426Z"
   },
   {
    "duration": 1988,
    "start_time": "2023-02-22T13:16:49.465Z"
   },
   {
    "duration": 175,
    "start_time": "2023-02-22T13:16:51.455Z"
   },
   {
    "duration": 22,
    "start_time": "2023-02-22T13:16:51.632Z"
   },
   {
    "duration": 196,
    "start_time": "2023-02-22T13:16:51.655Z"
   },
   {
    "duration": 193,
    "start_time": "2023-02-22T13:16:51.852Z"
   },
   {
    "duration": 187,
    "start_time": "2023-02-22T13:16:52.046Z"
   },
   {
    "duration": 173,
    "start_time": "2023-02-22T13:16:52.234Z"
   },
   {
    "duration": 226,
    "start_time": "2023-02-22T13:16:52.409Z"
   },
   {
    "duration": 153,
    "start_time": "2023-02-22T13:16:52.636Z"
   },
   {
    "duration": 151,
    "start_time": "2023-02-22T13:16:52.790Z"
   },
   {
    "duration": 145,
    "start_time": "2023-02-22T13:16:52.942Z"
   },
   {
    "duration": 21,
    "start_time": "2023-02-22T13:16:53.088Z"
   },
   {
    "duration": 7,
    "start_time": "2023-02-22T13:16:53.110Z"
   },
   {
    "duration": 35,
    "start_time": "2023-02-22T13:16:53.118Z"
   },
   {
    "duration": 9,
    "start_time": "2023-02-22T13:16:53.154Z"
   },
   {
    "duration": 12,
    "start_time": "2023-02-22T13:16:53.165Z"
   },
   {
    "duration": 11,
    "start_time": "2023-02-22T13:16:53.179Z"
   },
   {
    "duration": 10,
    "start_time": "2023-02-22T13:21:53.470Z"
   },
   {
    "duration": 6,
    "start_time": "2023-02-22T13:22:08.750Z"
   },
   {
    "duration": 14,
    "start_time": "2023-02-22T13:28:01.191Z"
   },
   {
    "duration": 12,
    "start_time": "2023-02-22T13:28:02.535Z"
   },
   {
    "duration": 8,
    "start_time": "2023-02-22T13:28:03.899Z"
   },
   {
    "duration": 12,
    "start_time": "2023-02-22T13:28:09.857Z"
   },
   {
    "duration": 8,
    "start_time": "2023-02-22T13:28:16.016Z"
   },
   {
    "duration": 10,
    "start_time": "2023-02-22T13:28:34.937Z"
   },
   {
    "duration": 8,
    "start_time": "2023-02-22T13:28:36.129Z"
   },
   {
    "duration": 12,
    "start_time": "2023-02-22T13:28:50.153Z"
   },
   {
    "duration": 11,
    "start_time": "2023-02-22T13:28:50.856Z"
   },
   {
    "duration": 8,
    "start_time": "2023-02-22T13:28:51.713Z"
   },
   {
    "duration": 9,
    "start_time": "2023-02-22T13:28:53.360Z"
   },
   {
    "duration": 7,
    "start_time": "2023-02-22T13:28:59.480Z"
   },
   {
    "duration": 12,
    "start_time": "2023-02-22T13:29:30.854Z"
   },
   {
    "duration": 6,
    "start_time": "2023-02-22T13:29:31.577Z"
   },
   {
    "duration": 81,
    "start_time": "2023-02-22T13:31:10.118Z"
   },
   {
    "duration": 8,
    "start_time": "2023-02-22T13:31:19.681Z"
   },
   {
    "duration": 6,
    "start_time": "2023-02-22T13:31:21.255Z"
   },
   {
    "duration": 25,
    "start_time": "2023-02-22T13:31:35.192Z"
   },
   {
    "duration": 8,
    "start_time": "2023-02-22T13:32:11.129Z"
   },
   {
    "duration": 5,
    "start_time": "2023-02-22T13:32:12.059Z"
   },
   {
    "duration": 38,
    "start_time": "2023-02-22T13:32:12.793Z"
   },
   {
    "duration": 7,
    "start_time": "2023-02-22T13:32:17.747Z"
   },
   {
    "duration": 5,
    "start_time": "2023-02-22T13:32:18.955Z"
   },
   {
    "duration": 23,
    "start_time": "2023-02-22T13:32:22.194Z"
   },
   {
    "duration": 646,
    "start_time": "2023-02-22T13:34:21.713Z"
   },
   {
    "duration": 94,
    "start_time": "2023-02-22T13:34:22.361Z"
   },
   {
    "duration": 43,
    "start_time": "2023-02-22T13:34:22.457Z"
   },
   {
    "duration": 14,
    "start_time": "2023-02-22T13:34:22.502Z"
   },
   {
    "duration": 93,
    "start_time": "2023-02-22T13:34:22.517Z"
   },
   {
    "duration": 2138,
    "start_time": "2023-02-22T13:34:22.612Z"
   },
   {
    "duration": 5,
    "start_time": "2023-02-22T13:34:24.752Z"
   },
   {
    "duration": 9,
    "start_time": "2023-02-22T13:34:24.759Z"
   },
   {
    "duration": 4,
    "start_time": "2023-02-22T13:34:24.770Z"
   },
   {
    "duration": 11,
    "start_time": "2023-02-22T13:34:24.777Z"
   },
   {
    "duration": 6,
    "start_time": "2023-02-22T13:34:24.789Z"
   },
   {
    "duration": 81,
    "start_time": "2023-02-22T13:34:24.796Z"
   },
   {
    "duration": 5,
    "start_time": "2023-02-22T13:34:24.878Z"
   },
   {
    "duration": 8,
    "start_time": "2023-02-22T13:34:24.885Z"
   },
   {
    "duration": 6,
    "start_time": "2023-02-22T13:34:24.895Z"
   },
   {
    "duration": 7,
    "start_time": "2023-02-22T13:34:24.902Z"
   },
   {
    "duration": 8,
    "start_time": "2023-02-22T13:34:24.911Z"
   },
   {
    "duration": 32,
    "start_time": "2023-02-22T13:34:24.921Z"
   },
   {
    "duration": 11,
    "start_time": "2023-02-22T13:34:24.955Z"
   },
   {
    "duration": 12,
    "start_time": "2023-02-22T13:34:24.967Z"
   },
   {
    "duration": 9,
    "start_time": "2023-02-22T13:34:24.981Z"
   },
   {
    "duration": 7,
    "start_time": "2023-02-22T13:34:24.992Z"
   },
   {
    "duration": 11,
    "start_time": "2023-02-22T13:34:25.001Z"
   },
   {
    "duration": 39,
    "start_time": "2023-02-22T13:34:25.014Z"
   },
   {
    "duration": 5,
    "start_time": "2023-02-22T13:34:25.055Z"
   },
   {
    "duration": 23,
    "start_time": "2023-02-22T13:34:25.062Z"
   },
   {
    "duration": 33,
    "start_time": "2023-02-22T13:34:25.087Z"
   },
   {
    "duration": 8,
    "start_time": "2023-02-22T13:34:25.123Z"
   },
   {
    "duration": 5,
    "start_time": "2023-02-22T13:34:25.133Z"
   },
   {
    "duration": 7,
    "start_time": "2023-02-22T13:34:25.140Z"
   },
   {
    "duration": 5,
    "start_time": "2023-02-22T13:34:25.149Z"
   },
   {
    "duration": 14,
    "start_time": "2023-02-22T13:34:25.156Z"
   },
   {
    "duration": 130,
    "start_time": "2023-02-22T13:34:25.171Z"
   },
   {
    "duration": 27,
    "start_time": "2023-02-22T13:34:25.302Z"
   },
   {
    "duration": 23,
    "start_time": "2023-02-22T13:34:25.332Z"
   },
   {
    "duration": 5,
    "start_time": "2023-02-22T13:34:25.357Z"
   },
   {
    "duration": 27,
    "start_time": "2023-02-22T13:34:25.364Z"
   },
   {
    "duration": 14,
    "start_time": "2023-02-22T13:34:25.393Z"
   },
   {
    "duration": 291,
    "start_time": "2023-02-22T13:34:25.409Z"
   },
   {
    "duration": 4,
    "start_time": "2023-02-22T13:34:25.703Z"
   },
   {
    "duration": 39,
    "start_time": "2023-02-22T13:34:25.708Z"
   },
   {
    "duration": 2110,
    "start_time": "2023-02-22T13:34:25.754Z"
   },
   {
    "duration": 168,
    "start_time": "2023-02-22T13:34:27.866Z"
   },
   {
    "duration": 25,
    "start_time": "2023-02-22T13:34:28.035Z"
   },
   {
    "duration": 191,
    "start_time": "2023-02-22T13:34:28.062Z"
   },
   {
    "duration": 193,
    "start_time": "2023-02-22T13:34:28.254Z"
   },
   {
    "duration": 184,
    "start_time": "2023-02-22T13:34:28.453Z"
   },
   {
    "duration": 165,
    "start_time": "2023-02-22T13:34:28.639Z"
   },
   {
    "duration": 236,
    "start_time": "2023-02-22T13:34:28.806Z"
   },
   {
    "duration": 155,
    "start_time": "2023-02-22T13:34:29.044Z"
   },
   {
    "duration": 160,
    "start_time": "2023-02-22T13:34:29.200Z"
   },
   {
    "duration": 144,
    "start_time": "2023-02-22T13:34:29.362Z"
   },
   {
    "duration": 23,
    "start_time": "2023-02-22T13:34:29.508Z"
   },
   {
    "duration": 21,
    "start_time": "2023-02-22T13:34:29.533Z"
   },
   {
    "duration": 618,
    "start_time": "2023-02-22T13:50:43.355Z"
   },
   {
    "duration": 92,
    "start_time": "2023-02-22T13:50:43.975Z"
   },
   {
    "duration": 43,
    "start_time": "2023-02-22T13:50:44.069Z"
   },
   {
    "duration": 16,
    "start_time": "2023-02-22T13:50:44.114Z"
   },
   {
    "duration": 94,
    "start_time": "2023-02-22T13:50:44.132Z"
   },
   {
    "duration": 2258,
    "start_time": "2023-02-22T13:50:44.228Z"
   },
   {
    "duration": 4,
    "start_time": "2023-02-22T13:50:46.488Z"
   },
   {
    "duration": 10,
    "start_time": "2023-02-22T13:50:46.494Z"
   },
   {
    "duration": 4,
    "start_time": "2023-02-22T13:50:46.506Z"
   },
   {
    "duration": 12,
    "start_time": "2023-02-22T13:50:46.512Z"
   },
   {
    "duration": 32,
    "start_time": "2023-02-22T13:50:46.525Z"
   },
   {
    "duration": 6,
    "start_time": "2023-02-22T13:50:46.559Z"
   },
   {
    "duration": 63,
    "start_time": "2023-02-22T13:50:46.566Z"
   },
   {
    "duration": 6,
    "start_time": "2023-02-22T13:50:46.632Z"
   },
   {
    "duration": 7,
    "start_time": "2023-02-22T13:50:46.654Z"
   },
   {
    "duration": 6,
    "start_time": "2023-02-22T13:50:46.663Z"
   },
   {
    "duration": 5,
    "start_time": "2023-02-22T13:50:46.670Z"
   },
   {
    "duration": 6,
    "start_time": "2023-02-22T13:50:46.677Z"
   },
   {
    "duration": 7,
    "start_time": "2023-02-22T13:50:46.684Z"
   },
   {
    "duration": 10,
    "start_time": "2023-02-22T13:50:46.692Z"
   },
   {
    "duration": 10,
    "start_time": "2023-02-22T13:50:46.703Z"
   },
   {
    "duration": 40,
    "start_time": "2023-02-22T13:50:46.715Z"
   },
   {
    "duration": 7,
    "start_time": "2023-02-22T13:50:46.757Z"
   },
   {
    "duration": 10,
    "start_time": "2023-02-22T13:50:46.766Z"
   },
   {
    "duration": 7,
    "start_time": "2023-02-22T13:50:46.777Z"
   },
   {
    "duration": 4,
    "start_time": "2023-02-22T13:50:46.786Z"
   },
   {
    "duration": 4,
    "start_time": "2023-02-22T13:50:46.791Z"
   },
   {
    "duration": 4,
    "start_time": "2023-02-22T13:50:46.797Z"
   },
   {
    "duration": 5,
    "start_time": "2023-02-22T13:50:46.802Z"
   },
   {
    "duration": 7,
    "start_time": "2023-02-22T13:50:46.808Z"
   },
   {
    "duration": 6,
    "start_time": "2023-02-22T13:50:46.816Z"
   },
   {
    "duration": 31,
    "start_time": "2023-02-22T13:50:46.824Z"
   },
   {
    "duration": 6,
    "start_time": "2023-02-22T13:50:46.856Z"
   },
   {
    "duration": 132,
    "start_time": "2023-02-22T13:50:46.863Z"
   },
   {
    "duration": 28,
    "start_time": "2023-02-22T13:50:46.997Z"
   },
   {
    "duration": 28,
    "start_time": "2023-02-22T13:50:47.026Z"
   },
   {
    "duration": 6,
    "start_time": "2023-02-22T13:50:47.055Z"
   },
   {
    "duration": 10,
    "start_time": "2023-02-22T13:50:47.063Z"
   },
   {
    "duration": 8,
    "start_time": "2023-02-22T13:50:47.074Z"
   },
   {
    "duration": 315,
    "start_time": "2023-02-22T13:50:47.083Z"
   },
   {
    "duration": 5,
    "start_time": "2023-02-22T13:50:47.403Z"
   },
   {
    "duration": 56,
    "start_time": "2023-02-22T13:50:47.410Z"
   },
   {
    "duration": 1990,
    "start_time": "2023-02-22T13:50:47.468Z"
   },
   {
    "duration": 200,
    "start_time": "2023-02-22T13:50:49.459Z"
   },
   {
    "duration": 16,
    "start_time": "2023-02-22T13:50:49.661Z"
   },
   {
    "duration": 217,
    "start_time": "2023-02-22T13:50:49.678Z"
   },
   {
    "duration": 201,
    "start_time": "2023-02-22T13:50:49.897Z"
   },
   {
    "duration": 192,
    "start_time": "2023-02-22T13:50:50.100Z"
   },
   {
    "duration": 172,
    "start_time": "2023-02-22T13:50:50.293Z"
   },
   {
    "duration": 250,
    "start_time": "2023-02-22T13:50:50.466Z"
   },
   {
    "duration": 162,
    "start_time": "2023-02-22T13:50:50.718Z"
   },
   {
    "duration": 162,
    "start_time": "2023-02-22T13:50:50.882Z"
   },
   {
    "duration": 165,
    "start_time": "2023-02-22T13:50:51.045Z"
   },
   {
    "duration": 29,
    "start_time": "2023-02-22T13:50:51.212Z"
   },
   {
    "duration": 16,
    "start_time": "2023-02-22T13:50:51.242Z"
   },
   {
    "duration": 44,
    "start_time": "2023-02-22T13:55:59.950Z"
   },
   {
    "duration": 46,
    "start_time": "2023-02-22T13:56:06.997Z"
   },
   {
    "duration": 12,
    "start_time": "2023-02-22T13:56:12.820Z"
   },
   {
    "duration": 17,
    "start_time": "2023-02-22T13:56:27.308Z"
   },
   {
    "duration": 15,
    "start_time": "2023-02-22T13:57:50.549Z"
   },
   {
    "duration": 15,
    "start_time": "2023-02-22T13:57:59.423Z"
   },
   {
    "duration": 22,
    "start_time": "2023-02-22T13:58:19.572Z"
   },
   {
    "duration": 178,
    "start_time": "2023-02-22T14:02:34.637Z"
   },
   {
    "duration": 159,
    "start_time": "2023-02-22T15:10:21.933Z"
   },
   {
    "duration": 123,
    "start_time": "2023-02-22T15:11:33.258Z"
   },
   {
    "duration": 53,
    "start_time": "2023-02-23T13:18:10.872Z"
   },
   {
    "duration": 42,
    "start_time": "2023-02-23T13:23:33.316Z"
   },
   {
    "duration": 823,
    "start_time": "2023-02-23T13:23:39.501Z"
   },
   {
    "duration": 328,
    "start_time": "2023-02-23T13:23:40.327Z"
   },
   {
    "duration": 43,
    "start_time": "2023-02-23T13:23:40.657Z"
   },
   {
    "duration": 19,
    "start_time": "2023-02-23T13:23:40.702Z"
   },
   {
    "duration": 68,
    "start_time": "2023-02-23T13:23:40.722Z"
   },
   {
    "duration": 2212,
    "start_time": "2023-02-23T13:23:40.792Z"
   },
   {
    "duration": 5,
    "start_time": "2023-02-23T13:23:43.006Z"
   },
   {
    "duration": 16,
    "start_time": "2023-02-23T13:23:43.012Z"
   },
   {
    "duration": 5,
    "start_time": "2023-02-23T13:23:43.030Z"
   },
   {
    "duration": 12,
    "start_time": "2023-02-23T13:23:43.039Z"
   },
   {
    "duration": 25,
    "start_time": "2023-02-23T13:23:43.053Z"
   },
   {
    "duration": 7,
    "start_time": "2023-02-23T13:23:43.079Z"
   },
   {
    "duration": 80,
    "start_time": "2023-02-23T13:23:43.087Z"
   },
   {
    "duration": 6,
    "start_time": "2023-02-23T13:23:43.169Z"
   },
   {
    "duration": 9,
    "start_time": "2023-02-23T13:23:43.177Z"
   },
   {
    "duration": 7,
    "start_time": "2023-02-23T13:23:43.188Z"
   },
   {
    "duration": 28,
    "start_time": "2023-02-23T13:23:43.196Z"
   },
   {
    "duration": 8,
    "start_time": "2023-02-23T13:23:43.226Z"
   },
   {
    "duration": 11,
    "start_time": "2023-02-23T13:23:43.235Z"
   },
   {
    "duration": 14,
    "start_time": "2023-02-23T13:23:43.247Z"
   },
   {
    "duration": 11,
    "start_time": "2023-02-23T13:23:43.262Z"
   },
   {
    "duration": 11,
    "start_time": "2023-02-23T13:23:43.274Z"
   },
   {
    "duration": 44,
    "start_time": "2023-02-23T13:23:43.287Z"
   },
   {
    "duration": 8,
    "start_time": "2023-02-23T13:23:43.332Z"
   },
   {
    "duration": 12,
    "start_time": "2023-02-23T13:23:43.342Z"
   },
   {
    "duration": 7,
    "start_time": "2023-02-23T13:23:43.357Z"
   },
   {
    "duration": 5,
    "start_time": "2023-02-23T13:23:43.365Z"
   },
   {
    "duration": 5,
    "start_time": "2023-02-23T13:23:43.374Z"
   },
   {
    "duration": 8,
    "start_time": "2023-02-23T13:23:43.381Z"
   },
   {
    "duration": 32,
    "start_time": "2023-02-23T13:23:43.391Z"
   },
   {
    "duration": 5,
    "start_time": "2023-02-23T13:23:43.424Z"
   },
   {
    "duration": 7,
    "start_time": "2023-02-23T13:23:43.431Z"
   },
   {
    "duration": 6,
    "start_time": "2023-02-23T13:23:43.440Z"
   },
   {
    "duration": 8,
    "start_time": "2023-02-23T13:23:43.448Z"
   },
   {
    "duration": 150,
    "start_time": "2023-02-23T13:23:43.458Z"
   },
   {
    "duration": 35,
    "start_time": "2023-02-23T13:23:43.610Z"
   },
   {
    "duration": 8,
    "start_time": "2023-02-23T13:23:43.647Z"
   },
   {
    "duration": 12,
    "start_time": "2023-02-23T13:23:43.656Z"
   },
   {
    "duration": 11,
    "start_time": "2023-02-23T13:23:43.670Z"
   },
   {
    "duration": 8,
    "start_time": "2023-02-23T13:23:43.683Z"
   },
   {
    "duration": 316,
    "start_time": "2023-02-23T13:23:43.693Z"
   },
   {
    "duration": 11,
    "start_time": "2023-02-23T13:23:44.011Z"
   },
   {
    "duration": 69,
    "start_time": "2023-02-23T13:23:44.024Z"
   },
   {
    "duration": 2128,
    "start_time": "2023-02-23T13:23:44.096Z"
   },
   {
    "duration": 184,
    "start_time": "2023-02-23T13:23:46.225Z"
   },
   {
    "duration": 22,
    "start_time": "2023-02-23T13:23:46.411Z"
   },
   {
    "duration": 206,
    "start_time": "2023-02-23T13:23:46.435Z"
   },
   {
    "duration": 194,
    "start_time": "2023-02-23T13:23:46.643Z"
   },
   {
    "duration": 182,
    "start_time": "2023-02-23T13:23:46.839Z"
   },
   {
    "duration": 177,
    "start_time": "2023-02-23T13:23:47.022Z"
   },
   {
    "duration": 233,
    "start_time": "2023-02-23T13:23:47.201Z"
   },
   {
    "duration": 160,
    "start_time": "2023-02-23T13:23:47.436Z"
   },
   {
    "duration": 149,
    "start_time": "2023-02-23T13:23:47.598Z"
   },
   {
    "duration": 144,
    "start_time": "2023-02-23T13:23:47.749Z"
   },
   {
    "duration": 137,
    "start_time": "2023-02-23T13:23:47.895Z"
   },
   {
    "duration": 26,
    "start_time": "2023-02-23T13:23:48.033Z"
   },
   {
    "duration": 6,
    "start_time": "2023-02-23T13:23:48.061Z"
   },
   {
    "duration": 171,
    "start_time": "2023-02-23T13:23:48.069Z"
   },
   {
    "duration": 48,
    "start_time": "2023-02-23T13:37:11.081Z"
   },
   {
    "duration": 77,
    "start_time": "2023-02-23T22:36:13.676Z"
   },
   {
    "duration": 60,
    "start_time": "2023-02-23T22:56:27.446Z"
   },
   {
    "duration": 852,
    "start_time": "2023-02-23T22:56:38.379Z"
   },
   {
    "duration": 360,
    "start_time": "2023-02-23T22:56:39.233Z"
   },
   {
    "duration": 43,
    "start_time": "2023-02-23T22:56:39.595Z"
   },
   {
    "duration": 39,
    "start_time": "2023-02-23T22:56:39.640Z"
   },
   {
    "duration": 86,
    "start_time": "2023-02-23T22:56:39.685Z"
   },
   {
    "duration": 2621,
    "start_time": "2023-02-23T22:56:39.775Z"
   },
   {
    "duration": 5,
    "start_time": "2023-02-23T22:56:42.398Z"
   },
   {
    "duration": 18,
    "start_time": "2023-02-23T22:56:42.404Z"
   },
   {
    "duration": 9,
    "start_time": "2023-02-23T22:56:42.423Z"
   },
   {
    "duration": 28,
    "start_time": "2023-02-23T22:56:42.436Z"
   },
   {
    "duration": 31,
    "start_time": "2023-02-23T22:56:42.466Z"
   },
   {
    "duration": 7,
    "start_time": "2023-02-23T22:56:42.498Z"
   },
   {
    "duration": 8,
    "start_time": "2023-02-23T22:56:42.507Z"
   },
   {
    "duration": 6,
    "start_time": "2023-02-23T22:56:42.517Z"
   },
   {
    "duration": 25,
    "start_time": "2023-02-23T22:56:42.525Z"
   },
   {
    "duration": 26,
    "start_time": "2023-02-23T22:56:42.554Z"
   },
   {
    "duration": 11,
    "start_time": "2023-02-23T22:56:42.582Z"
   },
   {
    "duration": 5,
    "start_time": "2023-02-23T22:56:42.595Z"
   },
   {
    "duration": 13,
    "start_time": "2023-02-23T22:56:42.602Z"
   },
   {
    "duration": 19,
    "start_time": "2023-02-23T22:56:42.616Z"
   },
   {
    "duration": 13,
    "start_time": "2023-02-23T22:56:42.637Z"
   },
   {
    "duration": 14,
    "start_time": "2023-02-23T22:56:42.652Z"
   },
   {
    "duration": 23,
    "start_time": "2023-02-23T22:56:42.668Z"
   },
   {
    "duration": 11,
    "start_time": "2023-02-23T22:56:42.693Z"
   },
   {
    "duration": 14,
    "start_time": "2023-02-23T22:56:42.707Z"
   },
   {
    "duration": 22,
    "start_time": "2023-02-23T22:56:42.724Z"
   },
   {
    "duration": 5,
    "start_time": "2023-02-23T22:56:42.749Z"
   },
   {
    "duration": 12,
    "start_time": "2023-02-23T22:56:42.758Z"
   },
   {
    "duration": 9,
    "start_time": "2023-02-23T22:56:42.772Z"
   },
   {
    "duration": 12,
    "start_time": "2023-02-23T22:56:42.783Z"
   },
   {
    "duration": 5,
    "start_time": "2023-02-23T22:56:42.797Z"
   },
   {
    "duration": 6,
    "start_time": "2023-02-23T22:56:42.804Z"
   },
   {
    "duration": 6,
    "start_time": "2023-02-23T22:56:42.812Z"
   },
   {
    "duration": 6,
    "start_time": "2023-02-23T22:56:42.820Z"
   },
   {
    "duration": 167,
    "start_time": "2023-02-23T22:56:42.845Z"
   },
   {
    "duration": 52,
    "start_time": "2023-02-23T22:56:43.014Z"
   },
   {
    "duration": 10,
    "start_time": "2023-02-23T22:56:43.068Z"
   },
   {
    "duration": 12,
    "start_time": "2023-02-23T22:56:43.079Z"
   },
   {
    "duration": 18,
    "start_time": "2023-02-23T22:56:43.093Z"
   },
   {
    "duration": 18,
    "start_time": "2023-02-23T22:56:43.113Z"
   },
   {
    "duration": 377,
    "start_time": "2023-02-23T22:56:43.132Z"
   },
   {
    "duration": 4,
    "start_time": "2023-02-23T22:56:43.511Z"
   },
   {
    "duration": 52,
    "start_time": "2023-02-23T22:56:43.517Z"
   },
   {
    "duration": 2122,
    "start_time": "2023-02-23T22:56:43.571Z"
   },
   {
    "duration": 188,
    "start_time": "2023-02-23T22:56:45.695Z"
   },
   {
    "duration": 19,
    "start_time": "2023-02-23T22:56:45.884Z"
   },
   {
    "duration": 220,
    "start_time": "2023-02-23T22:56:45.905Z"
   },
   {
    "duration": 225,
    "start_time": "2023-02-23T22:56:46.127Z"
   },
   {
    "duration": 200,
    "start_time": "2023-02-23T22:56:46.358Z"
   },
   {
    "duration": 178,
    "start_time": "2023-02-23T22:56:46.560Z"
   },
   {
    "duration": 246,
    "start_time": "2023-02-23T22:56:46.740Z"
   },
   {
    "duration": 163,
    "start_time": "2023-02-23T22:56:46.988Z"
   },
   {
    "duration": 168,
    "start_time": "2023-02-23T22:56:47.157Z"
   },
   {
    "duration": 167,
    "start_time": "2023-02-23T22:56:47.327Z"
   },
   {
    "duration": 164,
    "start_time": "2023-02-23T22:56:47.495Z"
   },
   {
    "duration": 28,
    "start_time": "2023-02-23T22:56:47.663Z"
   },
   {
    "duration": 7,
    "start_time": "2023-02-23T22:56:47.693Z"
   },
   {
    "duration": 191,
    "start_time": "2023-02-23T22:56:47.701Z"
   },
   {
    "duration": 9,
    "start_time": "2023-02-23T22:57:37.581Z"
   },
   {
    "duration": 6,
    "start_time": "2023-02-23T22:59:21.389Z"
   },
   {
    "duration": 5,
    "start_time": "2023-02-23T22:59:23.412Z"
   },
   {
    "duration": 1328,
    "start_time": "2023-02-23T23:02:13.244Z"
   },
   {
    "duration": 1246,
    "start_time": "2023-02-23T23:02:33.788Z"
   },
   {
    "duration": 1235,
    "start_time": "2023-02-23T23:02:47.804Z"
   },
   {
    "duration": 19,
    "start_time": "2023-02-23T23:03:17.846Z"
   },
   {
    "duration": 19,
    "start_time": "2023-02-23T23:08:12.510Z"
   },
   {
    "duration": 4,
    "start_time": "2023-02-23T23:08:33.813Z"
   },
   {
    "duration": 13,
    "start_time": "2023-02-23T23:08:35.877Z"
   },
   {
    "duration": 22,
    "start_time": "2023-02-23T23:09:36.771Z"
   },
   {
    "duration": 20,
    "start_time": "2023-02-23T23:09:51.038Z"
   },
   {
    "duration": 15,
    "start_time": "2023-02-23T23:15:38.590Z"
   },
   {
    "duration": 102,
    "start_time": "2023-02-23T23:17:30.124Z"
   },
   {
    "duration": 9,
    "start_time": "2023-02-23T23:17:44.590Z"
   },
   {
    "duration": 18,
    "start_time": "2023-02-23T23:17:46.427Z"
   },
   {
    "duration": 25,
    "start_time": "2023-02-23T23:24:30.571Z"
   },
   {
    "duration": 12,
    "start_time": "2023-02-23T23:30:52.224Z"
   },
   {
    "duration": 8,
    "start_time": "2023-02-23T23:30:52.872Z"
   },
   {
    "duration": 7,
    "start_time": "2023-02-23T23:30:53.474Z"
   },
   {
    "duration": 13,
    "start_time": "2023-02-23T23:30:54.080Z"
   },
   {
    "duration": 39,
    "start_time": "2023-02-24T00:12:34.480Z"
   },
   {
    "duration": 750,
    "start_time": "2023-02-24T00:14:04.507Z"
   },
   {
    "duration": 130,
    "start_time": "2023-02-24T00:14:05.259Z"
   },
   {
    "duration": 77,
    "start_time": "2023-02-24T00:14:05.392Z"
   },
   {
    "duration": 29,
    "start_time": "2023-02-24T00:14:05.472Z"
   },
   {
    "duration": 101,
    "start_time": "2023-02-24T00:14:05.503Z"
   },
   {
    "duration": 2559,
    "start_time": "2023-02-24T00:14:05.606Z"
   },
   {
    "duration": 7,
    "start_time": "2023-02-24T00:14:08.169Z"
   },
   {
    "duration": 19,
    "start_time": "2023-02-24T00:14:08.178Z"
   },
   {
    "duration": 7,
    "start_time": "2023-02-24T00:14:08.199Z"
   },
   {
    "duration": 14,
    "start_time": "2023-02-24T00:14:08.209Z"
   },
   {
    "duration": 46,
    "start_time": "2023-02-24T00:14:08.225Z"
   },
   {
    "duration": 9,
    "start_time": "2023-02-24T00:14:08.274Z"
   },
   {
    "duration": 23,
    "start_time": "2023-02-24T00:14:08.285Z"
   },
   {
    "duration": 9,
    "start_time": "2023-02-24T00:14:08.310Z"
   },
   {
    "duration": 28,
    "start_time": "2023-02-24T00:14:08.320Z"
   },
   {
    "duration": 27,
    "start_time": "2023-02-24T00:14:08.354Z"
   },
   {
    "duration": 21,
    "start_time": "2023-02-24T00:14:08.386Z"
   },
   {
    "duration": 42,
    "start_time": "2023-02-24T00:14:08.408Z"
   },
   {
    "duration": 38,
    "start_time": "2023-02-24T00:14:08.457Z"
   },
   {
    "duration": 13,
    "start_time": "2023-02-24T00:14:08.497Z"
   },
   {
    "duration": 9,
    "start_time": "2023-02-24T00:14:08.512Z"
   },
   {
    "duration": 5,
    "start_time": "2023-02-24T00:14:08.523Z"
   },
   {
    "duration": 15,
    "start_time": "2023-02-24T00:14:08.530Z"
   },
   {
    "duration": 5,
    "start_time": "2023-02-24T00:14:08.554Z"
   },
   {
    "duration": 28,
    "start_time": "2023-02-24T00:14:08.561Z"
   },
   {
    "duration": 10,
    "start_time": "2023-02-24T00:14:08.591Z"
   },
   {
    "duration": 4,
    "start_time": "2023-02-24T00:14:08.603Z"
   },
   {
    "duration": 5,
    "start_time": "2023-02-24T00:14:08.612Z"
   },
   {
    "duration": 6,
    "start_time": "2023-02-24T00:14:08.619Z"
   },
   {
    "duration": 6,
    "start_time": "2023-02-24T00:14:08.627Z"
   },
   {
    "duration": 13,
    "start_time": "2023-02-24T00:14:08.634Z"
   },
   {
    "duration": 191,
    "start_time": "2023-02-24T00:14:08.653Z"
   },
   {
    "duration": 52,
    "start_time": "2023-02-24T00:14:08.845Z"
   },
   {
    "duration": 9,
    "start_time": "2023-02-24T00:14:08.899Z"
   },
   {
    "duration": 12,
    "start_time": "2023-02-24T00:14:08.909Z"
   },
   {
    "duration": 17,
    "start_time": "2023-02-24T00:14:08.922Z"
   },
   {
    "duration": 45,
    "start_time": "2023-02-24T00:14:08.940Z"
   },
   {
    "duration": 377,
    "start_time": "2023-02-24T00:14:08.987Z"
   },
   {
    "duration": 12,
    "start_time": "2023-02-24T00:14:09.371Z"
   },
   {
    "duration": 49,
    "start_time": "2023-02-24T00:14:09.384Z"
   },
   {
    "duration": 2242,
    "start_time": "2023-02-24T00:14:09.435Z"
   },
   {
    "duration": 168,
    "start_time": "2023-02-24T00:14:11.679Z"
   },
   {
    "duration": 32,
    "start_time": "2023-02-24T00:14:11.853Z"
   },
   {
    "duration": 245,
    "start_time": "2023-02-24T00:14:11.887Z"
   },
   {
    "duration": 242,
    "start_time": "2023-02-24T00:14:12.134Z"
   },
   {
    "duration": 221,
    "start_time": "2023-02-24T00:14:12.382Z"
   },
   {
    "duration": 286,
    "start_time": "2023-02-24T00:14:12.606Z"
   },
   {
    "duration": 147,
    "start_time": "2023-02-24T00:14:12.894Z"
   },
   {
    "duration": 185,
    "start_time": "2023-02-24T00:14:13.045Z"
   },
   {
    "duration": 177,
    "start_time": "2023-02-24T00:14:13.232Z"
   },
   {
    "duration": 185,
    "start_time": "2023-02-24T00:14:13.411Z"
   },
   {
    "duration": 153,
    "start_time": "2023-02-24T00:14:13.598Z"
   },
   {
    "duration": 35,
    "start_time": "2023-02-24T00:14:13.753Z"
   },
   {
    "duration": 7,
    "start_time": "2023-02-24T00:14:13.790Z"
   },
   {
    "duration": 218,
    "start_time": "2023-02-24T00:14:13.798Z"
   },
   {
    "duration": 2168,
    "start_time": "2023-02-24T00:42:36.220Z"
   },
   {
    "duration": 77,
    "start_time": "2023-02-24T00:44:07.259Z"
   },
   {
    "duration": 88,
    "start_time": "2023-02-24T00:44:15.012Z"
   },
   {
    "duration": 13,
    "start_time": "2023-02-24T00:45:03.828Z"
   },
   {
    "duration": 13,
    "start_time": "2023-02-24T00:45:14.973Z"
   },
   {
    "duration": 143,
    "start_time": "2023-02-24T00:45:33.603Z"
   },
   {
    "duration": 12,
    "start_time": "2023-02-24T00:45:57.437Z"
   },
   {
    "duration": 8,
    "start_time": "2023-02-24T00:46:10.613Z"
   },
   {
    "duration": 12,
    "start_time": "2023-02-24T00:46:49.820Z"
   },
   {
    "duration": 14,
    "start_time": "2023-02-24T00:46:59.819Z"
   },
   {
    "duration": 120,
    "start_time": "2023-02-24T00:47:44.476Z"
   },
   {
    "duration": 1030,
    "start_time": "2023-02-24T00:49:53.252Z"
   },
   {
    "duration": 2022,
    "start_time": "2023-02-24T00:50:09.013Z"
   },
   {
    "duration": 13,
    "start_time": "2023-02-24T00:51:44.060Z"
   },
   {
    "duration": 169,
    "start_time": "2023-02-24T00:51:58.252Z"
   },
   {
    "duration": 71,
    "start_time": "2023-02-24T00:53:07.221Z"
   },
   {
    "duration": 14,
    "start_time": "2023-02-24T00:53:13.772Z"
   },
   {
    "duration": 162,
    "start_time": "2023-02-24T00:53:48.244Z"
   },
   {
    "duration": 2108,
    "start_time": "2023-02-24T00:59:18.140Z"
   },
   {
    "duration": 26,
    "start_time": "2023-02-24T00:59:44.467Z"
   },
   {
    "duration": 9,
    "start_time": "2023-02-24T00:59:47.987Z"
   },
   {
    "duration": 12,
    "start_time": "2023-02-24T01:04:31.452Z"
   },
   {
    "duration": 9,
    "start_time": "2023-02-24T01:25:56.767Z"
   },
   {
    "duration": 9,
    "start_time": "2023-02-24T01:26:30.927Z"
   },
   {
    "duration": 13,
    "start_time": "2023-02-24T01:29:45.441Z"
   },
   {
    "duration": 23,
    "start_time": "2023-02-24T01:30:27.735Z"
   },
   {
    "duration": 23,
    "start_time": "2023-02-24T01:31:46.319Z"
   },
   {
    "duration": 7,
    "start_time": "2023-02-24T01:32:10.752Z"
   },
   {
    "duration": 9,
    "start_time": "2023-02-24T01:32:18.127Z"
   },
   {
    "duration": 21,
    "start_time": "2023-02-24T01:37:30.857Z"
   },
   {
    "duration": 34,
    "start_time": "2023-02-24T01:37:43.313Z"
   },
   {
    "duration": 31,
    "start_time": "2023-02-24T01:48:45.804Z"
   },
   {
    "duration": 112,
    "start_time": "2023-02-24T01:49:17.539Z"
   },
   {
    "duration": 28,
    "start_time": "2023-02-24T01:49:23.388Z"
   },
   {
    "duration": 28,
    "start_time": "2023-02-24T01:49:41.116Z"
   },
   {
    "duration": 12,
    "start_time": "2023-02-24T01:55:33.822Z"
   },
   {
    "duration": 19,
    "start_time": "2023-02-24T01:55:45.668Z"
   },
   {
    "duration": 18,
    "start_time": "2023-02-24T01:56:05.835Z"
   },
   {
    "duration": 18,
    "start_time": "2023-02-24T01:56:24.021Z"
   },
   {
    "duration": 16,
    "start_time": "2023-02-24T01:56:48.468Z"
   },
   {
    "duration": 17,
    "start_time": "2023-02-24T02:04:57.476Z"
   },
   {
    "duration": 18,
    "start_time": "2023-02-24T02:05:15.060Z"
   },
   {
    "duration": 17,
    "start_time": "2023-02-24T02:07:23.612Z"
   },
   {
    "duration": 53,
    "start_time": "2023-02-24T17:55:42.893Z"
   },
   {
    "duration": 777,
    "start_time": "2023-02-24T17:55:48.752Z"
   },
   {
    "duration": 318,
    "start_time": "2023-02-24T17:55:49.530Z"
   },
   {
    "duration": 38,
    "start_time": "2023-02-24T17:55:49.849Z"
   },
   {
    "duration": 14,
    "start_time": "2023-02-24T17:55:49.889Z"
   },
   {
    "duration": 91,
    "start_time": "2023-02-24T17:55:49.905Z"
   },
   {
    "duration": 2001,
    "start_time": "2023-02-24T17:55:49.998Z"
   },
   {
    "duration": 5,
    "start_time": "2023-02-24T17:55:52.000Z"
   },
   {
    "duration": 13,
    "start_time": "2023-02-24T17:55:52.007Z"
   },
   {
    "duration": 6,
    "start_time": "2023-02-24T17:55:52.022Z"
   },
   {
    "duration": 11,
    "start_time": "2023-02-24T17:55:52.031Z"
   },
   {
    "duration": 22,
    "start_time": "2023-02-24T17:55:52.044Z"
   },
   {
    "duration": 6,
    "start_time": "2023-02-24T17:55:52.067Z"
   },
   {
    "duration": 6,
    "start_time": "2023-02-24T17:55:52.075Z"
   },
   {
    "duration": 5,
    "start_time": "2023-02-24T17:55:52.082Z"
   },
   {
    "duration": 8,
    "start_time": "2023-02-24T17:55:52.089Z"
   },
   {
    "duration": 5,
    "start_time": "2023-02-24T17:55:52.098Z"
   },
   {
    "duration": 9,
    "start_time": "2023-02-24T17:55:52.104Z"
   },
   {
    "duration": 36,
    "start_time": "2023-02-24T17:55:52.114Z"
   },
   {
    "duration": 105,
    "start_time": "2023-02-24T17:55:52.152Z"
   },
   {
    "duration": 0,
    "start_time": "2023-02-24T17:55:52.259Z"
   },
   {
    "duration": 0,
    "start_time": "2023-02-24T17:55:52.260Z"
   },
   {
    "duration": 0,
    "start_time": "2023-02-24T17:55:52.262Z"
   },
   {
    "duration": 0,
    "start_time": "2023-02-24T17:55:52.263Z"
   },
   {
    "duration": 0,
    "start_time": "2023-02-24T17:55:52.265Z"
   },
   {
    "duration": 0,
    "start_time": "2023-02-24T17:55:52.266Z"
   },
   {
    "duration": 0,
    "start_time": "2023-02-24T17:55:52.268Z"
   },
   {
    "duration": 0,
    "start_time": "2023-02-24T17:55:52.269Z"
   },
   {
    "duration": 0,
    "start_time": "2023-02-24T17:55:52.271Z"
   },
   {
    "duration": 0,
    "start_time": "2023-02-24T17:55:52.272Z"
   },
   {
    "duration": 1,
    "start_time": "2023-02-24T17:55:52.273Z"
   },
   {
    "duration": 0,
    "start_time": "2023-02-24T17:55:52.275Z"
   },
   {
    "duration": 0,
    "start_time": "2023-02-24T17:55:52.276Z"
   },
   {
    "duration": 0,
    "start_time": "2023-02-24T17:55:52.278Z"
   },
   {
    "duration": 0,
    "start_time": "2023-02-24T17:55:52.279Z"
   },
   {
    "duration": 0,
    "start_time": "2023-02-24T17:55:52.280Z"
   },
   {
    "duration": 0,
    "start_time": "2023-02-24T17:55:52.282Z"
   },
   {
    "duration": 0,
    "start_time": "2023-02-24T17:55:52.283Z"
   },
   {
    "duration": 1,
    "start_time": "2023-02-24T17:55:52.284Z"
   },
   {
    "duration": 0,
    "start_time": "2023-02-24T17:55:52.286Z"
   },
   {
    "duration": 0,
    "start_time": "2023-02-24T17:55:52.287Z"
   },
   {
    "duration": 0,
    "start_time": "2023-02-24T17:55:52.288Z"
   },
   {
    "duration": 0,
    "start_time": "2023-02-24T17:55:52.289Z"
   },
   {
    "duration": 0,
    "start_time": "2023-02-24T17:55:52.348Z"
   },
   {
    "duration": 0,
    "start_time": "2023-02-24T17:55:52.350Z"
   },
   {
    "duration": 0,
    "start_time": "2023-02-24T17:55:52.351Z"
   },
   {
    "duration": 0,
    "start_time": "2023-02-24T17:55:52.352Z"
   },
   {
    "duration": 0,
    "start_time": "2023-02-24T17:55:52.353Z"
   },
   {
    "duration": 0,
    "start_time": "2023-02-24T17:55:52.355Z"
   },
   {
    "duration": 0,
    "start_time": "2023-02-24T17:55:52.357Z"
   },
   {
    "duration": 0,
    "start_time": "2023-02-24T17:55:52.359Z"
   },
   {
    "duration": 0,
    "start_time": "2023-02-24T17:55:52.360Z"
   },
   {
    "duration": 0,
    "start_time": "2023-02-24T17:55:52.361Z"
   },
   {
    "duration": 0,
    "start_time": "2023-02-24T17:55:52.363Z"
   },
   {
    "duration": 0,
    "start_time": "2023-02-24T17:55:52.364Z"
   },
   {
    "duration": 0,
    "start_time": "2023-02-24T17:55:52.366Z"
   },
   {
    "duration": 58,
    "start_time": "2023-02-24T17:56:34.766Z"
   },
   {
    "duration": 654,
    "start_time": "2023-02-24T17:56:47.031Z"
   },
   {
    "duration": 91,
    "start_time": "2023-02-24T17:56:47.687Z"
   },
   {
    "duration": 38,
    "start_time": "2023-02-24T17:56:47.779Z"
   },
   {
    "duration": 40,
    "start_time": "2023-02-24T17:56:47.819Z"
   },
   {
    "duration": 115,
    "start_time": "2023-02-24T17:56:47.860Z"
   },
   {
    "duration": 2075,
    "start_time": "2023-02-24T17:56:47.976Z"
   },
   {
    "duration": 5,
    "start_time": "2023-02-24T17:56:50.052Z"
   },
   {
    "duration": 14,
    "start_time": "2023-02-24T17:56:50.059Z"
   },
   {
    "duration": 5,
    "start_time": "2023-02-24T17:56:50.075Z"
   },
   {
    "duration": 23,
    "start_time": "2023-02-24T17:56:50.083Z"
   },
   {
    "duration": 23,
    "start_time": "2023-02-24T17:56:50.108Z"
   },
   {
    "duration": 21,
    "start_time": "2023-02-24T17:56:50.132Z"
   },
   {
    "duration": 12,
    "start_time": "2023-02-24T17:56:50.155Z"
   },
   {
    "duration": 11,
    "start_time": "2023-02-24T17:56:50.169Z"
   },
   {
    "duration": 12,
    "start_time": "2023-02-24T17:56:50.182Z"
   },
   {
    "duration": 10,
    "start_time": "2023-02-24T17:56:50.195Z"
   },
   {
    "duration": 7,
    "start_time": "2023-02-24T17:56:50.207Z"
   },
   {
    "duration": 11,
    "start_time": "2023-02-24T17:56:50.215Z"
   },
   {
    "duration": 79,
    "start_time": "2023-02-24T17:56:50.228Z"
   },
   {
    "duration": 12,
    "start_time": "2023-02-24T17:56:50.308Z"
   },
   {
    "duration": 8,
    "start_time": "2023-02-24T17:56:50.322Z"
   },
   {
    "duration": 20,
    "start_time": "2023-02-24T17:56:50.331Z"
   },
   {
    "duration": 6,
    "start_time": "2023-02-24T17:56:50.353Z"
   },
   {
    "duration": 11,
    "start_time": "2023-02-24T17:56:50.361Z"
   },
   {
    "duration": 4,
    "start_time": "2023-02-24T17:56:50.374Z"
   },
   {
    "duration": 4,
    "start_time": "2023-02-24T17:56:50.379Z"
   },
   {
    "duration": 10,
    "start_time": "2023-02-24T17:56:50.384Z"
   },
   {
    "duration": 4,
    "start_time": "2023-02-24T17:56:50.398Z"
   },
   {
    "duration": 7,
    "start_time": "2023-02-24T17:56:50.403Z"
   },
   {
    "duration": 5,
    "start_time": "2023-02-24T17:56:50.412Z"
   },
   {
    "duration": 6,
    "start_time": "2023-02-24T17:56:50.419Z"
   },
   {
    "duration": 129,
    "start_time": "2023-02-24T17:56:50.448Z"
   },
   {
    "duration": 24,
    "start_time": "2023-02-24T17:56:50.579Z"
   },
   {
    "duration": 6,
    "start_time": "2023-02-24T17:56:50.604Z"
   },
   {
    "duration": 6,
    "start_time": "2023-02-24T17:56:50.611Z"
   },
   {
    "duration": 30,
    "start_time": "2023-02-24T17:56:50.618Z"
   },
   {
    "duration": 5,
    "start_time": "2023-02-24T17:56:50.649Z"
   },
   {
    "duration": 308,
    "start_time": "2023-02-24T17:56:50.655Z"
   },
   {
    "duration": 4,
    "start_time": "2023-02-24T17:56:50.964Z"
   },
   {
    "duration": 35,
    "start_time": "2023-02-24T17:56:50.969Z"
   },
   {
    "duration": 1736,
    "start_time": "2023-02-24T17:56:51.006Z"
   },
   {
    "duration": 174,
    "start_time": "2023-02-24T17:56:52.744Z"
   },
   {
    "duration": 173,
    "start_time": "2023-02-24T17:56:52.920Z"
   },
   {
    "duration": 18,
    "start_time": "2023-02-24T17:56:53.095Z"
   },
   {
    "duration": 202,
    "start_time": "2023-02-24T17:56:53.115Z"
   },
   {
    "duration": 202,
    "start_time": "2023-02-24T17:56:53.319Z"
   },
   {
    "duration": 273,
    "start_time": "2023-02-24T17:56:53.523Z"
   },
   {
    "duration": 128,
    "start_time": "2023-02-24T17:56:53.798Z"
   },
   {
    "duration": 147,
    "start_time": "2023-02-24T17:56:53.928Z"
   },
   {
    "duration": 148,
    "start_time": "2023-02-24T17:56:54.076Z"
   },
   {
    "duration": 146,
    "start_time": "2023-02-24T17:56:54.226Z"
   },
   {
    "duration": 147,
    "start_time": "2023-02-24T17:56:54.375Z"
   },
   {
    "duration": 138,
    "start_time": "2023-02-24T17:56:54.524Z"
   },
   {
    "duration": 16,
    "start_time": "2023-02-24T17:56:54.664Z"
   },
   {
    "duration": 176,
    "start_time": "2023-02-24T17:56:54.681Z"
   },
   {
    "duration": 44,
    "start_time": "2023-02-24T17:57:53.320Z"
   },
   {
    "duration": 598,
    "start_time": "2023-02-24T17:58:06.774Z"
   },
   {
    "duration": 89,
    "start_time": "2023-02-24T17:58:07.373Z"
   },
   {
    "duration": 38,
    "start_time": "2023-02-24T17:58:07.463Z"
   },
   {
    "duration": 14,
    "start_time": "2023-02-24T17:58:07.503Z"
   },
   {
    "duration": 82,
    "start_time": "2023-02-24T17:58:07.519Z"
   },
   {
    "duration": 1963,
    "start_time": "2023-02-24T17:58:07.603Z"
   },
   {
    "duration": 5,
    "start_time": "2023-02-24T17:58:09.568Z"
   },
   {
    "duration": 13,
    "start_time": "2023-02-24T17:58:09.575Z"
   },
   {
    "duration": 14,
    "start_time": "2023-02-24T17:58:09.590Z"
   },
   {
    "duration": 16,
    "start_time": "2023-02-24T17:58:09.607Z"
   },
   {
    "duration": 29,
    "start_time": "2023-02-24T17:58:09.624Z"
   },
   {
    "duration": 7,
    "start_time": "2023-02-24T17:58:09.655Z"
   },
   {
    "duration": 7,
    "start_time": "2023-02-24T17:58:09.664Z"
   },
   {
    "duration": 12,
    "start_time": "2023-02-24T17:58:09.673Z"
   },
   {
    "duration": 8,
    "start_time": "2023-02-24T17:58:09.687Z"
   },
   {
    "duration": 11,
    "start_time": "2023-02-24T17:58:09.696Z"
   },
   {
    "duration": 5,
    "start_time": "2023-02-24T17:58:09.709Z"
   },
   {
    "duration": 16,
    "start_time": "2023-02-24T17:58:09.715Z"
   },
   {
    "duration": 41,
    "start_time": "2023-02-24T17:58:09.733Z"
   },
   {
    "duration": 11,
    "start_time": "2023-02-24T17:58:09.776Z"
   },
   {
    "duration": 6,
    "start_time": "2023-02-24T17:58:09.789Z"
   },
   {
    "duration": 11,
    "start_time": "2023-02-24T17:58:09.797Z"
   },
   {
    "duration": 5,
    "start_time": "2023-02-24T17:58:09.809Z"
   },
   {
    "duration": 6,
    "start_time": "2023-02-24T17:58:09.815Z"
   },
   {
    "duration": 26,
    "start_time": "2023-02-24T17:58:09.822Z"
   },
   {
    "duration": 4,
    "start_time": "2023-02-24T17:58:09.849Z"
   },
   {
    "duration": 5,
    "start_time": "2023-02-24T17:58:09.854Z"
   },
   {
    "duration": 6,
    "start_time": "2023-02-24T17:58:09.862Z"
   },
   {
    "duration": 7,
    "start_time": "2023-02-24T17:58:09.869Z"
   },
   {
    "duration": 5,
    "start_time": "2023-02-24T17:58:09.877Z"
   },
   {
    "duration": 8,
    "start_time": "2023-02-24T17:58:09.884Z"
   },
   {
    "duration": 142,
    "start_time": "2023-02-24T17:58:09.893Z"
   },
   {
    "duration": 32,
    "start_time": "2023-02-24T17:58:10.036Z"
   },
   {
    "duration": 6,
    "start_time": "2023-02-24T17:58:10.070Z"
   },
   {
    "duration": 5,
    "start_time": "2023-02-24T17:58:10.078Z"
   },
   {
    "duration": 17,
    "start_time": "2023-02-24T17:58:10.085Z"
   },
   {
    "duration": 6,
    "start_time": "2023-02-24T17:58:10.104Z"
   },
   {
    "duration": 304,
    "start_time": "2023-02-24T17:58:10.112Z"
   },
   {
    "duration": 4,
    "start_time": "2023-02-24T17:58:10.418Z"
   },
   {
    "duration": 39,
    "start_time": "2023-02-24T17:58:10.423Z"
   },
   {
    "duration": 1641,
    "start_time": "2023-02-24T17:58:10.464Z"
   },
   {
    "duration": 152,
    "start_time": "2023-02-24T17:58:12.107Z"
   },
   {
    "duration": 164,
    "start_time": "2023-02-24T17:58:12.261Z"
   },
   {
    "duration": 27,
    "start_time": "2023-02-24T17:58:12.426Z"
   },
   {
    "duration": 182,
    "start_time": "2023-02-24T17:58:12.455Z"
   },
   {
    "duration": 198,
    "start_time": "2023-02-24T17:58:12.639Z"
   },
   {
    "duration": 306,
    "start_time": "2023-02-24T17:58:12.839Z"
   },
   {
    "duration": 126,
    "start_time": "2023-02-24T17:58:13.147Z"
   },
   {
    "duration": 125,
    "start_time": "2023-02-24T17:58:13.275Z"
   },
   {
    "duration": 137,
    "start_time": "2023-02-24T17:58:13.403Z"
   },
   {
    "duration": 138,
    "start_time": "2023-02-24T17:58:13.547Z"
   },
   {
    "duration": 140,
    "start_time": "2023-02-24T17:58:13.687Z"
   },
   {
    "duration": 130,
    "start_time": "2023-02-24T17:58:13.828Z"
   },
   {
    "duration": 15,
    "start_time": "2023-02-24T17:58:13.960Z"
   },
   {
    "duration": 164,
    "start_time": "2023-02-24T17:58:13.977Z"
   },
   {
    "duration": 14,
    "start_time": "2023-02-24T18:01:05.875Z"
   },
   {
    "duration": 176,
    "start_time": "2023-02-24T18:03:03.700Z"
   },
   {
    "duration": 185,
    "start_time": "2023-02-24T18:04:31.902Z"
   },
   {
    "duration": 685,
    "start_time": "2023-02-24T18:16:04.522Z"
   },
   {
    "duration": 124,
    "start_time": "2023-02-24T18:16:05.210Z"
   },
   {
    "duration": 68,
    "start_time": "2023-02-24T18:16:05.340Z"
   },
   {
    "duration": 23,
    "start_time": "2023-02-24T18:16:05.410Z"
   },
   {
    "duration": 111,
    "start_time": "2023-02-24T18:16:05.449Z"
   },
   {
    "duration": 2289,
    "start_time": "2023-02-24T18:16:05.562Z"
   },
   {
    "duration": 5,
    "start_time": "2023-02-24T18:16:07.853Z"
   },
   {
    "duration": 10,
    "start_time": "2023-02-24T18:16:07.861Z"
   },
   {
    "duration": 5,
    "start_time": "2023-02-24T18:16:07.875Z"
   },
   {
    "duration": 21,
    "start_time": "2023-02-24T18:16:07.882Z"
   },
   {
    "duration": 48,
    "start_time": "2023-02-24T18:16:07.905Z"
   },
   {
    "duration": 7,
    "start_time": "2023-02-24T18:16:07.955Z"
   },
   {
    "duration": 12,
    "start_time": "2023-02-24T18:16:07.964Z"
   },
   {
    "duration": 7,
    "start_time": "2023-02-24T18:16:07.978Z"
   },
   {
    "duration": 14,
    "start_time": "2023-02-24T18:16:07.987Z"
   },
   {
    "duration": 7,
    "start_time": "2023-02-24T18:16:08.003Z"
   },
   {
    "duration": 40,
    "start_time": "2023-02-24T18:16:08.012Z"
   },
   {
    "duration": 12,
    "start_time": "2023-02-24T18:16:08.054Z"
   },
   {
    "duration": 43,
    "start_time": "2023-02-24T18:16:08.068Z"
   },
   {
    "duration": 37,
    "start_time": "2023-02-24T18:16:08.113Z"
   },
   {
    "duration": 12,
    "start_time": "2023-02-24T18:16:08.152Z"
   },
   {
    "duration": 11,
    "start_time": "2023-02-24T18:16:08.166Z"
   },
   {
    "duration": 7,
    "start_time": "2023-02-24T18:16:08.178Z"
   },
   {
    "duration": 7,
    "start_time": "2023-02-24T18:16:08.187Z"
   },
   {
    "duration": 9,
    "start_time": "2023-02-24T18:16:08.196Z"
   },
   {
    "duration": 10,
    "start_time": "2023-02-24T18:16:08.207Z"
   },
   {
    "duration": 29,
    "start_time": "2023-02-24T18:16:08.222Z"
   },
   {
    "duration": 8,
    "start_time": "2023-02-24T18:16:08.253Z"
   },
   {
    "duration": 6,
    "start_time": "2023-02-24T18:16:08.263Z"
   },
   {
    "duration": 10,
    "start_time": "2023-02-24T18:16:08.271Z"
   },
   {
    "duration": 7,
    "start_time": "2023-02-24T18:16:08.283Z"
   },
   {
    "duration": 149,
    "start_time": "2023-02-24T18:16:08.291Z"
   },
   {
    "duration": 39,
    "start_time": "2023-02-24T18:16:08.442Z"
   },
   {
    "duration": 10,
    "start_time": "2023-02-24T18:16:08.483Z"
   },
   {
    "duration": 36,
    "start_time": "2023-02-24T18:16:08.496Z"
   },
   {
    "duration": 20,
    "start_time": "2023-02-24T18:16:08.535Z"
   },
   {
    "duration": 9,
    "start_time": "2023-02-24T18:16:08.558Z"
   },
   {
    "duration": 462,
    "start_time": "2023-02-24T18:16:08.570Z"
   },
   {
    "duration": 5,
    "start_time": "2023-02-24T18:16:09.034Z"
   },
   {
    "duration": 45,
    "start_time": "2023-02-24T18:16:09.040Z"
   },
   {
    "duration": 2007,
    "start_time": "2023-02-24T18:16:09.087Z"
   },
   {
    "duration": 186,
    "start_time": "2023-02-24T18:16:11.096Z"
   },
   {
    "duration": 140,
    "start_time": "2023-02-24T18:16:11.284Z"
   },
   {
    "duration": 161,
    "start_time": "2023-02-24T18:16:11.425Z"
   },
   {
    "duration": 18,
    "start_time": "2023-02-24T18:16:11.588Z"
   },
   {
    "duration": 245,
    "start_time": "2023-02-24T18:16:11.608Z"
   },
   {
    "duration": 307,
    "start_time": "2023-02-24T18:16:11.855Z"
   },
   {
    "duration": 191,
    "start_time": "2023-02-24T18:16:12.164Z"
   },
   {
    "duration": 138,
    "start_time": "2023-02-24T18:16:12.358Z"
   },
   {
    "duration": 148,
    "start_time": "2023-02-24T18:16:12.498Z"
   },
   {
    "duration": 207,
    "start_time": "2023-02-24T18:16:12.648Z"
   },
   {
    "duration": 153,
    "start_time": "2023-02-24T18:16:12.856Z"
   },
   {
    "duration": 145,
    "start_time": "2023-02-24T18:16:13.011Z"
   },
   {
    "duration": 139,
    "start_time": "2023-02-24T18:16:13.158Z"
   },
   {
    "duration": 18,
    "start_time": "2023-02-24T18:16:13.299Z"
   },
   {
    "duration": 169,
    "start_time": "2023-02-24T18:16:13.319Z"
   },
   {
    "duration": 6,
    "start_time": "2023-02-24T18:45:35.097Z"
   },
   {
    "duration": 8,
    "start_time": "2023-02-24T18:45:48.898Z"
   },
   {
    "duration": 6,
    "start_time": "2023-02-24T18:46:05.337Z"
   },
   {
    "duration": 9,
    "start_time": "2023-02-24T18:46:30.777Z"
   },
   {
    "duration": 1261,
    "start_time": "2023-02-24T19:00:37.909Z"
   },
   {
    "duration": 13,
    "start_time": "2023-02-24T19:00:54.672Z"
   },
   {
    "duration": 10,
    "start_time": "2023-02-24T19:01:10.627Z"
   },
   {
    "duration": 1129,
    "start_time": "2023-02-24T19:01:17.543Z"
   },
   {
    "duration": 70,
    "start_time": "2023-02-24T19:03:03.991Z"
   },
   {
    "duration": 11,
    "start_time": "2023-02-24T19:08:21.751Z"
   },
   {
    "duration": 105,
    "start_time": "2023-02-24T19:08:34.693Z"
   },
   {
    "duration": 10,
    "start_time": "2023-02-24T19:08:58.207Z"
   },
   {
    "duration": 1138,
    "start_time": "2023-02-24T19:09:03.734Z"
   },
   {
    "duration": 79,
    "start_time": "2023-02-24T19:09:30.254Z"
   },
   {
    "duration": 5,
    "start_time": "2023-02-24T19:14:06.590Z"
   },
   {
    "duration": 101,
    "start_time": "2023-02-24T19:19:06.092Z"
   },
   {
    "duration": 99,
    "start_time": "2023-02-24T19:19:26.286Z"
   },
   {
    "duration": 27,
    "start_time": "2023-02-24T19:20:16.845Z"
   },
   {
    "duration": 91,
    "start_time": "2023-02-24T19:20:46.829Z"
   },
   {
    "duration": 4,
    "start_time": "2023-02-24T19:20:58.877Z"
   },
   {
    "duration": 70,
    "start_time": "2023-02-24T19:21:09.790Z"
   },
   {
    "duration": 5,
    "start_time": "2023-02-24T19:22:45.597Z"
   },
   {
    "duration": 4,
    "start_time": "2023-02-24T19:23:23.445Z"
   },
   {
    "duration": 5,
    "start_time": "2023-02-24T19:23:50.997Z"
   },
   {
    "duration": 9,
    "start_time": "2023-02-24T19:24:04.345Z"
   },
   {
    "duration": 7,
    "start_time": "2023-02-24T19:25:03.118Z"
   },
   {
    "duration": 4,
    "start_time": "2023-02-24T19:25:11.164Z"
   },
   {
    "duration": 4,
    "start_time": "2023-02-24T19:25:12.381Z"
   },
   {
    "duration": 3,
    "start_time": "2023-02-24T19:25:13.222Z"
   },
   {
    "duration": 3,
    "start_time": "2023-02-24T19:25:16.173Z"
   },
   {
    "duration": 10,
    "start_time": "2023-02-24T19:25:17.812Z"
   },
   {
    "duration": 5,
    "start_time": "2023-02-24T19:26:37.852Z"
   },
   {
    "duration": 9,
    "start_time": "2023-02-24T19:26:38.628Z"
   },
   {
    "duration": 10,
    "start_time": "2023-02-24T19:26:41.316Z"
   },
   {
    "duration": 6,
    "start_time": "2023-02-24T19:26:42.046Z"
   },
   {
    "duration": 10,
    "start_time": "2023-02-24T19:26:47.060Z"
   },
   {
    "duration": 9,
    "start_time": "2023-02-24T19:26:47.756Z"
   },
   {
    "duration": 9,
    "start_time": "2023-02-24T19:26:48.308Z"
   },
   {
    "duration": 16,
    "start_time": "2023-02-24T19:27:02.341Z"
   },
   {
    "duration": 17,
    "start_time": "2023-02-24T19:27:24.204Z"
   },
   {
    "duration": 608,
    "start_time": "2023-02-24T19:27:29.462Z"
   },
   {
    "duration": 91,
    "start_time": "2023-02-24T19:27:30.072Z"
   },
   {
    "duration": 36,
    "start_time": "2023-02-24T19:27:30.164Z"
   },
   {
    "duration": 13,
    "start_time": "2023-02-24T19:27:30.202Z"
   },
   {
    "duration": 79,
    "start_time": "2023-02-24T19:27:30.216Z"
   },
   {
    "duration": 2010,
    "start_time": "2023-02-24T19:27:30.297Z"
   },
   {
    "duration": 4,
    "start_time": "2023-02-24T19:27:32.309Z"
   },
   {
    "duration": 23,
    "start_time": "2023-02-24T19:27:32.314Z"
   },
   {
    "duration": 30,
    "start_time": "2023-02-24T19:27:32.339Z"
   },
   {
    "duration": 20,
    "start_time": "2023-02-24T19:27:32.371Z"
   },
   {
    "duration": 34,
    "start_time": "2023-02-24T19:27:32.393Z"
   },
   {
    "duration": 14,
    "start_time": "2023-02-24T19:27:32.430Z"
   },
   {
    "duration": 26,
    "start_time": "2023-02-24T19:27:32.446Z"
   },
   {
    "duration": 17,
    "start_time": "2023-02-24T19:27:32.473Z"
   },
   {
    "duration": 24,
    "start_time": "2023-02-24T19:27:32.492Z"
   },
   {
    "duration": 10,
    "start_time": "2023-02-24T19:27:32.519Z"
   },
   {
    "duration": 12,
    "start_time": "2023-02-24T19:27:32.531Z"
   },
   {
    "duration": 18,
    "start_time": "2023-02-24T19:27:32.544Z"
   },
   {
    "duration": 5,
    "start_time": "2023-02-24T19:27:32.563Z"
   },
   {
    "duration": 6,
    "start_time": "2023-02-24T19:27:32.569Z"
   },
   {
    "duration": 9,
    "start_time": "2023-02-24T19:27:32.577Z"
   },
   {
    "duration": 16,
    "start_time": "2023-02-24T19:27:32.588Z"
   },
   {
    "duration": 5,
    "start_time": "2023-02-24T19:27:32.606Z"
   },
   {
    "duration": 9,
    "start_time": "2023-02-24T19:27:32.613Z"
   },
   {
    "duration": 4,
    "start_time": "2023-02-24T19:27:32.624Z"
   },
   {
    "duration": 29,
    "start_time": "2023-02-24T19:27:32.629Z"
   },
   {
    "duration": 5,
    "start_time": "2023-02-24T19:27:32.660Z"
   },
   {
    "duration": 13,
    "start_time": "2023-02-24T19:27:32.668Z"
   },
   {
    "duration": 6,
    "start_time": "2023-02-24T19:27:32.683Z"
   },
   {
    "duration": 8,
    "start_time": "2023-02-24T19:27:32.690Z"
   },
   {
    "duration": 8,
    "start_time": "2023-02-24T19:27:32.700Z"
   },
   {
    "duration": 6,
    "start_time": "2023-02-24T19:27:32.710Z"
   },
   {
    "duration": 22,
    "start_time": "2023-02-24T19:27:32.717Z"
   },
   {
    "duration": 10,
    "start_time": "2023-02-24T19:27:32.741Z"
   },
   {
    "duration": 10,
    "start_time": "2023-02-24T19:27:32.753Z"
   },
   {
    "duration": 7,
    "start_time": "2023-02-24T19:27:32.765Z"
   },
   {
    "duration": 12,
    "start_time": "2023-02-24T19:27:32.774Z"
   },
   {
    "duration": 74,
    "start_time": "2023-02-24T19:27:32.787Z"
   },
   {
    "duration": 33,
    "start_time": "2023-02-24T19:27:32.863Z"
   },
   {
    "duration": 24,
    "start_time": "2023-02-24T19:27:32.897Z"
   },
   {
    "duration": 11,
    "start_time": "2023-02-24T19:27:32.923Z"
   },
   {
    "duration": 11,
    "start_time": "2023-02-24T19:27:32.936Z"
   },
   {
    "duration": 11,
    "start_time": "2023-02-24T19:27:32.949Z"
   },
   {
    "duration": 28,
    "start_time": "2023-02-24T19:27:32.963Z"
   },
   {
    "duration": 15,
    "start_time": "2023-02-24T19:27:32.993Z"
   },
   {
    "duration": 22,
    "start_time": "2023-02-24T19:27:33.009Z"
   },
   {
    "duration": 1870,
    "start_time": "2023-02-24T19:27:33.033Z"
   },
   {
    "duration": 132,
    "start_time": "2023-02-24T19:27:34.905Z"
   },
   {
    "duration": 0,
    "start_time": "2023-02-24T19:27:35.039Z"
   },
   {
    "duration": 0,
    "start_time": "2023-02-24T19:27:35.041Z"
   },
   {
    "duration": 0,
    "start_time": "2023-02-24T19:27:35.051Z"
   },
   {
    "duration": 0,
    "start_time": "2023-02-24T19:27:35.055Z"
   },
   {
    "duration": 0,
    "start_time": "2023-02-24T19:27:35.056Z"
   },
   {
    "duration": 0,
    "start_time": "2023-02-24T19:27:35.058Z"
   },
   {
    "duration": 0,
    "start_time": "2023-02-24T19:27:35.059Z"
   },
   {
    "duration": 0,
    "start_time": "2023-02-24T19:27:35.060Z"
   },
   {
    "duration": 0,
    "start_time": "2023-02-24T19:27:35.061Z"
   },
   {
    "duration": 0,
    "start_time": "2023-02-24T19:27:35.063Z"
   },
   {
    "duration": 0,
    "start_time": "2023-02-24T19:27:35.064Z"
   },
   {
    "duration": 0,
    "start_time": "2023-02-24T19:27:35.068Z"
   },
   {
    "duration": 0,
    "start_time": "2023-02-24T19:27:35.069Z"
   },
   {
    "duration": 0,
    "start_time": "2023-02-24T19:27:35.070Z"
   },
   {
    "duration": 1477,
    "start_time": "2023-02-24T19:28:22.404Z"
   },
   {
    "duration": 610,
    "start_time": "2023-02-24T19:28:47.646Z"
   },
   {
    "duration": 87,
    "start_time": "2023-02-24T19:28:48.258Z"
   },
   {
    "duration": 37,
    "start_time": "2023-02-24T19:28:48.348Z"
   },
   {
    "duration": 13,
    "start_time": "2023-02-24T19:28:48.387Z"
   },
   {
    "duration": 79,
    "start_time": "2023-02-24T19:28:48.401Z"
   },
   {
    "duration": 1978,
    "start_time": "2023-02-24T19:28:48.481Z"
   },
   {
    "duration": 4,
    "start_time": "2023-02-24T19:28:50.461Z"
   },
   {
    "duration": 15,
    "start_time": "2023-02-24T19:28:50.466Z"
   },
   {
    "duration": 10,
    "start_time": "2023-02-24T19:28:50.483Z"
   },
   {
    "duration": 16,
    "start_time": "2023-02-24T19:28:50.495Z"
   },
   {
    "duration": 22,
    "start_time": "2023-02-24T19:28:50.512Z"
   },
   {
    "duration": 10,
    "start_time": "2023-02-24T19:28:50.535Z"
   },
   {
    "duration": 5,
    "start_time": "2023-02-24T19:28:50.548Z"
   },
   {
    "duration": 5,
    "start_time": "2023-02-24T19:28:50.554Z"
   },
   {
    "duration": 10,
    "start_time": "2023-02-24T19:28:50.560Z"
   },
   {
    "duration": 5,
    "start_time": "2023-02-24T19:28:50.572Z"
   },
   {
    "duration": 9,
    "start_time": "2023-02-24T19:28:50.578Z"
   },
   {
    "duration": 14,
    "start_time": "2023-02-24T19:28:50.589Z"
   },
   {
    "duration": 5,
    "start_time": "2023-02-24T19:28:50.605Z"
   },
   {
    "duration": 6,
    "start_time": "2023-02-24T19:28:50.611Z"
   },
   {
    "duration": 30,
    "start_time": "2023-02-24T19:28:50.618Z"
   },
   {
    "duration": 12,
    "start_time": "2023-02-24T19:28:50.649Z"
   },
   {
    "duration": 5,
    "start_time": "2023-02-24T19:28:50.663Z"
   },
   {
    "duration": 8,
    "start_time": "2023-02-24T19:28:50.669Z"
   },
   {
    "duration": 5,
    "start_time": "2023-02-24T19:28:50.678Z"
   },
   {
    "duration": 13,
    "start_time": "2023-02-24T19:28:50.684Z"
   },
   {
    "duration": 5,
    "start_time": "2023-02-24T19:28:50.699Z"
   },
   {
    "duration": 6,
    "start_time": "2023-02-24T19:28:50.705Z"
   },
   {
    "duration": 5,
    "start_time": "2023-02-24T19:28:50.713Z"
   },
   {
    "duration": 6,
    "start_time": "2023-02-24T19:28:50.719Z"
   },
   {
    "duration": 28,
    "start_time": "2023-02-24T19:28:50.726Z"
   },
   {
    "duration": 10,
    "start_time": "2023-02-24T19:28:50.756Z"
   },
   {
    "duration": 7,
    "start_time": "2023-02-24T19:28:50.768Z"
   },
   {
    "duration": 6,
    "start_time": "2023-02-24T19:28:50.777Z"
   },
   {
    "duration": 10,
    "start_time": "2023-02-24T19:28:50.785Z"
   },
   {
    "duration": 10,
    "start_time": "2023-02-24T19:28:50.797Z"
   },
   {
    "duration": 8,
    "start_time": "2023-02-24T19:28:50.809Z"
   },
   {
    "duration": 43,
    "start_time": "2023-02-24T19:28:50.818Z"
   },
   {
    "duration": 13,
    "start_time": "2023-02-24T19:28:50.863Z"
   },
   {
    "duration": 5,
    "start_time": "2023-02-24T19:28:50.880Z"
   },
   {
    "duration": 6,
    "start_time": "2023-02-24T19:28:50.887Z"
   },
   {
    "duration": 6,
    "start_time": "2023-02-24T19:28:50.894Z"
   },
   {
    "duration": 6,
    "start_time": "2023-02-24T19:28:50.901Z"
   },
   {
    "duration": 7,
    "start_time": "2023-02-24T19:28:50.908Z"
   },
   {
    "duration": 6,
    "start_time": "2023-02-24T19:28:50.916Z"
   },
   {
    "duration": 33,
    "start_time": "2023-02-24T19:28:50.924Z"
   },
   {
    "duration": 1518,
    "start_time": "2023-02-24T19:28:50.958Z"
   },
   {
    "duration": 85,
    "start_time": "2023-02-24T19:28:52.478Z"
   },
   {
    "duration": 0,
    "start_time": "2023-02-24T19:28:52.565Z"
   },
   {
    "duration": 0,
    "start_time": "2023-02-24T19:28:52.566Z"
   },
   {
    "duration": 0,
    "start_time": "2023-02-24T19:28:52.567Z"
   },
   {
    "duration": 0,
    "start_time": "2023-02-24T19:28:52.568Z"
   },
   {
    "duration": 0,
    "start_time": "2023-02-24T19:28:52.569Z"
   },
   {
    "duration": 0,
    "start_time": "2023-02-24T19:28:52.571Z"
   },
   {
    "duration": 0,
    "start_time": "2023-02-24T19:28:52.572Z"
   },
   {
    "duration": 0,
    "start_time": "2023-02-24T19:28:52.572Z"
   },
   {
    "duration": 1,
    "start_time": "2023-02-24T19:28:52.573Z"
   },
   {
    "duration": 0,
    "start_time": "2023-02-24T19:28:52.575Z"
   },
   {
    "duration": 0,
    "start_time": "2023-02-24T19:28:52.576Z"
   },
   {
    "duration": 0,
    "start_time": "2023-02-24T19:28:52.577Z"
   },
   {
    "duration": 0,
    "start_time": "2023-02-24T19:28:52.578Z"
   },
   {
    "duration": 0,
    "start_time": "2023-02-24T19:28:52.579Z"
   },
   {
    "duration": 621,
    "start_time": "2023-02-24T19:29:49.543Z"
   },
   {
    "duration": 89,
    "start_time": "2023-02-24T19:29:50.166Z"
   },
   {
    "duration": 38,
    "start_time": "2023-02-24T19:29:50.257Z"
   },
   {
    "duration": 14,
    "start_time": "2023-02-24T19:29:50.297Z"
   },
   {
    "duration": 90,
    "start_time": "2023-02-24T19:29:50.312Z"
   },
   {
    "duration": 2019,
    "start_time": "2023-02-24T19:29:50.404Z"
   },
   {
    "duration": 4,
    "start_time": "2023-02-24T19:29:52.424Z"
   },
   {
    "duration": 8,
    "start_time": "2023-02-24T19:29:52.430Z"
   },
   {
    "duration": 6,
    "start_time": "2023-02-24T19:29:52.439Z"
   },
   {
    "duration": 11,
    "start_time": "2023-02-24T19:29:52.448Z"
   },
   {
    "duration": 22,
    "start_time": "2023-02-24T19:29:52.461Z"
   },
   {
    "duration": 9,
    "start_time": "2023-02-24T19:29:52.485Z"
   },
   {
    "duration": 5,
    "start_time": "2023-02-24T19:29:52.495Z"
   },
   {
    "duration": 7,
    "start_time": "2023-02-24T19:29:52.502Z"
   },
   {
    "duration": 9,
    "start_time": "2023-02-24T19:29:52.510Z"
   },
   {
    "duration": 28,
    "start_time": "2023-02-24T19:29:52.520Z"
   },
   {
    "duration": 8,
    "start_time": "2023-02-24T19:29:52.550Z"
   },
   {
    "duration": 15,
    "start_time": "2023-02-24T19:29:52.559Z"
   },
   {
    "duration": 6,
    "start_time": "2023-02-24T19:29:52.575Z"
   },
   {
    "duration": 11,
    "start_time": "2023-02-24T19:29:52.583Z"
   },
   {
    "duration": 53,
    "start_time": "2023-02-24T19:29:52.595Z"
   },
   {
    "duration": 14,
    "start_time": "2023-02-24T19:29:52.650Z"
   },
   {
    "duration": 10,
    "start_time": "2023-02-24T19:29:52.665Z"
   },
   {
    "duration": 10,
    "start_time": "2023-02-24T19:29:52.677Z"
   },
   {
    "duration": 14,
    "start_time": "2023-02-24T19:29:52.688Z"
   },
   {
    "duration": 21,
    "start_time": "2023-02-24T19:29:52.703Z"
   },
   {
    "duration": 9,
    "start_time": "2023-02-24T19:29:52.725Z"
   },
   {
    "duration": 14,
    "start_time": "2023-02-24T19:29:52.737Z"
   },
   {
    "duration": 19,
    "start_time": "2023-02-24T19:29:52.752Z"
   },
   {
    "duration": 12,
    "start_time": "2023-02-24T19:29:52.772Z"
   },
   {
    "duration": 28,
    "start_time": "2023-02-24T19:29:52.785Z"
   },
   {
    "duration": 34,
    "start_time": "2023-02-24T19:29:52.814Z"
   },
   {
    "duration": 17,
    "start_time": "2023-02-24T19:29:52.850Z"
   },
   {
    "duration": 149,
    "start_time": "2023-02-24T19:29:52.869Z"
   },
   {
    "duration": 29,
    "start_time": "2023-02-24T19:29:53.020Z"
   },
   {
    "duration": 6,
    "start_time": "2023-02-24T19:29:53.052Z"
   },
   {
    "duration": 8,
    "start_time": "2023-02-24T19:29:53.060Z"
   },
   {
    "duration": 12,
    "start_time": "2023-02-24T19:29:53.069Z"
   },
   {
    "duration": 11,
    "start_time": "2023-02-24T19:29:53.082Z"
   },
   {
    "duration": 332,
    "start_time": "2023-02-24T19:29:53.094Z"
   },
   {
    "duration": 4,
    "start_time": "2023-02-24T19:29:53.427Z"
   },
   {
    "duration": 57,
    "start_time": "2023-02-24T19:29:53.433Z"
   },
   {
    "duration": 1869,
    "start_time": "2023-02-24T19:29:53.491Z"
   },
   {
    "duration": 221,
    "start_time": "2023-02-24T19:29:55.362Z"
   },
   {
    "duration": 126,
    "start_time": "2023-02-24T19:29:55.585Z"
   },
   {
    "duration": 144,
    "start_time": "2023-02-24T19:29:55.713Z"
   },
   {
    "duration": 16,
    "start_time": "2023-02-24T19:29:55.858Z"
   },
   {
    "duration": 179,
    "start_time": "2023-02-24T19:29:55.875Z"
   },
   {
    "duration": 259,
    "start_time": "2023-02-24T19:29:56.055Z"
   },
   {
    "duration": 165,
    "start_time": "2023-02-24T19:29:56.315Z"
   },
   {
    "duration": 121,
    "start_time": "2023-02-24T19:29:56.482Z"
   },
   {
    "duration": 115,
    "start_time": "2023-02-24T19:29:56.604Z"
   },
   {
    "duration": 129,
    "start_time": "2023-02-24T19:29:56.720Z"
   },
   {
    "duration": 137,
    "start_time": "2023-02-24T19:29:56.851Z"
   },
   {
    "duration": 125,
    "start_time": "2023-02-24T19:29:56.990Z"
   },
   {
    "duration": 125,
    "start_time": "2023-02-24T19:29:57.117Z"
   },
   {
    "duration": 18,
    "start_time": "2023-02-24T19:29:57.243Z"
   },
   {
    "duration": 155,
    "start_time": "2023-02-24T19:29:57.262Z"
   },
   {
    "duration": 585,
    "start_time": "2023-02-24T19:31:57.009Z"
   },
   {
    "duration": 98,
    "start_time": "2023-02-24T19:31:57.596Z"
   },
   {
    "duration": 37,
    "start_time": "2023-02-24T19:31:57.696Z"
   },
   {
    "duration": 28,
    "start_time": "2023-02-24T19:31:57.734Z"
   },
   {
    "duration": 67,
    "start_time": "2023-02-24T19:31:57.763Z"
   },
   {
    "duration": 1990,
    "start_time": "2023-02-24T19:31:57.832Z"
   },
   {
    "duration": 4,
    "start_time": "2023-02-24T19:31:59.824Z"
   },
   {
    "duration": 9,
    "start_time": "2023-02-24T19:31:59.829Z"
   },
   {
    "duration": 7,
    "start_time": "2023-02-24T19:31:59.839Z"
   },
   {
    "duration": 26,
    "start_time": "2023-02-24T19:31:59.848Z"
   },
   {
    "duration": 21,
    "start_time": "2023-02-24T19:31:59.876Z"
   },
   {
    "duration": 6,
    "start_time": "2023-02-24T19:31:59.899Z"
   },
   {
    "duration": 7,
    "start_time": "2023-02-24T19:31:59.907Z"
   },
   {
    "duration": 8,
    "start_time": "2023-02-24T19:31:59.915Z"
   },
   {
    "duration": 8,
    "start_time": "2023-02-24T19:31:59.925Z"
   },
   {
    "duration": 17,
    "start_time": "2023-02-24T19:31:59.934Z"
   },
   {
    "duration": 16,
    "start_time": "2023-02-24T19:31:59.954Z"
   },
   {
    "duration": 24,
    "start_time": "2023-02-24T19:31:59.972Z"
   },
   {
    "duration": 6,
    "start_time": "2023-02-24T19:31:59.997Z"
   },
   {
    "duration": 25,
    "start_time": "2023-02-24T19:32:00.004Z"
   },
   {
    "duration": 32,
    "start_time": "2023-02-24T19:32:00.030Z"
   },
   {
    "duration": 12,
    "start_time": "2023-02-24T19:32:00.064Z"
   },
   {
    "duration": 7,
    "start_time": "2023-02-24T19:32:00.077Z"
   },
   {
    "duration": 10,
    "start_time": "2023-02-24T19:32:00.085Z"
   },
   {
    "duration": 15,
    "start_time": "2023-02-24T19:32:00.096Z"
   },
   {
    "duration": 6,
    "start_time": "2023-02-24T19:32:00.112Z"
   },
   {
    "duration": 18,
    "start_time": "2023-02-24T19:32:00.119Z"
   },
   {
    "duration": 25,
    "start_time": "2023-02-24T19:32:00.140Z"
   },
   {
    "duration": 5,
    "start_time": "2023-02-24T19:32:00.167Z"
   },
   {
    "duration": 7,
    "start_time": "2023-02-24T19:32:00.174Z"
   },
   {
    "duration": 8,
    "start_time": "2023-02-24T19:32:00.182Z"
   },
   {
    "duration": 11,
    "start_time": "2023-02-24T19:32:00.192Z"
   },
   {
    "duration": 8,
    "start_time": "2023-02-24T19:32:00.205Z"
   },
   {
    "duration": 129,
    "start_time": "2023-02-24T19:32:00.215Z"
   },
   {
    "duration": 32,
    "start_time": "2023-02-24T19:32:00.346Z"
   },
   {
    "duration": 6,
    "start_time": "2023-02-24T19:32:00.380Z"
   },
   {
    "duration": 28,
    "start_time": "2023-02-24T19:32:00.388Z"
   },
   {
    "duration": 23,
    "start_time": "2023-02-24T19:32:00.418Z"
   },
   {
    "duration": 36,
    "start_time": "2023-02-24T19:32:00.442Z"
   },
   {
    "duration": 319,
    "start_time": "2023-02-24T19:32:00.479Z"
   },
   {
    "duration": 4,
    "start_time": "2023-02-24T19:32:00.799Z"
   },
   {
    "duration": 61,
    "start_time": "2023-02-24T19:32:00.805Z"
   },
   {
    "duration": 1785,
    "start_time": "2023-02-24T19:32:00.867Z"
   },
   {
    "duration": 184,
    "start_time": "2023-02-24T19:32:02.661Z"
   },
   {
    "duration": 144,
    "start_time": "2023-02-24T19:32:02.848Z"
   },
   {
    "duration": 146,
    "start_time": "2023-02-24T19:32:02.994Z"
   },
   {
    "duration": 25,
    "start_time": "2023-02-24T19:32:03.141Z"
   },
   {
    "duration": 195,
    "start_time": "2023-02-24T19:32:03.167Z"
   },
   {
    "duration": 257,
    "start_time": "2023-02-24T19:32:03.364Z"
   },
   {
    "duration": 176,
    "start_time": "2023-02-24T19:32:03.623Z"
   },
   {
    "duration": 138,
    "start_time": "2023-02-24T19:32:03.800Z"
   },
   {
    "duration": 122,
    "start_time": "2023-02-24T19:32:03.940Z"
   },
   {
    "duration": 152,
    "start_time": "2023-02-24T19:32:04.064Z"
   },
   {
    "duration": 148,
    "start_time": "2023-02-24T19:32:04.218Z"
   },
   {
    "duration": 138,
    "start_time": "2023-02-24T19:32:04.368Z"
   },
   {
    "duration": 157,
    "start_time": "2023-02-24T19:32:04.507Z"
   },
   {
    "duration": 15,
    "start_time": "2023-02-24T19:32:04.665Z"
   },
   {
    "duration": 147,
    "start_time": "2023-02-24T19:32:04.682Z"
   },
   {
    "duration": 598,
    "start_time": "2023-02-24T19:46:49.291Z"
   },
   {
    "duration": 96,
    "start_time": "2023-02-24T19:46:49.891Z"
   },
   {
    "duration": 37,
    "start_time": "2023-02-24T19:46:49.989Z"
   },
   {
    "duration": 25,
    "start_time": "2023-02-24T19:46:50.028Z"
   },
   {
    "duration": 71,
    "start_time": "2023-02-24T19:46:50.055Z"
   },
   {
    "duration": 2099,
    "start_time": "2023-02-24T19:46:50.128Z"
   },
   {
    "duration": 5,
    "start_time": "2023-02-24T19:46:52.229Z"
   },
   {
    "duration": 9,
    "start_time": "2023-02-24T19:46:52.236Z"
   },
   {
    "duration": 23,
    "start_time": "2023-02-24T19:46:52.247Z"
   },
   {
    "duration": 12,
    "start_time": "2023-02-24T19:46:52.274Z"
   },
   {
    "duration": 23,
    "start_time": "2023-02-24T19:46:52.288Z"
   },
   {
    "duration": 9,
    "start_time": "2023-02-24T19:46:52.312Z"
   },
   {
    "duration": 8,
    "start_time": "2023-02-24T19:46:52.322Z"
   },
   {
    "duration": 11,
    "start_time": "2023-02-24T19:46:52.332Z"
   },
   {
    "duration": 25,
    "start_time": "2023-02-24T19:46:52.347Z"
   },
   {
    "duration": 6,
    "start_time": "2023-02-24T19:46:52.374Z"
   },
   {
    "duration": 8,
    "start_time": "2023-02-24T19:46:52.382Z"
   },
   {
    "duration": 13,
    "start_time": "2023-02-24T19:46:52.392Z"
   },
   {
    "duration": 5,
    "start_time": "2023-02-24T19:46:52.406Z"
   },
   {
    "duration": 15,
    "start_time": "2023-02-24T19:46:52.412Z"
   },
   {
    "duration": 44,
    "start_time": "2023-02-24T19:46:52.428Z"
   },
   {
    "duration": 12,
    "start_time": "2023-02-24T19:46:52.473Z"
   },
   {
    "duration": 9,
    "start_time": "2023-02-24T19:46:52.487Z"
   },
   {
    "duration": 6,
    "start_time": "2023-02-24T19:46:52.497Z"
   },
   {
    "duration": 6,
    "start_time": "2023-02-24T19:46:52.505Z"
   },
   {
    "duration": 5,
    "start_time": "2023-02-24T19:46:52.512Z"
   },
   {
    "duration": 4,
    "start_time": "2023-02-24T19:46:52.519Z"
   },
   {
    "duration": 26,
    "start_time": "2023-02-24T19:46:52.527Z"
   },
   {
    "duration": 8,
    "start_time": "2023-02-24T19:46:52.554Z"
   },
   {
    "duration": 7,
    "start_time": "2023-02-24T19:46:52.563Z"
   },
   {
    "duration": 20,
    "start_time": "2023-02-24T19:46:52.572Z"
   },
   {
    "duration": 19,
    "start_time": "2023-02-24T19:46:52.594Z"
   },
   {
    "duration": 21,
    "start_time": "2023-02-24T19:46:52.615Z"
   },
   {
    "duration": 186,
    "start_time": "2023-02-24T19:46:52.638Z"
   },
   {
    "duration": 46,
    "start_time": "2023-02-24T19:46:52.826Z"
   },
   {
    "duration": 26,
    "start_time": "2023-02-24T19:46:52.874Z"
   },
   {
    "duration": 10,
    "start_time": "2023-02-24T19:46:52.902Z"
   },
   {
    "duration": 11,
    "start_time": "2023-02-24T19:46:52.914Z"
   },
   {
    "duration": 11,
    "start_time": "2023-02-24T19:46:52.927Z"
   },
   {
    "duration": 393,
    "start_time": "2023-02-24T19:46:52.939Z"
   },
   {
    "duration": 15,
    "start_time": "2023-02-24T19:46:53.334Z"
   },
   {
    "duration": 38,
    "start_time": "2023-02-24T19:46:53.350Z"
   },
   {
    "duration": 2150,
    "start_time": "2023-02-24T19:46:53.390Z"
   },
   {
    "duration": 218,
    "start_time": "2023-02-24T19:46:55.548Z"
   },
   {
    "duration": 153,
    "start_time": "2023-02-24T19:46:55.767Z"
   },
   {
    "duration": 175,
    "start_time": "2023-02-24T19:46:55.923Z"
   },
   {
    "duration": 18,
    "start_time": "2023-02-24T19:46:56.099Z"
   },
   {
    "duration": 223,
    "start_time": "2023-02-24T19:46:56.119Z"
   },
   {
    "duration": 296,
    "start_time": "2023-02-24T19:46:56.344Z"
   },
   {
    "duration": 194,
    "start_time": "2023-02-24T19:46:56.642Z"
   },
   {
    "duration": 141,
    "start_time": "2023-02-24T19:46:56.837Z"
   },
   {
    "duration": 132,
    "start_time": "2023-02-24T19:46:56.980Z"
   },
   {
    "duration": 153,
    "start_time": "2023-02-24T19:46:57.114Z"
   },
   {
    "duration": 155,
    "start_time": "2023-02-24T19:46:57.269Z"
   },
   {
    "duration": 165,
    "start_time": "2023-02-24T19:46:57.426Z"
   },
   {
    "duration": 144,
    "start_time": "2023-02-24T19:46:57.594Z"
   },
   {
    "duration": 25,
    "start_time": "2023-02-24T19:46:57.740Z"
   },
   {
    "duration": 166,
    "start_time": "2023-02-24T19:46:57.767Z"
   },
   {
    "duration": 616,
    "start_time": "2023-02-24T19:55:26.662Z"
   },
   {
    "duration": 89,
    "start_time": "2023-02-24T19:55:27.279Z"
   },
   {
    "duration": 36,
    "start_time": "2023-02-24T19:55:27.369Z"
   },
   {
    "duration": 12,
    "start_time": "2023-02-24T19:55:27.407Z"
   },
   {
    "duration": 79,
    "start_time": "2023-02-24T19:55:27.420Z"
   },
   {
    "duration": 1922,
    "start_time": "2023-02-24T19:55:27.500Z"
   },
   {
    "duration": 4,
    "start_time": "2023-02-24T19:55:29.424Z"
   },
   {
    "duration": 14,
    "start_time": "2023-02-24T19:55:29.429Z"
   },
   {
    "duration": 8,
    "start_time": "2023-02-24T19:55:29.444Z"
   },
   {
    "duration": 26,
    "start_time": "2023-02-24T19:55:29.454Z"
   },
   {
    "duration": 21,
    "start_time": "2023-02-24T19:55:29.481Z"
   },
   {
    "duration": 5,
    "start_time": "2023-02-24T19:55:29.503Z"
   },
   {
    "duration": 6,
    "start_time": "2023-02-24T19:55:29.510Z"
   },
   {
    "duration": 5,
    "start_time": "2023-02-24T19:55:29.518Z"
   },
   {
    "duration": 9,
    "start_time": "2023-02-24T19:55:29.524Z"
   },
   {
    "duration": 16,
    "start_time": "2023-02-24T19:55:29.534Z"
   },
   {
    "duration": 13,
    "start_time": "2023-02-24T19:55:29.551Z"
   },
   {
    "duration": 5,
    "start_time": "2023-02-24T19:55:29.566Z"
   },
   {
    "duration": 11,
    "start_time": "2023-02-24T19:55:29.572Z"
   },
   {
    "duration": 24,
    "start_time": "2023-02-24T19:55:29.585Z"
   },
   {
    "duration": 38,
    "start_time": "2023-02-24T19:55:29.610Z"
   },
   {
    "duration": 8,
    "start_time": "2023-02-24T19:55:29.650Z"
   },
   {
    "duration": 6,
    "start_time": "2023-02-24T19:55:29.659Z"
   },
   {
    "duration": 4,
    "start_time": "2023-02-24T19:55:29.667Z"
   },
   {
    "duration": 4,
    "start_time": "2023-02-24T19:55:29.673Z"
   },
   {
    "duration": 8,
    "start_time": "2023-02-24T19:55:29.679Z"
   },
   {
    "duration": 15,
    "start_time": "2023-02-24T19:55:29.688Z"
   },
   {
    "duration": 8,
    "start_time": "2023-02-24T19:55:29.707Z"
   },
   {
    "duration": 5,
    "start_time": "2023-02-24T19:55:29.716Z"
   },
   {
    "duration": 4,
    "start_time": "2023-02-24T19:55:29.723Z"
   },
   {
    "duration": 5,
    "start_time": "2023-02-24T19:55:29.729Z"
   },
   {
    "duration": 17,
    "start_time": "2023-02-24T19:55:29.735Z"
   },
   {
    "duration": 131,
    "start_time": "2023-02-24T19:55:29.754Z"
   },
   {
    "duration": 31,
    "start_time": "2023-02-24T19:55:29.887Z"
   },
   {
    "duration": 7,
    "start_time": "2023-02-24T19:55:29.919Z"
   },
   {
    "duration": 21,
    "start_time": "2023-02-24T19:55:29.927Z"
   },
   {
    "duration": 13,
    "start_time": "2023-02-24T19:55:29.951Z"
   },
   {
    "duration": 11,
    "start_time": "2023-02-24T19:55:29.965Z"
   },
   {
    "duration": 301,
    "start_time": "2023-02-24T19:55:29.977Z"
   },
   {
    "duration": 5,
    "start_time": "2023-02-24T19:55:30.280Z"
   },
   {
    "duration": 58,
    "start_time": "2023-02-24T19:55:30.286Z"
   },
   {
    "duration": 1639,
    "start_time": "2023-02-24T19:55:30.346Z"
   },
   {
    "duration": 197,
    "start_time": "2023-02-24T19:55:31.987Z"
   },
   {
    "duration": 123,
    "start_time": "2023-02-24T19:55:32.186Z"
   },
   {
    "duration": 144,
    "start_time": "2023-02-24T19:55:32.310Z"
   },
   {
    "duration": 16,
    "start_time": "2023-02-24T19:55:32.456Z"
   },
   {
    "duration": 185,
    "start_time": "2023-02-24T19:55:32.473Z"
   },
   {
    "duration": 268,
    "start_time": "2023-02-24T19:55:32.660Z"
   },
   {
    "duration": 174,
    "start_time": "2023-02-24T19:55:32.930Z"
   },
   {
    "duration": 118,
    "start_time": "2023-02-24T19:55:33.105Z"
   },
   {
    "duration": 125,
    "start_time": "2023-02-24T19:55:33.224Z"
   },
   {
    "duration": 125,
    "start_time": "2023-02-24T19:55:33.350Z"
   },
   {
    "duration": 143,
    "start_time": "2023-02-24T19:55:33.476Z"
   },
   {
    "duration": 133,
    "start_time": "2023-02-24T19:55:33.621Z"
   },
   {
    "duration": 126,
    "start_time": "2023-02-24T19:55:33.755Z"
   },
   {
    "duration": 18,
    "start_time": "2023-02-24T19:55:33.884Z"
   },
   {
    "duration": 163,
    "start_time": "2023-02-24T19:55:33.904Z"
   },
   {
    "duration": 589,
    "start_time": "2023-02-24T19:55:47.270Z"
   },
   {
    "duration": 95,
    "start_time": "2023-02-24T19:55:47.860Z"
   },
   {
    "duration": 40,
    "start_time": "2023-02-24T19:55:47.957Z"
   },
   {
    "duration": 13,
    "start_time": "2023-02-24T19:55:47.999Z"
   },
   {
    "duration": 90,
    "start_time": "2023-02-24T19:55:48.014Z"
   },
   {
    "duration": 2013,
    "start_time": "2023-02-24T19:55:48.106Z"
   },
   {
    "duration": 4,
    "start_time": "2023-02-24T19:55:50.120Z"
   },
   {
    "duration": 8,
    "start_time": "2023-02-24T19:55:50.125Z"
   },
   {
    "duration": 4,
    "start_time": "2023-02-24T19:55:50.134Z"
   },
   {
    "duration": 10,
    "start_time": "2023-02-24T19:55:50.140Z"
   },
   {
    "duration": 21,
    "start_time": "2023-02-24T19:55:50.151Z"
   },
   {
    "duration": 6,
    "start_time": "2023-02-24T19:55:50.173Z"
   },
   {
    "duration": 8,
    "start_time": "2023-02-24T19:55:50.180Z"
   },
   {
    "duration": 7,
    "start_time": "2023-02-24T19:55:50.189Z"
   },
   {
    "duration": 11,
    "start_time": "2023-02-24T19:55:50.197Z"
   },
   {
    "duration": 5,
    "start_time": "2023-02-24T19:55:50.210Z"
   },
   {
    "duration": 45,
    "start_time": "2023-02-24T19:55:50.217Z"
   },
   {
    "duration": 9,
    "start_time": "2023-02-24T19:55:50.264Z"
   },
   {
    "duration": 17,
    "start_time": "2023-02-24T19:55:50.275Z"
   },
   {
    "duration": 28,
    "start_time": "2023-02-24T19:55:50.294Z"
   },
   {
    "duration": 33,
    "start_time": "2023-02-24T19:55:50.323Z"
   },
   {
    "duration": 8,
    "start_time": "2023-02-24T19:55:50.357Z"
   },
   {
    "duration": 10,
    "start_time": "2023-02-24T19:55:50.367Z"
   },
   {
    "duration": 4,
    "start_time": "2023-02-24T19:55:50.379Z"
   },
   {
    "duration": 7,
    "start_time": "2023-02-24T19:55:50.385Z"
   },
   {
    "duration": 4,
    "start_time": "2023-02-24T19:55:50.394Z"
   },
   {
    "duration": 6,
    "start_time": "2023-02-24T19:55:50.400Z"
   },
   {
    "duration": 5,
    "start_time": "2023-02-24T19:55:50.411Z"
   },
   {
    "duration": 5,
    "start_time": "2023-02-24T19:55:50.448Z"
   },
   {
    "duration": 24,
    "start_time": "2023-02-24T19:55:50.455Z"
   },
   {
    "duration": 15,
    "start_time": "2023-02-24T19:55:50.482Z"
   },
   {
    "duration": 6,
    "start_time": "2023-02-24T19:55:50.499Z"
   },
   {
    "duration": 127,
    "start_time": "2023-02-24T19:55:50.506Z"
   },
   {
    "duration": 31,
    "start_time": "2023-02-24T19:55:50.634Z"
   },
   {
    "duration": 7,
    "start_time": "2023-02-24T19:55:50.666Z"
   },
   {
    "duration": 7,
    "start_time": "2023-02-24T19:55:50.674Z"
   },
   {
    "duration": 11,
    "start_time": "2023-02-24T19:55:50.682Z"
   },
   {
    "duration": 8,
    "start_time": "2023-02-24T19:55:50.695Z"
   },
   {
    "duration": 350,
    "start_time": "2023-02-24T19:55:50.705Z"
   },
   {
    "duration": 4,
    "start_time": "2023-02-24T19:55:51.057Z"
   },
   {
    "duration": 33,
    "start_time": "2023-02-24T19:55:51.062Z"
   },
   {
    "duration": 1811,
    "start_time": "2023-02-24T19:55:51.096Z"
   },
   {
    "duration": 178,
    "start_time": "2023-02-24T19:55:52.909Z"
   },
   {
    "duration": 128,
    "start_time": "2023-02-24T19:55:53.088Z"
   },
   {
    "duration": 135,
    "start_time": "2023-02-24T19:55:53.218Z"
   },
   {
    "duration": 16,
    "start_time": "2023-02-24T19:55:53.355Z"
   },
   {
    "duration": 187,
    "start_time": "2023-02-24T19:55:53.372Z"
   },
   {
    "duration": 268,
    "start_time": "2023-02-24T19:55:53.560Z"
   },
   {
    "duration": 181,
    "start_time": "2023-02-24T19:55:53.829Z"
   },
   {
    "duration": 123,
    "start_time": "2023-02-24T19:55:54.012Z"
   },
   {
    "duration": 133,
    "start_time": "2023-02-24T19:55:54.137Z"
   },
   {
    "duration": 134,
    "start_time": "2023-02-24T19:55:54.272Z"
   },
   {
    "duration": 156,
    "start_time": "2023-02-24T19:55:54.408Z"
   },
   {
    "duration": 136,
    "start_time": "2023-02-24T19:55:54.567Z"
   },
   {
    "duration": 127,
    "start_time": "2023-02-24T19:55:54.705Z"
   },
   {
    "duration": 22,
    "start_time": "2023-02-24T19:55:54.834Z"
   },
   {
    "duration": 162,
    "start_time": "2023-02-24T19:55:54.858Z"
   },
   {
    "duration": 551,
    "start_time": "2023-02-24T19:57:36.694Z"
   },
   {
    "duration": 93,
    "start_time": "2023-02-24T19:57:37.247Z"
   },
   {
    "duration": 39,
    "start_time": "2023-02-24T19:57:37.342Z"
   },
   {
    "duration": 13,
    "start_time": "2023-02-24T19:57:37.383Z"
   },
   {
    "duration": 77,
    "start_time": "2023-02-24T19:57:37.397Z"
   },
   {
    "duration": 1947,
    "start_time": "2023-02-24T19:57:37.476Z"
   },
   {
    "duration": 4,
    "start_time": "2023-02-24T19:57:39.425Z"
   },
   {
    "duration": 9,
    "start_time": "2023-02-24T19:57:39.430Z"
   },
   {
    "duration": 9,
    "start_time": "2023-02-24T19:57:39.440Z"
   },
   {
    "duration": 12,
    "start_time": "2023-02-24T19:57:39.451Z"
   },
   {
    "duration": 23,
    "start_time": "2023-02-24T19:57:39.464Z"
   },
   {
    "duration": 6,
    "start_time": "2023-02-24T19:57:39.488Z"
   },
   {
    "duration": 16,
    "start_time": "2023-02-24T19:57:39.496Z"
   },
   {
    "duration": 9,
    "start_time": "2023-02-24T19:57:39.513Z"
   },
   {
    "duration": 25,
    "start_time": "2023-02-24T19:57:39.523Z"
   },
   {
    "duration": 6,
    "start_time": "2023-02-24T19:57:39.549Z"
   },
   {
    "duration": 17,
    "start_time": "2023-02-24T19:57:39.557Z"
   },
   {
    "duration": 5,
    "start_time": "2023-02-24T19:57:39.576Z"
   },
   {
    "duration": 14,
    "start_time": "2023-02-24T19:57:39.583Z"
   },
   {
    "duration": 25,
    "start_time": "2023-02-24T19:57:39.598Z"
   },
   {
    "duration": 32,
    "start_time": "2023-02-24T19:57:39.624Z"
   },
   {
    "duration": 7,
    "start_time": "2023-02-24T19:57:39.657Z"
   },
   {
    "duration": 6,
    "start_time": "2023-02-24T19:57:39.666Z"
   },
   {
    "duration": 4,
    "start_time": "2023-02-24T19:57:39.673Z"
   },
   {
    "duration": 4,
    "start_time": "2023-02-24T19:57:39.678Z"
   },
   {
    "duration": 3,
    "start_time": "2023-02-24T19:57:39.684Z"
   },
   {
    "duration": 4,
    "start_time": "2023-02-24T19:57:39.689Z"
   },
   {
    "duration": 5,
    "start_time": "2023-02-24T19:57:39.696Z"
   },
   {
    "duration": 5,
    "start_time": "2023-02-24T19:57:39.702Z"
   },
   {
    "duration": 4,
    "start_time": "2023-02-24T19:57:39.708Z"
   },
   {
    "duration": 35,
    "start_time": "2023-02-24T19:57:39.714Z"
   },
   {
    "duration": 7,
    "start_time": "2023-02-24T19:57:39.750Z"
   },
   {
    "duration": 137,
    "start_time": "2023-02-24T19:57:39.758Z"
   },
   {
    "duration": 28,
    "start_time": "2023-02-24T19:57:39.897Z"
   },
   {
    "duration": 25,
    "start_time": "2023-02-24T19:57:39.927Z"
   },
   {
    "duration": 5,
    "start_time": "2023-02-24T19:57:39.954Z"
   },
   {
    "duration": 13,
    "start_time": "2023-02-24T19:57:39.961Z"
   },
   {
    "duration": 9,
    "start_time": "2023-02-24T19:57:39.975Z"
   },
   {
    "duration": 297,
    "start_time": "2023-02-24T19:57:39.985Z"
   },
   {
    "duration": 4,
    "start_time": "2023-02-24T19:57:40.284Z"
   },
   {
    "duration": 32,
    "start_time": "2023-02-24T19:57:40.289Z"
   },
   {
    "duration": 1627,
    "start_time": "2023-02-24T19:57:40.322Z"
   },
   {
    "duration": 171,
    "start_time": "2023-02-24T19:57:41.950Z"
   },
   {
    "duration": 129,
    "start_time": "2023-02-24T19:57:42.123Z"
   },
   {
    "duration": 1049,
    "start_time": "2023-02-25T07:18:59.904Z"
   },
   {
    "duration": 236,
    "start_time": "2023-02-25T07:19:00.961Z"
   },
   {
    "duration": 67,
    "start_time": "2023-02-25T07:19:01.199Z"
   },
   {
    "duration": 84,
    "start_time": "2023-02-25T07:19:01.268Z"
   },
   {
    "duration": 129,
    "start_time": "2023-02-25T07:19:01.355Z"
   },
   {
    "duration": 2777,
    "start_time": "2023-02-25T07:19:01.486Z"
   },
   {
    "duration": 9,
    "start_time": "2023-02-25T07:19:04.265Z"
   },
   {
    "duration": 8,
    "start_time": "2023-02-25T07:19:04.277Z"
   },
   {
    "duration": 29,
    "start_time": "2023-02-25T07:19:04.288Z"
   },
   {
    "duration": 58,
    "start_time": "2023-02-25T07:19:04.320Z"
   },
   {
    "duration": 40,
    "start_time": "2023-02-25T07:19:04.380Z"
   },
   {
    "duration": 59,
    "start_time": "2023-02-25T07:19:04.423Z"
   },
   {
    "duration": 11,
    "start_time": "2023-02-25T07:19:04.484Z"
   },
   {
    "duration": 55,
    "start_time": "2023-02-25T07:19:04.497Z"
   },
   {
    "duration": 29,
    "start_time": "2023-02-25T07:19:04.553Z"
   },
   {
    "duration": 11,
    "start_time": "2023-02-25T07:19:04.585Z"
   },
   {
    "duration": 37,
    "start_time": "2023-02-25T07:19:04.598Z"
   },
   {
    "duration": 28,
    "start_time": "2023-02-25T07:19:04.645Z"
   },
   {
    "duration": 10,
    "start_time": "2023-02-25T07:19:04.675Z"
   },
   {
    "duration": 39,
    "start_time": "2023-02-25T07:19:04.687Z"
   },
   {
    "duration": 47,
    "start_time": "2023-02-25T07:19:04.728Z"
   },
   {
    "duration": 8,
    "start_time": "2023-02-25T07:19:04.777Z"
   },
   {
    "duration": 9,
    "start_time": "2023-02-25T07:19:04.787Z"
   },
   {
    "duration": 49,
    "start_time": "2023-02-25T07:19:04.798Z"
   },
   {
    "duration": 13,
    "start_time": "2023-02-25T07:19:04.849Z"
   },
   {
    "duration": 5,
    "start_time": "2023-02-25T07:19:04.864Z"
   },
   {
    "duration": 5,
    "start_time": "2023-02-25T07:19:04.870Z"
   },
   {
    "duration": 5,
    "start_time": "2023-02-25T07:19:04.879Z"
   },
   {
    "duration": 6,
    "start_time": "2023-02-25T07:19:04.885Z"
   },
   {
    "duration": 5,
    "start_time": "2023-02-25T07:19:04.893Z"
   },
   {
    "duration": 33,
    "start_time": "2023-02-25T07:19:04.899Z"
   },
   {
    "duration": 34,
    "start_time": "2023-02-25T07:19:04.933Z"
   },
   {
    "duration": 172,
    "start_time": "2023-02-25T07:19:04.969Z"
   },
   {
    "duration": 34,
    "start_time": "2023-02-25T07:19:05.143Z"
   },
   {
    "duration": 9,
    "start_time": "2023-02-25T07:19:05.178Z"
   },
   {
    "duration": 13,
    "start_time": "2023-02-25T07:19:05.203Z"
   },
   {
    "duration": 62,
    "start_time": "2023-02-25T07:19:05.218Z"
   },
   {
    "duration": 27,
    "start_time": "2023-02-25T07:19:05.282Z"
   },
   {
    "duration": 474,
    "start_time": "2023-02-25T07:19:05.311Z"
   },
   {
    "duration": 6,
    "start_time": "2023-02-25T07:19:05.787Z"
   },
   {
    "duration": 59,
    "start_time": "2023-02-25T07:19:05.804Z"
   },
   {
    "duration": 2304,
    "start_time": "2023-02-25T07:19:05.866Z"
   },
   {
    "duration": 251,
    "start_time": "2023-02-25T07:19:08.172Z"
   },
   {
    "duration": 207,
    "start_time": "2023-02-25T07:19:08.425Z"
   },
   {
    "duration": 195,
    "start_time": "2023-02-25T07:19:08.634Z"
   },
   {
    "duration": 27,
    "start_time": "2023-02-25T07:19:08.833Z"
   },
   {
    "duration": 262,
    "start_time": "2023-02-25T07:19:08.863Z"
   },
   {
    "duration": 336,
    "start_time": "2023-02-25T07:19:09.127Z"
   },
   {
    "duration": 217,
    "start_time": "2023-02-25T07:19:09.464Z"
   },
   {
    "duration": 173,
    "start_time": "2023-02-25T07:19:09.686Z"
   },
   {
    "duration": 153,
    "start_time": "2023-02-25T07:19:09.861Z"
   },
   {
    "duration": 173,
    "start_time": "2023-02-25T07:19:10.017Z"
   },
   {
    "duration": 205,
    "start_time": "2023-02-25T07:19:10.192Z"
   },
   {
    "duration": 225,
    "start_time": "2023-02-25T07:19:10.399Z"
   },
   {
    "duration": 198,
    "start_time": "2023-02-25T07:19:10.625Z"
   },
   {
    "duration": 23,
    "start_time": "2023-02-25T07:19:10.825Z"
   },
   {
    "duration": 198,
    "start_time": "2023-02-25T07:19:10.850Z"
   },
   {
    "duration": 135,
    "start_time": "2023-02-25T10:31:36.688Z"
   },
   {
    "duration": 1345,
    "start_time": "2023-02-25T10:31:44.686Z"
   },
   {
    "duration": 555,
    "start_time": "2023-02-25T10:31:46.036Z"
   },
   {
    "duration": 85,
    "start_time": "2023-02-25T10:31:46.598Z"
   },
   {
    "duration": 91,
    "start_time": "2023-02-25T10:31:46.688Z"
   },
   {
    "duration": 220,
    "start_time": "2023-02-25T10:31:46.787Z"
   },
   {
    "duration": 2795,
    "start_time": "2023-02-25T10:31:47.013Z"
   },
   {
    "duration": 27,
    "start_time": "2023-02-25T10:31:49.824Z"
   },
   {
    "duration": 40,
    "start_time": "2023-02-25T10:31:49.856Z"
   },
   {
    "duration": 6,
    "start_time": "2023-02-25T10:31:49.898Z"
   },
   {
    "duration": 28,
    "start_time": "2023-02-25T10:31:49.907Z"
   },
   {
    "duration": 158,
    "start_time": "2023-02-25T10:31:49.939Z"
   },
   {
    "duration": 10,
    "start_time": "2023-02-25T10:31:50.102Z"
   },
   {
    "duration": 90,
    "start_time": "2023-02-25T10:31:50.114Z"
   },
   {
    "duration": 21,
    "start_time": "2023-02-25T10:31:50.206Z"
   },
   {
    "duration": 46,
    "start_time": "2023-02-25T10:31:50.228Z"
   },
   {
    "duration": 29,
    "start_time": "2023-02-25T10:31:50.276Z"
   },
   {
    "duration": 59,
    "start_time": "2023-02-25T10:31:50.308Z"
   },
   {
    "duration": 37,
    "start_time": "2023-02-25T10:31:50.369Z"
   },
   {
    "duration": 85,
    "start_time": "2023-02-25T10:31:50.409Z"
   },
   {
    "duration": 68,
    "start_time": "2023-02-25T10:31:50.495Z"
   },
   {
    "duration": 28,
    "start_time": "2023-02-25T10:31:50.579Z"
   },
   {
    "duration": 24,
    "start_time": "2023-02-25T10:31:50.609Z"
   },
   {
    "duration": 100,
    "start_time": "2023-02-25T10:31:50.643Z"
   },
   {
    "duration": 55,
    "start_time": "2023-02-25T10:31:50.744Z"
   },
   {
    "duration": 7,
    "start_time": "2023-02-25T10:31:50.801Z"
   },
   {
    "duration": 79,
    "start_time": "2023-02-25T10:31:50.809Z"
   },
   {
    "duration": 16,
    "start_time": "2023-02-25T10:31:50.889Z"
   },
   {
    "duration": 67,
    "start_time": "2023-02-25T10:31:50.917Z"
   },
   {
    "duration": 12,
    "start_time": "2023-02-25T10:31:50.986Z"
   },
   {
    "duration": 14,
    "start_time": "2023-02-25T10:31:51.000Z"
   },
   {
    "duration": 59,
    "start_time": "2023-02-25T10:31:51.028Z"
   },
   {
    "duration": 12,
    "start_time": "2023-02-25T10:31:51.089Z"
   },
   {
    "duration": 353,
    "start_time": "2023-02-25T10:31:51.102Z"
   },
   {
    "duration": 79,
    "start_time": "2023-02-25T10:31:51.460Z"
   },
   {
    "duration": 58,
    "start_time": "2023-02-25T10:31:51.540Z"
   },
   {
    "duration": 6,
    "start_time": "2023-02-25T10:31:51.600Z"
   },
   {
    "duration": 95,
    "start_time": "2023-02-25T10:31:51.607Z"
   },
   {
    "duration": 39,
    "start_time": "2023-02-25T10:31:51.704Z"
   },
   {
    "duration": 578,
    "start_time": "2023-02-25T10:31:51.755Z"
   },
   {
    "duration": 5,
    "start_time": "2023-02-25T10:31:52.339Z"
   },
   {
    "duration": 129,
    "start_time": "2023-02-25T10:31:52.350Z"
   },
   {
    "duration": 2617,
    "start_time": "2023-02-25T10:31:52.493Z"
   },
   {
    "duration": 297,
    "start_time": "2023-02-25T10:31:55.116Z"
   },
   {
    "duration": 241,
    "start_time": "2023-02-25T10:31:55.420Z"
   },
   {
    "duration": 263,
    "start_time": "2023-02-25T10:31:55.668Z"
   },
   {
    "duration": 43,
    "start_time": "2023-02-25T10:31:55.937Z"
   },
   {
    "duration": 370,
    "start_time": "2023-02-25T10:31:55.987Z"
   },
   {
    "duration": 423,
    "start_time": "2023-02-25T10:31:56.364Z"
   },
   {
    "duration": 462,
    "start_time": "2023-02-25T10:31:56.793Z"
   },
   {
    "duration": 214,
    "start_time": "2023-02-25T10:31:57.257Z"
   },
   {
    "duration": 214,
    "start_time": "2023-02-25T10:31:57.473Z"
   },
   {
    "duration": 213,
    "start_time": "2023-02-25T10:31:57.690Z"
   },
   {
    "duration": 297,
    "start_time": "2023-02-25T10:31:57.924Z"
   },
   {
    "duration": 226,
    "start_time": "2023-02-25T10:31:58.223Z"
   },
   {
    "duration": 516,
    "start_time": "2023-02-25T10:31:58.451Z"
   },
   {
    "duration": 146,
    "start_time": "2023-02-25T10:31:58.969Z"
   },
   {
    "duration": 0,
    "start_time": "2023-02-25T10:31:59.117Z"
   },
   {
    "duration": 0,
    "start_time": "2023-02-25T10:31:59.118Z"
   },
   {
    "duration": 81,
    "start_time": "2023-02-25T10:32:07.068Z"
   },
   {
    "duration": 31,
    "start_time": "2023-02-25T10:35:49.336Z"
   },
   {
    "duration": 8,
    "start_time": "2023-02-25T10:41:17.788Z"
   },
   {
    "duration": 30,
    "start_time": "2023-02-25T11:12:12.730Z"
   },
   {
    "duration": 46,
    "start_time": "2023-02-25T11:12:27.807Z"
   },
   {
    "duration": 21,
    "start_time": "2023-02-25T11:14:22.307Z"
   },
   {
    "duration": 21,
    "start_time": "2023-02-25T11:14:44.728Z"
   },
   {
    "duration": 50,
    "start_time": "2023-02-25T11:15:24.304Z"
   },
   {
    "duration": 46,
    "start_time": "2023-02-25T11:16:39.230Z"
   },
   {
    "duration": 54,
    "start_time": "2023-02-25T11:16:55.898Z"
   },
   {
    "duration": 37,
    "start_time": "2023-02-25T11:20:27.437Z"
   },
   {
    "duration": 715,
    "start_time": "2023-02-25T11:27:50.164Z"
   },
   {
    "duration": 125,
    "start_time": "2023-02-25T11:27:50.880Z"
   },
   {
    "duration": 69,
    "start_time": "2023-02-25T11:27:51.007Z"
   },
   {
    "duration": 17,
    "start_time": "2023-02-25T11:27:51.079Z"
   },
   {
    "duration": 88,
    "start_time": "2023-02-25T11:27:51.098Z"
   },
   {
    "duration": 2562,
    "start_time": "2023-02-25T11:27:51.187Z"
   },
   {
    "duration": 5,
    "start_time": "2023-02-25T11:27:53.751Z"
   },
   {
    "duration": 7,
    "start_time": "2023-02-25T11:27:53.758Z"
   },
   {
    "duration": 4,
    "start_time": "2023-02-25T11:27:53.767Z"
   },
   {
    "duration": 14,
    "start_time": "2023-02-25T11:27:53.774Z"
   },
   {
    "duration": 44,
    "start_time": "2023-02-25T11:27:53.790Z"
   },
   {
    "duration": 7,
    "start_time": "2023-02-25T11:27:53.836Z"
   },
   {
    "duration": 21,
    "start_time": "2023-02-25T11:27:53.844Z"
   },
   {
    "duration": 7,
    "start_time": "2023-02-25T11:27:53.866Z"
   },
   {
    "duration": 10,
    "start_time": "2023-02-25T11:27:53.875Z"
   },
   {
    "duration": 7,
    "start_time": "2023-02-25T11:27:53.887Z"
   },
   {
    "duration": 35,
    "start_time": "2023-02-25T11:27:53.896Z"
   },
   {
    "duration": 32,
    "start_time": "2023-02-25T11:27:53.932Z"
   },
   {
    "duration": 9,
    "start_time": "2023-02-25T11:27:53.966Z"
   },
   {
    "duration": 27,
    "start_time": "2023-02-25T11:27:53.977Z"
   },
   {
    "duration": 19,
    "start_time": "2023-02-25T11:27:54.006Z"
   },
   {
    "duration": 35,
    "start_time": "2023-02-25T11:27:54.026Z"
   },
   {
    "duration": 8,
    "start_time": "2023-02-25T11:27:54.062Z"
   },
   {
    "duration": 4,
    "start_time": "2023-02-25T11:27:54.072Z"
   },
   {
    "duration": 5,
    "start_time": "2023-02-25T11:27:54.078Z"
   },
   {
    "duration": 7,
    "start_time": "2023-02-25T11:27:54.085Z"
   },
   {
    "duration": 4,
    "start_time": "2023-02-25T11:27:54.093Z"
   },
   {
    "duration": 4,
    "start_time": "2023-02-25T11:27:54.101Z"
   },
   {
    "duration": 31,
    "start_time": "2023-02-25T11:27:54.119Z"
   },
   {
    "duration": 14,
    "start_time": "2023-02-25T11:27:54.152Z"
   },
   {
    "duration": 13,
    "start_time": "2023-02-25T11:27:54.168Z"
   },
   {
    "duration": 8,
    "start_time": "2023-02-25T11:27:54.183Z"
   },
   {
    "duration": 188,
    "start_time": "2023-02-25T11:27:54.193Z"
   },
   {
    "duration": 39,
    "start_time": "2023-02-25T11:27:54.383Z"
   },
   {
    "duration": 8,
    "start_time": "2023-02-25T11:27:54.424Z"
   },
   {
    "duration": 32,
    "start_time": "2023-02-25T11:27:54.434Z"
   },
   {
    "duration": 15,
    "start_time": "2023-02-25T11:27:54.471Z"
   },
   {
    "duration": 8,
    "start_time": "2023-02-25T11:27:54.488Z"
   },
   {
    "duration": 463,
    "start_time": "2023-02-25T11:27:54.497Z"
   },
   {
    "duration": 6,
    "start_time": "2023-02-25T11:27:54.962Z"
   },
   {
    "duration": 33,
    "start_time": "2023-02-25T11:27:54.969Z"
   },
   {
    "duration": 2411,
    "start_time": "2023-02-25T11:27:55.004Z"
   },
   {
    "duration": 359,
    "start_time": "2023-02-25T11:27:57.417Z"
   },
   {
    "duration": 183,
    "start_time": "2023-02-25T11:27:57.778Z"
   },
   {
    "duration": 162,
    "start_time": "2023-02-25T11:27:57.963Z"
   },
   {
    "duration": 32,
    "start_time": "2023-02-25T11:27:58.127Z"
   },
   {
    "duration": 229,
    "start_time": "2023-02-25T11:27:58.162Z"
   },
   {
    "duration": 317,
    "start_time": "2023-02-25T11:27:58.392Z"
   },
   {
    "duration": 239,
    "start_time": "2023-02-25T11:27:58.716Z"
   },
   {
    "duration": 135,
    "start_time": "2023-02-25T11:27:58.958Z"
   },
   {
    "duration": 168,
    "start_time": "2023-02-25T11:27:59.094Z"
   },
   {
    "duration": 158,
    "start_time": "2023-02-25T11:27:59.263Z"
   },
   {
    "duration": 171,
    "start_time": "2023-02-25T11:27:59.423Z"
   },
   {
    "duration": 179,
    "start_time": "2023-02-25T11:27:59.596Z"
   },
   {
    "duration": 165,
    "start_time": "2023-02-25T11:27:59.777Z"
   },
   {
    "duration": 35,
    "start_time": "2023-02-25T11:27:59.944Z"
   },
   {
    "duration": 190,
    "start_time": "2023-02-25T11:27:59.981Z"
   },
   {
    "duration": 712,
    "start_time": "2023-02-25T11:33:56.766Z"
   },
   {
    "duration": 119,
    "start_time": "2023-02-25T11:33:57.481Z"
   },
   {
    "duration": 70,
    "start_time": "2023-02-25T11:33:57.602Z"
   },
   {
    "duration": 21,
    "start_time": "2023-02-25T11:33:57.674Z"
   },
   {
    "duration": 95,
    "start_time": "2023-02-25T11:33:57.698Z"
   },
   {
    "duration": 2377,
    "start_time": "2023-02-25T11:33:57.795Z"
   },
   {
    "duration": 4,
    "start_time": "2023-02-25T11:34:00.174Z"
   },
   {
    "duration": 20,
    "start_time": "2023-02-25T11:34:00.180Z"
   },
   {
    "duration": 66,
    "start_time": "2023-02-25T11:34:00.201Z"
   },
   {
    "duration": 23,
    "start_time": "2023-02-25T11:34:00.269Z"
   },
   {
    "duration": 37,
    "start_time": "2023-02-25T11:34:00.293Z"
   },
   {
    "duration": 33,
    "start_time": "2023-02-25T11:34:00.332Z"
   },
   {
    "duration": 16,
    "start_time": "2023-02-25T11:34:00.367Z"
   },
   {
    "duration": 15,
    "start_time": "2023-02-25T11:34:00.387Z"
   },
   {
    "duration": 65,
    "start_time": "2023-02-25T11:34:00.404Z"
   },
   {
    "duration": 35,
    "start_time": "2023-02-25T11:34:00.471Z"
   },
   {
    "duration": 63,
    "start_time": "2023-02-25T11:34:00.508Z"
   },
   {
    "duration": 25,
    "start_time": "2023-02-25T11:34:00.572Z"
   },
   {
    "duration": 70,
    "start_time": "2023-02-25T11:34:00.598Z"
   },
   {
    "duration": 58,
    "start_time": "2023-02-25T11:34:00.670Z"
   },
   {
    "duration": 36,
    "start_time": "2023-02-25T11:34:00.729Z"
   },
   {
    "duration": 25,
    "start_time": "2023-02-25T11:34:00.767Z"
   },
   {
    "duration": 59,
    "start_time": "2023-02-25T11:34:00.793Z"
   },
   {
    "duration": 37,
    "start_time": "2023-02-25T11:34:00.856Z"
   },
   {
    "duration": 8,
    "start_time": "2023-02-25T11:34:00.895Z"
   },
   {
    "duration": 50,
    "start_time": "2023-02-25T11:34:00.904Z"
   },
   {
    "duration": 29,
    "start_time": "2023-02-25T11:34:00.956Z"
   },
   {
    "duration": 69,
    "start_time": "2023-02-25T11:34:00.987Z"
   },
   {
    "duration": 29,
    "start_time": "2023-02-25T11:34:01.057Z"
   },
   {
    "duration": 23,
    "start_time": "2023-02-25T11:34:01.088Z"
   },
   {
    "duration": 73,
    "start_time": "2023-02-25T11:34:01.120Z"
   },
   {
    "duration": 75,
    "start_time": "2023-02-25T11:34:01.194Z"
   },
   {
    "duration": 222,
    "start_time": "2023-02-25T11:34:01.272Z"
   },
   {
    "duration": 46,
    "start_time": "2023-02-25T11:34:01.496Z"
   },
   {
    "duration": 54,
    "start_time": "2023-02-25T11:34:01.548Z"
   },
   {
    "duration": 59,
    "start_time": "2023-02-25T11:34:01.604Z"
   },
   {
    "duration": 37,
    "start_time": "2023-02-25T11:34:01.664Z"
   },
   {
    "duration": 104,
    "start_time": "2023-02-25T11:34:01.703Z"
   },
   {
    "duration": 541,
    "start_time": "2023-02-25T11:34:01.809Z"
   },
   {
    "duration": 8,
    "start_time": "2023-02-25T11:34:02.352Z"
   },
   {
    "duration": 36,
    "start_time": "2023-02-25T11:34:02.365Z"
   },
   {
    "duration": 2032,
    "start_time": "2023-02-25T11:34:02.402Z"
   },
   {
    "duration": 229,
    "start_time": "2023-02-25T11:34:04.436Z"
   },
   {
    "duration": 155,
    "start_time": "2023-02-25T11:34:04.666Z"
   },
   {
    "duration": 179,
    "start_time": "2023-02-25T11:34:04.823Z"
   },
   {
    "duration": 35,
    "start_time": "2023-02-25T11:34:05.003Z"
   },
   {
    "duration": 275,
    "start_time": "2023-02-25T11:34:05.044Z"
   },
   {
    "duration": 368,
    "start_time": "2023-02-25T11:34:05.327Z"
   },
   {
    "duration": 228,
    "start_time": "2023-02-25T11:34:05.697Z"
   },
   {
    "duration": 157,
    "start_time": "2023-02-25T11:34:05.926Z"
   },
   {
    "duration": 172,
    "start_time": "2023-02-25T11:34:06.085Z"
   },
   {
    "duration": 147,
    "start_time": "2023-02-25T11:34:06.260Z"
   },
   {
    "duration": 180,
    "start_time": "2023-02-25T11:34:06.415Z"
   },
   {
    "duration": 224,
    "start_time": "2023-02-25T11:34:06.597Z"
   },
   {
    "duration": 181,
    "start_time": "2023-02-25T11:34:06.822Z"
   },
   {
    "duration": 35,
    "start_time": "2023-02-25T11:34:07.005Z"
   },
   {
    "duration": 323,
    "start_time": "2023-02-25T11:34:07.042Z"
   }
  ],
  "kernelspec": {
   "display_name": "Python 3 (ipykernel)",
   "language": "python",
   "name": "python3"
  },
  "language_info": {
   "codemirror_mode": {
    "name": "ipython",
    "version": 3
   },
   "file_extension": ".py",
   "mimetype": "text/x-python",
   "name": "python",
   "nbconvert_exporter": "python",
   "pygments_lexer": "ipython3",
   "version": "3.9.5"
  },
  "toc": {
   "base_numbering": 1,
   "nav_menu": {},
   "number_sections": true,
   "sideBar": true,
   "skip_h1_title": true,
   "title_cell": "Table of Contents",
   "title_sidebar": "Contents",
   "toc_cell": false,
   "toc_position": {},
   "toc_section_display": true,
   "toc_window_display": false
  }
 },
 "nbformat": 4,
 "nbformat_minor": 2
}
