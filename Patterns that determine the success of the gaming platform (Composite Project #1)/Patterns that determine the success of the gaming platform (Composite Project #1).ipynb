{
 "cells": [
  {
   "cell_type": "markdown",
   "metadata": {},
   "source": [
    "# Исследование продажи игр"
   ]
  },
  {
   "cell_type": "markdown",
   "metadata": {},
   "source": [
    "Имея в своем распоряжении датасет, со всеми необходимыми для анализа данными проведем свое исследование по стандартому шаблону.\n",
    "-Для начала импортируем необходиые библиотеки. \\\n",
    "-Ознакомимся с данными в датасете, что бы составить первое представление о его составе и необходимой предобработке данных. \\\n",
    "-Проведем необходимую предобработку данных. \\\n",
    "-Проанализируем и визуализируем все имеющиеся зависимости. \\\n",
    "-Проведем некоторые вычисления, способные рассказать нам больше о важнейших скрытых закономерностях и особенностях предмета исследования. \\\n",
    "-Подведем итоги. \\\n",
    "P.S. перед нами стоит задача аналитического типа - это накладывает небольшие ограничения, особенно в части предобработки данных.\\\n",
    "Опишем данные, которые имеем.\\\n",
    "Имеется дата-фрейм на 16715 строк и 11 столбцов.\\\n",
    "Столбцы характеризуют такие данные как: название игры, платформа игры, год релиза (без указания месяца и дня), жанр игры, продажи по регионам (Североамериканский, Европейский, Японский и \"другий\" регионы), оценки пользователей, оценки критиков, и возрастной рейтинг (согласно агенству ESRB (англ. Entertainment Software Rating Board).\\\n",
    "Стоит обратить внимание на систему возрастного рейтинга, в разрезе рынков, на которых выходила та или иная игра. Возможно, агенство не присваивало рейтинг играм не предназначеным для Североамериканского региона.\\\n",
    "Так же можем предположить некоторое кол-во пропусков в оценках, как пользовательских, так и критиков."
   ]
  },
  {
   "cell_type": "markdown",
   "metadata": {},
   "source": [
    "## Импортируем необходимые библиотеки, открываем файл и составляем первое представление."
   ]
  },
  {
   "cell_type": "markdown",
   "metadata": {},
   "source": [
    "### Для начала, импортируем необходимые библиотеки."
   ]
  },
  {
   "cell_type": "code",
   "execution_count": 1,
   "metadata": {},
   "outputs": [],
   "source": [
    "import pandas as pd\n",
    "import numpy as np\n",
    "import matplotlib.pyplot as plt\n",
    "import seaborn as sns\n",
    "from scipy import stats as st\n",
    "import warnings\n",
    "warnings.filterwarnings(\"ignore\")"
   ]
  },
  {
   "cell_type": "markdown",
   "metadata": {},
   "source": [
    "### Читаем csv, используя оба источника на случай технических неисправностей.\n",
    "Сохраняем файл в стандартную переменную."
   ]
  },
  {
   "cell_type": "code",
   "execution_count": 2,
   "metadata": {},
   "outputs": [],
   "source": [
    "try:\n",
    "    data = pd.read_csv('/datasets/games.csv')\n",
    "except:\n",
    "    data = pd.read_csv('https://code.s3.yandex.net/datasets/games.csv')"
   ]
  },
  {
   "cell_type": "markdown",
   "metadata": {},
   "source": [
    "### Ознакамливаемся с данными и сразу же выводим основные характеристики csv файла."
   ]
  },
  {
   "cell_type": "code",
   "execution_count": 3,
   "metadata": {},
   "outputs": [
    {
     "data": {
      "text/html": [
       "<div>\n",
       "<style scoped>\n",
       "    .dataframe tbody tr th:only-of-type {\n",
       "        vertical-align: middle;\n",
       "    }\n",
       "\n",
       "    .dataframe tbody tr th {\n",
       "        vertical-align: top;\n",
       "    }\n",
       "\n",
       "    .dataframe thead th {\n",
       "        text-align: right;\n",
       "    }\n",
       "</style>\n",
       "<table border=\"1\" class=\"dataframe\">\n",
       "  <thead>\n",
       "    <tr style=\"text-align: right;\">\n",
       "      <th></th>\n",
       "      <th>Name</th>\n",
       "      <th>Platform</th>\n",
       "      <th>Year_of_Release</th>\n",
       "      <th>Genre</th>\n",
       "      <th>NA_sales</th>\n",
       "      <th>EU_sales</th>\n",
       "      <th>JP_sales</th>\n",
       "      <th>Other_sales</th>\n",
       "      <th>Critic_Score</th>\n",
       "      <th>User_Score</th>\n",
       "      <th>Rating</th>\n",
       "    </tr>\n",
       "  </thead>\n",
       "  <tbody>\n",
       "    <tr>\n",
       "      <th>0</th>\n",
       "      <td>Wii Sports</td>\n",
       "      <td>Wii</td>\n",
       "      <td>2006.0</td>\n",
       "      <td>Sports</td>\n",
       "      <td>41.36</td>\n",
       "      <td>28.96</td>\n",
       "      <td>3.77</td>\n",
       "      <td>8.45</td>\n",
       "      <td>76.0</td>\n",
       "      <td>8</td>\n",
       "      <td>E</td>\n",
       "    </tr>\n",
       "    <tr>\n",
       "      <th>1</th>\n",
       "      <td>Super Mario Bros.</td>\n",
       "      <td>NES</td>\n",
       "      <td>1985.0</td>\n",
       "      <td>Platform</td>\n",
       "      <td>29.08</td>\n",
       "      <td>3.58</td>\n",
       "      <td>6.81</td>\n",
       "      <td>0.77</td>\n",
       "      <td>NaN</td>\n",
       "      <td>NaN</td>\n",
       "      <td>NaN</td>\n",
       "    </tr>\n",
       "    <tr>\n",
       "      <th>2</th>\n",
       "      <td>Mario Kart Wii</td>\n",
       "      <td>Wii</td>\n",
       "      <td>2008.0</td>\n",
       "      <td>Racing</td>\n",
       "      <td>15.68</td>\n",
       "      <td>12.76</td>\n",
       "      <td>3.79</td>\n",
       "      <td>3.29</td>\n",
       "      <td>82.0</td>\n",
       "      <td>8.3</td>\n",
       "      <td>E</td>\n",
       "    </tr>\n",
       "    <tr>\n",
       "      <th>3</th>\n",
       "      <td>Wii Sports Resort</td>\n",
       "      <td>Wii</td>\n",
       "      <td>2009.0</td>\n",
       "      <td>Sports</td>\n",
       "      <td>15.61</td>\n",
       "      <td>10.93</td>\n",
       "      <td>3.28</td>\n",
       "      <td>2.95</td>\n",
       "      <td>80.0</td>\n",
       "      <td>8</td>\n",
       "      <td>E</td>\n",
       "    </tr>\n",
       "    <tr>\n",
       "      <th>4</th>\n",
       "      <td>Pokemon Red/Pokemon Blue</td>\n",
       "      <td>GB</td>\n",
       "      <td>1996.0</td>\n",
       "      <td>Role-Playing</td>\n",
       "      <td>11.27</td>\n",
       "      <td>8.89</td>\n",
       "      <td>10.22</td>\n",
       "      <td>1.00</td>\n",
       "      <td>NaN</td>\n",
       "      <td>NaN</td>\n",
       "      <td>NaN</td>\n",
       "    </tr>\n",
       "    <tr>\n",
       "      <th>5</th>\n",
       "      <td>Tetris</td>\n",
       "      <td>GB</td>\n",
       "      <td>1989.0</td>\n",
       "      <td>Puzzle</td>\n",
       "      <td>23.20</td>\n",
       "      <td>2.26</td>\n",
       "      <td>4.22</td>\n",
       "      <td>0.58</td>\n",
       "      <td>NaN</td>\n",
       "      <td>NaN</td>\n",
       "      <td>NaN</td>\n",
       "    </tr>\n",
       "    <tr>\n",
       "      <th>6</th>\n",
       "      <td>New Super Mario Bros.</td>\n",
       "      <td>DS</td>\n",
       "      <td>2006.0</td>\n",
       "      <td>Platform</td>\n",
       "      <td>11.28</td>\n",
       "      <td>9.14</td>\n",
       "      <td>6.50</td>\n",
       "      <td>2.88</td>\n",
       "      <td>89.0</td>\n",
       "      <td>8.5</td>\n",
       "      <td>E</td>\n",
       "    </tr>\n",
       "    <tr>\n",
       "      <th>7</th>\n",
       "      <td>Wii Play</td>\n",
       "      <td>Wii</td>\n",
       "      <td>2006.0</td>\n",
       "      <td>Misc</td>\n",
       "      <td>13.96</td>\n",
       "      <td>9.18</td>\n",
       "      <td>2.93</td>\n",
       "      <td>2.84</td>\n",
       "      <td>58.0</td>\n",
       "      <td>6.6</td>\n",
       "      <td>E</td>\n",
       "    </tr>\n",
       "    <tr>\n",
       "      <th>8</th>\n",
       "      <td>New Super Mario Bros. Wii</td>\n",
       "      <td>Wii</td>\n",
       "      <td>2009.0</td>\n",
       "      <td>Platform</td>\n",
       "      <td>14.44</td>\n",
       "      <td>6.94</td>\n",
       "      <td>4.70</td>\n",
       "      <td>2.24</td>\n",
       "      <td>87.0</td>\n",
       "      <td>8.4</td>\n",
       "      <td>E</td>\n",
       "    </tr>\n",
       "    <tr>\n",
       "      <th>9</th>\n",
       "      <td>Duck Hunt</td>\n",
       "      <td>NES</td>\n",
       "      <td>1984.0</td>\n",
       "      <td>Shooter</td>\n",
       "      <td>26.93</td>\n",
       "      <td>0.63</td>\n",
       "      <td>0.28</td>\n",
       "      <td>0.47</td>\n",
       "      <td>NaN</td>\n",
       "      <td>NaN</td>\n",
       "      <td>NaN</td>\n",
       "    </tr>\n",
       "    <tr>\n",
       "      <th>10</th>\n",
       "      <td>Nintendogs</td>\n",
       "      <td>DS</td>\n",
       "      <td>2005.0</td>\n",
       "      <td>Simulation</td>\n",
       "      <td>9.05</td>\n",
       "      <td>10.95</td>\n",
       "      <td>1.93</td>\n",
       "      <td>2.74</td>\n",
       "      <td>NaN</td>\n",
       "      <td>NaN</td>\n",
       "      <td>NaN</td>\n",
       "    </tr>\n",
       "    <tr>\n",
       "      <th>11</th>\n",
       "      <td>Mario Kart DS</td>\n",
       "      <td>DS</td>\n",
       "      <td>2005.0</td>\n",
       "      <td>Racing</td>\n",
       "      <td>9.71</td>\n",
       "      <td>7.47</td>\n",
       "      <td>4.13</td>\n",
       "      <td>1.90</td>\n",
       "      <td>91.0</td>\n",
       "      <td>8.6</td>\n",
       "      <td>E</td>\n",
       "    </tr>\n",
       "    <tr>\n",
       "      <th>12</th>\n",
       "      <td>Pokemon Gold/Pokemon Silver</td>\n",
       "      <td>GB</td>\n",
       "      <td>1999.0</td>\n",
       "      <td>Role-Playing</td>\n",
       "      <td>9.00</td>\n",
       "      <td>6.18</td>\n",
       "      <td>7.20</td>\n",
       "      <td>0.71</td>\n",
       "      <td>NaN</td>\n",
       "      <td>NaN</td>\n",
       "      <td>NaN</td>\n",
       "    </tr>\n",
       "    <tr>\n",
       "      <th>13</th>\n",
       "      <td>Wii Fit</td>\n",
       "      <td>Wii</td>\n",
       "      <td>2007.0</td>\n",
       "      <td>Sports</td>\n",
       "      <td>8.92</td>\n",
       "      <td>8.03</td>\n",
       "      <td>3.60</td>\n",
       "      <td>2.15</td>\n",
       "      <td>80.0</td>\n",
       "      <td>7.7</td>\n",
       "      <td>E</td>\n",
       "    </tr>\n",
       "    <tr>\n",
       "      <th>14</th>\n",
       "      <td>Kinect Adventures!</td>\n",
       "      <td>X360</td>\n",
       "      <td>2010.0</td>\n",
       "      <td>Misc</td>\n",
       "      <td>15.00</td>\n",
       "      <td>4.89</td>\n",
       "      <td>0.24</td>\n",
       "      <td>1.69</td>\n",
       "      <td>61.0</td>\n",
       "      <td>6.3</td>\n",
       "      <td>E</td>\n",
       "    </tr>\n",
       "    <tr>\n",
       "      <th>15</th>\n",
       "      <td>Wii Fit Plus</td>\n",
       "      <td>Wii</td>\n",
       "      <td>2009.0</td>\n",
       "      <td>Sports</td>\n",
       "      <td>9.01</td>\n",
       "      <td>8.49</td>\n",
       "      <td>2.53</td>\n",
       "      <td>1.77</td>\n",
       "      <td>80.0</td>\n",
       "      <td>7.4</td>\n",
       "      <td>E</td>\n",
       "    </tr>\n",
       "    <tr>\n",
       "      <th>16</th>\n",
       "      <td>Grand Theft Auto V</td>\n",
       "      <td>PS3</td>\n",
       "      <td>2013.0</td>\n",
       "      <td>Action</td>\n",
       "      <td>7.02</td>\n",
       "      <td>9.09</td>\n",
       "      <td>0.98</td>\n",
       "      <td>3.96</td>\n",
       "      <td>97.0</td>\n",
       "      <td>8.2</td>\n",
       "      <td>M</td>\n",
       "    </tr>\n",
       "    <tr>\n",
       "      <th>17</th>\n",
       "      <td>Grand Theft Auto: San Andreas</td>\n",
       "      <td>PS2</td>\n",
       "      <td>2004.0</td>\n",
       "      <td>Action</td>\n",
       "      <td>9.43</td>\n",
       "      <td>0.40</td>\n",
       "      <td>0.41</td>\n",
       "      <td>10.57</td>\n",
       "      <td>95.0</td>\n",
       "      <td>9</td>\n",
       "      <td>M</td>\n",
       "    </tr>\n",
       "    <tr>\n",
       "      <th>18</th>\n",
       "      <td>Super Mario World</td>\n",
       "      <td>SNES</td>\n",
       "      <td>1990.0</td>\n",
       "      <td>Platform</td>\n",
       "      <td>12.78</td>\n",
       "      <td>3.75</td>\n",
       "      <td>3.54</td>\n",
       "      <td>0.55</td>\n",
       "      <td>NaN</td>\n",
       "      <td>NaN</td>\n",
       "      <td>NaN</td>\n",
       "    </tr>\n",
       "    <tr>\n",
       "      <th>19</th>\n",
       "      <td>Brain Age: Train Your Brain in Minutes a Day</td>\n",
       "      <td>DS</td>\n",
       "      <td>2005.0</td>\n",
       "      <td>Misc</td>\n",
       "      <td>4.74</td>\n",
       "      <td>9.20</td>\n",
       "      <td>4.16</td>\n",
       "      <td>2.04</td>\n",
       "      <td>77.0</td>\n",
       "      <td>7.9</td>\n",
       "      <td>E</td>\n",
       "    </tr>\n",
       "  </tbody>\n",
       "</table>\n",
       "</div>"
      ],
      "text/plain": [
       "                                            Name Platform  Year_of_Release  \\\n",
       "0                                     Wii Sports      Wii           2006.0   \n",
       "1                              Super Mario Bros.      NES           1985.0   \n",
       "2                                 Mario Kart Wii      Wii           2008.0   \n",
       "3                              Wii Sports Resort      Wii           2009.0   \n",
       "4                       Pokemon Red/Pokemon Blue       GB           1996.0   \n",
       "5                                         Tetris       GB           1989.0   \n",
       "6                          New Super Mario Bros.       DS           2006.0   \n",
       "7                                       Wii Play      Wii           2006.0   \n",
       "8                      New Super Mario Bros. Wii      Wii           2009.0   \n",
       "9                                      Duck Hunt      NES           1984.0   \n",
       "10                                    Nintendogs       DS           2005.0   \n",
       "11                                 Mario Kart DS       DS           2005.0   \n",
       "12                   Pokemon Gold/Pokemon Silver       GB           1999.0   \n",
       "13                                       Wii Fit      Wii           2007.0   \n",
       "14                            Kinect Adventures!     X360           2010.0   \n",
       "15                                  Wii Fit Plus      Wii           2009.0   \n",
       "16                            Grand Theft Auto V      PS3           2013.0   \n",
       "17                 Grand Theft Auto: San Andreas      PS2           2004.0   \n",
       "18                             Super Mario World     SNES           1990.0   \n",
       "19  Brain Age: Train Your Brain in Minutes a Day       DS           2005.0   \n",
       "\n",
       "           Genre  NA_sales  EU_sales  JP_sales  Other_sales  Critic_Score  \\\n",
       "0         Sports     41.36     28.96      3.77         8.45          76.0   \n",
       "1       Platform     29.08      3.58      6.81         0.77           NaN   \n",
       "2         Racing     15.68     12.76      3.79         3.29          82.0   \n",
       "3         Sports     15.61     10.93      3.28         2.95          80.0   \n",
       "4   Role-Playing     11.27      8.89     10.22         1.00           NaN   \n",
       "5         Puzzle     23.20      2.26      4.22         0.58           NaN   \n",
       "6       Platform     11.28      9.14      6.50         2.88          89.0   \n",
       "7           Misc     13.96      9.18      2.93         2.84          58.0   \n",
       "8       Platform     14.44      6.94      4.70         2.24          87.0   \n",
       "9        Shooter     26.93      0.63      0.28         0.47           NaN   \n",
       "10    Simulation      9.05     10.95      1.93         2.74           NaN   \n",
       "11        Racing      9.71      7.47      4.13         1.90          91.0   \n",
       "12  Role-Playing      9.00      6.18      7.20         0.71           NaN   \n",
       "13        Sports      8.92      8.03      3.60         2.15          80.0   \n",
       "14          Misc     15.00      4.89      0.24         1.69          61.0   \n",
       "15        Sports      9.01      8.49      2.53         1.77          80.0   \n",
       "16        Action      7.02      9.09      0.98         3.96          97.0   \n",
       "17        Action      9.43      0.40      0.41        10.57          95.0   \n",
       "18      Platform     12.78      3.75      3.54         0.55           NaN   \n",
       "19          Misc      4.74      9.20      4.16         2.04          77.0   \n",
       "\n",
       "   User_Score Rating  \n",
       "0           8      E  \n",
       "1         NaN    NaN  \n",
       "2         8.3      E  \n",
       "3           8      E  \n",
       "4         NaN    NaN  \n",
       "5         NaN    NaN  \n",
       "6         8.5      E  \n",
       "7         6.6      E  \n",
       "8         8.4      E  \n",
       "9         NaN    NaN  \n",
       "10        NaN    NaN  \n",
       "11        8.6      E  \n",
       "12        NaN    NaN  \n",
       "13        7.7      E  \n",
       "14        6.3      E  \n",
       "15        7.4      E  \n",
       "16        8.2      M  \n",
       "17          9      M  \n",
       "18        NaN    NaN  \n",
       "19        7.9      E  "
      ]
     },
     "execution_count": 3,
     "metadata": {},
     "output_type": "execute_result"
    }
   ],
   "source": [
    "data.head(20)"
   ]
  },
  {
   "cell_type": "code",
   "execution_count": 4,
   "metadata": {},
   "outputs": [
    {
     "name": "stdout",
     "output_type": "stream",
     "text": [
      "<class 'pandas.core.frame.DataFrame'>\n",
      "RangeIndex: 16715 entries, 0 to 16714\n",
      "Data columns (total 11 columns):\n",
      " #   Column           Non-Null Count  Dtype  \n",
      "---  ------           --------------  -----  \n",
      " 0   Name             16713 non-null  object \n",
      " 1   Platform         16715 non-null  object \n",
      " 2   Year_of_Release  16446 non-null  float64\n",
      " 3   Genre            16713 non-null  object \n",
      " 4   NA_sales         16715 non-null  float64\n",
      " 5   EU_sales         16715 non-null  float64\n",
      " 6   JP_sales         16715 non-null  float64\n",
      " 7   Other_sales      16715 non-null  float64\n",
      " 8   Critic_Score     8137 non-null   float64\n",
      " 9   User_Score       10014 non-null  object \n",
      " 10  Rating           9949 non-null   object \n",
      "dtypes: float64(6), object(5)\n",
      "memory usage: 1.4+ MB\n"
     ]
    }
   ],
   "source": [
    "data.info()"
   ]
  },
  {
   "cell_type": "code",
   "execution_count": 5,
   "metadata": {},
   "outputs": [
    {
     "data": {
      "text/html": [
       "<div>\n",
       "<style scoped>\n",
       "    .dataframe tbody tr th:only-of-type {\n",
       "        vertical-align: middle;\n",
       "    }\n",
       "\n",
       "    .dataframe tbody tr th {\n",
       "        vertical-align: top;\n",
       "    }\n",
       "\n",
       "    .dataframe thead th {\n",
       "        text-align: right;\n",
       "    }\n",
       "</style>\n",
       "<table border=\"1\" class=\"dataframe\">\n",
       "  <thead>\n",
       "    <tr style=\"text-align: right;\">\n",
       "      <th></th>\n",
       "      <th>Year_of_Release</th>\n",
       "      <th>NA_sales</th>\n",
       "      <th>EU_sales</th>\n",
       "      <th>JP_sales</th>\n",
       "      <th>Other_sales</th>\n",
       "      <th>Critic_Score</th>\n",
       "    </tr>\n",
       "  </thead>\n",
       "  <tbody>\n",
       "    <tr>\n",
       "      <th>count</th>\n",
       "      <td>16446.000000</td>\n",
       "      <td>16715.000000</td>\n",
       "      <td>16715.000000</td>\n",
       "      <td>16715.000000</td>\n",
       "      <td>16715.000000</td>\n",
       "      <td>8137.000000</td>\n",
       "    </tr>\n",
       "    <tr>\n",
       "      <th>mean</th>\n",
       "      <td>2006.484616</td>\n",
       "      <td>0.263377</td>\n",
       "      <td>0.145060</td>\n",
       "      <td>0.077617</td>\n",
       "      <td>0.047342</td>\n",
       "      <td>68.967679</td>\n",
       "    </tr>\n",
       "    <tr>\n",
       "      <th>std</th>\n",
       "      <td>5.877050</td>\n",
       "      <td>0.813604</td>\n",
       "      <td>0.503339</td>\n",
       "      <td>0.308853</td>\n",
       "      <td>0.186731</td>\n",
       "      <td>13.938165</td>\n",
       "    </tr>\n",
       "    <tr>\n",
       "      <th>min</th>\n",
       "      <td>1980.000000</td>\n",
       "      <td>0.000000</td>\n",
       "      <td>0.000000</td>\n",
       "      <td>0.000000</td>\n",
       "      <td>0.000000</td>\n",
       "      <td>13.000000</td>\n",
       "    </tr>\n",
       "    <tr>\n",
       "      <th>25%</th>\n",
       "      <td>2003.000000</td>\n",
       "      <td>0.000000</td>\n",
       "      <td>0.000000</td>\n",
       "      <td>0.000000</td>\n",
       "      <td>0.000000</td>\n",
       "      <td>60.000000</td>\n",
       "    </tr>\n",
       "    <tr>\n",
       "      <th>50%</th>\n",
       "      <td>2007.000000</td>\n",
       "      <td>0.080000</td>\n",
       "      <td>0.020000</td>\n",
       "      <td>0.000000</td>\n",
       "      <td>0.010000</td>\n",
       "      <td>71.000000</td>\n",
       "    </tr>\n",
       "    <tr>\n",
       "      <th>75%</th>\n",
       "      <td>2010.000000</td>\n",
       "      <td>0.240000</td>\n",
       "      <td>0.110000</td>\n",
       "      <td>0.040000</td>\n",
       "      <td>0.030000</td>\n",
       "      <td>79.000000</td>\n",
       "    </tr>\n",
       "    <tr>\n",
       "      <th>max</th>\n",
       "      <td>2016.000000</td>\n",
       "      <td>41.360000</td>\n",
       "      <td>28.960000</td>\n",
       "      <td>10.220000</td>\n",
       "      <td>10.570000</td>\n",
       "      <td>98.000000</td>\n",
       "    </tr>\n",
       "  </tbody>\n",
       "</table>\n",
       "</div>"
      ],
      "text/plain": [
       "       Year_of_Release      NA_sales      EU_sales      JP_sales  \\\n",
       "count     16446.000000  16715.000000  16715.000000  16715.000000   \n",
       "mean       2006.484616      0.263377      0.145060      0.077617   \n",
       "std           5.877050      0.813604      0.503339      0.308853   \n",
       "min        1980.000000      0.000000      0.000000      0.000000   \n",
       "25%        2003.000000      0.000000      0.000000      0.000000   \n",
       "50%        2007.000000      0.080000      0.020000      0.000000   \n",
       "75%        2010.000000      0.240000      0.110000      0.040000   \n",
       "max        2016.000000     41.360000     28.960000     10.220000   \n",
       "\n",
       "        Other_sales  Critic_Score  \n",
       "count  16715.000000   8137.000000  \n",
       "mean       0.047342     68.967679  \n",
       "std        0.186731     13.938165  \n",
       "min        0.000000     13.000000  \n",
       "25%        0.000000     60.000000  \n",
       "50%        0.010000     71.000000  \n",
       "75%        0.030000     79.000000  \n",
       "max       10.570000     98.000000  "
      ]
     },
     "execution_count": 5,
     "metadata": {},
     "output_type": "execute_result"
    }
   ],
   "source": [
    "data.describe()"
   ]
  },
  {
   "cell_type": "markdown",
   "metadata": {},
   "source": [
    "### Для наглядности исходных данных выведем гистограммы столбцов датафрейма."
   ]
  },
  {
   "cell_type": "code",
   "execution_count": 6,
   "metadata": {},
   "outputs": [
    {
     "data": {
      "text/plain": [
       "array([[<AxesSubplot:title={'center':'Year_of_Release'}>,\n",
       "        <AxesSubplot:title={'center':'NA_sales'}>],\n",
       "       [<AxesSubplot:title={'center':'EU_sales'}>,\n",
       "        <AxesSubplot:title={'center':'JP_sales'}>],\n",
       "       [<AxesSubplot:title={'center':'Other_sales'}>,\n",
       "        <AxesSubplot:title={'center':'Critic_Score'}>]], dtype=object)"
      ]
     },
     "execution_count": 6,
     "metadata": {},
     "output_type": "execute_result"
    },
    {
     "data": {
      "image/png": "[encoded data removed]",
      "text/plain": [
       "<Figure size 1080x1080 with 6 Axes>"
      ]
     },
     "metadata": {
      "needs_background": "light"
     },
     "output_type": "display_data"
    }
   ],
   "source": [
    "data.hist(figsize=(15, 15))"
   ]
  },
  {
   "cell_type": "markdown",
   "metadata": {},
   "source": [
    "Гистограммы исходных (не предобработанных) значений указывают на наличие пропусков, неточностей и выбросов (случайных значений).\n",
    "Потребуется провести предобработку данных."
   ]
  },
  {
   "cell_type": "markdown",
   "metadata": {},
   "source": [
    "P.S. Так как перед нами стоит задача аналитического типа, нецелесообразно избавляться от пропусков и выбросов любой ценой (ценой сильного искажения данных). В любом случае, далее мы будем по-возможности использовать методы, устойчивые к подобным аномалиям."
   ]
  },
  {
   "cell_type": "markdown",
   "metadata": {},
   "source": [
    "##  Предобработка данных"
   ]
  },
  {
   "cell_type": "markdown",
   "metadata": {},
   "source": [
    "### Начнем предобратотку данных с корректировки названий столбцов согласно \"правилам хорошего тона\". \n",
    "Понадобится всего-лишь заменить заглавные быквы строчными, выполним это одной строкой."
   ]
  },
  {
   "cell_type": "code",
   "execution_count": 7,
   "metadata": {},
   "outputs": [
    {
     "data": {
      "text/plain": [
       "Index(['Name', 'Platform', 'Year_of_Release', 'Genre', 'NA_sales', 'EU_sales',\n",
       "       'JP_sales', 'Other_sales', 'Critic_Score', 'User_Score', 'Rating'],\n",
       "      dtype='object')"
      ]
     },
     "execution_count": 7,
     "metadata": {},
     "output_type": "execute_result"
    }
   ],
   "source": [
    "data.columns.unique()"
   ]
  },
  {
   "cell_type": "code",
   "execution_count": 8,
   "metadata": {},
   "outputs": [],
   "source": [
    "data.columns = data.columns.str.lower()"
   ]
  },
  {
   "cell_type": "markdown",
   "metadata": {},
   "source": [
    "### Проверяем новые названия столбцов."
   ]
  },
  {
   "cell_type": "code",
   "execution_count": 9,
   "metadata": {},
   "outputs": [
    {
     "data": {
      "text/plain": [
       "Index(['name', 'platform', 'year_of_release', 'genre', 'na_sales', 'eu_sales',\n",
       "       'jp_sales', 'other_sales', 'critic_score', 'user_score', 'rating'],\n",
       "      dtype='object')"
      ]
     },
     "execution_count": 9,
     "metadata": {},
     "output_type": "execute_result"
    }
   ],
   "source": [
    "data.columns.unique()"
   ]
  },
  {
   "cell_type": "markdown",
   "metadata": {},
   "source": [
    "### Приводим столбцы, содержащие названия к нижнему регистру. \n",
    "Так как у нас всего 4 столбца содержат названия, приведем их поочередно, используя встроенный метод Pandas для экономии времени вычислений."
   ]
  },
  {
   "cell_type": "code",
   "execution_count": 10,
   "metadata": {},
   "outputs": [],
   "source": [
    "data['name'] = data['name'].str.lower()\n",
    "data['genre'] = data['genre'].str.lower()\n",
    "data['platform'] = data['platform'].str.lower()\n",
    "data['rating'] = data['rating'].str.lower()"
   ]
  },
  {
   "cell_type": "markdown",
   "metadata": {},
   "source": [
    "### Теперь, когда все приведено к нижнему регистру, можем избавиться от полных дубликатов."
   ]
  },
  {
   "cell_type": "code",
   "execution_count": 11,
   "metadata": {},
   "outputs": [
    {
     "data": {
      "text/plain": [
       "0"
      ]
     },
     "execution_count": 11,
     "metadata": {},
     "output_type": "execute_result"
    }
   ],
   "source": [
    "data.duplicated().sum()"
   ]
  },
  {
   "cell_type": "markdown",
   "metadata": {},
   "source": [
    "Полных дубликатов не обнаружено, следуем дальше."
   ]
  },
  {
   "cell_type": "markdown",
   "metadata": {},
   "source": [
    "### Для выполнения дальнейших вычислений требуется привести столбцы датафрейма к нужным форматам согласно их значениям. \n",
    "Это поможет сэкономить память, ускорить вычисления и сделать их точнее."
   ]
  },
  {
   "cell_type": "markdown",
   "metadata": {},
   "source": [
    "Далее, для избежания нагромождения ненужного кода были приведены только операции над конкретными столбцами. \\\n",
    "При этом все столбцы были проверены на уникальные значения, аномалий не было обнаружено. (код проверок не отображен за неимением смысла и лишнего нагромождения)."
   ]
  },
  {
   "cell_type": "code",
   "execution_count": 12,
   "metadata": {},
   "outputs": [],
   "source": [
    "data['year_of_release'] = data['year_of_release'].astype('Int64')"
   ]
  },
  {
   "cell_type": "markdown",
   "metadata": {},
   "source": [
    "Столбец **critic_score** Приводим в целочисленный формат, так как его значения фактически не содержат дробной части."
   ]
  },
  {
   "cell_type": "code",
   "execution_count": 13,
   "metadata": {},
   "outputs": [],
   "source": [
    "data['critic_score'] = data['critic_score'].astype('Int64')"
   ]
  },
  {
   "cell_type": "markdown",
   "metadata": {},
   "source": [
    "Столбец **user_score** умножим на 10 для удобста возможного сравнения со столбцом **critic_score**, заблаговременно переведя его в формат float. \\\n",
    "P.S. Наблюдаем большое кол-во неизвестного значения \"tbd\", заменим его на пропуск, так как оно может помешать при дальнейших вычислениях."
   ]
  },
  {
   "cell_type": "code",
   "execution_count": 14,
   "metadata": {},
   "outputs": [
    {
     "data": {
      "text/plain": [
       "2424"
      ]
     },
     "execution_count": 14,
     "metadata": {},
     "output_type": "execute_result"
    }
   ],
   "source": [
    "data[data['user_score'] == 'tbd']['user_score'].count()"
   ]
  },
  {
   "cell_type": "code",
   "execution_count": 15,
   "metadata": {},
   "outputs": [],
   "source": [
    "data.loc[data['user_score'] == 'tbd','user_score'] = np.nan\n",
    "data['user_score'] = data['user_score'].astype('float')\n",
    "data['user_score'] = data['user_score'] * 10\n",
    "data['user_score'] = data['user_score'].astype('Int64')"
   ]
  },
  {
   "cell_type": "markdown",
   "metadata": {},
   "source": [
    "### Переходим к заполнению пропусков.\n",
    "В разных регионах присвоением рейтинга занимаются разные агенства, например: ESRB, PEGI, SARO.\\\n",
    "В связи с чем, если игра не выходила на северо-американский рынок, то рейтинг у нее в данном дата-сете отсутсвует.\\\n",
    "Предлагается заменить пропуски в рейтинге на 'out of rating', в оценках на '-1'.\\\n",
    "Значения '-1' было выбрано таковым, что б соответствовать формату столбца и наоборот, а также не оказывать слишком большого влияния на вычисления."
   ]
  },
  {
   "cell_type": "code",
   "execution_count": 16,
   "metadata": {},
   "outputs": [],
   "source": [
    "data['user_score'] = data['user_score'].fillna(-1)\n",
    "data['critic_score'] = data['critic_score'].fillna(-1)\n",
    "data['rating'] = data['rating'].fillna('out of rating')"
   ]
  },
  {
   "cell_type": "markdown",
   "metadata": {},
   "source": [
    "Удалим пропуски в столбцах **name** и **genre**.\\\n",
    "Так как пропусков в этих столбцах всего по 2 шт, мы ,практически, не потеряем с точки зрения выборки."
   ]
  },
  {
   "cell_type": "code",
   "execution_count": 17,
   "metadata": {},
   "outputs": [],
   "source": [
    "data = data.dropna(subset=['name', 'genre']).reset_index(drop=True)"
   ]
  },
  {
   "cell_type": "markdown",
   "metadata": {},
   "source": [
    "### Проверяем выполнение предыдущих шагов."
   ]
  },
  {
   "cell_type": "code",
   "execution_count": 18,
   "metadata": {},
   "outputs": [
    {
     "name": "stdout",
     "output_type": "stream",
     "text": [
      "<class 'pandas.core.frame.DataFrame'>\n",
      "RangeIndex: 16713 entries, 0 to 16712\n",
      "Data columns (total 11 columns):\n",
      " #   Column           Non-Null Count  Dtype  \n",
      "---  ------           --------------  -----  \n",
      " 0   name             16713 non-null  object \n",
      " 1   platform         16713 non-null  object \n",
      " 2   year_of_release  16444 non-null  Int64  \n",
      " 3   genre            16713 non-null  object \n",
      " 4   na_sales         16713 non-null  float64\n",
      " 5   eu_sales         16713 non-null  float64\n",
      " 6   jp_sales         16713 non-null  float64\n",
      " 7   other_sales      16713 non-null  float64\n",
      " 8   critic_score     16713 non-null  Int64  \n",
      " 9   user_score       16713 non-null  Int64  \n",
      " 10  rating           16713 non-null  object \n",
      "dtypes: Int64(3), float64(4), object(4)\n",
      "memory usage: 1.5+ MB\n"
     ]
    }
   ],
   "source": [
    "data.info()"
   ]
  },
  {
   "cell_type": "markdown",
   "metadata": {},
   "source": [
    "### Посчитаем суммарные продажи и запишем их в отдельный столбец."
   ]
  },
  {
   "cell_type": "code",
   "execution_count": 19,
   "metadata": {},
   "outputs": [],
   "source": [
    "data['total_sales'] = data['na_sales'] + data['eu_sales'] + data['jp_sales'] + data['other_sales']"
   ]
  },
  {
   "cell_type": "code",
   "execution_count": 20,
   "metadata": {
    "scrolled": true
   },
   "outputs": [
    {
     "data": {
      "text/html": [
       "<div>\n",
       "<style scoped>\n",
       "    .dataframe tbody tr th:only-of-type {\n",
       "        vertical-align: middle;\n",
       "    }\n",
       "\n",
       "    .dataframe tbody tr th {\n",
       "        vertical-align: top;\n",
       "    }\n",
       "\n",
       "    .dataframe thead th {\n",
       "        text-align: right;\n",
       "    }\n",
       "</style>\n",
       "<table border=\"1\" class=\"dataframe\">\n",
       "  <thead>\n",
       "    <tr style=\"text-align: right;\">\n",
       "      <th></th>\n",
       "      <th>name</th>\n",
       "      <th>platform</th>\n",
       "      <th>year_of_release</th>\n",
       "      <th>genre</th>\n",
       "      <th>na_sales</th>\n",
       "      <th>eu_sales</th>\n",
       "      <th>jp_sales</th>\n",
       "      <th>other_sales</th>\n",
       "      <th>critic_score</th>\n",
       "      <th>user_score</th>\n",
       "      <th>rating</th>\n",
       "      <th>total_sales</th>\n",
       "    </tr>\n",
       "  </thead>\n",
       "  <tbody>\n",
       "    <tr>\n",
       "      <th>0</th>\n",
       "      <td>wii sports</td>\n",
       "      <td>wii</td>\n",
       "      <td>2006</td>\n",
       "      <td>sports</td>\n",
       "      <td>41.36</td>\n",
       "      <td>28.96</td>\n",
       "      <td>3.77</td>\n",
       "      <td>8.45</td>\n",
       "      <td>76</td>\n",
       "      <td>80</td>\n",
       "      <td>e</td>\n",
       "      <td>82.54</td>\n",
       "    </tr>\n",
       "    <tr>\n",
       "      <th>1</th>\n",
       "      <td>super mario bros.</td>\n",
       "      <td>nes</td>\n",
       "      <td>1985</td>\n",
       "      <td>platform</td>\n",
       "      <td>29.08</td>\n",
       "      <td>3.58</td>\n",
       "      <td>6.81</td>\n",
       "      <td>0.77</td>\n",
       "      <td>-1</td>\n",
       "      <td>-1</td>\n",
       "      <td>out of rating</td>\n",
       "      <td>40.24</td>\n",
       "    </tr>\n",
       "    <tr>\n",
       "      <th>2</th>\n",
       "      <td>mario kart wii</td>\n",
       "      <td>wii</td>\n",
       "      <td>2008</td>\n",
       "      <td>racing</td>\n",
       "      <td>15.68</td>\n",
       "      <td>12.76</td>\n",
       "      <td>3.79</td>\n",
       "      <td>3.29</td>\n",
       "      <td>82</td>\n",
       "      <td>83</td>\n",
       "      <td>e</td>\n",
       "      <td>35.52</td>\n",
       "    </tr>\n",
       "    <tr>\n",
       "      <th>3</th>\n",
       "      <td>wii sports resort</td>\n",
       "      <td>wii</td>\n",
       "      <td>2009</td>\n",
       "      <td>sports</td>\n",
       "      <td>15.61</td>\n",
       "      <td>10.93</td>\n",
       "      <td>3.28</td>\n",
       "      <td>2.95</td>\n",
       "      <td>80</td>\n",
       "      <td>80</td>\n",
       "      <td>e</td>\n",
       "      <td>32.77</td>\n",
       "    </tr>\n",
       "    <tr>\n",
       "      <th>4</th>\n",
       "      <td>pokemon red/pokemon blue</td>\n",
       "      <td>gb</td>\n",
       "      <td>1996</td>\n",
       "      <td>role-playing</td>\n",
       "      <td>11.27</td>\n",
       "      <td>8.89</td>\n",
       "      <td>10.22</td>\n",
       "      <td>1.00</td>\n",
       "      <td>-1</td>\n",
       "      <td>-1</td>\n",
       "      <td>out of rating</td>\n",
       "      <td>31.38</td>\n",
       "    </tr>\n",
       "    <tr>\n",
       "      <th>5</th>\n",
       "      <td>tetris</td>\n",
       "      <td>gb</td>\n",
       "      <td>1989</td>\n",
       "      <td>puzzle</td>\n",
       "      <td>23.20</td>\n",
       "      <td>2.26</td>\n",
       "      <td>4.22</td>\n",
       "      <td>0.58</td>\n",
       "      <td>-1</td>\n",
       "      <td>-1</td>\n",
       "      <td>out of rating</td>\n",
       "      <td>30.26</td>\n",
       "    </tr>\n",
       "    <tr>\n",
       "      <th>6</th>\n",
       "      <td>new super mario bros.</td>\n",
       "      <td>ds</td>\n",
       "      <td>2006</td>\n",
       "      <td>platform</td>\n",
       "      <td>11.28</td>\n",
       "      <td>9.14</td>\n",
       "      <td>6.50</td>\n",
       "      <td>2.88</td>\n",
       "      <td>89</td>\n",
       "      <td>85</td>\n",
       "      <td>e</td>\n",
       "      <td>29.80</td>\n",
       "    </tr>\n",
       "    <tr>\n",
       "      <th>7</th>\n",
       "      <td>wii play</td>\n",
       "      <td>wii</td>\n",
       "      <td>2006</td>\n",
       "      <td>misc</td>\n",
       "      <td>13.96</td>\n",
       "      <td>9.18</td>\n",
       "      <td>2.93</td>\n",
       "      <td>2.84</td>\n",
       "      <td>58</td>\n",
       "      <td>66</td>\n",
       "      <td>e</td>\n",
       "      <td>28.91</td>\n",
       "    </tr>\n",
       "    <tr>\n",
       "      <th>8</th>\n",
       "      <td>new super mario bros. wii</td>\n",
       "      <td>wii</td>\n",
       "      <td>2009</td>\n",
       "      <td>platform</td>\n",
       "      <td>14.44</td>\n",
       "      <td>6.94</td>\n",
       "      <td>4.70</td>\n",
       "      <td>2.24</td>\n",
       "      <td>87</td>\n",
       "      <td>84</td>\n",
       "      <td>e</td>\n",
       "      <td>28.32</td>\n",
       "    </tr>\n",
       "    <tr>\n",
       "      <th>9</th>\n",
       "      <td>duck hunt</td>\n",
       "      <td>nes</td>\n",
       "      <td>1984</td>\n",
       "      <td>shooter</td>\n",
       "      <td>26.93</td>\n",
       "      <td>0.63</td>\n",
       "      <td>0.28</td>\n",
       "      <td>0.47</td>\n",
       "      <td>-1</td>\n",
       "      <td>-1</td>\n",
       "      <td>out of rating</td>\n",
       "      <td>28.31</td>\n",
       "    </tr>\n",
       "    <tr>\n",
       "      <th>10</th>\n",
       "      <td>nintendogs</td>\n",
       "      <td>ds</td>\n",
       "      <td>2005</td>\n",
       "      <td>simulation</td>\n",
       "      <td>9.05</td>\n",
       "      <td>10.95</td>\n",
       "      <td>1.93</td>\n",
       "      <td>2.74</td>\n",
       "      <td>-1</td>\n",
       "      <td>-1</td>\n",
       "      <td>out of rating</td>\n",
       "      <td>24.67</td>\n",
       "    </tr>\n",
       "    <tr>\n",
       "      <th>11</th>\n",
       "      <td>mario kart ds</td>\n",
       "      <td>ds</td>\n",
       "      <td>2005</td>\n",
       "      <td>racing</td>\n",
       "      <td>9.71</td>\n",
       "      <td>7.47</td>\n",
       "      <td>4.13</td>\n",
       "      <td>1.90</td>\n",
       "      <td>91</td>\n",
       "      <td>86</td>\n",
       "      <td>e</td>\n",
       "      <td>23.21</td>\n",
       "    </tr>\n",
       "    <tr>\n",
       "      <th>12</th>\n",
       "      <td>pokemon gold/pokemon silver</td>\n",
       "      <td>gb</td>\n",
       "      <td>1999</td>\n",
       "      <td>role-playing</td>\n",
       "      <td>9.00</td>\n",
       "      <td>6.18</td>\n",
       "      <td>7.20</td>\n",
       "      <td>0.71</td>\n",
       "      <td>-1</td>\n",
       "      <td>-1</td>\n",
       "      <td>out of rating</td>\n",
       "      <td>23.09</td>\n",
       "    </tr>\n",
       "    <tr>\n",
       "      <th>13</th>\n",
       "      <td>wii fit</td>\n",
       "      <td>wii</td>\n",
       "      <td>2007</td>\n",
       "      <td>sports</td>\n",
       "      <td>8.92</td>\n",
       "      <td>8.03</td>\n",
       "      <td>3.60</td>\n",
       "      <td>2.15</td>\n",
       "      <td>80</td>\n",
       "      <td>77</td>\n",
       "      <td>e</td>\n",
       "      <td>22.70</td>\n",
       "    </tr>\n",
       "    <tr>\n",
       "      <th>14</th>\n",
       "      <td>kinect adventures!</td>\n",
       "      <td>x360</td>\n",
       "      <td>2010</td>\n",
       "      <td>misc</td>\n",
       "      <td>15.00</td>\n",
       "      <td>4.89</td>\n",
       "      <td>0.24</td>\n",
       "      <td>1.69</td>\n",
       "      <td>61</td>\n",
       "      <td>63</td>\n",
       "      <td>e</td>\n",
       "      <td>21.82</td>\n",
       "    </tr>\n",
       "    <tr>\n",
       "      <th>15</th>\n",
       "      <td>wii fit plus</td>\n",
       "      <td>wii</td>\n",
       "      <td>2009</td>\n",
       "      <td>sports</td>\n",
       "      <td>9.01</td>\n",
       "      <td>8.49</td>\n",
       "      <td>2.53</td>\n",
       "      <td>1.77</td>\n",
       "      <td>80</td>\n",
       "      <td>74</td>\n",
       "      <td>e</td>\n",
       "      <td>21.80</td>\n",
       "    </tr>\n",
       "    <tr>\n",
       "      <th>16</th>\n",
       "      <td>grand theft auto v</td>\n",
       "      <td>ps3</td>\n",
       "      <td>2013</td>\n",
       "      <td>action</td>\n",
       "      <td>7.02</td>\n",
       "      <td>9.09</td>\n",
       "      <td>0.98</td>\n",
       "      <td>3.96</td>\n",
       "      <td>97</td>\n",
       "      <td>82</td>\n",
       "      <td>m</td>\n",
       "      <td>21.05</td>\n",
       "    </tr>\n",
       "    <tr>\n",
       "      <th>17</th>\n",
       "      <td>grand theft auto: san andreas</td>\n",
       "      <td>ps2</td>\n",
       "      <td>2004</td>\n",
       "      <td>action</td>\n",
       "      <td>9.43</td>\n",
       "      <td>0.40</td>\n",
       "      <td>0.41</td>\n",
       "      <td>10.57</td>\n",
       "      <td>95</td>\n",
       "      <td>90</td>\n",
       "      <td>m</td>\n",
       "      <td>20.81</td>\n",
       "    </tr>\n",
       "    <tr>\n",
       "      <th>18</th>\n",
       "      <td>super mario world</td>\n",
       "      <td>snes</td>\n",
       "      <td>1990</td>\n",
       "      <td>platform</td>\n",
       "      <td>12.78</td>\n",
       "      <td>3.75</td>\n",
       "      <td>3.54</td>\n",
       "      <td>0.55</td>\n",
       "      <td>-1</td>\n",
       "      <td>-1</td>\n",
       "      <td>out of rating</td>\n",
       "      <td>20.62</td>\n",
       "    </tr>\n",
       "    <tr>\n",
       "      <th>19</th>\n",
       "      <td>brain age: train your brain in minutes a day</td>\n",
       "      <td>ds</td>\n",
       "      <td>2005</td>\n",
       "      <td>misc</td>\n",
       "      <td>4.74</td>\n",
       "      <td>9.20</td>\n",
       "      <td>4.16</td>\n",
       "      <td>2.04</td>\n",
       "      <td>77</td>\n",
       "      <td>79</td>\n",
       "      <td>e</td>\n",
       "      <td>20.14</td>\n",
       "    </tr>\n",
       "  </tbody>\n",
       "</table>\n",
       "</div>"
      ],
      "text/plain": [
       "                                            name platform  year_of_release  \\\n",
       "0                                     wii sports      wii             2006   \n",
       "1                              super mario bros.      nes             1985   \n",
       "2                                 mario kart wii      wii             2008   \n",
       "3                              wii sports resort      wii             2009   \n",
       "4                       pokemon red/pokemon blue       gb             1996   \n",
       "5                                         tetris       gb             1989   \n",
       "6                          new super mario bros.       ds             2006   \n",
       "7                                       wii play      wii             2006   \n",
       "8                      new super mario bros. wii      wii             2009   \n",
       "9                                      duck hunt      nes             1984   \n",
       "10                                    nintendogs       ds             2005   \n",
       "11                                 mario kart ds       ds             2005   \n",
       "12                   pokemon gold/pokemon silver       gb             1999   \n",
       "13                                       wii fit      wii             2007   \n",
       "14                            kinect adventures!     x360             2010   \n",
       "15                                  wii fit plus      wii             2009   \n",
       "16                            grand theft auto v      ps3             2013   \n",
       "17                 grand theft auto: san andreas      ps2             2004   \n",
       "18                             super mario world     snes             1990   \n",
       "19  brain age: train your brain in minutes a day       ds             2005   \n",
       "\n",
       "           genre  na_sales  eu_sales  jp_sales  other_sales  critic_score  \\\n",
       "0         sports     41.36     28.96      3.77         8.45            76   \n",
       "1       platform     29.08      3.58      6.81         0.77            -1   \n",
       "2         racing     15.68     12.76      3.79         3.29            82   \n",
       "3         sports     15.61     10.93      3.28         2.95            80   \n",
       "4   role-playing     11.27      8.89     10.22         1.00            -1   \n",
       "5         puzzle     23.20      2.26      4.22         0.58            -1   \n",
       "6       platform     11.28      9.14      6.50         2.88            89   \n",
       "7           misc     13.96      9.18      2.93         2.84            58   \n",
       "8       platform     14.44      6.94      4.70         2.24            87   \n",
       "9        shooter     26.93      0.63      0.28         0.47            -1   \n",
       "10    simulation      9.05     10.95      1.93         2.74            -1   \n",
       "11        racing      9.71      7.47      4.13         1.90            91   \n",
       "12  role-playing      9.00      6.18      7.20         0.71            -1   \n",
       "13        sports      8.92      8.03      3.60         2.15            80   \n",
       "14          misc     15.00      4.89      0.24         1.69            61   \n",
       "15        sports      9.01      8.49      2.53         1.77            80   \n",
       "16        action      7.02      9.09      0.98         3.96            97   \n",
       "17        action      9.43      0.40      0.41        10.57            95   \n",
       "18      platform     12.78      3.75      3.54         0.55            -1   \n",
       "19          misc      4.74      9.20      4.16         2.04            77   \n",
       "\n",
       "    user_score         rating  total_sales  \n",
       "0           80              e        82.54  \n",
       "1           -1  out of rating        40.24  \n",
       "2           83              e        35.52  \n",
       "3           80              e        32.77  \n",
       "4           -1  out of rating        31.38  \n",
       "5           -1  out of rating        30.26  \n",
       "6           85              e        29.80  \n",
       "7           66              e        28.91  \n",
       "8           84              e        28.32  \n",
       "9           -1  out of rating        28.31  \n",
       "10          -1  out of rating        24.67  \n",
       "11          86              e        23.21  \n",
       "12          -1  out of rating        23.09  \n",
       "13          77              e        22.70  \n",
       "14          63              e        21.82  \n",
       "15          74              e        21.80  \n",
       "16          82              m        21.05  \n",
       "17          90              m        20.81  \n",
       "18          -1  out of rating        20.62  \n",
       "19          79              e        20.14  "
      ]
     },
     "execution_count": 20,
     "metadata": {},
     "output_type": "execute_result"
    }
   ],
   "source": [
    "data.head(20)"
   ]
  },
  {
   "cell_type": "markdown",
   "metadata": {},
   "source": [
    "### Итак, мы провели необходимую предобработку данных.\n",
    "- Привели названия столбцов к \"правилам хорошего тона\".\n",
    "- Проверили дата-сет на дубликаты.\n",
    "- Изменили формат столбцов там, где это возможно.\n",
    "- Заменили пропуски на числовые/строчные значения соответственно другим данным в этих столбцах для дальнейшего исследования.\n",
    "- Добавили столбец с кол-вом продаж во всех регионах суммарно.\\\n",
    "Стоит отметить, что пропуски в столбце даты релиза мы оставили как есть, так как им невозможно предложить замену."
   ]
  },
  {
   "cell_type": "markdown",
   "metadata": {},
   "source": [
    "## Исследовательский анализ данных ( EDA )"
   ]
  },
  {
   "cell_type": "markdown",
   "metadata": {},
   "source": [
    "### Группировка игр согласно годам релиза."
   ]
  },
  {
   "cell_type": "code",
   "execution_count": 21,
   "metadata": {},
   "outputs": [
    {
     "data": {
      "text/html": [
       "<div>\n",
       "<style scoped>\n",
       "    .dataframe tbody tr th:only-of-type {\n",
       "        vertical-align: middle;\n",
       "    }\n",
       "\n",
       "    .dataframe tbody tr th {\n",
       "        vertical-align: top;\n",
       "    }\n",
       "\n",
       "    .dataframe thead th {\n",
       "        text-align: right;\n",
       "    }\n",
       "</style>\n",
       "<table border=\"1\" class=\"dataframe\">\n",
       "  <thead>\n",
       "    <tr style=\"text-align: right;\">\n",
       "      <th></th>\n",
       "      <th>total_sales</th>\n",
       "    </tr>\n",
       "    <tr>\n",
       "      <th>year_of_release</th>\n",
       "      <th></th>\n",
       "    </tr>\n",
       "  </thead>\n",
       "  <tbody>\n",
       "    <tr>\n",
       "      <th>1980</th>\n",
       "      <td>9</td>\n",
       "    </tr>\n",
       "    <tr>\n",
       "      <th>1981</th>\n",
       "      <td>46</td>\n",
       "    </tr>\n",
       "    <tr>\n",
       "      <th>1982</th>\n",
       "      <td>36</td>\n",
       "    </tr>\n",
       "    <tr>\n",
       "      <th>1983</th>\n",
       "      <td>17</td>\n",
       "    </tr>\n",
       "    <tr>\n",
       "      <th>1984</th>\n",
       "      <td>14</td>\n",
       "    </tr>\n",
       "    <tr>\n",
       "      <th>1985</th>\n",
       "      <td>14</td>\n",
       "    </tr>\n",
       "    <tr>\n",
       "      <th>1986</th>\n",
       "      <td>21</td>\n",
       "    </tr>\n",
       "    <tr>\n",
       "      <th>1987</th>\n",
       "      <td>16</td>\n",
       "    </tr>\n",
       "    <tr>\n",
       "      <th>1988</th>\n",
       "      <td>15</td>\n",
       "    </tr>\n",
       "    <tr>\n",
       "      <th>1989</th>\n",
       "      <td>17</td>\n",
       "    </tr>\n",
       "    <tr>\n",
       "      <th>1990</th>\n",
       "      <td>16</td>\n",
       "    </tr>\n",
       "    <tr>\n",
       "      <th>1991</th>\n",
       "      <td>41</td>\n",
       "    </tr>\n",
       "    <tr>\n",
       "      <th>1992</th>\n",
       "      <td>43</td>\n",
       "    </tr>\n",
       "    <tr>\n",
       "      <th>1993</th>\n",
       "      <td>60</td>\n",
       "    </tr>\n",
       "    <tr>\n",
       "      <th>1994</th>\n",
       "      <td>121</td>\n",
       "    </tr>\n",
       "    <tr>\n",
       "      <th>1995</th>\n",
       "      <td>219</td>\n",
       "    </tr>\n",
       "    <tr>\n",
       "      <th>1996</th>\n",
       "      <td>263</td>\n",
       "    </tr>\n",
       "    <tr>\n",
       "      <th>1997</th>\n",
       "      <td>289</td>\n",
       "    </tr>\n",
       "    <tr>\n",
       "      <th>1998</th>\n",
       "      <td>379</td>\n",
       "    </tr>\n",
       "    <tr>\n",
       "      <th>1999</th>\n",
       "      <td>338</td>\n",
       "    </tr>\n",
       "    <tr>\n",
       "      <th>2000</th>\n",
       "      <td>350</td>\n",
       "    </tr>\n",
       "    <tr>\n",
       "      <th>2001</th>\n",
       "      <td>482</td>\n",
       "    </tr>\n",
       "    <tr>\n",
       "      <th>2002</th>\n",
       "      <td>829</td>\n",
       "    </tr>\n",
       "    <tr>\n",
       "      <th>2003</th>\n",
       "      <td>775</td>\n",
       "    </tr>\n",
       "    <tr>\n",
       "      <th>2004</th>\n",
       "      <td>762</td>\n",
       "    </tr>\n",
       "    <tr>\n",
       "      <th>2005</th>\n",
       "      <td>939</td>\n",
       "    </tr>\n",
       "    <tr>\n",
       "      <th>2006</th>\n",
       "      <td>1006</td>\n",
       "    </tr>\n",
       "    <tr>\n",
       "      <th>2007</th>\n",
       "      <td>1197</td>\n",
       "    </tr>\n",
       "    <tr>\n",
       "      <th>2008</th>\n",
       "      <td>1427</td>\n",
       "    </tr>\n",
       "    <tr>\n",
       "      <th>2009</th>\n",
       "      <td>1426</td>\n",
       "    </tr>\n",
       "    <tr>\n",
       "      <th>2010</th>\n",
       "      <td>1255</td>\n",
       "    </tr>\n",
       "    <tr>\n",
       "      <th>2011</th>\n",
       "      <td>1136</td>\n",
       "    </tr>\n",
       "    <tr>\n",
       "      <th>2012</th>\n",
       "      <td>653</td>\n",
       "    </tr>\n",
       "    <tr>\n",
       "      <th>2013</th>\n",
       "      <td>544</td>\n",
       "    </tr>\n",
       "    <tr>\n",
       "      <th>2014</th>\n",
       "      <td>581</td>\n",
       "    </tr>\n",
       "    <tr>\n",
       "      <th>2015</th>\n",
       "      <td>606</td>\n",
       "    </tr>\n",
       "    <tr>\n",
       "      <th>2016</th>\n",
       "      <td>502</td>\n",
       "    </tr>\n",
       "  </tbody>\n",
       "</table>\n",
       "</div>"
      ],
      "text/plain": [
       "                 total_sales\n",
       "year_of_release             \n",
       "1980                       9\n",
       "1981                      46\n",
       "1982                      36\n",
       "1983                      17\n",
       "1984                      14\n",
       "1985                      14\n",
       "1986                      21\n",
       "1987                      16\n",
       "1988                      15\n",
       "1989                      17\n",
       "1990                      16\n",
       "1991                      41\n",
       "1992                      43\n",
       "1993                      60\n",
       "1994                     121\n",
       "1995                     219\n",
       "1996                     263\n",
       "1997                     289\n",
       "1998                     379\n",
       "1999                     338\n",
       "2000                     350\n",
       "2001                     482\n",
       "2002                     829\n",
       "2003                     775\n",
       "2004                     762\n",
       "2005                     939\n",
       "2006                    1006\n",
       "2007                    1197\n",
       "2008                    1427\n",
       "2009                    1426\n",
       "2010                    1255\n",
       "2011                    1136\n",
       "2012                     653\n",
       "2013                     544\n",
       "2014                     581\n",
       "2015                     606\n",
       "2016                     502"
      ]
     },
     "execution_count": 21,
     "metadata": {},
     "output_type": "execute_result"
    }
   ],
   "source": [
    "data.pivot_table(index='year_of_release', values='total_sales', aggfunc='count')"
   ]
  },
  {
   "cell_type": "markdown",
   "metadata": {},
   "source": [
    "Для наглядности построим гистограмму выпуска игр по годам."
   ]
  },
  {
   "cell_type": "code",
   "execution_count": 22,
   "metadata": {},
   "outputs": [
    {
     "data": {
      "text/plain": [
       "Text(0, 0.5, 'количество игр')"
      ]
     },
     "execution_count": 22,
     "metadata": {},
     "output_type": "execute_result"
    },
    {
     "data": {
      "image/png": "[encoded data removed]",
      "text/plain": [
       "<Figure size 504x504 with 1 Axes>"
      ]
     },
     "metadata": {
      "needs_background": "light"
     },
     "output_type": "display_data"
    }
   ],
   "source": [
    "data.hist('year_of_release',bins=35, figsize=(7,7))\n",
    "plt.title('выпуск игр по годам')\n",
    "plt.xlabel('год')\n",
    "plt.ylabel('количество игр')"
   ]
  },
  {
   "cell_type": "markdown",
   "metadata": {},
   "source": [
    "Появились в 80-ых, но до 95 года наблюдаем плато — видимо мощностей не хватало. С 95-года график релизов рос, видимо, мощность чипов видеоадаптеров резко увеличилась, начали появляться игры с более развитой графикой. Наблюдаем резкий рост кол-ва выпускаемых игр в 1997, 2002, 2004, 2011 годах.\\\n",
    "В целом можно резюмировать: кол-во выпускаемых игр резко возрасло в с 1995 года, затем произошел резкий спад 2011 году. Возможно произошло насыщение рынка.\\\n",
    "Так как рынок игр очень динамичен, в исследовании нам важнее всего период за последние 2 года."
   ]
  },
  {
   "cell_type": "markdown",
   "metadata": {},
   "source": [
    "### Проанализируем как менялись продажи по платформам"
   ]
  },
  {
   "cell_type": "code",
   "execution_count": 23,
   "metadata": {},
   "outputs": [
    {
     "data": {
      "text/html": [
       "<div>\n",
       "<style scoped>\n",
       "    .dataframe tbody tr th:only-of-type {\n",
       "        vertical-align: middle;\n",
       "    }\n",
       "\n",
       "    .dataframe tbody tr th {\n",
       "        vertical-align: top;\n",
       "    }\n",
       "\n",
       "    .dataframe thead th {\n",
       "        text-align: right;\n",
       "    }\n",
       "</style>\n",
       "<table border=\"1\" class=\"dataframe\">\n",
       "  <thead>\n",
       "    <tr style=\"text-align: right;\">\n",
       "      <th></th>\n",
       "      <th>platform</th>\n",
       "      <th>total_sales</th>\n",
       "    </tr>\n",
       "  </thead>\n",
       "  <tbody>\n",
       "    <tr>\n",
       "      <th>16</th>\n",
       "      <td>ps2</td>\n",
       "      <td>1255.77</td>\n",
       "    </tr>\n",
       "    <tr>\n",
       "      <th>28</th>\n",
       "      <td>x360</td>\n",
       "      <td>971.42</td>\n",
       "    </tr>\n",
       "    <tr>\n",
       "      <th>17</th>\n",
       "      <td>ps3</td>\n",
       "      <td>939.65</td>\n",
       "    </tr>\n",
       "    <tr>\n",
       "      <th>25</th>\n",
       "      <td>wii</td>\n",
       "      <td>907.51</td>\n",
       "    </tr>\n",
       "    <tr>\n",
       "      <th>4</th>\n",
       "      <td>ds</td>\n",
       "      <td>806.12</td>\n",
       "    </tr>\n",
       "    <tr>\n",
       "      <th>15</th>\n",
       "      <td>ps</td>\n",
       "      <td>730.86</td>\n",
       "    </tr>\n",
       "    <tr>\n",
       "      <th>6</th>\n",
       "      <td>gba</td>\n",
       "      <td>317.85</td>\n",
       "    </tr>\n",
       "    <tr>\n",
       "      <th>18</th>\n",
       "      <td>ps4</td>\n",
       "      <td>314.14</td>\n",
       "    </tr>\n",
       "    <tr>\n",
       "      <th>19</th>\n",
       "      <td>psp</td>\n",
       "      <td>294.05</td>\n",
       "    </tr>\n",
       "    <tr>\n",
       "      <th>13</th>\n",
       "      <td>pc</td>\n",
       "      <td>259.52</td>\n",
       "    </tr>\n",
       "  </tbody>\n",
       "</table>\n",
       "</div>"
      ],
      "text/plain": [
       "   platform  total_sales\n",
       "16      ps2      1255.77\n",
       "28     x360       971.42\n",
       "17      ps3       939.65\n",
       "25      wii       907.51\n",
       "4        ds       806.12\n",
       "15       ps       730.86\n",
       "6       gba       317.85\n",
       "18      ps4       314.14\n",
       "19      psp       294.05\n",
       "13       pc       259.52"
      ]
     },
     "execution_count": 23,
     "metadata": {},
     "output_type": "execute_result"
    }
   ],
   "source": [
    "data.groupby('platform').sum()[['total_sales']].reset_index().sort_values(\n",
    "    by='total_sales', ascending=False\n",
    ").head(10)"
   ]
  },
  {
   "cell_type": "code",
   "execution_count": 24,
   "metadata": {},
   "outputs": [
    {
     "data": {
      "text/plain": [
       "platform\n",
       "ps2     1255.77\n",
       "x360     971.42\n",
       "ps3      939.65\n",
       "wii      907.51\n",
       "ds       806.12\n",
       "Name: total_sales, dtype: float64"
      ]
     },
     "execution_count": 24,
     "metadata": {},
     "output_type": "execute_result"
    }
   ],
   "source": [
    "top5_sales_platforms = (data.groupby('platform')\n",
    " .total_sales.sum()\n",
    " .sort_values(ascending=False)\n",
    " .head())\n",
    "top5_sales_platforms"
   ]
  },
  {
   "cell_type": "code",
   "execution_count": 25,
   "metadata": {},
   "outputs": [
    {
     "data": {
      "text/plain": [
       "Text(0, 0.5, 'продажи')"
      ]
     },
     "execution_count": 25,
     "metadata": {},
     "output_type": "execute_result"
    },
    {
     "data": {
      "image/png": "[encoded data removed]",
      "text/plain": [
       "<Figure size 432x288 with 1 Axes>"
      ]
     },
     "metadata": {
      "needs_background": "light"
     },
     "output_type": "display_data"
    }
   ],
   "source": [
    "top5_sales_platforms.plot(kind='bar')\n",
    "plt.title('выпуск игр по платформам')\n",
    "plt.xlabel('платформа')\n",
    "plt.ylabel('продажи')"
   ]
  },
  {
   "cell_type": "markdown",
   "metadata": {},
   "source": [
    "### Построим распределение по годам продаж на каждой из 5 наиболее продаваемых платформ."
   ]
  },
  {
   "cell_type": "code",
   "execution_count": 26,
   "metadata": {},
   "outputs": [
    {
     "data": {
      "image/png": "[encoded data removed]",
      "text/plain": [
       "<Figure size 684x1044 with 5 Axes>"
      ]
     },
     "metadata": {
      "needs_background": "light"
     },
     "output_type": "display_data"
    }
   ],
   "source": [
    "fig, axs = plt.subplots(len(top5_sales_platforms))\n",
    "fig.set_size_inches(9.5, 14.5)\n",
    "fig.tight_layout(pad=5.0)\n",
    "fig.suptitle('Распределение суммарных продаж на платформах по годам')\n",
    "\n",
    "\n",
    "for i, platform in enumerate(top5_sales_platforms.index):\n",
    "    plt.sca(axs[i])\n",
    "    data[data.platform==platform].groupby('year_of_release').total_sales.sum().plot(kind='bar');\n",
    "    plt.title(f'Продажи по годам на {platform}')\n",
    "    plt.ylabel('сумма продаж')\n",
    "    plt.xlabel('год')"
   ]
  },
  {
   "cell_type": "markdown",
   "metadata": {},
   "source": [
    "Можно заметить, что новые платформы появляются и исчезают старые примерно за 2-3 года. 1 года на пике и по 1 на взлет/падение. \\\n",
    "В дальнейшем исследовании будет использован период в 3 года. \\\n",
    "С одной стороны это позволит нам захватить больше данных (чем за 2 года), при этом результат все еще не потеряет актуальность и не захватит отживжие тренды на таком динамичном рынке, как игровая индустрия. \\\n",
    "Так же отметим, что дальнейшее исследование будет касаться по-большей части консолей. \\\n",
    "Рынок ПК гейминга живет немного по своим (другим) законам."
   ]
  },
  {
   "cell_type": "markdown",
   "metadata": {},
   "source": [
    "<div class=\"alert alert-info\">\n",
    "<b>Средний срок жизни платформ составляет ориентировочно 8 лет (это заметно по циклам роста-падения). Однако как и было сказано ранее пик популярности составляет в среднем от 2 до 4 лет, остальное время платформа либо еще не популярна, либо уже не популярна, соответственно продажи - невысоки (но имеют распределение близкое к \"нормальному\"). Было решено взять период в 3 года ( среднее между 2 и 4). Так как индустрия игр очень динамична, а строить прогноз на следующий год по 5-8 летним данным не корректно, к тому же после 4-х лет начинается спад продаж. Едва-ли планировать торговую стратегию по таким данным - корректно</b> \n",
    "</div>"
   ]
  },
  {
   "cell_type": "markdown",
   "metadata": {},
   "source": [
    "### Сделаем срез данных ( новый датафрейм) с данными только за интересующий нас период времени."
   ]
  },
  {
   "cell_type": "code",
   "execution_count": 27,
   "metadata": {},
   "outputs": [],
   "source": [
    "actual_data = data[data.year_of_release >= 2014]"
   ]
  },
  {
   "cell_type": "markdown",
   "metadata": {},
   "source": [
    "Построим график и сгруппированными данными, что бы определить какая платформа окажется в лидерах."
   ]
  },
  {
   "cell_type": "code",
   "execution_count": 28,
   "metadata": {},
   "outputs": [
    {
     "data": {
      "text/plain": [
       "Text(0, 0.5, 'саммарные продажи')"
      ]
     },
     "execution_count": 28,
     "metadata": {},
     "output_type": "execute_result"
    },
    {
     "data": {
      "image/png": "[encoded data removed]",
      "text/plain": [
       "<Figure size 720x720 with 1 Axes>"
      ]
     },
     "metadata": {
      "needs_background": "light"
     },
     "output_type": "display_data"
    }
   ],
   "source": [
    "data_sales = actual_data.pivot_table(\n",
    "    index = 'year_of_release', \n",
    "    columns = 'platform',\n",
    "    values = 'total_sales', \n",
    "    aggfunc = 'sum'\n",
    "    ).plot(figsize=(10,10), grid=True)\n",
    "plt.title('выпуск игр по платформам за актуальный период')\n",
    "plt.xlabel('год')\n",
    "plt.ylabel('саммарные продажи')"
   ]
  },
  {
   "cell_type": "markdown",
   "metadata": {},
   "source": [
    "Итак, самыми потенциально прибыльными платформами могли бы быть Sony PlayStation 4 (с отрывом в 2 раза) и Xbox One от Microsoft. \\\n",
    "На 2-м месте актуальны игры для платформ Nintendo 3DS, Wii U, Xbox 360 и PlayStation 3. \\\n",
    "Тут напрашивается интересный промежуточный вывод: Мы наблюдаем на графике спад абсолютно всех платформ.(в разной степени).\\\n",
    "К тому же, все эти платформы существуют уже какое-то время до 2014 (период на котором мы проводим исследование). \\\n",
    "Тут можно предположить одно из двух: либо грядет смена поколений, либо произошло насыщение рынка. \\\n",
    "В любом случае, это требует дополнительного исследования, в том числе и на тему \"ожидается ли в 2017 году рост рынка?\""
   ]
  },
  {
   "cell_type": "markdown",
   "metadata": {},
   "source": [
    "<div class=\"alert alert-info\">\n",
    "<b>На графике шаг оси Х - 0,25 года, что соответствует 3 месяцам - Квартал. На мой взгляд это удобно для экономистов. Видны подробные изменения объема продаж на начало и конец квартала )) Добавил сетку для большей наглядности и названия (графика и осей)</b> \n",
    "</div>"
   ]
  },
  {
   "cell_type": "markdown",
   "metadata": {},
   "source": [
    "### Анализ продаж перспективных платформ. \n",
    "Итак, мы определили, что перспективными платформами являются PS4, PS3, XOne, X360, WiiU и 3DS, а актуальный период исследования - 3 года, т.е. 2014-2016 годы."
   ]
  },
  {
   "cell_type": "markdown",
   "metadata": {},
   "source": [
    "### Для наглядности построим диаграмм размаха (ящик с усами) по актуальным данным."
   ]
  },
  {
   "cell_type": "code",
   "execution_count": 29,
   "metadata": {},
   "outputs": [
    {
     "data": {
      "image/png": "[encoded data removed]",
      "text/plain": [
       "<Figure size 900x396 with 1 Axes>"
      ]
     },
     "metadata": {
      "needs_background": "light"
     },
     "output_type": "display_data"
    }
   ],
   "source": [
    "fig = plt.figure()\n",
    "fig.set_size_inches(12.5, 5.5)\n",
    "sns.boxplot(y=actual_data.platform, x=actual_data.total_sales)\n",
    "plt.xlim(0,3)\n",
    "plt.xlabel('Суммарные продажи')\n",
    "plt.ylabel('Платформа')\n",
    "plt.title('Распределение суммарных продаж по платформам (в пределах продаж [0; 3] млн копий)');"
   ]
  },
  {
   "cell_type": "markdown",
   "metadata": {},
   "source": [
    "Наблюдаемый нами результат достаточно очевиден. Как и любые ценовые распределения - распределение суммарных продаж имеет ярко выраженное нормальное распределение, смещенное вправо (так как отрицательных значений у продаж быть не может). Основную кассу платформам приносят несколько популярных игр. Остальные же игры (основная масса) находятся в районе нулевых продаж. То есть платформа по сути выживает за счет бестселлеров. Остальные игры не более чем статистика для платформы. Может быть и вообще срок жизни игровой консоли обуславливается пропаданием интереса к бестселлерам."
   ]
  },
  {
   "cell_type": "markdown",
   "metadata": {},
   "source": [
    "### Построим диаграмму рассеяния где покажем зависимость продаж внутри платформы ps4 от оценок пользователей и критиков.\n",
    "Взяли 'ps4' для примера в качестве одной из самых перспективных.\\\n",
    "Пробовал взять для примера wii, но там не информативный график (("
   ]
  },
  {
   "cell_type": "code",
   "execution_count": 30,
   "metadata": {},
   "outputs": [
    {
     "data": {
      "text/plain": [
       "Text(0, 0.5, 'Суммарные продажи')"
      ]
     },
     "execution_count": 30,
     "metadata": {},
     "output_type": "execute_result"
    },
    {
     "data": {
      "image/png": "[encoded data removed]",
      "text/plain": [
       "<Figure size 864x432 with 2 Axes>"
      ]
     },
     "metadata": {
      "needs_background": "light"
     },
     "output_type": "display_data"
    }
   ],
   "source": [
    "fig, (ax1, ax2) = plt.subplots(1, 2, sharey=True)\n",
    "fig.set_size_inches(12, 6)\n",
    "fig.suptitle('Зависимость продаж от оценок для ps4')\n",
    "sns.scatterplot(data=actual_data.query('platform == \"ps4\" and critic_score != -1'), x='critic_score', y='total_sales', ax=ax1)\n",
    "sns.scatterplot(data=actual_data.query('platform == \"ps4\" and user_score != -1'), x='user_score', y='total_sales', ax=ax2)\n",
    "ax1.set_xlabel('Оценки критиков')\n",
    "ax2.set_xlabel('Оценки пользователей')\n",
    "ax1.set_ylabel('Суммарные продажи')"
   ]
  },
  {
   "cell_type": "markdown",
   "metadata": {},
   "source": [
    "Зависимость имеет смысл смотреть на графиках, в правой части. Чем выше оценка тем больше продаж. Но только после определенного значения но до этого значения (в районе 40 у критиков и 55 y пользователей) все продажи около нуля.\n",
    "Методы для расчета корреляции (например коэфф корелляции Пирсона) нам не подходят."
   ]
  },
  {
   "cell_type": "markdown",
   "metadata": {},
   "source": [
    "### Что бы соотнести наш предыдущий вывод с др платформами, построим и для них диаграммы рассеивания."
   ]
  },
  {
   "cell_type": "code",
   "execution_count": 41,
   "metadata": {},
   "outputs": [
    {
     "data": {
      "image/png": "[encoded data removed]",
      "text/plain": [
       "<Figure size 720x720 with 9 Axes>"
      ]
     },
     "metadata": {
      "needs_background": "light"
     },
     "output_type": "display_data"
    },
    {
     "data": {
      "text/html": [
       "<div>\n",
       "<style scoped>\n",
       "    .dataframe tbody tr th:only-of-type {\n",
       "        vertical-align: middle;\n",
       "    }\n",
       "\n",
       "    .dataframe tbody tr th {\n",
       "        vertical-align: top;\n",
       "    }\n",
       "\n",
       "    .dataframe thead th {\n",
       "        text-align: right;\n",
       "    }\n",
       "</style>\n",
       "<table border=\"1\" class=\"dataframe\">\n",
       "  <thead>\n",
       "    <tr style=\"text-align: right;\">\n",
       "      <th></th>\n",
       "      <th>total_sales</th>\n",
       "      <th>user_score</th>\n",
       "      <th>critic_score</th>\n",
       "    </tr>\n",
       "  </thead>\n",
       "  <tbody>\n",
       "    <tr>\n",
       "      <th>total_sales</th>\n",
       "      <td>1.000000</td>\n",
       "      <td>0.054741</td>\n",
       "      <td>0.052992</td>\n",
       "    </tr>\n",
       "    <tr>\n",
       "      <th>user_score</th>\n",
       "      <td>0.054741</td>\n",
       "      <td>1.000000</td>\n",
       "      <td>0.887159</td>\n",
       "    </tr>\n",
       "    <tr>\n",
       "      <th>critic_score</th>\n",
       "      <td>0.052992</td>\n",
       "      <td>0.887159</td>\n",
       "      <td>1.000000</td>\n",
       "    </tr>\n",
       "  </tbody>\n",
       "</table>\n",
       "</div>"
      ],
      "text/plain": [
       "              total_sales  user_score  critic_score\n",
       "total_sales      1.000000    0.054741      0.052992\n",
       "user_score       0.054741    1.000000      0.887159\n",
       "critic_score     0.052992    0.887159      1.000000"
      ]
     },
     "metadata": {},
     "output_type": "display_data"
    },
    {
     "data": {
      "image/png": "[encoded data removed]",
      "text/plain": [
       "<Figure size 720x720 with 9 Axes>"
      ]
     },
     "metadata": {
      "needs_background": "light"
     },
     "output_type": "display_data"
    },
    {
     "data": {
      "text/html": [
       "<div>\n",
       "<style scoped>\n",
       "    .dataframe tbody tr th:only-of-type {\n",
       "        vertical-align: middle;\n",
       "    }\n",
       "\n",
       "    .dataframe tbody tr th {\n",
       "        vertical-align: top;\n",
       "    }\n",
       "\n",
       "    .dataframe thead th {\n",
       "        text-align: right;\n",
       "    }\n",
       "</style>\n",
       "<table border=\"1\" class=\"dataframe\">\n",
       "  <thead>\n",
       "    <tr style=\"text-align: right;\">\n",
       "      <th></th>\n",
       "      <th>total_sales</th>\n",
       "      <th>user_score</th>\n",
       "      <th>critic_score</th>\n",
       "    </tr>\n",
       "  </thead>\n",
       "  <tbody>\n",
       "    <tr>\n",
       "      <th>total_sales</th>\n",
       "      <td>1.000000</td>\n",
       "      <td>0.197946</td>\n",
       "      <td>0.023612</td>\n",
       "    </tr>\n",
       "    <tr>\n",
       "      <th>user_score</th>\n",
       "      <td>0.197946</td>\n",
       "      <td>1.000000</td>\n",
       "      <td>0.517911</td>\n",
       "    </tr>\n",
       "    <tr>\n",
       "      <th>critic_score</th>\n",
       "      <td>0.023612</td>\n",
       "      <td>0.517911</td>\n",
       "      <td>1.000000</td>\n",
       "    </tr>\n",
       "  </tbody>\n",
       "</table>\n",
       "</div>"
      ],
      "text/plain": [
       "              total_sales  user_score  critic_score\n",
       "total_sales      1.000000    0.197946      0.023612\n",
       "user_score       0.197946    1.000000      0.517911\n",
       "critic_score     0.023612    0.517911      1.000000"
      ]
     },
     "metadata": {},
     "output_type": "display_data"
    },
    {
     "data": {
      "image/png": "[encoded data removed]",
      "text/plain": [
       "<Figure size 720x720 with 9 Axes>"
      ]
     },
     "metadata": {
      "needs_background": "light"
     },
     "output_type": "display_data"
    },
    {
     "data": {
      "text/html": [
       "<div>\n",
       "<style scoped>\n",
       "    .dataframe tbody tr th:only-of-type {\n",
       "        vertical-align: middle;\n",
       "    }\n",
       "\n",
       "    .dataframe tbody tr th {\n",
       "        vertical-align: top;\n",
       "    }\n",
       "\n",
       "    .dataframe thead th {\n",
       "        text-align: right;\n",
       "    }\n",
       "</style>\n",
       "<table border=\"1\" class=\"dataframe\">\n",
       "  <thead>\n",
       "    <tr style=\"text-align: right;\">\n",
       "      <th></th>\n",
       "      <th>total_sales</th>\n",
       "      <th>user_score</th>\n",
       "      <th>critic_score</th>\n",
       "    </tr>\n",
       "  </thead>\n",
       "  <tbody>\n",
       "    <tr>\n",
       "      <th>total_sales</th>\n",
       "      <td>1.000000</td>\n",
       "      <td>0.263433</td>\n",
       "      <td>0.291296</td>\n",
       "    </tr>\n",
       "    <tr>\n",
       "      <th>user_score</th>\n",
       "      <td>0.263433</td>\n",
       "      <td>1.000000</td>\n",
       "      <td>0.831522</td>\n",
       "    </tr>\n",
       "    <tr>\n",
       "      <th>critic_score</th>\n",
       "      <td>0.291296</td>\n",
       "      <td>0.831522</td>\n",
       "      <td>1.000000</td>\n",
       "    </tr>\n",
       "  </tbody>\n",
       "</table>\n",
       "</div>"
      ],
      "text/plain": [
       "              total_sales  user_score  critic_score\n",
       "total_sales      1.000000    0.263433      0.291296\n",
       "user_score       0.263433    1.000000      0.831522\n",
       "critic_score     0.291296    0.831522      1.000000"
      ]
     },
     "metadata": {},
     "output_type": "display_data"
    },
    {
     "data": {
      "image/png": "[encoded data removed]",
      "text/plain": [
       "<Figure size 720x720 with 9 Axes>"
      ]
     },
     "metadata": {
      "needs_background": "light"
     },
     "output_type": "display_data"
    },
    {
     "data": {
      "text/html": [
       "<div>\n",
       "<style scoped>\n",
       "    .dataframe tbody tr th:only-of-type {\n",
       "        vertical-align: middle;\n",
       "    }\n",
       "\n",
       "    .dataframe tbody tr th {\n",
       "        vertical-align: top;\n",
       "    }\n",
       "\n",
       "    .dataframe thead th {\n",
       "        text-align: right;\n",
       "    }\n",
       "</style>\n",
       "<table border=\"1\" class=\"dataframe\">\n",
       "  <thead>\n",
       "    <tr style=\"text-align: right;\">\n",
       "      <th></th>\n",
       "      <th>total_sales</th>\n",
       "      <th>user_score</th>\n",
       "      <th>critic_score</th>\n",
       "    </tr>\n",
       "  </thead>\n",
       "  <tbody>\n",
       "    <tr>\n",
       "      <th>total_sales</th>\n",
       "      <td>1.000000</td>\n",
       "      <td>0.072696</td>\n",
       "      <td>0.004012</td>\n",
       "    </tr>\n",
       "    <tr>\n",
       "      <th>user_score</th>\n",
       "      <td>0.072696</td>\n",
       "      <td>1.000000</td>\n",
       "      <td>0.375145</td>\n",
       "    </tr>\n",
       "    <tr>\n",
       "      <th>critic_score</th>\n",
       "      <td>0.004012</td>\n",
       "      <td>0.375145</td>\n",
       "      <td>1.000000</td>\n",
       "    </tr>\n",
       "  </tbody>\n",
       "</table>\n",
       "</div>"
      ],
      "text/plain": [
       "              total_sales  user_score  critic_score\n",
       "total_sales      1.000000    0.072696      0.004012\n",
       "user_score       0.072696    1.000000      0.375145\n",
       "critic_score     0.004012    0.375145      1.000000"
      ]
     },
     "metadata": {},
     "output_type": "display_data"
    },
    {
     "data": {
      "image/png": "[encoded data removed]",
      "text/plain": [
       "<Figure size 720x720 with 9 Axes>"
      ]
     },
     "metadata": {
      "needs_background": "light"
     },
     "output_type": "display_data"
    },
    {
     "data": {
      "text/html": [
       "<div>\n",
       "<style scoped>\n",
       "    .dataframe tbody tr th:only-of-type {\n",
       "        vertical-align: middle;\n",
       "    }\n",
       "\n",
       "    .dataframe tbody tr th {\n",
       "        vertical-align: top;\n",
       "    }\n",
       "\n",
       "    .dataframe thead th {\n",
       "        text-align: right;\n",
       "    }\n",
       "</style>\n",
       "<table border=\"1\" class=\"dataframe\">\n",
       "  <thead>\n",
       "    <tr style=\"text-align: right;\">\n",
       "      <th></th>\n",
       "      <th>total_sales</th>\n",
       "      <th>user_score</th>\n",
       "      <th>critic_score</th>\n",
       "    </tr>\n",
       "  </thead>\n",
       "  <tbody>\n",
       "    <tr>\n",
       "      <th>total_sales</th>\n",
       "      <td>1.000000</td>\n",
       "      <td>0.102603</td>\n",
       "      <td>0.271476</td>\n",
       "    </tr>\n",
       "    <tr>\n",
       "      <th>user_score</th>\n",
       "      <td>0.102603</td>\n",
       "      <td>1.000000</td>\n",
       "      <td>0.794310</td>\n",
       "    </tr>\n",
       "    <tr>\n",
       "      <th>critic_score</th>\n",
       "      <td>0.271476</td>\n",
       "      <td>0.794310</td>\n",
       "      <td>1.000000</td>\n",
       "    </tr>\n",
       "  </tbody>\n",
       "</table>\n",
       "</div>"
      ],
      "text/plain": [
       "              total_sales  user_score  critic_score\n",
       "total_sales      1.000000    0.102603      0.271476\n",
       "user_score       0.102603    1.000000      0.794310\n",
       "critic_score     0.271476    0.794310      1.000000"
      ]
     },
     "metadata": {},
     "output_type": "display_data"
    }
   ],
   "source": [
    "platform_list = ['3ds', 'ps3','wiiu', 'x360', 'xone']\n",
    "\n",
    "for platform in platform_list:\n",
    "    data_1 = actual_data.query('platform == @platform')[['total_sales','user_score', 'critic_score']]\n",
    "    \n",
    "    fig, ax = plt.subplots(figsize = (10,10))\n",
    "    pd.plotting.scatter_matrix(data_1, ax=ax)\n",
    "    fig.suptitle(f'Корреляция продаж с оценками на платформе {platform}')\n",
    "    plt.show()   \n",
    "    \n",
    "    display(actual_data.query('platform == @platform')[['total_sales','user_score', 'critic_score']].agg('corr'))"
   ]
  },
  {
   "cell_type": "markdown",
   "metadata": {},
   "source": [
    "Анализируя полученные данные с графиков можно прийти к выводу, что в целом ситуация с платформы PS4 распространяется и на другие платформы. \\\n",
    "Характер зависимости нелинейный"
   ]
  },
  {
   "cell_type": "markdown",
   "metadata": {},
   "source": [
    "### Общее распределение игр по жанрам."
   ]
  },
  {
   "cell_type": "code",
   "execution_count": 32,
   "metadata": {},
   "outputs": [
    {
     "data": {
      "image/png": "[encoded data removed]",
      "text/plain": [
       "<Figure size 864x864 with 2 Axes>"
      ]
     },
     "metadata": {
      "needs_background": "light"
     },
     "output_type": "display_data"
    }
   ],
   "source": [
    "fig, (ax1, ax2) = plt.subplots(2, 1)\n",
    "fig.set_size_inches(12, 12)\n",
    "sns.boxplot(y=actual_data.genre, x=actual_data.total_sales, ax=ax1)\n",
    "ax1.set_xlabel('Суммарные продажи')\n",
    "ax1.set_ylabel('Жанры')\n",
    "ax1.set_title('Распределение суммарных продаж по жанрам')\n",
    "sns.boxplot(y=actual_data.genre, x=actual_data.total_sales, ax=ax2)\n",
    "ax2.set_xlim(0,3)\n",
    "ax2.set_xlabel('Суммарные продажи')\n",
    "ax2.set_ylabel('Жанры')\n",
    "ax2.set_title('Распределение суммарных продаж по жанрам (интервал проданных копий - 3 млн.шт.)');"
   ]
  },
  {
   "cell_type": "markdown",
   "metadata": {},
   "source": [
    "Можно сделать вывод, что **Shooter, Sport, Platform** - самые интересные жанры с точки зрения средней прибыльности . \\\n",
    "В жанре **action** показатели сильно разняться. Средняя прибыль там либо очень высокая,либо очень низкая (видим это по очеь большому размаху относительно усов. \\\n",
    "Наименьшее среднее в жанре **puzzle**."
   ]
  },
  {
   "cell_type": "markdown",
   "metadata": {},
   "source": [
    "## Составляем портрет пользователя каждого региона"
   ]
  },
  {
   "cell_type": "markdown",
   "metadata": {},
   "source": [
    "### Топ-5 самых популярных платформ."
   ]
  },
  {
   "cell_type": "code",
   "execution_count": 33,
   "metadata": {},
   "outputs": [
    {
     "data": {
      "text/html": [
       "<style  type=\"text/css\" >\n",
       "</style><table id=\"T_809f2_\" ><thead>    <tr>        <th class=\"blank level0\" ></th>        <th class=\"col_heading level0 col0\" >eu_sales</th>        <th class=\"col_heading level0 col1\" >jp_sales</th>        <th class=\"col_heading level0 col2\" >na_sales</th>    </tr>    <tr>        <th class=\"index_name level0\" >platform</th>        <th class=\"blank\" ></th>        <th class=\"blank\" ></th>        <th class=\"blank\" ></th>    </tr></thead><tbody>\n",
       "                <tr>\n",
       "                        <th id=\"T_809f2_level0_row0\" class=\"row_heading level0 row0\" >3ds</th>\n",
       "                        <td id=\"T_809f2_row0_col0\" class=\"data row0 col0\" >6.0%</td>\n",
       "                        <td id=\"T_809f2_row0_col1\" class=\"data row0 col1\" >47.5%</td>\n",
       "                        <td id=\"T_809f2_row0_col2\" class=\"data row0 col2\" >8.0%</td>\n",
       "            </tr>\n",
       "            <tr>\n",
       "                        <th id=\"T_809f2_level0_row1\" class=\"row_heading level0 row1\" >pc</th>\n",
       "                        <td id=\"T_809f2_row1_col0\" class=\"data row1 col0\" >6.6%</td>\n",
       "                        <td id=\"T_809f2_row1_col1\" class=\"data row1 col1\" >0.0%</td>\n",
       "                        <td id=\"T_809f2_row1_col2\" class=\"data row1 col2\" >2.5%</td>\n",
       "            </tr>\n",
       "            <tr>\n",
       "                        <th id=\"T_809f2_level0_row2\" class=\"row_heading level0 row2\" >ps3</th>\n",
       "                        <td id=\"T_809f2_row2_col0\" class=\"data row2 col0\" >9.4%</td>\n",
       "                        <td id=\"T_809f2_row2_col1\" class=\"data row2 col1\" >12.1%</td>\n",
       "                        <td id=\"T_809f2_row2_col2\" class=\"data row2 col2\" >7.8%</td>\n",
       "            </tr>\n",
       "            <tr>\n",
       "                        <th id=\"T_809f2_level0_row3\" class=\"row_heading level0 row3\" >ps4</th>\n",
       "                        <td id=\"T_809f2_row3_col0\" class=\"data row3 col0\" >48.0%</td>\n",
       "                        <td id=\"T_809f2_row3_col1\" class=\"data row3 col1\" >16.1%</td>\n",
       "                        <td id=\"T_809f2_row3_col2\" class=\"data row3 col2\" >34.7%</td>\n",
       "            </tr>\n",
       "            <tr>\n",
       "                        <th id=\"T_809f2_level0_row4\" class=\"row_heading level0 row4\" >psp</th>\n",
       "                        <td id=\"T_809f2_row4_col0\" class=\"data row4 col0\" >0.0%</td>\n",
       "                        <td id=\"T_809f2_row4_col1\" class=\"data row4 col1\" >0.4%</td>\n",
       "                        <td id=\"T_809f2_row4_col2\" class=\"data row4 col2\" >0.0%</td>\n",
       "            </tr>\n",
       "            <tr>\n",
       "                        <th id=\"T_809f2_level0_row5\" class=\"row_heading level0 row5\" >psv</th>\n",
       "                        <td id=\"T_809f2_row5_col0\" class=\"data row5 col0\" >1.3%</td>\n",
       "                        <td id=\"T_809f2_row5_col1\" class=\"data row5 col1\" >15.6%</td>\n",
       "                        <td id=\"T_809f2_row5_col2\" class=\"data row5 col2\" >0.9%</td>\n",
       "            </tr>\n",
       "            <tr>\n",
       "                        <th id=\"T_809f2_level0_row6\" class=\"row_heading level0 row6\" >wii</th>\n",
       "                        <td id=\"T_809f2_row6_col0\" class=\"data row6 col0\" >1.0%</td>\n",
       "                        <td id=\"T_809f2_row6_col1\" class=\"data row6 col1\" >0.0%</td>\n",
       "                        <td id=\"T_809f2_row6_col2\" class=\"data row6 col2\" >0.7%</td>\n",
       "            </tr>\n",
       "            <tr>\n",
       "                        <th id=\"T_809f2_level0_row7\" class=\"row_heading level0 row7\" >wiiu</th>\n",
       "                        <td id=\"T_809f2_row7_col0\" class=\"data row7 col0\" >4.9%</td>\n",
       "                        <td id=\"T_809f2_row7_col1\" class=\"data row7 col1\" >7.9%</td>\n",
       "                        <td id=\"T_809f2_row7_col2\" class=\"data row7 col2\" >6.8%</td>\n",
       "            </tr>\n",
       "            <tr>\n",
       "                        <th id=\"T_809f2_level0_row8\" class=\"row_heading level0 row8\" >x360</th>\n",
       "                        <td id=\"T_809f2_row8_col0\" class=\"data row8 col0\" >5.7%</td>\n",
       "                        <td id=\"T_809f2_row8_col1\" class=\"data row8 col1\" >0.1%</td>\n",
       "                        <td id=\"T_809f2_row8_col2\" class=\"data row8 col2\" >10.0%</td>\n",
       "            </tr>\n",
       "            <tr>\n",
       "                        <th id=\"T_809f2_level0_row9\" class=\"row_heading level0 row9\" >xone</th>\n",
       "                        <td id=\"T_809f2_row9_col0\" class=\"data row9 col0\" >17.1%</td>\n",
       "                        <td id=\"T_809f2_row9_col1\" class=\"data row9 col1\" >0.3%</td>\n",
       "                        <td id=\"T_809f2_row9_col2\" class=\"data row9 col2\" >28.6%</td>\n",
       "            </tr>\n",
       "    </tbody></table>"
      ],
      "text/plain": [
       "<pandas.io.formats.style.Styler at 0x7f8312a32580>"
      ]
     },
     "execution_count": 33,
     "metadata": {},
     "output_type": "execute_result"
    }
   ],
   "source": [
    "actual_data.pivot_table(\n",
    "    index = 'platform',\n",
    "    values = ['na_sales', 'eu_sales', 'jp_sales'],\n",
    "    aggfunc =  'sum'\n",
    ").apply(\n",
    "    lambda col: col / col.sum(), \n",
    "    axis=0\n",
    ").style.format(\"{:.1%}\")"
   ]
  },
  {
   "cell_type": "code",
   "execution_count": 34,
   "metadata": {},
   "outputs": [
    {
     "data": {
      "text/plain": [
       "<AxesSubplot:xlabel='platform'>"
      ]
     },
     "execution_count": 34,
     "metadata": {},
     "output_type": "execute_result"
    },
    {
     "data": {
      "image/png": "[encoded data removed]",
      "text/plain": [
       "<Figure size 504x504 with 1 Axes>"
      ]
     },
     "metadata": {
      "needs_background": "light"
     },
     "output_type": "display_data"
    }
   ],
   "source": [
    "actual_data.pivot_table(\n",
    "    index = 'platform',\n",
    "    values = ['na_sales', 'eu_sales', 'jp_sales'],\n",
    "    aggfunc =  'sum'\n",
    ").plot(kind='bar', figsize=(7,7))"
   ]
  },
  {
   "cell_type": "markdown",
   "metadata": {},
   "source": [
    "Европейские и североамериканские геймеры предпочитают ps4, 48% и 34,7% - соответственно. Японские геймеры голосуют за Nintendo 3DS(47,5%)."
   ]
  },
  {
   "cell_type": "markdown",
   "metadata": {},
   "source": [
    "### Топ-5 жанров."
   ]
  },
  {
   "cell_type": "code",
   "execution_count": 35,
   "metadata": {},
   "outputs": [
    {
     "data": {
      "text/html": [
       "<style  type=\"text/css\" >\n",
       "</style><table id=\"T_b5783_\" ><thead>    <tr>        <th class=\"blank level0\" ></th>        <th class=\"col_heading level0 col0\" >eu_sales</th>        <th class=\"col_heading level0 col1\" >jp_sales</th>        <th class=\"col_heading level0 col2\" >na_sales</th>    </tr>    <tr>        <th class=\"index_name level0\" >genre</th>        <th class=\"blank\" ></th>        <th class=\"blank\" ></th>        <th class=\"blank\" ></th>    </tr></thead><tbody>\n",
       "                <tr>\n",
       "                        <th id=\"T_b5783_level0_row0\" class=\"row_heading level0 row0\" >action</th>\n",
       "                        <td id=\"T_b5783_row0_col0\" class=\"data row0 col0\" >27.6%</td>\n",
       "                        <td id=\"T_b5783_row0_col1\" class=\"data row0 col1\" >31.8%</td>\n",
       "                        <td id=\"T_b5783_row0_col2\" class=\"data row0 col2\" >25.5%</td>\n",
       "            </tr>\n",
       "            <tr>\n",
       "                        <th id=\"T_b5783_level0_row1\" class=\"row_heading level0 row1\" >adventure</th>\n",
       "                        <td id=\"T_b5783_row1_col0\" class=\"data row1 col0\" >2.4%</td>\n",
       "                        <td id=\"T_b5783_row1_col1\" class=\"data row1 col1\" >3.9%</td>\n",
       "                        <td id=\"T_b5783_row1_col2\" class=\"data row1 col2\" >2.0%</td>\n",
       "            </tr>\n",
       "            <tr>\n",
       "                        <th id=\"T_b5783_level0_row2\" class=\"row_heading level0 row2\" >fighting</th>\n",
       "                        <td id=\"T_b5783_row2_col0\" class=\"data row2 col0\" >2.5%</td>\n",
       "                        <td id=\"T_b5783_row2_col1\" class=\"data row2 col1\" >6.8%</td>\n",
       "                        <td id=\"T_b5783_row2_col2\" class=\"data row2 col2\" >4.4%</td>\n",
       "            </tr>\n",
       "            <tr>\n",
       "                        <th id=\"T_b5783_level0_row3\" class=\"row_heading level0 row3\" >misc</th>\n",
       "                        <td id=\"T_b5783_row3_col0\" class=\"data row3 col0\" >4.8%</td>\n",
       "                        <td id=\"T_b5783_row3_col1\" class=\"data row3 col1\" >6.0%</td>\n",
       "                        <td id=\"T_b5783_row3_col2\" class=\"data row3 col2\" >5.3%</td>\n",
       "            </tr>\n",
       "            <tr>\n",
       "                        <th id=\"T_b5783_level0_row4\" class=\"row_heading level0 row4\" >platform</th>\n",
       "                        <td id=\"T_b5783_row4_col0\" class=\"data row4 col0\" >2.5%</td>\n",
       "                        <td id=\"T_b5783_row4_col1\" class=\"data row4 col1\" >2.9%</td>\n",
       "                        <td id=\"T_b5783_row4_col2\" class=\"data row4 col2\" >2.4%</td>\n",
       "            </tr>\n",
       "            <tr>\n",
       "                        <th id=\"T_b5783_level0_row5\" class=\"row_heading level0 row5\" >puzzle</th>\n",
       "                        <td id=\"T_b5783_row5_col0\" class=\"data row5 col0\" >0.2%</td>\n",
       "                        <td id=\"T_b5783_row5_col1\" class=\"data row5 col1\" >1.0%</td>\n",
       "                        <td id=\"T_b5783_row5_col2\" class=\"data row5 col2\" >0.2%</td>\n",
       "            </tr>\n",
       "            <tr>\n",
       "                        <th id=\"T_b5783_level0_row6\" class=\"row_heading level0 row6\" >racing</th>\n",
       "                        <td id=\"T_b5783_row6_col0\" class=\"data row6 col0\" >5.2%</td>\n",
       "                        <td id=\"T_b5783_row6_col1\" class=\"data row6 col1\" >1.9%</td>\n",
       "                        <td id=\"T_b5783_row6_col2\" class=\"data row6 col2\" >3.1%</td>\n",
       "            </tr>\n",
       "            <tr>\n",
       "                        <th id=\"T_b5783_level0_row7\" class=\"row_heading level0 row7\" >role-playing</th>\n",
       "                        <td id=\"T_b5783_row7_col0\" class=\"data row7 col0\" >10.4%</td>\n",
       "                        <td id=\"T_b5783_row7_col1\" class=\"data row7 col1\" >33.5%</td>\n",
       "                        <td id=\"T_b5783_row7_col2\" class=\"data row7 col2\" >11.8%</td>\n",
       "            </tr>\n",
       "            <tr>\n",
       "                        <th id=\"T_b5783_level0_row8\" class=\"row_heading level0 row8\" >shooter</th>\n",
       "                        <td id=\"T_b5783_row8_col0\" class=\"data row8 col0\" >24.2%</td>\n",
       "                        <td id=\"T_b5783_row8_col1\" class=\"data row8 col1\" >5.2%</td>\n",
       "                        <td id=\"T_b5783_row8_col2\" class=\"data row8 col2\" >27.8%</td>\n",
       "            </tr>\n",
       "            <tr>\n",
       "                        <th id=\"T_b5783_level0_row9\" class=\"row_heading level0 row9\" >simulation</th>\n",
       "                        <td id=\"T_b5783_row9_col0\" class=\"data row9 col0\" >2.7%</td>\n",
       "                        <td id=\"T_b5783_row9_col1\" class=\"data row9 col1\" >2.5%</td>\n",
       "                        <td id=\"T_b5783_row9_col2\" class=\"data row9 col2\" >0.9%</td>\n",
       "            </tr>\n",
       "            <tr>\n",
       "                        <th id=\"T_b5783_level0_row10\" class=\"row_heading level0 row10\" >sports</th>\n",
       "                        <td id=\"T_b5783_row10_col0\" class=\"data row10 col0\" >16.9%</td>\n",
       "                        <td id=\"T_b5783_row10_col1\" class=\"data row10 col1\" >3.5%</td>\n",
       "                        <td id=\"T_b5783_row10_col2\" class=\"data row10 col2\" >16.2%</td>\n",
       "            </tr>\n",
       "            <tr>\n",
       "                        <th id=\"T_b5783_level0_row11\" class=\"row_heading level0 row11\" >strategy</th>\n",
       "                        <td id=\"T_b5783_row11_col0\" class=\"data row11 col0\" >0.7%</td>\n",
       "                        <td id=\"T_b5783_row11_col1\" class=\"data row11 col1\" >1.0%</td>\n",
       "                        <td id=\"T_b5783_row11_col2\" class=\"data row11 col2\" >0.3%</td>\n",
       "            </tr>\n",
       "    </tbody></table>"
      ],
      "text/plain": [
       "<pandas.io.formats.style.Styler at 0x7f8312522850>"
      ]
     },
     "execution_count": 35,
     "metadata": {},
     "output_type": "execute_result"
    }
   ],
   "source": [
    "actual_data.pivot_table(\n",
    "    index = 'genre',\n",
    "    values = ['na_sales', 'eu_sales', 'jp_sales'],\n",
    "    aggfunc =  'sum'\n",
    ").apply(\n",
    "    lambda col: col / col.sum(), \n",
    "    axis=0\n",
    ").style.format(\"{:.1%}\")"
   ]
  },
  {
   "cell_type": "code",
   "execution_count": 36,
   "metadata": {},
   "outputs": [
    {
     "data": {
      "text/plain": [
       "<AxesSubplot:xlabel='genre'>"
      ]
     },
     "execution_count": 36,
     "metadata": {},
     "output_type": "execute_result"
    },
    {
     "data": {
      "image/png": "[encoded data removed]",
      "text/plain": [
       "<Figure size 504x504 with 1 Axes>"
      ]
     },
     "metadata": {
      "needs_background": "light"
     },
     "output_type": "display_data"
    }
   ],
   "source": [
    "actual_data.pivot_table(\n",
    "    index = 'genre',\n",
    "    values = ['na_sales', 'eu_sales', 'jp_sales'],\n",
    "    aggfunc =  'sum'\n",
    ").plot(kind='bar', figsize=(7,7))"
   ]
  },
  {
   "cell_type": "markdown",
   "metadata": {},
   "source": [
    "В Европе и северной Америке почти одинаково популярны жанры **action и shooter** (в Европе 27 и 24% соответственно. В Америке 25 и 27%). \\\n",
    "В Японии - **action и role-playing** 31 и 33 % соттветственно."
   ]
  },
  {
   "cell_type": "markdown",
   "metadata": {},
   "source": [
    "### Влияние рейтинга ESRB на продажи."
   ]
  },
  {
   "cell_type": "code",
   "execution_count": 37,
   "metadata": {},
   "outputs": [
    {
     "data": {
      "text/html": [
       "<style  type=\"text/css\" >\n",
       "</style><table id=\"T_d00d1_\" ><thead>    <tr>        <th class=\"blank level0\" ></th>        <th class=\"col_heading level0 col0\" >eu_sales</th>        <th class=\"col_heading level0 col1\" >jp_sales</th>        <th class=\"col_heading level0 col2\" >na_sales</th>    </tr>    <tr>        <th class=\"index_name level0\" >rating</th>        <th class=\"blank\" ></th>        <th class=\"blank\" ></th>        <th class=\"blank\" ></th>    </tr></thead><tbody>\n",
       "                <tr>\n",
       "                        <th id=\"T_d00d1_level0_row0\" class=\"row_heading level0 row0\" >e</th>\n",
       "                        <td id=\"T_d00d1_row0_col0\" class=\"data row0 col0\" >21.4%</td>\n",
       "                        <td id=\"T_d00d1_row0_col1\" class=\"data row0 col1\" >9.6%</td>\n",
       "                        <td id=\"T_d00d1_row0_col2\" class=\"data row0 col2\" >17.9%</td>\n",
       "            </tr>\n",
       "            <tr>\n",
       "                        <th id=\"T_d00d1_level0_row1\" class=\"row_heading level0 row1\" >e10+</th>\n",
       "                        <td id=\"T_d00d1_row1_col0\" class=\"data row1 col0\" >9.7%</td>\n",
       "                        <td id=\"T_d00d1_row1_col1\" class=\"data row1 col1\" >4.8%</td>\n",
       "                        <td id=\"T_d00d1_row1_col2\" class=\"data row1 col2\" >11.7%</td>\n",
       "            </tr>\n",
       "            <tr>\n",
       "                        <th id=\"T_d00d1_level0_row2\" class=\"row_heading level0 row2\" >m</th>\n",
       "                        <td id=\"T_d00d1_row2_col0\" class=\"data row2 col0\" >34.5%</td>\n",
       "                        <td id=\"T_d00d1_row2_col1\" class=\"data row2 col1\" >8.6%</td>\n",
       "                        <td id=\"T_d00d1_row2_col2\" class=\"data row2 col2\" >33.9%</td>\n",
       "            </tr>\n",
       "            <tr>\n",
       "                        <th id=\"T_d00d1_level0_row3\" class=\"row_heading level0 row3\" >out of rating</th>\n",
       "                        <td id=\"T_d00d1_row3_col0\" class=\"data row3 col0\" >21.8%</td>\n",
       "                        <td id=\"T_d00d1_row3_col1\" class=\"data row3 col1\" >61.1%</td>\n",
       "                        <td id=\"T_d00d1_row3_col2\" class=\"data row3 col2\" >22.8%</td>\n",
       "            </tr>\n",
       "            <tr>\n",
       "                        <th id=\"T_d00d1_level0_row4\" class=\"row_heading level0 row4\" >t</th>\n",
       "                        <td id=\"T_d00d1_row4_col0\" class=\"data row4 col0\" >12.6%</td>\n",
       "                        <td id=\"T_d00d1_row4_col1\" class=\"data row4 col1\" >15.9%</td>\n",
       "                        <td id=\"T_d00d1_row4_col2\" class=\"data row4 col2\" >13.7%</td>\n",
       "            </tr>\n",
       "    </tbody></table>"
      ],
      "text/plain": [
       "<pandas.io.formats.style.Styler at 0x7f831294a430>"
      ]
     },
     "execution_count": 37,
     "metadata": {},
     "output_type": "execute_result"
    }
   ],
   "source": [
    "actual_data.pivot_table(\n",
    "    index = 'rating',\n",
    "    values = ['na_sales', 'eu_sales', 'jp_sales'],\n",
    "    aggfunc =  'sum'\n",
    ").apply(\n",
    "    lambda col: col / col.sum(), \n",
    "    axis=0\n",
    ").style.format(\"{:.1%}\")"
   ]
  },
  {
   "cell_type": "code",
   "execution_count": 38,
   "metadata": {},
   "outputs": [
    {
     "data": {
      "text/plain": [
       "<AxesSubplot:xlabel='rating'>"
      ]
     },
     "execution_count": 38,
     "metadata": {},
     "output_type": "execute_result"
    },
    {
     "data": {
      "image/png": "[encoded data removed]",
      "text/plain": [
       "<Figure size 504x504 with 1 Axes>"
      ]
     },
     "metadata": {
      "needs_background": "light"
     },
     "output_type": "display_data"
    }
   ],
   "source": [
    "actual_data.pivot_table(\n",
    "    index = 'rating',\n",
    "    values = ['na_sales', 'eu_sales', 'jp_sales'],\n",
    "    aggfunc =  'sum'\n",
    ").plot(kind='bar', figsize=(7,7))"
   ]
  },
  {
   "cell_type": "markdown",
   "metadata": {},
   "source": [
    "Первое, что бросается в глаза: больше половины игр японского рынка - без рейтинга. Скорее всего это связано с тем, что в Японии рейтингом занимается не ESBP, а SARO.\\\n",
    "В Европе и Америке большинство игр имеет рейтинг М-mature. Скорее всего это связано с популярностью жанров **action и shooter** в которых присутствует насилие."
   ]
  },
  {
   "cell_type": "markdown",
   "metadata": {},
   "source": [
    "<div class=\"alert alert-info\">\n",
    "<b>Специально не вводил лишние переменные, так как они нам дальше не понадобятся. Строил графики сразу после аггрегации. Бритва Оккама в действии</b> \n",
    "</div>"
   ]
  },
  {
   "cell_type": "markdown",
   "metadata": {},
   "source": [
    "## Проверка гипотез"
   ]
  },
  {
   "cell_type": "markdown",
   "metadata": {},
   "source": [
    "### Проверим гипотезу о том, что средние пользовательские рейтинги платформ Xbox One и PC одинаковые.\n",
    "Будем рассматривать гипотезу:\\\n",
    "𝐻0={Средние пользовательские рейтинги на платформах XBox One и PC равны}\\\n",
    "Тогда:\\\n",
    "𝐻1={Средние пользовательские рейтинги на платформах XBox One и PC НЕ равны}"
   ]
  },
  {
   "cell_type": "markdown",
   "metadata": {},
   "source": [
    "Установим уровень статистической значимости  𝛼=0.05.\\\n",
    "Такой уровень является стандартным и наша задача слегкостью выдержит такой уровень точности.\\\n",
    "Генеральные Совокупности игроков на разных платформах не зависят друг от друга. Значит можно применять t-test.\\\n",
    "Равенство дисперсий и размер выборок позволяет. Он у нас явно > 30."
   ]
  },
  {
   "cell_type": "markdown",
   "metadata": {},
   "source": [
    "Так как на стадии предобратотки мы добавляли строковые значения в столбце и рейтингами, сначала удалим строки"
   ]
  },
  {
   "cell_type": "code",
   "execution_count": 39,
   "metadata": {},
   "outputs": [
    {
     "name": "stdout",
     "output_type": "stream",
     "text": [
      "p-значение:  0.31298852461234045\n",
      "Не получилось отвергнуть нулевую гипотезу\n"
     ]
    }
   ],
   "source": [
    "xone = actual_data.query('platform == \"xone\"').user_score.dropna().reset_index(drop=True)\n",
    "xone = xone.astype('int')\n",
    "pc = actual_data.query('platform == \"pc\"').user_score.dropna().reset_index(drop=True)\n",
    "pc = pc.astype('int')\n",
    "alpha = .05\n",
    "\n",
    "results = st.stats.ttest_ind(xone, pc, equal_var=False)\n",
    "\n",
    "print('p-значение: ', results.pvalue)\n",
    "if results.pvalue < alpha:\n",
    "    print(\"Отвергаем нулевую гипотезу\")\n",
    "else:\n",
    "    print(\"Не получилось отвергнуть нулевую гипотезу\")"
   ]
  },
  {
   "cell_type": "markdown",
   "metadata": {},
   "source": [
    "Так как нулевую гипотезу отвергнуть не удалось то согласно тесту мы НЕ можем утверждать, что средние пользовательские рейтинги на платформах Xbox One и PC отличаются."
   ]
  },
  {
   "cell_type": "markdown",
   "metadata": {},
   "source": [
    "### Пользовательские рейтинги жанров Action и Sports равны."
   ]
  },
  {
   "cell_type": "markdown",
   "metadata": {},
   "source": [
    "Будем рассматривать гипотезу: \\\n",
    "𝐻0={Средние пользовательские рейтинги жанров Action и Sports равны.}\\\n",
    "Тогда:\\\n",
    "𝐻1={Средние пользовательские рейтинги жанров Action и Sports НЕ равны}"
   ]
  },
  {
   "cell_type": "code",
   "execution_count": 40,
   "metadata": {},
   "outputs": [
    {
     "name": "stdout",
     "output_type": "stream",
     "text": [
      "p-значение:  0.0005042389385397203\n",
      "Отвергаем нулевую гипотезу\n"
     ]
    }
   ],
   "source": [
    "action = actual_data.query('genre == \"action\"').user_score.dropna().reset_index(drop=True)\n",
    "action = action.astype('int')\n",
    "sports = actual_data.query('genre == \"sports\"').user_score.dropna().reset_index(drop=True)\n",
    "sports = sports.astype('int')\n",
    "alpha = .05\n",
    "\n",
    "results = st.stats.ttest_ind(action, sports, equal_var=False)\n",
    "\n",
    "print('p-значение: ', results.pvalue)    # тест двухсторонний\n",
    "if results.pvalue < alpha:\n",
    "    print(\"Отвергаем нулевую гипотезу\")\n",
    "else:\n",
    "    print(\"Не получилось отвергнуть нулевую гипотезу\")"
   ]
  },
  {
   "cell_type": "markdown",
   "metadata": {},
   "source": [
    "Так как мы отвергаем нулевую гипотезу, то согласно тесту средние пользовательские рейтинги жанров Action и Sports отличаются."
   ]
  },
  {
   "cell_type": "markdown",
   "metadata": {},
   "source": [
    "## Общий вывод"
   ]
  },
  {
   "cell_type": "markdown",
   "metadata": {},
   "source": [
    "### В результате выполненного исследования, можем прийти к следующим выводам.\n",
    "- Рынок игр зародился в далеком 1980 году, но бурно развиваться начал только с 1995 года.\n",
    "- После 2011 года произошел спад (возможно насыщение) рынка.\n",
    "- Самыми перспективными платформами оказались: Sony PlayStation 4 и Xbox One от Microsoft.\n",
    "- На момент исследования рынок всех платформ падает.\n",
    "- Актуальный период исследования для такой динамичной сферы 2-3 года. Все данные дата-сета нам не понадобились.\n",
    "- Рынок консолей живет по своим правилам, отличающимся от ПК-гейминга.\n",
    "- Можно сделать вывод, что Shooter, Sport, Platform - самые интересные жанры с точки зрения средней прибыльности.\n",
    "- Наименьшая средняя прибыль в жанре puzzle.\n",
    "- В Европе и северной Америке почти одинаково популярны жанры action и shooter (в Европе 27 и 24% соответственно. В Америке 25 и 27%). В Японии - action и role-playing 31 и 33 % соттветственно.\n",
    "- Больше половины игр японского рынка - без рейтинга. Скорее всего это связано с тем, что в Японии рейтингом занимается не ESBP, а SARO.\n",
    "- В Европе и Америке большинство игр имеет рейтинг М-mature. Скорее всего это связано с популярностью жанров action и shooter в которых присутствует насилие.\n",
    "- Согласно t-тесту мы НЕ можем утверждать, что средние пользовательские рейтинги на платформах Xbox One и PC отличаются.\n",
    "- Cогласно t-тесту средние пользовательские рейтинги жанров Action и Sports отличаются."
   ]
  },
  {
   "cell_type": "markdown",
   "metadata": {},
   "source": [
    "Отдельно хочу отметить то, что при выполнении проекта немного сказывался дефицит времени. В связи с чем прошу простить мне легкую сумбурность и не лучшего качества оформление во второй половине проекта ))"
   ]
  }
 ],
 "metadata": {
  "ExecuteTimeLog": [
   {
    "duration": 1305,
    "start_time": "2023-02-26T11:02:57.031Z"
   },
   {
    "duration": 139,
    "start_time": "2023-02-26T11:03:00.611Z"
   },
   {
    "duration": 26,
    "start_time": "2023-02-26T11:03:03.556Z"
   },
   {
    "duration": 20,
    "start_time": "2023-02-26T11:21:58.614Z"
   },
   {
    "duration": 32,
    "start_time": "2023-02-26T11:22:09.558Z"
   },
   {
    "duration": 983,
    "start_time": "2023-02-26T11:23:25.631Z"
   },
   {
    "duration": 786,
    "start_time": "2023-02-26T11:23:41.950Z"
   },
   {
    "duration": 934,
    "start_time": "2023-02-26T11:23:52.911Z"
   },
   {
    "duration": 8,
    "start_time": "2023-02-26T11:58:15.225Z"
   },
   {
    "duration": 4,
    "start_time": "2023-02-26T11:58:21.088Z"
   },
   {
    "duration": 6,
    "start_time": "2023-02-26T12:05:24.850Z"
   },
   {
    "duration": 5,
    "start_time": "2023-02-26T12:05:49.170Z"
   },
   {
    "duration": 5,
    "start_time": "2023-02-26T12:06:21.290Z"
   },
   {
    "duration": 6,
    "start_time": "2023-02-26T12:06:22.369Z"
   },
   {
    "duration": 8,
    "start_time": "2023-02-26T12:06:53.533Z"
   },
   {
    "duration": 4,
    "start_time": "2023-02-26T12:06:54.617Z"
   },
   {
    "duration": 4,
    "start_time": "2023-02-26T12:06:56.490Z"
   },
   {
    "duration": 1200,
    "start_time": "2023-02-26T12:07:12.626Z"
   },
   {
    "duration": 50,
    "start_time": "2023-02-26T12:07:13.830Z"
   },
   {
    "duration": 24,
    "start_time": "2023-02-26T12:07:13.882Z"
   },
   {
    "duration": 14,
    "start_time": "2023-02-26T12:07:13.909Z"
   },
   {
    "duration": 34,
    "start_time": "2023-02-26T12:07:13.924Z"
   },
   {
    "duration": 797,
    "start_time": "2023-02-26T12:07:13.960Z"
   },
   {
    "duration": 5,
    "start_time": "2023-02-26T12:07:14.759Z"
   },
   {
    "duration": 43,
    "start_time": "2023-02-26T12:07:14.765Z"
   },
   {
    "duration": 9,
    "start_time": "2023-02-26T12:07:14.809Z"
   },
   {
    "duration": 120,
    "start_time": "2023-02-26T12:09:30.847Z"
   },
   {
    "duration": 772,
    "start_time": "2023-02-26T12:12:57.711Z"
   },
   {
    "duration": 16,
    "start_time": "2023-02-26T12:13:20.460Z"
   },
   {
    "duration": 12,
    "start_time": "2023-02-26T12:13:33.276Z"
   },
   {
    "duration": 11,
    "start_time": "2023-02-26T12:13:40.772Z"
   },
   {
    "duration": 840,
    "start_time": "2023-02-26T12:13:51.667Z"
   },
   {
    "duration": 17,
    "start_time": "2023-02-26T12:19:46.877Z"
   },
   {
    "duration": 20,
    "start_time": "2023-02-26T12:20:38.580Z"
   },
   {
    "duration": 34,
    "start_time": "2023-02-26T12:27:31.574Z"
   },
   {
    "duration": 44,
    "start_time": "2023-02-26T12:27:45.142Z"
   },
   {
    "duration": 41,
    "start_time": "2023-02-26T12:28:19.353Z"
   },
   {
    "duration": 24,
    "start_time": "2023-02-26T12:28:26.951Z"
   },
   {
    "duration": 22,
    "start_time": "2023-02-26T12:29:59.238Z"
   },
   {
    "duration": 1167,
    "start_time": "2023-02-26T12:36:27.571Z"
   },
   {
    "duration": 52,
    "start_time": "2023-02-26T12:36:28.740Z"
   },
   {
    "duration": 25,
    "start_time": "2023-02-26T12:36:28.794Z"
   },
   {
    "duration": 13,
    "start_time": "2023-02-26T12:36:28.822Z"
   },
   {
    "duration": 36,
    "start_time": "2023-02-26T12:36:28.837Z"
   },
   {
    "duration": 853,
    "start_time": "2023-02-26T12:36:28.875Z"
   },
   {
    "duration": 4,
    "start_time": "2023-02-26T12:36:29.730Z"
   },
   {
    "duration": 25,
    "start_time": "2023-02-26T12:36:29.736Z"
   },
   {
    "duration": 13,
    "start_time": "2023-02-26T12:36:29.763Z"
   },
   {
    "duration": 31,
    "start_time": "2023-02-26T12:36:29.778Z"
   },
   {
    "duration": 35,
    "start_time": "2023-02-26T12:36:29.811Z"
   },
   {
    "duration": 105,
    "start_time": "2023-02-26T12:54:20.845Z"
   },
   {
    "duration": 9,
    "start_time": "2023-02-26T12:54:39.086Z"
   },
   {
    "duration": 5,
    "start_time": "2023-02-26T12:54:44.790Z"
   },
   {
    "duration": 9,
    "start_time": "2023-02-26T13:02:02.757Z"
   },
   {
    "duration": 7,
    "start_time": "2023-02-26T13:02:22.261Z"
   },
   {
    "duration": 7,
    "start_time": "2023-02-26T13:02:57.774Z"
   },
   {
    "duration": 11,
    "start_time": "2023-02-26T13:03:15.901Z"
   },
   {
    "duration": 7,
    "start_time": "2023-02-26T13:03:28.053Z"
   },
   {
    "duration": 6,
    "start_time": "2023-02-26T13:19:58.819Z"
   },
   {
    "duration": 6,
    "start_time": "2023-02-26T13:20:11.538Z"
   },
   {
    "duration": 6,
    "start_time": "2023-02-26T13:20:25.787Z"
   },
   {
    "duration": 9,
    "start_time": "2023-02-26T13:20:42.108Z"
   },
   {
    "duration": 5,
    "start_time": "2023-02-26T13:20:51.395Z"
   },
   {
    "duration": 5,
    "start_time": "2023-02-26T13:22:55.036Z"
   },
   {
    "duration": 5,
    "start_time": "2023-02-26T13:23:18.036Z"
   },
   {
    "duration": 7,
    "start_time": "2023-02-26T13:25:21.421Z"
   },
   {
    "duration": 7,
    "start_time": "2023-02-26T13:25:23.013Z"
   },
   {
    "duration": 17,
    "start_time": "2023-02-26T13:31:09.159Z"
   },
   {
    "duration": 23,
    "start_time": "2023-02-26T14:00:14.381Z"
   },
   {
    "duration": 401,
    "start_time": "2023-02-26T14:00:37.196Z"
   },
   {
    "duration": 1352,
    "start_time": "2023-02-26T14:00:55.921Z"
   },
   {
    "duration": 64,
    "start_time": "2023-02-26T14:00:57.276Z"
   },
   {
    "duration": 41,
    "start_time": "2023-02-26T14:00:57.343Z"
   },
   {
    "duration": 25,
    "start_time": "2023-02-26T14:00:57.388Z"
   },
   {
    "duration": 43,
    "start_time": "2023-02-26T14:00:57.428Z"
   },
   {
    "duration": 801,
    "start_time": "2023-02-26T14:00:57.473Z"
   },
   {
    "duration": 8,
    "start_time": "2023-02-26T14:00:58.275Z"
   },
   {
    "duration": 30,
    "start_time": "2023-02-26T14:00:58.285Z"
   },
   {
    "duration": 24,
    "start_time": "2023-02-26T14:00:58.317Z"
   },
   {
    "duration": 43,
    "start_time": "2023-02-26T14:00:58.344Z"
   },
   {
    "duration": 23,
    "start_time": "2023-02-26T14:00:58.390Z"
   },
   {
    "duration": 6,
    "start_time": "2023-02-26T14:00:58.415Z"
   },
   {
    "duration": 23,
    "start_time": "2023-02-26T14:00:58.428Z"
   },
   {
    "duration": 502,
    "start_time": "2023-02-26T14:00:58.453Z"
   },
   {
    "duration": 0,
    "start_time": "2023-02-26T14:00:58.957Z"
   },
   {
    "duration": 0,
    "start_time": "2023-02-26T14:00:58.958Z"
   },
   {
    "duration": 7,
    "start_time": "2023-02-26T14:01:36.157Z"
   },
   {
    "duration": 1201,
    "start_time": "2023-02-26T14:02:53.698Z"
   },
   {
    "duration": 50,
    "start_time": "2023-02-26T14:02:54.901Z"
   },
   {
    "duration": 24,
    "start_time": "2023-02-26T14:02:54.953Z"
   },
   {
    "duration": 14,
    "start_time": "2023-02-26T14:02:54.980Z"
   },
   {
    "duration": 50,
    "start_time": "2023-02-26T14:02:54.996Z"
   },
   {
    "duration": 784,
    "start_time": "2023-02-26T14:02:55.048Z"
   },
   {
    "duration": 5,
    "start_time": "2023-02-26T14:02:55.834Z"
   },
   {
    "duration": 7,
    "start_time": "2023-02-26T14:02:55.841Z"
   },
   {
    "duration": 4,
    "start_time": "2023-02-26T14:02:55.850Z"
   },
   {
    "duration": 25,
    "start_time": "2023-02-26T14:02:55.856Z"
   },
   {
    "duration": 48,
    "start_time": "2023-02-26T14:02:55.883Z"
   },
   {
    "duration": 5,
    "start_time": "2023-02-26T14:02:55.933Z"
   },
   {
    "duration": 7,
    "start_time": "2023-02-26T14:02:55.940Z"
   },
   {
    "duration": 444,
    "start_time": "2023-02-26T14:02:55.949Z"
   },
   {
    "duration": 0,
    "start_time": "2023-02-26T14:02:56.397Z"
   },
   {
    "duration": 0,
    "start_time": "2023-02-26T14:02:56.398Z"
   },
   {
    "duration": 374,
    "start_time": "2023-02-26T14:03:17.757Z"
   },
   {
    "duration": 12,
    "start_time": "2023-02-26T14:03:34.326Z"
   },
   {
    "duration": 358,
    "start_time": "2023-02-26T14:03:41.446Z"
   },
   {
    "duration": 201,
    "start_time": "2023-02-26T14:14:18.588Z"
   },
   {
    "duration": 1076,
    "start_time": "2023-02-26T14:14:30.669Z"
   },
   {
    "duration": 48,
    "start_time": "2023-02-26T14:14:31.747Z"
   },
   {
    "duration": 25,
    "start_time": "2023-02-26T14:14:31.797Z"
   },
   {
    "duration": 16,
    "start_time": "2023-02-26T14:14:31.825Z"
   },
   {
    "duration": 30,
    "start_time": "2023-02-26T14:14:31.843Z"
   },
   {
    "duration": 791,
    "start_time": "2023-02-26T14:14:31.875Z"
   },
   {
    "duration": 6,
    "start_time": "2023-02-26T14:14:32.669Z"
   },
   {
    "duration": 304,
    "start_time": "2023-02-26T14:14:32.678Z"
   },
   {
    "duration": 0,
    "start_time": "2023-02-26T14:14:32.984Z"
   },
   {
    "duration": 0,
    "start_time": "2023-02-26T14:14:32.985Z"
   },
   {
    "duration": 0,
    "start_time": "2023-02-26T14:14:32.986Z"
   },
   {
    "duration": 0,
    "start_time": "2023-02-26T14:14:32.987Z"
   },
   {
    "duration": 0,
    "start_time": "2023-02-26T14:14:32.989Z"
   },
   {
    "duration": 0,
    "start_time": "2023-02-26T14:14:32.990Z"
   },
   {
    "duration": 0,
    "start_time": "2023-02-26T14:14:32.991Z"
   },
   {
    "duration": 0,
    "start_time": "2023-02-26T14:14:32.992Z"
   },
   {
    "duration": 3,
    "start_time": "2023-02-26T14:14:51.154Z"
   },
   {
    "duration": 4,
    "start_time": "2023-02-26T14:15:01.290Z"
   },
   {
    "duration": 1198,
    "start_time": "2023-02-26T14:15:08.367Z"
   },
   {
    "duration": 47,
    "start_time": "2023-02-26T14:15:09.567Z"
   },
   {
    "duration": 27,
    "start_time": "2023-02-26T14:15:09.615Z"
   },
   {
    "duration": 20,
    "start_time": "2023-02-26T14:15:09.643Z"
   },
   {
    "duration": 68,
    "start_time": "2023-02-26T14:15:09.666Z"
   },
   {
    "duration": 935,
    "start_time": "2023-02-26T14:15:09.737Z"
   },
   {
    "duration": 4,
    "start_time": "2023-02-26T14:15:10.674Z"
   },
   {
    "duration": 5,
    "start_time": "2023-02-26T14:15:10.680Z"
   },
   {
    "duration": 8,
    "start_time": "2023-02-26T14:15:10.687Z"
   },
   {
    "duration": 43,
    "start_time": "2023-02-26T14:15:10.697Z"
   },
   {
    "duration": 31,
    "start_time": "2023-02-26T14:15:10.742Z"
   },
   {
    "duration": 5,
    "start_time": "2023-02-26T14:15:10.775Z"
   },
   {
    "duration": 19,
    "start_time": "2023-02-26T14:15:10.782Z"
   },
   {
    "duration": 10,
    "start_time": "2023-02-26T14:15:10.805Z"
   },
   {
    "duration": 7,
    "start_time": "2023-02-26T14:15:10.828Z"
   },
   {
    "duration": 12,
    "start_time": "2023-02-26T14:15:10.838Z"
   },
   {
    "duration": 1209,
    "start_time": "2023-02-26T14:18:47.328Z"
   },
   {
    "duration": 51,
    "start_time": "2023-02-26T14:18:48.539Z"
   },
   {
    "duration": 24,
    "start_time": "2023-02-26T14:18:48.592Z"
   },
   {
    "duration": 34,
    "start_time": "2023-02-26T14:18:48.619Z"
   },
   {
    "duration": 33,
    "start_time": "2023-02-26T14:18:48.655Z"
   },
   {
    "duration": 746,
    "start_time": "2023-02-26T14:18:48.690Z"
   },
   {
    "duration": 4,
    "start_time": "2023-02-26T14:18:49.438Z"
   },
   {
    "duration": 11,
    "start_time": "2023-02-26T14:18:49.444Z"
   },
   {
    "duration": 6,
    "start_time": "2023-02-26T14:18:49.456Z"
   },
   {
    "duration": 21,
    "start_time": "2023-02-26T14:18:49.465Z"
   },
   {
    "duration": 39,
    "start_time": "2023-02-26T14:18:49.488Z"
   },
   {
    "duration": 5,
    "start_time": "2023-02-26T14:18:49.529Z"
   },
   {
    "duration": 19,
    "start_time": "2023-02-26T14:18:49.535Z"
   },
   {
    "duration": 17,
    "start_time": "2023-02-26T14:18:49.555Z"
   },
   {
    "duration": 6,
    "start_time": "2023-02-26T14:18:49.574Z"
   },
   {
    "duration": 6,
    "start_time": "2023-02-26T14:18:49.582Z"
   },
   {
    "duration": 122,
    "start_time": "2023-02-26T14:24:30.347Z"
   },
   {
    "duration": 6,
    "start_time": "2023-02-26T14:24:47.011Z"
   },
   {
    "duration": 1133,
    "start_time": "2023-02-26T14:24:57.139Z"
   },
   {
    "duration": 49,
    "start_time": "2023-02-26T14:24:58.274Z"
   },
   {
    "duration": 24,
    "start_time": "2023-02-26T14:24:58.324Z"
   },
   {
    "duration": 18,
    "start_time": "2023-02-26T14:24:58.351Z"
   },
   {
    "duration": 29,
    "start_time": "2023-02-26T14:24:58.371Z"
   },
   {
    "duration": 757,
    "start_time": "2023-02-26T14:24:58.402Z"
   },
   {
    "duration": 3,
    "start_time": "2023-02-26T14:24:59.161Z"
   },
   {
    "duration": 15,
    "start_time": "2023-02-26T14:24:59.166Z"
   },
   {
    "duration": 9,
    "start_time": "2023-02-26T14:24:59.182Z"
   },
   {
    "duration": 26,
    "start_time": "2023-02-26T14:24:59.193Z"
   },
   {
    "duration": 19,
    "start_time": "2023-02-26T14:24:59.221Z"
   },
   {
    "duration": 4,
    "start_time": "2023-02-26T14:24:59.242Z"
   },
   {
    "duration": 9,
    "start_time": "2023-02-26T14:24:59.248Z"
   },
   {
    "duration": 8,
    "start_time": "2023-02-26T14:24:59.258Z"
   },
   {
    "duration": 5,
    "start_time": "2023-02-26T14:27:27.741Z"
   },
   {
    "duration": 101,
    "start_time": "2023-02-26T14:27:49.791Z"
   },
   {
    "duration": 8,
    "start_time": "2023-02-26T14:27:59.179Z"
   },
   {
    "duration": 1089,
    "start_time": "2023-02-26T14:28:05.681Z"
   },
   {
    "duration": 49,
    "start_time": "2023-02-26T14:28:06.772Z"
   },
   {
    "duration": 24,
    "start_time": "2023-02-26T14:28:06.822Z"
   },
   {
    "duration": 14,
    "start_time": "2023-02-26T14:28:06.848Z"
   },
   {
    "duration": 28,
    "start_time": "2023-02-26T14:28:06.864Z"
   },
   {
    "duration": 801,
    "start_time": "2023-02-26T14:28:06.893Z"
   },
   {
    "duration": 4,
    "start_time": "2023-02-26T14:28:07.696Z"
   },
   {
    "duration": 9,
    "start_time": "2023-02-26T14:28:07.701Z"
   },
   {
    "duration": 16,
    "start_time": "2023-02-26T14:28:07.712Z"
   },
   {
    "duration": 24,
    "start_time": "2023-02-26T14:28:07.731Z"
   },
   {
    "duration": 18,
    "start_time": "2023-02-26T14:28:07.756Z"
   },
   {
    "duration": 4,
    "start_time": "2023-02-26T14:28:07.776Z"
   },
   {
    "duration": 7,
    "start_time": "2023-02-26T14:28:07.781Z"
   },
   {
    "duration": 8,
    "start_time": "2023-02-26T14:28:07.789Z"
   },
   {
    "duration": 29,
    "start_time": "2023-02-26T14:28:07.798Z"
   },
   {
    "duration": 6,
    "start_time": "2023-02-26T14:28:15.780Z"
   },
   {
    "duration": 1159,
    "start_time": "2023-02-26T14:28:25.727Z"
   },
   {
    "duration": 52,
    "start_time": "2023-02-26T14:28:26.889Z"
   },
   {
    "duration": 31,
    "start_time": "2023-02-26T14:28:26.943Z"
   },
   {
    "duration": 52,
    "start_time": "2023-02-26T14:28:26.977Z"
   },
   {
    "duration": 28,
    "start_time": "2023-02-26T14:28:27.031Z"
   },
   {
    "duration": 776,
    "start_time": "2023-02-26T14:28:27.061Z"
   },
   {
    "duration": 6,
    "start_time": "2023-02-26T14:28:27.839Z"
   },
   {
    "duration": 5,
    "start_time": "2023-02-26T14:28:27.847Z"
   },
   {
    "duration": 8,
    "start_time": "2023-02-26T14:28:27.854Z"
   },
   {
    "duration": 24,
    "start_time": "2023-02-26T14:28:27.864Z"
   },
   {
    "duration": 17,
    "start_time": "2023-02-26T14:28:27.890Z"
   },
   {
    "duration": 19,
    "start_time": "2023-02-26T14:28:27.908Z"
   },
   {
    "duration": 4,
    "start_time": "2023-02-26T14:28:27.929Z"
   },
   {
    "duration": 9,
    "start_time": "2023-02-26T14:28:27.934Z"
   },
   {
    "duration": 8,
    "start_time": "2023-02-26T14:28:27.944Z"
   },
   {
    "duration": 6,
    "start_time": "2023-02-26T14:32:03.572Z"
   },
   {
    "duration": 5,
    "start_time": "2023-02-26T14:38:03.885Z"
   },
   {
    "duration": 6,
    "start_time": "2023-02-26T14:38:52.774Z"
   },
   {
    "duration": 1128,
    "start_time": "2023-02-26T14:39:11.084Z"
   },
   {
    "duration": 48,
    "start_time": "2023-02-26T14:39:12.215Z"
   },
   {
    "duration": 25,
    "start_time": "2023-02-26T14:39:12.264Z"
   },
   {
    "duration": 15,
    "start_time": "2023-02-26T14:39:12.291Z"
   },
   {
    "duration": 38,
    "start_time": "2023-02-26T14:39:12.309Z"
   },
   {
    "duration": 782,
    "start_time": "2023-02-26T14:39:12.349Z"
   },
   {
    "duration": 4,
    "start_time": "2023-02-26T14:39:13.133Z"
   },
   {
    "duration": 5,
    "start_time": "2023-02-26T14:39:13.139Z"
   },
   {
    "duration": 7,
    "start_time": "2023-02-26T14:39:13.145Z"
   },
   {
    "duration": 26,
    "start_time": "2023-02-26T14:39:13.153Z"
   },
   {
    "duration": 22,
    "start_time": "2023-02-26T14:39:13.180Z"
   },
   {
    "duration": 26,
    "start_time": "2023-02-26T14:39:13.204Z"
   },
   {
    "duration": 16,
    "start_time": "2023-02-26T14:39:13.231Z"
   },
   {
    "duration": 14,
    "start_time": "2023-02-26T14:39:13.250Z"
   },
   {
    "duration": 8,
    "start_time": "2023-02-26T14:39:13.266Z"
   },
   {
    "duration": 7,
    "start_time": "2023-02-26T14:52:33.647Z"
   },
   {
    "duration": 33,
    "start_time": "2023-02-26T14:52:46.616Z"
   },
   {
    "duration": 7,
    "start_time": "2023-02-26T14:53:28.973Z"
   },
   {
    "duration": 19,
    "start_time": "2023-02-26T14:53:30.785Z"
   },
   {
    "duration": 1140,
    "start_time": "2023-02-26T14:53:50.679Z"
   },
   {
    "duration": 56,
    "start_time": "2023-02-26T14:53:51.821Z"
   },
   {
    "duration": 26,
    "start_time": "2023-02-26T14:53:51.879Z"
   },
   {
    "duration": 14,
    "start_time": "2023-02-26T14:53:51.907Z"
   },
   {
    "duration": 34,
    "start_time": "2023-02-26T14:53:51.923Z"
   },
   {
    "duration": 820,
    "start_time": "2023-02-26T14:53:51.959Z"
   },
   {
    "duration": 5,
    "start_time": "2023-02-26T14:53:52.780Z"
   },
   {
    "duration": 5,
    "start_time": "2023-02-26T14:53:52.787Z"
   },
   {
    "duration": 5,
    "start_time": "2023-02-26T14:53:52.794Z"
   },
   {
    "duration": 48,
    "start_time": "2023-02-26T14:53:52.802Z"
   },
   {
    "duration": 19,
    "start_time": "2023-02-26T14:53:52.851Z"
   },
   {
    "duration": 4,
    "start_time": "2023-02-26T14:53:52.872Z"
   },
   {
    "duration": 8,
    "start_time": "2023-02-26T14:53:52.878Z"
   },
   {
    "duration": 11,
    "start_time": "2023-02-26T14:53:52.887Z"
   },
   {
    "duration": 33,
    "start_time": "2023-02-26T14:53:52.899Z"
   },
   {
    "duration": 21,
    "start_time": "2023-02-26T14:53:52.934Z"
   },
   {
    "duration": 1082,
    "start_time": "2023-02-26T14:54:04.265Z"
   },
   {
    "duration": 49,
    "start_time": "2023-02-26T14:54:05.349Z"
   },
   {
    "duration": 25,
    "start_time": "2023-02-26T14:54:05.402Z"
   },
   {
    "duration": 15,
    "start_time": "2023-02-26T14:54:05.428Z"
   },
   {
    "duration": 28,
    "start_time": "2023-02-26T14:54:05.444Z"
   },
   {
    "duration": 814,
    "start_time": "2023-02-26T14:54:05.474Z"
   },
   {
    "duration": 5,
    "start_time": "2023-02-26T14:54:06.290Z"
   },
   {
    "duration": 5,
    "start_time": "2023-02-26T14:54:06.297Z"
   },
   {
    "duration": 7,
    "start_time": "2023-02-26T14:54:06.305Z"
   },
   {
    "duration": 25,
    "start_time": "2023-02-26T14:54:06.327Z"
   },
   {
    "duration": 25,
    "start_time": "2023-02-26T14:54:06.354Z"
   },
   {
    "duration": 6,
    "start_time": "2023-02-26T14:54:06.381Z"
   },
   {
    "duration": 23,
    "start_time": "2023-02-26T14:54:06.389Z"
   },
   {
    "duration": 27,
    "start_time": "2023-02-26T14:54:06.414Z"
   },
   {
    "duration": 13,
    "start_time": "2023-02-26T14:54:06.443Z"
   },
   {
    "duration": 28,
    "start_time": "2023-02-26T14:54:06.457Z"
   },
   {
    "duration": 104,
    "start_time": "2023-02-26T15:05:48.568Z"
   },
   {
    "duration": 9,
    "start_time": "2023-02-26T15:05:59.444Z"
   },
   {
    "duration": 8,
    "start_time": "2023-02-26T15:06:05.160Z"
   },
   {
    "duration": 20,
    "start_time": "2023-02-26T15:06:15.504Z"
   },
   {
    "duration": 1325,
    "start_time": "2023-02-26T15:06:37.242Z"
   },
   {
    "duration": 49,
    "start_time": "2023-02-26T15:06:38.569Z"
   },
   {
    "duration": 39,
    "start_time": "2023-02-26T15:06:38.621Z"
   },
   {
    "duration": 22,
    "start_time": "2023-02-26T15:06:38.664Z"
   },
   {
    "duration": 66,
    "start_time": "2023-02-26T15:06:38.688Z"
   },
   {
    "duration": 919,
    "start_time": "2023-02-26T15:06:38.756Z"
   },
   {
    "duration": 6,
    "start_time": "2023-02-26T15:06:39.676Z"
   },
   {
    "duration": 14,
    "start_time": "2023-02-26T15:06:39.684Z"
   },
   {
    "duration": 13,
    "start_time": "2023-02-26T15:06:39.700Z"
   },
   {
    "duration": 28,
    "start_time": "2023-02-26T15:06:39.726Z"
   },
   {
    "duration": 29,
    "start_time": "2023-02-26T15:06:39.756Z"
   },
   {
    "duration": 5,
    "start_time": "2023-02-26T15:06:39.788Z"
   },
   {
    "duration": 33,
    "start_time": "2023-02-26T15:06:39.796Z"
   },
   {
    "duration": 16,
    "start_time": "2023-02-26T15:06:39.831Z"
   },
   {
    "duration": 27,
    "start_time": "2023-02-26T15:06:39.850Z"
   },
   {
    "duration": 22,
    "start_time": "2023-02-26T15:06:39.880Z"
   },
   {
    "duration": 14,
    "start_time": "2023-02-26T15:06:39.904Z"
   },
   {
    "duration": 27,
    "start_time": "2023-02-26T15:06:39.920Z"
   },
   {
    "duration": 1180,
    "start_time": "2023-02-26T15:13:34.214Z"
   },
   {
    "duration": 53,
    "start_time": "2023-02-26T15:13:35.396Z"
   },
   {
    "duration": 24,
    "start_time": "2023-02-26T15:13:35.451Z"
   },
   {
    "duration": 18,
    "start_time": "2023-02-26T15:13:35.477Z"
   },
   {
    "duration": 36,
    "start_time": "2023-02-26T15:13:35.497Z"
   },
   {
    "duration": 792,
    "start_time": "2023-02-26T15:13:35.535Z"
   },
   {
    "duration": 6,
    "start_time": "2023-02-26T15:13:36.329Z"
   },
   {
    "duration": 23,
    "start_time": "2023-02-26T15:13:36.337Z"
   },
   {
    "duration": 9,
    "start_time": "2023-02-26T15:13:36.362Z"
   },
   {
    "duration": 33,
    "start_time": "2023-02-26T15:13:36.373Z"
   },
   {
    "duration": 46,
    "start_time": "2023-02-26T15:13:36.407Z"
   },
   {
    "duration": 5,
    "start_time": "2023-02-26T15:13:36.455Z"
   },
   {
    "duration": 18,
    "start_time": "2023-02-26T15:13:36.463Z"
   },
   {
    "duration": 12,
    "start_time": "2023-02-26T15:13:36.483Z"
   },
   {
    "duration": 17,
    "start_time": "2023-02-26T15:13:36.497Z"
   },
   {
    "duration": 19,
    "start_time": "2023-02-26T15:19:18.082Z"
   },
   {
    "duration": 13,
    "start_time": "2023-02-26T15:19:28.802Z"
   },
   {
    "duration": 102,
    "start_time": "2023-02-26T15:34:07.940Z"
   },
   {
    "duration": 35,
    "start_time": "2023-02-26T15:34:25.163Z"
   },
   {
    "duration": 1229,
    "start_time": "2023-02-26T15:37:58.251Z"
   },
   {
    "duration": 48,
    "start_time": "2023-02-26T15:37:59.481Z"
   },
   {
    "duration": 24,
    "start_time": "2023-02-26T15:37:59.531Z"
   },
   {
    "duration": 14,
    "start_time": "2023-02-26T15:37:59.557Z"
   },
   {
    "duration": 28,
    "start_time": "2023-02-26T15:37:59.573Z"
   },
   {
    "duration": 828,
    "start_time": "2023-02-26T15:37:59.602Z"
   },
   {
    "duration": 5,
    "start_time": "2023-02-26T15:38:00.432Z"
   },
   {
    "duration": 31,
    "start_time": "2023-02-26T15:38:00.439Z"
   },
   {
    "duration": 27,
    "start_time": "2023-02-26T15:38:00.472Z"
   },
   {
    "duration": 39,
    "start_time": "2023-02-26T15:38:00.503Z"
   },
   {
    "duration": 21,
    "start_time": "2023-02-26T15:38:00.544Z"
   },
   {
    "duration": 852,
    "start_time": "2023-02-26T15:38:00.567Z"
   },
   {
    "duration": 0,
    "start_time": "2023-02-26T15:38:01.421Z"
   },
   {
    "duration": 0,
    "start_time": "2023-02-26T15:38:01.423Z"
   },
   {
    "duration": 0,
    "start_time": "2023-02-26T15:38:01.424Z"
   },
   {
    "duration": 0,
    "start_time": "2023-02-26T15:38:01.425Z"
   },
   {
    "duration": 0,
    "start_time": "2023-02-26T15:38:01.426Z"
   },
   {
    "duration": 8,
    "start_time": "2023-02-26T15:38:34.284Z"
   },
   {
    "duration": 4,
    "start_time": "2023-02-26T15:38:37.788Z"
   },
   {
    "duration": 26,
    "start_time": "2023-02-26T15:38:39.204Z"
   },
   {
    "duration": 13,
    "start_time": "2023-02-26T15:39:04.740Z"
   },
   {
    "duration": 16,
    "start_time": "2023-02-26T15:39:05.445Z"
   },
   {
    "duration": 1283,
    "start_time": "2023-02-26T15:44:54.141Z"
   },
   {
    "duration": 51,
    "start_time": "2023-02-26T15:44:55.426Z"
   },
   {
    "duration": 24,
    "start_time": "2023-02-26T15:44:55.479Z"
   },
   {
    "duration": 14,
    "start_time": "2023-02-26T15:44:55.505Z"
   },
   {
    "duration": 29,
    "start_time": "2023-02-26T15:44:55.526Z"
   },
   {
    "duration": 788,
    "start_time": "2023-02-26T15:44:55.557Z"
   },
   {
    "duration": 4,
    "start_time": "2023-02-26T15:44:56.347Z"
   },
   {
    "duration": 5,
    "start_time": "2023-02-26T15:44:56.352Z"
   },
   {
    "duration": 5,
    "start_time": "2023-02-26T15:44:56.359Z"
   },
   {
    "duration": 29,
    "start_time": "2023-02-26T15:44:56.366Z"
   },
   {
    "duration": 48,
    "start_time": "2023-02-26T15:44:56.396Z"
   },
   {
    "duration": 5,
    "start_time": "2023-02-26T15:44:56.446Z"
   },
   {
    "duration": 8,
    "start_time": "2023-02-26T15:44:56.453Z"
   },
   {
    "duration": 12,
    "start_time": "2023-02-26T15:44:56.464Z"
   },
   {
    "duration": 11,
    "start_time": "2023-02-26T15:44:56.478Z"
   },
   {
    "duration": 45,
    "start_time": "2023-02-26T15:44:56.491Z"
   },
   {
    "duration": 46,
    "start_time": "2023-02-26T15:44:56.537Z"
   },
   {
    "duration": 0,
    "start_time": "2023-02-26T15:44:56.584Z"
   },
   {
    "duration": 1248,
    "start_time": "2023-02-26T15:46:07.008Z"
   },
   {
    "duration": 50,
    "start_time": "2023-02-26T15:46:08.258Z"
   },
   {
    "duration": 24,
    "start_time": "2023-02-26T15:46:08.310Z"
   },
   {
    "duration": 14,
    "start_time": "2023-02-26T15:46:08.337Z"
   },
   {
    "duration": 33,
    "start_time": "2023-02-26T15:46:08.352Z"
   },
   {
    "duration": 795,
    "start_time": "2023-02-26T15:46:08.386Z"
   },
   {
    "duration": 4,
    "start_time": "2023-02-26T15:46:09.183Z"
   },
   {
    "duration": 26,
    "start_time": "2023-02-26T15:46:09.189Z"
   },
   {
    "duration": 10,
    "start_time": "2023-02-26T15:46:09.217Z"
   },
   {
    "duration": 26,
    "start_time": "2023-02-26T15:46:09.229Z"
   },
   {
    "duration": 21,
    "start_time": "2023-02-26T15:46:09.257Z"
   },
   {
    "duration": 6,
    "start_time": "2023-02-26T15:46:09.280Z"
   },
   {
    "duration": 9,
    "start_time": "2023-02-26T15:46:09.287Z"
   },
   {
    "duration": 30,
    "start_time": "2023-02-26T15:46:09.298Z"
   },
   {
    "duration": 13,
    "start_time": "2023-02-26T15:46:09.330Z"
   },
   {
    "duration": 16,
    "start_time": "2023-02-26T15:46:09.344Z"
   },
   {
    "duration": 6,
    "start_time": "2023-02-26T15:46:09.362Z"
   },
   {
    "duration": 29,
    "start_time": "2023-02-26T15:57:16.199Z"
   },
   {
    "duration": 12,
    "start_time": "2023-02-26T15:57:31.152Z"
   },
   {
    "duration": 17,
    "start_time": "2023-02-26T15:57:52.033Z"
   },
   {
    "duration": 109,
    "start_time": "2023-02-26T15:59:55.024Z"
   },
   {
    "duration": 15,
    "start_time": "2023-02-26T16:00:05.832Z"
   },
   {
    "duration": 1114,
    "start_time": "2023-02-26T16:00:47.462Z"
   },
   {
    "duration": 51,
    "start_time": "2023-02-26T16:00:48.578Z"
   },
   {
    "duration": 25,
    "start_time": "2023-02-26T16:00:48.631Z"
   },
   {
    "duration": 21,
    "start_time": "2023-02-26T16:00:48.659Z"
   },
   {
    "duration": 47,
    "start_time": "2023-02-26T16:00:48.682Z"
   },
   {
    "duration": 791,
    "start_time": "2023-02-26T16:00:48.731Z"
   },
   {
    "duration": 5,
    "start_time": "2023-02-26T16:00:49.524Z"
   },
   {
    "duration": 9,
    "start_time": "2023-02-26T16:00:49.530Z"
   },
   {
    "duration": 6,
    "start_time": "2023-02-26T16:00:49.541Z"
   },
   {
    "duration": 23,
    "start_time": "2023-02-26T16:00:49.550Z"
   },
   {
    "duration": 19,
    "start_time": "2023-02-26T16:00:49.575Z"
   },
   {
    "duration": 5,
    "start_time": "2023-02-26T16:00:49.595Z"
   },
   {
    "duration": 30,
    "start_time": "2023-02-26T16:00:49.601Z"
   },
   {
    "duration": 8,
    "start_time": "2023-02-26T16:00:49.632Z"
   },
   {
    "duration": 10,
    "start_time": "2023-02-26T16:00:49.641Z"
   },
   {
    "duration": 7,
    "start_time": "2023-02-26T16:00:49.653Z"
   },
   {
    "duration": 11,
    "start_time": "2023-02-26T16:00:49.661Z"
   },
   {
    "duration": 14,
    "start_time": "2023-02-26T16:00:49.674Z"
   },
   {
    "duration": 26,
    "start_time": "2023-02-26T16:05:10.408Z"
   },
   {
    "duration": 5,
    "start_time": "2023-02-26T16:08:53.421Z"
   },
   {
    "duration": 22,
    "start_time": "2023-02-26T16:08:54.858Z"
   },
   {
    "duration": 1152,
    "start_time": "2023-02-26T16:09:05.094Z"
   },
   {
    "duration": 53,
    "start_time": "2023-02-26T16:09:06.248Z"
   },
   {
    "duration": 28,
    "start_time": "2023-02-26T16:09:06.302Z"
   },
   {
    "duration": 43,
    "start_time": "2023-02-26T16:09:06.333Z"
   },
   {
    "duration": 39,
    "start_time": "2023-02-26T16:09:06.378Z"
   },
   {
    "duration": 860,
    "start_time": "2023-02-26T16:09:06.419Z"
   },
   {
    "duration": 5,
    "start_time": "2023-02-26T16:09:07.280Z"
   },
   {
    "duration": 9,
    "start_time": "2023-02-26T16:09:07.287Z"
   },
   {
    "duration": 7,
    "start_time": "2023-02-26T16:09:07.298Z"
   },
   {
    "duration": 35,
    "start_time": "2023-02-26T16:09:07.308Z"
   },
   {
    "duration": 19,
    "start_time": "2023-02-26T16:09:07.344Z"
   },
   {
    "duration": 7,
    "start_time": "2023-02-26T16:09:07.365Z"
   },
   {
    "duration": 9,
    "start_time": "2023-02-26T16:09:07.374Z"
   },
   {
    "duration": 9,
    "start_time": "2023-02-26T16:09:07.385Z"
   },
   {
    "duration": 37,
    "start_time": "2023-02-26T16:09:07.395Z"
   },
   {
    "duration": 9,
    "start_time": "2023-02-26T16:09:07.433Z"
   },
   {
    "duration": 11,
    "start_time": "2023-02-26T16:09:07.444Z"
   },
   {
    "duration": 14,
    "start_time": "2023-02-26T16:09:07.456Z"
   },
   {
    "duration": 5,
    "start_time": "2023-02-26T16:09:07.471Z"
   },
   {
    "duration": 25,
    "start_time": "2023-02-26T16:09:07.477Z"
   },
   {
    "duration": 1158,
    "start_time": "2023-02-26T16:16:40.950Z"
   },
   {
    "duration": 49,
    "start_time": "2023-02-26T16:16:42.110Z"
   },
   {
    "duration": 25,
    "start_time": "2023-02-26T16:16:42.161Z"
   },
   {
    "duration": 15,
    "start_time": "2023-02-26T16:16:42.187Z"
   },
   {
    "duration": 46,
    "start_time": "2023-02-26T16:16:42.204Z"
   },
   {
    "duration": 776,
    "start_time": "2023-02-26T16:16:42.252Z"
   },
   {
    "duration": 4,
    "start_time": "2023-02-26T16:16:43.030Z"
   },
   {
    "duration": 8,
    "start_time": "2023-02-26T16:16:43.036Z"
   },
   {
    "duration": 15,
    "start_time": "2023-02-26T16:16:43.045Z"
   },
   {
    "duration": 31,
    "start_time": "2023-02-26T16:16:43.062Z"
   },
   {
    "duration": 18,
    "start_time": "2023-02-26T16:16:43.095Z"
   },
   {
    "duration": 16,
    "start_time": "2023-02-26T16:16:43.114Z"
   },
   {
    "duration": 5,
    "start_time": "2023-02-26T16:16:43.132Z"
   },
   {
    "duration": 8,
    "start_time": "2023-02-26T16:16:43.139Z"
   },
   {
    "duration": 10,
    "start_time": "2023-02-26T16:16:43.149Z"
   },
   {
    "duration": 58,
    "start_time": "2023-02-26T16:16:43.161Z"
   },
   {
    "duration": 17,
    "start_time": "2023-02-26T16:16:43.221Z"
   },
   {
    "duration": 15,
    "start_time": "2023-02-26T16:16:43.239Z"
   },
   {
    "duration": 4,
    "start_time": "2023-02-26T16:16:43.255Z"
   },
   {
    "duration": 22,
    "start_time": "2023-02-26T16:16:43.261Z"
   },
   {
    "duration": 603,
    "start_time": "2023-02-26T16:28:53.072Z"
   },
   {
    "duration": 1471,
    "start_time": "2023-02-26T16:29:25.741Z"
   },
   {
    "duration": 97,
    "start_time": "2023-02-26T16:29:49.615Z"
   },
   {
    "duration": 248,
    "start_time": "2023-02-26T16:30:08.856Z"
   },
   {
    "duration": 283,
    "start_time": "2023-02-26T16:30:20.146Z"
   },
   {
    "duration": 195,
    "start_time": "2023-02-26T16:30:35.376Z"
   },
   {
    "duration": 178,
    "start_time": "2023-02-26T16:30:51.592Z"
   },
   {
    "duration": 278,
    "start_time": "2023-02-26T16:30:58.488Z"
   },
   {
    "duration": 15,
    "start_time": "2023-02-26T16:37:51.711Z"
   },
   {
    "duration": 23,
    "start_time": "2023-02-26T16:38:42.394Z"
   },
   {
    "duration": 16,
    "start_time": "2023-02-26T16:38:54.687Z"
   },
   {
    "duration": 18,
    "start_time": "2023-02-26T16:46:43.488Z"
   },
   {
    "duration": 13,
    "start_time": "2023-02-26T16:53:33.710Z"
   },
   {
    "duration": 17,
    "start_time": "2023-02-26T16:54:01.327Z"
   },
   {
    "duration": 13,
    "start_time": "2023-02-26T16:54:15.862Z"
   },
   {
    "duration": 18,
    "start_time": "2023-02-26T16:54:52.229Z"
   },
   {
    "duration": 17,
    "start_time": "2023-02-26T16:55:04.175Z"
   },
   {
    "duration": 26,
    "start_time": "2023-02-26T16:55:15.655Z"
   },
   {
    "duration": 13,
    "start_time": "2023-02-26T16:56:32.519Z"
   },
   {
    "duration": 16,
    "start_time": "2023-02-26T17:04:34.686Z"
   },
   {
    "duration": 14,
    "start_time": "2023-02-26T17:05:11.781Z"
   },
   {
    "duration": 1166,
    "start_time": "2023-02-26T17:10:23.688Z"
   },
   {
    "duration": 49,
    "start_time": "2023-02-26T17:10:24.856Z"
   },
   {
    "duration": 25,
    "start_time": "2023-02-26T17:10:24.907Z"
   },
   {
    "duration": 13,
    "start_time": "2023-02-26T17:10:24.934Z"
   },
   {
    "duration": 28,
    "start_time": "2023-02-26T17:10:24.949Z"
   },
   {
    "duration": 783,
    "start_time": "2023-02-26T17:10:24.979Z"
   },
   {
    "duration": 5,
    "start_time": "2023-02-26T17:10:25.764Z"
   },
   {
    "duration": 4,
    "start_time": "2023-02-26T17:10:25.771Z"
   },
   {
    "duration": 7,
    "start_time": "2023-02-26T17:10:25.777Z"
   },
   {
    "duration": 47,
    "start_time": "2023-02-26T17:10:25.788Z"
   },
   {
    "duration": 20,
    "start_time": "2023-02-26T17:10:25.836Z"
   },
   {
    "duration": 5,
    "start_time": "2023-02-26T17:10:25.857Z"
   },
   {
    "duration": 8,
    "start_time": "2023-02-26T17:10:25.863Z"
   },
   {
    "duration": 9,
    "start_time": "2023-02-26T17:10:25.873Z"
   },
   {
    "duration": 11,
    "start_time": "2023-02-26T17:10:25.883Z"
   },
   {
    "duration": 35,
    "start_time": "2023-02-26T17:10:25.895Z"
   },
   {
    "duration": 13,
    "start_time": "2023-02-26T17:10:25.932Z"
   },
   {
    "duration": 17,
    "start_time": "2023-02-26T17:10:25.947Z"
   },
   {
    "duration": 5,
    "start_time": "2023-02-26T17:10:25.967Z"
   },
   {
    "duration": 54,
    "start_time": "2023-02-26T17:10:25.974Z"
   },
   {
    "duration": 14,
    "start_time": "2023-02-26T17:10:26.030Z"
   },
   {
    "duration": 210,
    "start_time": "2023-02-26T17:10:26.046Z"
   },
   {
    "duration": 15,
    "start_time": "2023-02-26T17:50:45.652Z"
   },
   {
    "duration": 120,
    "start_time": "2023-02-26T17:51:46.402Z"
   },
   {
    "duration": 21,
    "start_time": "2023-02-26T17:52:04.457Z"
   },
   {
    "duration": 19,
    "start_time": "2023-02-26T17:52:20.369Z"
   },
   {
    "duration": 17,
    "start_time": "2023-02-26T17:55:23.399Z"
   },
   {
    "duration": 11,
    "start_time": "2023-02-26T17:56:28.871Z"
   },
   {
    "duration": 20,
    "start_time": "2023-02-26T17:57:42.527Z"
   },
   {
    "duration": 10,
    "start_time": "2023-02-26T17:58:26.343Z"
   },
   {
    "duration": 8,
    "start_time": "2023-02-26T17:58:34.151Z"
   },
   {
    "duration": 13,
    "start_time": "2023-02-26T18:01:50.670Z"
   },
   {
    "duration": 13,
    "start_time": "2023-02-26T18:01:59.159Z"
   },
   {
    "duration": 50,
    "start_time": "2023-02-26T18:06:04.014Z"
   },
   {
    "duration": 16,
    "start_time": "2023-02-26T18:06:09.758Z"
   },
   {
    "duration": 10,
    "start_time": "2023-02-26T18:12:17.455Z"
   },
   {
    "duration": 8,
    "start_time": "2023-02-26T18:12:24.807Z"
   },
   {
    "duration": 592,
    "start_time": "2023-02-26T18:13:29.910Z"
   },
   {
    "duration": 1139,
    "start_time": "2023-02-26T18:13:49.415Z"
   },
   {
    "duration": 1168,
    "start_time": "2023-02-26T18:14:05.439Z"
   },
   {
    "duration": 55,
    "start_time": "2023-02-26T18:14:06.610Z"
   },
   {
    "duration": 29,
    "start_time": "2023-02-26T18:14:06.667Z"
   },
   {
    "duration": 27,
    "start_time": "2023-02-26T18:14:06.699Z"
   },
   {
    "duration": 34,
    "start_time": "2023-02-26T18:14:06.728Z"
   },
   {
    "duration": 788,
    "start_time": "2023-02-26T18:14:06.764Z"
   },
   {
    "duration": 4,
    "start_time": "2023-02-26T18:14:07.554Z"
   },
   {
    "duration": 16,
    "start_time": "2023-02-26T18:14:07.560Z"
   },
   {
    "duration": 17,
    "start_time": "2023-02-26T18:14:07.578Z"
   },
   {
    "duration": 36,
    "start_time": "2023-02-26T18:14:07.598Z"
   },
   {
    "duration": 28,
    "start_time": "2023-02-26T18:14:07.636Z"
   },
   {
    "duration": 5,
    "start_time": "2023-02-26T18:14:07.666Z"
   },
   {
    "duration": 10,
    "start_time": "2023-02-26T18:14:07.673Z"
   },
   {
    "duration": 10,
    "start_time": "2023-02-26T18:14:07.686Z"
   },
   {
    "duration": 27,
    "start_time": "2023-02-26T18:14:07.698Z"
   },
   {
    "duration": 13,
    "start_time": "2023-02-26T18:14:07.726Z"
   },
   {
    "duration": 15,
    "start_time": "2023-02-26T18:14:07.741Z"
   },
   {
    "duration": 14,
    "start_time": "2023-02-26T18:14:07.758Z"
   },
   {
    "duration": 7,
    "start_time": "2023-02-26T18:14:07.774Z"
   },
   {
    "duration": 25,
    "start_time": "2023-02-26T18:14:07.783Z"
   },
   {
    "duration": 42,
    "start_time": "2023-02-26T18:14:07.811Z"
   },
   {
    "duration": 199,
    "start_time": "2023-02-26T18:14:07.855Z"
   },
   {
    "duration": 17,
    "start_time": "2023-02-26T18:14:08.056Z"
   },
   {
    "duration": 8,
    "start_time": "2023-02-26T18:14:08.074Z"
   },
   {
    "duration": 986,
    "start_time": "2023-02-26T18:14:08.084Z"
   },
   {
    "duration": 1101,
    "start_time": "2023-02-26T18:15:13.887Z"
   },
   {
    "duration": 1141,
    "start_time": "2023-02-26T18:21:49.114Z"
   },
   {
    "duration": 59,
    "start_time": "2023-02-26T18:21:50.257Z"
   },
   {
    "duration": 35,
    "start_time": "2023-02-26T18:21:50.318Z"
   },
   {
    "duration": 19,
    "start_time": "2023-02-26T18:21:50.356Z"
   },
   {
    "duration": 42,
    "start_time": "2023-02-26T18:21:50.377Z"
   },
   {
    "duration": 849,
    "start_time": "2023-02-26T18:21:50.441Z"
   },
   {
    "duration": 4,
    "start_time": "2023-02-26T18:21:51.292Z"
   },
   {
    "duration": 7,
    "start_time": "2023-02-26T18:21:51.298Z"
   },
   {
    "duration": 11,
    "start_time": "2023-02-26T18:21:51.306Z"
   },
   {
    "duration": 31,
    "start_time": "2023-02-26T18:21:51.328Z"
   },
   {
    "duration": 29,
    "start_time": "2023-02-26T18:21:51.360Z"
   },
   {
    "duration": 5,
    "start_time": "2023-02-26T18:21:51.391Z"
   },
   {
    "duration": 9,
    "start_time": "2023-02-26T18:21:51.397Z"
   },
   {
    "duration": 28,
    "start_time": "2023-02-26T18:21:51.408Z"
   },
   {
    "duration": 13,
    "start_time": "2023-02-26T18:21:51.437Z"
   },
   {
    "duration": 7,
    "start_time": "2023-02-26T18:21:51.451Z"
   },
   {
    "duration": 12,
    "start_time": "2023-02-26T18:21:51.460Z"
   },
   {
    "duration": 23,
    "start_time": "2023-02-26T18:21:51.473Z"
   },
   {
    "duration": 11,
    "start_time": "2023-02-26T18:21:51.498Z"
   },
   {
    "duration": 34,
    "start_time": "2023-02-26T18:21:51.511Z"
   },
   {
    "duration": 14,
    "start_time": "2023-02-26T18:21:51.546Z"
   },
   {
    "duration": 206,
    "start_time": "2023-02-26T18:21:51.562Z"
   },
   {
    "duration": 17,
    "start_time": "2023-02-26T18:21:51.769Z"
   },
   {
    "duration": 31,
    "start_time": "2023-02-26T18:21:51.787Z"
   },
   {
    "duration": 1078,
    "start_time": "2023-02-26T18:21:51.820Z"
   },
   {
    "duration": 7,
    "start_time": "2023-02-26T18:38:17.315Z"
   },
   {
    "duration": 412,
    "start_time": "2023-02-26T18:50:36.486Z"
   },
   {
    "duration": 194,
    "start_time": "2023-02-26T18:51:00.036Z"
   },
   {
    "duration": 15,
    "start_time": "2023-02-26T18:51:20.775Z"
   },
   {
    "duration": 29,
    "start_time": "2023-02-26T18:51:43.261Z"
   },
   {
    "duration": 264,
    "start_time": "2023-02-26T18:51:58.485Z"
   },
   {
    "duration": 284,
    "start_time": "2023-02-26T18:52:14.702Z"
   },
   {
    "duration": 305,
    "start_time": "2023-02-26T18:52:43.975Z"
   },
   {
    "duration": 1219,
    "start_time": "2023-02-26T18:52:53.409Z"
   },
   {
    "duration": 67,
    "start_time": "2023-02-26T18:52:54.642Z"
   },
   {
    "duration": 33,
    "start_time": "2023-02-26T18:52:54.711Z"
   },
   {
    "duration": 14,
    "start_time": "2023-02-26T18:52:54.747Z"
   },
   {
    "duration": 29,
    "start_time": "2023-02-26T18:52:54.762Z"
   },
   {
    "duration": 796,
    "start_time": "2023-02-26T18:52:54.793Z"
   },
   {
    "duration": 4,
    "start_time": "2023-02-26T18:52:55.591Z"
   },
   {
    "duration": 22,
    "start_time": "2023-02-26T18:52:55.597Z"
   },
   {
    "duration": 28,
    "start_time": "2023-02-26T18:52:55.621Z"
   },
   {
    "duration": 27,
    "start_time": "2023-02-26T18:52:55.651Z"
   },
   {
    "duration": 19,
    "start_time": "2023-02-26T18:52:55.680Z"
   },
   {
    "duration": 4,
    "start_time": "2023-02-26T18:52:55.701Z"
   },
   {
    "duration": 5,
    "start_time": "2023-02-26T18:52:55.708Z"
   },
   {
    "duration": 23,
    "start_time": "2023-02-26T18:52:55.714Z"
   },
   {
    "duration": 20,
    "start_time": "2023-02-26T18:52:55.739Z"
   },
   {
    "duration": 9,
    "start_time": "2023-02-26T18:52:55.761Z"
   },
   {
    "duration": 13,
    "start_time": "2023-02-26T18:52:55.772Z"
   },
   {
    "duration": 13,
    "start_time": "2023-02-26T18:52:55.787Z"
   },
   {
    "duration": 4,
    "start_time": "2023-02-26T18:52:55.802Z"
   },
   {
    "duration": 44,
    "start_time": "2023-02-26T18:52:55.808Z"
   },
   {
    "duration": 14,
    "start_time": "2023-02-26T18:52:55.854Z"
   },
   {
    "duration": 204,
    "start_time": "2023-02-26T18:52:55.870Z"
   },
   {
    "duration": 19,
    "start_time": "2023-02-26T18:52:56.075Z"
   },
   {
    "duration": 9,
    "start_time": "2023-02-26T18:52:56.095Z"
   },
   {
    "duration": 1049,
    "start_time": "2023-02-26T18:52:56.105Z"
   },
   {
    "duration": 6,
    "start_time": "2023-02-26T18:52:57.155Z"
   },
   {
    "duration": 372,
    "start_time": "2023-02-26T18:52:57.162Z"
   },
   {
    "duration": 290,
    "start_time": "2023-02-26T18:53:07.310Z"
   },
   {
    "duration": 1331,
    "start_time": "2023-02-26T19:11:26.403Z"
   },
   {
    "duration": 56,
    "start_time": "2023-02-26T19:11:27.737Z"
   },
   {
    "duration": 51,
    "start_time": "2023-02-26T19:11:27.795Z"
   },
   {
    "duration": 25,
    "start_time": "2023-02-26T19:11:27.850Z"
   },
   {
    "duration": 29,
    "start_time": "2023-02-26T19:11:27.877Z"
   },
   {
    "duration": 879,
    "start_time": "2023-02-26T19:11:27.908Z"
   },
   {
    "duration": 6,
    "start_time": "2023-02-26T19:11:28.790Z"
   },
   {
    "duration": 7,
    "start_time": "2023-02-26T19:11:28.798Z"
   },
   {
    "duration": 35,
    "start_time": "2023-02-26T19:11:28.807Z"
   },
   {
    "duration": 35,
    "start_time": "2023-02-26T19:11:28.846Z"
   },
   {
    "duration": 27,
    "start_time": "2023-02-26T19:11:28.884Z"
   },
   {
    "duration": 5,
    "start_time": "2023-02-26T19:11:28.913Z"
   },
   {
    "duration": 12,
    "start_time": "2023-02-26T19:11:28.934Z"
   },
   {
    "duration": 10,
    "start_time": "2023-02-26T19:11:28.948Z"
   },
   {
    "duration": 14,
    "start_time": "2023-02-26T19:11:28.960Z"
   },
   {
    "duration": 8,
    "start_time": "2023-02-26T19:11:28.976Z"
   },
   {
    "duration": 25,
    "start_time": "2023-02-26T19:11:28.986Z"
   },
   {
    "duration": 27,
    "start_time": "2023-02-26T19:11:29.014Z"
   },
   {
    "duration": 8,
    "start_time": "2023-02-26T19:11:29.043Z"
   },
   {
    "duration": 26,
    "start_time": "2023-02-26T19:11:29.053Z"
   },
   {
    "duration": 62,
    "start_time": "2023-02-26T19:11:29.081Z"
   },
   {
    "duration": 206,
    "start_time": "2023-02-26T19:11:29.145Z"
   },
   {
    "duration": 19,
    "start_time": "2023-02-26T19:11:29.353Z"
   },
   {
    "duration": 9,
    "start_time": "2023-02-26T19:11:29.374Z"
   },
   {
    "duration": 1093,
    "start_time": "2023-02-26T19:11:29.384Z"
   },
   {
    "duration": 8,
    "start_time": "2023-02-26T19:11:30.479Z"
   },
   {
    "duration": 517,
    "start_time": "2023-02-26T19:11:30.489Z"
   },
   {
    "duration": 196,
    "start_time": "2023-02-26T19:22:47.375Z"
   },
   {
    "duration": 1224,
    "start_time": "2023-02-26T19:25:00.769Z"
   },
   {
    "duration": 57,
    "start_time": "2023-02-26T19:25:01.995Z"
   },
   {
    "duration": 30,
    "start_time": "2023-02-26T19:25:02.055Z"
   },
   {
    "duration": 20,
    "start_time": "2023-02-26T19:25:02.088Z"
   },
   {
    "duration": 53,
    "start_time": "2023-02-26T19:25:02.110Z"
   },
   {
    "duration": 930,
    "start_time": "2023-02-26T19:25:02.165Z"
   },
   {
    "duration": 7,
    "start_time": "2023-02-26T19:25:03.097Z"
   },
   {
    "duration": 12,
    "start_time": "2023-02-26T19:25:03.106Z"
   },
   {
    "duration": 25,
    "start_time": "2023-02-26T19:25:03.130Z"
   },
   {
    "duration": 32,
    "start_time": "2023-02-26T19:25:03.158Z"
   },
   {
    "duration": 20,
    "start_time": "2023-02-26T19:25:03.191Z"
   },
   {
    "duration": 5,
    "start_time": "2023-02-26T19:25:03.213Z"
   },
   {
    "duration": 17,
    "start_time": "2023-02-26T19:25:03.219Z"
   },
   {
    "duration": 19,
    "start_time": "2023-02-26T19:25:03.238Z"
   },
   {
    "duration": 19,
    "start_time": "2023-02-26T19:25:03.258Z"
   },
   {
    "duration": 15,
    "start_time": "2023-02-26T19:25:03.290Z"
   },
   {
    "duration": 43,
    "start_time": "2023-02-26T19:25:03.307Z"
   },
   {
    "duration": 19,
    "start_time": "2023-02-26T19:25:03.351Z"
   },
   {
    "duration": 5,
    "start_time": "2023-02-26T19:25:03.372Z"
   },
   {
    "duration": 24,
    "start_time": "2023-02-26T19:25:03.379Z"
   },
   {
    "duration": 48,
    "start_time": "2023-02-26T19:25:03.405Z"
   },
   {
    "duration": 218,
    "start_time": "2023-02-26T19:25:03.455Z"
   },
   {
    "duration": 18,
    "start_time": "2023-02-26T19:25:03.675Z"
   },
   {
    "duration": 8,
    "start_time": "2023-02-26T19:25:03.695Z"
   },
   {
    "duration": 1155,
    "start_time": "2023-02-26T19:25:03.705Z"
   },
   {
    "duration": 5,
    "start_time": "2023-02-26T19:25:04.863Z"
   },
   {
    "duration": 415,
    "start_time": "2023-02-26T19:25:04.870Z"
   },
   {
    "duration": 14,
    "start_time": "2023-02-26T19:38:56.490Z"
   },
   {
    "duration": 124,
    "start_time": "2023-02-26T20:09:49.725Z"
   },
   {
    "duration": 342,
    "start_time": "2023-02-26T20:10:21.420Z"
   },
   {
    "duration": 11,
    "start_time": "2023-02-26T20:10:47.652Z"
   },
   {
    "duration": 250,
    "start_time": "2023-02-26T20:11:25.404Z"
   },
   {
    "duration": 274,
    "start_time": "2023-02-26T20:12:27.212Z"
   },
   {
    "duration": 326,
    "start_time": "2023-02-26T20:18:30.579Z"
   },
   {
    "duration": 346,
    "start_time": "2023-02-26T20:19:04.460Z"
   },
   {
    "duration": 262,
    "start_time": "2023-02-26T20:20:09.349Z"
   },
   {
    "duration": 580,
    "start_time": "2023-02-26T20:26:31.683Z"
   },
   {
    "duration": 32648,
    "start_time": "2023-02-26T20:33:12.928Z"
   },
   {
    "duration": 18382,
    "start_time": "2023-02-26T20:35:46.860Z"
   },
   {
    "duration": 566,
    "start_time": "2023-02-26T20:39:39.793Z"
   },
   {
    "duration": 559,
    "start_time": "2023-02-26T20:39:57.515Z"
   },
   {
    "duration": 533,
    "start_time": "2023-02-26T20:40:32.106Z"
   },
   {
    "duration": 14,
    "start_time": "2023-02-26T21:05:35.371Z"
   },
   {
    "duration": 51,
    "start_time": "2023-02-26T21:07:24.708Z"
   },
   {
    "duration": 14,
    "start_time": "2023-02-26T21:22:07.248Z"
   },
   {
    "duration": 18,
    "start_time": "2023-02-26T21:22:27.144Z"
   },
   {
    "duration": 15,
    "start_time": "2023-02-26T21:32:07.347Z"
   },
   {
    "duration": 14,
    "start_time": "2023-02-26T21:44:51.332Z"
   },
   {
    "duration": 1099,
    "start_time": "2023-02-26T21:45:31.247Z"
   },
   {
    "duration": 49,
    "start_time": "2023-02-26T21:45:32.348Z"
   },
   {
    "duration": 23,
    "start_time": "2023-02-26T21:45:32.398Z"
   },
   {
    "duration": 16,
    "start_time": "2023-02-26T21:45:32.426Z"
   },
   {
    "duration": 31,
    "start_time": "2023-02-26T21:45:32.444Z"
   },
   {
    "duration": 851,
    "start_time": "2023-02-26T21:45:32.476Z"
   },
   {
    "duration": 4,
    "start_time": "2023-02-26T21:45:33.329Z"
   },
   {
    "duration": 4,
    "start_time": "2023-02-26T21:45:33.335Z"
   },
   {
    "duration": 7,
    "start_time": "2023-02-26T21:45:33.340Z"
   },
   {
    "duration": 22,
    "start_time": "2023-02-26T21:45:33.349Z"
   },
   {
    "duration": 18,
    "start_time": "2023-02-26T21:45:33.373Z"
   },
   {
    "duration": 4,
    "start_time": "2023-02-26T21:45:33.393Z"
   },
   {
    "duration": 8,
    "start_time": "2023-02-26T21:45:33.427Z"
   },
   {
    "duration": 10,
    "start_time": "2023-02-26T21:45:33.437Z"
   },
   {
    "duration": 11,
    "start_time": "2023-02-26T21:45:33.448Z"
   },
   {
    "duration": 8,
    "start_time": "2023-02-26T21:45:33.460Z"
   },
   {
    "duration": 11,
    "start_time": "2023-02-26T21:45:33.470Z"
   },
   {
    "duration": 47,
    "start_time": "2023-02-26T21:45:33.483Z"
   },
   {
    "duration": 6,
    "start_time": "2023-02-26T21:45:33.532Z"
   },
   {
    "duration": 21,
    "start_time": "2023-02-26T21:45:33.539Z"
   },
   {
    "duration": 14,
    "start_time": "2023-02-26T21:45:33.561Z"
   },
   {
    "duration": 210,
    "start_time": "2023-02-26T21:45:33.577Z"
   },
   {
    "duration": 16,
    "start_time": "2023-02-26T21:45:33.789Z"
   },
   {
    "duration": 22,
    "start_time": "2023-02-26T21:45:33.806Z"
   },
   {
    "duration": 982,
    "start_time": "2023-02-26T21:45:33.829Z"
   },
   {
    "duration": 5,
    "start_time": "2023-02-26T21:45:34.813Z"
   },
   {
    "duration": 349,
    "start_time": "2023-02-26T21:45:34.820Z"
   },
   {
    "duration": 255,
    "start_time": "2023-02-26T21:45:35.172Z"
   },
   {
    "duration": 251,
    "start_time": "2023-02-26T21:45:35.429Z"
   },
   {
    "duration": 17587,
    "start_time": "2023-02-26T21:45:35.682Z"
   },
   {
    "duration": 549,
    "start_time": "2023-02-26T21:45:53.272Z"
   },
   {
    "duration": 51,
    "start_time": "2023-02-26T21:45:53.822Z"
   },
   {
    "duration": 16,
    "start_time": "2023-02-26T21:45:53.876Z"
   },
   {
    "duration": 42,
    "start_time": "2023-02-26T21:45:53.894Z"
   },
   {
    "duration": 120,
    "start_time": "2023-02-26T21:45:53.937Z"
   },
   {
    "duration": 26,
    "start_time": "2023-02-26T22:18:27.196Z"
   },
   {
    "duration": 22,
    "start_time": "2023-02-26T22:20:13.853Z"
   },
   {
    "duration": 861,
    "start_time": "2023-02-26T22:20:47.965Z"
   },
   {
    "duration": 758,
    "start_time": "2023-02-26T22:21:14.764Z"
   },
   {
    "duration": 728,
    "start_time": "2023-02-26T22:24:21.156Z"
   },
   {
    "duration": 21,
    "start_time": "2023-02-26T22:25:03.725Z"
   },
   {
    "duration": 26,
    "start_time": "2023-02-26T22:26:59.820Z"
   },
   {
    "duration": 4,
    "start_time": "2023-02-26T22:28:20.691Z"
   },
   {
    "duration": 12,
    "start_time": "2023-02-26T22:28:25.109Z"
   },
   {
    "duration": 15,
    "start_time": "2023-02-26T22:28:38.748Z"
   },
   {
    "duration": 1190,
    "start_time": "2023-02-26T22:29:08.742Z"
   },
   {
    "duration": 49,
    "start_time": "2023-02-26T22:29:09.936Z"
   },
   {
    "duration": 24,
    "start_time": "2023-02-26T22:29:09.987Z"
   },
   {
    "duration": 19,
    "start_time": "2023-02-26T22:29:10.013Z"
   },
   {
    "duration": 37,
    "start_time": "2023-02-26T22:29:10.035Z"
   },
   {
    "duration": 903,
    "start_time": "2023-02-26T22:29:10.074Z"
   },
   {
    "duration": 5,
    "start_time": "2023-02-26T22:29:10.978Z"
   },
   {
    "duration": 6,
    "start_time": "2023-02-26T22:29:10.985Z"
   },
   {
    "duration": 8,
    "start_time": "2023-02-26T22:29:10.993Z"
   },
   {
    "duration": 45,
    "start_time": "2023-02-26T22:29:11.003Z"
   },
   {
    "duration": 19,
    "start_time": "2023-02-26T22:29:11.049Z"
   },
   {
    "duration": 5,
    "start_time": "2023-02-26T22:29:11.070Z"
   },
   {
    "duration": 7,
    "start_time": "2023-02-26T22:29:11.077Z"
   },
   {
    "duration": 7,
    "start_time": "2023-02-26T22:29:11.087Z"
   },
   {
    "duration": 40,
    "start_time": "2023-02-26T22:29:11.096Z"
   },
   {
    "duration": 8,
    "start_time": "2023-02-26T22:29:11.138Z"
   },
   {
    "duration": 10,
    "start_time": "2023-02-26T22:29:11.148Z"
   },
   {
    "duration": 13,
    "start_time": "2023-02-26T22:29:11.160Z"
   },
   {
    "duration": 4,
    "start_time": "2023-02-26T22:29:11.175Z"
   },
   {
    "duration": 53,
    "start_time": "2023-02-26T22:29:11.181Z"
   },
   {
    "duration": 17,
    "start_time": "2023-02-26T22:29:11.240Z"
   },
   {
    "duration": 199,
    "start_time": "2023-02-26T22:29:11.259Z"
   },
   {
    "duration": 17,
    "start_time": "2023-02-26T22:29:11.460Z"
   },
   {
    "duration": 10,
    "start_time": "2023-02-26T22:29:11.479Z"
   },
   {
    "duration": 1056,
    "start_time": "2023-02-26T22:29:11.490Z"
   },
   {
    "duration": 7,
    "start_time": "2023-02-26T22:29:12.548Z"
   },
   {
    "duration": 521,
    "start_time": "2023-02-26T22:29:12.556Z"
   },
   {
    "duration": 307,
    "start_time": "2023-02-26T22:29:13.079Z"
   },
   {
    "duration": 298,
    "start_time": "2023-02-26T22:29:13.388Z"
   },
   {
    "duration": 19719,
    "start_time": "2023-02-26T22:29:13.688Z"
   },
   {
    "duration": 584,
    "start_time": "2023-02-26T22:29:33.409Z"
   },
   {
    "duration": 77,
    "start_time": "2023-02-26T22:29:33.995Z"
   },
   {
    "duration": 19,
    "start_time": "2023-02-26T22:29:34.075Z"
   },
   {
    "duration": 33,
    "start_time": "2023-02-26T22:29:34.095Z"
   },
   {
    "duration": 11,
    "start_time": "2023-02-26T22:29:34.131Z"
   },
   {
    "duration": 111,
    "start_time": "2023-02-26T22:29:34.143Z"
   },
   {
    "duration": 40,
    "start_time": "2023-02-26T22:30:59.172Z"
   },
   {
    "duration": 561,
    "start_time": "2023-02-26T22:33:33.355Z"
   },
   {
    "duration": 6,
    "start_time": "2023-02-26T22:34:09.426Z"
   },
   {
    "duration": 22,
    "start_time": "2023-02-26T22:34:10.164Z"
   },
   {
    "duration": 1147,
    "start_time": "2023-02-26T22:34:15.259Z"
   },
   {
    "duration": 60,
    "start_time": "2023-02-26T22:34:16.408Z"
   },
   {
    "duration": 24,
    "start_time": "2023-02-26T22:34:16.470Z"
   },
   {
    "duration": 18,
    "start_time": "2023-02-26T22:34:16.496Z"
   },
   {
    "duration": 42,
    "start_time": "2023-02-26T22:34:16.516Z"
   },
   {
    "duration": 844,
    "start_time": "2023-02-26T22:34:16.560Z"
   },
   {
    "duration": 5,
    "start_time": "2023-02-26T22:34:17.406Z"
   },
   {
    "duration": 15,
    "start_time": "2023-02-26T22:34:17.412Z"
   },
   {
    "duration": 16,
    "start_time": "2023-02-26T22:34:17.431Z"
   },
   {
    "duration": 26,
    "start_time": "2023-02-26T22:34:17.451Z"
   },
   {
    "duration": 23,
    "start_time": "2023-02-26T22:34:17.479Z"
   },
   {
    "duration": 5,
    "start_time": "2023-02-26T22:34:17.503Z"
   },
   {
    "duration": 19,
    "start_time": "2023-02-26T22:34:17.509Z"
   },
   {
    "duration": 20,
    "start_time": "2023-02-26T22:34:17.532Z"
   },
   {
    "duration": 14,
    "start_time": "2023-02-26T22:34:17.554Z"
   },
   {
    "duration": 8,
    "start_time": "2023-02-26T22:34:17.570Z"
   },
   {
    "duration": 15,
    "start_time": "2023-02-26T22:34:17.580Z"
   },
   {
    "duration": 44,
    "start_time": "2023-02-26T22:34:17.597Z"
   },
   {
    "duration": 6,
    "start_time": "2023-02-26T22:34:17.650Z"
   },
   {
    "duration": 24,
    "start_time": "2023-02-26T22:34:17.659Z"
   },
   {
    "duration": 19,
    "start_time": "2023-02-26T22:34:17.685Z"
   },
   {
    "duration": 205,
    "start_time": "2023-02-26T22:34:17.707Z"
   },
   {
    "duration": 28,
    "start_time": "2023-02-26T22:34:17.914Z"
   },
   {
    "duration": 8,
    "start_time": "2023-02-26T22:34:17.944Z"
   },
   {
    "duration": 1114,
    "start_time": "2023-02-26T22:34:17.954Z"
   },
   {
    "duration": 5,
    "start_time": "2023-02-26T22:34:19.070Z"
   },
   {
    "duration": 415,
    "start_time": "2023-02-26T22:34:19.077Z"
   },
   {
    "duration": 283,
    "start_time": "2023-02-26T22:34:19.495Z"
   },
   {
    "duration": 289,
    "start_time": "2023-02-26T22:34:19.779Z"
   },
   {
    "duration": 19073,
    "start_time": "2023-02-26T22:34:20.069Z"
   },
   {
    "duration": 559,
    "start_time": "2023-02-26T22:34:39.144Z"
   },
   {
    "duration": 65,
    "start_time": "2023-02-26T22:34:39.705Z"
   },
   {
    "duration": 16,
    "start_time": "2023-02-26T22:34:39.771Z"
   },
   {
    "duration": 22,
    "start_time": "2023-02-26T22:34:39.788Z"
   },
   {
    "duration": 18,
    "start_time": "2023-02-26T22:34:39.811Z"
   },
   {
    "duration": 120,
    "start_time": "2023-02-26T22:34:39.830Z"
   },
   {
    "duration": 1240,
    "start_time": "2023-02-26T22:38:39.623Z"
   },
   {
    "duration": 49,
    "start_time": "2023-02-26T22:38:40.865Z"
   },
   {
    "duration": 28,
    "start_time": "2023-02-26T22:38:40.916Z"
   },
   {
    "duration": 15,
    "start_time": "2023-02-26T22:38:40.946Z"
   },
   {
    "duration": 29,
    "start_time": "2023-02-26T22:38:40.963Z"
   },
   {
    "duration": 857,
    "start_time": "2023-02-26T22:38:40.994Z"
   },
   {
    "duration": 5,
    "start_time": "2023-02-26T22:38:41.854Z"
   },
   {
    "duration": 10,
    "start_time": "2023-02-26T22:38:41.861Z"
   },
   {
    "duration": 12,
    "start_time": "2023-02-26T22:38:41.873Z"
   },
   {
    "duration": 52,
    "start_time": "2023-02-26T22:38:41.889Z"
   },
   {
    "duration": 26,
    "start_time": "2023-02-26T22:38:41.943Z"
   },
   {
    "duration": 6,
    "start_time": "2023-02-26T22:38:41.970Z"
   },
   {
    "duration": 9,
    "start_time": "2023-02-26T22:38:41.977Z"
   },
   {
    "duration": 10,
    "start_time": "2023-02-26T22:38:41.988Z"
   },
   {
    "duration": 12,
    "start_time": "2023-02-26T22:38:42.000Z"
   },
   {
    "duration": 17,
    "start_time": "2023-02-26T22:38:42.027Z"
   },
   {
    "duration": 31,
    "start_time": "2023-02-26T22:38:42.046Z"
   },
   {
    "duration": 15,
    "start_time": "2023-02-26T22:38:42.079Z"
   },
   {
    "duration": 5,
    "start_time": "2023-02-26T22:38:42.095Z"
   },
   {
    "duration": 21,
    "start_time": "2023-02-26T22:38:42.102Z"
   },
   {
    "duration": 32,
    "start_time": "2023-02-26T22:38:42.124Z"
   },
   {
    "duration": 199,
    "start_time": "2023-02-26T22:38:42.157Z"
   },
   {
    "duration": 15,
    "start_time": "2023-02-26T22:38:42.358Z"
   },
   {
    "duration": 8,
    "start_time": "2023-02-26T22:38:42.375Z"
   },
   {
    "duration": 1034,
    "start_time": "2023-02-26T22:38:42.384Z"
   },
   {
    "duration": 19,
    "start_time": "2023-02-26T22:38:43.420Z"
   },
   {
    "duration": 369,
    "start_time": "2023-02-26T22:38:43.445Z"
   },
   {
    "duration": 281,
    "start_time": "2023-02-26T22:38:43.817Z"
   },
   {
    "duration": 273,
    "start_time": "2023-02-26T22:38:44.099Z"
   },
   {
    "duration": 18995,
    "start_time": "2023-02-26T22:38:44.374Z"
   },
   {
    "duration": 590,
    "start_time": "2023-02-26T22:39:03.370Z"
   },
   {
    "duration": 51,
    "start_time": "2023-02-26T22:39:03.961Z"
   },
   {
    "duration": 34,
    "start_time": "2023-02-26T22:39:04.014Z"
   },
   {
    "duration": 15,
    "start_time": "2023-02-26T22:39:04.050Z"
   },
   {
    "duration": 8,
    "start_time": "2023-02-26T22:39:04.067Z"
   },
   {
    "duration": 128,
    "start_time": "2023-02-26T22:39:04.077Z"
   },
   {
    "duration": 16,
    "start_time": "2023-02-26T22:40:27.923Z"
   },
   {
    "duration": 18,
    "start_time": "2023-02-26T22:41:09.771Z"
   },
   {
    "duration": 26,
    "start_time": "2023-02-26T22:41:40.141Z"
   },
   {
    "duration": 11,
    "start_time": "2023-02-26T22:42:48.355Z"
   },
   {
    "duration": 19,
    "start_time": "2023-02-26T22:43:03.203Z"
   },
   {
    "duration": 1256,
    "start_time": "2023-02-26T22:43:15.440Z"
   },
   {
    "duration": 54,
    "start_time": "2023-02-26T22:43:16.699Z"
   },
   {
    "duration": 25,
    "start_time": "2023-02-26T22:43:16.755Z"
   },
   {
    "duration": 14,
    "start_time": "2023-02-26T22:43:16.782Z"
   },
   {
    "duration": 50,
    "start_time": "2023-02-26T22:43:16.798Z"
   },
   {
    "duration": 801,
    "start_time": "2023-02-26T22:43:16.850Z"
   },
   {
    "duration": 4,
    "start_time": "2023-02-26T22:43:17.653Z"
   },
   {
    "duration": 8,
    "start_time": "2023-02-26T22:43:17.658Z"
   },
   {
    "duration": 7,
    "start_time": "2023-02-26T22:43:17.668Z"
   },
   {
    "duration": 24,
    "start_time": "2023-02-26T22:43:17.678Z"
   },
   {
    "duration": 46,
    "start_time": "2023-02-26T22:43:17.703Z"
   },
   {
    "duration": 11,
    "start_time": "2023-02-26T22:43:17.752Z"
   },
   {
    "duration": 5,
    "start_time": "2023-02-26T22:43:17.765Z"
   },
   {
    "duration": 8,
    "start_time": "2023-02-26T22:43:17.771Z"
   },
   {
    "duration": 12,
    "start_time": "2023-02-26T22:43:17.781Z"
   },
   {
    "duration": 33,
    "start_time": "2023-02-26T22:43:17.795Z"
   },
   {
    "duration": 16,
    "start_time": "2023-02-26T22:43:17.830Z"
   },
   {
    "duration": 13,
    "start_time": "2023-02-26T22:43:17.847Z"
   },
   {
    "duration": 4,
    "start_time": "2023-02-26T22:43:17.862Z"
   },
   {
    "duration": 21,
    "start_time": "2023-02-26T22:43:17.867Z"
   },
   {
    "duration": 52,
    "start_time": "2023-02-26T22:43:17.889Z"
   },
   {
    "duration": 201,
    "start_time": "2023-02-26T22:43:17.945Z"
   },
   {
    "duration": 23,
    "start_time": "2023-02-26T22:43:18.147Z"
   },
   {
    "duration": 11,
    "start_time": "2023-02-26T22:43:18.172Z"
   },
   {
    "duration": 1094,
    "start_time": "2023-02-26T22:43:18.185Z"
   },
   {
    "duration": 6,
    "start_time": "2023-02-26T22:43:19.281Z"
   },
   {
    "duration": 388,
    "start_time": "2023-02-26T22:43:19.289Z"
   },
   {
    "duration": 284,
    "start_time": "2023-02-26T22:43:19.680Z"
   },
   {
    "duration": 287,
    "start_time": "2023-02-26T22:43:19.966Z"
   },
   {
    "duration": 19120,
    "start_time": "2023-02-26T22:43:20.255Z"
   },
   {
    "duration": 574,
    "start_time": "2023-02-26T22:43:39.377Z"
   },
   {
    "duration": 50,
    "start_time": "2023-02-26T22:43:39.953Z"
   },
   {
    "duration": 38,
    "start_time": "2023-02-26T22:43:40.004Z"
   },
   {
    "duration": 21,
    "start_time": "2023-02-26T22:43:40.044Z"
   },
   {
    "duration": 9,
    "start_time": "2023-02-26T22:43:40.066Z"
   },
   {
    "duration": 130,
    "start_time": "2023-02-26T22:43:40.076Z"
   },
   {
    "duration": 18,
    "start_time": "2023-02-26T22:45:20.622Z"
   },
   {
    "duration": 19,
    "start_time": "2023-02-26T22:46:02.397Z"
   },
   {
    "duration": 47,
    "start_time": "2023-02-26T22:50:41.413Z"
   },
   {
    "duration": 29,
    "start_time": "2023-02-26T22:50:51.053Z"
   },
   {
    "duration": 1171,
    "start_time": "2023-02-26T22:51:17.859Z"
   },
   {
    "duration": 51,
    "start_time": "2023-02-26T22:51:19.031Z"
   },
   {
    "duration": 53,
    "start_time": "2023-02-26T22:51:19.087Z"
   },
   {
    "duration": 28,
    "start_time": "2023-02-26T22:51:19.147Z"
   },
   {
    "duration": 30,
    "start_time": "2023-02-26T22:51:19.177Z"
   },
   {
    "duration": 891,
    "start_time": "2023-02-26T22:51:19.208Z"
   },
   {
    "duration": 6,
    "start_time": "2023-02-26T22:51:20.101Z"
   },
   {
    "duration": 47,
    "start_time": "2023-02-26T22:51:20.109Z"
   },
   {
    "duration": 26,
    "start_time": "2023-02-26T22:51:20.161Z"
   },
   {
    "duration": 56,
    "start_time": "2023-02-26T22:51:20.189Z"
   },
   {
    "duration": 32,
    "start_time": "2023-02-26T22:51:20.249Z"
   },
   {
    "duration": 23,
    "start_time": "2023-02-26T22:51:20.283Z"
   },
   {
    "duration": 29,
    "start_time": "2023-02-26T22:51:20.308Z"
   },
   {
    "duration": 41,
    "start_time": "2023-02-26T22:51:20.342Z"
   },
   {
    "duration": 16,
    "start_time": "2023-02-26T22:51:20.386Z"
   },
   {
    "duration": 68,
    "start_time": "2023-02-26T22:51:20.405Z"
   },
   {
    "duration": 32,
    "start_time": "2023-02-26T22:51:20.475Z"
   },
   {
    "duration": 54,
    "start_time": "2023-02-26T22:51:20.510Z"
   },
   {
    "duration": 37,
    "start_time": "2023-02-26T22:51:20.567Z"
   },
   {
    "duration": 49,
    "start_time": "2023-02-26T22:51:20.607Z"
   },
   {
    "duration": 51,
    "start_time": "2023-02-26T22:51:20.658Z"
   },
   {
    "duration": 227,
    "start_time": "2023-02-26T22:51:20.713Z"
   },
   {
    "duration": 22,
    "start_time": "2023-02-26T22:51:20.943Z"
   },
   {
    "duration": 11,
    "start_time": "2023-02-26T22:51:20.967Z"
   },
   {
    "duration": 1103,
    "start_time": "2023-02-26T22:51:20.980Z"
   },
   {
    "duration": 7,
    "start_time": "2023-02-26T22:51:22.085Z"
   },
   {
    "duration": 421,
    "start_time": "2023-02-26T22:51:22.095Z"
   },
   {
    "duration": 391,
    "start_time": "2023-02-26T22:51:22.518Z"
   },
   {
    "duration": 321,
    "start_time": "2023-02-26T22:51:22.912Z"
   },
   {
    "duration": 19679,
    "start_time": "2023-02-26T22:51:23.236Z"
   },
   {
    "duration": 602,
    "start_time": "2023-02-26T22:51:42.917Z"
   },
   {
    "duration": 78,
    "start_time": "2023-02-26T22:51:43.521Z"
   },
   {
    "duration": 33,
    "start_time": "2023-02-26T22:51:43.601Z"
   },
   {
    "duration": 25,
    "start_time": "2023-02-26T22:51:43.636Z"
   },
   {
    "duration": 47,
    "start_time": "2023-02-26T22:51:43.663Z"
   },
   {
    "duration": 0,
    "start_time": "2023-02-26T22:51:43.712Z"
   },
   {
    "duration": 11,
    "start_time": "2023-02-26T22:55:58.963Z"
   },
   {
    "duration": 116,
    "start_time": "2023-02-26T22:57:07.492Z"
   },
   {
    "duration": 15,
    "start_time": "2023-02-26T22:59:16.454Z"
   },
   {
    "duration": 22,
    "start_time": "2023-02-26T22:59:23.324Z"
   },
   {
    "duration": 13,
    "start_time": "2023-02-26T23:02:11.964Z"
   },
   {
    "duration": 11,
    "start_time": "2023-02-26T23:09:24.270Z"
   },
   {
    "duration": 14,
    "start_time": "2023-02-26T23:09:53.654Z"
   },
   {
    "duration": 1198,
    "start_time": "2023-02-26T23:27:00.206Z"
   },
   {
    "duration": 609,
    "start_time": "2023-02-26T23:27:42.310Z"
   },
   {
    "duration": 17842,
    "start_time": "2023-02-26T23:29:10.847Z"
   },
   {
    "duration": 11,
    "start_time": "2023-02-26T23:30:01.130Z"
   },
   {
    "duration": 768,
    "start_time": "2023-02-26T23:30:13.993Z"
   },
   {
    "duration": 785,
    "start_time": "2023-02-26T23:30:40.396Z"
   },
   {
    "duration": 3384,
    "start_time": "2023-02-26T23:30:57.946Z"
   },
   {
    "duration": 15174,
    "start_time": "2023-02-26T23:31:33.378Z"
   },
   {
    "duration": 627,
    "start_time": "2023-02-26T23:34:23.414Z"
   },
   {
    "duration": 18357,
    "start_time": "2023-02-26T23:35:05.302Z"
   },
   {
    "duration": 15983,
    "start_time": "2023-02-26T23:35:34.994Z"
   },
   {
    "duration": 213,
    "start_time": "2023-02-26T23:36:02.703Z"
   },
   {
    "duration": 18624,
    "start_time": "2023-02-26T23:36:16.247Z"
   },
   {
    "duration": 15572,
    "start_time": "2023-02-26T23:36:36.527Z"
   },
   {
    "duration": 1262,
    "start_time": "2023-02-26T23:46:19.961Z"
   },
   {
    "duration": 54,
    "start_time": "2023-02-26T23:46:21.228Z"
   },
   {
    "duration": 28,
    "start_time": "2023-02-26T23:46:21.285Z"
   },
   {
    "duration": 16,
    "start_time": "2023-02-26T23:46:21.315Z"
   },
   {
    "duration": 31,
    "start_time": "2023-02-26T23:46:21.334Z"
   },
   {
    "duration": 805,
    "start_time": "2023-02-26T23:46:21.367Z"
   },
   {
    "duration": 5,
    "start_time": "2023-02-26T23:46:22.174Z"
   },
   {
    "duration": 12,
    "start_time": "2023-02-26T23:46:22.180Z"
   },
   {
    "duration": 7,
    "start_time": "2023-02-26T23:46:22.194Z"
   },
   {
    "duration": 34,
    "start_time": "2023-02-26T23:46:22.204Z"
   },
   {
    "duration": 19,
    "start_time": "2023-02-26T23:46:22.240Z"
   },
   {
    "duration": 5,
    "start_time": "2023-02-26T23:46:22.260Z"
   },
   {
    "duration": 8,
    "start_time": "2023-02-26T23:46:22.267Z"
   },
   {
    "duration": 7,
    "start_time": "2023-02-26T23:46:22.277Z"
   },
   {
    "duration": 41,
    "start_time": "2023-02-26T23:46:22.286Z"
   },
   {
    "duration": 7,
    "start_time": "2023-02-26T23:46:22.329Z"
   },
   {
    "duration": 12,
    "start_time": "2023-02-26T23:46:22.337Z"
   },
   {
    "duration": 14,
    "start_time": "2023-02-26T23:46:22.351Z"
   },
   {
    "duration": 5,
    "start_time": "2023-02-26T23:46:22.367Z"
   },
   {
    "duration": 57,
    "start_time": "2023-02-26T23:46:22.373Z"
   },
   {
    "duration": 16,
    "start_time": "2023-02-26T23:46:22.432Z"
   },
   {
    "duration": 222,
    "start_time": "2023-02-26T23:46:22.449Z"
   },
   {
    "duration": 17,
    "start_time": "2023-02-26T23:46:22.673Z"
   },
   {
    "duration": 10,
    "start_time": "2023-02-26T23:46:22.692Z"
   },
   {
    "duration": 1034,
    "start_time": "2023-02-26T23:46:22.728Z"
   },
   {
    "duration": 5,
    "start_time": "2023-02-26T23:46:23.764Z"
   },
   {
    "duration": 354,
    "start_time": "2023-02-26T23:46:23.770Z"
   },
   {
    "duration": 264,
    "start_time": "2023-02-26T23:46:24.128Z"
   },
   {
    "duration": 264,
    "start_time": "2023-02-26T23:46:24.394Z"
   },
   {
    "duration": 15485,
    "start_time": "2023-02-26T23:46:24.659Z"
   },
   {
    "duration": 813,
    "start_time": "2023-02-26T23:46:40.146Z"
   },
   {
    "duration": 53,
    "start_time": "2023-02-26T23:46:40.962Z"
   },
   {
    "duration": 26,
    "start_time": "2023-02-26T23:46:41.016Z"
   },
   {
    "duration": 17,
    "start_time": "2023-02-26T23:46:41.044Z"
   },
   {
    "duration": 19,
    "start_time": "2023-02-26T23:46:41.062Z"
   },
   {
    "duration": 21,
    "start_time": "2023-02-26T23:46:41.083Z"
   },
   {
    "duration": 3,
    "start_time": "2023-02-26T23:50:59.817Z"
   },
   {
    "duration": 1178,
    "start_time": "2023-02-26T23:55:46.604Z"
   },
   {
    "duration": 48,
    "start_time": "2023-02-26T23:55:47.784Z"
   },
   {
    "duration": 25,
    "start_time": "2023-02-26T23:55:47.834Z"
   },
   {
    "duration": 14,
    "start_time": "2023-02-26T23:55:47.862Z"
   },
   {
    "duration": 30,
    "start_time": "2023-02-26T23:55:47.877Z"
   },
   {
    "duration": 793,
    "start_time": "2023-02-26T23:55:47.909Z"
   },
   {
    "duration": 5,
    "start_time": "2023-02-26T23:55:48.704Z"
   },
   {
    "duration": 17,
    "start_time": "2023-02-26T23:55:48.711Z"
   },
   {
    "duration": 8,
    "start_time": "2023-02-26T23:55:48.730Z"
   },
   {
    "duration": 24,
    "start_time": "2023-02-26T23:55:48.741Z"
   },
   {
    "duration": 19,
    "start_time": "2023-02-26T23:55:48.767Z"
   },
   {
    "duration": 4,
    "start_time": "2023-02-26T23:55:48.788Z"
   },
   {
    "duration": 34,
    "start_time": "2023-02-26T23:55:48.794Z"
   },
   {
    "duration": 7,
    "start_time": "2023-02-26T23:55:48.829Z"
   },
   {
    "duration": 10,
    "start_time": "2023-02-26T23:55:48.838Z"
   },
   {
    "duration": 6,
    "start_time": "2023-02-26T23:55:48.850Z"
   },
   {
    "duration": 11,
    "start_time": "2023-02-26T23:55:48.858Z"
   },
   {
    "duration": 13,
    "start_time": "2023-02-26T23:55:48.871Z"
   },
   {
    "duration": 44,
    "start_time": "2023-02-26T23:55:48.886Z"
   },
   {
    "duration": 22,
    "start_time": "2023-02-26T23:55:48.932Z"
   },
   {
    "duration": 13,
    "start_time": "2023-02-26T23:55:48.957Z"
   },
   {
    "duration": 216,
    "start_time": "2023-02-26T23:55:48.972Z"
   },
   {
    "duration": 21,
    "start_time": "2023-02-26T23:55:49.189Z"
   },
   {
    "duration": 12,
    "start_time": "2023-02-26T23:55:49.227Z"
   },
   {
    "duration": 1017,
    "start_time": "2023-02-26T23:55:49.241Z"
   },
   {
    "duration": 6,
    "start_time": "2023-02-26T23:55:50.260Z"
   },
   {
    "duration": 480,
    "start_time": "2023-02-26T23:55:50.268Z"
   },
   {
    "duration": 281,
    "start_time": "2023-02-26T23:55:50.753Z"
   },
   {
    "duration": 277,
    "start_time": "2023-02-26T23:55:51.036Z"
   },
   {
    "duration": 15343,
    "start_time": "2023-02-26T23:55:51.314Z"
   },
   {
    "duration": 747,
    "start_time": "2023-02-26T23:56:06.659Z"
   },
   {
    "duration": 76,
    "start_time": "2023-02-26T23:56:07.408Z"
   },
   {
    "duration": 18,
    "start_time": "2023-02-26T23:56:07.486Z"
   },
   {
    "duration": 29,
    "start_time": "2023-02-26T23:56:07.506Z"
   },
   {
    "duration": 18,
    "start_time": "2023-02-26T23:56:07.536Z"
   },
   {
    "duration": 17,
    "start_time": "2023-02-26T23:56:07.555Z"
   },
   {
    "duration": 91,
    "start_time": "2023-02-27T07:28:43.401Z"
   },
   {
    "duration": 44,
    "start_time": "2023-02-27T09:24:40.964Z"
   },
   {
    "duration": 1273,
    "start_time": "2023-02-27T09:24:49.074Z"
   },
   {
    "duration": 99,
    "start_time": "2023-02-27T09:24:50.349Z"
   },
   {
    "duration": 32,
    "start_time": "2023-02-27T09:24:50.450Z"
   },
   {
    "duration": 16,
    "start_time": "2023-02-27T09:24:50.484Z"
   },
   {
    "duration": 39,
    "start_time": "2023-02-27T09:24:50.501Z"
   },
   {
    "duration": 712,
    "start_time": "2023-02-27T09:24:50.542Z"
   },
   {
    "duration": 5,
    "start_time": "2023-02-27T09:24:51.256Z"
   },
   {
    "duration": 8,
    "start_time": "2023-02-27T09:24:51.264Z"
   },
   {
    "duration": 8,
    "start_time": "2023-02-27T09:24:51.274Z"
   },
   {
    "duration": 27,
    "start_time": "2023-02-27T09:24:51.285Z"
   },
   {
    "duration": 43,
    "start_time": "2023-02-27T09:24:51.314Z"
   },
   {
    "duration": 6,
    "start_time": "2023-02-27T09:24:51.359Z"
   },
   {
    "duration": 26,
    "start_time": "2023-02-27T09:24:51.366Z"
   },
   {
    "duration": 19,
    "start_time": "2023-02-27T09:24:51.395Z"
   },
   {
    "duration": 11,
    "start_time": "2023-02-27T09:24:51.418Z"
   },
   {
    "duration": 9,
    "start_time": "2023-02-27T09:24:51.431Z"
   },
   {
    "duration": 13,
    "start_time": "2023-02-27T09:24:51.442Z"
   },
   {
    "duration": 34,
    "start_time": "2023-02-27T09:24:51.457Z"
   },
   {
    "duration": 12,
    "start_time": "2023-02-27T09:24:51.494Z"
   },
   {
    "duration": 39,
    "start_time": "2023-02-27T09:24:51.508Z"
   },
   {
    "duration": 18,
    "start_time": "2023-02-27T09:24:51.549Z"
   },
   {
    "duration": 223,
    "start_time": "2023-02-27T09:24:51.569Z"
   },
   {
    "duration": 21,
    "start_time": "2023-02-27T09:24:51.794Z"
   },
   {
    "duration": 22,
    "start_time": "2023-02-27T09:24:51.817Z"
   },
   {
    "duration": 1167,
    "start_time": "2023-02-27T09:24:51.840Z"
   },
   {
    "duration": 7,
    "start_time": "2023-02-27T09:24:53.009Z"
   },
   {
    "duration": 267,
    "start_time": "2023-02-27T09:24:53.018Z"
   },
   {
    "duration": 250,
    "start_time": "2023-02-27T09:24:53.288Z"
   },
   {
    "duration": 257,
    "start_time": "2023-02-27T09:24:53.540Z"
   },
   {
    "duration": 14105,
    "start_time": "2023-02-27T09:24:53.799Z"
   },
   {
    "duration": 655,
    "start_time": "2023-02-27T09:25:07.906Z"
   },
   {
    "duration": 47,
    "start_time": "2023-02-27T09:25:08.563Z"
   },
   {
    "duration": 29,
    "start_time": "2023-02-27T09:25:08.611Z"
   },
   {
    "duration": 14,
    "start_time": "2023-02-27T09:25:08.641Z"
   },
   {
    "duration": 11,
    "start_time": "2023-02-27T09:25:08.657Z"
   },
   {
    "duration": 16,
    "start_time": "2023-02-27T09:25:08.669Z"
   },
   {
    "duration": 1101,
    "start_time": "2023-02-27T09:26:07.820Z"
   },
   {
    "duration": 45,
    "start_time": "2023-02-27T09:26:08.923Z"
   },
   {
    "duration": 22,
    "start_time": "2023-02-27T09:26:08.970Z"
   },
   {
    "duration": 16,
    "start_time": "2023-02-27T09:26:08.995Z"
   },
   {
    "duration": 37,
    "start_time": "2023-02-27T09:26:09.012Z"
   },
   {
    "duration": 702,
    "start_time": "2023-02-27T09:26:09.052Z"
   },
   {
    "duration": 3,
    "start_time": "2023-02-27T09:26:09.755Z"
   },
   {
    "duration": 5,
    "start_time": "2023-02-27T09:26:09.760Z"
   },
   {
    "duration": 6,
    "start_time": "2023-02-27T09:26:09.767Z"
   },
   {
    "duration": 24,
    "start_time": "2023-02-27T09:26:09.775Z"
   },
   {
    "duration": 16,
    "start_time": "2023-02-27T09:26:09.801Z"
   },
   {
    "duration": 20,
    "start_time": "2023-02-27T09:26:09.818Z"
   },
   {
    "duration": 3,
    "start_time": "2023-02-27T09:26:09.840Z"
   },
   {
    "duration": 9,
    "start_time": "2023-02-27T09:26:09.844Z"
   },
   {
    "duration": 11,
    "start_time": "2023-02-27T09:26:09.854Z"
   },
   {
    "duration": 11,
    "start_time": "2023-02-27T09:26:09.866Z"
   },
   {
    "duration": 10,
    "start_time": "2023-02-27T09:26:09.878Z"
   },
   {
    "duration": 12,
    "start_time": "2023-02-27T09:26:09.889Z"
   },
   {
    "duration": 5,
    "start_time": "2023-02-27T09:26:09.903Z"
   },
   {
    "duration": 45,
    "start_time": "2023-02-27T09:26:09.909Z"
   },
   {
    "duration": 15,
    "start_time": "2023-02-27T09:26:09.955Z"
   },
   {
    "duration": 204,
    "start_time": "2023-02-27T09:26:09.972Z"
   },
   {
    "duration": 16,
    "start_time": "2023-02-27T09:26:10.177Z"
   },
   {
    "duration": 6,
    "start_time": "2023-02-27T09:26:10.194Z"
   },
   {
    "duration": 911,
    "start_time": "2023-02-27T09:26:10.202Z"
   },
   {
    "duration": 5,
    "start_time": "2023-02-27T09:26:11.115Z"
   },
   {
    "duration": 330,
    "start_time": "2023-02-27T09:26:11.121Z"
   },
   {
    "duration": 245,
    "start_time": "2023-02-27T09:26:11.453Z"
   },
   {
    "duration": 247,
    "start_time": "2023-02-27T09:26:11.700Z"
   },
   {
    "duration": 14441,
    "start_time": "2023-02-27T09:26:11.948Z"
   },
   {
    "duration": 737,
    "start_time": "2023-02-27T09:26:26.391Z"
   },
   {
    "duration": 52,
    "start_time": "2023-02-27T09:26:27.130Z"
   },
   {
    "duration": 15,
    "start_time": "2023-02-27T09:26:27.183Z"
   },
   {
    "duration": 16,
    "start_time": "2023-02-27T09:26:27.199Z"
   },
   {
    "duration": 31,
    "start_time": "2023-02-27T09:26:27.216Z"
   },
   {
    "duration": 13,
    "start_time": "2023-02-27T09:26:27.249Z"
   },
   {
    "duration": 174,
    "start_time": "2023-02-27T09:28:04.583Z"
   },
   {
    "duration": 206,
    "start_time": "2023-02-27T09:30:34.883Z"
   },
   {
    "duration": 184,
    "start_time": "2023-02-27T09:30:49.885Z"
   },
   {
    "duration": 100,
    "start_time": "2023-02-27T09:36:46.165Z"
   },
   {
    "duration": 185,
    "start_time": "2023-02-27T09:37:04.285Z"
   },
   {
    "duration": 127,
    "start_time": "2023-02-27T09:37:39.529Z"
   },
   {
    "duration": 114,
    "start_time": "2023-02-27T09:37:53.774Z"
   },
   {
    "duration": 259,
    "start_time": "2023-02-27T10:01:37.184Z"
   },
   {
    "duration": 112,
    "start_time": "2023-02-27T10:04:35.413Z"
   },
   {
    "duration": 260,
    "start_time": "2023-02-27T10:05:38.877Z"
   },
   {
    "duration": 266,
    "start_time": "2023-02-27T10:08:09.848Z"
   },
   {
    "duration": 264,
    "start_time": "2023-02-27T10:21:57.211Z"
   },
   {
    "duration": 241,
    "start_time": "2023-02-27T10:30:23.106Z"
   },
   {
    "duration": 271,
    "start_time": "2023-02-27T10:31:32.988Z"
   },
   {
    "duration": 187,
    "start_time": "2023-02-27T10:31:56.264Z"
   },
   {
    "duration": 228,
    "start_time": "2023-02-27T10:32:27.972Z"
   },
   {
    "duration": 979,
    "start_time": "2023-02-27T10:36:27.108Z"
   },
   {
    "duration": 273,
    "start_time": "2023-02-27T10:37:05.316Z"
   },
   {
    "duration": 14365,
    "start_time": "2023-02-27T10:44:46.859Z"
   },
   {
    "duration": 167,
    "start_time": "2023-02-27T10:45:15.524Z"
   },
   {
    "duration": 935,
    "start_time": "2023-02-27T10:45:34.155Z"
   },
   {
    "duration": 554,
    "start_time": "2023-02-27T10:46:19.212Z"
   },
   {
    "duration": 112,
    "start_time": "2023-02-27T10:46:54.500Z"
   },
   {
    "duration": 296,
    "start_time": "2023-02-27T10:47:25.956Z"
   },
   {
    "duration": 1342,
    "start_time": "2023-02-27T10:48:08.861Z"
   },
   {
    "duration": 1213,
    "start_time": "2023-02-27T10:49:13.455Z"
   },
   {
    "duration": 1021,
    "start_time": "2023-02-27T10:50:17.657Z"
   },
   {
    "duration": 1018,
    "start_time": "2023-02-27T10:51:26.560Z"
   },
   {
    "duration": 850,
    "start_time": "2023-02-27T10:55:52.858Z"
   },
   {
    "duration": 815,
    "start_time": "2023-02-27T10:56:26.229Z"
   },
   {
    "duration": 637,
    "start_time": "2023-02-27T10:56:58.376Z"
   },
   {
    "duration": 823,
    "start_time": "2023-02-27T10:57:31.421Z"
   },
   {
    "duration": 72,
    "start_time": "2023-02-27T10:58:14.313Z"
   },
   {
    "duration": 43,
    "start_time": "2023-02-27T10:58:26.708Z"
   },
   {
    "duration": 638,
    "start_time": "2023-02-27T10:59:17.564Z"
   },
   {
    "duration": 1235,
    "start_time": "2023-02-27T10:59:25.741Z"
   },
   {
    "duration": 50,
    "start_time": "2023-02-27T10:59:26.978Z"
   },
   {
    "duration": 27,
    "start_time": "2023-02-27T10:59:27.030Z"
   },
   {
    "duration": 17,
    "start_time": "2023-02-27T10:59:27.059Z"
   },
   {
    "duration": 32,
    "start_time": "2023-02-27T10:59:27.079Z"
   },
   {
    "duration": 744,
    "start_time": "2023-02-27T10:59:27.113Z"
   },
   {
    "duration": 4,
    "start_time": "2023-02-27T10:59:27.858Z"
   },
   {
    "duration": 5,
    "start_time": "2023-02-27T10:59:27.863Z"
   },
   {
    "duration": 11,
    "start_time": "2023-02-27T10:59:27.870Z"
   },
   {
    "duration": 43,
    "start_time": "2023-02-27T10:59:27.883Z"
   },
   {
    "duration": 17,
    "start_time": "2023-02-27T10:59:27.927Z"
   },
   {
    "duration": 5,
    "start_time": "2023-02-27T10:59:27.945Z"
   },
   {
    "duration": 8,
    "start_time": "2023-02-27T10:59:27.951Z"
   },
   {
    "duration": 8,
    "start_time": "2023-02-27T10:59:27.961Z"
   },
   {
    "duration": 20,
    "start_time": "2023-02-27T10:59:27.971Z"
   },
   {
    "duration": 8,
    "start_time": "2023-02-27T10:59:27.993Z"
   },
   {
    "duration": 10,
    "start_time": "2023-02-27T10:59:28.003Z"
   },
   {
    "duration": 30,
    "start_time": "2023-02-27T10:59:28.015Z"
   },
   {
    "duration": 4,
    "start_time": "2023-02-27T10:59:28.047Z"
   },
   {
    "duration": 20,
    "start_time": "2023-02-27T10:59:28.052Z"
   },
   {
    "duration": 14,
    "start_time": "2023-02-27T10:59:28.074Z"
   },
   {
    "duration": 242,
    "start_time": "2023-02-27T10:59:28.089Z"
   },
   {
    "duration": 19,
    "start_time": "2023-02-27T10:59:28.333Z"
   },
   {
    "duration": 7,
    "start_time": "2023-02-27T10:59:28.353Z"
   },
   {
    "duration": 141,
    "start_time": "2023-02-27T10:59:28.361Z"
   },
   {
    "duration": 983,
    "start_time": "2023-02-27T10:59:28.504Z"
   },
   {
    "duration": 5,
    "start_time": "2023-02-27T10:59:29.489Z"
   },
   {
    "duration": 307,
    "start_time": "2023-02-27T10:59:29.497Z"
   },
   {
    "duration": 226,
    "start_time": "2023-02-27T10:59:29.805Z"
   },
   {
    "duration": 271,
    "start_time": "2023-02-27T10:59:30.033Z"
   },
   {
    "duration": 779,
    "start_time": "2023-02-27T10:59:30.306Z"
   },
   {
    "duration": 0,
    "start_time": "2023-02-27T10:59:31.087Z"
   },
   {
    "duration": 0,
    "start_time": "2023-02-27T10:59:31.088Z"
   },
   {
    "duration": 0,
    "start_time": "2023-02-27T10:59:31.089Z"
   },
   {
    "duration": 0,
    "start_time": "2023-02-27T10:59:31.090Z"
   },
   {
    "duration": 0,
    "start_time": "2023-02-27T10:59:31.091Z"
   },
   {
    "duration": 0,
    "start_time": "2023-02-27T10:59:31.091Z"
   },
   {
    "duration": 1605,
    "start_time": "2023-02-27T11:00:22.322Z"
   },
   {
    "duration": 50,
    "start_time": "2023-02-27T11:01:04.504Z"
   },
   {
    "duration": 959,
    "start_time": "2023-02-27T11:01:17.638Z"
   },
   {
    "duration": 1092,
    "start_time": "2023-02-27T11:02:45.639Z"
   },
   {
    "duration": 1308,
    "start_time": "2023-02-27T11:03:29.839Z"
   },
   {
    "duration": 1448,
    "start_time": "2023-02-27T11:04:26.472Z"
   },
   {
    "duration": 522,
    "start_time": "2023-02-27T11:07:34.087Z"
   },
   {
    "duration": 2786,
    "start_time": "2023-02-27T11:08:04.575Z"
   },
   {
    "duration": 3112,
    "start_time": "2023-02-27T11:12:36.783Z"
   },
   {
    "duration": 48,
    "start_time": "2023-02-27T11:19:01.544Z"
   },
   {
    "duration": 14,
    "start_time": "2023-02-27T11:19:09.287Z"
   },
   {
    "duration": 141,
    "start_time": "2023-02-27T11:19:29.623Z"
   },
   {
    "duration": 16,
    "start_time": "2023-02-27T11:20:07.407Z"
   },
   {
    "duration": 10,
    "start_time": "2023-02-27T11:21:20.319Z"
   },
   {
    "duration": 1058,
    "start_time": "2023-02-27T11:21:35.565Z"
   },
   {
    "duration": 46,
    "start_time": "2023-02-27T11:21:36.625Z"
   },
   {
    "duration": 23,
    "start_time": "2023-02-27T11:21:36.672Z"
   },
   {
    "duration": 15,
    "start_time": "2023-02-27T11:21:36.696Z"
   },
   {
    "duration": 31,
    "start_time": "2023-02-27T11:21:36.713Z"
   },
   {
    "duration": 699,
    "start_time": "2023-02-27T11:21:36.745Z"
   },
   {
    "duration": 5,
    "start_time": "2023-02-27T11:21:37.446Z"
   },
   {
    "duration": 11,
    "start_time": "2023-02-27T11:21:37.452Z"
   },
   {
    "duration": 15,
    "start_time": "2023-02-27T11:21:37.465Z"
   },
   {
    "duration": 27,
    "start_time": "2023-02-27T11:21:37.481Z"
   },
   {
    "duration": 17,
    "start_time": "2023-02-27T11:21:37.510Z"
   },
   {
    "duration": 11,
    "start_time": "2023-02-27T11:21:37.529Z"
   },
   {
    "duration": 7,
    "start_time": "2023-02-27T11:21:37.542Z"
   },
   {
    "duration": 10,
    "start_time": "2023-02-27T11:21:37.552Z"
   },
   {
    "duration": 12,
    "start_time": "2023-02-27T11:21:37.563Z"
   },
   {
    "duration": 5,
    "start_time": "2023-02-27T11:21:37.576Z"
   },
   {
    "duration": 31,
    "start_time": "2023-02-27T11:21:37.583Z"
   },
   {
    "duration": 13,
    "start_time": "2023-02-27T11:21:37.616Z"
   },
   {
    "duration": 4,
    "start_time": "2023-02-27T11:21:37.637Z"
   },
   {
    "duration": 21,
    "start_time": "2023-02-27T11:21:37.642Z"
   },
   {
    "duration": 19,
    "start_time": "2023-02-27T11:21:37.664Z"
   },
   {
    "duration": 196,
    "start_time": "2023-02-27T11:21:37.684Z"
   },
   {
    "duration": 16,
    "start_time": "2023-02-27T11:21:37.881Z"
   },
   {
    "duration": 8,
    "start_time": "2023-02-27T11:21:37.899Z"
   },
   {
    "duration": 134,
    "start_time": "2023-02-27T11:21:37.908Z"
   },
   {
    "duration": 966,
    "start_time": "2023-02-27T11:21:38.044Z"
   },
   {
    "duration": 5,
    "start_time": "2023-02-27T11:21:39.012Z"
   },
   {
    "duration": 289,
    "start_time": "2023-02-27T11:21:39.018Z"
   },
   {
    "duration": 222,
    "start_time": "2023-02-27T11:21:39.309Z"
   },
   {
    "duration": 272,
    "start_time": "2023-02-27T11:21:39.536Z"
   },
   {
    "duration": 3216,
    "start_time": "2023-02-27T11:21:39.810Z"
   },
   {
    "duration": 507,
    "start_time": "2023-02-27T11:21:43.036Z"
   },
   {
    "duration": 45,
    "start_time": "2023-02-27T11:21:43.545Z"
   },
   {
    "duration": 107,
    "start_time": "2023-02-27T11:21:43.591Z"
   },
   {
    "duration": 0,
    "start_time": "2023-02-27T11:21:43.700Z"
   },
   {
    "duration": 1,
    "start_time": "2023-02-27T11:21:43.701Z"
   },
   {
    "duration": 0,
    "start_time": "2023-02-27T11:21:43.703Z"
   },
   {
    "duration": 0,
    "start_time": "2023-02-27T11:21:43.704Z"
   },
   {
    "duration": 9,
    "start_time": "2023-02-27T11:22:14.241Z"
   },
   {
    "duration": 135,
    "start_time": "2023-02-27T11:23:03.695Z"
   },
   {
    "duration": 202,
    "start_time": "2023-02-27T11:23:16.191Z"
   },
   {
    "duration": 335,
    "start_time": "2023-02-27T11:23:31.635Z"
   },
   {
    "duration": 192,
    "start_time": "2023-02-27T11:23:39.171Z"
   },
   {
    "duration": 203,
    "start_time": "2023-02-27T11:23:44.834Z"
   },
   {
    "duration": 150,
    "start_time": "2023-02-27T11:24:37.631Z"
   },
   {
    "duration": 1153,
    "start_time": "2023-02-27T11:24:47.367Z"
   },
   {
    "duration": 48,
    "start_time": "2023-02-27T11:24:48.522Z"
   },
   {
    "duration": 22,
    "start_time": "2023-02-27T11:24:48.571Z"
   },
   {
    "duration": 14,
    "start_time": "2023-02-27T11:24:48.595Z"
   },
   {
    "duration": 37,
    "start_time": "2023-02-27T11:24:48.611Z"
   },
   {
    "duration": 723,
    "start_time": "2023-02-27T11:24:48.649Z"
   },
   {
    "duration": 3,
    "start_time": "2023-02-27T11:24:49.374Z"
   },
   {
    "duration": 12,
    "start_time": "2023-02-27T11:24:49.379Z"
   },
   {
    "duration": 10,
    "start_time": "2023-02-27T11:24:49.393Z"
   },
   {
    "duration": 28,
    "start_time": "2023-02-27T11:24:49.405Z"
   },
   {
    "duration": 22,
    "start_time": "2023-02-27T11:24:49.435Z"
   },
   {
    "duration": 4,
    "start_time": "2023-02-27T11:24:49.459Z"
   },
   {
    "duration": 6,
    "start_time": "2023-02-27T11:24:49.465Z"
   },
   {
    "duration": 8,
    "start_time": "2023-02-27T11:24:49.475Z"
   },
   {
    "duration": 19,
    "start_time": "2023-02-27T11:24:49.484Z"
   },
   {
    "duration": 7,
    "start_time": "2023-02-27T11:24:49.504Z"
   },
   {
    "duration": 25,
    "start_time": "2023-02-27T11:24:49.512Z"
   },
   {
    "duration": 13,
    "start_time": "2023-02-27T11:24:49.539Z"
   },
   {
    "duration": 4,
    "start_time": "2023-02-27T11:24:49.554Z"
   },
   {
    "duration": 18,
    "start_time": "2023-02-27T11:24:49.560Z"
   },
   {
    "duration": 15,
    "start_time": "2023-02-27T11:24:49.579Z"
   },
   {
    "duration": 222,
    "start_time": "2023-02-27T11:24:49.596Z"
   },
   {
    "duration": 25,
    "start_time": "2023-02-27T11:24:49.819Z"
   },
   {
    "duration": 7,
    "start_time": "2023-02-27T11:24:49.845Z"
   },
   {
    "duration": 126,
    "start_time": "2023-02-27T11:24:49.853Z"
   },
   {
    "duration": 994,
    "start_time": "2023-02-27T11:24:49.980Z"
   },
   {
    "duration": 5,
    "start_time": "2023-02-27T11:24:50.975Z"
   },
   {
    "duration": 298,
    "start_time": "2023-02-27T11:24:50.981Z"
   },
   {
    "duration": 230,
    "start_time": "2023-02-27T11:24:51.281Z"
   },
   {
    "duration": 257,
    "start_time": "2023-02-27T11:24:51.512Z"
   },
   {
    "duration": 3181,
    "start_time": "2023-02-27T11:24:51.771Z"
   },
   {
    "duration": 486,
    "start_time": "2023-02-27T11:24:54.954Z"
   },
   {
    "duration": 46,
    "start_time": "2023-02-27T11:24:55.442Z"
   },
   {
    "duration": 242,
    "start_time": "2023-02-27T11:24:55.489Z"
   },
   {
    "duration": 16,
    "start_time": "2023-02-27T11:24:55.736Z"
   },
   {
    "duration": 192,
    "start_time": "2023-02-27T11:24:55.754Z"
   },
   {
    "duration": 18,
    "start_time": "2023-02-27T11:24:55.947Z"
   },
   {
    "duration": 145,
    "start_time": "2023-02-27T11:24:55.966Z"
   },
   {
    "duration": 16,
    "start_time": "2023-02-27T11:24:56.112Z"
   },
   {
    "duration": 232,
    "start_time": "2023-02-27T11:26:23.134Z"
   },
   {
    "duration": 164,
    "start_time": "2023-02-27T11:27:34.917Z"
   },
   {
    "duration": 1057,
    "start_time": "2023-02-27T11:53:29.567Z"
   },
   {
    "duration": 48,
    "start_time": "2023-02-27T11:53:30.626Z"
   },
   {
    "duration": 21,
    "start_time": "2023-02-27T11:53:30.676Z"
   },
   {
    "duration": 16,
    "start_time": "2023-02-27T11:53:30.699Z"
   },
   {
    "duration": 38,
    "start_time": "2023-02-27T11:53:30.717Z"
   },
   {
    "duration": 691,
    "start_time": "2023-02-27T11:53:30.757Z"
   },
   {
    "duration": 5,
    "start_time": "2023-02-27T11:53:31.450Z"
   },
   {
    "duration": 5,
    "start_time": "2023-02-27T11:53:31.457Z"
   },
   {
    "duration": 7,
    "start_time": "2023-02-27T11:53:31.463Z"
   },
   {
    "duration": 35,
    "start_time": "2023-02-27T11:53:31.472Z"
   },
   {
    "duration": 34,
    "start_time": "2023-02-27T11:53:31.508Z"
   },
   {
    "duration": 4,
    "start_time": "2023-02-27T11:53:31.544Z"
   },
   {
    "duration": 36,
    "start_time": "2023-02-27T11:53:31.550Z"
   },
   {
    "duration": 24,
    "start_time": "2023-02-27T11:53:31.588Z"
   },
   {
    "duration": 12,
    "start_time": "2023-02-27T11:53:31.613Z"
   },
   {
    "duration": 5,
    "start_time": "2023-02-27T11:53:31.626Z"
   },
   {
    "duration": 13,
    "start_time": "2023-02-27T11:53:31.632Z"
   },
   {
    "duration": 15,
    "start_time": "2023-02-27T11:53:31.647Z"
   },
   {
    "duration": 5,
    "start_time": "2023-02-27T11:53:31.664Z"
   },
   {
    "duration": 29,
    "start_time": "2023-02-27T11:53:31.671Z"
   },
   {
    "duration": 14,
    "start_time": "2023-02-27T11:53:31.701Z"
   },
   {
    "duration": 214,
    "start_time": "2023-02-27T11:53:31.717Z"
   },
   {
    "duration": 17,
    "start_time": "2023-02-27T11:53:31.933Z"
   },
   {
    "duration": 8,
    "start_time": "2023-02-27T11:53:31.952Z"
   },
   {
    "duration": 194,
    "start_time": "2023-02-27T11:53:31.962Z"
   },
   {
    "duration": 1063,
    "start_time": "2023-02-27T11:53:32.157Z"
   },
   {
    "duration": 6,
    "start_time": "2023-02-27T11:53:33.222Z"
   },
   {
    "duration": 295,
    "start_time": "2023-02-27T11:53:33.237Z"
   },
   {
    "duration": 236,
    "start_time": "2023-02-27T11:53:33.534Z"
   },
   {
    "duration": 270,
    "start_time": "2023-02-27T11:53:33.772Z"
   },
   {
    "duration": 3363,
    "start_time": "2023-02-27T11:53:34.044Z"
   },
   {
    "duration": 520,
    "start_time": "2023-02-27T11:53:37.409Z"
   },
   {
    "duration": 62,
    "start_time": "2023-02-27T11:53:37.930Z"
   },
   {
    "duration": 238,
    "start_time": "2023-02-27T11:53:37.994Z"
   },
   {
    "duration": 15,
    "start_time": "2023-02-27T11:53:38.234Z"
   },
   {
    "duration": 279,
    "start_time": "2023-02-27T11:53:38.250Z"
   },
   {
    "duration": 17,
    "start_time": "2023-02-27T11:53:38.531Z"
   },
   {
    "duration": 291,
    "start_time": "2023-02-27T11:53:38.550Z"
   },
   {
    "duration": 12,
    "start_time": "2023-02-27T11:53:38.843Z"
   },
   {
    "duration": 14,
    "start_time": "2023-02-27T11:53:38.856Z"
   },
   {
    "duration": 2978,
    "start_time": "2023-02-27T12:05:48.823Z"
   }
  ],
  "kernelspec": {
   "display_name": "Python 3 (ipykernel)",
   "language": "python",
   "name": "python3"
  },
  "language_info": {
   "codemirror_mode": {
    "name": "ipython",
    "version": 3
   },
   "file_extension": ".py",
   "mimetype": "text/x-python",
   "name": "python",
   "nbconvert_exporter": "python",
   "pygments_lexer": "ipython3",
   "version": "3.9.5"
  },
  "toc": {
   "base_numbering": 1,
   "nav_menu": {
    "height": "165px",
    "width": "160px"
   },
   "number_sections": true,
   "sideBar": true,
   "skip_h1_title": true,
   "title_cell": "Table of Contents",
   "title_sidebar": "Contents",
   "toc_cell": false,
   "toc_position": {},
   "toc_section_display": true,
   "toc_window_display": false
  }
 },
 "nbformat": 4,
 "nbformat_minor": 2
}
