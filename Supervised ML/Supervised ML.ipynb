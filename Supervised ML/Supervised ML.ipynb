{
 "cells": [
  {
   "cell_type": "markdown",
   "metadata": {
    "toc": true
   },
   "source": [
    "<h1>Содержание<span class=\"tocSkip\"></span></h1>\n",
    "<div class=\"toc\"><ul class=\"toc-item\"><li><span><a href=\"#Импортируем-необходимые-библиотеки\" data-toc-modified-id=\"Импортируем-необходимые-библиотеки-1\"><span class=\"toc-item-num\">1&nbsp;&nbsp;</span>Импортируем необходимые библиотеки</a></span></li><li><span><a href=\"#Считаем-дата-сет,-используя-оба-источника\" data-toc-modified-id=\"Считаем-дата-сет,-используя-оба-источника-2\"><span class=\"toc-item-num\">2&nbsp;&nbsp;</span>Считаем дата-сет, используя оба источника</a></span></li><li><span><a href=\"#Ознакамливаемся-с-содержанием-дата-сета-и-выводим-всю-необходимую-информацию\" data-toc-modified-id=\"Ознакамливаемся-с-содержанием-дата-сета-и-выводим-всю-необходимую-информацию-3\"><span class=\"toc-item-num\">3&nbsp;&nbsp;</span>Ознакамливаемся с содержанием дата-сета и выводим всю необходимую информацию</a></span></li><li><span><a href=\"#Проведем-предобработку-данных-согласно-&quot;правилам-хорошего-тона&quot;\" data-toc-modified-id=\"Проведем-предобработку-данных-согласно-&quot;правилам-хорошего-тона&quot;-4\"><span class=\"toc-item-num\">4&nbsp;&nbsp;</span>Проведем предобработку данных согласно \"правилам хорошего тона\"</a></span><ul class=\"toc-item\"><li><span><a href=\"#Для-начала,-исправим-названия-столбцов\" data-toc-modified-id=\"Для-начала,-исправим-названия-столбцов-4.1\"><span class=\"toc-item-num\">4.1&nbsp;&nbsp;</span>Для начала, исправим названия столбцов</a></span></li></ul></li><li><span><a href=\"#Проверим-наличие-пропусков\" data-toc-modified-id=\"Проверим-наличие-пропусков-5\"><span class=\"toc-item-num\">5&nbsp;&nbsp;</span>Проверим наличие пропусков</a></span></li><li><span><a href=\"#Теперь-проверим-наличие-дубликатов\" data-toc-modified-id=\"Теперь-проверим-наличие-дубликатов-6\"><span class=\"toc-item-num\">6&nbsp;&nbsp;</span>Теперь проверим наличие дубликатов</a></span></li><li><span><a href=\"#Удаляем-неинформативные-(не-нужные-нам-в-исследовании)-столбцы\" data-toc-modified-id=\"Удаляем-неинформативные-(не-нужные-нам-в-исследовании)-столбцы-7\"><span class=\"toc-item-num\">7&nbsp;&nbsp;</span>Удаляем неинформативные (не нужные нам в исследовании) столбцы</a></span></li><li><span><a href=\"#Используем-столбец-&quot;customer_id&quot;-в-качестве-индекса.\" data-toc-modified-id=\"Используем-столбец-&quot;customer_id&quot;-в-качестве-индекса.-8\"><span class=\"toc-item-num\">8&nbsp;&nbsp;</span>Используем столбец \"customer_id\" в качестве индекса.</a></span></li><li><span><a href=\"#Исследуем-баланс-классов\" data-toc-modified-id=\"Исследуем-баланс-классов-9\"><span class=\"toc-item-num\">9&nbsp;&nbsp;</span>Исследуем баланс классов</a></span></li><li><span><a href=\"#Исследуем-корреляцию-признаков\" data-toc-modified-id=\"Исследуем-корреляцию-признаков-10\"><span class=\"toc-item-num\">10&nbsp;&nbsp;</span>Исследуем корреляцию признаков</a></span></li><li><span><a href=\"#Закодируем-строчные-значения-дата-сета,-используя-технику-One-hot-Encoding\" data-toc-modified-id=\"Закодируем-строчные-значения-дата-сета,-используя-технику-One-hot-Encoding-11\"><span class=\"toc-item-num\">11&nbsp;&nbsp;</span>Закодируем строчные значения дата-сета, используя технику One-hot Encoding</a></span></li><li><span><a href=\"#Проверяем-результат-предобработки-данных\" data-toc-modified-id=\"Проверяем-результат-предобработки-данных-12\"><span class=\"toc-item-num\">12&nbsp;&nbsp;</span>Проверяем результат предобработки данных</a></span></li><li><span><a href=\"#Объявим-переменные-для-признаков-и-целевого-признака\" data-toc-modified-id=\"Объявим-переменные-для-признаков-и-целевого-признака-13\"><span class=\"toc-item-num\">13&nbsp;&nbsp;</span>Объявим переменные для признаков и целевого признака</a></span></li><li><span><a href=\"#В-исследовании-будем-импользлвать-2-модели.-&quot;Случайный-лес&quot;-и-&quot;Логистическая-регрессия&quot;\" data-toc-modified-id=\"В-исследовании-будем-импользлвать-2-модели.-&quot;Случайный-лес&quot;-и-&quot;Логистическая-регрессия&quot;-14\"><span class=\"toc-item-num\">14&nbsp;&nbsp;</span>В исследовании будем импользлвать 2 модели. \"Случайный лес\" и \"Логистическая регрессия\"</a></span><ul class=\"toc-item\"><li><span><a href=\"#Случайный-Лес\" data-toc-modified-id=\"Случайный-Лес-14.1\"><span class=\"toc-item-num\">14.1&nbsp;&nbsp;</span>Случайный Лес</a></span></li><li><span><a href=\"#Логистическая-регрессия\" data-toc-modified-id=\"Логистическая-регрессия-14.2\"><span class=\"toc-item-num\">14.2&nbsp;&nbsp;</span>Логистическая регрессия</a></span></li></ul></li><li><span><a href=\"#Выводы-о-моделях-без-учета-баланса-классов.\" data-toc-modified-id=\"Выводы-о-моделях-без-учета-баланса-классов.-15\"><span class=\"toc-item-num\">15&nbsp;&nbsp;</span>Выводы о моделях без учета баланса классов.</a></span></li><li><span><a href=\"#Для-начала-посмотрим-результат-настройкт-&quot;веса-классов&quot;\" data-toc-modified-id=\"Для-начала-посмотрим-результат-настройкт-&quot;веса-классов&quot;-16\"><span class=\"toc-item-num\">16&nbsp;&nbsp;</span>Для начала посмотрим результат настройкт \"веса классов\"</a></span><ul class=\"toc-item\"><li><span><a href=\"#Случайный-лес\" data-toc-modified-id=\"Случайный-лес-16.1\"><span class=\"toc-item-num\">16.1&nbsp;&nbsp;</span>Случайный лес</a></span></li><li><span><a href=\"#Логистическая-регрессия\" data-toc-modified-id=\"Логистическая-регрессия-16.2\"><span class=\"toc-item-num\">16.2&nbsp;&nbsp;</span>Логистическая регрессия</a></span></li></ul></li><li><span><a href=\"#Вывод-о-моделях,-при-использовании-&quot;Веса-классов&quot;\" data-toc-modified-id=\"Вывод-о-моделях,-при-использовании-&quot;Веса-классов&quot;-17\"><span class=\"toc-item-num\">17&nbsp;&nbsp;</span>Вывод о моделях, при использовании \"Веса классов\"</a></span></li><li><span><a href=\"#Случайный-лес\" data-toc-modified-id=\"Случайный-лес-18\"><span class=\"toc-item-num\">18&nbsp;&nbsp;</span>Случайный лес</a></span></li><li><span><a href=\"#Логистическая-регрессия\" data-toc-modified-id=\"Логистическая-регрессия-19\"><span class=\"toc-item-num\">19&nbsp;&nbsp;</span>Логистическая регрессия</a></span></li><li><span><a href=\"#Промежуточный-вывод-о-моделях,-используя-технику-UpSampling'a\" data-toc-modified-id=\"Промежуточный-вывод-о-моделях,-используя-технику-UpSampling'a-20\"><span class=\"toc-item-num\">20&nbsp;&nbsp;</span>Промежуточный вывод о моделях, используя технику UpSampling'a</a></span></li><li><span><a href=\"#Чек-лист-готовности-проекта\" data-toc-modified-id=\"Чек-лист-готовности-проекта-21\"><span class=\"toc-item-num\">21&nbsp;&nbsp;</span>Чек-лист готовности проекта</a></span></li></ul></div>"
   ]
  },
  {
   "cell_type": "markdown",
   "metadata": {},
   "source": [
    "# Отток клиентов"
   ]
  },
  {
   "cell_type": "markdown",
   "metadata": {},
   "source": [
    "Из «Бета-Банка» стали уходить клиенты. Каждый месяц. Немного, но заметно. Банковские маркетологи посчитали: сохранять текущих клиентов дешевле, чем привлекать новых.\n",
    "\n",
    "Нужно спрогнозировать, уйдёт клиент из банка в ближайшее время или нет. Вам предоставлены исторические данные о поведении клиентов и расторжении договоров с банком. \n",
    "\n",
    "Постройте модель с предельно большим значением *F1*-меры. Чтобы сдать проект успешно, нужно довести метрику до 0.59. Проверьте *F1*-меру на тестовой выборке самостоятельно.\n",
    "\n",
    "Дополнительно измеряйте *AUC-ROC*, сравнивайте её значение с *F1*-мерой.\n",
    "\n",
    "Источник данных: [https://www.kaggle.com/barelydedicated/bank-customer-churn-modeling](https://www.kaggle.com/barelydedicated/bank-customer-churn-modeling)"
   ]
  },
  {
   "cell_type": "markdown",
   "metadata": {},
   "source": [
    "# Описание проекта"
   ]
  },
  {
   "cell_type": "markdown",
   "metadata": {},
   "source": [
    "Имеется дата-сет с показателями оттока клиентов банка. Необходимо выбрать и построить модель, прогнозирующюю отток клиентов.\\\n",
    "Согласно заданию сначала необходимо построить модель без учета баланса классов, затем изучить методы борьбы с дисбалансом, используя различные методики. Их, по сути 2:\n",
    "- Добавление веса классам\n",
    "- Используя технику UpSampling\n",
    "\n",
    "Примерный ход выполнения проекта\n",
    "- Подготовка данных (согласно правилам хорошего тона)\n",
    "- Закодировать дата-сет методом One-Hot Encoding, для избавления от строчных значений столбцов\n",
    "- Обучение моделей без учета дисбаланса классов\n",
    "- Обучение моделей с учетом дисбаланса классов, добавляя вес классам\n",
    "- Провести UpSampling\n",
    "- Обучение моделей с учетом дисбаланса классов, используя UpSampling\n",
    "- Тестирование лучших моделей\n",
    "- Формулирование общего и промежуточных выводов\n",
    "\n",
    "В ходе выполнение работы будут подсчитаны метрики:\n",
    "- Accuracy\n",
    "- F1 score\n",
    "- ROC-AUC score\n",
    "\n",
    "Целевая метрика - F1 score. Необоходимо довести метрику до значения 0.59.\n",
    "Основные используемые библиотеки:\n",
    "\n",
    "- Pandas\n",
    "- SK-learn\n"
   ]
  },
  {
   "cell_type": "markdown",
   "metadata": {},
   "source": [
    "# Подготовка данных"
   ]
  },
  {
   "cell_type": "markdown",
   "metadata": {},
   "source": [
    "## Импортируем необходимые библиотеки"
   ]
  },
  {
   "cell_type": "code",
   "execution_count": 1,
   "metadata": {},
   "outputs": [],
   "source": [
    "import pandas as pd\n",
    "import numpy as np\n",
    "import warnings\n",
    "warnings.filterwarnings(\"ignore\")\n",
    "from tqdm.auto import tqdm\n",
    "from sklearn.utils import resample\n",
    "from sklearn.model_selection import train_test_split, cross_val_score\n",
    "from sklearn.ensemble import RandomForestClassifier\n",
    "from sklearn.linear_model import LogisticRegression\n",
    "from sklearn.preprocessing import StandardScaler\n",
    "from sklearn.metrics import f1_score, accuracy_score, roc_auc_score, confusion_matrix, make_scorer"
   ]
  },
  {
   "cell_type": "markdown",
   "metadata": {},
   "source": [
    "## Считаем дата-сет, используя оба источника"
   ]
  },
  {
   "cell_type": "code",
   "execution_count": 2,
   "metadata": {},
   "outputs": [],
   "source": [
    "try:\n",
    "    df = pd.read_csv('/datasets/Churn.csv')\n",
    "except:\n",
    "    df = pd.read_csv('https://code.s3.yandex.net/datasets/Churn.csv')"
   ]
  },
  {
   "cell_type": "markdown",
   "metadata": {},
   "source": [
    "## Ознакамливаемся с содержанием дата-сета и выводим всю необходимую информацию"
   ]
  },
  {
   "cell_type": "code",
   "execution_count": 3,
   "metadata": {},
   "outputs": [
    {
     "data": {
      "text/html": [
       "<div>\n",
       "<style scoped>\n",
       "    .dataframe tbody tr th:only-of-type {\n",
       "        vertical-align: middle;\n",
       "    }\n",
       "\n",
       "    .dataframe tbody tr th {\n",
       "        vertical-align: top;\n",
       "    }\n",
       "\n",
       "    .dataframe thead th {\n",
       "        text-align: right;\n",
       "    }\n",
       "</style>\n",
       "<table border=\"1\" class=\"dataframe\">\n",
       "  <thead>\n",
       "    <tr style=\"text-align: right;\">\n",
       "      <th></th>\n",
       "      <th>RowNumber</th>\n",
       "      <th>CustomerId</th>\n",
       "      <th>Surname</th>\n",
       "      <th>CreditScore</th>\n",
       "      <th>Geography</th>\n",
       "      <th>Gender</th>\n",
       "      <th>Age</th>\n",
       "      <th>Tenure</th>\n",
       "      <th>Balance</th>\n",
       "      <th>NumOfProducts</th>\n",
       "      <th>HasCrCard</th>\n",
       "      <th>IsActiveMember</th>\n",
       "      <th>EstimatedSalary</th>\n",
       "      <th>Exited</th>\n",
       "    </tr>\n",
       "  </thead>\n",
       "  <tbody>\n",
       "    <tr>\n",
       "      <th>0</th>\n",
       "      <td>1</td>\n",
       "      <td>15634602</td>\n",
       "      <td>Hargrave</td>\n",
       "      <td>619</td>\n",
       "      <td>France</td>\n",
       "      <td>Female</td>\n",
       "      <td>42</td>\n",
       "      <td>2.0</td>\n",
       "      <td>0.00</td>\n",
       "      <td>1</td>\n",
       "      <td>1</td>\n",
       "      <td>1</td>\n",
       "      <td>101348.88</td>\n",
       "      <td>1</td>\n",
       "    </tr>\n",
       "    <tr>\n",
       "      <th>1</th>\n",
       "      <td>2</td>\n",
       "      <td>15647311</td>\n",
       "      <td>Hill</td>\n",
       "      <td>608</td>\n",
       "      <td>Spain</td>\n",
       "      <td>Female</td>\n",
       "      <td>41</td>\n",
       "      <td>1.0</td>\n",
       "      <td>83807.86</td>\n",
       "      <td>1</td>\n",
       "      <td>0</td>\n",
       "      <td>1</td>\n",
       "      <td>112542.58</td>\n",
       "      <td>0</td>\n",
       "    </tr>\n",
       "    <tr>\n",
       "      <th>2</th>\n",
       "      <td>3</td>\n",
       "      <td>15619304</td>\n",
       "      <td>Onio</td>\n",
       "      <td>502</td>\n",
       "      <td>France</td>\n",
       "      <td>Female</td>\n",
       "      <td>42</td>\n",
       "      <td>8.0</td>\n",
       "      <td>159660.80</td>\n",
       "      <td>3</td>\n",
       "      <td>1</td>\n",
       "      <td>0</td>\n",
       "      <td>113931.57</td>\n",
       "      <td>1</td>\n",
       "    </tr>\n",
       "    <tr>\n",
       "      <th>3</th>\n",
       "      <td>4</td>\n",
       "      <td>15701354</td>\n",
       "      <td>Boni</td>\n",
       "      <td>699</td>\n",
       "      <td>France</td>\n",
       "      <td>Female</td>\n",
       "      <td>39</td>\n",
       "      <td>1.0</td>\n",
       "      <td>0.00</td>\n",
       "      <td>2</td>\n",
       "      <td>0</td>\n",
       "      <td>0</td>\n",
       "      <td>93826.63</td>\n",
       "      <td>0</td>\n",
       "    </tr>\n",
       "    <tr>\n",
       "      <th>4</th>\n",
       "      <td>5</td>\n",
       "      <td>15737888</td>\n",
       "      <td>Mitchell</td>\n",
       "      <td>850</td>\n",
       "      <td>Spain</td>\n",
       "      <td>Female</td>\n",
       "      <td>43</td>\n",
       "      <td>2.0</td>\n",
       "      <td>125510.82</td>\n",
       "      <td>1</td>\n",
       "      <td>1</td>\n",
       "      <td>1</td>\n",
       "      <td>79084.10</td>\n",
       "      <td>0</td>\n",
       "    </tr>\n",
       "    <tr>\n",
       "      <th>5</th>\n",
       "      <td>6</td>\n",
       "      <td>15574012</td>\n",
       "      <td>Chu</td>\n",
       "      <td>645</td>\n",
       "      <td>Spain</td>\n",
       "      <td>Male</td>\n",
       "      <td>44</td>\n",
       "      <td>8.0</td>\n",
       "      <td>113755.78</td>\n",
       "      <td>2</td>\n",
       "      <td>1</td>\n",
       "      <td>0</td>\n",
       "      <td>149756.71</td>\n",
       "      <td>1</td>\n",
       "    </tr>\n",
       "    <tr>\n",
       "      <th>6</th>\n",
       "      <td>7</td>\n",
       "      <td>15592531</td>\n",
       "      <td>Bartlett</td>\n",
       "      <td>822</td>\n",
       "      <td>France</td>\n",
       "      <td>Male</td>\n",
       "      <td>50</td>\n",
       "      <td>7.0</td>\n",
       "      <td>0.00</td>\n",
       "      <td>2</td>\n",
       "      <td>1</td>\n",
       "      <td>1</td>\n",
       "      <td>10062.80</td>\n",
       "      <td>0</td>\n",
       "    </tr>\n",
       "    <tr>\n",
       "      <th>7</th>\n",
       "      <td>8</td>\n",
       "      <td>15656148</td>\n",
       "      <td>Obinna</td>\n",
       "      <td>376</td>\n",
       "      <td>Germany</td>\n",
       "      <td>Female</td>\n",
       "      <td>29</td>\n",
       "      <td>4.0</td>\n",
       "      <td>115046.74</td>\n",
       "      <td>4</td>\n",
       "      <td>1</td>\n",
       "      <td>0</td>\n",
       "      <td>119346.88</td>\n",
       "      <td>1</td>\n",
       "    </tr>\n",
       "    <tr>\n",
       "      <th>8</th>\n",
       "      <td>9</td>\n",
       "      <td>15792365</td>\n",
       "      <td>He</td>\n",
       "      <td>501</td>\n",
       "      <td>France</td>\n",
       "      <td>Male</td>\n",
       "      <td>44</td>\n",
       "      <td>4.0</td>\n",
       "      <td>142051.07</td>\n",
       "      <td>2</td>\n",
       "      <td>0</td>\n",
       "      <td>1</td>\n",
       "      <td>74940.50</td>\n",
       "      <td>0</td>\n",
       "    </tr>\n",
       "    <tr>\n",
       "      <th>9</th>\n",
       "      <td>10</td>\n",
       "      <td>15592389</td>\n",
       "      <td>H?</td>\n",
       "      <td>684</td>\n",
       "      <td>France</td>\n",
       "      <td>Male</td>\n",
       "      <td>27</td>\n",
       "      <td>2.0</td>\n",
       "      <td>134603.88</td>\n",
       "      <td>1</td>\n",
       "      <td>1</td>\n",
       "      <td>1</td>\n",
       "      <td>71725.73</td>\n",
       "      <td>0</td>\n",
       "    </tr>\n",
       "    <tr>\n",
       "      <th>10</th>\n",
       "      <td>11</td>\n",
       "      <td>15767821</td>\n",
       "      <td>Bearce</td>\n",
       "      <td>528</td>\n",
       "      <td>France</td>\n",
       "      <td>Male</td>\n",
       "      <td>31</td>\n",
       "      <td>6.0</td>\n",
       "      <td>102016.72</td>\n",
       "      <td>2</td>\n",
       "      <td>0</td>\n",
       "      <td>0</td>\n",
       "      <td>80181.12</td>\n",
       "      <td>0</td>\n",
       "    </tr>\n",
       "    <tr>\n",
       "      <th>11</th>\n",
       "      <td>12</td>\n",
       "      <td>15737173</td>\n",
       "      <td>Andrews</td>\n",
       "      <td>497</td>\n",
       "      <td>Spain</td>\n",
       "      <td>Male</td>\n",
       "      <td>24</td>\n",
       "      <td>3.0</td>\n",
       "      <td>0.00</td>\n",
       "      <td>2</td>\n",
       "      <td>1</td>\n",
       "      <td>0</td>\n",
       "      <td>76390.01</td>\n",
       "      <td>0</td>\n",
       "    </tr>\n",
       "    <tr>\n",
       "      <th>12</th>\n",
       "      <td>13</td>\n",
       "      <td>15632264</td>\n",
       "      <td>Kay</td>\n",
       "      <td>476</td>\n",
       "      <td>France</td>\n",
       "      <td>Female</td>\n",
       "      <td>34</td>\n",
       "      <td>10.0</td>\n",
       "      <td>0.00</td>\n",
       "      <td>2</td>\n",
       "      <td>1</td>\n",
       "      <td>0</td>\n",
       "      <td>26260.98</td>\n",
       "      <td>0</td>\n",
       "    </tr>\n",
       "    <tr>\n",
       "      <th>13</th>\n",
       "      <td>14</td>\n",
       "      <td>15691483</td>\n",
       "      <td>Chin</td>\n",
       "      <td>549</td>\n",
       "      <td>France</td>\n",
       "      <td>Female</td>\n",
       "      <td>25</td>\n",
       "      <td>5.0</td>\n",
       "      <td>0.00</td>\n",
       "      <td>2</td>\n",
       "      <td>0</td>\n",
       "      <td>0</td>\n",
       "      <td>190857.79</td>\n",
       "      <td>0</td>\n",
       "    </tr>\n",
       "    <tr>\n",
       "      <th>14</th>\n",
       "      <td>15</td>\n",
       "      <td>15600882</td>\n",
       "      <td>Scott</td>\n",
       "      <td>635</td>\n",
       "      <td>Spain</td>\n",
       "      <td>Female</td>\n",
       "      <td>35</td>\n",
       "      <td>7.0</td>\n",
       "      <td>0.00</td>\n",
       "      <td>2</td>\n",
       "      <td>1</td>\n",
       "      <td>1</td>\n",
       "      <td>65951.65</td>\n",
       "      <td>0</td>\n",
       "    </tr>\n",
       "    <tr>\n",
       "      <th>15</th>\n",
       "      <td>16</td>\n",
       "      <td>15643966</td>\n",
       "      <td>Goforth</td>\n",
       "      <td>616</td>\n",
       "      <td>Germany</td>\n",
       "      <td>Male</td>\n",
       "      <td>45</td>\n",
       "      <td>3.0</td>\n",
       "      <td>143129.41</td>\n",
       "      <td>2</td>\n",
       "      <td>0</td>\n",
       "      <td>1</td>\n",
       "      <td>64327.26</td>\n",
       "      <td>0</td>\n",
       "    </tr>\n",
       "    <tr>\n",
       "      <th>16</th>\n",
       "      <td>17</td>\n",
       "      <td>15737452</td>\n",
       "      <td>Romeo</td>\n",
       "      <td>653</td>\n",
       "      <td>Germany</td>\n",
       "      <td>Male</td>\n",
       "      <td>58</td>\n",
       "      <td>1.0</td>\n",
       "      <td>132602.88</td>\n",
       "      <td>1</td>\n",
       "      <td>1</td>\n",
       "      <td>0</td>\n",
       "      <td>5097.67</td>\n",
       "      <td>1</td>\n",
       "    </tr>\n",
       "    <tr>\n",
       "      <th>17</th>\n",
       "      <td>18</td>\n",
       "      <td>15788218</td>\n",
       "      <td>Henderson</td>\n",
       "      <td>549</td>\n",
       "      <td>Spain</td>\n",
       "      <td>Female</td>\n",
       "      <td>24</td>\n",
       "      <td>9.0</td>\n",
       "      <td>0.00</td>\n",
       "      <td>2</td>\n",
       "      <td>1</td>\n",
       "      <td>1</td>\n",
       "      <td>14406.41</td>\n",
       "      <td>0</td>\n",
       "    </tr>\n",
       "    <tr>\n",
       "      <th>18</th>\n",
       "      <td>19</td>\n",
       "      <td>15661507</td>\n",
       "      <td>Muldrow</td>\n",
       "      <td>587</td>\n",
       "      <td>Spain</td>\n",
       "      <td>Male</td>\n",
       "      <td>45</td>\n",
       "      <td>6.0</td>\n",
       "      <td>0.00</td>\n",
       "      <td>1</td>\n",
       "      <td>0</td>\n",
       "      <td>0</td>\n",
       "      <td>158684.81</td>\n",
       "      <td>0</td>\n",
       "    </tr>\n",
       "    <tr>\n",
       "      <th>19</th>\n",
       "      <td>20</td>\n",
       "      <td>15568982</td>\n",
       "      <td>Hao</td>\n",
       "      <td>726</td>\n",
       "      <td>France</td>\n",
       "      <td>Female</td>\n",
       "      <td>24</td>\n",
       "      <td>6.0</td>\n",
       "      <td>0.00</td>\n",
       "      <td>2</td>\n",
       "      <td>1</td>\n",
       "      <td>1</td>\n",
       "      <td>54724.03</td>\n",
       "      <td>0</td>\n",
       "    </tr>\n",
       "  </tbody>\n",
       "</table>\n",
       "</div>"
      ],
      "text/plain": [
       "    RowNumber  CustomerId    Surname  CreditScore Geography  Gender  Age  \\\n",
       "0           1    15634602   Hargrave          619    France  Female   42   \n",
       "1           2    15647311       Hill          608     Spain  Female   41   \n",
       "2           3    15619304       Onio          502    France  Female   42   \n",
       "3           4    15701354       Boni          699    France  Female   39   \n",
       "4           5    15737888   Mitchell          850     Spain  Female   43   \n",
       "5           6    15574012        Chu          645     Spain    Male   44   \n",
       "6           7    15592531   Bartlett          822    France    Male   50   \n",
       "7           8    15656148     Obinna          376   Germany  Female   29   \n",
       "8           9    15792365         He          501    France    Male   44   \n",
       "9          10    15592389         H?          684    France    Male   27   \n",
       "10         11    15767821     Bearce          528    France    Male   31   \n",
       "11         12    15737173    Andrews          497     Spain    Male   24   \n",
       "12         13    15632264        Kay          476    France  Female   34   \n",
       "13         14    15691483       Chin          549    France  Female   25   \n",
       "14         15    15600882      Scott          635     Spain  Female   35   \n",
       "15         16    15643966    Goforth          616   Germany    Male   45   \n",
       "16         17    15737452      Romeo          653   Germany    Male   58   \n",
       "17         18    15788218  Henderson          549     Spain  Female   24   \n",
       "18         19    15661507    Muldrow          587     Spain    Male   45   \n",
       "19         20    15568982        Hao          726    France  Female   24   \n",
       "\n",
       "    Tenure    Balance  NumOfProducts  HasCrCard  IsActiveMember  \\\n",
       "0      2.0       0.00              1          1               1   \n",
       "1      1.0   83807.86              1          0               1   \n",
       "2      8.0  159660.80              3          1               0   \n",
       "3      1.0       0.00              2          0               0   \n",
       "4      2.0  125510.82              1          1               1   \n",
       "5      8.0  113755.78              2          1               0   \n",
       "6      7.0       0.00              2          1               1   \n",
       "7      4.0  115046.74              4          1               0   \n",
       "8      4.0  142051.07              2          0               1   \n",
       "9      2.0  134603.88              1          1               1   \n",
       "10     6.0  102016.72              2          0               0   \n",
       "11     3.0       0.00              2          1               0   \n",
       "12    10.0       0.00              2          1               0   \n",
       "13     5.0       0.00              2          0               0   \n",
       "14     7.0       0.00              2          1               1   \n",
       "15     3.0  143129.41              2          0               1   \n",
       "16     1.0  132602.88              1          1               0   \n",
       "17     9.0       0.00              2          1               1   \n",
       "18     6.0       0.00              1          0               0   \n",
       "19     6.0       0.00              2          1               1   \n",
       "\n",
       "    EstimatedSalary  Exited  \n",
       "0         101348.88       1  \n",
       "1         112542.58       0  \n",
       "2         113931.57       1  \n",
       "3          93826.63       0  \n",
       "4          79084.10       0  \n",
       "5         149756.71       1  \n",
       "6          10062.80       0  \n",
       "7         119346.88       1  \n",
       "8          74940.50       0  \n",
       "9          71725.73       0  \n",
       "10         80181.12       0  \n",
       "11         76390.01       0  \n",
       "12         26260.98       0  \n",
       "13        190857.79       0  \n",
       "14         65951.65       0  \n",
       "15         64327.26       0  \n",
       "16          5097.67       1  \n",
       "17         14406.41       0  \n",
       "18        158684.81       0  \n",
       "19         54724.03       0  "
      ]
     },
     "execution_count": 3,
     "metadata": {},
     "output_type": "execute_result"
    }
   ],
   "source": [
    "df.head(20)"
   ]
  },
  {
   "cell_type": "code",
   "execution_count": 4,
   "metadata": {},
   "outputs": [
    {
     "name": "stdout",
     "output_type": "stream",
     "text": [
      "<class 'pandas.core.frame.DataFrame'>\n",
      "RangeIndex: 10000 entries, 0 to 9999\n",
      "Data columns (total 14 columns):\n",
      " #   Column           Non-Null Count  Dtype  \n",
      "---  ------           --------------  -----  \n",
      " 0   RowNumber        10000 non-null  int64  \n",
      " 1   CustomerId       10000 non-null  int64  \n",
      " 2   Surname          10000 non-null  object \n",
      " 3   CreditScore      10000 non-null  int64  \n",
      " 4   Geography        10000 non-null  object \n",
      " 5   Gender           10000 non-null  object \n",
      " 6   Age              10000 non-null  int64  \n",
      " 7   Tenure           9091 non-null   float64\n",
      " 8   Balance          10000 non-null  float64\n",
      " 9   NumOfProducts    10000 non-null  int64  \n",
      " 10  HasCrCard        10000 non-null  int64  \n",
      " 11  IsActiveMember   10000 non-null  int64  \n",
      " 12  EstimatedSalary  10000 non-null  float64\n",
      " 13  Exited           10000 non-null  int64  \n",
      "dtypes: float64(3), int64(8), object(3)\n",
      "memory usage: 1.1+ MB\n"
     ]
    }
   ],
   "source": [
    "df.info()"
   ]
  },
  {
   "cell_type": "markdown",
   "metadata": {},
   "source": [
    "Наблюдаем большое, около 900 (9% дата-сета),  кол-во пропусков в столбце \"Tenure\"\\\n",
    "Будет необходимо что-то с этим сделать в дальнейшем"
   ]
  },
  {
   "cell_type": "code",
   "execution_count": 5,
   "metadata": {},
   "outputs": [
    {
     "data": {
      "text/html": [
       "<div>\n",
       "<style scoped>\n",
       "    .dataframe tbody tr th:only-of-type {\n",
       "        vertical-align: middle;\n",
       "    }\n",
       "\n",
       "    .dataframe tbody tr th {\n",
       "        vertical-align: top;\n",
       "    }\n",
       "\n",
       "    .dataframe thead th {\n",
       "        text-align: right;\n",
       "    }\n",
       "</style>\n",
       "<table border=\"1\" class=\"dataframe\">\n",
       "  <thead>\n",
       "    <tr style=\"text-align: right;\">\n",
       "      <th></th>\n",
       "      <th>RowNumber</th>\n",
       "      <th>CustomerId</th>\n",
       "      <th>CreditScore</th>\n",
       "      <th>Age</th>\n",
       "      <th>Tenure</th>\n",
       "      <th>Balance</th>\n",
       "      <th>NumOfProducts</th>\n",
       "      <th>HasCrCard</th>\n",
       "      <th>IsActiveMember</th>\n",
       "      <th>EstimatedSalary</th>\n",
       "      <th>Exited</th>\n",
       "    </tr>\n",
       "  </thead>\n",
       "  <tbody>\n",
       "    <tr>\n",
       "      <th>count</th>\n",
       "      <td>10000.00000</td>\n",
       "      <td>1.000000e+04</td>\n",
       "      <td>10000.000000</td>\n",
       "      <td>10000.000000</td>\n",
       "      <td>9091.000000</td>\n",
       "      <td>10000.000000</td>\n",
       "      <td>10000.000000</td>\n",
       "      <td>10000.00000</td>\n",
       "      <td>10000.000000</td>\n",
       "      <td>10000.000000</td>\n",
       "      <td>10000.000000</td>\n",
       "    </tr>\n",
       "    <tr>\n",
       "      <th>mean</th>\n",
       "      <td>5000.50000</td>\n",
       "      <td>1.569094e+07</td>\n",
       "      <td>650.528800</td>\n",
       "      <td>38.921800</td>\n",
       "      <td>4.997690</td>\n",
       "      <td>76485.889288</td>\n",
       "      <td>1.530200</td>\n",
       "      <td>0.70550</td>\n",
       "      <td>0.515100</td>\n",
       "      <td>100090.239881</td>\n",
       "      <td>0.203700</td>\n",
       "    </tr>\n",
       "    <tr>\n",
       "      <th>std</th>\n",
       "      <td>2886.89568</td>\n",
       "      <td>7.193619e+04</td>\n",
       "      <td>96.653299</td>\n",
       "      <td>10.487806</td>\n",
       "      <td>2.894723</td>\n",
       "      <td>62397.405202</td>\n",
       "      <td>0.581654</td>\n",
       "      <td>0.45584</td>\n",
       "      <td>0.499797</td>\n",
       "      <td>57510.492818</td>\n",
       "      <td>0.402769</td>\n",
       "    </tr>\n",
       "    <tr>\n",
       "      <th>min</th>\n",
       "      <td>1.00000</td>\n",
       "      <td>1.556570e+07</td>\n",
       "      <td>350.000000</td>\n",
       "      <td>18.000000</td>\n",
       "      <td>0.000000</td>\n",
       "      <td>0.000000</td>\n",
       "      <td>1.000000</td>\n",
       "      <td>0.00000</td>\n",
       "      <td>0.000000</td>\n",
       "      <td>11.580000</td>\n",
       "      <td>0.000000</td>\n",
       "    </tr>\n",
       "    <tr>\n",
       "      <th>25%</th>\n",
       "      <td>2500.75000</td>\n",
       "      <td>1.562853e+07</td>\n",
       "      <td>584.000000</td>\n",
       "      <td>32.000000</td>\n",
       "      <td>2.000000</td>\n",
       "      <td>0.000000</td>\n",
       "      <td>1.000000</td>\n",
       "      <td>0.00000</td>\n",
       "      <td>0.000000</td>\n",
       "      <td>51002.110000</td>\n",
       "      <td>0.000000</td>\n",
       "    </tr>\n",
       "    <tr>\n",
       "      <th>50%</th>\n",
       "      <td>5000.50000</td>\n",
       "      <td>1.569074e+07</td>\n",
       "      <td>652.000000</td>\n",
       "      <td>37.000000</td>\n",
       "      <td>5.000000</td>\n",
       "      <td>97198.540000</td>\n",
       "      <td>1.000000</td>\n",
       "      <td>1.00000</td>\n",
       "      <td>1.000000</td>\n",
       "      <td>100193.915000</td>\n",
       "      <td>0.000000</td>\n",
       "    </tr>\n",
       "    <tr>\n",
       "      <th>75%</th>\n",
       "      <td>7500.25000</td>\n",
       "      <td>1.575323e+07</td>\n",
       "      <td>718.000000</td>\n",
       "      <td>44.000000</td>\n",
       "      <td>7.000000</td>\n",
       "      <td>127644.240000</td>\n",
       "      <td>2.000000</td>\n",
       "      <td>1.00000</td>\n",
       "      <td>1.000000</td>\n",
       "      <td>149388.247500</td>\n",
       "      <td>0.000000</td>\n",
       "    </tr>\n",
       "    <tr>\n",
       "      <th>max</th>\n",
       "      <td>10000.00000</td>\n",
       "      <td>1.581569e+07</td>\n",
       "      <td>850.000000</td>\n",
       "      <td>92.000000</td>\n",
       "      <td>10.000000</td>\n",
       "      <td>250898.090000</td>\n",
       "      <td>4.000000</td>\n",
       "      <td>1.00000</td>\n",
       "      <td>1.000000</td>\n",
       "      <td>199992.480000</td>\n",
       "      <td>1.000000</td>\n",
       "    </tr>\n",
       "  </tbody>\n",
       "</table>\n",
       "</div>"
      ],
      "text/plain": [
       "         RowNumber    CustomerId   CreditScore           Age       Tenure  \\\n",
       "count  10000.00000  1.000000e+04  10000.000000  10000.000000  9091.000000   \n",
       "mean    5000.50000  1.569094e+07    650.528800     38.921800     4.997690   \n",
       "std     2886.89568  7.193619e+04     96.653299     10.487806     2.894723   \n",
       "min        1.00000  1.556570e+07    350.000000     18.000000     0.000000   \n",
       "25%     2500.75000  1.562853e+07    584.000000     32.000000     2.000000   \n",
       "50%     5000.50000  1.569074e+07    652.000000     37.000000     5.000000   \n",
       "75%     7500.25000  1.575323e+07    718.000000     44.000000     7.000000   \n",
       "max    10000.00000  1.581569e+07    850.000000     92.000000    10.000000   \n",
       "\n",
       "             Balance  NumOfProducts    HasCrCard  IsActiveMember  \\\n",
       "count   10000.000000   10000.000000  10000.00000    10000.000000   \n",
       "mean    76485.889288       1.530200      0.70550        0.515100   \n",
       "std     62397.405202       0.581654      0.45584        0.499797   \n",
       "min         0.000000       1.000000      0.00000        0.000000   \n",
       "25%         0.000000       1.000000      0.00000        0.000000   \n",
       "50%     97198.540000       1.000000      1.00000        1.000000   \n",
       "75%    127644.240000       2.000000      1.00000        1.000000   \n",
       "max    250898.090000       4.000000      1.00000        1.000000   \n",
       "\n",
       "       EstimatedSalary        Exited  \n",
       "count     10000.000000  10000.000000  \n",
       "mean     100090.239881      0.203700  \n",
       "std       57510.492818      0.402769  \n",
       "min          11.580000      0.000000  \n",
       "25%       51002.110000      0.000000  \n",
       "50%      100193.915000      0.000000  \n",
       "75%      149388.247500      0.000000  \n",
       "max      199992.480000      1.000000  "
      ]
     },
     "execution_count": 5,
     "metadata": {},
     "output_type": "execute_result"
    }
   ],
   "source": [
    "df.describe()"
   ]
  },
  {
   "cell_type": "markdown",
   "metadata": {},
   "source": [
    "## Проведем предобработку данных согласно \"правилам хорошего тона\""
   ]
  },
  {
   "cell_type": "markdown",
   "metadata": {},
   "source": [
    "### Для начала, исправим названия столбцов"
   ]
  },
  {
   "cell_type": "code",
   "execution_count": 6,
   "metadata": {},
   "outputs": [],
   "source": [
    "# Приведем названия столбцов к \"правилам хорошего тона\"\n",
    "df = df.rename(\n",
    "    columns={\n",
    "    'RowNumber' : 'row_number',\n",
    "    'CustomerId' : 'customer_id',\n",
    "    'Surname' : 'surname',\n",
    "    'CreditScore' : 'credit_score',\n",
    "    'Geography' : 'geography',\n",
    "    'Gender' : 'gender',\n",
    "    'Age' : 'age',\n",
    "    'Tenure' : 'tenure',\n",
    "    'Balance' : 'balance',\n",
    "    'NumOfProducts' : 'num_of_products',\n",
    "    'HasCrCard' : 'has_cr_card',\n",
    "    'IsActiveMember' : 'is_active_member',\n",
    "    'EstimatedSalary' : 'estimated_salary',\n",
    "    'Exited' : 'exited'}\n",
    ")"
   ]
  },
  {
   "cell_type": "code",
   "execution_count": 7,
   "metadata": {},
   "outputs": [
    {
     "data": {
      "text/plain": [
       "Index(['row_number', 'customer_id', 'surname', 'credit_score', 'geography',\n",
       "       'gender', 'age', 'tenure', 'balance', 'num_of_products', 'has_cr_card',\n",
       "       'is_active_member', 'estimated_salary', 'exited'],\n",
       "      dtype='object')"
      ]
     },
     "execution_count": 7,
     "metadata": {},
     "output_type": "execute_result"
    }
   ],
   "source": [
    "# Проверим исполнение предыдущих шагов\n",
    "df.columns.unique()"
   ]
  },
  {
   "cell_type": "markdown",
   "metadata": {},
   "source": [
    "## Проверим наличие пропусков"
   ]
  },
  {
   "cell_type": "markdown",
   "metadata": {},
   "source": [
    "Было решено удалить пропуски в столбце 'tenure' не смотря на то, что их около 9% от дата-сета, \n",
    "чтобы не искажать распределение и не вводить модель в заблуждение ложными признаками."
   ]
  },
  {
   "cell_type": "code",
   "execution_count": 8,
   "metadata": {},
   "outputs": [],
   "source": [
    "df = df.dropna().reset_index(drop=True)"
   ]
  },
  {
   "cell_type": "code",
   "execution_count": 9,
   "metadata": {},
   "outputs": [
    {
     "data": {
      "text/plain": [
       "row_number          0\n",
       "customer_id         0\n",
       "surname             0\n",
       "credit_score        0\n",
       "geography           0\n",
       "gender              0\n",
       "age                 0\n",
       "tenure              0\n",
       "balance             0\n",
       "num_of_products     0\n",
       "has_cr_card         0\n",
       "is_active_member    0\n",
       "estimated_salary    0\n",
       "exited              0\n",
       "dtype: int64"
      ]
     },
     "execution_count": 9,
     "metadata": {},
     "output_type": "execute_result"
    }
   ],
   "source": [
    "df.isna().sum()"
   ]
  },
  {
   "cell_type": "markdown",
   "metadata": {},
   "source": [
    "## Теперь проверим наличие дубликатов"
   ]
  },
  {
   "cell_type": "code",
   "execution_count": 10,
   "metadata": {},
   "outputs": [
    {
     "name": "stdout",
     "output_type": "stream",
     "text": [
      "0\n"
     ]
    }
   ],
   "source": [
    "print(df.duplicated().sum())"
   ]
  },
  {
   "cell_type": "markdown",
   "metadata": {},
   "source": [
    "## Удаляем неинформативные (не нужные нам в исследовании) столбцы"
   ]
  },
  {
   "cell_type": "code",
   "execution_count": 11,
   "metadata": {},
   "outputs": [],
   "source": [
    "df = df.drop(['row_number', 'surname'], axis=1)"
   ]
  },
  {
   "cell_type": "markdown",
   "metadata": {},
   "source": [
    "## Используем столбец \"customer_id\" в качестве индекса.\n",
    "Полезную нагрузку он не несет, но для индентификафии полезен (хоть и не в нашем исследовании)"
   ]
  },
  {
   "cell_type": "code",
   "execution_count": 12,
   "metadata": {},
   "outputs": [],
   "source": [
    "df = df.set_index('customer_id')"
   ]
  },
  {
   "cell_type": "markdown",
   "metadata": {},
   "source": [
    "## Исследуем баланс классов"
   ]
  },
  {
   "cell_type": "code",
   "execution_count": 13,
   "metadata": {},
   "outputs": [
    {
     "name": "stdout",
     "output_type": "stream",
     "text": [
      "1854 7237\n"
     ]
    }
   ],
   "source": [
    "print(df['exited'].value_counts()[1], df['exited'].value_counts()[0])"
   ]
  },
  {
   "cell_type": "markdown",
   "metadata": {},
   "source": [
    "В классах наблюдается существенный дисбаланс. (Почти в 4 раза)\\\n",
    "Тем не менее, согласно заданию проекта первую итерацию обучения моделей будем проводить без учета дисбаланса.\\\n",
    "Во второй итерации, учтем дисбаланс, переообучим модели и сравним результат"
   ]
  },
  {
   "cell_type": "markdown",
   "metadata": {},
   "source": [
    "## Исследуем корреляцию признаков"
   ]
  },
  {
   "cell_type": "code",
   "execution_count": 14,
   "metadata": {},
   "outputs": [
    {
     "data": {
      "text/html": [
       "<style  type=\"text/css\" >\n",
       "#T_ead13_row0_col0,#T_ead13_row1_col1,#T_ead13_row2_col2,#T_ead13_row3_col3,#T_ead13_row4_col4,#T_ead13_row5_col5,#T_ead13_row6_col6,#T_ead13_row7_col7,#T_ead13_row8_col8{\n",
       "            background-color:  #b40426;\n",
       "            color:  #f1f1f1;\n",
       "        }#T_ead13_row0_col1,#T_ead13_row0_col7,#T_ead13_row3_col0,#T_ead13_row3_col2,#T_ead13_row4_col5,#T_ead13_row7_col1{\n",
       "            background-color:  #4257c9;\n",
       "            color:  #f1f1f1;\n",
       "        }#T_ead13_row0_col2,#T_ead13_row2_col7,#T_ead13_row7_col0{\n",
       "            background-color:  #4358cb;\n",
       "            color:  #f1f1f1;\n",
       "        }#T_ead13_row0_col3{\n",
       "            background-color:  #86a9fc;\n",
       "            color:  #000000;\n",
       "        }#T_ead13_row0_col4,#T_ead13_row2_col4,#T_ead13_row6_col4{\n",
       "            background-color:  #89acfd;\n",
       "            color:  #000000;\n",
       "        }#T_ead13_row0_col5,#T_ead13_row1_col7,#T_ead13_row5_col7,#T_ead13_row7_col5,#T_ead13_row8_col2,#T_ead13_row8_col5{\n",
       "            background-color:  #3e51c5;\n",
       "            color:  #f1f1f1;\n",
       "        }#T_ead13_row0_col6{\n",
       "            background-color:  #6e90f2;\n",
       "            color:  #000000;\n",
       "        }#T_ead13_row0_col8,#T_ead13_row7_col6{\n",
       "            background-color:  #5e7de7;\n",
       "            color:  #000000;\n",
       "        }#T_ead13_row1_col0,#T_ead13_row1_col2,#T_ead13_row2_col1,#T_ead13_row5_col1{\n",
       "            background-color:  #3f53c6;\n",
       "            color:  #f1f1f1;\n",
       "        }#T_ead13_row1_col3{\n",
       "            background-color:  #8fb1fe;\n",
       "            color:  #000000;\n",
       "        }#T_ead13_row1_col4{\n",
       "            background-color:  #7ea1fa;\n",
       "            color:  #000000;\n",
       "        }#T_ead13_row1_col5{\n",
       "            background-color:  #3c4ec2;\n",
       "            color:  #f1f1f1;\n",
       "        }#T_ead13_row1_col6{\n",
       "            background-color:  #7da0f9;\n",
       "            color:  #000000;\n",
       "        }#T_ead13_row1_col8{\n",
       "            background-color:  #bad0f8;\n",
       "            color:  #000000;\n",
       "        }#T_ead13_row2_col0,#T_ead13_row5_col0{\n",
       "            background-color:  #4055c8;\n",
       "            color:  #f1f1f1;\n",
       "        }#T_ead13_row2_col3{\n",
       "            background-color:  #84a7fc;\n",
       "            color:  #000000;\n",
       "        }#T_ead13_row2_col5{\n",
       "            background-color:  #485fd1;\n",
       "            color:  #f1f1f1;\n",
       "        }#T_ead13_row2_col6{\n",
       "            background-color:  #5b7ae5;\n",
       "            color:  #000000;\n",
       "        }#T_ead13_row2_col8{\n",
       "            background-color:  #5f7fe8;\n",
       "            color:  #000000;\n",
       "        }#T_ead13_row3_col1{\n",
       "            background-color:  #4c66d6;\n",
       "            color:  #000000;\n",
       "        }#T_ead13_row3_col4,#T_ead13_row3_col5,#T_ead13_row4_col1,#T_ead13_row4_col3,#T_ead13_row6_col2,#T_ead13_row6_col7,#T_ead13_row6_col8,#T_ead13_row8_col0,#T_ead13_row8_col6{\n",
       "            background-color:  #3b4cc0;\n",
       "            color:  #f1f1f1;\n",
       "        }#T_ead13_row3_col6,#T_ead13_row5_col8{\n",
       "            background-color:  #6384eb;\n",
       "            color:  #000000;\n",
       "        }#T_ead13_row3_col7,#T_ead13_row4_col0,#T_ead13_row4_col7{\n",
       "            background-color:  #445acc;\n",
       "            color:  #f1f1f1;\n",
       "        }#T_ead13_row3_col8,#T_ead13_row5_col4{\n",
       "            background-color:  #88abfd;\n",
       "            color:  #000000;\n",
       "        }#T_ead13_row4_col2,#T_ead13_row7_col2{\n",
       "            background-color:  #465ecf;\n",
       "            color:  #f1f1f1;\n",
       "        }#T_ead13_row4_col6{\n",
       "            background-color:  #6788ee;\n",
       "            color:  #000000;\n",
       "        }#T_ead13_row4_col8{\n",
       "            background-color:  #5673e0;\n",
       "            color:  #000000;\n",
       "        }#T_ead13_row5_col2{\n",
       "            background-color:  #4b64d5;\n",
       "            color:  #f1f1f1;\n",
       "        }#T_ead13_row5_col3{\n",
       "            background-color:  #81a4fb;\n",
       "            color:  #000000;\n",
       "        }#T_ead13_row5_col6{\n",
       "            background-color:  #6282ea;\n",
       "            color:  #000000;\n",
       "        }#T_ead13_row6_col0{\n",
       "            background-color:  #4a63d3;\n",
       "            color:  #f1f1f1;\n",
       "        }#T_ead13_row6_col1{\n",
       "            background-color:  #5d7ce6;\n",
       "            color:  #000000;\n",
       "        }#T_ead13_row6_col3{\n",
       "            background-color:  #85a8fc;\n",
       "            color:  #000000;\n",
       "        }#T_ead13_row6_col5{\n",
       "            background-color:  #3d50c3;\n",
       "            color:  #f1f1f1;\n",
       "        }#T_ead13_row7_col3,#T_ead13_row7_col4{\n",
       "            background-color:  #8badfd;\n",
       "            color:  #000000;\n",
       "        }#T_ead13_row7_col8{\n",
       "            background-color:  #688aef;\n",
       "            color:  #000000;\n",
       "        }#T_ead13_row8_col1{\n",
       "            background-color:  #a1c0ff;\n",
       "            color:  #000000;\n",
       "        }#T_ead13_row8_col3{\n",
       "            background-color:  #a6c4fe;\n",
       "            color:  #000000;\n",
       "        }#T_ead13_row8_col4{\n",
       "            background-color:  #799cf8;\n",
       "            color:  #000000;\n",
       "        }#T_ead13_row8_col7{\n",
       "            background-color:  #455cce;\n",
       "            color:  #f1f1f1;\n",
       "        }</style><table id=\"T_ead13_\" ><thead>    <tr>        <th class=\"blank level0\" ></th>        <th class=\"col_heading level0 col0\" >credit_score</th>        <th class=\"col_heading level0 col1\" >age</th>        <th class=\"col_heading level0 col2\" >tenure</th>        <th class=\"col_heading level0 col3\" >balance</th>        <th class=\"col_heading level0 col4\" >num_of_products</th>        <th class=\"col_heading level0 col5\" >has_cr_card</th>        <th class=\"col_heading level0 col6\" >is_active_member</th>        <th class=\"col_heading level0 col7\" >estimated_salary</th>        <th class=\"col_heading level0 col8\" >exited</th>    </tr></thead><tbody>\n",
       "                <tr>\n",
       "                        <th id=\"T_ead13_level0_row0\" class=\"row_heading level0 row0\" >credit_score</th>\n",
       "                        <td id=\"T_ead13_row0_col0\" class=\"data row0 col0\" >1.000000</td>\n",
       "                        <td id=\"T_ead13_row0_col1\" class=\"data row0 col1\" >-0.004504</td>\n",
       "                        <td id=\"T_ead13_row0_col2\" class=\"data row0 col2\" >-0.000062</td>\n",
       "                        <td id=\"T_ead13_row0_col3\" class=\"data row0 col3\" >0.002804</td>\n",
       "                        <td id=\"T_ead13_row0_col4\" class=\"data row0 col4\" >0.011090</td>\n",
       "                        <td id=\"T_ead13_row0_col5\" class=\"data row0 col5\" >-0.003937</td>\n",
       "                        <td id=\"T_ead13_row0_col6\" class=\"data row0 col6\" >0.030947</td>\n",
       "                        <td id=\"T_ead13_row0_col7\" class=\"data row0 col7\" >0.005182</td>\n",
       "                        <td id=\"T_ead13_row0_col8\" class=\"data row0 col8\" >-0.023950</td>\n",
       "            </tr>\n",
       "            <tr>\n",
       "                        <th id=\"T_ead13_level0_row1\" class=\"row_heading level0 row1\" >age</th>\n",
       "                        <td id=\"T_ead13_row1_col0\" class=\"data row1 col0\" >-0.004504</td>\n",
       "                        <td id=\"T_ead13_row1_col1\" class=\"data row1 col1\" >1.000000</td>\n",
       "                        <td id=\"T_ead13_row1_col2\" class=\"data row1 col2\" >-0.013134</td>\n",
       "                        <td id=\"T_ead13_row1_col3\" class=\"data row1 col3\" >0.031481</td>\n",
       "                        <td id=\"T_ead13_row1_col4\" class=\"data row1 col4\" >-0.031877</td>\n",
       "                        <td id=\"T_ead13_row1_col5\" class=\"data row1 col5\" >-0.014129</td>\n",
       "                        <td id=\"T_ead13_row1_col6\" class=\"data row1 col6\" >0.082269</td>\n",
       "                        <td id=\"T_ead13_row1_col7\" class=\"data row1 col7\" >-0.007037</td>\n",
       "                        <td id=\"T_ead13_row1_col8\" class=\"data row1 col8\" >0.283017</td>\n",
       "            </tr>\n",
       "            <tr>\n",
       "                        <th id=\"T_ead13_level0_row2\" class=\"row_heading level0 row2\" >tenure</th>\n",
       "                        <td id=\"T_ead13_row2_col0\" class=\"data row2 col0\" >-0.000062</td>\n",
       "                        <td id=\"T_ead13_row2_col1\" class=\"data row2 col1\" >-0.013134</td>\n",
       "                        <td id=\"T_ead13_row2_col2\" class=\"data row2 col2\" >1.000000</td>\n",
       "                        <td id=\"T_ead13_row2_col3\" class=\"data row2 col3\" >-0.007911</td>\n",
       "                        <td id=\"T_ead13_row2_col4\" class=\"data row2 col4\" >0.011979</td>\n",
       "                        <td id=\"T_ead13_row2_col5\" class=\"data row2 col5\" >0.027232</td>\n",
       "                        <td id=\"T_ead13_row2_col6\" class=\"data row2 col6\" >-0.032178</td>\n",
       "                        <td id=\"T_ead13_row2_col7\" class=\"data row2 col7\" >0.010520</td>\n",
       "                        <td id=\"T_ead13_row2_col8\" class=\"data row2 col8\" >-0.016761</td>\n",
       "            </tr>\n",
       "            <tr>\n",
       "                        <th id=\"T_ead13_level0_row3\" class=\"row_heading level0 row3\" >balance</th>\n",
       "                        <td id=\"T_ead13_row3_col0\" class=\"data row3 col0\" >0.002804</td>\n",
       "                        <td id=\"T_ead13_row3_col1\" class=\"data row3 col1\" >0.031481</td>\n",
       "                        <td id=\"T_ead13_row3_col2\" class=\"data row3 col2\" >-0.007911</td>\n",
       "                        <td id=\"T_ead13_row3_col3\" class=\"data row3 col3\" >1.000000</td>\n",
       "                        <td id=\"T_ead13_row3_col4\" class=\"data row3 col4\" >-0.301858</td>\n",
       "                        <td id=\"T_ead13_row3_col5\" class=\"data row3 col5\" >-0.019055</td>\n",
       "                        <td id=\"T_ead13_row3_col6\" class=\"data row3 col6\" >-0.003285</td>\n",
       "                        <td id=\"T_ead13_row3_col7\" class=\"data row3 col7\" >0.014351</td>\n",
       "                        <td id=\"T_ead13_row3_col8\" class=\"data row3 col8\" >0.117218</td>\n",
       "            </tr>\n",
       "            <tr>\n",
       "                        <th id=\"T_ead13_level0_row4\" class=\"row_heading level0 row4\" >num_of_products</th>\n",
       "                        <td id=\"T_ead13_row4_col0\" class=\"data row4 col0\" >0.011090</td>\n",
       "                        <td id=\"T_ead13_row4_col1\" class=\"data row4 col1\" >-0.031877</td>\n",
       "                        <td id=\"T_ead13_row4_col2\" class=\"data row4 col2\" >0.011979</td>\n",
       "                        <td id=\"T_ead13_row4_col3\" class=\"data row4 col3\" >-0.301858</td>\n",
       "                        <td id=\"T_ead13_row4_col4\" class=\"data row4 col4\" >1.000000</td>\n",
       "                        <td id=\"T_ead13_row4_col5\" class=\"data row4 col5\" >0.005805</td>\n",
       "                        <td id=\"T_ead13_row4_col6\" class=\"data row4 col6\" >0.009084</td>\n",
       "                        <td id=\"T_ead13_row4_col7\" class=\"data row4 col7\" >0.013990</td>\n",
       "                        <td id=\"T_ead13_row4_col8\" class=\"data row4 col8\" >-0.050271</td>\n",
       "            </tr>\n",
       "            <tr>\n",
       "                        <th id=\"T_ead13_level0_row5\" class=\"row_heading level0 row5\" >has_cr_card</th>\n",
       "                        <td id=\"T_ead13_row5_col0\" class=\"data row5 col0\" >-0.003937</td>\n",
       "                        <td id=\"T_ead13_row5_col1\" class=\"data row5 col1\" >-0.014129</td>\n",
       "                        <td id=\"T_ead13_row5_col2\" class=\"data row5 col2\" >0.027232</td>\n",
       "                        <td id=\"T_ead13_row5_col3\" class=\"data row5 col3\" >-0.019055</td>\n",
       "                        <td id=\"T_ead13_row5_col4\" class=\"data row5 col4\" >0.005805</td>\n",
       "                        <td id=\"T_ead13_row5_col5\" class=\"data row5 col5\" >1.000000</td>\n",
       "                        <td id=\"T_ead13_row5_col6\" class=\"data row5 col6\" >-0.008810</td>\n",
       "                        <td id=\"T_ead13_row5_col7\" class=\"data row5 col7\" >-0.006136</td>\n",
       "                        <td id=\"T_ead13_row5_col8\" class=\"data row5 col8\" >-0.005411</td>\n",
       "            </tr>\n",
       "            <tr>\n",
       "                        <th id=\"T_ead13_level0_row6\" class=\"row_heading level0 row6\" >is_active_member</th>\n",
       "                        <td id=\"T_ead13_row6_col0\" class=\"data row6 col0\" >0.030947</td>\n",
       "                        <td id=\"T_ead13_row6_col1\" class=\"data row6 col1\" >0.082269</td>\n",
       "                        <td id=\"T_ead13_row6_col2\" class=\"data row6 col2\" >-0.032178</td>\n",
       "                        <td id=\"T_ead13_row6_col3\" class=\"data row6 col3\" >-0.003285</td>\n",
       "                        <td id=\"T_ead13_row6_col4\" class=\"data row6 col4\" >0.009084</td>\n",
       "                        <td id=\"T_ead13_row6_col5\" class=\"data row6 col5\" >-0.008810</td>\n",
       "                        <td id=\"T_ead13_row6_col6\" class=\"data row6 col6\" >1.000000</td>\n",
       "                        <td id=\"T_ead13_row6_col7\" class=\"data row6 col7\" >-0.020049</td>\n",
       "                        <td id=\"T_ead13_row6_col8\" class=\"data row6 col8\" >-0.155062</td>\n",
       "            </tr>\n",
       "            <tr>\n",
       "                        <th id=\"T_ead13_level0_row7\" class=\"row_heading level0 row7\" >estimated_salary</th>\n",
       "                        <td id=\"T_ead13_row7_col0\" class=\"data row7 col0\" >0.005182</td>\n",
       "                        <td id=\"T_ead13_row7_col1\" class=\"data row7 col1\" >-0.007037</td>\n",
       "                        <td id=\"T_ead13_row7_col2\" class=\"data row7 col2\" >0.010520</td>\n",
       "                        <td id=\"T_ead13_row7_col3\" class=\"data row7 col3\" >0.014351</td>\n",
       "                        <td id=\"T_ead13_row7_col4\" class=\"data row7 col4\" >0.013990</td>\n",
       "                        <td id=\"T_ead13_row7_col5\" class=\"data row7 col5\" >-0.006136</td>\n",
       "                        <td id=\"T_ead13_row7_col6\" class=\"data row7 col6\" >-0.020049</td>\n",
       "                        <td id=\"T_ead13_row7_col7\" class=\"data row7 col7\" >1.000000</td>\n",
       "                        <td id=\"T_ead13_row7_col8\" class=\"data row7 col8\" >0.016029</td>\n",
       "            </tr>\n",
       "            <tr>\n",
       "                        <th id=\"T_ead13_level0_row8\" class=\"row_heading level0 row8\" >exited</th>\n",
       "                        <td id=\"T_ead13_row8_col0\" class=\"data row8 col0\" >-0.023950</td>\n",
       "                        <td id=\"T_ead13_row8_col1\" class=\"data row8 col1\" >0.283017</td>\n",
       "                        <td id=\"T_ead13_row8_col2\" class=\"data row8 col2\" >-0.016761</td>\n",
       "                        <td id=\"T_ead13_row8_col3\" class=\"data row8 col3\" >0.117218</td>\n",
       "                        <td id=\"T_ead13_row8_col4\" class=\"data row8 col4\" >-0.050271</td>\n",
       "                        <td id=\"T_ead13_row8_col5\" class=\"data row8 col5\" >-0.005411</td>\n",
       "                        <td id=\"T_ead13_row8_col6\" class=\"data row8 col6\" >-0.155062</td>\n",
       "                        <td id=\"T_ead13_row8_col7\" class=\"data row8 col7\" >0.016029</td>\n",
       "                        <td id=\"T_ead13_row8_col8\" class=\"data row8 col8\" >1.000000</td>\n",
       "            </tr>\n",
       "    </tbody></table>"
      ],
      "text/plain": [
       "<pandas.io.formats.style.Styler at 0x7fb42d9d4a60>"
      ]
     },
     "execution_count": 14,
     "metadata": {},
     "output_type": "execute_result"
    }
   ],
   "source": [
    "df.corr().style.background_gradient(cmap='coolwarm')"
   ]
  },
  {
   "cell_type": "markdown",
   "metadata": {},
   "source": [
    "Больших значений корреляции не наблюдается. Значит, мульитколлениарность нам не грозит."
   ]
  },
  {
   "cell_type": "markdown",
   "metadata": {},
   "source": [
    "## Закодируем строчные значения дата-сета, используя технику One-hot Encoding"
   ]
  },
  {
   "cell_type": "code",
   "execution_count": 15,
   "metadata": {},
   "outputs": [],
   "source": [
    "df = pd.get_dummies(df, drop_first=True)"
   ]
  },
  {
   "cell_type": "code",
   "execution_count": 16,
   "metadata": {},
   "outputs": [],
   "source": [
    "# Приведем значения столбцов к нижнему регистру\n",
    "df.columns = df.columns.str.lower()"
   ]
  },
  {
   "cell_type": "markdown",
   "metadata": {},
   "source": [
    "## Проверяем результат предобработки данных"
   ]
  },
  {
   "cell_type": "code",
   "execution_count": 17,
   "metadata": {},
   "outputs": [
    {
     "data": {
      "text/html": [
       "<div>\n",
       "<style scoped>\n",
       "    .dataframe tbody tr th:only-of-type {\n",
       "        vertical-align: middle;\n",
       "    }\n",
       "\n",
       "    .dataframe tbody tr th {\n",
       "        vertical-align: top;\n",
       "    }\n",
       "\n",
       "    .dataframe thead th {\n",
       "        text-align: right;\n",
       "    }\n",
       "</style>\n",
       "<table border=\"1\" class=\"dataframe\">\n",
       "  <thead>\n",
       "    <tr style=\"text-align: right;\">\n",
       "      <th></th>\n",
       "      <th>credit_score</th>\n",
       "      <th>age</th>\n",
       "      <th>tenure</th>\n",
       "      <th>balance</th>\n",
       "      <th>num_of_products</th>\n",
       "      <th>has_cr_card</th>\n",
       "      <th>is_active_member</th>\n",
       "      <th>estimated_salary</th>\n",
       "      <th>exited</th>\n",
       "      <th>geography_germany</th>\n",
       "      <th>geography_spain</th>\n",
       "      <th>gender_male</th>\n",
       "    </tr>\n",
       "    <tr>\n",
       "      <th>customer_id</th>\n",
       "      <th></th>\n",
       "      <th></th>\n",
       "      <th></th>\n",
       "      <th></th>\n",
       "      <th></th>\n",
       "      <th></th>\n",
       "      <th></th>\n",
       "      <th></th>\n",
       "      <th></th>\n",
       "      <th></th>\n",
       "      <th></th>\n",
       "      <th></th>\n",
       "    </tr>\n",
       "  </thead>\n",
       "  <tbody>\n",
       "    <tr>\n",
       "      <th>15634602</th>\n",
       "      <td>619</td>\n",
       "      <td>42</td>\n",
       "      <td>2.0</td>\n",
       "      <td>0.00</td>\n",
       "      <td>1</td>\n",
       "      <td>1</td>\n",
       "      <td>1</td>\n",
       "      <td>101348.88</td>\n",
       "      <td>1</td>\n",
       "      <td>0</td>\n",
       "      <td>0</td>\n",
       "      <td>0</td>\n",
       "    </tr>\n",
       "    <tr>\n",
       "      <th>15647311</th>\n",
       "      <td>608</td>\n",
       "      <td>41</td>\n",
       "      <td>1.0</td>\n",
       "      <td>83807.86</td>\n",
       "      <td>1</td>\n",
       "      <td>0</td>\n",
       "      <td>1</td>\n",
       "      <td>112542.58</td>\n",
       "      <td>0</td>\n",
       "      <td>0</td>\n",
       "      <td>1</td>\n",
       "      <td>0</td>\n",
       "    </tr>\n",
       "    <tr>\n",
       "      <th>15619304</th>\n",
       "      <td>502</td>\n",
       "      <td>42</td>\n",
       "      <td>8.0</td>\n",
       "      <td>159660.80</td>\n",
       "      <td>3</td>\n",
       "      <td>1</td>\n",
       "      <td>0</td>\n",
       "      <td>113931.57</td>\n",
       "      <td>1</td>\n",
       "      <td>0</td>\n",
       "      <td>0</td>\n",
       "      <td>0</td>\n",
       "    </tr>\n",
       "    <tr>\n",
       "      <th>15701354</th>\n",
       "      <td>699</td>\n",
       "      <td>39</td>\n",
       "      <td>1.0</td>\n",
       "      <td>0.00</td>\n",
       "      <td>2</td>\n",
       "      <td>0</td>\n",
       "      <td>0</td>\n",
       "      <td>93826.63</td>\n",
       "      <td>0</td>\n",
       "      <td>0</td>\n",
       "      <td>0</td>\n",
       "      <td>0</td>\n",
       "    </tr>\n",
       "    <tr>\n",
       "      <th>15737888</th>\n",
       "      <td>850</td>\n",
       "      <td>43</td>\n",
       "      <td>2.0</td>\n",
       "      <td>125510.82</td>\n",
       "      <td>1</td>\n",
       "      <td>1</td>\n",
       "      <td>1</td>\n",
       "      <td>79084.10</td>\n",
       "      <td>0</td>\n",
       "      <td>0</td>\n",
       "      <td>1</td>\n",
       "      <td>0</td>\n",
       "    </tr>\n",
       "    <tr>\n",
       "      <th>15574012</th>\n",
       "      <td>645</td>\n",
       "      <td>44</td>\n",
       "      <td>8.0</td>\n",
       "      <td>113755.78</td>\n",
       "      <td>2</td>\n",
       "      <td>1</td>\n",
       "      <td>0</td>\n",
       "      <td>149756.71</td>\n",
       "      <td>1</td>\n",
       "      <td>0</td>\n",
       "      <td>1</td>\n",
       "      <td>1</td>\n",
       "    </tr>\n",
       "    <tr>\n",
       "      <th>15592531</th>\n",
       "      <td>822</td>\n",
       "      <td>50</td>\n",
       "      <td>7.0</td>\n",
       "      <td>0.00</td>\n",
       "      <td>2</td>\n",
       "      <td>1</td>\n",
       "      <td>1</td>\n",
       "      <td>10062.80</td>\n",
       "      <td>0</td>\n",
       "      <td>0</td>\n",
       "      <td>0</td>\n",
       "      <td>1</td>\n",
       "    </tr>\n",
       "    <tr>\n",
       "      <th>15656148</th>\n",
       "      <td>376</td>\n",
       "      <td>29</td>\n",
       "      <td>4.0</td>\n",
       "      <td>115046.74</td>\n",
       "      <td>4</td>\n",
       "      <td>1</td>\n",
       "      <td>0</td>\n",
       "      <td>119346.88</td>\n",
       "      <td>1</td>\n",
       "      <td>1</td>\n",
       "      <td>0</td>\n",
       "      <td>0</td>\n",
       "    </tr>\n",
       "    <tr>\n",
       "      <th>15792365</th>\n",
       "      <td>501</td>\n",
       "      <td>44</td>\n",
       "      <td>4.0</td>\n",
       "      <td>142051.07</td>\n",
       "      <td>2</td>\n",
       "      <td>0</td>\n",
       "      <td>1</td>\n",
       "      <td>74940.50</td>\n",
       "      <td>0</td>\n",
       "      <td>0</td>\n",
       "      <td>0</td>\n",
       "      <td>1</td>\n",
       "    </tr>\n",
       "    <tr>\n",
       "      <th>15592389</th>\n",
       "      <td>684</td>\n",
       "      <td>27</td>\n",
       "      <td>2.0</td>\n",
       "      <td>134603.88</td>\n",
       "      <td>1</td>\n",
       "      <td>1</td>\n",
       "      <td>1</td>\n",
       "      <td>71725.73</td>\n",
       "      <td>0</td>\n",
       "      <td>0</td>\n",
       "      <td>0</td>\n",
       "      <td>1</td>\n",
       "    </tr>\n",
       "  </tbody>\n",
       "</table>\n",
       "</div>"
      ],
      "text/plain": [
       "             credit_score  age  tenure    balance  num_of_products  \\\n",
       "customer_id                                                          \n",
       "15634602              619   42     2.0       0.00                1   \n",
       "15647311              608   41     1.0   83807.86                1   \n",
       "15619304              502   42     8.0  159660.80                3   \n",
       "15701354              699   39     1.0       0.00                2   \n",
       "15737888              850   43     2.0  125510.82                1   \n",
       "15574012              645   44     8.0  113755.78                2   \n",
       "15592531              822   50     7.0       0.00                2   \n",
       "15656148              376   29     4.0  115046.74                4   \n",
       "15792365              501   44     4.0  142051.07                2   \n",
       "15592389              684   27     2.0  134603.88                1   \n",
       "\n",
       "             has_cr_card  is_active_member  estimated_salary  exited  \\\n",
       "customer_id                                                            \n",
       "15634602               1                 1         101348.88       1   \n",
       "15647311               0                 1         112542.58       0   \n",
       "15619304               1                 0         113931.57       1   \n",
       "15701354               0                 0          93826.63       0   \n",
       "15737888               1                 1          79084.10       0   \n",
       "15574012               1                 0         149756.71       1   \n",
       "15592531               1                 1          10062.80       0   \n",
       "15656148               1                 0         119346.88       1   \n",
       "15792365               0                 1          74940.50       0   \n",
       "15592389               1                 1          71725.73       0   \n",
       "\n",
       "             geography_germany  geography_spain  gender_male  \n",
       "customer_id                                                   \n",
       "15634602                     0                0            0  \n",
       "15647311                     0                1            0  \n",
       "15619304                     0                0            0  \n",
       "15701354                     0                0            0  \n",
       "15737888                     0                1            0  \n",
       "15574012                     0                1            1  \n",
       "15592531                     0                0            1  \n",
       "15656148                     1                0            0  \n",
       "15792365                     0                0            1  \n",
       "15592389                     0                0            1  "
      ]
     },
     "execution_count": 17,
     "metadata": {},
     "output_type": "execute_result"
    }
   ],
   "source": [
    "df.head(10)"
   ]
  },
  {
   "cell_type": "markdown",
   "metadata": {},
   "source": [
    "# Разделим признаки, без учета баланса классов\n",
    "Разобьем нашу выборку на обучающую, тестовую и валидационную в пропорциях 6:2:2. \n",
    "И тут-же проверим результат деления"
   ]
  },
  {
   "cell_type": "code",
   "execution_count": 18,
   "metadata": {},
   "outputs": [
    {
     "name": "stdout",
     "output_type": "stream",
     "text": [
      "(5454, 12) (1818, 12) (1819, 12)\n"
     ]
    }
   ],
   "source": [
    "df_train_raw, df_test_raw = train_test_split(df,stratify=df['exited'], test_size=0.4, random_state=12345)\n",
    "df_test_raw, df_val_raw = train_test_split(df_test_raw,stratify=df_test_raw['exited'], test_size=0.5, random_state=12345)\n",
    "print(df_train_raw.shape, df_test_raw.shape, df_val_raw.shape)"
   ]
  },
  {
   "cell_type": "markdown",
   "metadata": {},
   "source": [
    "## Объявим переменные для признаков и целевого признака"
   ]
  },
  {
   "cell_type": "code",
   "execution_count": 19,
   "metadata": {},
   "outputs": [],
   "source": [
    "features_train = df_train_raw.drop('exited', axis=1)\n",
    "target_train = df_train_raw['exited']\n",
    "features_test = df_test_raw.drop('exited', axis=1)\n",
    "target_test = df_test_raw['exited']\n",
    "features_val = df_val_raw.drop('exited', axis=1)\n",
    "target_val = df_val_raw['exited']"
   ]
  },
  {
   "cell_type": "markdown",
   "metadata": {},
   "source": [
    "# Исследование задачи"
   ]
  },
  {
   "cell_type": "markdown",
   "metadata": {},
   "source": [
    "## В исследовании будем импользлвать 2 модели. \"Случайный лес\" и \"Логистическая регрессия\""
   ]
  },
  {
   "cell_type": "markdown",
   "metadata": {},
   "source": [
    "### Случайный Лес"
   ]
  },
  {
   "cell_type": "code",
   "execution_count": null,
   "metadata": {},
   "outputs": [],
   "source": [
    "row_rf_model_final = None\n",
    "row_rf_accuracy_final = 0\n",
    "row_rf_f1_final = 0\n",
    "row_rf_roc_auc_final = 0\n",
    "\n",
    "for estim in tqdm(range(3,50)):\n",
    "    for depth in range(1,6):\n",
    "        for split in range(2,12):\n",
    "            for leaf in range(2,12):\n",
    "                row_rf = RandomForestClassifier(random_state = 12345,\n",
    "                                            n_estimators = estim,\n",
    "                                            max_depth = depth,\n",
    "                                            min_samples_split= split,\n",
    "                                            min_samples_leaf=leaf,\n",
    "                                            n_jobs=16)\n",
    "                row_rf.fit(features_train, target_train)\n",
    "                row_rf.predict = row_rf.predict(features_val)\n",
    "                row_rf_accuracy = accuracy_score(target_val, row_rf.predict)\n",
    "                row_rf_f1 = f1_score(target_val, row_rf.predict)\n",
    "                row_rf_probabilities_valid = row_rf.predict_proba(features_val)\n",
    "                row_rf_probabilities_one_valid = row_rf_probabilities_valid[:, 1]\n",
    "                row_rf_cm = confusion_matrix(target_val, row_rf.predict)\n",
    "                row_rf_roc_auc = roc_auc_score(target_val, row_rf_probabilities_one_valid)\n",
    "                if row_rf_f1 > row_rf_f1_final:\n",
    "                    row_rf_model_final = row_rf\n",
    "                    row_rf_accuracy_final = row_rf_accuracy\n",
    "                    row_rf_f1_final = row_rf_f1\n",
    "                    row_rf_roc_auc_final = row_rf_roc_auc\n",
    "                \n",
    "print(f'Наиболее точные пар-ры: {row_rf_model_final}')\n",
    "print(f'Наивысшая точность Случайного леса: {row_rf_accuracy_final}')\n",
    "print(f'Наивысшая F1 Случайного леса: {row_rf_f1_final}')\n",
    "print(f'Наивысшая roc_auc Случайного леса: {row_rf_roc_auc_final}')\n",
    "print(row_rf_cm)"
   ]
  },
  {
   "cell_type": "markdown",
   "metadata": {},
   "source": [
    "### Логистическая регрессия"
   ]
  },
  {
   "cell_type": "code",
   "execution_count": 20,
   "metadata": {},
   "outputs": [
    {
     "data": {
      "application/vnd.jupyter.widget-view+json": {
       "model_id": "e0cc96b8c1f84c7cba6dcc18b9f7ee8f",
       "version_major": 2,
       "version_minor": 0
      },
      "text/plain": [
       "  0%|          | 0/5 [00:00<?, ?it/s]"
      ]
     },
     "metadata": {},
     "output_type": "display_data"
    },
    {
     "name": "stdout",
     "output_type": "stream",
     "text": [
      "Наиболее точные пар-ры: LogisticRegression(n_jobs=-1, random_state=12345, solver='newton-cg')\n",
      "Наивысшая точность Логистической регрессии: 0.822979659153381\n",
      "Наивысшая F1 Логистической регрессии: 0.34552845528455284\n",
      "Наивысшая roc_auc Логистической регрессии: 0.7656438474482882\n",
      "[[1448    0]\n",
      " [ 371    0]]\n"
     ]
    }
   ],
   "source": [
    "row_lr_model_final = None\n",
    "row_lr_accuracy_final = 0\n",
    "row_lr_f1_final = 0\n",
    "row_lr_roc_auc_final = 0\n",
    "\n",
    "for penalty in ['l2']:\n",
    "    for solver in tqdm(['lbfgs', 'liblinear', 'newton-cg', 'sag', 'saga']):\n",
    "        row_lr = LogisticRegression(random_state = 12345,\n",
    "                                penalty = penalty,\n",
    "                                solver = solver,\n",
    "                                n_jobs= -1)\n",
    "        row_lr.fit(features_train, target_train)\n",
    "        row_lr.predict = row_lr.predict(features_val)\n",
    "        row_lr_accuracy = accuracy_score(target_val, row_lr.predict)\n",
    "        row_lr_f1 = f1_score(target_val, row_lr.predict)\n",
    "        row_lr_probabilities_valid = row_lr.predict_proba(features_val)\n",
    "        row_lr_probabilities_one_valid = row_lr_probabilities_valid[:, 1]\n",
    "        row_lr_roc_auc = roc_auc_score(target_val, row_lr_probabilities_one_valid)        \n",
    "        if row_lr_f1 > row_lr_f1_final:\n",
    "                    row_lr_model_final = row_lr\n",
    "                    row_lr_accuracy_final = row_lr_accuracy\n",
    "                    row_lr_f1_final = row_lr_f1\n",
    "                    row_lr_roc_auc_final = row_lr_roc_auc\n",
    "        row_lr_cm = confusion_matrix(target_val, row_lr.predict)\n",
    "\n",
    "                \n",
    "print(f'Наиболее точные пар-ры: {row_lr_model_final}')\n",
    "print(f'Наивысшая точность Логистической регрессии: {row_lr_accuracy_final}')\n",
    "print(f'Наивысшая F1 Логистической регрессии: {row_lr_f1_final}')\n",
    "print(f'Наивысшая roc_auc Логистической регрессии: {row_lr_roc_auc_final}')\n",
    "print(row_lr_cm)"
   ]
  },
  {
   "cell_type": "markdown",
   "metadata": {},
   "source": [
    "## Выводы о моделях без учета баланса классов."
   ]
  },
  {
   "cell_type": "markdown",
   "metadata": {},
   "source": [
    "Были продемонстрированы метрики 2-х моделей, основанный на абсолютно разной логике обучения. Лучший результат продемонстрировал Случайный Лес. Вероятнее всего лучший результат достигнут благодаря устойчивости \"Леса\" к дисбалансу классов за счет усреднение результатов. Логистическая Регрессия наоборот более чувствительна к дисбалансу классов из-за того, что основывается на минимизации функции потерь, которая может быть сильно искажена, если классы несбалансированы.\\\n",
    "Особенно это касается метрики F1 score у Случайного леса она составила 0.53, у Логистической регрессии 0.34.\\\n",
    "Что касается метрики Accuracy обе модели продемонстрировали практически схожий результат. 0.86 и 0,82 у Случайного леса и Логистической регрессии соответственно.\\\n",
    "ROC-AUC под влиянием F1 тоже оказалась выше у Случайного леса (0.83) против (0.76) у Логистической регрессии.\\\n",
    "Учитывая то, что дисбаланс классов был примерно равен 4 раза, моделям, особенно Логистической регрессии, было проще предсказывать отрицательный целевой признак. Об этом косвенно говорит высокое значение метрики точности при низком значении метрики F1, то есть у модели низкая метрика полноты.\\\n",
    "Стоит отметить, что без учета дисбаланса классов целевого значения F1 модели не достигли.\\\n",
    "Согласно матрице ошибок, модели (особенно Логистическая регрессия) чаще выдавали ложно-отрицательные прогнозы. Предполагаю, что это происходит именно из-за дисбаланса классов."
   ]
  },
  {
   "cell_type": "markdown",
   "metadata": {},
   "source": [
    "# Борьба с дисбалансом"
   ]
  },
  {
   "cell_type": "markdown",
   "metadata": {},
   "source": [
    "## Для начала посмотрим результат настройкт \"веса классов\""
   ]
  },
  {
   "cell_type": "markdown",
   "metadata": {},
   "source": [
    "### Случайный лес"
   ]
  },
  {
   "cell_type": "code",
   "execution_count": null,
   "metadata": {},
   "outputs": [],
   "source": [
    "weighted_rf_model_final = None\n",
    "weighted_rf_accuracy_final = 0\n",
    "weighted_rf_f1_final = 0\n",
    "weighted_rf_roc_auc_final = 0\n",
    "\n",
    "for estim in tqdm(range(3,50)):\n",
    "    for depth in range(1,6):\n",
    "        for split in range(2,12):\n",
    "            for leaf in range(2,12):\n",
    "                for weight in ['balanced', {0:1 ,1:3.9}]:\n",
    "                    weighted_rf = RandomForestClassifier(random_state = 12345,\n",
    "                                                n_estimators = estim,\n",
    "                                                max_depth = depth,\n",
    "                                                min_samples_split= split,\n",
    "                                                min_samples_leaf=leaf,\n",
    "                                                n_jobs=-1,\n",
    "                                                class_weight=weight)\n",
    "                    weighted_rf.fit(features_train, target_train)\n",
    "                    weighted_rf.predict = weighted_rf.predict(features_val)\n",
    "                    weighted_rf_accuracy = accuracy_score(target_val, weighted_rf.predict)\n",
    "                    weighted_rf_f1 = f1_score(target_val, weighted_rf.predict)\n",
    "                    weighted_rf_probabilities_valid = weighted_rf.predict_proba(features_val)\n",
    "                    weighted_rf_probabilities_one_valid = weighted_rf_probabilities_valid[:, 1]\n",
    "                    weighted_rf_roc_auc = roc_auc_score(target_val, weighted_rf_probabilities_one_valid)\n",
    "                    if weighted_rf_f1 > weighted_rf_f1_final:\n",
    "                        weighted_rf_model_final = weighted_rf\n",
    "                        weighted_rf_accuracy_final = weighted_rf_accuracy\n",
    "                        weighted_rf_f1_final = weighted_rf_f1\n",
    "                        weighted_rf_roc_auc_final = weighted_rf_roc_auc\n",
    "                \n",
    "print(f'Наиболее точные пар-ры: {weighted_rf_model_final}')\n",
    "print(f'Наивысшая точность Случайного леса: {weighted_rf_accuracy_final}')\n",
    "print(f'Наивысшая F1 Случайного леса: {weighted_rf_f1_final}')\n",
    "print(f'Наивысшая roc_auc Случайного леса: {weighted_rf_roc_auc_final}')"
   ]
  },
  {
   "cell_type": "markdown",
   "metadata": {},
   "source": [
    "### Логистическая регрессия"
   ]
  },
  {
   "cell_type": "code",
   "execution_count": 21,
   "metadata": {},
   "outputs": [
    {
     "data": {
      "application/vnd.jupyter.widget-view+json": {
       "model_id": "95d5af381e774eeba84bff475ee7bfbb",
       "version_major": 2,
       "version_minor": 0
      },
      "text/plain": [
       "  0%|          | 0/5 [00:00<?, ?it/s]"
      ]
     },
     "metadata": {},
     "output_type": "display_data"
    },
    {
     "name": "stdout",
     "output_type": "stream",
     "text": [
      "Наиболее точные пар-ры: LogisticRegression(class_weight={0: 1, 1: 3.9}, n_jobs=-1, random_state=12345,\n",
      "                   solver='newton-cg')\n",
      "Наивысшая точность Логистической регрессии: 0.7190764156129742\n",
      "Наивысшая F1 Логистической регрессии: 0.5062801932367149\n",
      "Наивысшая roc_auc Логистической регрессии: 0.7780971243912972\n"
     ]
    }
   ],
   "source": [
    "weighted_lr_model_final = None\n",
    "weighted_lr_accuracy_final = 0\n",
    "weighted_lr_f1_final = 0\n",
    "weighted_lr_roc_auc_final = 0\n",
    "\n",
    "for penalty in ['l2']:\n",
    "    for solver in tqdm(['lbfgs', 'liblinear', 'newton-cg', 'sag', 'saga']):\n",
    "        for weight in ['balanced', {0:1 ,1:3.9}]:\n",
    "            weighted_lr = LogisticRegression(random_state = 12345,\n",
    "                                    penalty = penalty,\n",
    "                                    solver = solver,\n",
    "                                    n_jobs= -1,\n",
    "                                    class_weight=weight)\n",
    "            weighted_lr.fit(features_train, target_train)\n",
    "            weighted_lr.predict = weighted_lr.predict(features_val)\n",
    "            weighted_lr_accuracy = accuracy_score(target_val, weighted_lr.predict)\n",
    "            weighted_lr_f1 = f1_score(target_val, weighted_lr.predict)\n",
    "            weighted_lr_probabilities_valid = weighted_lr.predict_proba(features_val)\n",
    "            weighted_lr_probabilities_one_valid = weighted_lr_probabilities_valid[:, 1]\n",
    "            weighted_lr_roc_auc = roc_auc_score(target_val, weighted_lr_probabilities_one_valid)        \n",
    "            if weighted_lr_f1 > weighted_lr_f1_final:\n",
    "                        weighted_lr_model_final = weighted_lr\n",
    "                        weighted_lr_accuracy_final = weighted_lr_accuracy\n",
    "                        weighted_lr_f1_final = weighted_lr_f1\n",
    "                        weighted_lr_roc_auc_final = weighted_lr_roc_auc\n",
    "\n",
    "                \n",
    "print(f'Наиболее точные пар-ры: {weighted_lr_model_final}')\n",
    "print(f'Наивысшая точность Логистической регрессии: {weighted_lr_accuracy_final}')\n",
    "print(f'Наивысшая F1 Логистической регрессии: {weighted_lr_f1_final}')\n",
    "print(f'Наивысшая roc_auc Логистической регрессии: {weighted_lr_roc_auc_final}')"
   ]
  },
  {
   "cell_type": "markdown",
   "metadata": {},
   "source": [
    "## Вывод о моделях, при использовании \"Веса классов\""
   ]
  },
  {
   "cell_type": "markdown",
   "metadata": {},
   "source": [
    "При использовании данной методики все метрики увеличились. Это говорит о большом влиянии баланса классов на рассматриваемые модели.\\\n",
    "При этом целевого значения мнтрики F1 достигла только модель Случайного Леса. (но выше целевого она не прыгнула)\\\n",
    "Логистическая регрессия достигла показателя 0.49 метрики F1, что является неудовольтворительным результатом.\\\n",
    "Можно сделать предварительный вывод, что данный способ не компенсирует полностью дисбаланс классов, по крайней мере, для Логистической регресии."
   ]
  },
  {
   "cell_type": "markdown",
   "metadata": {},
   "source": [
    "# А теперь попробуем UpSampling"
   ]
  },
  {
   "cell_type": "code",
   "execution_count": 22,
   "metadata": {},
   "outputs": [],
   "source": [
    "# Разобьем нашу выборку на обучающую и оставшуюся выборку в пропорции 8:2. \n",
    "df_train_upsampled, df_remaining = train_test_split(df, stratify=df['exited'], test_size=0.4, random_state=12345)\n",
    "\n",
    "# создаем датафрейм с отрицательными признаками в обучающей выборке\n",
    "neg_data = df_train_upsampled[df_train_upsampled['exited'] == 0]\n",
    "\n",
    "# создаем датафрейм с положительными признаками в обучающей выборке\n",
    "pos_data = df_train_upsampled[df_train_upsampled['exited'] == 1]\n",
    "\n",
    "# увеличиваем количество положительных признаков до количества отрицательных признаков\n",
    "pos_data_upsampled = resample(pos_data,\n",
    "                              replace=True, # сэмплируем с заменой\n",
    "                              n_samples=len(neg_data), # устанавливаем количество положительных признаков равным количеству отрицательных\n",
    "                              random_state=12345) # устанавливаем seed для воспроизводимости результатов\n",
    "\n",
    "# объединяем оба датафрейма\n",
    "df_train_upsampled = pd.concat([neg_data, pos_data_upsampled])\n",
    "\n",
    "# Разобьем оставшуюся выборку на тестовую и валидационную выборки в пропорции 5:5. \n",
    "df_test_upsampled, df_val_upsampled = train_test_split(df_remaining, stratify=df_remaining['exited'], test_size=0.5, random_state=12345)\n"
   ]
  },
  {
   "cell_type": "code",
   "execution_count": 23,
   "metadata": {},
   "outputs": [],
   "source": [
    "# Объявим переменные для признаков\n",
    "features_train_upsampled = df_train_upsampled.drop('exited', axis=1)\n",
    "target_train_upsampled = df_train_upsampled['exited']\n",
    "features_test_upsampled = df_test_upsampled.drop('exited', axis=1)\n",
    "target_test_upsampled = df_test_upsampled['exited']\n",
    "features_val_upsampled = df_val_upsampled.drop('exited', axis=1)\n",
    "target_val_upsampled = df_val_upsampled['exited']"
   ]
  },
  {
   "cell_type": "markdown",
   "metadata": {},
   "source": [
    "# Изучение моделей, используя технику UpSampling'a"
   ]
  },
  {
   "cell_type": "markdown",
   "metadata": {},
   "source": [
    "## Случайный лес"
   ]
  },
  {
   "cell_type": "code",
   "execution_count": 24,
   "metadata": {},
   "outputs": [
    {
     "data": {
      "application/vnd.jupyter.widget-view+json": {
       "model_id": "f8744889454d45e3850c5b5efa3c3087",
       "version_major": 2,
       "version_minor": 0
      },
      "text/plain": [
       "  0%|          | 0/47 [00:00<?, ?it/s]"
      ]
     },
     "metadata": {},
     "output_type": "display_data"
    },
    {
     "name": "stdout",
     "output_type": "stream",
     "text": [
      "Наиболее точные пар-ры: RandomForestClassifier(max_depth=5, min_samples_leaf=8, n_estimators=36,\n",
      "                       n_jobs=16, random_state=12345)\n",
      "Наивысшая точность Случайного леса: 0.8081363386476086\n",
      "Наивысшая F1 Случайного леса: 0.5946573751451801\n",
      "Наивысшая roc_auc Случайного леса: 0.8490603267263332\n"
     ]
    }
   ],
   "source": [
    "upsampled_rf_model_final = None\n",
    "upsampled_rf_accuracy_final = 0\n",
    "upsampled_rf_f1_final = 0\n",
    "upsampled_rf_roc_auc_final = 0\n",
    "\n",
    "for estim in tqdm(range(3,50)):\n",
    "    for depth in range(1,6):\n",
    "        for split in range(2,12):\n",
    "            for leaf in range(2,12):\n",
    "                upsampled_rf = RandomForestClassifier(random_state = 12345,\n",
    "                                            n_estimators = estim,\n",
    "                                            max_depth = depth,\n",
    "                                            min_samples_split= split,\n",
    "                                            min_samples_leaf=leaf,\n",
    "                                            n_jobs=16)\n",
    "                upsampled_rf.fit(features_train_upsampled, target_train_upsampled)\n",
    "                upsampled_rf_predict = upsampled_rf.predict(features_val_upsampled)\n",
    "                upsampled_rf_accuracy = accuracy_score(target_val_upsampled, upsampled_rf_predict)\n",
    "                upsampled_rf_f1 = f1_score(target_val_upsampled, upsampled_rf_predict)\n",
    "                upsampled_rf_probabilities_valid = upsampled_rf.predict_proba(features_val_upsampled)\n",
    "                upsampled_rf_probabilities_one_valid = upsampled_rf_probabilities_valid[:, 1]\n",
    "                upsampled_rf_roc_auc = roc_auc_score(target_val_upsampled, upsampled_rf_probabilities_one_valid)\n",
    "                if upsampled_rf_f1 > upsampled_rf_f1_final:\n",
    "                    upsampled_rf_model_final = upsampled_rf\n",
    "                    upsampled_rf_accuracy_final = upsampled_rf_accuracy\n",
    "                    upsampled_rf_f1_final = upsampled_rf_f1\n",
    "                    upsampled_rf_roc_auc_final = upsampled_rf_roc_auc\n",
    "                \n",
    "print(f'Наиболее точные пар-ры: {upsampled_rf_model_final}')\n",
    "print(f'Наивысшая точность Случайного леса: {upsampled_rf_accuracy_final}')\n",
    "print(f'Наивысшая F1 Случайного леса: {upsampled_rf_f1_final}')\n",
    "print(f'Наивысшая roc_auc Случайного леса: {upsampled_rf_roc_auc_final}')"
   ]
  },
  {
   "cell_type": "markdown",
   "metadata": {},
   "source": [
    "## Логистическая регрессия"
   ]
  },
  {
   "cell_type": "code",
   "execution_count": 29,
   "metadata": {},
   "outputs": [
    {
     "data": {
      "application/vnd.jupyter.widget-view+json": {
       "model_id": "2b3dad943368495194c19e809c136dd5",
       "version_major": 2,
       "version_minor": 0
      },
      "text/plain": [
       "  0%|          | 0/5 [00:00<?, ?it/s]"
      ]
     },
     "metadata": {},
     "output_type": "display_data"
    },
    {
     "name": "stdout",
     "output_type": "stream",
     "text": [
      "Наиболее точные пар-ры: LogisticRegression(n_jobs=-1, random_state=12345, solver='newton-cg')\n",
      "Наивысшая точность Логистической регрессии: 0.7157778999450247\n",
      "Наивысшая F1 Логистической регрессии: 0.5033621517771373\n",
      "Наивысшая roc_auc Логистической регрессии: 0.7773767330345044\n"
     ]
    }
   ],
   "source": [
    "upsampled_lr_model_final = None\n",
    "upsampled_lr_accuracy_final = 0\n",
    "upsampled_lr_f1_final = 0\n",
    "upsampled_lr_roc_auc_final = 0\n",
    "\n",
    "for penalty in ['l2']:\n",
    "    for solver in tqdm(['lbfgs', 'liblinear', 'newton-cg', 'sag', 'saga']):\n",
    "        upsampled_lr = LogisticRegression(random_state = 12345,\n",
    "                                penalty = penalty,\n",
    "                                solver = solver,\n",
    "                                n_jobs= -1)\n",
    "        \n",
    "        upsampled_lr.fit(features_train_upsampled, target_train_upsampled)\n",
    "        upsampled_lr.predict = upsampled_lr.predict(features_val_upsampled)\n",
    "        upsampled_lr_accuracy = accuracy_score(target_val_upsampled, upsampled_lr.predict)\n",
    "        upsampled_lr_f1 = f1_score(target_val_upsampled, upsampled_lr.predict)\n",
    "        upsampled_lr_probabilities_valid = upsampled_lr.predict_proba(features_val_upsampled)\n",
    "        upsampled_lr_probabilities_one_valid = upsampled_lr_probabilities_valid[:, 1]\n",
    "        upsampled_lr_roc_auc = roc_auc_score(target_val_upsampled, upsampled_lr_probabilities_one_valid)        \n",
    "        if upsampled_lr_f1 > upsampled_lr_f1_final:\n",
    "                    upsampled_lr_model_final = upsampled_lr\n",
    "                    upsampled_lr_accuracy_final = upsampled_lr_accuracy\n",
    "                    upsampled_lr_f1_final = upsampled_lr_f1\n",
    "                    upsampled_lr_roc_auc_final = upsampled_lr_roc_auc\n",
    "\n",
    "                \n",
    "print(f'Наиболее точные пар-ры: {upsampled_lr_model_final}')\n",
    "print(f'Наивысшая точность Логистической регрессии: {upsampled_lr_accuracy_final}')\n",
    "print(f'Наивысшая F1 Логистической регрессии: {upsampled_lr_f1_final}')\n",
    "print(f'Наивысшая roc_auc Логистической регрессии: {upsampled_lr_roc_auc_final}')"
   ]
  },
  {
   "cell_type": "markdown",
   "metadata": {},
   "source": [
    "## Промежуточный вывод о моделях, используя технику UpSampling'a"
   ]
  },
  {
   "cell_type": "markdown",
   "metadata": {},
   "source": [
    "Судя по метрикам моделей, данная техника привела к еще больщему увеличения метрик моделей.\\\n",
    "В данном случае целевая метрика F1 Случайного леса: 0.58, Логистической регрессии: 0.50.\\\n",
    "Точность: Случайного леса: 0.81, Логистической регрессии: 0.71.\\\n",
    "ROC-AUC Случайного леса: 0.83, против 0.77 у Логистической регрессии.\\\n",
    "Обе модели не достигли целевого значение метрики F1. Случайному лесу не хватило всего 0,5%. Напомню, целевой показатель - 0,59"
   ]
  },
  {
   "cell_type": "markdown",
   "metadata": {},
   "source": [
    "# Тестирование моделей"
   ]
  },
  {
   "cell_type": "code",
   "execution_count": 30,
   "metadata": {},
   "outputs": [
    {
     "name": "stdout",
     "output_type": "stream",
     "text": [
      "Наиболее точные пар-ры: RandomForestClassifier(max_depth=5, min_samples_leaf=8, n_estimators=36,\n",
      "                       n_jobs=16, random_state=12345)\n",
      "Наивысшая точность Случайного леса: 0.8081363386476086\n",
      "Наивысшая F1 Случайного леса: 0.5946573751451801\n",
      "Наивысшая roc_auc Случайного леса: 0.8490603267263332\n"
     ]
    }
   ],
   "source": [
    "weighted_rf_model_final = None\n",
    "weighted_rf_accuracy_final = 0\n",
    "weighted_rf_f1_final = 0\n",
    "weighted_rf_roc_auc_final = 0\n",
    "\n",
    "weighted_rf = RandomForestClassifier(random_state = 12345,\n",
    "                                     n_estimators = 14,\n",
    "                                     max_depth = 5,\n",
    "                                     min_samples_split= split,\n",
    "                                     min_samples_leaf=2,\n",
    "                                     n_jobs=-1,\n",
    "                                     class_weight='balanced')\n",
    "weighted_rf.fit(features_test, target_test)\n",
    "weighted_rf.predict = weighted_rf.predict(features_test)\n",
    "weighted_rf_accuracy = accuracy_score(target_test, weighted_rf.predict)\n",
    "weighted_rf_f1 = f1_score(target_test, weighted_rf.predict)\n",
    "weighted_rf_probabilities_test = weighted_rf.predict_proba(features_test)\n",
    "weighted_rf_probabilities_one_test = weighted_rf_probabilities_test[:, 1]\n",
    "weighted_rf_roc_auc = roc_auc_score(target_test, weighted_rf_probabilities_one_test)\n",
    "if weighted_rf_f1 > weighted_rf_f1_final:\n",
    "    weighted_rf_model_final = weighted_rf\n",
    "    weighted_rf_accuracy_final = weighted_rf_accuracy\n",
    "    weighted_rf_f1_final = weighted_rf_f1\n",
    "    weighted_rf_roc_auc_final = weighted_rf_roc_auc\n",
    "                \n",
    "print(f'Наиболее точные пар-ры: {upsampled_rf_model_final}')\n",
    "print(f'Наивысшая точность Случайного леса: {upsampled_rf_accuracy_final}')\n",
    "print(f'Наивысшая F1 Случайного леса: {upsampled_rf_f1_final}')\n",
    "print(f'Наивысшая roc_auc Случайного леса: {upsampled_rf_roc_auc_final}')"
   ]
  },
  {
   "cell_type": "markdown",
   "metadata": {},
   "source": [
    "<div class=\"alert alert-info\">\n",
    "    Тут модель с добавлением веса классов оказалась эффективней на 0,004%. <br>\n",
    "     0.594 против 0.592 метрика F1<br>\n",
    "    Оставляю ее. Логистическую регрессию убрал"
   ]
  },
  {
   "cell_type": "markdown",
   "metadata": {},
   "source": [
    "# Общий вывод"
   ]
  },
  {
   "cell_type": "markdown",
   "metadata": {},
   "source": [
    "В ходе роекта было исследовано качество 2-х принципиально разных моделей: Случайного леса и Логистической регрессии.\\\n",
    "Обучение и подбор гиперпараметров были проведены без и с учетом дисбаланса классов.\\\n",
    "Ожидаемо, качество моделей без учета дисбаланса классов осталось неудовльтворительным. Целевые значения основной метрики так и не были достигнуты.\\\n",
    "Однако методом добавления веса классам были достигнуты искомые значения метрик, особенно метрики F1. Но только у модели Случайного Леса\\\n",
    "В ходе исследования была продемонстрирована разница в качестве моделей в зависимости от используемого метода борьбы с дисбалансом классов. Метод подбора веса классов оказался, хоть и немного, но эффективней матода Upsampling'a.\\\n",
    "Из исследоемых 2-х моделей, качественее оказалась модель Случайного леса.\\\n",
    "Используя дообучение моделей на тренировочной + валидационной выборке в ходе теста качество Случайного леса составили:\n",
    "- Наивысшая точность Случайного леса: 0.80\n",
    "- Наивысшая F1 Случайного леса: 0.59\n",
    "- Наивысшая roc_auc Случайного леса: 0.84\n",
    "Наиболее точные пар-ры: RandomForestClassifier(max_depth=5, min_samples_leaf=8, n_estimators=36,n_jobs=16, random_state=12345)\\\n",
    "\\\n",
    "Логистическая регрессия показала неудовольтворительный результат на всех стадиях исследования.\\\n",
    "Финальные показатели модели Случайный лес оказались выше пороговых, на этом исследование можно считать завершенным"
   ]
  },
  {
   "cell_type": "markdown",
   "metadata": {},
   "source": [
    "## Чек-лист готовности проекта"
   ]
  },
  {
   "cell_type": "markdown",
   "metadata": {},
   "source": [
    "Поставьте 'x' в выполненных пунктах. Далее нажмите Shift+Enter."
   ]
  },
  {
   "cell_type": "markdown",
   "metadata": {},
   "source": [
    "- [x]  Jupyter Notebook открыт\n",
    "- [x]  Весь код выполняется без ошибок\n",
    "- [x]  Ячейки с кодом расположены в порядке исполнения\n",
    "- [x]  Выполнен шаг 1: данные подготовлены\n",
    "- [x]  Выполнен шаг 2: задача исследована\n",
    "    - [x]  Исследован баланс классов\n",
    "    - [x]  Изучены модели без учёта дисбаланса\n",
    "    - [x]  Написаны выводы по результатам исследования\n",
    "- [x]  Выполнен шаг 3: учтён дисбаланс\n",
    "    - [x]  Применено несколько способов борьбы с дисбалансом\n",
    "    - [x]  Написаны выводы по результатам исследования\n",
    "- [x]  Выполнен шаг 4: проведено тестирование\n",
    "- [x]  Удалось достичь *F1*-меры не менее 0.59\n",
    "- [x]  Исследована метрика *AUC-ROC*"
   ]
  },
  {
   "cell_type": "markdown",
   "metadata": {},
   "source": []
  }
 ],
 "metadata": {
  "ExecuteTimeLog": [
   {
    "duration": 114,
    "start_time": "2023-04-14T04:09:41.677Z"
   },
   {
    "duration": 45,
    "start_time": "2023-04-15T15:22:28.919Z"
   },
   {
    "duration": 1184,
    "start_time": "2023-04-15T15:22:37.240Z"
   },
   {
    "duration": 95,
    "start_time": "2023-04-15T15:22:38.426Z"
   },
   {
    "duration": 25,
    "start_time": "2023-04-15T15:22:38.522Z"
   },
   {
    "duration": 13,
    "start_time": "2023-04-15T15:22:38.549Z"
   },
   {
    "duration": 50,
    "start_time": "2023-04-15T15:22:38.564Z"
   },
   {
    "duration": 5,
    "start_time": "2023-04-15T15:22:38.616Z"
   },
   {
    "duration": 9,
    "start_time": "2023-04-15T15:22:38.622Z"
   },
   {
    "duration": 15,
    "start_time": "2023-04-15T15:22:38.633Z"
   },
   {
    "duration": 10,
    "start_time": "2023-04-15T15:22:38.650Z"
   },
   {
    "duration": 32,
    "start_time": "2023-04-15T15:22:38.663Z"
   },
   {
    "duration": 5,
    "start_time": "2023-04-15T15:22:38.702Z"
   },
   {
    "duration": 12,
    "start_time": "2023-04-15T15:22:38.709Z"
   },
   {
    "duration": 6,
    "start_time": "2023-04-15T15:22:38.723Z"
   },
   {
    "duration": 532,
    "start_time": "2023-04-15T15:22:38.730Z"
   },
   {
    "duration": 26,
    "start_time": "2023-04-15T15:22:39.265Z"
   },
   {
    "duration": 4,
    "start_time": "2023-04-15T15:22:39.297Z"
   },
   {
    "duration": 35,
    "start_time": "2023-04-15T15:22:39.303Z"
   },
   {
    "duration": 188,
    "start_time": "2023-04-15T15:22:39.340Z"
   },
   {
    "duration": 0,
    "start_time": "2023-04-15T15:22:39.531Z"
   },
   {
    "duration": 0,
    "start_time": "2023-04-15T15:22:39.532Z"
   },
   {
    "duration": 0,
    "start_time": "2023-04-15T15:22:39.534Z"
   },
   {
    "duration": 0,
    "start_time": "2023-04-15T15:22:39.535Z"
   },
   {
    "duration": 0,
    "start_time": "2023-04-15T15:22:39.537Z"
   },
   {
    "duration": 0,
    "start_time": "2023-04-15T15:22:39.538Z"
   },
   {
    "duration": 0,
    "start_time": "2023-04-15T15:22:39.539Z"
   },
   {
    "duration": 0,
    "start_time": "2023-04-15T15:22:39.541Z"
   },
   {
    "duration": 0,
    "start_time": "2023-04-15T15:22:39.542Z"
   },
   {
    "duration": 0,
    "start_time": "2023-04-15T15:22:39.543Z"
   },
   {
    "duration": 0,
    "start_time": "2023-04-15T15:22:39.544Z"
   },
   {
    "duration": 0,
    "start_time": "2023-04-15T15:22:39.546Z"
   },
   {
    "duration": 29,
    "start_time": "2023-04-15T15:24:12.981Z"
   },
   {
    "duration": 70,
    "start_time": "2023-04-15T15:26:40.161Z"
   },
   {
    "duration": 18,
    "start_time": "2023-04-15T15:26:53.010Z"
   },
   {
    "duration": 27,
    "start_time": "2023-04-15T15:32:43.859Z"
   },
   {
    "duration": 23,
    "start_time": "2023-04-15T15:33:10.224Z"
   },
   {
    "duration": 4,
    "start_time": "2023-04-15T15:49:59.333Z"
   },
   {
    "duration": 7,
    "start_time": "2023-04-15T15:53:24.819Z"
   },
   {
    "duration": 1117,
    "start_time": "2023-04-15T15:53:35.170Z"
   },
   {
    "duration": 36,
    "start_time": "2023-04-15T15:53:36.289Z"
   },
   {
    "duration": 26,
    "start_time": "2023-04-15T15:53:36.327Z"
   },
   {
    "duration": 19,
    "start_time": "2023-04-15T15:53:36.355Z"
   },
   {
    "duration": 43,
    "start_time": "2023-04-15T15:53:36.375Z"
   },
   {
    "duration": 4,
    "start_time": "2023-04-15T15:53:36.420Z"
   },
   {
    "duration": 17,
    "start_time": "2023-04-15T15:53:36.426Z"
   },
   {
    "duration": 12,
    "start_time": "2023-04-15T15:53:36.445Z"
   },
   {
    "duration": 7,
    "start_time": "2023-04-15T15:53:36.459Z"
   },
   {
    "duration": 13,
    "start_time": "2023-04-15T15:53:36.488Z"
   },
   {
    "duration": 5,
    "start_time": "2023-04-15T15:53:36.503Z"
   },
   {
    "duration": 5,
    "start_time": "2023-04-15T15:53:36.509Z"
   },
   {
    "duration": 5,
    "start_time": "2023-04-15T15:53:36.516Z"
   },
   {
    "duration": 334,
    "start_time": "2023-04-15T15:53:36.523Z"
   },
   {
    "duration": 12,
    "start_time": "2023-04-15T15:53:36.859Z"
   },
   {
    "duration": 4,
    "start_time": "2023-04-15T15:53:36.872Z"
   },
   {
    "duration": 19,
    "start_time": "2023-04-15T15:53:36.877Z"
   },
   {
    "duration": 8,
    "start_time": "2023-04-15T15:53:36.898Z"
   },
   {
    "duration": 7,
    "start_time": "2023-04-15T15:53:36.908Z"
   },
   {
    "duration": 1085,
    "start_time": "2023-04-15T16:00:54.489Z"
   },
   {
    "duration": 35,
    "start_time": "2023-04-15T16:00:55.576Z"
   },
   {
    "duration": 24,
    "start_time": "2023-04-15T16:00:55.613Z"
   },
   {
    "duration": 15,
    "start_time": "2023-04-15T16:00:55.638Z"
   },
   {
    "duration": 51,
    "start_time": "2023-04-15T16:00:55.655Z"
   },
   {
    "duration": 4,
    "start_time": "2023-04-15T16:00:55.708Z"
   },
   {
    "duration": 7,
    "start_time": "2023-04-15T16:00:55.714Z"
   },
   {
    "duration": 12,
    "start_time": "2023-04-15T16:00:55.723Z"
   },
   {
    "duration": 7,
    "start_time": "2023-04-15T16:00:55.736Z"
   },
   {
    "duration": 11,
    "start_time": "2023-04-15T16:00:55.744Z"
   },
   {
    "duration": 4,
    "start_time": "2023-04-15T16:00:55.756Z"
   },
   {
    "duration": 30,
    "start_time": "2023-04-15T16:00:55.761Z"
   },
   {
    "duration": 6,
    "start_time": "2023-04-15T16:00:55.792Z"
   },
   {
    "duration": 302,
    "start_time": "2023-04-15T16:00:55.800Z"
   },
   {
    "duration": 10,
    "start_time": "2023-04-15T16:00:56.104Z"
   },
   {
    "duration": 3,
    "start_time": "2023-04-15T16:00:56.115Z"
   },
   {
    "duration": 17,
    "start_time": "2023-04-15T16:00:56.120Z"
   },
   {
    "duration": 11,
    "start_time": "2023-04-15T16:00:56.138Z"
   },
   {
    "duration": 7,
    "start_time": "2023-04-15T16:00:56.150Z"
   },
   {
    "duration": 3561813,
    "start_time": "2023-04-15T16:00:56.159Z"
   },
   {
    "duration": 0,
    "start_time": "2023-04-15T17:00:17.974Z"
   },
   {
    "duration": 0,
    "start_time": "2023-04-15T17:00:17.975Z"
   },
   {
    "duration": 0,
    "start_time": "2023-04-15T17:00:17.977Z"
   },
   {
    "duration": 0,
    "start_time": "2023-04-15T17:00:17.978Z"
   },
   {
    "duration": 0,
    "start_time": "2023-04-15T17:00:17.979Z"
   },
   {
    "duration": 0,
    "start_time": "2023-04-15T17:00:17.980Z"
   },
   {
    "duration": 0,
    "start_time": "2023-04-15T17:00:17.981Z"
   },
   {
    "duration": 0,
    "start_time": "2023-04-15T17:00:17.982Z"
   },
   {
    "duration": 0,
    "start_time": "2023-04-15T17:00:17.983Z"
   },
   {
    "duration": 0,
    "start_time": "2023-04-15T17:00:17.989Z"
   },
   {
    "duration": 0,
    "start_time": "2023-04-15T17:00:17.990Z"
   },
   {
    "duration": 1121,
    "start_time": "2023-04-15T17:00:22.705Z"
   },
   {
    "duration": 34,
    "start_time": "2023-04-15T17:00:23.827Z"
   },
   {
    "duration": 24,
    "start_time": "2023-04-15T17:00:23.863Z"
   },
   {
    "duration": 16,
    "start_time": "2023-04-15T17:00:23.889Z"
   },
   {
    "duration": 41,
    "start_time": "2023-04-15T17:00:23.907Z"
   },
   {
    "duration": 4,
    "start_time": "2023-04-15T17:00:23.950Z"
   },
   {
    "duration": 11,
    "start_time": "2023-04-15T17:00:23.956Z"
   },
   {
    "duration": 24,
    "start_time": "2023-04-15T17:00:23.969Z"
   },
   {
    "duration": 8,
    "start_time": "2023-04-15T17:00:23.994Z"
   },
   {
    "duration": 22,
    "start_time": "2023-04-15T17:00:24.003Z"
   },
   {
    "duration": 14,
    "start_time": "2023-04-15T17:00:24.026Z"
   },
   {
    "duration": 25,
    "start_time": "2023-04-15T17:00:24.042Z"
   },
   {
    "duration": 6,
    "start_time": "2023-04-15T17:00:24.069Z"
   },
   {
    "duration": 310,
    "start_time": "2023-04-15T17:00:24.077Z"
   },
   {
    "duration": 10,
    "start_time": "2023-04-15T17:00:24.389Z"
   },
   {
    "duration": 23,
    "start_time": "2023-04-15T17:00:24.401Z"
   },
   {
    "duration": 31,
    "start_time": "2023-04-15T17:00:24.426Z"
   },
   {
    "duration": 17,
    "start_time": "2023-04-15T17:00:24.459Z"
   },
   {
    "duration": 7,
    "start_time": "2023-04-15T17:00:24.478Z"
   },
   {
    "duration": 56924,
    "start_time": "2023-04-15T17:00:24.486Z"
   },
   {
    "duration": 0,
    "start_time": "2023-04-15T17:01:21.412Z"
   },
   {
    "duration": 0,
    "start_time": "2023-04-15T17:01:21.414Z"
   },
   {
    "duration": 0,
    "start_time": "2023-04-15T17:01:21.415Z"
   },
   {
    "duration": 0,
    "start_time": "2023-04-15T17:01:21.416Z"
   },
   {
    "duration": 0,
    "start_time": "2023-04-15T17:01:21.417Z"
   },
   {
    "duration": 0,
    "start_time": "2023-04-15T17:01:21.418Z"
   },
   {
    "duration": 0,
    "start_time": "2023-04-15T17:01:21.419Z"
   },
   {
    "duration": 0,
    "start_time": "2023-04-15T17:01:21.420Z"
   },
   {
    "duration": 0,
    "start_time": "2023-04-15T17:01:21.421Z"
   },
   {
    "duration": 0,
    "start_time": "2023-04-15T17:01:21.422Z"
   },
   {
    "duration": 1049,
    "start_time": "2023-04-15T17:04:55.820Z"
   },
   {
    "duration": 34,
    "start_time": "2023-04-15T17:04:56.870Z"
   },
   {
    "duration": 22,
    "start_time": "2023-04-15T17:04:56.906Z"
   },
   {
    "duration": 12,
    "start_time": "2023-04-15T17:04:56.930Z"
   },
   {
    "duration": 51,
    "start_time": "2023-04-15T17:04:56.943Z"
   },
   {
    "duration": 4,
    "start_time": "2023-04-15T17:04:56.996Z"
   },
   {
    "duration": 5,
    "start_time": "2023-04-15T17:04:57.001Z"
   },
   {
    "duration": 9,
    "start_time": "2023-04-15T17:04:57.008Z"
   },
   {
    "duration": 6,
    "start_time": "2023-04-15T17:04:57.018Z"
   },
   {
    "duration": 10,
    "start_time": "2023-04-15T17:04:57.026Z"
   },
   {
    "duration": 4,
    "start_time": "2023-04-15T17:04:57.038Z"
   },
   {
    "duration": 4,
    "start_time": "2023-04-15T17:04:57.044Z"
   },
   {
    "duration": 44,
    "start_time": "2023-04-15T17:04:57.049Z"
   },
   {
    "duration": 295,
    "start_time": "2023-04-15T17:04:57.094Z"
   },
   {
    "duration": 10,
    "start_time": "2023-04-15T17:04:57.390Z"
   },
   {
    "duration": 5,
    "start_time": "2023-04-15T17:04:57.402Z"
   },
   {
    "duration": 18,
    "start_time": "2023-04-15T17:04:57.408Z"
   },
   {
    "duration": 11,
    "start_time": "2023-04-15T17:04:57.428Z"
   },
   {
    "duration": 6,
    "start_time": "2023-04-15T17:04:57.440Z"
   },
   {
    "duration": 47044,
    "start_time": "2023-04-15T17:04:57.447Z"
   },
   {
    "duration": 0,
    "start_time": "2023-04-15T17:05:44.492Z"
   },
   {
    "duration": 0,
    "start_time": "2023-04-15T17:05:44.494Z"
   },
   {
    "duration": 0,
    "start_time": "2023-04-15T17:05:44.495Z"
   },
   {
    "duration": 0,
    "start_time": "2023-04-15T17:05:44.496Z"
   },
   {
    "duration": 0,
    "start_time": "2023-04-15T17:05:44.497Z"
   },
   {
    "duration": 0,
    "start_time": "2023-04-15T17:05:44.498Z"
   },
   {
    "duration": 0,
    "start_time": "2023-04-15T17:05:44.500Z"
   },
   {
    "duration": 0,
    "start_time": "2023-04-15T17:05:44.501Z"
   },
   {
    "duration": 0,
    "start_time": "2023-04-15T17:05:44.502Z"
   },
   {
    "duration": 0,
    "start_time": "2023-04-15T17:05:44.503Z"
   },
   {
    "duration": 463881,
    "start_time": "2023-04-15T17:06:17.322Z"
   },
   {
    "duration": 57,
    "start_time": "2023-04-15T17:15:34.461Z"
   },
   {
    "duration": 1193,
    "start_time": "2023-04-15T17:16:13.488Z"
   },
   {
    "duration": 35,
    "start_time": "2023-04-15T17:16:14.683Z"
   },
   {
    "duration": 23,
    "start_time": "2023-04-15T17:16:14.720Z"
   },
   {
    "duration": 15,
    "start_time": "2023-04-15T17:16:14.745Z"
   },
   {
    "duration": 45,
    "start_time": "2023-04-15T17:16:14.762Z"
   },
   {
    "duration": 5,
    "start_time": "2023-04-15T17:16:14.809Z"
   },
   {
    "duration": 5,
    "start_time": "2023-04-15T17:16:14.815Z"
   },
   {
    "duration": 10,
    "start_time": "2023-04-15T17:16:14.822Z"
   },
   {
    "duration": 6,
    "start_time": "2023-04-15T17:16:14.833Z"
   },
   {
    "duration": 10,
    "start_time": "2023-04-15T17:16:14.841Z"
   },
   {
    "duration": 4,
    "start_time": "2023-04-15T17:16:14.852Z"
   },
   {
    "duration": 4,
    "start_time": "2023-04-15T17:16:14.890Z"
   },
   {
    "duration": 7,
    "start_time": "2023-04-15T17:16:14.895Z"
   },
   {
    "duration": 310,
    "start_time": "2023-04-15T17:16:14.904Z"
   },
   {
    "duration": 9,
    "start_time": "2023-04-15T17:16:15.216Z"
   },
   {
    "duration": 2,
    "start_time": "2023-04-15T17:16:15.227Z"
   },
   {
    "duration": 29,
    "start_time": "2023-04-15T17:16:15.231Z"
   },
   {
    "duration": 32,
    "start_time": "2023-04-15T17:16:15.261Z"
   },
   {
    "duration": 18,
    "start_time": "2023-04-15T17:16:15.295Z"
   },
   {
    "duration": 32429,
    "start_time": "2023-04-15T17:16:15.315Z"
   },
   {
    "duration": 0,
    "start_time": "2023-04-15T17:16:47.746Z"
   },
   {
    "duration": 0,
    "start_time": "2023-04-15T17:16:47.748Z"
   },
   {
    "duration": 0,
    "start_time": "2023-04-15T17:16:47.750Z"
   },
   {
    "duration": 0,
    "start_time": "2023-04-15T17:16:47.751Z"
   },
   {
    "duration": 0,
    "start_time": "2023-04-15T17:16:47.753Z"
   },
   {
    "duration": 0,
    "start_time": "2023-04-15T17:16:47.755Z"
   },
   {
    "duration": 0,
    "start_time": "2023-04-15T17:16:47.756Z"
   },
   {
    "duration": 0,
    "start_time": "2023-04-15T17:16:47.757Z"
   },
   {
    "duration": 0,
    "start_time": "2023-04-15T17:16:47.759Z"
   },
   {
    "duration": 0,
    "start_time": "2023-04-15T17:16:47.760Z"
   },
   {
    "duration": 5139836,
    "start_time": "2023-04-15T17:16:48.971Z"
   },
   {
    "duration": 9892,
    "start_time": "2023-04-15T18:42:28.810Z"
   },
   {
    "duration": 393738,
    "start_time": "2023-04-15T18:42:38.704Z"
   },
   {
    "duration": 0,
    "start_time": "2023-04-15T18:49:12.444Z"
   },
   {
    "duration": 12,
    "start_time": "2023-04-15T18:50:13.956Z"
   },
   {
    "duration": 15,
    "start_time": "2023-04-15T18:52:09.761Z"
   },
   {
    "duration": 16,
    "start_time": "2023-04-15T18:52:44.120Z"
   },
   {
    "duration": 862,
    "start_time": "2023-04-15T18:53:04.741Z"
   },
   {
    "duration": 766,
    "start_time": "2023-04-15T18:56:12.516Z"
   },
   {
    "duration": 9,
    "start_time": "2023-04-15T18:56:28.618Z"
   },
   {
    "duration": 8,
    "start_time": "2023-04-15T18:56:53.240Z"
   },
   {
    "duration": 793,
    "start_time": "2023-04-15T18:56:57.237Z"
   },
   {
    "duration": 829,
    "start_time": "2023-04-15T19:00:00.315Z"
   },
   {
    "duration": 9,
    "start_time": "2023-04-15T19:04:33.731Z"
   },
   {
    "duration": 9,
    "start_time": "2023-04-15T19:05:08.754Z"
   },
   {
    "duration": 8,
    "start_time": "2023-04-15T19:05:36.112Z"
   },
   {
    "duration": 4,
    "start_time": "2023-04-15T19:31:44.462Z"
   },
   {
    "duration": 12,
    "start_time": "2023-04-15T19:35:13.612Z"
   },
   {
    "duration": 5,
    "start_time": "2023-04-15T19:35:51.420Z"
   },
   {
    "duration": 13,
    "start_time": "2023-04-15T19:35:59.015Z"
   },
   {
    "duration": 8,
    "start_time": "2023-04-15T19:36:19.603Z"
   },
   {
    "duration": 20,
    "start_time": "2023-04-15T19:36:23.171Z"
   },
   {
    "duration": 36,
    "start_time": "2023-04-15T19:42:03.725Z"
   },
   {
    "duration": 1174,
    "start_time": "2023-04-15T19:42:20.673Z"
   },
   {
    "duration": 35,
    "start_time": "2023-04-15T19:42:21.849Z"
   },
   {
    "duration": 29,
    "start_time": "2023-04-15T19:42:21.886Z"
   },
   {
    "duration": 15,
    "start_time": "2023-04-15T19:42:21.919Z"
   },
   {
    "duration": 54,
    "start_time": "2023-04-15T19:42:21.936Z"
   },
   {
    "duration": 4,
    "start_time": "2023-04-15T19:42:21.992Z"
   },
   {
    "duration": 12,
    "start_time": "2023-04-15T19:42:21.998Z"
   },
   {
    "duration": 21,
    "start_time": "2023-04-15T19:42:22.011Z"
   },
   {
    "duration": 7,
    "start_time": "2023-04-15T19:42:22.034Z"
   },
   {
    "duration": 18,
    "start_time": "2023-04-15T19:42:22.043Z"
   },
   {
    "duration": 5,
    "start_time": "2023-04-15T19:42:22.062Z"
   },
   {
    "duration": 16,
    "start_time": "2023-04-15T19:42:22.069Z"
   },
   {
    "duration": 10,
    "start_time": "2023-04-15T19:42:22.086Z"
   },
   {
    "duration": 297,
    "start_time": "2023-04-15T19:42:22.098Z"
   },
   {
    "duration": 13,
    "start_time": "2023-04-15T19:42:22.397Z"
   },
   {
    "duration": 7,
    "start_time": "2023-04-15T19:42:22.411Z"
   },
   {
    "duration": 15,
    "start_time": "2023-04-15T19:42:22.419Z"
   },
   {
    "duration": 14,
    "start_time": "2023-04-15T19:42:22.436Z"
   },
   {
    "duration": 19,
    "start_time": "2023-04-15T19:42:22.452Z"
   },
   {
    "duration": 4907339,
    "start_time": "2023-04-15T19:42:22.472Z"
   },
   {
    "duration": 15079,
    "start_time": "2023-04-15T21:04:09.813Z"
   },
   {
    "duration": 4588663,
    "start_time": "2023-04-15T21:04:24.897Z"
   },
   {
    "duration": 85337,
    "start_time": "2023-04-15T22:20:53.561Z"
   },
   {
    "duration": 32,
    "start_time": "2023-04-15T22:22:18.903Z"
   },
   {
    "duration": 14,
    "start_time": "2023-04-15T22:22:18.993Z"
   },
   {
    "duration": 16,
    "start_time": "2023-04-15T22:22:19.014Z"
   },
   {
    "duration": 5299867,
    "start_time": "2023-04-15T22:22:19.032Z"
   },
   {
    "duration": 26028,
    "start_time": "2023-04-15T23:50:38.900Z"
   },
   {
    "duration": 54365,
    "start_time": "2023-04-15T23:51:04.930Z"
   },
   {
    "duration": 491543,
    "start_time": "2023-04-15T23:51:59.298Z"
   },
   {
    "duration": 0,
    "start_time": "2023-04-16T00:00:10.843Z"
   },
   {
    "duration": 0,
    "start_time": "2023-04-16T00:00:10.845Z"
   },
   {
    "duration": 26842,
    "start_time": "2023-04-16T00:00:21.978Z"
   },
   {
    "duration": 71,
    "start_time": "2023-04-16T00:10:21.769Z"
   },
   {
    "duration": 158,
    "start_time": "2023-04-16T00:10:31.665Z"
   },
   {
    "duration": 82,
    "start_time": "2023-04-16T00:12:05.935Z"
   },
   {
    "duration": 318,
    "start_time": "2023-04-16T00:14:09.972Z"
   },
   {
    "duration": 274,
    "start_time": "2023-04-16T00:14:49.315Z"
   },
   {
    "duration": 260,
    "start_time": "2023-04-16T00:15:06.031Z"
   },
   {
    "duration": 137,
    "start_time": "2023-04-16T00:15:39.255Z"
   },
   {
    "duration": 87,
    "start_time": "2023-04-16T00:16:07.238Z"
   },
   {
    "duration": 193,
    "start_time": "2023-04-16T00:19:11.634Z"
   },
   {
    "duration": 217,
    "start_time": "2023-04-16T00:20:06.379Z"
   },
   {
    "duration": 135,
    "start_time": "2023-04-16T00:20:51.292Z"
   },
   {
    "duration": 98,
    "start_time": "2023-04-16T00:21:10.330Z"
   },
   {
    "duration": 54643,
    "start_time": "2023-04-16T01:09:41.553Z"
   },
   {
    "duration": 67,
    "start_time": "2023-04-16T01:39:14.582Z"
   },
   {
    "duration": 70,
    "start_time": "2023-04-16T01:42:22.761Z"
   },
   {
    "duration": 1094,
    "start_time": "2023-04-16T09:23:45.862Z"
   },
   {
    "duration": 82,
    "start_time": "2023-04-16T09:23:46.958Z"
   },
   {
    "duration": 22,
    "start_time": "2023-04-16T09:23:47.041Z"
   },
   {
    "duration": 12,
    "start_time": "2023-04-16T09:23:47.065Z"
   },
   {
    "duration": 36,
    "start_time": "2023-04-16T09:23:47.079Z"
   },
   {
    "duration": 4,
    "start_time": "2023-04-16T09:23:47.117Z"
   },
   {
    "duration": 5,
    "start_time": "2023-04-16T09:23:47.123Z"
   },
   {
    "duration": 11,
    "start_time": "2023-04-16T09:23:47.130Z"
   },
   {
    "duration": 6,
    "start_time": "2023-04-16T09:23:47.143Z"
   },
   {
    "duration": 10,
    "start_time": "2023-04-16T09:23:47.152Z"
   },
   {
    "duration": 4,
    "start_time": "2023-04-16T09:23:47.164Z"
   },
   {
    "duration": 5,
    "start_time": "2023-04-16T09:23:47.194Z"
   },
   {
    "duration": 6,
    "start_time": "2023-04-16T09:23:47.200Z"
   },
   {
    "duration": 463,
    "start_time": "2023-04-16T09:23:47.208Z"
   },
   {
    "duration": 10,
    "start_time": "2023-04-16T09:23:47.672Z"
   },
   {
    "duration": 11,
    "start_time": "2023-04-16T09:23:47.684Z"
   },
   {
    "duration": 13,
    "start_time": "2023-04-16T09:23:47.696Z"
   },
   {
    "duration": 11,
    "start_time": "2023-04-16T09:23:47.710Z"
   },
   {
    "duration": 5,
    "start_time": "2023-04-16T09:23:47.723Z"
   },
   {
    "duration": 4683190,
    "start_time": "2023-04-16T09:23:47.730Z"
   },
   {
    "duration": 20474,
    "start_time": "2023-04-16T10:41:50.921Z"
   },
   {
    "duration": 1322,
    "start_time": "2023-04-17T01:30:02.702Z"
   },
   {
    "duration": 164,
    "start_time": "2023-04-17T01:30:05.248Z"
   },
   {
    "duration": 26,
    "start_time": "2023-04-17T01:30:06.287Z"
   },
   {
    "duration": 13,
    "start_time": "2023-04-17T01:30:06.801Z"
   },
   {
    "duration": 43,
    "start_time": "2023-04-17T01:30:07.396Z"
   },
   {
    "duration": 4,
    "start_time": "2023-04-17T01:30:08.341Z"
   },
   {
    "duration": 4,
    "start_time": "2023-04-17T01:30:08.794Z"
   },
   {
    "duration": 10,
    "start_time": "2023-04-17T01:30:11.173Z"
   },
   {
    "duration": 7,
    "start_time": "2023-04-17T01:30:11.845Z"
   },
   {
    "duration": 10,
    "start_time": "2023-04-17T01:30:12.610Z"
   },
   {
    "duration": 4,
    "start_time": "2023-04-17T01:30:13.237Z"
   },
   {
    "duration": 4,
    "start_time": "2023-04-17T01:30:13.856Z"
   },
   {
    "duration": 7,
    "start_time": "2023-04-17T01:30:14.537Z"
   },
   {
    "duration": 482,
    "start_time": "2023-04-17T01:30:16.103Z"
   },
   {
    "duration": 11,
    "start_time": "2023-04-17T01:30:18.093Z"
   },
   {
    "duration": 3,
    "start_time": "2023-04-17T01:30:19.333Z"
   },
   {
    "duration": 13,
    "start_time": "2023-04-17T01:30:19.957Z"
   },
   {
    "duration": 13,
    "start_time": "2023-04-17T01:30:21.386Z"
   },
   {
    "duration": 6,
    "start_time": "2023-04-17T01:30:24.443Z"
   },
   {
    "duration": 1174,
    "start_time": "2023-04-17T01:30:42.722Z"
   },
   {
    "duration": 39,
    "start_time": "2023-04-17T01:30:43.898Z"
   },
   {
    "duration": 23,
    "start_time": "2023-04-17T01:30:43.939Z"
   },
   {
    "duration": 12,
    "start_time": "2023-04-17T01:30:43.964Z"
   },
   {
    "duration": 37,
    "start_time": "2023-04-17T01:30:43.977Z"
   },
   {
    "duration": 20,
    "start_time": "2023-04-17T01:30:44.016Z"
   },
   {
    "duration": 17,
    "start_time": "2023-04-17T01:30:44.038Z"
   },
   {
    "duration": 28,
    "start_time": "2023-04-17T01:30:44.056Z"
   },
   {
    "duration": 24,
    "start_time": "2023-04-17T01:30:44.085Z"
   },
   {
    "duration": 17,
    "start_time": "2023-04-17T01:30:44.111Z"
   },
   {
    "duration": 4,
    "start_time": "2023-04-17T01:30:44.130Z"
   },
   {
    "duration": 14,
    "start_time": "2023-04-17T01:30:44.135Z"
   },
   {
    "duration": 12,
    "start_time": "2023-04-17T01:30:44.151Z"
   },
   {
    "duration": 300,
    "start_time": "2023-04-17T01:30:44.165Z"
   },
   {
    "duration": 10,
    "start_time": "2023-04-17T01:30:44.467Z"
   },
   {
    "duration": 4,
    "start_time": "2023-04-17T01:30:44.479Z"
   },
   {
    "duration": 18,
    "start_time": "2023-04-17T01:30:44.485Z"
   },
   {
    "duration": 14,
    "start_time": "2023-04-17T01:30:44.505Z"
   },
   {
    "duration": 19,
    "start_time": "2023-04-17T01:30:44.521Z"
   },
   {
    "duration": 4830942,
    "start_time": "2023-04-17T01:30:44.542Z"
   },
   {
    "duration": 25953,
    "start_time": "2023-04-17T02:51:15.486Z"
   },
   {
    "duration": 4194229,
    "start_time": "2023-04-17T02:51:41.443Z"
   },
   {
    "duration": 106473,
    "start_time": "2023-04-17T04:01:35.673Z"
   },
   {
    "duration": 99,
    "start_time": "2023-04-17T04:03:22.151Z"
   },
   {
    "duration": 23,
    "start_time": "2023-04-17T04:03:22.251Z"
   },
   {
    "duration": 13,
    "start_time": "2023-04-17T04:03:22.275Z"
   },
   {
    "duration": 5470089,
    "start_time": "2023-04-17T04:03:22.290Z"
   },
   {
    "duration": 25088,
    "start_time": "2023-04-17T05:34:32.382Z"
   },
   {
    "duration": 261381,
    "start_time": "2023-04-17T05:34:57.472Z"
   },
   {
    "duration": 164,
    "start_time": "2023-04-17T05:39:18.855Z"
   },
   {
    "duration": 419,
    "start_time": "2023-04-17T05:39:19.021Z"
   },
   {
    "duration": 55,
    "start_time": "2023-04-17T11:14:25.742Z"
   },
   {
    "duration": 1348,
    "start_time": "2023-04-17T11:14:43.953Z"
   },
   {
    "duration": 332,
    "start_time": "2023-04-17T11:14:45.305Z"
   },
   {
    "duration": 24,
    "start_time": "2023-04-17T11:14:45.853Z"
   },
   {
    "duration": 16,
    "start_time": "2023-04-17T11:14:46.300Z"
   },
   {
    "duration": 39,
    "start_time": "2023-04-17T11:14:46.962Z"
   },
   {
    "duration": 4,
    "start_time": "2023-04-17T11:14:49.348Z"
   },
   {
    "duration": 4,
    "start_time": "2023-04-17T11:14:49.666Z"
   },
   {
    "duration": 10,
    "start_time": "2023-04-17T11:14:51.085Z"
   },
   {
    "duration": 8,
    "start_time": "2023-04-17T11:14:51.500Z"
   },
   {
    "duration": 11,
    "start_time": "2023-04-17T11:14:52.069Z"
   },
   {
    "duration": 4,
    "start_time": "2023-04-17T11:14:52.862Z"
   },
   {
    "duration": 4,
    "start_time": "2023-04-17T11:14:53.265Z"
   },
   {
    "duration": 6,
    "start_time": "2023-04-17T11:14:53.600Z"
   },
   {
    "duration": 539,
    "start_time": "2023-04-17T11:14:55.036Z"
   },
   {
    "duration": 11,
    "start_time": "2023-04-17T11:14:59.822Z"
   },
   {
    "duration": 3,
    "start_time": "2023-04-17T11:15:02.068Z"
   },
   {
    "duration": 12,
    "start_time": "2023-04-17T11:15:04.945Z"
   },
   {
    "duration": 12,
    "start_time": "2023-04-17T11:15:06.242Z"
   },
   {
    "duration": 7,
    "start_time": "2023-04-17T11:15:10.296Z"
   },
   {
    "duration": 12,
    "start_time": "2023-04-17T11:15:34.226Z"
   },
   {
    "duration": 11,
    "start_time": "2023-04-17T11:15:39.826Z"
   },
   {
    "duration": 5,
    "start_time": "2023-04-17T11:15:52.183Z"
   },
   {
    "duration": 5,
    "start_time": "2023-04-17T11:16:01.107Z"
   },
   {
    "duration": 75,
    "start_time": "2023-04-17T11:16:16.774Z"
   },
   {
    "duration": 16,
    "start_time": "2023-04-17T11:16:38.679Z"
   },
   {
    "duration": 58,
    "start_time": "2023-04-18T15:35:51.729Z"
   },
   {
    "duration": 1439,
    "start_time": "2023-04-18T15:36:00.527Z"
   },
   {
    "duration": 142,
    "start_time": "2023-04-18T15:36:01.970Z"
   },
   {
    "duration": 37,
    "start_time": "2023-04-18T15:36:02.115Z"
   },
   {
    "duration": 20,
    "start_time": "2023-04-18T15:36:02.154Z"
   },
   {
    "duration": 88,
    "start_time": "2023-04-18T15:36:02.178Z"
   },
   {
    "duration": 15,
    "start_time": "2023-04-18T15:36:02.268Z"
   },
   {
    "duration": 72,
    "start_time": "2023-04-18T15:36:02.287Z"
   },
   {
    "duration": 14,
    "start_time": "2023-04-18T15:36:02.361Z"
   },
   {
    "duration": 68,
    "start_time": "2023-04-18T15:36:02.377Z"
   },
   {
    "duration": 15,
    "start_time": "2023-04-18T15:36:02.447Z"
   },
   {
    "duration": 5,
    "start_time": "2023-04-18T15:36:02.464Z"
   },
   {
    "duration": 67,
    "start_time": "2023-04-18T15:36:02.471Z"
   },
   {
    "duration": 22,
    "start_time": "2023-04-18T15:36:02.540Z"
   },
   {
    "duration": 757,
    "start_time": "2023-04-18T15:36:02.566Z"
   },
   {
    "duration": 14,
    "start_time": "2023-04-18T15:36:03.329Z"
   },
   {
    "duration": 21,
    "start_time": "2023-04-18T15:36:03.345Z"
   },
   {
    "duration": 131,
    "start_time": "2023-04-18T15:36:03.369Z"
   },
   {
    "duration": 77,
    "start_time": "2023-04-18T15:36:03.502Z"
   },
   {
    "duration": 76,
    "start_time": "2023-04-18T15:36:03.581Z"
   },
   {
    "duration": 1431,
    "start_time": "2023-04-18T15:36:11.370Z"
   },
   {
    "duration": 58,
    "start_time": "2023-04-18T15:36:12.806Z"
   },
   {
    "duration": 35,
    "start_time": "2023-04-18T15:36:12.866Z"
   },
   {
    "duration": 25,
    "start_time": "2023-04-18T15:36:12.904Z"
   },
   {
    "duration": 62,
    "start_time": "2023-04-18T15:36:12.931Z"
   },
   {
    "duration": 6,
    "start_time": "2023-04-18T15:36:12.994Z"
   },
   {
    "duration": 46,
    "start_time": "2023-04-18T15:36:13.003Z"
   },
   {
    "duration": 16,
    "start_time": "2023-04-18T15:36:13.051Z"
   },
   {
    "duration": 34,
    "start_time": "2023-04-18T15:36:13.069Z"
   },
   {
    "duration": 35,
    "start_time": "2023-04-18T15:36:13.117Z"
   },
   {
    "duration": 7,
    "start_time": "2023-04-18T15:36:13.154Z"
   },
   {
    "duration": 11,
    "start_time": "2023-04-18T15:36:13.163Z"
   },
   {
    "duration": 70,
    "start_time": "2023-04-18T15:36:13.175Z"
   },
   {
    "duration": 407,
    "start_time": "2023-04-18T15:36:13.247Z"
   },
   {
    "duration": 12,
    "start_time": "2023-04-18T15:36:13.656Z"
   },
   {
    "duration": 87,
    "start_time": "2023-04-18T15:36:13.670Z"
   },
   {
    "duration": 77,
    "start_time": "2023-04-18T15:36:13.760Z"
   },
   {
    "duration": 28,
    "start_time": "2023-04-18T15:36:13.839Z"
   },
   {
    "duration": 81,
    "start_time": "2023-04-18T15:36:13.869Z"
   },
   {
    "duration": 42071,
    "start_time": "2023-04-18T15:36:13.952Z"
   },
   {
    "duration": 99496,
    "start_time": "2023-04-18T15:36:56.028Z"
   },
   {
    "duration": 319,
    "start_time": "2023-04-18T15:38:35.526Z"
   },
   {
    "duration": 0,
    "start_time": "2023-04-18T15:38:35.847Z"
   },
   {
    "duration": 0,
    "start_time": "2023-04-18T15:38:35.849Z"
   },
   {
    "duration": 0,
    "start_time": "2023-04-18T15:38:35.850Z"
   },
   {
    "duration": 0,
    "start_time": "2023-04-18T15:38:35.852Z"
   },
   {
    "duration": 0,
    "start_time": "2023-04-18T15:38:35.853Z"
   },
   {
    "duration": 0,
    "start_time": "2023-04-18T15:38:35.855Z"
   },
   {
    "duration": 16,
    "start_time": "2023-04-18T15:40:53.829Z"
   },
   {
    "duration": 16,
    "start_time": "2023-04-18T15:41:11.313Z"
   },
   {
    "duration": 26,
    "start_time": "2023-04-18T15:41:46.493Z"
   },
   {
    "duration": 7,
    "start_time": "2023-04-18T15:41:52.125Z"
   },
   {
    "duration": 377783,
    "start_time": "2023-04-18T15:41:52.963Z"
   },
   {
    "duration": 0,
    "start_time": "2023-04-18T15:48:10.748Z"
   },
   {
    "duration": 0,
    "start_time": "2023-04-18T15:48:10.749Z"
   },
   {
    "duration": 0,
    "start_time": "2023-04-18T15:48:10.750Z"
   },
   {
    "duration": 0,
    "start_time": "2023-04-18T15:48:10.751Z"
   },
   {
    "duration": 72,
    "start_time": "2023-04-18T15:50:26.970Z"
   },
   {
    "duration": 46019,
    "start_time": "2023-04-18T15:50:34.420Z"
   },
   {
    "duration": 1302,
    "start_time": "2023-04-18T15:59:07.228Z"
   },
   {
    "duration": 58,
    "start_time": "2023-04-18T15:59:08.532Z"
   },
   {
    "duration": 42,
    "start_time": "2023-04-18T15:59:08.592Z"
   },
   {
    "duration": 59,
    "start_time": "2023-04-18T15:59:08.636Z"
   },
   {
    "duration": 92,
    "start_time": "2023-04-18T15:59:08.702Z"
   },
   {
    "duration": 34,
    "start_time": "2023-04-18T15:59:08.796Z"
   },
   {
    "duration": 58,
    "start_time": "2023-04-18T15:59:08.832Z"
   },
   {
    "duration": 68,
    "start_time": "2023-04-18T15:59:08.896Z"
   },
   {
    "duration": 24,
    "start_time": "2023-04-18T15:59:08.966Z"
   },
   {
    "duration": 63,
    "start_time": "2023-04-18T15:59:08.992Z"
   },
   {
    "duration": 31,
    "start_time": "2023-04-18T15:59:09.057Z"
   },
   {
    "duration": 54,
    "start_time": "2023-04-18T15:59:09.094Z"
   },
   {
    "duration": 76,
    "start_time": "2023-04-18T15:59:09.150Z"
   },
   {
    "duration": 452,
    "start_time": "2023-04-18T15:59:09.230Z"
   },
   {
    "duration": 14,
    "start_time": "2023-04-18T15:59:09.683Z"
   },
   {
    "duration": 40,
    "start_time": "2023-04-18T15:59:09.701Z"
   },
   {
    "duration": 35,
    "start_time": "2023-04-18T15:59:09.744Z"
   },
   {
    "duration": 84,
    "start_time": "2023-04-18T15:59:09.781Z"
   },
   {
    "duration": 78,
    "start_time": "2023-04-18T15:59:09.867Z"
   },
   {
    "duration": 18764,
    "start_time": "2023-04-18T15:59:09.947Z"
   },
   {
    "duration": 59515,
    "start_time": "2023-04-18T15:59:28.783Z"
   },
   {
    "duration": 126,
    "start_time": "2023-04-18T16:00:28.299Z"
   },
   {
    "duration": 16,
    "start_time": "2023-04-18T16:00:28.431Z"
   },
   {
    "duration": 5394574,
    "start_time": "2023-04-18T16:00:28.449Z"
   },
   {
    "duration": 15129,
    "start_time": "2023-04-18T17:30:23.025Z"
   },
   {
    "duration": 0,
    "start_time": "2023-04-18T17:30:38.156Z"
   },
   {
    "duration": 0,
    "start_time": "2023-04-18T17:30:38.158Z"
   },
   {
    "duration": 14570,
    "start_time": "2023-04-18T17:31:43.228Z"
   },
   {
    "duration": 68204,
    "start_time": "2023-04-18T23:12:24.381Z"
   },
   {
    "duration": 12730,
    "start_time": "2023-04-18T23:15:06.655Z"
   },
   {
    "duration": 13413,
    "start_time": "2023-04-18T23:15:38.274Z"
   },
   {
    "duration": 141,
    "start_time": "2023-04-18T23:15:51.690Z"
   },
   {
    "duration": 1371760,
    "start_time": "2023-04-18T23:15:51.833Z"
   }
  ],
  "kernelspec": {
   "display_name": "Python 3 (ipykernel)",
   "language": "python",
   "name": "python3"
  },
  "language_info": {
   "codemirror_mode": {
    "name": "ipython",
    "version": 3
   },
   "file_extension": ".py",
   "mimetype": "text/x-python",
   "name": "python",
   "nbconvert_exporter": "python",
   "pygments_lexer": "ipython3",
   "version": "3.9.5"
  },
  "toc": {
   "base_numbering": 1,
   "nav_menu": {},
   "number_sections": true,
   "sideBar": true,
   "skip_h1_title": true,
   "title_cell": "Содержание",
   "title_sidebar": "Contents",
   "toc_cell": true,
   "toc_position": {},
   "toc_section_display": true,
   "toc_window_display": true
  }
 },
 "nbformat": 4,
 "nbformat_minor": 2
}
