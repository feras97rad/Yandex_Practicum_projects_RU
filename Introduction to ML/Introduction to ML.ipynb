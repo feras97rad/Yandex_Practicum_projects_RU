{
 "cells": [
  {
   "cell_type": "markdown",
   "metadata": {},
   "source": [
    "# Рекомендация тарифов"
   ]
  },
  {
   "cell_type": "markdown",
   "metadata": {},
   "source": [
    "В вашем распоряжении данные о поведении клиентов, которые уже перешли на эти тарифы (из проекта курса «Статистический анализ данных»). Нужно построить модель для задачи классификации, которая выберет подходящий тариф. Предобработка данных не понадобится — вы её уже сделали.\n",
    "\n",
    "Постройте модель с максимально большим значением *accuracy*. Чтобы сдать проект успешно, нужно довести долю правильных ответов по крайней мере до 0.75. Проверьте *accuracy* на тестовой выборке самостоятельно."
   ]
  },
  {
   "cell_type": "markdown",
   "metadata": {},
   "source": [
    "## Описание проекта"
   ]
  },
  {
   "cell_type": "markdown",
   "metadata": {},
   "source": [
    "Имеется дата-сет с параметрами поведения клиентов телеком-оператора.\n",
    "В дата-сете 3214 строк и 5 колонок, обозначающих: кол-во звонков, длительность звонков, кол-во сообщений, потраченные Мб трафика и тариф (\"Ультра\" и \"Смарт\").\\\n",
    "Так-как перед нами стоит задача машинного обучения, предполагается полное отсутствие пропусков.\\\n",
    "По имеющимся данным необходимо построить систему рекомендации подходящих тарифов клиентам оператора.\\\n",
    "Примерный план выполнения задачи:\n",
    "- Импорт необходимых библиотек\n",
    "- Откр. и ознакомление с дата-фреймом\n",
    "- Разбитие данных на три выборки (тренировочную, тестовую и валидационную) в пропорции 6:2:2\n",
    "- Исследование моделей и подбор лучших гиперпараметров для каждой\n",
    "- Исследование наиболее точной модели на тестовой выборке\n",
    "- Проверка лучшей модели на адекватность\n",
    "- Вывод"
   ]
  },
  {
   "cell_type": "markdown",
   "metadata": {},
   "source": [
    "Начнем с импорта необходимых библиотек."
   ]
  },
  {
   "cell_type": "code",
   "execution_count": 6,
   "metadata": {},
   "outputs": [],
   "source": [
    "import pandas as pd\n",
    "import numpy as np\n",
    "from tqdm.auto import tqdm\n",
    "import warnings\n",
    "warnings.filterwarnings(\"ignore\")\n",
    "\n",
    "from sklearn.model_selection import train_test_split\n",
    "from sklearn.tree import DecisionTreeClassifier\n",
    "from sklearn.linear_model import LogisticRegression\n",
    "from sklearn.ensemble import RandomForestClassifier\n",
    "from sklearn.neighbors import KNeighborsClassifier\n",
    "from sklearn.svm import SVC\n",
    "from sklearn.metrics import accuracy_score\n",
    "from sklearn.dummy import DummyClassifier"
   ]
  },
  {
   "cell_type": "markdown",
   "metadata": {},
   "source": [
    "## Откройте и изучите файл"
   ]
  },
  {
   "cell_type": "markdown",
   "metadata": {},
   "source": [
    " ### Откроем csv-файл, используя оба источника на случай технических неисправностей."
   ]
  },
  {
   "cell_type": "code",
   "execution_count": 7,
   "metadata": {},
   "outputs": [],
   "source": [
    "try:\n",
    "    df = pd.read_csv('/datasets/users_behavior.csv')\n",
    "except:\n",
    "    df = pd.read_csv('https://code.s3.yandex.net/datasets/users_behavior.csv')"
   ]
  },
  {
   "cell_type": "markdown",
   "metadata": {},
   "source": [
    "### Изучим основные хар-ки датафрейма."
   ]
  },
  {
   "cell_type": "code",
   "execution_count": 8,
   "metadata": {},
   "outputs": [
    {
     "data": {
      "text/html": [
       "<div>\n",
       "<style scoped>\n",
       "    .dataframe tbody tr th:only-of-type {\n",
       "        vertical-align: middle;\n",
       "    }\n",
       "\n",
       "    .dataframe tbody tr th {\n",
       "        vertical-align: top;\n",
       "    }\n",
       "\n",
       "    .dataframe thead th {\n",
       "        text-align: right;\n",
       "    }\n",
       "</style>\n",
       "<table border=\"1\" class=\"dataframe\">\n",
       "  <thead>\n",
       "    <tr style=\"text-align: right;\">\n",
       "      <th></th>\n",
       "      <th>calls</th>\n",
       "      <th>minutes</th>\n",
       "      <th>messages</th>\n",
       "      <th>mb_used</th>\n",
       "      <th>is_ultra</th>\n",
       "    </tr>\n",
       "  </thead>\n",
       "  <tbody>\n",
       "    <tr>\n",
       "      <th>0</th>\n",
       "      <td>40.0</td>\n",
       "      <td>311.90</td>\n",
       "      <td>83.0</td>\n",
       "      <td>19915.42</td>\n",
       "      <td>0</td>\n",
       "    </tr>\n",
       "    <tr>\n",
       "      <th>1</th>\n",
       "      <td>85.0</td>\n",
       "      <td>516.75</td>\n",
       "      <td>56.0</td>\n",
       "      <td>22696.96</td>\n",
       "      <td>0</td>\n",
       "    </tr>\n",
       "    <tr>\n",
       "      <th>2</th>\n",
       "      <td>77.0</td>\n",
       "      <td>467.66</td>\n",
       "      <td>86.0</td>\n",
       "      <td>21060.45</td>\n",
       "      <td>0</td>\n",
       "    </tr>\n",
       "    <tr>\n",
       "      <th>3</th>\n",
       "      <td>106.0</td>\n",
       "      <td>745.53</td>\n",
       "      <td>81.0</td>\n",
       "      <td>8437.39</td>\n",
       "      <td>1</td>\n",
       "    </tr>\n",
       "    <tr>\n",
       "      <th>4</th>\n",
       "      <td>66.0</td>\n",
       "      <td>418.74</td>\n",
       "      <td>1.0</td>\n",
       "      <td>14502.75</td>\n",
       "      <td>0</td>\n",
       "    </tr>\n",
       "    <tr>\n",
       "      <th>5</th>\n",
       "      <td>58.0</td>\n",
       "      <td>344.56</td>\n",
       "      <td>21.0</td>\n",
       "      <td>15823.37</td>\n",
       "      <td>0</td>\n",
       "    </tr>\n",
       "    <tr>\n",
       "      <th>6</th>\n",
       "      <td>57.0</td>\n",
       "      <td>431.64</td>\n",
       "      <td>20.0</td>\n",
       "      <td>3738.90</td>\n",
       "      <td>1</td>\n",
       "    </tr>\n",
       "    <tr>\n",
       "      <th>7</th>\n",
       "      <td>15.0</td>\n",
       "      <td>132.40</td>\n",
       "      <td>6.0</td>\n",
       "      <td>21911.60</td>\n",
       "      <td>0</td>\n",
       "    </tr>\n",
       "    <tr>\n",
       "      <th>8</th>\n",
       "      <td>7.0</td>\n",
       "      <td>43.39</td>\n",
       "      <td>3.0</td>\n",
       "      <td>2538.67</td>\n",
       "      <td>1</td>\n",
       "    </tr>\n",
       "    <tr>\n",
       "      <th>9</th>\n",
       "      <td>90.0</td>\n",
       "      <td>665.41</td>\n",
       "      <td>38.0</td>\n",
       "      <td>17358.61</td>\n",
       "      <td>0</td>\n",
       "    </tr>\n",
       "  </tbody>\n",
       "</table>\n",
       "</div>"
      ],
      "text/plain": [
       "   calls  minutes  messages   mb_used  is_ultra\n",
       "0   40.0   311.90      83.0  19915.42         0\n",
       "1   85.0   516.75      56.0  22696.96         0\n",
       "2   77.0   467.66      86.0  21060.45         0\n",
       "3  106.0   745.53      81.0   8437.39         1\n",
       "4   66.0   418.74       1.0  14502.75         0\n",
       "5   58.0   344.56      21.0  15823.37         0\n",
       "6   57.0   431.64      20.0   3738.90         1\n",
       "7   15.0   132.40       6.0  21911.60         0\n",
       "8    7.0    43.39       3.0   2538.67         1\n",
       "9   90.0   665.41      38.0  17358.61         0"
      ]
     },
     "execution_count": 8,
     "metadata": {},
     "output_type": "execute_result"
    }
   ],
   "source": [
    "df.head(10)"
   ]
  },
  {
   "cell_type": "code",
   "execution_count": 9,
   "metadata": {},
   "outputs": [
    {
     "data": {
      "text/html": [
       "<div>\n",
       "<style scoped>\n",
       "    .dataframe tbody tr th:only-of-type {\n",
       "        vertical-align: middle;\n",
       "    }\n",
       "\n",
       "    .dataframe tbody tr th {\n",
       "        vertical-align: top;\n",
       "    }\n",
       "\n",
       "    .dataframe thead th {\n",
       "        text-align: right;\n",
       "    }\n",
       "</style>\n",
       "<table border=\"1\" class=\"dataframe\">\n",
       "  <thead>\n",
       "    <tr style=\"text-align: right;\">\n",
       "      <th></th>\n",
       "      <th>calls</th>\n",
       "      <th>minutes</th>\n",
       "      <th>messages</th>\n",
       "      <th>mb_used</th>\n",
       "      <th>is_ultra</th>\n",
       "    </tr>\n",
       "  </thead>\n",
       "  <tbody>\n",
       "    <tr>\n",
       "      <th>count</th>\n",
       "      <td>3214.000000</td>\n",
       "      <td>3214.000000</td>\n",
       "      <td>3214.000000</td>\n",
       "      <td>3214.000000</td>\n",
       "      <td>3214.000000</td>\n",
       "    </tr>\n",
       "    <tr>\n",
       "      <th>mean</th>\n",
       "      <td>63.038892</td>\n",
       "      <td>438.208787</td>\n",
       "      <td>38.281269</td>\n",
       "      <td>17207.673836</td>\n",
       "      <td>0.306472</td>\n",
       "    </tr>\n",
       "    <tr>\n",
       "      <th>std</th>\n",
       "      <td>33.236368</td>\n",
       "      <td>234.569872</td>\n",
       "      <td>36.148326</td>\n",
       "      <td>7570.968246</td>\n",
       "      <td>0.461100</td>\n",
       "    </tr>\n",
       "    <tr>\n",
       "      <th>min</th>\n",
       "      <td>0.000000</td>\n",
       "      <td>0.000000</td>\n",
       "      <td>0.000000</td>\n",
       "      <td>0.000000</td>\n",
       "      <td>0.000000</td>\n",
       "    </tr>\n",
       "    <tr>\n",
       "      <th>25%</th>\n",
       "      <td>40.000000</td>\n",
       "      <td>274.575000</td>\n",
       "      <td>9.000000</td>\n",
       "      <td>12491.902500</td>\n",
       "      <td>0.000000</td>\n",
       "    </tr>\n",
       "    <tr>\n",
       "      <th>50%</th>\n",
       "      <td>62.000000</td>\n",
       "      <td>430.600000</td>\n",
       "      <td>30.000000</td>\n",
       "      <td>16943.235000</td>\n",
       "      <td>0.000000</td>\n",
       "    </tr>\n",
       "    <tr>\n",
       "      <th>75%</th>\n",
       "      <td>82.000000</td>\n",
       "      <td>571.927500</td>\n",
       "      <td>57.000000</td>\n",
       "      <td>21424.700000</td>\n",
       "      <td>1.000000</td>\n",
       "    </tr>\n",
       "    <tr>\n",
       "      <th>max</th>\n",
       "      <td>244.000000</td>\n",
       "      <td>1632.060000</td>\n",
       "      <td>224.000000</td>\n",
       "      <td>49745.730000</td>\n",
       "      <td>1.000000</td>\n",
       "    </tr>\n",
       "  </tbody>\n",
       "</table>\n",
       "</div>"
      ],
      "text/plain": [
       "             calls      minutes     messages       mb_used     is_ultra\n",
       "count  3214.000000  3214.000000  3214.000000   3214.000000  3214.000000\n",
       "mean     63.038892   438.208787    38.281269  17207.673836     0.306472\n",
       "std      33.236368   234.569872    36.148326   7570.968246     0.461100\n",
       "min       0.000000     0.000000     0.000000      0.000000     0.000000\n",
       "25%      40.000000   274.575000     9.000000  12491.902500     0.000000\n",
       "50%      62.000000   430.600000    30.000000  16943.235000     0.000000\n",
       "75%      82.000000   571.927500    57.000000  21424.700000     1.000000\n",
       "max     244.000000  1632.060000   224.000000  49745.730000     1.000000"
      ]
     },
     "execution_count": 9,
     "metadata": {},
     "output_type": "execute_result"
    }
   ],
   "source": [
    "df.describe()"
   ]
  },
  {
   "cell_type": "markdown",
   "metadata": {},
   "source": [
    "Наблюдаем близкие значения средней и медианы, что говорит о небольшом кол-ве выбросов и аномальных значений."
   ]
  },
  {
   "cell_type": "code",
   "execution_count": 10,
   "metadata": {},
   "outputs": [
    {
     "name": "stdout",
     "output_type": "stream",
     "text": [
      "<class 'pandas.core.frame.DataFrame'>\n",
      "RangeIndex: 3214 entries, 0 to 3213\n",
      "Data columns (total 5 columns):\n",
      " #   Column    Non-Null Count  Dtype  \n",
      "---  ------    --------------  -----  \n",
      " 0   calls     3214 non-null   float64\n",
      " 1   minutes   3214 non-null   float64\n",
      " 2   messages  3214 non-null   float64\n",
      " 3   mb_used   3214 non-null   float64\n",
      " 4   is_ultra  3214 non-null   int64  \n",
      "dtypes: float64(4), int64(1)\n",
      "memory usage: 125.7 KB\n"
     ]
    }
   ],
   "source": [
    "df.info()"
   ]
  },
  {
   "cell_type": "markdown",
   "metadata": {},
   "source": [
    "Пропуски в данных отсутствуют, следуем дальше."
   ]
  },
  {
   "cell_type": "code",
   "execution_count": 11,
   "metadata": {},
   "outputs": [
    {
     "data": {
      "text/plain": [
       "calls       985\n",
       "minutes     985\n",
       "messages    985\n",
       "mb_used     985\n",
       "is_ultra    985\n",
       "dtype: int64"
      ]
     },
     "execution_count": 11,
     "metadata": {},
     "output_type": "execute_result"
    }
   ],
   "source": [
    "df[df['is_ultra'] == 1].count()"
   ]
  },
  {
   "cell_type": "code",
   "execution_count": 12,
   "metadata": {},
   "outputs": [
    {
     "data": {
      "text/plain": [
       "calls       2229\n",
       "minutes     2229\n",
       "messages    2229\n",
       "mb_used     2229\n",
       "is_ultra    2229\n",
       "dtype: int64"
      ]
     },
     "execution_count": 12,
     "metadata": {},
     "output_type": "execute_result"
    }
   ],
   "source": [
    "df[df['is_ultra'] == 0].count()"
   ]
  },
  {
   "cell_type": "markdown",
   "metadata": {},
   "source": [
    "Наблюдаем значительную разницу в объеме выборок.\\\n",
    "Пользователей тарифа **ultra** в 2 с небольшим раза меньше, чем пользователей тарифа **smart**."
   ]
  },
  {
   "cell_type": "code",
   "execution_count": 13,
   "metadata": {},
   "outputs": [
    {
     "data": {
      "text/html": [
       "<style type=\"text/css\">\n",
       "#T_147bc_row0_col0, #T_147bc_row1_col1, #T_147bc_row2_col2, #T_147bc_row3_col3, #T_147bc_row4_col4 {\n",
       "  background-color: #b40426;\n",
       "  color: #f1f1f1;\n",
       "}\n",
       "#T_147bc_row0_col1, #T_147bc_row1_col0 {\n",
       "  background-color: #bb1b2c;\n",
       "  color: #f1f1f1;\n",
       "}\n",
       "#T_147bc_row0_col2, #T_147bc_row2_col4 {\n",
       "  background-color: #3c4ec2;\n",
       "  color: #f1f1f1;\n",
       "}\n",
       "#T_147bc_row0_col3 {\n",
       "  background-color: #5d7ce6;\n",
       "  color: #f1f1f1;\n",
       "}\n",
       "#T_147bc_row0_col4, #T_147bc_row1_col4 {\n",
       "  background-color: #3d50c3;\n",
       "  color: #f1f1f1;\n",
       "}\n",
       "#T_147bc_row1_col2, #T_147bc_row2_col0, #T_147bc_row2_col1, #T_147bc_row2_col3, #T_147bc_row3_col4, #T_147bc_row4_col3 {\n",
       "  background-color: #3b4cc0;\n",
       "  color: #f1f1f1;\n",
       "}\n",
       "#T_147bc_row1_col3 {\n",
       "  background-color: #5b7ae5;\n",
       "  color: #f1f1f1;\n",
       "}\n",
       "#T_147bc_row3_col0, #T_147bc_row3_col1 {\n",
       "  background-color: #6384eb;\n",
       "  color: #f1f1f1;\n",
       "}\n",
       "#T_147bc_row3_col2 {\n",
       "  background-color: #4358cb;\n",
       "  color: #f1f1f1;\n",
       "}\n",
       "#T_147bc_row4_col0, #T_147bc_row4_col2 {\n",
       "  background-color: #455cce;\n",
       "  color: #f1f1f1;\n",
       "}\n",
       "#T_147bc_row4_col1 {\n",
       "  background-color: #465ecf;\n",
       "  color: #f1f1f1;\n",
       "}\n",
       "</style>\n",
       "<table id=\"T_147bc\">\n",
       "  <thead>\n",
       "    <tr>\n",
       "      <th class=\"blank level0\" >&nbsp;</th>\n",
       "      <th id=\"T_147bc_level0_col0\" class=\"col_heading level0 col0\" >calls</th>\n",
       "      <th id=\"T_147bc_level0_col1\" class=\"col_heading level0 col1\" >minutes</th>\n",
       "      <th id=\"T_147bc_level0_col2\" class=\"col_heading level0 col2\" >messages</th>\n",
       "      <th id=\"T_147bc_level0_col3\" class=\"col_heading level0 col3\" >mb_used</th>\n",
       "      <th id=\"T_147bc_level0_col4\" class=\"col_heading level0 col4\" >is_ultra</th>\n",
       "    </tr>\n",
       "  </thead>\n",
       "  <tbody>\n",
       "    <tr>\n",
       "      <th id=\"T_147bc_level0_row0\" class=\"row_heading level0 row0\" >calls</th>\n",
       "      <td id=\"T_147bc_row0_col0\" class=\"data row0 col0\" >1.000000</td>\n",
       "      <td id=\"T_147bc_row0_col1\" class=\"data row0 col1\" >0.982083</td>\n",
       "      <td id=\"T_147bc_row0_col2\" class=\"data row0 col2\" >0.177385</td>\n",
       "      <td id=\"T_147bc_row0_col3\" class=\"data row0 col3\" >0.286442</td>\n",
       "      <td id=\"T_147bc_row0_col4\" class=\"data row0 col4\" >0.207122</td>\n",
       "    </tr>\n",
       "    <tr>\n",
       "      <th id=\"T_147bc_level0_row1\" class=\"row_heading level0 row1\" >minutes</th>\n",
       "      <td id=\"T_147bc_row1_col0\" class=\"data row1 col0\" >0.982083</td>\n",
       "      <td id=\"T_147bc_row1_col1\" class=\"data row1 col1\" >1.000000</td>\n",
       "      <td id=\"T_147bc_row1_col2\" class=\"data row1 col2\" >0.173110</td>\n",
       "      <td id=\"T_147bc_row1_col3\" class=\"data row1 col3\" >0.280967</td>\n",
       "      <td id=\"T_147bc_row1_col4\" class=\"data row1 col4\" >0.206955</td>\n",
       "    </tr>\n",
       "    <tr>\n",
       "      <th id=\"T_147bc_level0_row2\" class=\"row_heading level0 row2\" >messages</th>\n",
       "      <td id=\"T_147bc_row2_col0\" class=\"data row2 col0\" >0.177385</td>\n",
       "      <td id=\"T_147bc_row2_col1\" class=\"data row2 col1\" >0.173110</td>\n",
       "      <td id=\"T_147bc_row2_col2\" class=\"data row2 col2\" >1.000000</td>\n",
       "      <td id=\"T_147bc_row2_col3\" class=\"data row2 col3\" >0.195721</td>\n",
       "      <td id=\"T_147bc_row2_col4\" class=\"data row2 col4\" >0.203830</td>\n",
       "    </tr>\n",
       "    <tr>\n",
       "      <th id=\"T_147bc_level0_row3\" class=\"row_heading level0 row3\" >mb_used</th>\n",
       "      <td id=\"T_147bc_row3_col0\" class=\"data row3 col0\" >0.286442</td>\n",
       "      <td id=\"T_147bc_row3_col1\" class=\"data row3 col1\" >0.280967</td>\n",
       "      <td id=\"T_147bc_row3_col2\" class=\"data row3 col2\" >0.195721</td>\n",
       "      <td id=\"T_147bc_row3_col3\" class=\"data row3 col3\" >1.000000</td>\n",
       "      <td id=\"T_147bc_row3_col4\" class=\"data row3 col4\" >0.198568</td>\n",
       "    </tr>\n",
       "    <tr>\n",
       "      <th id=\"T_147bc_level0_row4\" class=\"row_heading level0 row4\" >is_ultra</th>\n",
       "      <td id=\"T_147bc_row4_col0\" class=\"data row4 col0\" >0.207122</td>\n",
       "      <td id=\"T_147bc_row4_col1\" class=\"data row4 col1\" >0.206955</td>\n",
       "      <td id=\"T_147bc_row4_col2\" class=\"data row4 col2\" >0.203830</td>\n",
       "      <td id=\"T_147bc_row4_col3\" class=\"data row4 col3\" >0.198568</td>\n",
       "      <td id=\"T_147bc_row4_col4\" class=\"data row4 col4\" >1.000000</td>\n",
       "    </tr>\n",
       "  </tbody>\n",
       "</table>\n"
      ],
      "text/plain": [
       "<pandas.io.formats.style.Styler at 0x2413b968430>"
      ]
     },
     "execution_count": 13,
     "metadata": {},
     "output_type": "execute_result"
    }
   ],
   "source": [
    "df.corr().style.background_gradient(cmap='coolwarm')"
   ]
  },
  {
   "cell_type": "markdown",
   "metadata": {},
   "source": [
    "## Разбейте данные на выборки"
   ]
  },
  {
   "cell_type": "markdown",
   "metadata": {},
   "source": [
    "### Разобьем нашу выборку на обучающую, тестовую и валидационную в пропорциях 6:2:2."
   ]
  },
  {
   "cell_type": "code",
   "execution_count": 14,
   "metadata": {},
   "outputs": [],
   "source": [
    "df_train, df_test =train_test_split(df,stratify=df['is_ultra'], test_size=0.4, random_state=12345)\n",
    "df_test, df_val=train_test_split(df_test,stratify=df_test['is_ultra'], test_size=0.5, random_state=12345)"
   ]
  },
  {
   "cell_type": "markdown",
   "metadata": {},
   "source": [
    "### Создадим переменные для признаков и целевого признака."
   ]
  },
  {
   "cell_type": "code",
   "execution_count": 15,
   "metadata": {},
   "outputs": [],
   "source": [
    "features_train = df_train.drop('is_ultra', axis=1)\n",
    "target_train = df_train['is_ultra']\n",
    "features_test = df_test.drop('is_ultra', axis=1)\n",
    "target_test = df_test['is_ultra']\n",
    "features_val = df_val.drop('is_ultra', axis=1)\n",
    "target_val = df_val['is_ultra']"
   ]
  },
  {
   "cell_type": "code",
   "execution_count": 16,
   "metadata": {},
   "outputs": [
    {
     "name": "stdout",
     "output_type": "stream",
     "text": [
      "(1928, 5) (643, 5) (643, 5)\n"
     ]
    }
   ],
   "source": [
    "print(df_train.shape, df_test.shape, df_val.shape)"
   ]
  },
  {
   "cell_type": "markdown",
   "metadata": {},
   "source": [
    "## Исследуйте модели"
   ]
  },
  {
   "cell_type": "markdown",
   "metadata": {},
   "source": [
    "### Начнем с решающего дерева"
   ]
  },
  {
   "cell_type": "markdown",
   "metadata": {},
   "source": [
    "Пройдем циклом по модели \"Решающее дерево\" автоматически меняя гиперпараметры."
   ]
  },
  {
   "cell_type": "code",
   "execution_count": 17,
   "metadata": {},
   "outputs": [
    {
     "name": "stdout",
     "output_type": "stream",
     "text": [
      "Наиболее точные пар-ры: DecisionTreeClassifier(max_depth=5, min_samples_leaf=2, random_state=12345)\n",
      "Наивысшая точность решающего дерева: 0.8102643856920684\n",
      "\n",
      "CPU times: total: 1.39 s\n",
      "Wall time: 3.83 s\n"
     ]
    }
   ],
   "source": [
    "%%time\n",
    "\n",
    "best_model = None\n",
    "best_dt_accuracy = 0\n",
    "\n",
    "for depth in range(1,6):\n",
    "    for split in range(2,12):\n",
    "        for leaf in range(2,12):\n",
    "            dt = DecisionTreeClassifier(random_state=12345, \n",
    "                                        max_depth= depth, \n",
    "                                        min_samples_split= split, \n",
    "                                        min_samples_leaf=leaf)\n",
    "            dt.fit(features_train, target_train)\n",
    "            dt.predict = dt.predict(features_val)\n",
    "            dt_accuracy = accuracy_score(target_val, dt.predict)\n",
    "            if dt_accuracy > best_dt_accuracy:\n",
    "                best_model = dt\n",
    "                best_dt_accuracy = dt_accuracy\n",
    "                \n",
    "print(f'Наиболее точные пар-ры: {best_model}')\n",
    "print(f'Наивысшая точность решающего дерева: {best_dt_accuracy}')\n",
    "print()"
   ]
  },
  {
   "cell_type": "markdown",
   "metadata": {},
   "source": [
    "### Случайный лес"
   ]
  },
  {
   "cell_type": "markdown",
   "metadata": {},
   "source": [
    "Также пройдем циклом по модели \"Случайный лес\" автоматически меняя гиперпараметры."
   ]
  },
  {
   "cell_type": "code",
   "execution_count": 18,
   "metadata": {},
   "outputs": [
    {
     "data": {
      "application/vnd.jupyter.widget-view+json": {
       "model_id": "6ad9db728e3946c69add3e34c3444dbb",
       "version_major": 2,
       "version_minor": 0
      },
      "text/plain": [
       "  0%|          | 0/47 [00:00<?, ?it/s]"
      ]
     },
     "metadata": {},
     "output_type": "display_data"
    }
   ],
   "source": [
    "best_rf_model = None\n",
    "best_rf_accuracy = 0\n",
    "\n",
    "for estim in tqdm(range(3,50)):\n",
    "    for depth in range(1,6):\n",
    "        for split in range(2,12):\n",
    "            for leaf in range(2,12):\n",
    "                rf = RandomForestClassifier(random_state = 12345,\n",
    "                                            n_estimators = estim,\n",
    "                                            max_depth = depth,\n",
    "                                            min_samples_split= split,\n",
    "                                            min_samples_leaf=leaf)\n",
    "                rf.fit(features_train, target_train)\n",
    "                rf.predict = rf.predict(features_val)\n",
    "                rf_accuracy = accuracy_score(target_val, rf.predict)\n",
    "                if rf_accuracy > best_rf_accuracy:\n",
    "                    best_rf_model = rf\n",
    "                    best_rf_accuracy = rf_accuracy\n",
    "                \n",
    "print(f'Наиболее точные пар-ры: {best_rf_model}')\n",
    "print(f'Наивысшая точность Случайного леса: {best_rf_accuracy}')"
   ]
  },
  {
   "cell_type": "markdown",
   "metadata": {},
   "source": [
    "### Логистическая регрессия"
   ]
  },
  {
   "cell_type": "markdown",
   "metadata": {},
   "source": [
    "Построим модель Логистической регрессии по аналогии с предыдущими моделями."
   ]
  },
  {
   "cell_type": "code",
   "execution_count": null,
   "metadata": {},
   "outputs": [
    {
     "data": {
      "application/vnd.jupyter.widget-view+json": {
       "model_id": "e12a29bfadbc4dc7a795bfd6464db565",
       "version_major": 2,
       "version_minor": 0
      },
      "text/plain": [
       "  0%|          | 0/1 [00:00<?, ?it/s]"
      ]
     },
     "metadata": {},
     "output_type": "display_data"
    },
    {
     "data": {
      "application/vnd.jupyter.widget-view+json": {
       "model_id": "2003a2b94c7f492aaecafd682e5d7bef",
       "version_major": 2,
       "version_minor": 0
      },
      "text/plain": [
       "  0%|          | 0/5 [00:00<?, ?it/s]"
      ]
     },
     "metadata": {},
     "output_type": "display_data"
    },
    {
     "name": "stdout",
     "output_type": "stream",
     "text": [
      "Наиболее точные пар-ры: LogisticRegression(random_state=12345)\n",
      "Наивысшая точность Случайного леса: 0.7465007776049767\n",
      "\n",
      "CPU times: user 228 ms, sys: 7.96 ms, total: 236 ms\n",
      "Wall time: 271 ms\n"
     ]
    }
   ],
   "source": [
    "%%time\n",
    "\n",
    "best_lr_model = None\n",
    "best_lr_accuracy = 0\n",
    "\n",
    "for penalty in tqdm(['l2']):\n",
    "    for solver in tqdm(['lbfgs', 'liblinear', 'newton-cg', 'sag', 'saga']):\n",
    "        lr = LogisticRegression(random_state = 12345,\n",
    "                                penalty = penalty,\n",
    "                                solver = solver)\n",
    "        lr.fit(features_train, target_train)\n",
    "        lr.predict = lr.predict(features_val)\n",
    "        lr_accuracy = accuracy_score(target_val, lr.predict)\n",
    "                \n",
    "        if lr_accuracy > best_lr_accuracy:\n",
    "                best_lr_model = lr\n",
    "                best_lr_accuracy = lr_accuracy\n",
    "                \n",
    "print(f'Наиболее точные пар-ры: {best_lr_model}')\n",
    "print(f'Наивысшая точность Случайного леса: {best_lr_accuracy}')\n",
    "print()"
   ]
  },
  {
   "cell_type": "markdown",
   "metadata": {},
   "source": [
    "<div class=\"alert alert-info\">\n",
    " Bonus <s>track</s> models.\n",
    "Из любопытства попробовал еще 2 модели."
   ]
  },
  {
   "cell_type": "markdown",
   "metadata": {},
   "source": [
    "<div class=\"alert alert-success\">\n",
    "<font size=\"5\"><b>Комментарий ревьюера</b></font>\n",
    "\n",
    "\n",
    "\n",
    "Успех 👍:\n",
    "\n",
    "\n",
    "\n",
    "Ну и отлично.  Только метод лежащих соседей - это метрическая модель, для неё нужно масштабировать данные, а чтобы не было утечки данных надо использовать pipeline.  В общем тут целая история\n",
    "\n",
    "\n",
    "\n",
    "\n",
    "</div>\n"
   ]
  },
  {
   "cell_type": "markdown",
   "metadata": {},
   "source": [
    "### K-Neighbors."
   ]
  },
  {
   "cell_type": "code",
   "execution_count": null,
   "metadata": {},
   "outputs": [
    {
     "data": {
      "application/vnd.jupyter.widget-view+json": {
       "model_id": "1cf18ecde86e4f38b8026d0a4bbc3948",
       "version_major": 2,
       "version_minor": 0
      },
      "text/plain": [
       "  0%|          | 0/49 [00:00<?, ?it/s]"
      ]
     },
     "metadata": {},
     "output_type": "display_data"
    },
    {
     "name": "stdout",
     "output_type": "stream",
     "text": [
      "Наиболее точные пар-ры: KNeighborsClassifier(leaf_size=2, n_neighbors=12)\n",
      "Наивысшая точность Ближайших соседей: 0.7729393468118196\n",
      "\n",
      "CPU times: user 2min 31s, sys: 401 ms, total: 2min 31s\n",
      "Wall time: 2min 33s\n"
     ]
    }
   ],
   "source": [
    "%%time\n",
    "\n",
    "best_kn_model = None\n",
    "best_kn_accuracy = 0\n",
    "\n",
    "for neighbors in tqdm(range(1, 50)):\n",
    "    for weights in['uniform', 'distance']:\n",
    "        for leaf in range(2, 100):\n",
    "            kn = KNeighborsClassifier(n_neighbors = neighbors,\n",
    "                                     weights = weights,\n",
    "                                     leaf_size = leaf)\n",
    "            kn.fit(features_train, target_train)\n",
    "            kn.predict = kn.predict(features_val)\n",
    "            kn_accuracy = accuracy_score(target_val, kn.predict)\n",
    "            \n",
    "            if kn_accuracy > best_kn_accuracy:\n",
    "                best_kn_model = kn\n",
    "                best_kn_accuracy = kn_accuracy\n",
    "                \n",
    "print(f'Наиболее точные пар-ры: {best_kn_model}')\n",
    "print(f'Наивысшая точность Ближайших соседей: {best_kn_accuracy}')\n",
    "print()"
   ]
  },
  {
   "cell_type": "markdown",
   "metadata": {},
   "source": [
    "### SVC (Метод опорных векторов)."
   ]
  },
  {
   "cell_type": "code",
   "execution_count": null,
   "metadata": {},
   "outputs": [
    {
     "data": {
      "application/vnd.jupyter.widget-view+json": {
       "model_id": "fbecc0e22f3e4179a5a74c63fafa11bb",
       "version_major": 2,
       "version_minor": 0
      },
      "text/plain": [
       "  0%|          | 0/19 [00:00<?, ?it/s]"
      ]
     },
     "metadata": {},
     "output_type": "display_data"
    },
    {
     "name": "stdout",
     "output_type": "stream",
     "text": [
      "Наиболее точные пар-ры: SVC(C=12, random_state=12345)\n",
      "Наивысшая точность Метода опорных векторов: 0.7527216174183515\n",
      "\n"
     ]
    }
   ],
   "source": [
    "best_svc_model = None\n",
    "best_svc_accuracy = 0\n",
    "\n",
    "for C in tqdm(range(1,20)):\n",
    "    for kernel in ['linear', 'poly', 'rbf', 'sigmoid']:\n",
    "        svc = SVC(random_state = 12345,\n",
    "                      C = C,\n",
    "                      kernel = kernel)\n",
    "        svc.fit(features_train, target_train)\n",
    "        svc.predict = svc.predict(features_val)\n",
    "        svc_accuracy = accuracy_score(target_val, svc.predict)\n",
    "        \n",
    "        if svc_accuracy > best_svc_accuracy:\n",
    "                best_svc_model = svc\n",
    "                best_svc_accuracy = svc_accuracy\n",
    "                \n",
    "print(f'Наиболее точные пар-ры: {best_svc_model}')\n",
    "print(f'Наивысшая точность Метода опорных векторов: {best_svc_accuracy}')\n",
    "print()"
   ]
  },
  {
   "cell_type": "markdown",
   "metadata": {},
   "source": [
    "## Проверьте модель на тестовой выборке"
   ]
  },
  {
   "cell_type": "markdown",
   "metadata": {},
   "source": [
    "Наилучшей моделью оказалась модель Случайного леса.\n",
    "Точность прогноза на валидационной выборке составила: 82 %\n",
    "При использовании гиперпараметров: max_depth=5, min_samples_leaf=2, min_samples_split=7,n_estimators=28, random_state=12345"
   ]
  },
  {
   "cell_type": "markdown",
   "metadata": {},
   "source": [
    "Продолжим исследование этой модели, но уже на тестовой выборке."
   ]
  },
  {
   "cell_type": "code",
   "execution_count": null,
   "metadata": {},
   "outputs": [
    {
     "name": "stdout",
     "output_type": "stream",
     "text": [
      "Наивысшая точность Случайного леса: 0.8118195956454122\n"
     ]
    }
   ],
   "source": [
    "best_rf_model = RandomForestClassifier(random_state=12345,\n",
    "                                 n_estimators=28,\n",
    "                                 min_samples_split=7,\n",
    "                                 min_samples_leaf=2,\n",
    "                                 max_depth=5)\n",
    "best_rf_model.fit(pd.concat([features_train, features_val]), pd.concat([target_train, target_val]))\n",
    "best_rf_model.predict = best_rf_model.predict(features_test)\n",
    "best_rf_model_accuracy = accuracy_score(target_test, best_rf_model.predict)\n",
    "\n",
    "print(f'Наивысшая точность Случайного леса: {best_rf_model_accuracy}')"
   ]
  },
  {
   "cell_type": "markdown",
   "metadata": {},
   "source": [
    "## (бонус) Проверьте модели на адекватность"
   ]
  },
  {
   "cell_type": "markdown",
   "metadata": {},
   "source": [
    "Для проверки на адекватность решено использовать DummyClassifier.\\\n",
    "Если настроенная модель Случайного леса покажет точность выше DummyClassifier, то наша модель будет считаться адекватной (вменяемой)."
   ]
  },
  {
   "cell_type": "code",
   "execution_count": null,
   "metadata": {},
   "outputs": [
    {
     "data": {
      "text/plain": [
       "0.6936236391912908"
      ]
     },
     "execution_count": 18,
     "metadata": {},
     "output_type": "execute_result"
    }
   ],
   "source": [
    "dummy_clf = DummyClassifier(strategy=\"most_frequent\")\n",
    "dummy_clf.fit(features_test, target_test)\n",
    "dummy_clf.predict = dummy_clf.predict(features_test)\n",
    "dummy_clf_accuracy = accuracy_score(target_test, dummy_clf.predict)\n",
    "dummy_clf_accuracy"
   ]
  },
  {
   "cell_type": "markdown",
   "metadata": {},
   "source": [
    "## Вывод"
   ]
  },
  {
   "cell_type": "markdown",
   "metadata": {},
   "source": [
    "Так-как дата-сет был заранее подготовлен, нам не понадобилась предобработка данных.\\\n",
    "Было изучено 5 моделей: Решающее дерево (Decision tree), Случайный лес (Random Forest), Логистическая регрессия (Logistic Regression), К-ближайших соседей (K-Neighbors), Метод опорных векторов (SVC, Support Vector Classification).\\\n",
    "Для каждой модели были предложены лучшие гиперпараметры.\\\n",
    "Лучшей оказалась модель Случайного Леса (Random Forest) с точностью 82% на валидационной и 83% на тестовой выборках.\\\n",
    "Модель случайного леса умпешно прошла проверку на адекватность Dummy Classifier из библиотеки SK Learn со стратегией most_frequent.\\\n",
    "На этом исследование можно считать успешно завершенным."
   ]
  },
  {
   "cell_type": "markdown",
   "metadata": {},
   "source": [
    "## Чек-лист готовности проекта"
   ]
  },
  {
   "cell_type": "markdown",
   "metadata": {},
   "source": [
    "Поставьте 'x' в выполненных пунктах. Далее нажмите Shift+Enter."
   ]
  },
  {
   "cell_type": "markdown",
   "metadata": {},
   "source": [
    "- [x] Jupyter Notebook открыт\n",
    "- [x] Весь код исполняется без ошибок\n",
    "- [x] Ячейки с кодом расположены в порядке исполнения\n",
    "- [x] Выполнено задание 1: данные загружены и изучены\n",
    "- [x] Выполнено задание 2: данные разбиты на три выборки\n",
    "- [x] Выполнено задание 3: проведено исследование моделей\n",
    "    - [x] Рассмотрено больше одной модели\n",
    "    - [x] Рассмотрено хотя бы 3 значения гипепараметров для какой-нибудь модели\n",
    "    - [x] Написаны выводы по результатам исследования\n",
    "- [x] Выполнено задание 3: Проведено тестирование\n",
    "- [x] Удалось достичь accuracy не меньше 0.75\n"
   ]
  }
 ],
 "metadata": {
  "ExecuteTimeLog": [
   {
    "duration": 395,
    "start_time": "2023-03-05T08:25:12.819Z"
   },
   {
    "duration": 109,
    "start_time": "2023-03-05T08:25:13.977Z"
   },
   {
    "duration": 17,
    "start_time": "2023-03-05T08:39:13.677Z"
   },
   {
    "duration": 60,
    "start_time": "2023-03-05T08:42:27.755Z"
   },
   {
    "duration": 712,
    "start_time": "2023-03-05T08:42:36.497Z"
   },
   {
    "duration": 1040,
    "start_time": "2023-03-05T08:42:43.129Z"
   },
   {
    "duration": 29,
    "start_time": "2023-03-05T08:42:44.171Z"
   },
   {
    "duration": 26,
    "start_time": "2023-03-05T08:42:44.202Z"
   },
   {
    "duration": 12,
    "start_time": "2023-03-05T08:42:44.229Z"
   },
   {
    "duration": 5,
    "start_time": "2023-03-05T08:43:23.629Z"
   },
   {
    "duration": 6,
    "start_time": "2023-03-05T10:02:23.534Z"
   },
   {
    "duration": 5,
    "start_time": "2023-03-05T10:05:00.277Z"
   },
   {
    "duration": 1082,
    "start_time": "2023-03-05T10:05:07.910Z"
   },
   {
    "duration": 28,
    "start_time": "2023-03-05T10:05:08.994Z"
   },
   {
    "duration": 22,
    "start_time": "2023-03-05T10:05:09.024Z"
   },
   {
    "duration": 129,
    "start_time": "2023-03-05T10:05:09.048Z"
   },
   {
    "duration": 8,
    "start_time": "2023-03-05T10:05:54.448Z"
   },
   {
    "duration": 8,
    "start_time": "2023-03-05T10:09:08.907Z"
   },
   {
    "duration": 5,
    "start_time": "2023-03-05T10:11:26.913Z"
   },
   {
    "duration": 4,
    "start_time": "2023-03-05T10:11:42.936Z"
   },
   {
    "duration": 6,
    "start_time": "2023-03-05T10:26:23.383Z"
   },
   {
    "duration": 1071,
    "start_time": "2023-03-05T10:26:39.705Z"
   },
   {
    "duration": 30,
    "start_time": "2023-03-05T10:26:40.778Z"
   },
   {
    "duration": 22,
    "start_time": "2023-03-05T10:26:40.809Z"
   },
   {
    "duration": 28,
    "start_time": "2023-03-05T10:26:40.832Z"
   },
   {
    "duration": 1081,
    "start_time": "2023-03-05T20:53:46.967Z"
   },
   {
    "duration": 68,
    "start_time": "2023-03-05T20:53:48.050Z"
   },
   {
    "duration": 17,
    "start_time": "2023-03-05T20:53:48.119Z"
   },
   {
    "duration": 21,
    "start_time": "2023-03-05T20:53:48.137Z"
   },
   {
    "duration": 4,
    "start_time": "2023-03-05T20:53:48.160Z"
   },
   {
    "duration": 10,
    "start_time": "2023-03-05T21:02:00.986Z"
   },
   {
    "duration": 10,
    "start_time": "2023-03-05T21:06:49.232Z"
   },
   {
    "duration": 9,
    "start_time": "2023-03-05T21:06:54.815Z"
   },
   {
    "duration": 8,
    "start_time": "2023-03-05T21:13:20.514Z"
   },
   {
    "duration": 8,
    "start_time": "2023-03-05T21:13:24.032Z"
   },
   {
    "duration": 12,
    "start_time": "2023-03-05T21:13:29.467Z"
   },
   {
    "duration": 13,
    "start_time": "2023-03-05T21:13:34.436Z"
   },
   {
    "duration": 735,
    "start_time": "2023-03-05T21:14:27.642Z"
   },
   {
    "duration": 7,
    "start_time": "2023-03-05T21:14:37.855Z"
   },
   {
    "duration": 8,
    "start_time": "2023-03-05T21:15:01.433Z"
   },
   {
    "duration": 8,
    "start_time": "2023-03-05T21:15:07.172Z"
   },
   {
    "duration": 8,
    "start_time": "2023-03-05T21:15:15.758Z"
   },
   {
    "duration": 1127,
    "start_time": "2023-03-05T21:23:37.998Z"
   },
   {
    "duration": 33,
    "start_time": "2023-03-05T21:23:39.127Z"
   },
   {
    "duration": 23,
    "start_time": "2023-03-05T21:23:39.163Z"
   },
   {
    "duration": 49,
    "start_time": "2023-03-05T21:23:39.188Z"
   },
   {
    "duration": 14,
    "start_time": "2023-03-05T21:23:39.240Z"
   },
   {
    "duration": 10,
    "start_time": "2023-03-05T21:23:39.257Z"
   },
   {
    "duration": 11,
    "start_time": "2023-03-05T21:23:39.269Z"
   },
   {
    "duration": 8,
    "start_time": "2023-03-05T21:23:39.282Z"
   },
   {
    "duration": 1344,
    "start_time": "2023-03-06T15:45:39.666Z"
   },
   {
    "duration": 188,
    "start_time": "2023-03-06T15:45:41.013Z"
   },
   {
    "duration": 17,
    "start_time": "2023-03-06T15:45:41.202Z"
   },
   {
    "duration": 37,
    "start_time": "2023-03-06T15:45:41.221Z"
   },
   {
    "duration": 37,
    "start_time": "2023-03-06T15:45:41.260Z"
   },
   {
    "duration": 16,
    "start_time": "2023-03-06T15:45:41.299Z"
   },
   {
    "duration": 8,
    "start_time": "2023-03-06T15:45:41.316Z"
   },
   {
    "duration": 6,
    "start_time": "2023-03-06T15:45:41.325Z"
   },
   {
    "duration": 11,
    "start_time": "2023-03-06T15:51:29.987Z"
   },
   {
    "duration": 1334,
    "start_time": "2023-03-06T15:51:47.863Z"
   },
   {
    "duration": 31,
    "start_time": "2023-03-06T15:51:49.199Z"
   },
   {
    "duration": 31,
    "start_time": "2023-03-06T15:51:49.232Z"
   },
   {
    "duration": 53,
    "start_time": "2023-03-06T15:51:49.267Z"
   },
   {
    "duration": 24,
    "start_time": "2023-03-06T15:51:49.323Z"
   },
   {
    "duration": 48,
    "start_time": "2023-03-06T15:51:49.357Z"
   },
   {
    "duration": 13,
    "start_time": "2023-03-06T15:51:49.407Z"
   },
   {
    "duration": 138,
    "start_time": "2023-03-06T15:51:49.422Z"
   },
   {
    "duration": 1232,
    "start_time": "2023-03-06T15:52:15.611Z"
   },
   {
    "duration": 58,
    "start_time": "2023-03-06T15:52:16.845Z"
   },
   {
    "duration": 21,
    "start_time": "2023-03-06T15:52:16.905Z"
   },
   {
    "duration": 49,
    "start_time": "2023-03-06T15:52:16.927Z"
   },
   {
    "duration": 50,
    "start_time": "2023-03-06T15:52:16.982Z"
   },
   {
    "duration": 65,
    "start_time": "2023-03-06T15:52:17.035Z"
   },
   {
    "duration": 15,
    "start_time": "2023-03-06T15:52:17.103Z"
   },
   {
    "duration": 156,
    "start_time": "2023-03-06T15:52:17.121Z"
   },
   {
    "duration": 12,
    "start_time": "2023-03-06T15:56:18.866Z"
   },
   {
    "duration": 14,
    "start_time": "2023-03-06T15:56:31.997Z"
   },
   {
    "duration": 13,
    "start_time": "2023-03-06T15:57:05.000Z"
   },
   {
    "duration": 12,
    "start_time": "2023-03-06T16:03:02.107Z"
   },
   {
    "duration": 9,
    "start_time": "2023-03-06T16:03:13.220Z"
   },
   {
    "duration": 17,
    "start_time": "2023-03-06T16:03:22.196Z"
   },
   {
    "duration": 13,
    "start_time": "2023-03-06T16:03:44.797Z"
   },
   {
    "duration": 25,
    "start_time": "2023-03-06T16:04:59.664Z"
   },
   {
    "duration": 20,
    "start_time": "2023-03-06T16:43:18.673Z"
   },
   {
    "duration": 1252,
    "start_time": "2023-03-06T16:43:39.796Z"
   },
   {
    "duration": 43,
    "start_time": "2023-03-06T16:43:41.058Z"
   },
   {
    "duration": 20,
    "start_time": "2023-03-06T16:43:41.103Z"
   },
   {
    "duration": 41,
    "start_time": "2023-03-06T16:43:41.124Z"
   },
   {
    "duration": 39,
    "start_time": "2023-03-06T16:43:41.170Z"
   },
   {
    "duration": 21,
    "start_time": "2023-03-06T16:43:41.211Z"
   },
   {
    "duration": 46,
    "start_time": "2023-03-06T16:43:41.243Z"
   },
   {
    "duration": 157,
    "start_time": "2023-03-06T16:43:41.291Z"
   },
   {
    "duration": 60,
    "start_time": "2023-03-07T17:34:41.254Z"
   },
   {
    "duration": 1250,
    "start_time": "2023-03-07T17:34:52.993Z"
   },
   {
    "duration": 120,
    "start_time": "2023-03-07T17:34:54.246Z"
   },
   {
    "duration": 27,
    "start_time": "2023-03-07T17:34:54.368Z"
   },
   {
    "duration": 30,
    "start_time": "2023-03-07T17:34:54.397Z"
   },
   {
    "duration": 11,
    "start_time": "2023-03-07T17:34:54.429Z"
   },
   {
    "duration": 11,
    "start_time": "2023-03-07T17:34:54.442Z"
   },
   {
    "duration": 27,
    "start_time": "2023-03-07T17:34:54.455Z"
   },
   {
    "duration": 8,
    "start_time": "2023-03-07T17:34:54.489Z"
   },
   {
    "duration": 8,
    "start_time": "2023-03-07T17:35:15.788Z"
   },
   {
    "duration": 52,
    "start_time": "2023-03-09T16:48:19.069Z"
   },
   {
    "duration": 1287,
    "start_time": "2023-03-09T16:48:28.106Z"
   },
   {
    "duration": 130,
    "start_time": "2023-03-09T16:48:29.395Z"
   },
   {
    "duration": 31,
    "start_time": "2023-03-09T16:48:29.527Z"
   },
   {
    "duration": 57,
    "start_time": "2023-03-09T16:48:29.560Z"
   },
   {
    "duration": 23,
    "start_time": "2023-03-09T16:48:29.619Z"
   },
   {
    "duration": 55,
    "start_time": "2023-03-09T16:48:29.645Z"
   },
   {
    "duration": 20,
    "start_time": "2023-03-09T16:48:29.702Z"
   },
   {
    "duration": 1677,
    "start_time": "2023-03-09T16:48:29.724Z"
   },
   {
    "duration": 0,
    "start_time": "2023-03-09T16:48:31.403Z"
   },
   {
    "duration": 4,
    "start_time": "2023-03-09T16:49:03.268Z"
   },
   {
    "duration": 1205,
    "start_time": "2023-03-09T16:50:37.607Z"
   },
   {
    "duration": 49,
    "start_time": "2023-03-09T16:50:38.815Z"
   },
   {
    "duration": 21,
    "start_time": "2023-03-09T16:50:38.866Z"
   },
   {
    "duration": 33,
    "start_time": "2023-03-09T16:50:38.890Z"
   },
   {
    "duration": 21,
    "start_time": "2023-03-09T16:50:38.925Z"
   },
   {
    "duration": 47,
    "start_time": "2023-03-09T16:50:38.951Z"
   },
   {
    "duration": 9,
    "start_time": "2023-03-09T16:50:39.000Z"
   },
   {
    "duration": 8,
    "start_time": "2023-03-09T16:50:39.011Z"
   },
   {
    "duration": 56,
    "start_time": "2023-03-09T16:50:39.020Z"
   },
   {
    "duration": 8,
    "start_time": "2023-03-09T16:58:41.008Z"
   },
   {
    "duration": 31,
    "start_time": "2023-03-09T17:02:55.113Z"
   },
   {
    "duration": 1100,
    "start_time": "2023-03-09T20:54:07.361Z"
   },
   {
    "duration": 64,
    "start_time": "2023-03-09T20:54:08.463Z"
   },
   {
    "duration": 19,
    "start_time": "2023-03-09T20:54:08.528Z"
   },
   {
    "duration": 24,
    "start_time": "2023-03-09T20:54:08.549Z"
   },
   {
    "duration": 12,
    "start_time": "2023-03-09T20:54:08.576Z"
   },
   {
    "duration": 36,
    "start_time": "2023-03-09T20:54:08.589Z"
   },
   {
    "duration": 7,
    "start_time": "2023-03-09T20:54:08.627Z"
   },
   {
    "duration": 4,
    "start_time": "2023-03-09T20:54:08.636Z"
   },
   {
    "duration": 14,
    "start_time": "2023-03-09T20:54:08.642Z"
   },
   {
    "duration": 25,
    "start_time": "2023-03-09T20:54:08.658Z"
   },
   {
    "duration": 115,
    "start_time": "2023-03-09T21:48:43.126Z"
   },
   {
    "duration": 1087,
    "start_time": "2023-03-09T21:48:54.320Z"
   },
   {
    "duration": 29,
    "start_time": "2023-03-09T21:48:55.409Z"
   },
   {
    "duration": 17,
    "start_time": "2023-03-09T21:48:55.440Z"
   },
   {
    "duration": 22,
    "start_time": "2023-03-09T21:48:55.458Z"
   },
   {
    "duration": 11,
    "start_time": "2023-03-09T21:48:55.482Z"
   },
   {
    "duration": 16,
    "start_time": "2023-03-09T21:48:55.495Z"
   },
   {
    "duration": 17,
    "start_time": "2023-03-09T21:48:55.512Z"
   },
   {
    "duration": 21,
    "start_time": "2023-03-09T21:48:55.530Z"
   },
   {
    "duration": 104,
    "start_time": "2023-03-09T21:48:55.553Z"
   },
   {
    "duration": 0,
    "start_time": "2023-03-09T21:48:55.658Z"
   },
   {
    "duration": 508,
    "start_time": "2023-03-09T21:49:54.572Z"
   },
   {
    "duration": 1084,
    "start_time": "2023-03-09T21:50:09.850Z"
   },
   {
    "duration": 30,
    "start_time": "2023-03-09T21:50:10.936Z"
   },
   {
    "duration": 19,
    "start_time": "2023-03-09T21:50:10.968Z"
   },
   {
    "duration": 31,
    "start_time": "2023-03-09T21:50:10.989Z"
   },
   {
    "duration": 11,
    "start_time": "2023-03-09T21:50:11.021Z"
   },
   {
    "duration": 9,
    "start_time": "2023-03-09T21:50:11.034Z"
   },
   {
    "duration": 10,
    "start_time": "2023-03-09T21:50:11.044Z"
   },
   {
    "duration": 4,
    "start_time": "2023-03-09T21:50:11.056Z"
   },
   {
    "duration": 672,
    "start_time": "2023-03-09T21:50:11.062Z"
   },
   {
    "duration": 0,
    "start_time": "2023-03-09T21:50:11.737Z"
   },
   {
    "duration": 1022,
    "start_time": "2023-03-09T21:51:00.981Z"
   },
   {
    "duration": 28,
    "start_time": "2023-03-09T21:51:02.005Z"
   },
   {
    "duration": 16,
    "start_time": "2023-03-09T21:51:02.035Z"
   },
   {
    "duration": 24,
    "start_time": "2023-03-09T21:51:02.052Z"
   },
   {
    "duration": 13,
    "start_time": "2023-03-09T21:51:02.078Z"
   },
   {
    "duration": 8,
    "start_time": "2023-03-09T21:51:02.093Z"
   },
   {
    "duration": 23,
    "start_time": "2023-03-09T21:51:02.103Z"
   },
   {
    "duration": 3,
    "start_time": "2023-03-09T21:51:02.128Z"
   },
   {
    "duration": 27,
    "start_time": "2023-03-09T21:51:02.133Z"
   },
   {
    "duration": 7,
    "start_time": "2023-03-09T21:55:45.423Z"
   },
   {
    "duration": 1082,
    "start_time": "2023-03-09T21:55:50.422Z"
   },
   {
    "duration": 29,
    "start_time": "2023-03-09T21:55:51.508Z"
   },
   {
    "duration": 19,
    "start_time": "2023-03-09T21:55:51.539Z"
   },
   {
    "duration": 23,
    "start_time": "2023-03-09T21:55:51.560Z"
   },
   {
    "duration": 11,
    "start_time": "2023-03-09T21:55:51.585Z"
   },
   {
    "duration": 27,
    "start_time": "2023-03-09T21:55:51.597Z"
   },
   {
    "duration": 8,
    "start_time": "2023-03-09T21:55:51.626Z"
   },
   {
    "duration": 4,
    "start_time": "2023-03-09T21:55:51.635Z"
   },
   {
    "duration": 9,
    "start_time": "2023-03-09T21:55:51.640Z"
   },
   {
    "duration": 21,
    "start_time": "2023-03-09T21:55:51.651Z"
   },
   {
    "duration": 1159,
    "start_time": "2023-03-11T10:50:52.636Z"
   },
   {
    "duration": 134,
    "start_time": "2023-03-11T10:50:53.797Z"
   },
   {
    "duration": 18,
    "start_time": "2023-03-11T10:50:53.933Z"
   },
   {
    "duration": 29,
    "start_time": "2023-03-11T10:50:53.953Z"
   },
   {
    "duration": 10,
    "start_time": "2023-03-11T10:50:53.984Z"
   },
   {
    "duration": 10,
    "start_time": "2023-03-11T10:50:53.996Z"
   },
   {
    "duration": 7,
    "start_time": "2023-03-11T10:50:54.008Z"
   },
   {
    "duration": 5,
    "start_time": "2023-03-11T10:50:54.017Z"
   },
   {
    "duration": 7,
    "start_time": "2023-03-11T10:50:54.024Z"
   },
   {
    "duration": 46,
    "start_time": "2023-03-11T10:50:54.033Z"
   },
   {
    "duration": 7,
    "start_time": "2023-03-11T11:04:48.355Z"
   },
   {
    "duration": 7,
    "start_time": "2023-03-11T11:05:09.640Z"
   },
   {
    "duration": 1165,
    "start_time": "2023-03-11T11:05:14.864Z"
   },
   {
    "duration": 32,
    "start_time": "2023-03-11T11:05:16.033Z"
   },
   {
    "duration": 17,
    "start_time": "2023-03-11T11:05:16.067Z"
   },
   {
    "duration": 24,
    "start_time": "2023-03-11T11:05:16.086Z"
   },
   {
    "duration": 11,
    "start_time": "2023-03-11T11:05:16.112Z"
   },
   {
    "duration": 28,
    "start_time": "2023-03-11T11:05:16.125Z"
   },
   {
    "duration": 14,
    "start_time": "2023-03-11T11:05:16.155Z"
   },
   {
    "duration": 21,
    "start_time": "2023-03-11T11:05:16.170Z"
   },
   {
    "duration": 18,
    "start_time": "2023-03-11T11:05:16.193Z"
   },
   {
    "duration": 32,
    "start_time": "2023-03-11T11:05:16.213Z"
   },
   {
    "duration": 1147,
    "start_time": "2023-03-11T11:13:52.256Z"
   },
   {
    "duration": 32,
    "start_time": "2023-03-11T11:13:53.405Z"
   },
   {
    "duration": 19,
    "start_time": "2023-03-11T11:13:53.439Z"
   },
   {
    "duration": 25,
    "start_time": "2023-03-11T11:13:53.460Z"
   },
   {
    "duration": 12,
    "start_time": "2023-03-11T11:13:53.488Z"
   },
   {
    "duration": 9,
    "start_time": "2023-03-11T11:13:53.502Z"
   },
   {
    "duration": 8,
    "start_time": "2023-03-11T11:13:53.513Z"
   },
   {
    "duration": 5,
    "start_time": "2023-03-11T11:13:53.523Z"
   },
   {
    "duration": 40,
    "start_time": "2023-03-11T11:13:53.530Z"
   },
   {
    "duration": 48,
    "start_time": "2023-03-11T15:19:45.313Z"
   },
   {
    "duration": 1039,
    "start_time": "2023-03-11T15:19:53.294Z"
   },
   {
    "duration": 76,
    "start_time": "2023-03-11T15:19:54.335Z"
   },
   {
    "duration": 18,
    "start_time": "2023-03-11T15:19:54.412Z"
   },
   {
    "duration": 22,
    "start_time": "2023-03-11T15:19:54.432Z"
   },
   {
    "duration": 10,
    "start_time": "2023-03-11T15:19:54.456Z"
   },
   {
    "duration": 8,
    "start_time": "2023-03-11T15:19:54.467Z"
   },
   {
    "duration": 9,
    "start_time": "2023-03-11T15:19:54.476Z"
   },
   {
    "duration": 4,
    "start_time": "2023-03-11T15:19:54.486Z"
   },
   {
    "duration": 124,
    "start_time": "2023-03-11T15:19:54.491Z"
   },
   {
    "duration": 0,
    "start_time": "2023-03-11T15:19:54.616Z"
   },
   {
    "duration": 8,
    "start_time": "2023-03-11T15:20:22.048Z"
   },
   {
    "duration": 1031,
    "start_time": "2023-03-11T15:30:08.243Z"
   },
   {
    "duration": 28,
    "start_time": "2023-03-11T15:30:09.276Z"
   },
   {
    "duration": 17,
    "start_time": "2023-03-11T15:30:09.305Z"
   },
   {
    "duration": 22,
    "start_time": "2023-03-11T15:30:09.324Z"
   },
   {
    "duration": 16,
    "start_time": "2023-03-11T15:30:09.348Z"
   },
   {
    "duration": 6,
    "start_time": "2023-03-11T15:30:09.366Z"
   },
   {
    "duration": 9,
    "start_time": "2023-03-11T15:30:09.374Z"
   },
   {
    "duration": 4,
    "start_time": "2023-03-11T15:30:09.384Z"
   },
   {
    "duration": 11,
    "start_time": "2023-03-11T15:30:09.390Z"
   },
   {
    "duration": 4,
    "start_time": "2023-03-11T15:30:09.403Z"
   },
   {
    "duration": 114,
    "start_time": "2023-03-11T15:30:09.409Z"
   },
   {
    "duration": 1027,
    "start_time": "2023-03-11T15:31:45.346Z"
   },
   {
    "duration": 28,
    "start_time": "2023-03-11T15:31:46.375Z"
   },
   {
    "duration": 15,
    "start_time": "2023-03-11T15:31:46.405Z"
   },
   {
    "duration": 20,
    "start_time": "2023-03-11T15:31:46.422Z"
   },
   {
    "duration": 10,
    "start_time": "2023-03-11T15:31:46.443Z"
   },
   {
    "duration": 7,
    "start_time": "2023-03-11T15:31:46.454Z"
   },
   {
    "duration": 6,
    "start_time": "2023-03-11T15:31:46.462Z"
   },
   {
    "duration": 7,
    "start_time": "2023-03-11T15:31:46.470Z"
   },
   {
    "duration": 4,
    "start_time": "2023-03-11T15:31:46.478Z"
   },
   {
    "duration": 127,
    "start_time": "2023-03-11T15:31:46.484Z"
   },
   {
    "duration": 17,
    "start_time": "2023-03-11T16:33:12.012Z"
   },
   {
    "duration": 39,
    "start_time": "2023-03-11T16:33:31.644Z"
   },
   {
    "duration": 18,
    "start_time": "2023-03-11T16:47:18.643Z"
   },
   {
    "duration": 38,
    "start_time": "2023-03-11T16:47:26.636Z"
   },
   {
    "duration": 20,
    "start_time": "2023-03-11T17:31:47.903Z"
   },
   {
    "duration": 19,
    "start_time": "2023-03-11T17:34:28.291Z"
   },
   {
    "duration": 18,
    "start_time": "2023-03-11T17:36:56.287Z"
   },
   {
    "duration": 38,
    "start_time": "2023-03-11T17:37:00.215Z"
   },
   {
    "duration": 19,
    "start_time": "2023-03-11T17:38:13.951Z"
   },
   {
    "duration": 983,
    "start_time": "2023-03-11T17:39:58.198Z"
   },
   {
    "duration": 29,
    "start_time": "2023-03-11T17:39:59.183Z"
   },
   {
    "duration": 19,
    "start_time": "2023-03-11T17:39:59.213Z"
   },
   {
    "duration": 24,
    "start_time": "2023-03-11T17:39:59.234Z"
   },
   {
    "duration": 11,
    "start_time": "2023-03-11T17:39:59.261Z"
   },
   {
    "duration": 14,
    "start_time": "2023-03-11T17:39:59.273Z"
   },
   {
    "duration": 7,
    "start_time": "2023-03-11T17:39:59.289Z"
   },
   {
    "duration": 6,
    "start_time": "2023-03-11T17:39:59.298Z"
   },
   {
    "duration": 5,
    "start_time": "2023-03-11T17:39:59.306Z"
   },
   {
    "duration": 130,
    "start_time": "2023-03-11T17:39:59.312Z"
   },
   {
    "duration": 986,
    "start_time": "2023-03-11T17:40:24.706Z"
   },
   {
    "duration": 30,
    "start_time": "2023-03-11T17:40:25.694Z"
   },
   {
    "duration": 16,
    "start_time": "2023-03-11T17:40:25.725Z"
   },
   {
    "duration": 21,
    "start_time": "2023-03-11T17:40:25.742Z"
   },
   {
    "duration": 8,
    "start_time": "2023-03-11T17:40:25.764Z"
   },
   {
    "duration": 10,
    "start_time": "2023-03-11T17:40:25.774Z"
   },
   {
    "duration": 7,
    "start_time": "2023-03-11T17:40:25.785Z"
   },
   {
    "duration": 8,
    "start_time": "2023-03-11T17:40:25.793Z"
   },
   {
    "duration": 8,
    "start_time": "2023-03-11T17:40:25.802Z"
   },
   {
    "duration": 127,
    "start_time": "2023-03-11T17:40:25.814Z"
   },
   {
    "duration": 53,
    "start_time": "2023-03-11T18:36:11.179Z"
   },
   {
    "duration": 49,
    "start_time": "2023-03-11T21:44:30.274Z"
   },
   {
    "duration": 17,
    "start_time": "2023-03-11T21:55:17.504Z"
   },
   {
    "duration": 15,
    "start_time": "2023-03-11T21:59:36.466Z"
   },
   {
    "duration": 50,
    "start_time": "2023-03-11T22:00:09.753Z"
   },
   {
    "duration": 65,
    "start_time": "2023-03-11T22:02:38.633Z"
   },
   {
    "duration": 54,
    "start_time": "2023-03-11T22:02:50.825Z"
   },
   {
    "duration": 61,
    "start_time": "2023-03-11T22:07:11.441Z"
   },
   {
    "duration": 54,
    "start_time": "2023-03-11T22:07:48.480Z"
   },
   {
    "duration": 54,
    "start_time": "2023-03-11T22:08:56.793Z"
   },
   {
    "duration": 48,
    "start_time": "2023-03-11T22:09:40.810Z"
   },
   {
    "duration": 13,
    "start_time": "2023-03-11T22:11:14.001Z"
   },
   {
    "duration": 50,
    "start_time": "2023-03-11T22:11:19.057Z"
   },
   {
    "duration": 975,
    "start_time": "2023-03-11T22:11:23.984Z"
   },
   {
    "duration": 29,
    "start_time": "2023-03-11T22:11:24.961Z"
   },
   {
    "duration": 16,
    "start_time": "2023-03-11T22:11:24.993Z"
   },
   {
    "duration": 21,
    "start_time": "2023-03-11T22:11:25.011Z"
   },
   {
    "duration": 9,
    "start_time": "2023-03-11T22:11:25.034Z"
   },
   {
    "duration": 13,
    "start_time": "2023-03-11T22:11:25.045Z"
   },
   {
    "duration": 8,
    "start_time": "2023-03-11T22:11:25.060Z"
   },
   {
    "duration": 9,
    "start_time": "2023-03-11T22:11:25.069Z"
   },
   {
    "duration": 5,
    "start_time": "2023-03-11T22:11:25.080Z"
   },
   {
    "duration": 65,
    "start_time": "2023-03-11T22:11:25.086Z"
   },
   {
    "duration": 58,
    "start_time": "2023-03-13T15:38:57.057Z"
   },
   {
    "duration": 77,
    "start_time": "2023-03-13T15:44:19.296Z"
   },
   {
    "duration": 60,
    "start_time": "2023-03-13T15:47:47.378Z"
   },
   {
    "duration": 16,
    "start_time": "2023-03-13T16:10:01.303Z"
   },
   {
    "duration": 1087,
    "start_time": "2023-03-13T16:10:21.699Z"
   },
   {
    "duration": 1211,
    "start_time": "2023-03-13T16:10:43.750Z"
   },
   {
    "duration": 31,
    "start_time": "2023-03-13T16:10:44.963Z"
   },
   {
    "duration": 22,
    "start_time": "2023-03-13T16:10:44.996Z"
   },
   {
    "duration": 51,
    "start_time": "2023-03-13T16:10:45.020Z"
   },
   {
    "duration": 18,
    "start_time": "2023-03-13T16:10:45.073Z"
   },
   {
    "duration": 21,
    "start_time": "2023-03-13T16:10:45.093Z"
   },
   {
    "duration": 33,
    "start_time": "2023-03-13T16:10:45.116Z"
   },
   {
    "duration": 12,
    "start_time": "2023-03-13T16:10:45.153Z"
   },
   {
    "duration": 26,
    "start_time": "2023-03-13T16:10:45.166Z"
   },
   {
    "duration": 128,
    "start_time": "2023-03-13T16:10:45.194Z"
   },
   {
    "duration": 1166,
    "start_time": "2023-03-13T16:10:59.707Z"
   },
   {
    "duration": 2709,
    "start_time": "2023-03-13T16:11:15.045Z"
   },
   {
    "duration": 1256,
    "start_time": "2023-03-13T16:11:25.627Z"
   },
   {
    "duration": 30,
    "start_time": "2023-03-13T16:11:26.886Z"
   },
   {
    "duration": 35,
    "start_time": "2023-03-13T16:11:26.918Z"
   },
   {
    "duration": 30,
    "start_time": "2023-03-13T16:11:26.960Z"
   },
   {
    "duration": 13,
    "start_time": "2023-03-13T16:11:26.992Z"
   },
   {
    "duration": 28,
    "start_time": "2023-03-13T16:11:27.008Z"
   },
   {
    "duration": 20,
    "start_time": "2023-03-13T16:11:27.037Z"
   },
   {
    "duration": 9,
    "start_time": "2023-03-13T16:11:27.059Z"
   },
   {
    "duration": 6,
    "start_time": "2023-03-13T16:11:27.070Z"
   },
   {
    "duration": 2762,
    "start_time": "2023-03-13T16:11:27.078Z"
   },
   {
    "duration": 1397,
    "start_time": "2023-03-13T16:11:59.557Z"
   },
   {
    "duration": 30,
    "start_time": "2023-03-13T16:12:00.957Z"
   },
   {
    "duration": 74,
    "start_time": "2023-03-13T16:12:00.989Z"
   },
   {
    "duration": 84,
    "start_time": "2023-03-13T16:12:01.066Z"
   },
   {
    "duration": 15,
    "start_time": "2023-03-13T16:12:01.152Z"
   },
   {
    "duration": 24,
    "start_time": "2023-03-13T16:12:01.169Z"
   },
   {
    "duration": 38,
    "start_time": "2023-03-13T16:12:01.194Z"
   },
   {
    "duration": 18,
    "start_time": "2023-03-13T16:12:01.239Z"
   },
   {
    "duration": 21,
    "start_time": "2023-03-13T16:12:01.259Z"
   },
   {
    "duration": 2664,
    "start_time": "2023-03-13T16:12:01.282Z"
   },
   {
    "duration": 2587,
    "start_time": "2023-03-13T16:14:26.307Z"
   },
   {
    "duration": 2701,
    "start_time": "2023-03-13T16:14:39.523Z"
   },
   {
    "duration": 43,
    "start_time": "2023-03-13T16:15:07.457Z"
   },
   {
    "duration": 2559,
    "start_time": "2023-03-13T16:15:17.729Z"
   },
   {
    "duration": 1425,
    "start_time": "2023-03-14T13:55:12.477Z"
   },
   {
    "duration": 69,
    "start_time": "2023-03-14T13:55:13.903Z"
   },
   {
    "duration": 25,
    "start_time": "2023-03-14T13:55:13.974Z"
   },
   {
    "duration": 29,
    "start_time": "2023-03-14T13:55:14.001Z"
   },
   {
    "duration": 14,
    "start_time": "2023-03-14T13:55:14.033Z"
   },
   {
    "duration": 16,
    "start_time": "2023-03-14T13:55:14.070Z"
   },
   {
    "duration": 37,
    "start_time": "2023-03-14T13:55:14.088Z"
   },
   {
    "duration": 16,
    "start_time": "2023-03-14T13:55:14.126Z"
   },
   {
    "duration": 11,
    "start_time": "2023-03-14T13:55:14.144Z"
   },
   {
    "duration": 2821,
    "start_time": "2023-03-14T13:55:14.159Z"
   },
   {
    "duration": 2544,
    "start_time": "2023-03-14T13:59:38.010Z"
   },
   {
    "duration": 2490,
    "start_time": "2023-03-14T14:02:44.529Z"
   },
   {
    "duration": 1162,
    "start_time": "2023-03-14T14:02:57.784Z"
   },
   {
    "duration": 33,
    "start_time": "2023-03-14T14:02:58.948Z"
   },
   {
    "duration": 18,
    "start_time": "2023-03-14T14:02:58.983Z"
   },
   {
    "duration": 23,
    "start_time": "2023-03-14T14:02:59.002Z"
   },
   {
    "duration": 10,
    "start_time": "2023-03-14T14:02:59.028Z"
   },
   {
    "duration": 35,
    "start_time": "2023-03-14T14:02:59.040Z"
   },
   {
    "duration": 9,
    "start_time": "2023-03-14T14:02:59.085Z"
   },
   {
    "duration": 7,
    "start_time": "2023-03-14T14:02:59.096Z"
   },
   {
    "duration": 6,
    "start_time": "2023-03-14T14:02:59.105Z"
   },
   {
    "duration": 2600,
    "start_time": "2023-03-14T14:02:59.113Z"
   },
   {
    "duration": 1168,
    "start_time": "2023-03-14T14:03:15.450Z"
   },
   {
    "duration": 27,
    "start_time": "2023-03-14T14:03:16.621Z"
   },
   {
    "duration": 20,
    "start_time": "2023-03-14T14:03:16.650Z"
   },
   {
    "duration": 26,
    "start_time": "2023-03-14T14:03:16.685Z"
   },
   {
    "duration": 13,
    "start_time": "2023-03-14T14:03:16.712Z"
   },
   {
    "duration": 11,
    "start_time": "2023-03-14T14:03:16.727Z"
   },
   {
    "duration": 7,
    "start_time": "2023-03-14T14:03:16.740Z"
   },
   {
    "duration": 35,
    "start_time": "2023-03-14T14:03:16.749Z"
   },
   {
    "duration": 8,
    "start_time": "2023-03-14T14:03:16.786Z"
   },
   {
    "duration": 2511,
    "start_time": "2023-03-14T14:03:16.796Z"
   },
   {
    "duration": 2450,
    "start_time": "2023-03-14T14:07:49.177Z"
   },
   {
    "duration": 1137,
    "start_time": "2023-03-14T14:13:10.053Z"
   },
   {
    "duration": 29,
    "start_time": "2023-03-14T14:13:11.192Z"
   },
   {
    "duration": 18,
    "start_time": "2023-03-14T14:13:11.223Z"
   },
   {
    "duration": 32,
    "start_time": "2023-03-14T14:13:11.243Z"
   },
   {
    "duration": 16,
    "start_time": "2023-03-14T14:13:11.277Z"
   },
   {
    "duration": 18,
    "start_time": "2023-03-14T14:13:11.294Z"
   },
   {
    "duration": 21,
    "start_time": "2023-03-14T14:13:11.314Z"
   },
   {
    "duration": 15,
    "start_time": "2023-03-14T14:13:11.337Z"
   },
   {
    "duration": 10,
    "start_time": "2023-03-14T14:13:11.354Z"
   },
   {
    "duration": 2466,
    "start_time": "2023-03-14T14:13:11.366Z"
   },
   {
    "duration": 1161,
    "start_time": "2023-03-14T14:14:09.547Z"
   },
   {
    "duration": 30,
    "start_time": "2023-03-14T14:14:10.710Z"
   },
   {
    "duration": 20,
    "start_time": "2023-03-14T14:14:10.742Z"
   },
   {
    "duration": 43,
    "start_time": "2023-03-14T14:14:10.765Z"
   },
   {
    "duration": 12,
    "start_time": "2023-03-14T14:14:10.811Z"
   },
   {
    "duration": 16,
    "start_time": "2023-03-14T14:14:10.825Z"
   },
   {
    "duration": 8,
    "start_time": "2023-03-14T14:14:10.843Z"
   },
   {
    "duration": 27,
    "start_time": "2023-03-14T14:14:10.853Z"
   },
   {
    "duration": 25,
    "start_time": "2023-03-14T14:14:10.882Z"
   },
   {
    "duration": 2517,
    "start_time": "2023-03-14T14:14:10.911Z"
   },
   {
    "duration": 549,
    "start_time": "2023-03-14T14:39:45.962Z"
   },
   {
    "duration": 12376,
    "start_time": "2023-03-14T14:42:09.739Z"
   },
   {
    "duration": 3007041,
    "start_time": "2023-03-14T14:42:53.043Z"
   },
   {
    "duration": 2918868,
    "start_time": "2023-03-14T15:44:27.137Z"
   },
   {
    "duration": 164,
    "start_time": "2023-03-18T17:38:59.838Z"
   },
   {
    "duration": 107,
    "start_time": "2023-03-18T17:39:19.726Z"
   },
   {
    "duration": 10,
    "start_time": "2023-03-18T17:40:54.726Z"
   },
   {
    "duration": 14,
    "start_time": "2023-03-18T17:41:07.874Z"
   },
   {
    "duration": 10,
    "start_time": "2023-03-18T17:41:19.410Z"
   },
   {
    "duration": 1616,
    "start_time": "2023-03-18T17:41:33.309Z"
   },
   {
    "duration": 216,
    "start_time": "2023-03-18T17:41:34.929Z"
   },
   {
    "duration": 37,
    "start_time": "2023-03-18T17:41:35.148Z"
   },
   {
    "duration": 41,
    "start_time": "2023-03-18T17:41:35.187Z"
   },
   {
    "duration": 50,
    "start_time": "2023-03-18T17:41:35.231Z"
   },
   {
    "duration": 24,
    "start_time": "2023-03-18T17:41:35.284Z"
   },
   {
    "duration": 12,
    "start_time": "2023-03-18T17:41:35.318Z"
   },
   {
    "duration": 25,
    "start_time": "2023-03-18T17:41:35.332Z"
   },
   {
    "duration": 14,
    "start_time": "2023-03-18T17:41:35.358Z"
   },
   {
    "duration": 3363,
    "start_time": "2023-03-18T17:41:35.374Z"
   },
   {
    "duration": 3822408,
    "start_time": "2023-03-18T17:41:38.744Z"
   },
   {
    "duration": 152,
    "start_time": "2023-03-18T18:45:21.157Z"
   },
   {
    "duration": 15,
    "start_time": "2023-03-18T18:49:42.212Z"
   },
   {
    "duration": 36,
    "start_time": "2023-03-18T18:50:38.426Z"
   },
   {
    "duration": 45,
    "start_time": "2023-03-18T18:50:47.360Z"
   },
   {
    "duration": 274,
    "start_time": "2023-03-18T19:07:59.491Z"
   },
   {
    "duration": 339,
    "start_time": "2023-03-18T19:08:28.478Z"
   },
   {
    "duration": 223,
    "start_time": "2023-03-18T19:08:45.668Z"
   },
   {
    "duration": 327,
    "start_time": "2023-03-18T19:09:12.480Z"
   },
   {
    "duration": 294,
    "start_time": "2023-03-18T19:09:51.332Z"
   },
   {
    "duration": 1298,
    "start_time": "2023-03-19T13:48:10.243Z"
   },
   {
    "duration": 139,
    "start_time": "2023-03-19T13:48:11.544Z"
   },
   {
    "duration": 22,
    "start_time": "2023-03-19T13:48:11.685Z"
   },
   {
    "duration": 28,
    "start_time": "2023-03-19T13:48:11.709Z"
   },
   {
    "duration": 27,
    "start_time": "2023-03-19T13:48:11.740Z"
   },
   {
    "duration": 16,
    "start_time": "2023-03-19T13:48:11.768Z"
   },
   {
    "duration": 14,
    "start_time": "2023-03-19T13:48:11.786Z"
   },
   {
    "duration": 11,
    "start_time": "2023-03-19T13:48:11.802Z"
   },
   {
    "duration": 7,
    "start_time": "2023-03-19T13:48:11.815Z"
   },
   {
    "duration": 3016,
    "start_time": "2023-03-19T13:48:11.824Z"
   },
   {
    "duration": 3180582,
    "start_time": "2023-03-19T13:48:14.842Z"
   },
   {
    "duration": 263,
    "start_time": "2023-03-19T14:41:15.427Z"
   },
   {
    "duration": 151,
    "start_time": "2023-03-19T14:41:15.693Z"
   },
   {
    "duration": 4,
    "start_time": "2023-03-19T15:11:52.551Z"
   },
   {
    "duration": 16,
    "start_time": "2023-03-19T15:11:59.502Z"
   },
   {
    "duration": 173852,
    "start_time": "2023-03-19T15:12:56.208Z"
   },
   {
    "duration": 1263,
    "start_time": "2023-03-19T15:17:50.491Z"
   },
   {
    "duration": 40,
    "start_time": "2023-03-19T15:17:51.757Z"
   },
   {
    "duration": 21,
    "start_time": "2023-03-19T15:17:51.799Z"
   },
   {
    "duration": 32,
    "start_time": "2023-03-19T15:17:51.823Z"
   },
   {
    "duration": 16,
    "start_time": "2023-03-19T15:17:51.857Z"
   },
   {
    "duration": 18,
    "start_time": "2023-03-19T15:17:51.875Z"
   },
   {
    "duration": 9,
    "start_time": "2023-03-19T15:17:51.895Z"
   },
   {
    "duration": 28,
    "start_time": "2023-03-19T15:17:51.905Z"
   },
   {
    "duration": 17,
    "start_time": "2023-03-19T15:17:51.935Z"
   },
   {
    "duration": 2951,
    "start_time": "2023-03-19T15:17:51.954Z"
   },
   {
    "duration": 3916076,
    "start_time": "2023-03-19T15:17:54.906Z"
   },
   {
    "duration": 307,
    "start_time": "2023-03-19T16:23:10.989Z"
   },
   {
    "duration": 198611,
    "start_time": "2023-03-19T16:23:11.299Z"
   },
   {
    "duration": 951,
    "start_time": "2023-03-20T09:11:34.564Z"
   },
   {
    "duration": 72,
    "start_time": "2023-03-20T09:11:35.516Z"
   },
   {
    "duration": 15,
    "start_time": "2023-03-20T09:11:35.589Z"
   },
   {
    "duration": 22,
    "start_time": "2023-03-20T09:11:35.606Z"
   },
   {
    "duration": 9,
    "start_time": "2023-03-20T09:11:35.629Z"
   },
   {
    "duration": 8,
    "start_time": "2023-03-20T09:11:35.639Z"
   },
   {
    "duration": 14,
    "start_time": "2023-03-20T09:11:35.649Z"
   },
   {
    "duration": 7,
    "start_time": "2023-03-20T09:11:35.664Z"
   },
   {
    "duration": 6,
    "start_time": "2023-03-20T09:11:35.672Z"
   },
   {
    "duration": 1952,
    "start_time": "2023-03-20T09:11:35.679Z"
   },
   {
    "duration": 2204969,
    "start_time": "2023-03-20T09:11:37.633Z"
   },
   {
    "duration": 169,
    "start_time": "2023-03-20T09:48:22.605Z"
   },
   {
    "duration": 115319,
    "start_time": "2023-03-20T09:48:22.775Z"
   },
   {
    "duration": 46,
    "start_time": "2023-03-20T09:50:18.096Z"
   },
   {
    "duration": 1135,
    "start_time": "2023-03-20T12:29:40.161Z"
   },
   {
    "duration": 139,
    "start_time": "2023-03-20T12:29:41.298Z"
   },
   {
    "duration": 17,
    "start_time": "2023-03-20T12:29:41.438Z"
   },
   {
    "duration": 34,
    "start_time": "2023-03-20T12:29:41.457Z"
   },
   {
    "duration": 12,
    "start_time": "2023-03-20T12:29:41.492Z"
   },
   {
    "duration": 10,
    "start_time": "2023-03-20T12:29:41.506Z"
   },
   {
    "duration": 8,
    "start_time": "2023-03-20T12:29:41.517Z"
   },
   {
    "duration": 9,
    "start_time": "2023-03-20T12:29:41.527Z"
   },
   {
    "duration": 6,
    "start_time": "2023-03-20T12:29:41.537Z"
   },
   {
    "duration": 2479,
    "start_time": "2023-03-20T12:29:41.546Z"
   },
   {
    "duration": 1080,
    "start_time": "2023-03-20T12:58:59.020Z"
   },
   {
    "duration": 28,
    "start_time": "2023-03-20T12:59:00.102Z"
   },
   {
    "duration": 16,
    "start_time": "2023-03-20T12:59:00.131Z"
   },
   {
    "duration": 24,
    "start_time": "2023-03-20T12:59:00.149Z"
   },
   {
    "duration": 18,
    "start_time": "2023-03-20T12:59:00.174Z"
   },
   {
    "duration": 24,
    "start_time": "2023-03-20T12:59:00.194Z"
   },
   {
    "duration": 17,
    "start_time": "2023-03-20T12:59:00.219Z"
   },
   {
    "duration": 7,
    "start_time": "2023-03-20T12:59:00.238Z"
   },
   {
    "duration": 19,
    "start_time": "2023-03-20T12:59:00.246Z"
   },
   {
    "duration": 2366,
    "start_time": "2023-03-20T12:59:00.267Z"
   },
   {
    "duration": 2514292,
    "start_time": "2023-03-20T12:59:02.634Z"
   },
   {
    "duration": 188,
    "start_time": "2023-03-20T13:40:56.928Z"
   },
   {
    "duration": 122858,
    "start_time": "2023-03-20T13:40:57.118Z"
   },
   {
    "duration": 119,
    "start_time": "2023-03-20T13:42:59.977Z"
   },
   {
    "duration": 270204,
    "start_time": "2023-03-20T13:44:41.528Z"
   },
   {
    "duration": 4843205,
    "start_time": "2023-03-20T13:55:17.255Z"
   },
   {
    "duration": 50,
    "start_time": "2023-03-20T16:26:37.745Z"
   },
   {
    "duration": 63,
    "start_time": "2023-03-20T16:42:47.747Z"
   },
   {
    "duration": 47,
    "start_time": "2023-03-20T16:43:06.832Z"
   },
   {
    "duration": 48,
    "start_time": "2023-03-20T16:43:19.106Z"
   },
   {
    "duration": 5,
    "start_time": "2023-03-20T17:29:40.294Z"
   },
   {
    "duration": 9,
    "start_time": "2023-03-20T17:31:45.590Z"
   },
   {
    "duration": 3,
    "start_time": "2023-03-20T17:31:53.073Z"
   },
   {
    "duration": 9,
    "start_time": "2023-03-20T17:31:58.753Z"
   },
   {
    "duration": 16,
    "start_time": "2023-03-20T17:32:37.389Z"
   },
   {
    "duration": 10,
    "start_time": "2023-03-20T17:33:08.887Z"
   },
   {
    "duration": 4,
    "start_time": "2023-03-20T17:33:52.829Z"
   },
   {
    "duration": 6,
    "start_time": "2023-03-20T17:34:02.156Z"
   },
   {
    "duration": 1183,
    "start_time": "2023-03-21T13:19:34.097Z"
   },
   {
    "duration": 81,
    "start_time": "2023-03-21T13:19:35.282Z"
   },
   {
    "duration": 19,
    "start_time": "2023-03-21T13:19:35.364Z"
   },
   {
    "duration": 40,
    "start_time": "2023-03-21T13:19:35.385Z"
   },
   {
    "duration": 11,
    "start_time": "2023-03-21T13:19:35.428Z"
   },
   {
    "duration": 14,
    "start_time": "2023-03-21T13:19:35.441Z"
   },
   {
    "duration": 15,
    "start_time": "2023-03-21T13:19:35.457Z"
   },
   {
    "duration": 36,
    "start_time": "2023-03-21T13:19:35.474Z"
   },
   {
    "duration": 18,
    "start_time": "2023-03-21T13:19:35.512Z"
   },
   {
    "duration": 2428,
    "start_time": "2023-03-21T13:19:35.532Z"
   },
   {
    "duration": 2772368,
    "start_time": "2023-03-21T13:19:37.961Z"
   },
   {
    "duration": 246,
    "start_time": "2023-03-21T14:05:50.331Z"
   },
   {
    "duration": 144732,
    "start_time": "2023-03-21T14:05:50.579Z"
   },
   {
    "duration": 5339363,
    "start_time": "2023-03-21T14:08:15.318Z"
   },
   {
    "duration": 77,
    "start_time": "2023-03-21T15:37:14.683Z"
   },
   {
    "duration": 8,
    "start_time": "2023-03-21T15:37:14.762Z"
   },
   {
    "duration": 2100,
    "start_time": "2023-03-21T16:02:04.481Z"
   },
   {
    "duration": 32,
    "start_time": "2023-03-21T16:02:06.583Z"
   },
   {
    "duration": 22,
    "start_time": "2023-03-21T16:02:06.617Z"
   },
   {
    "duration": 28,
    "start_time": "2023-03-21T16:02:06.642Z"
   },
   {
    "duration": 20,
    "start_time": "2023-03-21T16:02:06.672Z"
   },
   {
    "duration": 16,
    "start_time": "2023-03-21T16:02:06.695Z"
   },
   {
    "duration": 29,
    "start_time": "2023-03-21T16:02:06.713Z"
   },
   {
    "duration": 10,
    "start_time": "2023-03-21T16:02:06.743Z"
   },
   {
    "duration": 11,
    "start_time": "2023-03-21T16:02:06.754Z"
   },
   {
    "duration": 2575,
    "start_time": "2023-03-21T16:02:06.767Z"
   },
   {
    "duration": 1820660,
    "start_time": "2023-03-21T16:02:09.344Z"
   },
   {
    "duration": 0,
    "start_time": "2023-03-21T16:32:30.006Z"
   },
   {
    "duration": 0,
    "start_time": "2023-03-21T16:32:30.008Z"
   },
   {
    "duration": 0,
    "start_time": "2023-03-21T16:32:30.009Z"
   },
   {
    "duration": 0,
    "start_time": "2023-03-21T16:32:30.010Z"
   },
   {
    "duration": 0,
    "start_time": "2023-03-21T16:32:30.011Z"
   },
   {
    "duration": 1209,
    "start_time": "2023-03-22T16:13:56.687Z"
   },
   {
    "duration": 40,
    "start_time": "2023-03-22T21:49:35.614Z"
   },
   {
    "duration": 1019,
    "start_time": "2023-03-22T21:49:40.473Z"
   },
   {
    "duration": 70,
    "start_time": "2023-03-22T21:49:41.493Z"
   },
   {
    "duration": 16,
    "start_time": "2023-03-22T21:49:41.565Z"
   },
   {
    "duration": 19,
    "start_time": "2023-03-22T21:49:41.583Z"
   },
   {
    "duration": 9,
    "start_time": "2023-03-22T21:49:41.604Z"
   },
   {
    "duration": 12,
    "start_time": "2023-03-22T21:49:41.614Z"
   },
   {
    "duration": 6,
    "start_time": "2023-03-22T21:49:41.627Z"
   },
   {
    "duration": 35,
    "start_time": "2023-03-22T21:49:41.635Z"
   },
   {
    "duration": 7,
    "start_time": "2023-03-22T21:49:41.671Z"
   },
   {
    "duration": 5,
    "start_time": "2023-03-22T21:49:41.680Z"
   },
   {
    "duration": 2128,
    "start_time": "2023-03-22T21:49:41.686Z"
   },
   {
    "duration": 1001,
    "start_time": "2023-03-22T21:50:24.782Z"
   },
   {
    "duration": 29,
    "start_time": "2023-03-22T21:50:25.785Z"
   },
   {
    "duration": 17,
    "start_time": "2023-03-22T21:50:25.815Z"
   },
   {
    "duration": 21,
    "start_time": "2023-03-22T21:50:25.834Z"
   },
   {
    "duration": 14,
    "start_time": "2023-03-22T21:50:25.856Z"
   },
   {
    "duration": 6,
    "start_time": "2023-03-22T21:50:25.872Z"
   },
   {
    "duration": 5,
    "start_time": "2023-03-22T21:50:25.879Z"
   },
   {
    "duration": 100,
    "start_time": "2023-03-22T21:50:25.886Z"
   },
   {
    "duration": 0,
    "start_time": "2023-03-22T21:50:25.988Z"
   },
   {
    "duration": 0,
    "start_time": "2023-03-22T21:50:25.989Z"
   },
   {
    "duration": 0,
    "start_time": "2023-03-22T21:50:25.989Z"
   },
   {
    "duration": 0,
    "start_time": "2023-03-22T21:50:25.990Z"
   },
   {
    "duration": 0,
    "start_time": "2023-03-22T21:50:25.991Z"
   },
   {
    "duration": 0,
    "start_time": "2023-03-22T21:50:25.992Z"
   },
   {
    "duration": 0,
    "start_time": "2023-03-22T21:50:25.993Z"
   },
   {
    "duration": 0,
    "start_time": "2023-03-22T21:50:25.994Z"
   },
   {
    "duration": 0,
    "start_time": "2023-03-22T21:50:25.995Z"
   },
   {
    "duration": 1026,
    "start_time": "2023-03-22T21:51:24.845Z"
   },
   {
    "duration": 28,
    "start_time": "2023-03-22T21:51:25.873Z"
   },
   {
    "duration": 15,
    "start_time": "2023-03-22T21:51:25.902Z"
   },
   {
    "duration": 18,
    "start_time": "2023-03-22T21:51:25.919Z"
   },
   {
    "duration": 9,
    "start_time": "2023-03-22T21:51:25.939Z"
   },
   {
    "duration": 7,
    "start_time": "2023-03-22T21:51:25.950Z"
   },
   {
    "duration": 10,
    "start_time": "2023-03-22T21:51:25.959Z"
   },
   {
    "duration": 400,
    "start_time": "2023-03-22T21:51:25.971Z"
   },
   {
    "duration": 8,
    "start_time": "2023-03-22T21:51:26.373Z"
   },
   {
    "duration": 5,
    "start_time": "2023-03-22T21:51:26.383Z"
   },
   {
    "duration": 2029,
    "start_time": "2023-03-22T21:51:26.390Z"
   },
   {
    "duration": 981,
    "start_time": "2023-03-22T22:03:18.935Z"
   },
   {
    "duration": 28,
    "start_time": "2023-03-22T22:03:19.918Z"
   },
   {
    "duration": 17,
    "start_time": "2023-03-22T22:03:19.947Z"
   },
   {
    "duration": 24,
    "start_time": "2023-03-22T22:03:19.966Z"
   },
   {
    "duration": 10,
    "start_time": "2023-03-22T22:03:19.991Z"
   },
   {
    "duration": 6,
    "start_time": "2023-03-22T22:03:20.002Z"
   },
   {
    "duration": 13,
    "start_time": "2023-03-22T22:03:20.009Z"
   },
   {
    "duration": 279,
    "start_time": "2023-03-22T22:03:20.023Z"
   },
   {
    "duration": 7,
    "start_time": "2023-03-22T22:03:20.303Z"
   },
   {
    "duration": 7,
    "start_time": "2023-03-22T22:03:20.311Z"
   },
   {
    "duration": 2122,
    "start_time": "2023-03-22T22:03:20.319Z"
   },
   {
    "duration": 1893815,
    "start_time": "2023-03-22T22:03:22.442Z"
   },
   {
    "duration": 0,
    "start_time": "2023-03-22T22:34:56.259Z"
   },
   {
    "duration": 0,
    "start_time": "2023-03-22T22:34:56.260Z"
   },
   {
    "duration": 0,
    "start_time": "2023-03-22T22:34:56.261Z"
   },
   {
    "duration": 0,
    "start_time": "2023-03-22T22:34:56.261Z"
   },
   {
    "duration": 0,
    "start_time": "2023-03-22T22:34:56.262Z"
   },
   {
    "duration": 0,
    "start_time": "2023-03-22T22:34:56.268Z"
   },
   {
    "duration": 3,
    "start_time": "2023-03-22T22:34:58.728Z"
   },
   {
    "duration": 3,
    "start_time": "2023-03-22T22:36:02.741Z"
   },
   {
    "duration": 2499,
    "start_time": "2023-03-24T11:54:20.425Z"
   },
   {
    "duration": 199,
    "start_time": "2023-03-24T11:54:22.925Z"
   },
   {
    "duration": 16,
    "start_time": "2023-03-24T11:54:23.125Z"
   },
   {
    "duration": 57,
    "start_time": "2023-03-24T11:54:23.142Z"
   },
   {
    "duration": 33,
    "start_time": "2023-03-24T11:54:23.201Z"
   },
   {
    "duration": 43,
    "start_time": "2023-03-24T11:54:23.235Z"
   },
   {
    "duration": 32,
    "start_time": "2023-03-24T11:54:23.280Z"
   },
   {
    "duration": 1019,
    "start_time": "2023-03-24T11:54:23.313Z"
   },
   {
    "duration": 8,
    "start_time": "2023-03-24T11:54:24.333Z"
   },
   {
    "duration": 57,
    "start_time": "2023-03-24T11:54:24.343Z"
   },
   {
    "duration": 11,
    "start_time": "2023-03-24T11:54:24.402Z"
   },
   {
    "duration": 2734,
    "start_time": "2023-03-24T11:54:24.414Z"
   },
   {
    "duration": 2887872,
    "start_time": "2023-03-24T11:54:27.156Z"
   },
   {
    "duration": 238,
    "start_time": "2023-03-24T12:42:35.030Z"
   },
   {
    "duration": 168035,
    "start_time": "2023-03-24T12:42:35.280Z"
   },
   {
    "duration": 5596227,
    "start_time": "2023-03-24T12:45:23.318Z"
   },
   {
    "duration": 75,
    "start_time": "2023-03-24T14:18:39.546Z"
   },
   {
    "duration": 7,
    "start_time": "2023-03-24T14:18:39.623Z"
   },
   {
    "duration": 1050,
    "start_time": "2023-03-24T15:21:51.091Z"
   },
   {
    "duration": 31,
    "start_time": "2023-03-24T15:21:52.143Z"
   },
   {
    "duration": 15,
    "start_time": "2023-03-24T15:21:52.175Z"
   },
   {
    "duration": 32,
    "start_time": "2023-03-24T15:21:52.191Z"
   },
   {
    "duration": 15,
    "start_time": "2023-03-24T15:21:52.224Z"
   },
   {
    "duration": 7,
    "start_time": "2023-03-24T15:21:52.241Z"
   },
   {
    "duration": 6,
    "start_time": "2023-03-24T15:21:52.249Z"
   },
   {
    "duration": 288,
    "start_time": "2023-03-24T15:21:52.256Z"
   },
   {
    "duration": 7,
    "start_time": "2023-03-24T15:21:52.549Z"
   },
   {
    "duration": 7,
    "start_time": "2023-03-24T15:21:52.558Z"
   },
   {
    "duration": 8,
    "start_time": "2023-03-24T15:21:52.566Z"
   },
   {
    "duration": 2143,
    "start_time": "2023-03-24T15:21:52.575Z"
   },
   {
    "duration": 2302269,
    "start_time": "2023-03-24T15:21:54.719Z"
   },
   {
    "duration": 156,
    "start_time": "2023-03-24T16:00:16.989Z"
   },
   {
    "duration": 115138,
    "start_time": "2023-03-24T16:00:17.147Z"
   },
   {
    "duration": 1014,
    "start_time": "2023-03-24T17:13:56.461Z"
   },
   {
    "duration": 30,
    "start_time": "2023-03-24T17:13:57.476Z"
   },
   {
    "duration": 15,
    "start_time": "2023-03-24T17:13:57.507Z"
   },
   {
    "duration": 18,
    "start_time": "2023-03-24T17:13:57.524Z"
   },
   {
    "duration": 25,
    "start_time": "2023-03-24T17:13:57.544Z"
   },
   {
    "duration": 11,
    "start_time": "2023-03-24T17:13:57.570Z"
   },
   {
    "duration": 7,
    "start_time": "2023-03-24T17:13:57.582Z"
   },
   {
    "duration": 277,
    "start_time": "2023-03-24T17:13:57.590Z"
   },
   {
    "duration": 7,
    "start_time": "2023-03-24T17:13:57.868Z"
   },
   {
    "duration": 5,
    "start_time": "2023-03-24T17:13:57.877Z"
   },
   {
    "duration": 10,
    "start_time": "2023-03-24T17:13:57.883Z"
   },
   {
    "duration": 119,
    "start_time": "2023-03-24T17:13:57.894Z"
   },
   {
    "duration": 0,
    "start_time": "2023-03-24T17:13:58.015Z"
   },
   {
    "duration": 0,
    "start_time": "2023-03-24T17:13:58.016Z"
   },
   {
    "duration": 0,
    "start_time": "2023-03-24T17:13:58.017Z"
   },
   {
    "duration": 0,
    "start_time": "2023-03-24T17:13:58.018Z"
   },
   {
    "duration": 0,
    "start_time": "2023-03-24T17:13:58.019Z"
   },
   {
    "duration": 0,
    "start_time": "2023-03-24T17:13:58.020Z"
   },
   {
    "duration": 13,
    "start_time": "2023-03-24T17:14:25.898Z"
   },
   {
    "duration": 13,
    "start_time": "2023-03-24T17:17:13.693Z"
   },
   {
    "duration": 15,
    "start_time": "2023-03-24T17:17:22.962Z"
   },
   {
    "duration": 14,
    "start_time": "2023-03-24T17:17:33.124Z"
   },
   {
    "duration": 14,
    "start_time": "2023-03-24T17:19:24.028Z"
   },
   {
    "duration": 2257,
    "start_time": "2023-03-24T17:19:31.119Z"
   },
   {
    "duration": 131941,
    "start_time": "2023-03-24T17:21:06.115Z"
   },
   {
    "duration": 1214991,
    "start_time": "2023-03-24T17:24:56.888Z"
   },
   {
    "duration": 15052,
    "start_time": "2023-03-24T17:48:42.307Z"
   },
   {
    "duration": 75979,
    "start_time": "2023-03-24T17:49:22.572Z"
   },
   {
    "duration": 149,
    "start_time": "2023-03-24T17:50:39.661Z"
   },
   {
    "duration": 1141189,
    "start_time": "2023-03-24T17:50:54.476Z"
   },
   {
    "duration": 1239,
    "start_time": "2023-03-25T00:34:02.314Z"
   },
   {
    "duration": 123,
    "start_time": "2023-03-25T00:34:03.556Z"
   },
   {
    "duration": 27,
    "start_time": "2023-03-25T00:34:03.681Z"
   },
   {
    "duration": 37,
    "start_time": "2023-03-25T00:34:03.710Z"
   },
   {
    "duration": 15,
    "start_time": "2023-03-25T00:34:03.749Z"
   },
   {
    "duration": 30,
    "start_time": "2023-03-25T00:34:03.766Z"
   },
   {
    "duration": 17,
    "start_time": "2023-03-25T00:34:03.798Z"
   },
   {
    "duration": 542,
    "start_time": "2023-03-25T00:34:03.817Z"
   },
   {
    "duration": 8,
    "start_time": "2023-03-25T00:34:04.361Z"
   },
   {
    "duration": 18,
    "start_time": "2023-03-25T00:34:04.372Z"
   },
   {
    "duration": 7,
    "start_time": "2023-03-25T00:34:04.392Z"
   },
   {
    "duration": 2529,
    "start_time": "2023-03-25T00:34:04.401Z"
   },
   {
    "duration": 13174,
    "start_time": "2023-03-25T00:34:06.931Z"
   },
   {
    "duration": 0,
    "start_time": "2023-03-25T00:34:20.107Z"
   },
   {
    "duration": 0,
    "start_time": "2023-03-25T00:34:20.109Z"
   },
   {
    "duration": 0,
    "start_time": "2023-03-25T00:34:20.110Z"
   },
   {
    "duration": 0,
    "start_time": "2023-03-25T00:34:20.111Z"
   },
   {
    "duration": 0,
    "start_time": "2023-03-25T00:34:20.112Z"
   },
   {
    "duration": 1270,
    "start_time": "2023-03-25T00:35:45.272Z"
   },
   {
    "duration": 31,
    "start_time": "2023-03-25T00:35:46.545Z"
   },
   {
    "duration": 22,
    "start_time": "2023-03-25T00:35:46.578Z"
   },
   {
    "duration": 31,
    "start_time": "2023-03-25T00:35:46.602Z"
   },
   {
    "duration": 12,
    "start_time": "2023-03-25T00:35:46.635Z"
   },
   {
    "duration": 39,
    "start_time": "2023-03-25T00:35:46.649Z"
   },
   {
    "duration": 9,
    "start_time": "2023-03-25T00:35:46.690Z"
   },
   {
    "duration": 355,
    "start_time": "2023-03-25T00:35:46.701Z"
   },
   {
    "duration": 9,
    "start_time": "2023-03-25T00:35:47.059Z"
   },
   {
    "duration": 17,
    "start_time": "2023-03-25T00:35:47.070Z"
   },
   {
    "duration": 4,
    "start_time": "2023-03-25T00:35:47.089Z"
   },
   {
    "duration": 2455,
    "start_time": "2023-03-25T00:35:47.095Z"
   },
   {
    "duration": 1355124,
    "start_time": "2023-03-25T00:35:49.552Z"
   },
   {
    "duration": 4968925,
    "start_time": "2023-03-25T01:00:44.664Z"
   },
   {
    "duration": 62,
    "start_time": "2023-03-25T02:23:33.591Z"
   },
   {
    "duration": 7,
    "start_time": "2023-03-25T02:23:33.655Z"
   },
   {
    "duration": 306,
    "start_time": "2023-03-25T02:23:33.690Z"
   },
   {
    "duration": 14600,
    "start_time": "2023-03-25T02:23:33.999Z"
   },
   {
    "duration": 1076,
    "start_time": "2023-03-25T15:01:39.584Z"
   },
   {
    "duration": 120,
    "start_time": "2023-03-25T15:01:40.662Z"
   },
   {
    "duration": 16,
    "start_time": "2023-03-25T15:01:40.784Z"
   },
   {
    "duration": 20,
    "start_time": "2023-03-25T15:01:40.802Z"
   },
   {
    "duration": 8,
    "start_time": "2023-03-25T15:01:40.824Z"
   },
   {
    "duration": 15,
    "start_time": "2023-03-25T15:01:40.834Z"
   },
   {
    "duration": 6,
    "start_time": "2023-03-25T15:01:40.850Z"
   },
   {
    "duration": 445,
    "start_time": "2023-03-25T15:01:40.857Z"
   },
   {
    "duration": 7,
    "start_time": "2023-03-25T15:01:41.304Z"
   },
   {
    "duration": 5,
    "start_time": "2023-03-25T15:01:41.313Z"
   },
   {
    "duration": 4,
    "start_time": "2023-03-25T15:01:41.319Z"
   },
   {
    "duration": 2090,
    "start_time": "2023-03-25T15:01:41.325Z"
   },
   {
    "duration": 1122649,
    "start_time": "2023-03-25T15:01:43.416Z"
   },
   {
    "duration": 219,
    "start_time": "2023-03-25T15:20:26.066Z"
   },
   {
    "duration": 115382,
    "start_time": "2023-03-25T15:20:26.286Z"
   },
   {
    "duration": 4752427,
    "start_time": "2023-03-25T15:22:21.669Z"
   },
   {
    "duration": 68,
    "start_time": "2023-03-25T16:41:34.098Z"
   },
   {
    "duration": 19,
    "start_time": "2023-03-25T16:41:34.177Z"
   },
   {
    "duration": 1221,
    "start_time": "2023-03-26T10:57:18.803Z"
   },
   {
    "duration": 125,
    "start_time": "2023-03-26T10:57:20.026Z"
   },
   {
    "duration": 19,
    "start_time": "2023-03-26T10:57:20.153Z"
   },
   {
    "duration": 27,
    "start_time": "2023-03-26T10:57:20.174Z"
   },
   {
    "duration": 11,
    "start_time": "2023-03-26T10:57:20.203Z"
   },
   {
    "duration": 18,
    "start_time": "2023-03-26T10:57:20.215Z"
   },
   {
    "duration": 15,
    "start_time": "2023-03-26T10:57:20.235Z"
   },
   {
    "duration": 523,
    "start_time": "2023-03-26T10:57:20.252Z"
   },
   {
    "duration": 11,
    "start_time": "2023-03-26T10:57:20.777Z"
   },
   {
    "duration": 7,
    "start_time": "2023-03-26T10:57:20.790Z"
   },
   {
    "duration": 20,
    "start_time": "2023-03-26T10:57:20.800Z"
   },
   {
    "duration": 2559,
    "start_time": "2023-03-26T10:57:20.822Z"
   },
   {
    "duration": 1341511,
    "start_time": "2023-03-26T10:57:23.382Z"
   },
   {
    "duration": 296,
    "start_time": "2023-03-26T11:19:44.896Z"
   },
   {
    "duration": 135103,
    "start_time": "2023-03-26T11:19:45.194Z"
   },
   {
    "duration": 4901260,
    "start_time": "2023-03-26T11:22:00.299Z"
   },
   {
    "duration": 134,
    "start_time": "2023-03-26T12:43:41.561Z"
   },
   {
    "duration": 0,
    "start_time": "2023-03-26T12:43:41.696Z"
   },
   {
    "duration": 41,
    "start_time": "2023-03-27T00:57:08.935Z"
   },
   {
    "duration": 9,
    "start_time": "2023-03-27T00:57:21.290Z"
   },
   {
    "duration": 987,
    "start_time": "2023-03-27T00:57:25.506Z"
   },
   {
    "duration": 73,
    "start_time": "2023-03-27T00:57:26.494Z"
   },
   {
    "duration": 15,
    "start_time": "2023-03-27T00:57:26.568Z"
   },
   {
    "duration": 21,
    "start_time": "2023-03-27T00:57:26.584Z"
   },
   {
    "duration": 10,
    "start_time": "2023-03-27T00:57:26.607Z"
   },
   {
    "duration": 8,
    "start_time": "2023-03-27T00:57:26.618Z"
   },
   {
    "duration": 6,
    "start_time": "2023-03-27T00:57:26.627Z"
   },
   {
    "duration": 423,
    "start_time": "2023-03-27T00:57:26.634Z"
   },
   {
    "duration": 6,
    "start_time": "2023-03-27T00:57:27.059Z"
   },
   {
    "duration": 10,
    "start_time": "2023-03-27T00:57:27.068Z"
   },
   {
    "duration": 5,
    "start_time": "2023-03-27T00:57:27.079Z"
   },
   {
    "duration": 1936,
    "start_time": "2023-03-27T00:57:27.085Z"
   },
   {
    "duration": 1050797,
    "start_time": "2023-03-27T00:57:29.022Z"
   },
   {
    "duration": 265,
    "start_time": "2023-03-27T01:14:59.821Z"
   },
   {
    "duration": 111722,
    "start_time": "2023-03-27T01:15:00.087Z"
   },
   {
    "duration": 1284,
    "start_time": "2023-03-27T06:16:08.216Z"
   },
   {
    "duration": 94,
    "start_time": "2023-03-27T06:16:09.502Z"
   },
   {
    "duration": 18,
    "start_time": "2023-03-27T06:16:09.598Z"
   },
   {
    "duration": 38,
    "start_time": "2023-03-27T06:16:09.619Z"
   },
   {
    "duration": 13,
    "start_time": "2023-03-27T06:16:09.660Z"
   },
   {
    "duration": 11,
    "start_time": "2023-03-27T06:16:09.675Z"
   },
   {
    "duration": 9,
    "start_time": "2023-03-27T06:16:09.688Z"
   },
   {
    "duration": 543,
    "start_time": "2023-03-27T06:16:09.699Z"
   },
   {
    "duration": 17,
    "start_time": "2023-03-27T06:16:10.246Z"
   },
   {
    "duration": 6,
    "start_time": "2023-03-27T06:16:10.266Z"
   },
   {
    "duration": 6,
    "start_time": "2023-03-27T06:16:10.273Z"
   },
   {
    "duration": 2683,
    "start_time": "2023-03-27T06:16:10.280Z"
   },
   {
    "duration": 1340316,
    "start_time": "2023-03-27T06:16:12.965Z"
   },
   {
    "duration": 293,
    "start_time": "2023-03-27T06:38:33.282Z"
   },
   {
    "duration": 138741,
    "start_time": "2023-03-27T06:38:33.577Z"
   },
   {
    "duration": 5732516,
    "start_time": "2023-03-27T06:40:52.319Z"
   },
   {
    "duration": 117,
    "start_time": "2023-03-27T08:16:24.837Z"
   },
   {
    "duration": 10,
    "start_time": "2023-03-27T08:16:24.968Z"
   },
   {
    "duration": 60406,
    "start_time": "2023-03-27T09:47:09.595Z"
   },
   {
    "duration": 1249,
    "start_time": "2023-03-27T09:48:31.336Z"
   },
   {
    "duration": 31,
    "start_time": "2023-03-27T09:48:32.588Z"
   },
   {
    "duration": 37,
    "start_time": "2023-03-27T09:48:32.621Z"
   },
   {
    "duration": 24,
    "start_time": "2023-03-27T09:48:32.661Z"
   },
   {
    "duration": 11,
    "start_time": "2023-03-27T09:48:32.686Z"
   },
   {
    "duration": 8,
    "start_time": "2023-03-27T09:48:32.699Z"
   },
   {
    "duration": 8,
    "start_time": "2023-03-27T09:48:32.709Z"
   },
   {
    "duration": 354,
    "start_time": "2023-03-27T09:48:32.719Z"
   },
   {
    "duration": 9,
    "start_time": "2023-03-27T09:48:33.075Z"
   },
   {
    "duration": 9,
    "start_time": "2023-03-27T09:48:33.087Z"
   },
   {
    "duration": 7,
    "start_time": "2023-03-27T09:48:33.098Z"
   },
   {
    "duration": 2563,
    "start_time": "2023-03-27T09:48:33.106Z"
   },
   {
    "duration": 1408034,
    "start_time": "2023-03-27T09:48:35.671Z"
   },
   {
    "duration": 278,
    "start_time": "2023-03-27T10:12:03.707Z"
   },
   {
    "duration": 153806,
    "start_time": "2023-03-27T10:12:03.987Z"
   },
   {
    "duration": 5902324,
    "start_time": "2023-03-27T10:14:37.795Z"
   },
   {
    "duration": 99,
    "start_time": "2023-03-27T11:53:00.120Z"
   },
   {
    "duration": 6,
    "start_time": "2023-03-27T11:53:00.221Z"
   }
  ],
  "kernelspec": {
   "display_name": "Python 3 (ipykernel)",
   "language": "python",
   "name": "python3"
  },
  "language_info": {
   "codemirror_mode": {
    "name": "ipython",
    "version": 3
   },
   "file_extension": ".py",
   "mimetype": "text/x-python",
   "name": "python",
   "nbconvert_exporter": "python",
   "pygments_lexer": "ipython3",
   "version": "3.9.16"
  },
  "toc": {
   "base_numbering": 1,
   "nav_menu": {},
   "number_sections": true,
   "sideBar": true,
   "skip_h1_title": true,
   "title_cell": "Table of Contents",
   "title_sidebar": "Contents",
   "toc_cell": false,
   "toc_position": {},
   "toc_section_display": true,
   "toc_window_display": false
  }
 },
 "nbformat": 4,
 "nbformat_minor": 2
}
