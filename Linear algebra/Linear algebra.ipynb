{
 "cells": [
  {
   "cell_type": "markdown",
   "metadata": {
    "toc": true
   },
   "source": [
    "<h1>Содержание<span class=\"tocSkip\"></span></h1>\n",
    "<div class=\"toc\"><ul class=\"toc-item\"><li><span><a href=\"#Загрузка-данных\" data-toc-modified-id=\"Загрузка-данных-1\"><span class=\"toc-item-num\">1&nbsp;&nbsp;</span>Загрузка данных</a></span><ul class=\"toc-item\"><li><span><a href=\"#Вывод-о-EDA\" data-toc-modified-id=\"Вывод-о-EDA-1.1\"><span class=\"toc-item-num\">1.1&nbsp;&nbsp;</span>Вывод о EDA</a></span></li></ul></li><li><span><a href=\"#Умножение-матриц\" data-toc-modified-id=\"Умножение-матриц-2\"><span class=\"toc-item-num\">2&nbsp;&nbsp;</span>Умножение матриц</a></span></li><li><span><a href=\"#Алгоритм-преобразования\" data-toc-modified-id=\"Алгоритм-преобразования-3\"><span class=\"toc-item-num\">3&nbsp;&nbsp;</span>Алгоритм преобразования</a></span></li><li><span><a href=\"#Проверка-алгоритма\" data-toc-modified-id=\"Проверка-алгоритма-4\"><span class=\"toc-item-num\">4&nbsp;&nbsp;</span>Проверка алгоритма</a></span></li><li><span><a href=\"#Чек-лист-проверки\" data-toc-modified-id=\"Чек-лист-проверки-5\"><span class=\"toc-item-num\">5&nbsp;&nbsp;</span>Чек-лист проверки</a></span></li></ul></div>"
   ]
  },
  {
   "cell_type": "markdown",
   "metadata": {},
   "source": [
    "# Защита персональных данных клиентов"
   ]
  },
  {
   "cell_type": "markdown",
   "metadata": {},
   "source": [
    "Вам нужно защитить данные клиентов страховой компании «...». Разработайте такой метод преобразования данных, чтобы по ним было сложно восстановить персональную информацию. Обоснуйте корректность его работы.\n",
    "\n",
    "Нужно защитить данные, чтобы при преобразовании качество моделей машинного обучения не ухудшилось. Подбирать наилучшую модель не требуется."
   ]
  },
  {
   "cell_type": "markdown",
   "metadata": {},
   "source": [
    "# Описание проекта"
   ]
  },
  {
   "cell_type": "markdown",
   "metadata": {},
   "source": [
    "Требуется защитить данные клиентов страховой компании.\\\n",
    "Основным критерием качества метода будет являтся отсутсвие негативного влияния разработанного метода на модель Линейной регресии.\\\n",
    "Имеется дата-сет, состоящий из 5000 строк и 5 столбцов"
   ]
  },
  {
   "cell_type": "markdown",
   "metadata": {},
   "source": [
    "# Импорт необходимых библиотек"
   ]
  },
  {
   "cell_type": "code",
   "execution_count": 1,
   "metadata": {},
   "outputs": [],
   "source": [
    "import pandas as pd\n",
    "import numpy as np\n",
    "import matplotlib.pyplot as plt\n",
    "plt.style.use('seaborn-pastel')\n",
    "\n",
    "from sklearn.model_selection import train_test_split\n",
    "from sklearn.metrics import r2_score\n",
    "\n",
    "from sklearn.linear_model import LinearRegression\n"
   ]
  },
  {
   "cell_type": "markdown",
   "metadata": {},
   "source": [
    "# Пользовательские функции"
   ]
  },
  {
   "cell_type": "code",
   "execution_count": 2,
   "metadata": {},
   "outputs": [],
   "source": [
    "#  Функция для первичного анализа дата-сета\n",
    "def analyze_df(df):\n",
    "    # выводим размерность датафрейма\n",
    "    display(\"Размерность датафрейма:\")\n",
    "    display(df.shape)\n",
    "\n",
    "    # выводим информацию о датафрейме\n",
    "    display(\"Информация о датафрейме:\")\n",
    "    display(df.info())\n",
    "\n",
    "    # выводим статистическую информацию о датафрейме\n",
    "    display(\"Статистическая информация о датафрейме:\")\n",
    "    display(df.describe())\n",
    "\n",
    "    # выводим первые 10 строк датафрейма\n",
    "    display(\"Первые 10 строк датафрейма:\")\n",
    "    display(df.head(10))\n",
    "\n",
    "    # выодим кол-во пропусков\n",
    "    display(\"Кол-во пропусков\")\n",
    "    display(df.isna().sum()[df.isna().sum() > 0])\n",
    "    \n",
    "    # выодим кол-во дубликатов\n",
    "    display(\"Кол-во дубликатов\")\n",
    "    display(df.duplicated().sum()[df.duplicated().sum() > 0])\n",
    "    \n",
    "    # выводим матрицу корреляции\n",
    "    display(df.corr().style.background_gradient(cmap='coolwarm'))\n",
    "    \n",
    "    # выводим гистограммы\n",
    "    display(\"Гистограммы данных\")\n",
    "    df.hist(figsize=(10, 13), bins = 30);\n",
    "    plt.show()"
   ]
  },
  {
   "cell_type": "code",
   "execution_count": 3,
   "metadata": {},
   "outputs": [],
   "source": [
    "#  Функция для преобразования данных\n",
    "def coding(data, randomstate=12345, randint=1000):\n",
    "    try:\n",
    "        # задаём рандом\n",
    "        rand = np.random.RandomState(12345)\n",
    "        \n",
    "        # создаём матрицу, где идет разброс значений от 0 до 1000\n",
    "        P = rand.randint(randint, size=(data.shape[1], data.shape[1]))\n",
    "        \n",
    "        # проверяем обратимость. Если будет необратимая - перенесет на except\n",
    "        Pinv = np.linalg.inv(P)\n",
    "        \n",
    "        # преобразуем таблицу и снова задаём столбцы\n",
    "        encoded_data = np.dot(data, P)\n",
    "        encoded_data = pd.DataFrame(encoded_data, columns=data.columns)\n",
    "        \n",
    "        # возвращаем ключ шифрования и преобразованную таблицу\n",
    "        return encoded_data, Pinv\n",
    "    except:\n",
    "        print('select another RandInt or RandomState.')"
   ]
  },
  {
   "cell_type": "code",
   "execution_count": 4,
   "metadata": {},
   "outputs": [],
   "source": [
    "#  Функция для обучения модели и вывода метрик\n",
    "def regr_metrics(features, target, model=LinearRegression()):\n",
    "# Делим дата-сет в соотношении 4 к 1\n",
    "    train_features, test_features, train_target, test_target = train_test_split(features,\n",
    "                                                                                target,\n",
    "                                                                                test_size=0.2,\n",
    "                                                                                random_state=12345)\n",
    "    # Тренируем модель   \n",
    "    model = model\n",
    "    model.fit(train_features, train_target)\n",
    "    \n",
    "    train_predicted = model.predict(train_features)\n",
    "    test_predicted = model.predict(test_features)\n",
    "    \n",
    "    # Выводим метрики   \n",
    "    train_score = r2_score(train_target, train_predicted)\n",
    "    test_score = r2_score(test_target, test_predicted)\n",
    "    \n",
    "    print('Метрика R2 на тренировочной выборке:', round(train_score, 5), \n",
    "          '\\n Метрика R2 на тестовой выборке:', round(test_score, 5))"
   ]
  },
  {
   "cell_type": "markdown",
   "metadata": {},
   "source": [
    "## Загрузка данных"
   ]
  },
  {
   "cell_type": "code",
   "execution_count": 5,
   "metadata": {},
   "outputs": [],
   "source": [
    "try:\n",
    "    df = pd.read_csv('/datasets/insurance.csv')\n",
    "except:\n",
    "    df = pd.read_csv('https://code.s3.yandex.net/datasets/insurance.csv')"
   ]
  },
  {
   "cell_type": "markdown",
   "metadata": {},
   "source": [
    "# EDA"
   ]
  },
  {
   "cell_type": "code",
   "execution_count": 6,
   "metadata": {},
   "outputs": [
    {
     "data": {
      "text/plain": [
       "'Размерность датафрейма:'"
      ]
     },
     "metadata": {},
     "output_type": "display_data"
    },
    {
     "data": {
      "text/plain": [
       "(5000, 5)"
      ]
     },
     "metadata": {},
     "output_type": "display_data"
    },
    {
     "data": {
      "text/plain": [
       "'Информация о датафрейме:'"
      ]
     },
     "metadata": {},
     "output_type": "display_data"
    },
    {
     "name": "stdout",
     "output_type": "stream",
     "text": [
      "<class 'pandas.core.frame.DataFrame'>\n",
      "RangeIndex: 5000 entries, 0 to 4999\n",
      "Data columns (total 5 columns):\n",
      " #   Column             Non-Null Count  Dtype  \n",
      "---  ------             --------------  -----  \n",
      " 0   Пол                5000 non-null   int64  \n",
      " 1   Возраст            5000 non-null   float64\n",
      " 2   Зарплата           5000 non-null   float64\n",
      " 3   Члены семьи        5000 non-null   int64  \n",
      " 4   Страховые выплаты  5000 non-null   int64  \n",
      "dtypes: float64(2), int64(3)\n",
      "memory usage: 195.4 KB\n"
     ]
    },
    {
     "data": {
      "text/plain": [
       "None"
      ]
     },
     "metadata": {},
     "output_type": "display_data"
    },
    {
     "data": {
      "text/plain": [
       "'Статистическая информация о датафрейме:'"
      ]
     },
     "metadata": {},
     "output_type": "display_data"
    },
    {
     "data": {
      "text/html": [
       "<div>\n",
       "<style scoped>\n",
       "    .dataframe tbody tr th:only-of-type {\n",
       "        vertical-align: middle;\n",
       "    }\n",
       "\n",
       "    .dataframe tbody tr th {\n",
       "        vertical-align: top;\n",
       "    }\n",
       "\n",
       "    .dataframe thead th {\n",
       "        text-align: right;\n",
       "    }\n",
       "</style>\n",
       "<table border=\"1\" class=\"dataframe\">\n",
       "  <thead>\n",
       "    <tr style=\"text-align: right;\">\n",
       "      <th></th>\n",
       "      <th>Пол</th>\n",
       "      <th>Возраст</th>\n",
       "      <th>Зарплата</th>\n",
       "      <th>Члены семьи</th>\n",
       "      <th>Страховые выплаты</th>\n",
       "    </tr>\n",
       "  </thead>\n",
       "  <tbody>\n",
       "    <tr>\n",
       "      <th>count</th>\n",
       "      <td>5000.000000</td>\n",
       "      <td>5000.000000</td>\n",
       "      <td>5000.000000</td>\n",
       "      <td>5000.000000</td>\n",
       "      <td>5000.000000</td>\n",
       "    </tr>\n",
       "    <tr>\n",
       "      <th>mean</th>\n",
       "      <td>0.499000</td>\n",
       "      <td>30.952800</td>\n",
       "      <td>39916.360000</td>\n",
       "      <td>1.194200</td>\n",
       "      <td>0.148000</td>\n",
       "    </tr>\n",
       "    <tr>\n",
       "      <th>std</th>\n",
       "      <td>0.500049</td>\n",
       "      <td>8.440807</td>\n",
       "      <td>9900.083569</td>\n",
       "      <td>1.091387</td>\n",
       "      <td>0.463183</td>\n",
       "    </tr>\n",
       "    <tr>\n",
       "      <th>min</th>\n",
       "      <td>0.000000</td>\n",
       "      <td>18.000000</td>\n",
       "      <td>5300.000000</td>\n",
       "      <td>0.000000</td>\n",
       "      <td>0.000000</td>\n",
       "    </tr>\n",
       "    <tr>\n",
       "      <th>25%</th>\n",
       "      <td>0.000000</td>\n",
       "      <td>24.000000</td>\n",
       "      <td>33300.000000</td>\n",
       "      <td>0.000000</td>\n",
       "      <td>0.000000</td>\n",
       "    </tr>\n",
       "    <tr>\n",
       "      <th>50%</th>\n",
       "      <td>0.000000</td>\n",
       "      <td>30.000000</td>\n",
       "      <td>40200.000000</td>\n",
       "      <td>1.000000</td>\n",
       "      <td>0.000000</td>\n",
       "    </tr>\n",
       "    <tr>\n",
       "      <th>75%</th>\n",
       "      <td>1.000000</td>\n",
       "      <td>37.000000</td>\n",
       "      <td>46600.000000</td>\n",
       "      <td>2.000000</td>\n",
       "      <td>0.000000</td>\n",
       "    </tr>\n",
       "    <tr>\n",
       "      <th>max</th>\n",
       "      <td>1.000000</td>\n",
       "      <td>65.000000</td>\n",
       "      <td>79000.000000</td>\n",
       "      <td>6.000000</td>\n",
       "      <td>5.000000</td>\n",
       "    </tr>\n",
       "  </tbody>\n",
       "</table>\n",
       "</div>"
      ],
      "text/plain": [
       "               Пол      Возраст      Зарплата  Члены семьи  Страховые выплаты\n",
       "count  5000.000000  5000.000000   5000.000000  5000.000000        5000.000000\n",
       "mean      0.499000    30.952800  39916.360000     1.194200           0.148000\n",
       "std       0.500049     8.440807   9900.083569     1.091387           0.463183\n",
       "min       0.000000    18.000000   5300.000000     0.000000           0.000000\n",
       "25%       0.000000    24.000000  33300.000000     0.000000           0.000000\n",
       "50%       0.000000    30.000000  40200.000000     1.000000           0.000000\n",
       "75%       1.000000    37.000000  46600.000000     2.000000           0.000000\n",
       "max       1.000000    65.000000  79000.000000     6.000000           5.000000"
      ]
     },
     "metadata": {},
     "output_type": "display_data"
    },
    {
     "data": {
      "text/plain": [
       "'Первые 10 строк датафрейма:'"
      ]
     },
     "metadata": {},
     "output_type": "display_data"
    },
    {
     "data": {
      "text/html": [
       "<div>\n",
       "<style scoped>\n",
       "    .dataframe tbody tr th:only-of-type {\n",
       "        vertical-align: middle;\n",
       "    }\n",
       "\n",
       "    .dataframe tbody tr th {\n",
       "        vertical-align: top;\n",
       "    }\n",
       "\n",
       "    .dataframe thead th {\n",
       "        text-align: right;\n",
       "    }\n",
       "</style>\n",
       "<table border=\"1\" class=\"dataframe\">\n",
       "  <thead>\n",
       "    <tr style=\"text-align: right;\">\n",
       "      <th></th>\n",
       "      <th>Пол</th>\n",
       "      <th>Возраст</th>\n",
       "      <th>Зарплата</th>\n",
       "      <th>Члены семьи</th>\n",
       "      <th>Страховые выплаты</th>\n",
       "    </tr>\n",
       "  </thead>\n",
       "  <tbody>\n",
       "    <tr>\n",
       "      <th>0</th>\n",
       "      <td>1</td>\n",
       "      <td>41.0</td>\n",
       "      <td>49600.0</td>\n",
       "      <td>1</td>\n",
       "      <td>0</td>\n",
       "    </tr>\n",
       "    <tr>\n",
       "      <th>1</th>\n",
       "      <td>0</td>\n",
       "      <td>46.0</td>\n",
       "      <td>38000.0</td>\n",
       "      <td>1</td>\n",
       "      <td>1</td>\n",
       "    </tr>\n",
       "    <tr>\n",
       "      <th>2</th>\n",
       "      <td>0</td>\n",
       "      <td>29.0</td>\n",
       "      <td>21000.0</td>\n",
       "      <td>0</td>\n",
       "      <td>0</td>\n",
       "    </tr>\n",
       "    <tr>\n",
       "      <th>3</th>\n",
       "      <td>0</td>\n",
       "      <td>21.0</td>\n",
       "      <td>41700.0</td>\n",
       "      <td>2</td>\n",
       "      <td>0</td>\n",
       "    </tr>\n",
       "    <tr>\n",
       "      <th>4</th>\n",
       "      <td>1</td>\n",
       "      <td>28.0</td>\n",
       "      <td>26100.0</td>\n",
       "      <td>0</td>\n",
       "      <td>0</td>\n",
       "    </tr>\n",
       "    <tr>\n",
       "      <th>5</th>\n",
       "      <td>1</td>\n",
       "      <td>43.0</td>\n",
       "      <td>41000.0</td>\n",
       "      <td>2</td>\n",
       "      <td>1</td>\n",
       "    </tr>\n",
       "    <tr>\n",
       "      <th>6</th>\n",
       "      <td>1</td>\n",
       "      <td>39.0</td>\n",
       "      <td>39700.0</td>\n",
       "      <td>2</td>\n",
       "      <td>0</td>\n",
       "    </tr>\n",
       "    <tr>\n",
       "      <th>7</th>\n",
       "      <td>1</td>\n",
       "      <td>25.0</td>\n",
       "      <td>38600.0</td>\n",
       "      <td>4</td>\n",
       "      <td>0</td>\n",
       "    </tr>\n",
       "    <tr>\n",
       "      <th>8</th>\n",
       "      <td>1</td>\n",
       "      <td>36.0</td>\n",
       "      <td>49700.0</td>\n",
       "      <td>1</td>\n",
       "      <td>0</td>\n",
       "    </tr>\n",
       "    <tr>\n",
       "      <th>9</th>\n",
       "      <td>1</td>\n",
       "      <td>32.0</td>\n",
       "      <td>51700.0</td>\n",
       "      <td>1</td>\n",
       "      <td>0</td>\n",
       "    </tr>\n",
       "  </tbody>\n",
       "</table>\n",
       "</div>"
      ],
      "text/plain": [
       "   Пол  Возраст  Зарплата  Члены семьи  Страховые выплаты\n",
       "0    1     41.0   49600.0            1                  0\n",
       "1    0     46.0   38000.0            1                  1\n",
       "2    0     29.0   21000.0            0                  0\n",
       "3    0     21.0   41700.0            2                  0\n",
       "4    1     28.0   26100.0            0                  0\n",
       "5    1     43.0   41000.0            2                  1\n",
       "6    1     39.0   39700.0            2                  0\n",
       "7    1     25.0   38600.0            4                  0\n",
       "8    1     36.0   49700.0            1                  0\n",
       "9    1     32.0   51700.0            1                  0"
      ]
     },
     "metadata": {},
     "output_type": "display_data"
    },
    {
     "data": {
      "text/plain": [
       "'Кол-во пропусков'"
      ]
     },
     "metadata": {},
     "output_type": "display_data"
    },
    {
     "data": {
      "text/plain": [
       "Series([], dtype: int64)"
      ]
     },
     "metadata": {},
     "output_type": "display_data"
    },
    {
     "data": {
      "text/plain": [
       "'Кол-во дубликатов'"
      ]
     },
     "metadata": {},
     "output_type": "display_data"
    },
    {
     "data": {
      "text/plain": [
       "array([153])"
      ]
     },
     "metadata": {},
     "output_type": "display_data"
    },
    {
     "data": {
      "text/html": [
       "<style  type=\"text/css\" >\n",
       "#T_fa93d_row0_col0,#T_fa93d_row1_col1,#T_fa93d_row2_col2,#T_fa93d_row3_col3,#T_fa93d_row4_col4{\n",
       "            background-color:  #b40426;\n",
       "            color:  #f1f1f1;\n",
       "        }#T_fa93d_row0_col1,#T_fa93d_row2_col4{\n",
       "            background-color:  #4055c8;\n",
       "            color:  #f1f1f1;\n",
       "        }#T_fa93d_row0_col2,#T_fa93d_row0_col4{\n",
       "            background-color:  #485fd1;\n",
       "            color:  #f1f1f1;\n",
       "        }#T_fa93d_row0_col3,#T_fa93d_row2_col0{\n",
       "            background-color:  #4257c9;\n",
       "            color:  #f1f1f1;\n",
       "        }#T_fa93d_row1_col0,#T_fa93d_row1_col2{\n",
       "            background-color:  #3d50c3;\n",
       "            color:  #f1f1f1;\n",
       "        }#T_fa93d_row1_col3{\n",
       "            background-color:  #4358cb;\n",
       "            color:  #f1f1f1;\n",
       "        }#T_fa93d_row1_col4{\n",
       "            background-color:  #f7b99e;\n",
       "            color:  #000000;\n",
       "        }#T_fa93d_row2_col1,#T_fa93d_row3_col0,#T_fa93d_row3_col2,#T_fa93d_row3_col4,#T_fa93d_row4_col3{\n",
       "            background-color:  #3b4cc0;\n",
       "            color:  #f1f1f1;\n",
       "        }#T_fa93d_row2_col3{\n",
       "            background-color:  #3c4ec2;\n",
       "            color:  #f1f1f1;\n",
       "        }#T_fa93d_row3_col1,#T_fa93d_row4_col2{\n",
       "            background-color:  #3e51c5;\n",
       "            color:  #f1f1f1;\n",
       "        }#T_fa93d_row4_col0{\n",
       "            background-color:  #3f53c6;\n",
       "            color:  #f1f1f1;\n",
       "        }#T_fa93d_row4_col1{\n",
       "            background-color:  #f7ba9f;\n",
       "            color:  #000000;\n",
       "        }</style><table id=\"T_fa93d_\" ><thead>    <tr>        <th class=\"blank level0\" ></th>        <th class=\"col_heading level0 col0\" >Пол</th>        <th class=\"col_heading level0 col1\" >Возраст</th>        <th class=\"col_heading level0 col2\" >Зарплата</th>        <th class=\"col_heading level0 col3\" >Члены семьи</th>        <th class=\"col_heading level0 col4\" >Страховые выплаты</th>    </tr></thead><tbody>\n",
       "                <tr>\n",
       "                        <th id=\"T_fa93d_level0_row0\" class=\"row_heading level0 row0\" >Пол</th>\n",
       "                        <td id=\"T_fa93d_row0_col0\" class=\"data row0 col0\" >1.000000</td>\n",
       "                        <td id=\"T_fa93d_row0_col1\" class=\"data row0 col1\" >0.002074</td>\n",
       "                        <td id=\"T_fa93d_row0_col2\" class=\"data row0 col2\" >0.014910</td>\n",
       "                        <td id=\"T_fa93d_row0_col3\" class=\"data row0 col3\" >-0.008991</td>\n",
       "                        <td id=\"T_fa93d_row0_col4\" class=\"data row0 col4\" >0.010140</td>\n",
       "            </tr>\n",
       "            <tr>\n",
       "                        <th id=\"T_fa93d_level0_row1\" class=\"row_heading level0 row1\" >Возраст</th>\n",
       "                        <td id=\"T_fa93d_row1_col0\" class=\"data row1 col0\" >0.002074</td>\n",
       "                        <td id=\"T_fa93d_row1_col1\" class=\"data row1 col1\" >1.000000</td>\n",
       "                        <td id=\"T_fa93d_row1_col2\" class=\"data row1 col2\" >-0.019093</td>\n",
       "                        <td id=\"T_fa93d_row1_col3\" class=\"data row1 col3\" >-0.006692</td>\n",
       "                        <td id=\"T_fa93d_row1_col4\" class=\"data row1 col4\" >0.651030</td>\n",
       "            </tr>\n",
       "            <tr>\n",
       "                        <th id=\"T_fa93d_level0_row2\" class=\"row_heading level0 row2\" >Зарплата</th>\n",
       "                        <td id=\"T_fa93d_row2_col0\" class=\"data row2 col0\" >0.014910</td>\n",
       "                        <td id=\"T_fa93d_row2_col1\" class=\"data row2 col1\" >-0.019093</td>\n",
       "                        <td id=\"T_fa93d_row2_col2\" class=\"data row2 col2\" >1.000000</td>\n",
       "                        <td id=\"T_fa93d_row2_col3\" class=\"data row2 col3\" >-0.030296</td>\n",
       "                        <td id=\"T_fa93d_row2_col4\" class=\"data row2 col4\" >-0.014963</td>\n",
       "            </tr>\n",
       "            <tr>\n",
       "                        <th id=\"T_fa93d_level0_row3\" class=\"row_heading level0 row3\" >Члены семьи</th>\n",
       "                        <td id=\"T_fa93d_row3_col0\" class=\"data row3 col0\" >-0.008991</td>\n",
       "                        <td id=\"T_fa93d_row3_col1\" class=\"data row3 col1\" >-0.006692</td>\n",
       "                        <td id=\"T_fa93d_row3_col2\" class=\"data row3 col2\" >-0.030296</td>\n",
       "                        <td id=\"T_fa93d_row3_col3\" class=\"data row3 col3\" >1.000000</td>\n",
       "                        <td id=\"T_fa93d_row3_col4\" class=\"data row3 col4\" >-0.036290</td>\n",
       "            </tr>\n",
       "            <tr>\n",
       "                        <th id=\"T_fa93d_level0_row4\" class=\"row_heading level0 row4\" >Страховые выплаты</th>\n",
       "                        <td id=\"T_fa93d_row4_col0\" class=\"data row4 col0\" >0.010140</td>\n",
       "                        <td id=\"T_fa93d_row4_col1\" class=\"data row4 col1\" >0.651030</td>\n",
       "                        <td id=\"T_fa93d_row4_col2\" class=\"data row4 col2\" >-0.014963</td>\n",
       "                        <td id=\"T_fa93d_row4_col3\" class=\"data row4 col3\" >-0.036290</td>\n",
       "                        <td id=\"T_fa93d_row4_col4\" class=\"data row4 col4\" >1.000000</td>\n",
       "            </tr>\n",
       "    </tbody></table>"
      ],
      "text/plain": [
       "<pandas.io.formats.style.Styler at 0x7f8dd74f2e50>"
      ]
     },
     "metadata": {},
     "output_type": "display_data"
    },
    {
     "data": {
      "text/plain": [
       "'Гистограммы данных'"
      ]
     },
     "metadata": {},
     "output_type": "display_data"
    },
    {
     "data": {
      "image/png": "[encoded data removed]",
      "text/plain": [
       "<Figure size 720x936 with 6 Axes>"
      ]
     },
     "metadata": {
      "needs_background": "light"
     },
     "output_type": "display_data"
    }
   ],
   "source": [
    "analyze_df(df)"
   ]
  },
  {
   "cell_type": "code",
   "execution_count": 7,
   "metadata": {},
   "outputs": [
    {
     "data": {
      "text/plain": [
       "0"
      ]
     },
     "execution_count": 7,
     "metadata": {},
     "output_type": "execute_result"
    }
   ],
   "source": [
    "# Удаляем дубликаты\n",
    "df.drop_duplicates(inplace=True)\n",
    "df = df.reset_index(drop=True)\n",
    "# Проверяем\n",
    "df.duplicated().sum()"
   ]
  },
  {
   "cell_type": "markdown",
   "metadata": {},
   "source": [
    "### Вывод о EDA\n",
    "Было удалено 153 дубликата.\\\n",
    "Распределение значений близко к нормальному.\\\n",
    "Больших значений корреляции замечено не было."
   ]
  },
  {
   "cell_type": "markdown",
   "metadata": {},
   "source": [
    "## Умножение матриц"
   ]
  },
  {
   "cell_type": "markdown",
   "metadata": {},
   "source": [
    "В этом задании вы можете записывать формулы в *Jupyter Notebook.*\n",
    "\n",
    "Чтобы записать формулу внутри текста, окружите её символами доллара \\\\$; если снаружи —  двойными символами \\\\$\\\\$. Эти формулы записываются на языке вёрстки *LaTeX.* \n",
    "\n",
    "Для примера мы записали формулы линейной регрессии. Можете их скопировать и отредактировать, чтобы решить задачу.\n",
    "\n",
    "Работать в *LaTeX* необязательно."
   ]
  },
  {
   "cell_type": "markdown",
   "metadata": {},
   "source": [
    "Обозначения:\n",
    "\n",
    "- $X$ — матрица признаков (нулевой столбец состоит из единиц)\n",
    "\n",
    "- $y$ — вектор целевого признака\n",
    "\n",
    "- $P$ — матрица, на которую умножаются признаки\n",
    "\n",
    "- $w$ — вектор весов линейной регрессии (нулевой элемент равен сдвигу)"
   ]
  },
  {
   "cell_type": "markdown",
   "metadata": {},
   "source": [
    "Предсказания:\n",
    "\n",
    "$$\n",
    "a = Xw\n",
    "$$\n",
    "\n",
    "Задача обучения:\n",
    "\n",
    "$$\n",
    "w = \\arg\\min_w MSE(Xw, y)\n",
    "$$\n",
    "\n",
    "Формула обучения:\n",
    "\n",
    "$$\n",
    "w = (X^T X)^{-1} X^T y\n",
    "$$"
   ]
  },
  {
   "cell_type": "markdown",
   "metadata": {},
   "source": [
    "**Ответ:** : При умножении признаков на обратимую матрицу, качество Линейной регрессии не изменится при условии, что матрица квадратная (т.е соответствует размерности вектора).\n",
    "\n",
    "**Теоретическое обоснование:**  Касаемо теоретического обоснования: Признаки умножаются на обратимую матрицу как линейное преобразование. Линейная регрессия является линейной моделью, что означает, что она предполагает линейные комбинации признаков и линейные преобразования над ними для прогнозирования целевой переменной."
   ]
  },
  {
   "cell_type": "markdown",
   "metadata": {},
   "source": [
    "**Математическое обоснование:**\n",
    "\n",
    "Используемые свойства:\n",
    "$$\n",
    "(AB)^T=B^T A^T\n",
    "$$\n",
    "$$\n",
    "(AB)^{-1} = B^{-1} A^{-1}\n",
    "$$\n",
    "$$\n",
    "A A^{-1} = A^{-1} A = E\n",
    "$$\n",
    "$$\n",
    "AE = EA = A\n",
    "$$\n",
    "Доказательство:\n",
    "$$\n",
    "a = Xw = XEw = XPP^{-1}w = (XP)P^{-1}w = (XP)w'\n",
    "$$\n",
    "\\\n",
    "Требуется доказать, что предсказания не изменятся, имеем  $a =  Xw$,   $a' = X'w'$\n",
    "\\\n",
    "\\\n",
    "$$\n",
    "    w = (X^T X)^{-1} X^T y\n",
    "$$\n",
    "\\\n",
    "$$\n",
    "w' = ((XP)^T XP)^{-1} (XP)^T y\n",
    "$$\n",
    "$$\n",
    "w' = (P^T (X^T X) P)^{-1} (XP)^T y\n",
    "$$\n",
    "$$\n",
    "w' = (P^T (X^T X) P)^{-1} P^T X^T y\n",
    "$$\n",
    "Раскрываем скобки и упрощаем выражение\n",
    "$$\n",
    "w' = ((XP)^{T}(XP))^{−1}(XP)^{T}y\n",
    "$$\n",
    "$$\n",
    "w' = (P^T X^T XP )^{−1}P^{T}X^{T}y\n",
    "$$\n",
    "$$\n",
    "w' = (P^T(X^T X)P)^{−1}P^{T}X^{T}y\n",
    "$$\n",
    "$$\n",
    "w' = P^{−1}(P^T(X^T X))^{−1}P^{T}X^{T}y\n",
    "$$\n",
    "$$\n",
    "w' = P^{−1}(X^T X)^{−1}(P^T)^{−1}P^{T}X^{T}y\n",
    "$$\n",
    "$$\n",
    "w' = P^{−1}(X^T X)^{−1}EX^{T}y\n",
    "$$\n",
    "$$\n",
    "w' = P^{−1}(X^T X)^{−1}X^{T}y\n",
    "$$\n",
    "Формула нахождения весов линейной регрессии после перемножения матрицы А на обратимую матрицу.\\\n",
    "Получается, что веса в преобразованной задаче = весам исходной задачи умноженные на матрицу обратную той, на которую мы умножали признаки.\\\n",
    "Связь между параметрами линейной регрессии в исходной задаче и в преобразованной:\n",
    "$$\n",
    "w' = P^{−1}w\n",
    "$$\n",
    "Подставим значения признаков X' и весов w':\n",
    "$$\n",
    "a'=XPP^{−1}(X^T X)^{−1}X^{T}y \n",
    "$$\n",
    "$$\n",
    "a'=XE(X^T X)^{−1}X^{T}y\n",
    "$$\n",
    "$$\n",
    "a'=X(X^T X)^{−1}X^{T}y\n",
    "$$\n",
    "$$\n",
    "a'=X'=a\n",
    "$$"
   ]
  },
  {
   "cell_type": "markdown",
   "metadata": {},
   "source": [
    "## Алгоритм преобразования"
   ]
  },
  {
   "cell_type": "markdown",
   "metadata": {},
   "source": [
    "**Алгоритм**\n",
    "\n",
    "Для преобразования данных юудет использован следующий алгоритм:\n",
    "\n",
    "- Разделим данные на признаки и целевой признак.\n",
    "- Создадим рандомизированную квадратную матрицу, ширина которой будет равняться количеству признаков.\n",
    "- Проверим матрицу на обратимость. Если необратима - зададим другие параметры рандомизации.\n",
    "- Преобразуем признаки, умножив их на матрицу и сохраним их в новой переменной - зашифрованной таблице.\n",
    "- Сохраним обратную матрицу, чтобы была возможность дешифровать признаки.\n",
    "- Разделим изначальный датасет и зашифрованный на тестовую и тренировочную выборку.\n",
    "- Проверим метрики. Если не отличаются - задача выполнена.\n",
    "\n",
    "(Это реализовано в функции coding в начале блокнота)"
   ]
  },
  {
   "cell_type": "markdown",
   "metadata": {},
   "source": [
    "**Обоснование**\n",
    "\n",
    "На основании полученной ранее формулы, где предсказания $a$ равны $a'$, при умножении матрицы признаков на обратимую матрицу, метрики качества не изменятся, так как будут использоывны только линейные операции."
   ]
  },
  {
   "cell_type": "markdown",
   "metadata": {},
   "source": [
    "## Проверка алгоритма"
   ]
  },
  {
   "cell_type": "code",
   "execution_count": 8,
   "metadata": {},
   "outputs": [
    {
     "data": {
      "text/html": [
       "<div>\n",
       "<style scoped>\n",
       "    .dataframe tbody tr th:only-of-type {\n",
       "        vertical-align: middle;\n",
       "    }\n",
       "\n",
       "    .dataframe tbody tr th {\n",
       "        vertical-align: top;\n",
       "    }\n",
       "\n",
       "    .dataframe thead th {\n",
       "        text-align: right;\n",
       "    }\n",
       "</style>\n",
       "<table border=\"1\" class=\"dataframe\">\n",
       "  <thead>\n",
       "    <tr style=\"text-align: right;\">\n",
       "      <th></th>\n",
       "      <th>Пол</th>\n",
       "      <th>Возраст</th>\n",
       "      <th>Зарплата</th>\n",
       "      <th>Члены семьи</th>\n",
       "    </tr>\n",
       "  </thead>\n",
       "  <tbody>\n",
       "    <tr>\n",
       "      <th>0</th>\n",
       "      <td>27099671.0</td>\n",
       "      <td>26851825.0</td>\n",
       "      <td>38159001.0</td>\n",
       "      <td>5867671.0</td>\n",
       "    </tr>\n",
       "    <tr>\n",
       "      <th>1</th>\n",
       "      <td>20767689.0</td>\n",
       "      <td>20577865.0</td>\n",
       "      <td>29240226.0</td>\n",
       "      <td>4500527.0</td>\n",
       "    </tr>\n",
       "    <tr>\n",
       "      <th>2</th>\n",
       "      <td>11478180.0</td>\n",
       "      <td>11373325.0</td>\n",
       "      <td>16160078.0</td>\n",
       "      <td>2488353.0</td>\n",
       "    </tr>\n",
       "    <tr>\n",
       "      <th>3</th>\n",
       "      <td>22777758.0</td>\n",
       "      <td>22569255.0</td>\n",
       "      <td>32076630.0</td>\n",
       "      <td>4928307.0</td>\n",
       "    </tr>\n",
       "    <tr>\n",
       "      <th>4</th>\n",
       "      <td>14262842.0</td>\n",
       "      <td>14132485.0</td>\n",
       "      <td>20081881.0</td>\n",
       "      <td>3089925.0</td>\n",
       "    </tr>\n",
       "    <tr>\n",
       "      <th>...</th>\n",
       "      <td>...</td>\n",
       "      <td>...</td>\n",
       "      <td>...</td>\n",
       "      <td>...</td>\n",
       "    </tr>\n",
       "    <tr>\n",
       "      <th>4842</th>\n",
       "      <td>19504698.0</td>\n",
       "      <td>19326230.0</td>\n",
       "      <td>27465304.0</td>\n",
       "      <td>4222806.0</td>\n",
       "    </tr>\n",
       "    <tr>\n",
       "      <th>4843</th>\n",
       "      <td>28625049.0</td>\n",
       "      <td>28363165.0</td>\n",
       "      <td>40309242.0</td>\n",
       "      <td>6195443.0</td>\n",
       "    </tr>\n",
       "    <tr>\n",
       "      <th>4844</th>\n",
       "      <td>18518538.0</td>\n",
       "      <td>18349030.0</td>\n",
       "      <td>26078048.0</td>\n",
       "      <td>4007550.0</td>\n",
       "    </tr>\n",
       "    <tr>\n",
       "      <th>4845</th>\n",
       "      <td>17865029.0</td>\n",
       "      <td>17701480.0</td>\n",
       "      <td>25156951.0</td>\n",
       "      <td>3866898.0</td>\n",
       "    </tr>\n",
       "    <tr>\n",
       "      <th>4846</th>\n",
       "      <td>22180211.0</td>\n",
       "      <td>21977300.0</td>\n",
       "      <td>31233035.0</td>\n",
       "      <td>4801030.0</td>\n",
       "    </tr>\n",
       "  </tbody>\n",
       "</table>\n",
       "<p>4847 rows × 4 columns</p>\n",
       "</div>"
      ],
      "text/plain": [
       "             Пол     Возраст    Зарплата  Члены семьи\n",
       "0     27099671.0  26851825.0  38159001.0    5867671.0\n",
       "1     20767689.0  20577865.0  29240226.0    4500527.0\n",
       "2     11478180.0  11373325.0  16160078.0    2488353.0\n",
       "3     22777758.0  22569255.0  32076630.0    4928307.0\n",
       "4     14262842.0  14132485.0  20081881.0    3089925.0\n",
       "...          ...         ...         ...          ...\n",
       "4842  19504698.0  19326230.0  27465304.0    4222806.0\n",
       "4843  28625049.0  28363165.0  40309242.0    6195443.0\n",
       "4844  18518538.0  18349030.0  26078048.0    4007550.0\n",
       "4845  17865029.0  17701480.0  25156951.0    3866898.0\n",
       "4846  22180211.0  21977300.0  31233035.0    4801030.0\n",
       "\n",
       "[4847 rows x 4 columns]"
      ]
     },
     "execution_count": 8,
     "metadata": {},
     "output_type": "execute_result"
    }
   ],
   "source": [
    "# Разделим дата-сет на признаки и целевой признак\n",
    "features = df.drop('Страховые выплаты', axis=1)\n",
    "target = df['Страховые выплаты']\n",
    "\n",
    "features_encoded, encode_key = coding(features)\n",
    "\n",
    "# Проверим шифрование\n",
    "features_encoded"
   ]
  },
  {
   "cell_type": "code",
   "execution_count": 9,
   "metadata": {},
   "outputs": [
    {
     "name": "stdout",
     "output_type": "stream",
     "text": [
      "Метрика R2 на тренировочной выборке: 0.43335 \n",
      " Метрика R2 на тестовой выборке: 0.41605\n"
     ]
    }
   ],
   "source": [
    "regr_metrics(features, target)"
   ]
  },
  {
   "cell_type": "code",
   "execution_count": 10,
   "metadata": {},
   "outputs": [
    {
     "name": "stdout",
     "output_type": "stream",
     "text": [
      "Метрика R2 на тренировочной выборке: 0.43335 \n",
      " Метрика R2 на тестовой выборке: 0.41605\n"
     ]
    }
   ],
   "source": [
    "regr_metrics(features_encoded, target)"
   ]
  },
  {
   "cell_type": "markdown",
   "metadata": {},
   "source": [
    "## Чек-лист проверки"
   ]
  },
  {
   "cell_type": "markdown",
   "metadata": {},
   "source": [
    "Поставьте 'x' в выполненных пунктах. Далее нажмите Shift+Enter."
   ]
  },
  {
   "cell_type": "markdown",
   "metadata": {},
   "source": [
    "- [x]  Jupyter Notebook открыт\n",
    "- [x]  Весь код выполняется без ошибок\n",
    "- [x]  Ячейки с кодом расположены в порядке исполнения\n",
    "- [x]  Выполнен шаг 1: данные загружены\n",
    "- [x]  Выполнен шаг 2: получен ответ на вопрос об умножении матриц\n",
    "    - [x]  Указан правильный вариант ответа\n",
    "    - [x]  Вариант обоснован\n",
    "- [x]  Выполнен шаг 3: предложен алгоритм преобразования\n",
    "    - [x]  Алгоритм описан\n",
    "    - [x]  Алгоритм обоснован\n",
    "- [x]  Выполнен шаг 4: алгоритм проверен\n",
    "    - [x]  Алгоритм реализован\n",
    "    - [x]  Проведено сравнение качества моделей до и после преобразования"
   ]
  }
 ],
 "metadata": {
  "ExecuteTimeLog": [
   {
    "duration": 1629,
    "start_time": "2023-05-06T13:32:03.293Z"
   },
   {
    "duration": 90,
    "start_time": "2023-05-06T13:35:20.704Z"
   },
   {
    "duration": 9,
    "start_time": "2023-05-08T16:01:14.048Z"
   },
   {
    "duration": 1478,
    "start_time": "2023-05-08T16:01:14.059Z"
   },
   {
    "duration": 89,
    "start_time": "2023-05-08T16:01:15.539Z"
   },
   {
    "duration": 97,
    "start_time": "2023-05-08T19:35:53.432Z"
   },
   {
    "duration": 4,
    "start_time": "2023-05-08T19:37:22.972Z"
   },
   {
    "duration": 10,
    "start_time": "2023-05-08T19:37:30.322Z"
   },
   {
    "duration": 38,
    "start_time": "2023-05-08T19:37:30.333Z"
   },
   {
    "duration": 1300,
    "start_time": "2023-05-08T19:37:30.373Z"
   },
   {
    "duration": 26,
    "start_time": "2023-05-08T19:37:31.675Z"
   },
   {
    "duration": 120,
    "start_time": "2023-05-08T19:37:31.702Z"
   },
   {
    "duration": 9,
    "start_time": "2023-05-08T19:44:21.331Z"
   },
   {
    "duration": 21,
    "start_time": "2023-05-08T19:44:21.341Z"
   },
   {
    "duration": 1285,
    "start_time": "2023-05-08T19:44:21.363Z"
   },
   {
    "duration": 26,
    "start_time": "2023-05-08T19:44:22.650Z"
   },
   {
    "duration": 671,
    "start_time": "2023-05-08T19:44:22.677Z"
   },
   {
    "duration": 10,
    "start_time": "2023-05-08T19:45:10.945Z"
   },
   {
    "duration": 12,
    "start_time": "2023-05-08T19:45:10.956Z"
   },
   {
    "duration": 1325,
    "start_time": "2023-05-08T19:45:10.969Z"
   },
   {
    "duration": 24,
    "start_time": "2023-05-08T19:45:12.296Z"
   },
   {
    "duration": 857,
    "start_time": "2023-05-08T19:45:12.322Z"
   },
   {
    "duration": 10,
    "start_time": "2023-05-10T09:10:53.666Z"
   },
   {
    "duration": 52,
    "start_time": "2023-05-10T09:10:53.677Z"
   },
   {
    "duration": 1655,
    "start_time": "2023-05-10T09:10:53.731Z"
   },
   {
    "duration": 89,
    "start_time": "2023-05-10T09:10:55.388Z"
   },
   {
    "duration": 868,
    "start_time": "2023-05-10T09:10:55.479Z"
   },
   {
    "duration": 114,
    "start_time": "2023-05-10T09:14:19.445Z"
   },
   {
    "duration": 7,
    "start_time": "2023-05-10T09:14:54.837Z"
   },
   {
    "duration": 12,
    "start_time": "2023-05-10T09:15:01.963Z"
   },
   {
    "duration": 46,
    "start_time": "2023-05-10T09:15:01.977Z"
   },
   {
    "duration": 2017,
    "start_time": "2023-05-10T09:15:02.024Z"
   },
   {
    "duration": 33,
    "start_time": "2023-05-10T09:15:04.044Z"
   },
   {
    "duration": 917,
    "start_time": "2023-05-10T09:15:04.079Z"
   },
   {
    "duration": 7,
    "start_time": "2023-05-10T09:15:04.998Z"
   },
   {
    "duration": 13,
    "start_time": "2023-05-10T09:15:37.999Z"
   },
   {
    "duration": 17,
    "start_time": "2023-05-10T09:16:04.897Z"
   }
  ],
  "kernelspec": {
   "display_name": "Python 3 (ipykernel)",
   "language": "python",
   "name": "python3"
  },
  "language_info": {
   "codemirror_mode": {
    "name": "ipython",
    "version": 3
   },
   "file_extension": ".py",
   "mimetype": "text/x-python",
   "name": "python",
   "nbconvert_exporter": "python",
   "pygments_lexer": "ipython3",
   "version": "3.9.5"
  },
  "toc": {
   "base_numbering": 1,
   "nav_menu": {},
   "number_sections": true,
   "sideBar": true,
   "skip_h1_title": true,
   "title_cell": "Содержание",
   "title_sidebar": "Contents",
   "toc_cell": true,
   "toc_position": {},
   "toc_section_display": true,
   "toc_window_display": true
  }
 },
 "nbformat": 4,
 "nbformat_minor": 2
}
