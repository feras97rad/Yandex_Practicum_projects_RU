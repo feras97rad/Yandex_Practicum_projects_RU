{
 "cells": [
  {
   "cell_type": "markdown",
   "metadata": {
    "deletable": false,
    "editable": false,
    "id": "E0vqbgi9ay0H"
   },
   "source": [
    "# Яндекс Музыка"
   ]
  },
  {
   "cell_type": "markdown",
   "metadata": {
    "deletable": false,
    "editable": false,
    "id": "VUC88oWjTJw2"
   },
   "source": [
    "Сравнение Москвы и Петербурга окружено мифами. Например:\n",
    " * Москва — мегаполис, подчинённый жёсткому ритму рабочей недели;\n",
    " * Петербург — культурная столица, со своими вкусами.\n",
    "\n",
    "На данных Яндекс Музыки вы сравните поведение пользователей двух столиц.\n",
    "\n",
    "**Цель исследования** — проверьте три гипотезы:\n",
    "1. Активность пользователей зависит от дня недели. Причём в Москве и Петербурге это проявляется по-разному.\n",
    "2. В понедельник утром в Москве преобладают одни жанры, а в Петербурге — другие. Так же и вечером пятницы преобладают разные жанры — в зависимости от города. \n",
    "3. Москва и Петербург предпочитают разные жанры музыки. В Москве чаще слушают поп-музыку, в Петербурге — русский рэп.\n",
    "\n",
    "**Ход исследования**\n",
    "\n",
    "Данные о поведении пользователей вы получите из файла `yandex_music_project.csv`. О качестве данных ничего не известно. Поэтому перед проверкой гипотез понадобится обзор данных. \n",
    "\n",
    "Вы проверите данные на ошибки и оцените их влияние на исследование. Затем, на этапе предобработки вы поищете возможность исправить самые критичные ошибки данных.\n",
    " \n",
    "Таким образом, исследование пройдёт в три этапа:\n",
    " 1. Обзор данных.\n",
    " 2. Предобработка данных.\n",
    " 3. Проверка гипотез.\n",
    "\n"
   ]
  },
  {
   "cell_type": "markdown",
   "metadata": {
    "deletable": false,
    "editable": false,
    "id": "Ml1hmfXC_Zcs"
   },
   "source": [
    "## Обзор данных\n",
    "\n",
    "Составьте первое представление о данных Яндекс Музыки.\n",
    "\n",
    "\n"
   ]
  },
  {
   "cell_type": "markdown",
   "metadata": {
    "deletable": false,
    "editable": false,
    "id": "57eAOGIz_Zcs",
    "tags": [
     "start_task"
    ]
   },
   "source": [
    "**Задание 1**\n",
    "\n",
    "Основной инструмент аналитика — `pandas`. Импортируйте эту библиотеку."
   ]
  },
  {
   "cell_type": "code",
   "execution_count": 1,
   "metadata": {
    "deletable": false,
    "id": "AXN7PHPN_Zcs"
   },
   "outputs": [],
   "source": [
    "# импорт библиотеки pandas\n",
    "import pandas as pd"
   ]
  },
  {
   "cell_type": "markdown",
   "metadata": {
    "deletable": false,
    "editable": false,
    "id": "SG23P8tt_Zcs",
    "tags": [
     "start_task"
    ]
   },
   "source": [
    "**Задание 2**\n",
    "\n",
    "Прочитайте файл `yandex_music_project.csv` из папки `/datasets` и сохраните его в переменной `df`:"
   ]
  },
  {
   "cell_type": "code",
   "execution_count": 2,
   "metadata": {
    "deletable": false,
    "id": "fFVu7vqh_Zct"
   },
   "outputs": [],
   "source": [
    "# чтение файла с данными и сохранение в df\n",
    "df = pd.read_csv('/datasets/yandex_music_project.csv')"
   ]
  },
  {
   "cell_type": "markdown",
   "metadata": {
    "deletable": false,
    "editable": false,
    "id": "rDoOMd3uTqnZ",
    "tags": [
     "start_task"
    ]
   },
   "source": [
    "**Задание 3**\n",
    "\n",
    "\n",
    "Выведите на экран первые десять строк таблицы:"
   ]
  },
  {
   "cell_type": "code",
   "execution_count": 3,
   "metadata": {
    "deletable": false,
    "id": "oWTVX3gW_Zct"
   },
   "outputs": [
    {
     "data": {
      "text/html": [
       "<div>\n",
       "<style scoped>\n",
       "    .dataframe tbody tr th:only-of-type {\n",
       "        vertical-align: middle;\n",
       "    }\n",
       "\n",
       "    .dataframe tbody tr th {\n",
       "        vertical-align: top;\n",
       "    }\n",
       "\n",
       "    .dataframe thead th {\n",
       "        text-align: right;\n",
       "    }\n",
       "</style>\n",
       "<table border=\"1\" class=\"dataframe\">\n",
       "  <thead>\n",
       "    <tr style=\"text-align: right;\">\n",
       "      <th></th>\n",
       "      <th>userID</th>\n",
       "      <th>Track</th>\n",
       "      <th>artist</th>\n",
       "      <th>genre</th>\n",
       "      <th>City</th>\n",
       "      <th>time</th>\n",
       "      <th>Day</th>\n",
       "    </tr>\n",
       "  </thead>\n",
       "  <tbody>\n",
       "    <tr>\n",
       "      <th>0</th>\n",
       "      <td>FFB692EC</td>\n",
       "      <td>Kamigata To Boots</td>\n",
       "      <td>The Mass Missile</td>\n",
       "      <td>rock</td>\n",
       "      <td>Saint-Petersburg</td>\n",
       "      <td>20:28:33</td>\n",
       "      <td>Wednesday</td>\n",
       "    </tr>\n",
       "    <tr>\n",
       "      <th>1</th>\n",
       "      <td>55204538</td>\n",
       "      <td>Delayed Because of Accident</td>\n",
       "      <td>Andreas Rönnberg</td>\n",
       "      <td>rock</td>\n",
       "      <td>Moscow</td>\n",
       "      <td>14:07:09</td>\n",
       "      <td>Friday</td>\n",
       "    </tr>\n",
       "    <tr>\n",
       "      <th>2</th>\n",
       "      <td>20EC38</td>\n",
       "      <td>Funiculì funiculà</td>\n",
       "      <td>Mario Lanza</td>\n",
       "      <td>pop</td>\n",
       "      <td>Saint-Petersburg</td>\n",
       "      <td>20:58:07</td>\n",
       "      <td>Wednesday</td>\n",
       "    </tr>\n",
       "    <tr>\n",
       "      <th>3</th>\n",
       "      <td>A3DD03C9</td>\n",
       "      <td>Dragons in the Sunset</td>\n",
       "      <td>Fire + Ice</td>\n",
       "      <td>folk</td>\n",
       "      <td>Saint-Petersburg</td>\n",
       "      <td>08:37:09</td>\n",
       "      <td>Monday</td>\n",
       "    </tr>\n",
       "    <tr>\n",
       "      <th>4</th>\n",
       "      <td>E2DC1FAE</td>\n",
       "      <td>Soul People</td>\n",
       "      <td>Space Echo</td>\n",
       "      <td>dance</td>\n",
       "      <td>Moscow</td>\n",
       "      <td>08:34:34</td>\n",
       "      <td>Monday</td>\n",
       "    </tr>\n",
       "    <tr>\n",
       "      <th>5</th>\n",
       "      <td>842029A1</td>\n",
       "      <td>Преданная</td>\n",
       "      <td>IMPERVTOR</td>\n",
       "      <td>rusrap</td>\n",
       "      <td>Saint-Petersburg</td>\n",
       "      <td>13:09:41</td>\n",
       "      <td>Friday</td>\n",
       "    </tr>\n",
       "    <tr>\n",
       "      <th>6</th>\n",
       "      <td>4CB90AA5</td>\n",
       "      <td>True</td>\n",
       "      <td>Roman Messer</td>\n",
       "      <td>dance</td>\n",
       "      <td>Moscow</td>\n",
       "      <td>13:00:07</td>\n",
       "      <td>Wednesday</td>\n",
       "    </tr>\n",
       "    <tr>\n",
       "      <th>7</th>\n",
       "      <td>F03E1C1F</td>\n",
       "      <td>Feeling This Way</td>\n",
       "      <td>Polina Griffith</td>\n",
       "      <td>dance</td>\n",
       "      <td>Moscow</td>\n",
       "      <td>20:47:49</td>\n",
       "      <td>Wednesday</td>\n",
       "    </tr>\n",
       "    <tr>\n",
       "      <th>8</th>\n",
       "      <td>8FA1D3BE</td>\n",
       "      <td>И вновь продолжается бой</td>\n",
       "      <td>NaN</td>\n",
       "      <td>ruspop</td>\n",
       "      <td>Moscow</td>\n",
       "      <td>09:17:40</td>\n",
       "      <td>Friday</td>\n",
       "    </tr>\n",
       "    <tr>\n",
       "      <th>9</th>\n",
       "      <td>E772D5C0</td>\n",
       "      <td>Pessimist</td>\n",
       "      <td>NaN</td>\n",
       "      <td>dance</td>\n",
       "      <td>Saint-Petersburg</td>\n",
       "      <td>21:20:49</td>\n",
       "      <td>Wednesday</td>\n",
       "    </tr>\n",
       "  </tbody>\n",
       "</table>\n",
       "</div>"
      ],
      "text/plain": [
       "     userID                        Track            artist   genre  \\\n",
       "0  FFB692EC            Kamigata To Boots  The Mass Missile    rock   \n",
       "1  55204538  Delayed Because of Accident  Andreas Rönnberg    rock   \n",
       "2    20EC38            Funiculì funiculà       Mario Lanza     pop   \n",
       "3  A3DD03C9        Dragons in the Sunset        Fire + Ice    folk   \n",
       "4  E2DC1FAE                  Soul People        Space Echo   dance   \n",
       "5  842029A1                    Преданная         IMPERVTOR  rusrap   \n",
       "6  4CB90AA5                         True      Roman Messer   dance   \n",
       "7  F03E1C1F             Feeling This Way   Polina Griffith   dance   \n",
       "8  8FA1D3BE     И вновь продолжается бой               NaN  ruspop   \n",
       "9  E772D5C0                    Pessimist               NaN   dance   \n",
       "\n",
       "             City        time        Day  \n",
       "0  Saint-Petersburg  20:28:33  Wednesday  \n",
       "1            Moscow  14:07:09     Friday  \n",
       "2  Saint-Petersburg  20:58:07  Wednesday  \n",
       "3  Saint-Petersburg  08:37:09     Monday  \n",
       "4            Moscow  08:34:34     Monday  \n",
       "5  Saint-Petersburg  13:09:41     Friday  \n",
       "6            Moscow  13:00:07  Wednesday  \n",
       "7            Moscow  20:47:49  Wednesday  \n",
       "8            Moscow  09:17:40     Friday  \n",
       "9  Saint-Petersburg  21:20:49  Wednesday  "
      ]
     },
     "execution_count": 3,
     "metadata": {},
     "output_type": "execute_result"
    }
   ],
   "source": [
    "# получение первых 10 строк таблицы df\n",
    "df.head(10)"
   ]
  },
  {
   "cell_type": "markdown",
   "metadata": {
    "deletable": false,
    "editable": false,
    "id": "EO73Kwic_Zct",
    "tags": [
     "start_task"
    ]
   },
   "source": [
    "**Задание 4**\n",
    "\n",
    "\n",
    "Одной командой получить общую информацию о таблице c помощью метода `info()`:"
   ]
  },
  {
   "cell_type": "code",
   "execution_count": 4,
   "metadata": {
    "deletable": false,
    "id": "DSf2kIb-_Zct"
   },
   "outputs": [
    {
     "name": "stdout",
     "output_type": "stream",
     "text": [
      "<class 'pandas.core.frame.DataFrame'>\n",
      "RangeIndex: 65079 entries, 0 to 65078\n",
      "Data columns (total 7 columns):\n",
      " #   Column    Non-Null Count  Dtype \n",
      "---  ------    --------------  ----- \n",
      " 0     userID  65079 non-null  object\n",
      " 1   Track     63848 non-null  object\n",
      " 2   artist    57876 non-null  object\n",
      " 3   genre     63881 non-null  object\n",
      " 4     City    65079 non-null  object\n",
      " 5   time      65079 non-null  object\n",
      " 6   Day       65079 non-null  object\n",
      "dtypes: object(7)\n",
      "memory usage: 3.5+ MB\n"
     ]
    }
   ],
   "source": [
    "# получение общей информации о данных в таблице df\n",
    "df.info()"
   ]
  },
  {
   "cell_type": "markdown",
   "metadata": {
    "deletable": false,
    "editable": false,
    "id": "TaQ2Iwbr_Zct"
   },
   "source": [
    "Итак, в таблице семь столбцов. Тип данных во всех столбцах — `object`.\n",
    "\n",
    "Согласно документации к данным:\n",
    "* `userID` — идентификатор пользователя;\n",
    "* `Track` — название трека;  \n",
    "* `artist` — имя исполнителя;\n",
    "* `genre` — название жанра;\n",
    "* `City` — город пользователя;\n",
    "* `time` — время начала прослушивания;\n",
    "* `Day` — день недели.\n",
    "\n",
    "Количество значений в столбцах различается. Значит, в данных есть пропущенные значения."
   ]
  },
  {
   "cell_type": "markdown",
   "metadata": {
    "deletable": false,
    "editable": false,
    "id": "rAfziTBDmf2h",
    "tags": [
     "start_task"
    ]
   },
   "source": [
    "**Задание 5**\n",
    "\n",
    "**Вопрос со свободной формой ответа**\n",
    "\n",
    "В названиях колонок видны нарушения стиля:\n",
    "* Строчные буквы сочетаются с прописными.\n",
    "* Встречаются пробелы.\n",
    "\n",
    "Какое третье нарушение?"
   ]
  },
  {
   "cell_type": "code",
   "execution_count": 5,
   "metadata": {
    "id": "jD8EXEIvmf2h"
   },
   "outputs": [],
   "source": [
    "# Напишите ваш ответ здесь комментарием. Не удаляйте символ #. Не меняйте тип этой ячейки на Markdown.\n",
    "# название колонки \"userID\" написано стилистически не верно. Верное название \"user_id\""
   ]
  },
  {
   "cell_type": "markdown",
   "metadata": {
    "deletable": false,
    "editable": false,
    "id": "MCB6-dXG_Zct"
   },
   "source": [
    "**Выводы**\n",
    "\n",
    "В каждой строке таблицы — данные о прослушанном треке. Часть колонок описывает саму композицию: название, исполнителя и жанр. Остальные данные рассказывают о пользователе: из какого он города, когда он слушал музыку. \n",
    "\n",
    "Предварительно можно утверждать, что данных достаточно для проверки гипотез. Но встречаются пропуски в данных, а в названиях колонок — расхождения с хорошим стилем.\n",
    "\n",
    "Чтобы двигаться дальше, нужно устранить проблемы в данных."
   ]
  },
  {
   "cell_type": "markdown",
   "metadata": {
    "deletable": false,
    "editable": false,
    "id": "SjYF6Ub9_Zct"
   },
   "source": [
    "## Предобработка данных\n",
    "Исправьте стиль в заголовках столбцов, исключите пропуски. Затем проверьте данные на дубликаты."
   ]
  },
  {
   "cell_type": "markdown",
   "metadata": {
    "deletable": false,
    "editable": false,
    "id": "dIaKXr29_Zct",
    "tags": [
     "start_task"
    ]
   },
   "source": [
    "### Стиль заголовков\n",
    "\n",
    "**Задание 6**\n",
    "\n",
    "Выведите на экран названия столбцов:"
   ]
  },
  {
   "cell_type": "code",
   "execution_count": 6,
   "metadata": {
    "deletable": false,
    "id": "oKOTdF_Q_Zct"
   },
   "outputs": [
    {
     "data": {
      "text/plain": [
       "Index(['  userID', 'Track', 'artist', 'genre', '  City  ', 'time', 'Day'], dtype='object')"
      ]
     },
     "execution_count": 6,
     "metadata": {},
     "output_type": "execute_result"
    }
   ],
   "source": [
    "# перечень названий столбцов таблицы df\n",
    "df.columns"
   ]
  },
  {
   "cell_type": "markdown",
   "metadata": {
    "deletable": false,
    "editable": false,
    "id": "zj5534cv_Zct",
    "tags": [
     "start_task"
    ]
   },
   "source": [
    "**Задание 7**\n",
    "\n",
    "\n",
    "Приведите названия в соответствие с хорошим стилем:\n",
    "* несколько слов в названии запишите в «змеином_регистре»,\n",
    "* все символы сделайте строчными,\n",
    "* устраните пробелы.\n",
    "\n",
    "Для этого переименуйте колонки так:\n",
    "* `'  userID'` → `'user_id'`;\n",
    "* `'Track'` → `'track'`;\n",
    "* `'  City  '` → `'city'`;\n",
    "* `'Day'` → `'day'`."
   ]
  },
  {
   "cell_type": "code",
   "execution_count": 7,
   "metadata": {
    "deletable": false,
    "id": "ISlFqs5y_Zct"
   },
   "outputs": [],
   "source": [
    "# переименование столбцов\n",
    "df = df.rename(columns={'  userID':'user_id','Track':'track','  City  ':'city', 'Day':'day'})"
   ]
  },
  {
   "cell_type": "markdown",
   "metadata": {
    "deletable": false,
    "editable": false,
    "id": "1dqbh00J_Zct",
    "tags": [
     "start_task"
    ]
   },
   "source": [
    "**Задание 8**\n",
    "\n",
    "\n",
    "Проверьте результат. Для этого ещё раз выведите на экран названия столбцов:"
   ]
  },
  {
   "cell_type": "code",
   "execution_count": 8,
   "metadata": {
    "deletable": false,
    "id": "d4NOAmTW_Zct"
   },
   "outputs": [
    {
     "data": {
      "text/plain": [
       "Index(['user_id', 'track', 'artist', 'genre', 'city', 'time', 'day'], dtype='object')"
      ]
     },
     "execution_count": 8,
     "metadata": {},
     "output_type": "execute_result"
    }
   ],
   "source": [
    "# проверка результатов - перечень названий столбцов\n",
    "df.columns"
   ]
  },
  {
   "cell_type": "markdown",
   "metadata": {
    "deletable": false,
    "editable": false,
    "id": "5ISfbcfY_Zct",
    "tags": [
     "start_task"
    ]
   },
   "source": [
    "### Пропуски значений\n",
    "\n",
    "**Задание 9**\n",
    "\n",
    "Сначала посчитайте, сколько в таблице пропущенных значений. Для этого достаточно двух методов `pandas`:"
   ]
  },
  {
   "cell_type": "code",
   "execution_count": 9,
   "metadata": {
    "deletable": false,
    "id": "RskX29qr_Zct"
   },
   "outputs": [
    {
     "data": {
      "text/plain": [
       "user_id       0\n",
       "track      1231\n",
       "artist     7203\n",
       "genre      1198\n",
       "city          0\n",
       "time          0\n",
       "day           0\n",
       "dtype: int64"
      ]
     },
     "execution_count": 9,
     "metadata": {},
     "output_type": "execute_result"
    }
   ],
   "source": [
    "# подсчёт пропусков\n",
    "df.isna().sum()"
   ]
  },
  {
   "cell_type": "markdown",
   "metadata": {
    "deletable": false,
    "editable": false,
    "id": "qubhgnlO_Zct"
   },
   "source": [
    "Не все пропущенные значения влияют на исследование. Так в `track` и `artist` пропуски не важны для вашей работы. Достаточно заменить их явными обозначениями.\n",
    "\n",
    "Но пропуски в `genre` могут помешать сравнению музыкальных вкусов в Москве и Санкт-Петербурге. На практике было бы правильно установить причину пропусков и восстановить данные. Такой возможности нет в учебном проекте. Придётся:\n",
    "* заполнить и эти пропуски явными обозначениями;\n",
    "* оценить, насколько они повредят расчётам. "
   ]
  },
  {
   "cell_type": "markdown",
   "metadata": {
    "deletable": false,
    "editable": false,
    "id": "fSv2laPA_Zct",
    "tags": [
     "start_task"
    ]
   },
   "source": [
    "**Задание 10**\n",
    "\n",
    "Замените пропущенные значения в столбцах `track`, `artist` и `genre` на строку `'unknown'`. Для этого создайте список `columns_to_replace`, переберите его элементы циклом `for` и для каждого столбца выполните замену пропущенных значений:"
   ]
  },
  {
   "cell_type": "code",
   "execution_count": 10,
   "metadata": {
    "deletable": false,
    "id": "KplB5qWs_Zct"
   },
   "outputs": [],
   "source": [
    "# перебор названий столбцов в цикле и замена пропущенных значений на 'unknown'\n",
    "columns_to_replace = ['track', 'artist', 'genre']\n",
    "for i in columns_to_replace:\n",
    "    df[i] = df[i].fillna('unknown')"
   ]
  },
  {
   "cell_type": "markdown",
   "metadata": {
    "deletable": false,
    "editable": false,
    "id": "Ilsm-MZo_Zct",
    "tags": [
     "start_task"
    ]
   },
   "source": [
    "**Задание 11**\n",
    "\n",
    "Убедитесь, что в таблице не осталось пропусков. Для этого ещё раз посчитайте пропущенные значения."
   ]
  },
  {
   "cell_type": "code",
   "execution_count": 11,
   "metadata": {
    "deletable": false,
    "id": "Tq4nYRX4_Zct"
   },
   "outputs": [
    {
     "data": {
      "text/plain": [
       "user_id    0\n",
       "track      0\n",
       "artist     0\n",
       "genre      0\n",
       "city       0\n",
       "time       0\n",
       "day        0\n",
       "dtype: int64"
      ]
     },
     "execution_count": 11,
     "metadata": {},
     "output_type": "execute_result"
    }
   ],
   "source": [
    "# подсчёт пропусков\n",
    "df.isna().sum()"
   ]
  },
  {
   "cell_type": "markdown",
   "metadata": {
    "deletable": false,
    "editable": false,
    "id": "BWKRtBJ3_Zct",
    "tags": [
     "start_task"
    ]
   },
   "source": [
    "### Дубликаты\n",
    "\n",
    "**Задание 12**\n",
    "\n",
    "Посчитайте явные дубликаты в таблице одной командой:"
   ]
  },
  {
   "cell_type": "code",
   "execution_count": 12,
   "metadata": {
    "deletable": false,
    "id": "36eES_S0_Zct"
   },
   "outputs": [
    {
     "data": {
      "text/plain": [
       "3826"
      ]
     },
     "execution_count": 12,
     "metadata": {},
     "output_type": "execute_result"
    }
   ],
   "source": [
    "# подсчёт явных дубликатов\n",
    "df.duplicated().sum()"
   ]
  },
  {
   "cell_type": "markdown",
   "metadata": {
    "deletable": false,
    "editable": false,
    "id": "Ot25h6XR_Zct",
    "tags": [
     "start_task"
    ]
   },
   "source": [
    "**Задание 13**\n",
    "\n",
    "Вызовите специальный метод `pandas`, чтобы удалить явные дубликаты:"
   ]
  },
  {
   "cell_type": "code",
   "execution_count": 13,
   "metadata": {
    "deletable": false,
    "id": "exFHq6tt_Zct"
   },
   "outputs": [],
   "source": [
    "# удаление явных дубликатов\n",
    "df = df.drop_duplicates()"
   ]
  },
  {
   "cell_type": "markdown",
   "metadata": {
    "deletable": false,
    "editable": false,
    "id": "Im2YwBEG_Zct",
    "tags": [
     "start_task"
    ]
   },
   "source": [
    "**Задание 14**\n",
    "\n",
    "Ещё раз посчитайте явные дубликаты в таблице — убедитесь, что полностью от них избавились:"
   ]
  },
  {
   "cell_type": "code",
   "execution_count": 14,
   "metadata": {
    "deletable": false,
    "id": "-8PuNWQ0_Zct"
   },
   "outputs": [
    {
     "data": {
      "text/plain": [
       "0"
      ]
     },
     "execution_count": 14,
     "metadata": {},
     "output_type": "execute_result"
    }
   ],
   "source": [
    "# проверка на отсутствие дубликатов\n",
    "df.duplicated().sum()"
   ]
  },
  {
   "cell_type": "markdown",
   "metadata": {
    "deletable": false,
    "editable": false,
    "id": "QlFBsxAr_Zct"
   },
   "source": [
    "Теперь избавьтесь от неявных дубликатов в колонке `genre`. Например, название одного и того же жанра может быть записано немного по-разному. Такие ошибки тоже повлияют на результат исследования."
   ]
  },
  {
   "cell_type": "markdown",
   "metadata": {
    "deletable": false,
    "editable": false,
    "id": "eSjWwsOh_Zct",
    "tags": [
     "start_task"
    ]
   },
   "source": [
    "**Задание 15**\n",
    "\n",
    "Выведите на экран список уникальных названий жанров, отсортированный в алфавитном порядке. Для этого:\n",
    "1. извлеките нужный столбец датафрейма; \n",
    "2. примените к нему метод сортировки;\n",
    "3. для отсортированного столбца вызовите метод, который вернёт уникальные значения из столбца."
   ]
  },
  {
   "cell_type": "code",
   "execution_count": 15,
   "metadata": {
    "deletable": false,
    "id": "JIUcqzZN_Zct"
   },
   "outputs": [
    {
     "data": {
      "text/plain": [
       "array(['acid', 'acoustic', 'action', 'adult', 'africa', 'afrikaans',\n",
       "       'alternative', 'alternativepunk', 'ambient', 'americana',\n",
       "       'animated', 'anime', 'arabesk', 'arabic', 'arena',\n",
       "       'argentinetango', 'art', 'audiobook', 'author', 'avantgarde',\n",
       "       'axé', 'baile', 'balkan', 'beats', 'bigroom', 'black', 'bluegrass',\n",
       "       'blues', 'bollywood', 'bossa', 'brazilian', 'breakbeat', 'breaks',\n",
       "       'broadway', 'cantautori', 'cantopop', 'canzone', 'caribbean',\n",
       "       'caucasian', 'celtic', 'chamber', 'chanson', 'children', 'chill',\n",
       "       'chinese', 'choral', 'christian', 'christmas', 'classical',\n",
       "       'classicmetal', 'club', 'colombian', 'comedy', 'conjazz',\n",
       "       'contemporary', 'country', 'cuban', 'dance', 'dancehall',\n",
       "       'dancepop', 'dark', 'death', 'deep', 'deutschrock', 'deutschspr',\n",
       "       'dirty', 'disco', 'dnb', 'documentary', 'downbeat', 'downtempo',\n",
       "       'drum', 'dub', 'dubstep', 'eastern', 'easy', 'electronic',\n",
       "       'electropop', 'emo', 'entehno', 'epicmetal', 'estrada', 'ethnic',\n",
       "       'eurofolk', 'european', 'experimental', 'extrememetal', 'fado',\n",
       "       'fairytail', 'film', 'fitness', 'flamenco', 'folk', 'folklore',\n",
       "       'folkmetal', 'folkrock', 'folktronica', 'forró', 'frankreich',\n",
       "       'französisch', 'french', 'funk', 'future', 'gangsta', 'garage',\n",
       "       'german', 'ghazal', 'gitarre', 'glitch', 'gospel', 'gothic',\n",
       "       'grime', 'grunge', 'gypsy', 'handsup', \"hard'n'heavy\", 'hardcore',\n",
       "       'hardstyle', 'hardtechno', 'hip', 'hip-hop', 'hiphop',\n",
       "       'historisch', 'holiday', 'hop', 'horror', 'house', 'hymn', 'idm',\n",
       "       'independent', 'indian', 'indie', 'indipop', 'industrial',\n",
       "       'inspirational', 'instrumental', 'international', 'irish', 'jam',\n",
       "       'japanese', 'jazz', 'jewish', 'jpop', 'jungle', 'k-pop',\n",
       "       'karadeniz', 'karaoke', 'kayokyoku', 'korean', 'laiko', 'latin',\n",
       "       'latino', 'leftfield', 'local', 'lounge', 'loungeelectronic',\n",
       "       'lovers', 'malaysian', 'mandopop', 'marschmusik', 'meditative',\n",
       "       'mediterranean', 'melodic', 'metal', 'metalcore', 'mexican',\n",
       "       'middle', 'minimal', 'miscellaneous', 'modern', 'mood', 'mpb',\n",
       "       'muslim', 'native', 'neoklassik', 'neue', 'new', 'newage',\n",
       "       'newwave', 'nu', 'nujazz', 'numetal', 'oceania', 'old', 'opera',\n",
       "       'orchestral', 'other', 'piano', 'podcasts', 'pop', 'popdance',\n",
       "       'popelectronic', 'popeurodance', 'poprussian', 'post',\n",
       "       'posthardcore', 'postrock', 'power', 'progmetal', 'progressive',\n",
       "       'psychedelic', 'punjabi', 'punk', 'quebecois', 'ragga', 'ram',\n",
       "       'rancheras', 'rap', 'rave', 'reggae', 'reggaeton', 'regional',\n",
       "       'relax', 'religious', 'retro', 'rhythm', 'rnb', 'rnr', 'rock',\n",
       "       'rockabilly', 'rockalternative', 'rockindie', 'rockother',\n",
       "       'romance', 'roots', 'ruspop', 'rusrap', 'rusrock', 'russian',\n",
       "       'salsa', 'samba', 'scenic', 'schlager', 'self', 'sertanejo',\n",
       "       'shanson', 'shoegazing', 'showtunes', 'singer', 'ska', 'skarock',\n",
       "       'slow', 'smooth', 'soft', 'soul', 'soulful', 'sound', 'soundtrack',\n",
       "       'southern', 'specialty', 'speech', 'spiritual', 'sport',\n",
       "       'stonerrock', 'surf', 'swing', 'synthpop', 'synthrock',\n",
       "       'sängerportrait', 'tango', 'tanzorchester', 'taraftar', 'tatar',\n",
       "       'tech', 'techno', 'teen', 'thrash', 'top', 'traditional',\n",
       "       'tradjazz', 'trance', 'tribal', 'trip', 'triphop', 'tropical',\n",
       "       'türk', 'türkçe', 'ukrrock', 'unknown', 'urban', 'uzbek',\n",
       "       'variété', 'vi', 'videogame', 'vocal', 'western', 'world',\n",
       "       'worldbeat', 'ïîï', 'электроника'], dtype=object)"
      ]
     },
     "execution_count": 15,
     "metadata": {},
     "output_type": "execute_result"
    }
   ],
   "source": [
    "# Просмотр уникальных названий жанров\n",
    "df['genre'].sort_values().unique()"
   ]
  },
  {
   "cell_type": "markdown",
   "metadata": {
    "deletable": false,
    "editable": false,
    "id": "qej-Qmuo_Zct",
    "tags": [
     "start_task"
    ]
   },
   "source": [
    "**Задание 16**\n",
    "\n",
    "Просмотрите список и найдите неявные дубликаты названия `hiphop`. Это могут быть названия с ошибками или альтернативные названия того же жанра.\n",
    "\n",
    "Вы увидите следующие неявные дубликаты:\n",
    "* *hip*,\n",
    "* *hop*,\n",
    "* *hip-hop*.\n",
    "\n",
    "Чтобы очистить от них таблицу используйте метод `replace()` с двумя аргументами: списком строк-дубликатов (включащий *hip*, *hop* и *hip-hop*) и строкой с правильным значением. Вам нужно исправить колонку `genre` в таблице `df`: заменить каждое значение из списка дубликатов на верное. Вместо `hip`, `hop` и `hip-hop` в таблице должно быть значение `hiphop`:"
   ]
  },
  {
   "cell_type": "code",
   "execution_count": 16,
   "metadata": {
    "deletable": false,
    "id": "ErNDkmns_Zct"
   },
   "outputs": [],
   "source": [
    "# Устранение неявных дубликатов\n",
    "duplicates = ['hip', 'hop','hip-hop']\n",
    "name = 'hiphop'\n",
    "df['genre'] = df['genre'].replace(duplicates, name)"
   ]
  },
  {
   "cell_type": "markdown",
   "metadata": {
    "deletable": false,
    "editable": false,
    "id": "zQKF16_RG15m",
    "tags": [
     "start_task"
    ]
   },
   "source": [
    "**Задание 17**\n",
    "\n",
    "Проверьте, что заменили неправильные названия:\n",
    "\n",
    "*   hip,\n",
    "*   hop,\n",
    "*   hip-hop.\n",
    "\n",
    "Выведите отсортированный список уникальных значений столбца `genre`:"
   ]
  },
  {
   "cell_type": "code",
   "execution_count": 17,
   "metadata": {
    "deletable": false,
    "id": "wvixALnFG15m"
   },
   "outputs": [
    {
     "data": {
      "text/plain": [
       "array(['acid', 'acoustic', 'action', 'adult', 'africa', 'afrikaans',\n",
       "       'alternative', 'alternativepunk', 'ambient', 'americana',\n",
       "       'animated', 'anime', 'arabesk', 'arabic', 'arena',\n",
       "       'argentinetango', 'art', 'audiobook', 'author', 'avantgarde',\n",
       "       'axé', 'baile', 'balkan', 'beats', 'bigroom', 'black', 'bluegrass',\n",
       "       'blues', 'bollywood', 'bossa', 'brazilian', 'breakbeat', 'breaks',\n",
       "       'broadway', 'cantautori', 'cantopop', 'canzone', 'caribbean',\n",
       "       'caucasian', 'celtic', 'chamber', 'chanson', 'children', 'chill',\n",
       "       'chinese', 'choral', 'christian', 'christmas', 'classical',\n",
       "       'classicmetal', 'club', 'colombian', 'comedy', 'conjazz',\n",
       "       'contemporary', 'country', 'cuban', 'dance', 'dancehall',\n",
       "       'dancepop', 'dark', 'death', 'deep', 'deutschrock', 'deutschspr',\n",
       "       'dirty', 'disco', 'dnb', 'documentary', 'downbeat', 'downtempo',\n",
       "       'drum', 'dub', 'dubstep', 'eastern', 'easy', 'electronic',\n",
       "       'electropop', 'emo', 'entehno', 'epicmetal', 'estrada', 'ethnic',\n",
       "       'eurofolk', 'european', 'experimental', 'extrememetal', 'fado',\n",
       "       'fairytail', 'film', 'fitness', 'flamenco', 'folk', 'folklore',\n",
       "       'folkmetal', 'folkrock', 'folktronica', 'forró', 'frankreich',\n",
       "       'französisch', 'french', 'funk', 'future', 'gangsta', 'garage',\n",
       "       'german', 'ghazal', 'gitarre', 'glitch', 'gospel', 'gothic',\n",
       "       'grime', 'grunge', 'gypsy', 'handsup', \"hard'n'heavy\", 'hardcore',\n",
       "       'hardstyle', 'hardtechno', 'hiphop', 'historisch', 'holiday',\n",
       "       'horror', 'house', 'hymn', 'idm', 'independent', 'indian', 'indie',\n",
       "       'indipop', 'industrial', 'inspirational', 'instrumental',\n",
       "       'international', 'irish', 'jam', 'japanese', 'jazz', 'jewish',\n",
       "       'jpop', 'jungle', 'k-pop', 'karadeniz', 'karaoke', 'kayokyoku',\n",
       "       'korean', 'laiko', 'latin', 'latino', 'leftfield', 'local',\n",
       "       'lounge', 'loungeelectronic', 'lovers', 'malaysian', 'mandopop',\n",
       "       'marschmusik', 'meditative', 'mediterranean', 'melodic', 'metal',\n",
       "       'metalcore', 'mexican', 'middle', 'minimal', 'miscellaneous',\n",
       "       'modern', 'mood', 'mpb', 'muslim', 'native', 'neoklassik', 'neue',\n",
       "       'new', 'newage', 'newwave', 'nu', 'nujazz', 'numetal', 'oceania',\n",
       "       'old', 'opera', 'orchestral', 'other', 'piano', 'podcasts', 'pop',\n",
       "       'popdance', 'popelectronic', 'popeurodance', 'poprussian', 'post',\n",
       "       'posthardcore', 'postrock', 'power', 'progmetal', 'progressive',\n",
       "       'psychedelic', 'punjabi', 'punk', 'quebecois', 'ragga', 'ram',\n",
       "       'rancheras', 'rap', 'rave', 'reggae', 'reggaeton', 'regional',\n",
       "       'relax', 'religious', 'retro', 'rhythm', 'rnb', 'rnr', 'rock',\n",
       "       'rockabilly', 'rockalternative', 'rockindie', 'rockother',\n",
       "       'romance', 'roots', 'ruspop', 'rusrap', 'rusrock', 'russian',\n",
       "       'salsa', 'samba', 'scenic', 'schlager', 'self', 'sertanejo',\n",
       "       'shanson', 'shoegazing', 'showtunes', 'singer', 'ska', 'skarock',\n",
       "       'slow', 'smooth', 'soft', 'soul', 'soulful', 'sound', 'soundtrack',\n",
       "       'southern', 'specialty', 'speech', 'spiritual', 'sport',\n",
       "       'stonerrock', 'surf', 'swing', 'synthpop', 'synthrock',\n",
       "       'sängerportrait', 'tango', 'tanzorchester', 'taraftar', 'tatar',\n",
       "       'tech', 'techno', 'teen', 'thrash', 'top', 'traditional',\n",
       "       'tradjazz', 'trance', 'tribal', 'trip', 'triphop', 'tropical',\n",
       "       'türk', 'türkçe', 'ukrrock', 'unknown', 'urban', 'uzbek',\n",
       "       'variété', 'vi', 'videogame', 'vocal', 'western', 'world',\n",
       "       'worldbeat', 'ïîï', 'электроника'], dtype=object)"
      ]
     },
     "execution_count": 17,
     "metadata": {},
     "output_type": "execute_result"
    }
   ],
   "source": [
    "# Проверка на неявные дубликаты\n",
    "df['genre'].sort_values().unique()"
   ]
  },
  {
   "cell_type": "markdown",
   "metadata": {
    "deletable": false,
    "editable": false,
    "id": "jz6a9-7HQUDd"
   },
   "source": [
    "**Выводы**\n",
    "\n",
    "Предобработка обнаружила три проблемы в данных:\n",
    "\n",
    "- нарушения в стиле заголовков,\n",
    "- пропущенные значения,\n",
    "- дубликаты — явные и неявные.\n",
    "\n",
    "Вы исправили заголовки, чтобы упростить работу с таблицей. Без дубликатов исследование станет более точным.\n",
    "\n",
    "Пропущенные значения вы заменили на `'unknown'`. Ещё предстоит увидеть, не повредят ли исследованию пропуски в колонке `genre`.\n",
    "\n",
    "Теперь можно перейти к проверке гипотез. "
   ]
  },
  {
   "cell_type": "markdown",
   "metadata": {
    "deletable": false,
    "editable": false,
    "id": "WttZHXH0SqKk"
   },
   "source": [
    "## Проверка гипотез"
   ]
  },
  {
   "cell_type": "markdown",
   "metadata": {
    "deletable": false,
    "editable": false,
    "id": "Im936VVi_Zcu"
   },
   "source": [
    "### Сравнение поведения пользователей двух столиц"
   ]
  },
  {
   "cell_type": "markdown",
   "metadata": {
    "deletable": false,
    "editable": false,
    "id": "nwt_MuaL_Zcu"
   },
   "source": [
    "Первая гипотеза утверждает, что пользователи по-разному слушают музыку в Москве и Санкт-Петербурге. Проверьте это предположение по данным о трёх днях недели — понедельнике, среде и пятнице. Для этого:\n",
    "\n",
    "* Разделите пользователей Москвы и Санкт-Петербурга.\n",
    "* Сравните, сколько треков послушала каждая группа пользователей в понедельник, среду и пятницу.\n"
   ]
  },
  {
   "cell_type": "markdown",
   "metadata": {
    "deletable": false,
    "editable": false,
    "id": "8Dw_YMmT_Zcu",
    "tags": [
     "start_task"
    ]
   },
   "source": [
    "**Задание 18**\n",
    "\n",
    "Для тренировки сначала выполните каждый из расчётов по отдельности. \n",
    "\n",
    "Оцените активность пользователей в каждом городе. Сгруппируйте данные по городу и посчитайте прослушивания в каждой группе.\n",
    "\n"
   ]
  },
  {
   "cell_type": "code",
   "execution_count": 18,
   "metadata": {
    "deletable": false,
    "id": "0_Qs96oh_Zcu"
   },
   "outputs": [
    {
     "data": {
      "text/plain": [
       "city\n",
       "Moscow              42741\n",
       "Saint-Petersburg    18512\n",
       "Name: time, dtype: int64"
      ]
     },
     "execution_count": 18,
     "metadata": {},
     "output_type": "execute_result"
    }
   ],
   "source": [
    "# Подсчёт прослушиваний в каждом городе\n",
    "df_grouped_time = df.groupby('city')['time'].count()\n",
    "df_grouped_time"
   ]
  },
  {
   "cell_type": "markdown",
   "metadata": {
    "deletable": false,
    "editable": false,
    "id": "dzli3w8o_Zcu",
    "tags": [
     "start_task"
    ]
   },
   "source": [
    "В Москве прослушиваний больше, чем в Петербурге. Из этого не следует, что московские пользователи чаще слушают музыку. Просто самих пользователей в Москве больше.\n",
    "\n",
    "**Задание 19**\n",
    "\n",
    "Теперь сгруппируйте данные по дню недели и посчитайте прослушивания в понедельник, среду и пятницу. Учтите, что в данных есть информация о прослушиваниях только за эти дни.\n"
   ]
  },
  {
   "cell_type": "code",
   "execution_count": 19,
   "metadata": {
    "deletable": false,
    "id": "uZMKjiJz_Zcu"
   },
   "outputs": [
    {
     "data": {
      "text/plain": [
       "day\n",
       "Friday       21840\n",
       "Monday       21354\n",
       "Wednesday    18059\n",
       "Name: time, dtype: int64"
      ]
     },
     "execution_count": 19,
     "metadata": {},
     "output_type": "execute_result"
    }
   ],
   "source": [
    "# Подсчёт прослушиваний в каждый из трёх дней\n",
    "df_grouped_day = df.groupby('day')['time'].count()\n",
    "df_grouped_day"
   ]
  },
  {
   "cell_type": "markdown",
   "metadata": {
    "deletable": false,
    "editable": false,
    "id": "cC2tNrlL_Zcu"
   },
   "source": [
    "В среднем пользователи из двух городов менее активны по средам. Но картина может измениться, если рассмотреть каждый город в отдельности."
   ]
  },
  {
   "cell_type": "markdown",
   "metadata": {
    "deletable": false,
    "editable": false,
    "id": "POzs8bGa_Zcu",
    "tags": [
     "start_task"
    ]
   },
   "source": [
    "**Задание 20**\n",
    "\n",
    "\n",
    "Вы видели, как работает группировка по городу и по дням недели. Теперь напишите функцию, которая объединит два эти расчёта.\n",
    "\n",
    "Создайте функцию `number_tracks()`, которая посчитает прослушивания для заданного дня и города. Ей понадобятся два параметра:\n",
    "* день недели,\n",
    "* название города.\n",
    "\n",
    "В функции сохраните в переменную строки исходной таблицы, у которых значение:\n",
    "  * в колонке `day` равно параметру `day`,\n",
    "  * в колонке `city` равно параметру `city`.\n",
    "\n",
    "Для этого примените последовательную фильтрацию с логической индексацией (или сложные логические выражения в одну строку, если вы уже знакомы с ними).\n",
    "\n",
    "Затем посчитайте значения в столбце `user_id` получившейся таблицы. Результат сохраните в новую переменную. Верните эту переменную из функции."
   ]
  },
  {
   "cell_type": "code",
   "execution_count": 20,
   "metadata": {
    "deletable": false,
    "id": "Nz3GdQB1_Zcu"
   },
   "outputs": [
    {
     "data": {
      "text/plain": [
       "15740"
      ]
     },
     "execution_count": 20,
     "metadata": {},
     "output_type": "execute_result"
    }
   ],
   "source": [
    "# <создание функции number_tracks()>\n",
    "# Объявляется функция с двумя параметрами: day, city.\n",
    "def number_tracks(day, city):\n",
    "# В переменной track_list сохраняются те строки таблицы df, для которых \n",
    "# значение в столбце 'day' равно параметру day и одновременно значение\n",
    "# в столбце 'city' равно параметру city (используйте последовательную фильтрацию\n",
    "# с помощью логической индексации или сложные логические выражения в одну строку, если вы уже знакомы с ними).\n",
    "    track_list = df[(df['day'] == day) & (df['city'] == city)]\n",
    "# В переменной track_list_count сохраняется число значений столбца 'user_id',\n",
    "# рассчитанное методом count() для таблицы track_list.\n",
    "    track_list_count = track_list['user_id'].count()\n",
    "# Функция возвращает число - значение track_list_count.\n",
    "    return track_list_count\n",
    "# Функция для подсчёта прослушиваний для конкретного города и дня.\n",
    "number_tracks('Monday','Moscow')\n",
    "# С помощью последовательной фильтрации с логической индексацией она \n",
    "# сначала получит из исходной таблицы строки с нужным днём,\n",
    "# затем из результата отфильтрует строки с нужным городом,\n",
    "# методом count() посчитает количество значений в колонке user_id. \n",
    "# Это количество функция вернёт в качестве результата"
   ]
  },
  {
   "cell_type": "markdown",
   "metadata": {
    "deletable": false,
    "editable": false,
    "id": "ytf7xFrFJQ2r",
    "tags": [
     "start_task"
    ]
   },
   "source": [
    "**Задание 21**\n",
    "\n",
    "Вызовите `number_tracks()` шесть раз, меняя значение параметров — так, чтобы получить данные для каждого города в каждый из трёх дней."
   ]
  },
  {
   "cell_type": "code",
   "execution_count": 21,
   "metadata": {
    "deletable": false,
    "id": "rJcRATNQ_Zcu"
   },
   "outputs": [
    {
     "data": {
      "text/plain": [
       "15740"
      ]
     },
     "execution_count": 21,
     "metadata": {},
     "output_type": "execute_result"
    }
   ],
   "source": [
    "# количество прослушиваний в Москве по понедельникам\n",
    "number_tracks('Monday', 'Moscow')"
   ]
  },
  {
   "cell_type": "code",
   "execution_count": 22,
   "metadata": {
    "deletable": false,
    "id": "hq_ncZ5T_Zcu"
   },
   "outputs": [
    {
     "data": {
      "text/plain": [
       "5614"
      ]
     },
     "execution_count": 22,
     "metadata": {},
     "output_type": "execute_result"
    }
   ],
   "source": [
    "# количество прослушиваний в Санкт-Петербурге по понедельникам\n",
    "number_tracks('Monday', 'Saint-Petersburg')"
   ]
  },
  {
   "cell_type": "code",
   "execution_count": 23,
   "metadata": {
    "deletable": false,
    "id": "_NTy2VPU_Zcu"
   },
   "outputs": [
    {
     "data": {
      "text/plain": [
       "11056"
      ]
     },
     "execution_count": 23,
     "metadata": {},
     "output_type": "execute_result"
    }
   ],
   "source": [
    "# количество прослушиваний в Москве по средам\n",
    "number_tracks('Wednesday', 'Moscow')"
   ]
  },
  {
   "cell_type": "code",
   "execution_count": 24,
   "metadata": {
    "deletable": false,
    "id": "j2y3TAwo_Zcu"
   },
   "outputs": [
    {
     "data": {
      "text/plain": [
       "7003"
      ]
     },
     "execution_count": 24,
     "metadata": {},
     "output_type": "execute_result"
    }
   ],
   "source": [
    "# количество прослушиваний в Санкт-Петербурге по средам\n",
    "number_tracks('Wednesday', 'Saint-Petersburg')"
   ]
  },
  {
   "cell_type": "code",
   "execution_count": 25,
   "metadata": {
    "deletable": false,
    "id": "vYDw5u_K_Zcu"
   },
   "outputs": [
    {
     "data": {
      "text/plain": [
       "15945"
      ]
     },
     "execution_count": 25,
     "metadata": {},
     "output_type": "execute_result"
    }
   ],
   "source": [
    "# количество прослушиваний в Москве по пятницам\n",
    "number_tracks('Friday', 'Moscow')"
   ]
  },
  {
   "cell_type": "code",
   "execution_count": 26,
   "metadata": {
    "deletable": false,
    "id": "8_yzFtW3_Zcu"
   },
   "outputs": [
    {
     "data": {
      "text/plain": [
       "5895"
      ]
     },
     "execution_count": 26,
     "metadata": {},
     "output_type": "execute_result"
    }
   ],
   "source": [
    "# количество прослушиваний в Санкт-Петербурге по пятницам\n",
    "number_tracks('Friday', 'Saint-Petersburg')"
   ]
  },
  {
   "cell_type": "markdown",
   "metadata": {
    "deletable": false,
    "editable": false,
    "id": "7QXffbO-_Zcu",
    "tags": [
     "start_task"
    ]
   },
   "source": [
    "**Задание 22**\n",
    "\n",
    "Создайте c помощью конструктора `pd.DataFrame` таблицу, где\n",
    "* названия колонок — `['city', 'monday', 'wednesday', 'friday']`;\n",
    "* данные — результаты, которые вы получили с помощью `number_tracks`."
   ]
  },
  {
   "cell_type": "code",
   "execution_count": 27,
   "metadata": {
    "deletable": false,
    "id": "APAcLpOr_Zcu"
   },
   "outputs": [
    {
     "data": {
      "text/html": [
       "<div>\n",
       "<style scoped>\n",
       "    .dataframe tbody tr th:only-of-type {\n",
       "        vertical-align: middle;\n",
       "    }\n",
       "\n",
       "    .dataframe tbody tr th {\n",
       "        vertical-align: top;\n",
       "    }\n",
       "\n",
       "    .dataframe thead th {\n",
       "        text-align: right;\n",
       "    }\n",
       "</style>\n",
       "<table border=\"1\" class=\"dataframe\">\n",
       "  <thead>\n",
       "    <tr style=\"text-align: right;\">\n",
       "      <th></th>\n",
       "      <th>Moscow</th>\n",
       "      <th>Saint-Petersburg</th>\n",
       "    </tr>\n",
       "  </thead>\n",
       "  <tbody>\n",
       "    <tr>\n",
       "      <th>Mon</th>\n",
       "      <td>15740</td>\n",
       "      <td>5614</td>\n",
       "    </tr>\n",
       "    <tr>\n",
       "      <th>Wed</th>\n",
       "      <td>11056</td>\n",
       "      <td>7003</td>\n",
       "    </tr>\n",
       "    <tr>\n",
       "      <th>Fri</th>\n",
       "      <td>15945</td>\n",
       "      <td>5895</td>\n",
       "    </tr>\n",
       "  </tbody>\n",
       "</table>\n",
       "</div>"
      ],
      "text/plain": [
       "     Moscow  Saint-Petersburg\n",
       "Mon   15740              5614\n",
       "Wed   11056              7003\n",
       "Fri   15945              5895"
      ]
     },
     "execution_count": 27,
     "metadata": {},
     "output_type": "execute_result"
    }
   ],
   "source": [
    "# Таблица с результатами\n",
    "data = {\n",
    "    \"Moscow\": [15740, 11056, 15945],\n",
    "    \"Saint-Petersburg\": [5614, 7003, 5895]\n",
    "}\n",
    "info = pd.DataFrame(data, index=['Mon', 'Wed', 'Fri'])\n",
    "info"
   ]
  },
  {
   "cell_type": "markdown",
   "metadata": {
    "deletable": false,
    "editable": false,
    "id": "-EgPIHYu_Zcu"
   },
   "source": [
    "**Выводы**\n",
    "\n",
    "Данные показывают разницу поведения пользователей:\n",
    "\n",
    "- В Москве пик прослушиваний приходится на понедельник и пятницу, а в среду заметен спад.\n",
    "- В Петербурге, наоборот, больше слушают музыку по средам. Активность в понедельник и пятницу здесь почти в равной мере уступает среде.\n",
    "\n",
    "Значит, данные говорят в пользу первой гипотезы."
   ]
  },
  {
   "cell_type": "markdown",
   "metadata": {
    "deletable": false,
    "editable": false,
    "id": "atZAxtq4_Zcu"
   },
   "source": [
    "### Музыка в начале и в конце недели"
   ]
  },
  {
   "cell_type": "markdown",
   "metadata": {
    "deletable": false,
    "editable": false,
    "id": "eXrQqXFH_Zcu"
   },
   "source": [
    "Согласно второй гипотезе, утром в понедельник в Москве преобладают одни жанры, а в Петербурге — другие. Так же и вечером пятницы преобладают разные жанры — в зависимости от города."
   ]
  },
  {
   "cell_type": "markdown",
   "metadata": {
    "deletable": false,
    "editable": false,
    "id": "S8UcW6Hw_Zcu",
    "tags": [
     "start_task"
    ]
   },
   "source": [
    "**Задание 23**\n",
    "\n",
    "Сохраните таблицы с данными в две переменные:\n",
    "* по Москве — в `moscow_general`;\n",
    "* по Санкт-Петербургу — в `spb_general`."
   ]
  },
  {
   "cell_type": "code",
   "execution_count": 28,
   "metadata": {
    "deletable": false,
    "id": "qeaFfM_P_Zcu"
   },
   "outputs": [],
   "source": [
    "# получение таблицы moscow_general из тех строк таблицы df, \n",
    "# для которых значение в столбце 'city' равно 'Moscow'\n",
    "moscow_general = df[df['city'] == 'Moscow']"
   ]
  },
  {
   "cell_type": "code",
   "execution_count": 29,
   "metadata": {
    "deletable": false,
    "id": "ORaVRKto_Zcu"
   },
   "outputs": [],
   "source": [
    "# получение таблицы spb_general из тех строк таблицы df,\n",
    "# для которых значение в столбце 'city' равно 'Saint-Petersburg'\n",
    "spb_general = df[df['city'] == 'Saint-Petersburg']"
   ]
  },
  {
   "cell_type": "markdown",
   "metadata": {
    "deletable": false,
    "editable": false,
    "id": "MEJV-CX2_Zcu",
    "tags": [
     "start_task"
    ]
   },
   "source": [
    "**Задание 24**\n",
    "\n",
    "Создайте функцию `genre_weekday()` с четырьмя параметрами:\n",
    "* таблица (датафрейм) с данными,\n",
    "* день недели,\n",
    "* начальная временная метка в формате 'hh:mm', \n",
    "* последняя временная метка в формате 'hh:mm'.\n",
    "\n",
    "Функция должна вернуть информацию о топ-10 жанров тех треков, которые прослушивали в указанный день, в промежутке между двумя отметками времени."
   ]
  },
  {
   "cell_type": "code",
   "execution_count": 30,
   "metadata": {
    "deletable": false,
    "id": "laJT9BYl_Zcu"
   },
   "outputs": [],
   "source": [
    "# Объявление функции genre_weekday() с параметрами table, day, time1, time2,\n",
    "# которая возвращает информацию о самых популярных жанрах в указанный день в\n",
    "# заданное время:\n",
    "# 1) в переменную genre_df сохраняются те строки переданного датафрейма table, для\n",
    "#    которых одновременно:\n",
    "#    - значение в столбце day равно значению аргумента day\n",
    "#    - значение в столбце time больше значения аргумента time1\n",
    "#    - значение в столбце time меньше значения аргумента time2\n",
    "#    Используйте последовательную фильтрацию с помощью логической индексации.\n",
    "# 2) сгруппировать датафрейм genre_df по столбцу genre, взять один из его\n",
    "#    столбцов и посчитать методом count() количество записей для каждого из\n",
    "#    присутствующих жанров, получившийся Series записать в переменную\n",
    "#    genre_df_count\n",
    "# 3) отсортировать genre_df_count по убыванию встречаемости и сохранить\n",
    "#    в переменную genre_df_sorted\n",
    "# 4) вернуть Series из 10 первых значений genre_df_sorted, это будут топ-10\n",
    "#    популярных жанров (в указанный день, в заданное время)\n",
    "\n",
    "def genre_weekday(df, day, time1, time2):\n",
    "    # последовательная фильтрация\n",
    "    # оставляем в genre_df только те строки df, у которых день равен day\n",
    "    genre_df = df[df['day'] == day] # ваш код здесь\n",
    "    # оставляем в genre_df только те строки genre_df, у которых время меньше time2\n",
    "    genre_df = genre_df[genre_df['time'] < time2] # ваш код здесь\n",
    "    # оставляем в genre_df только те строки genre_df, у которых время больше time1\n",
    "    genre_df = genre_df[genre_df['time'] > time1] # ваш код здесь\n",
    "    # сгруппируем отфильтрованный датафрейм по столбцу с названиями жанров, возьмём столбец genre и посчитаем кол-во строк для каждого жанра методом count()\n",
    "    genre_df_grouped = genre_df.groupby(['genre'])['genre'].count() # ваш код здесь\n",
    "    # отсортируем результат по убыванию (чтобы в начале Series оказались самые популярные жанры)\n",
    "    genre_df_sorted = genre_df_grouped.sort_values(ascending=False) # ваш код здесь\n",
    "    # вернём Series с 10 самыми популярными жанрами в указанный отрезок времени заданного дня\n",
    "    return genre_df_sorted[:10]\n",
    "    print(genre_df_sorted[:10])"
   ]
  },
  {
   "cell_type": "markdown",
   "metadata": {
    "deletable": false,
    "editable": false,
    "id": "la2s2_PF_Zcu",
    "tags": [
     "start_task"
    ]
   },
   "source": [
    "**Задание 25**\n",
    "\n",
    "\n",
    "Cравните результаты функции `genre_weekday()` для Москвы и Санкт-Петербурга в понедельник утром (с 7:00 до 11:00) и в пятницу вечером (с 17:00 до 23:00):"
   ]
  },
  {
   "cell_type": "code",
   "execution_count": 31,
   "metadata": {
    "deletable": false,
    "id": "yz7itPUQ_Zcu"
   },
   "outputs": [
    {
     "data": {
      "text/plain": [
       "genre\n",
       "pop            781\n",
       "dance          549\n",
       "electronic     480\n",
       "rock           474\n",
       "hiphop         286\n",
       "ruspop         186\n",
       "world          181\n",
       "rusrap         175\n",
       "alternative    164\n",
       "unknown        161\n",
       "Name: genre, dtype: int64"
      ]
     },
     "execution_count": 31,
     "metadata": {},
     "output_type": "execute_result"
    }
   ],
   "source": [
    "# вызов функции для утра понедельника в Москве (вместо df — таблица moscow_general)\n",
    "# объекты, хранящие время, являются строками и сравниваются как строки\n",
    "# пример вызова: genre_weekday(moscow_general, 'Monday', '07:00', '11:00')\n",
    "genre_weekday(moscow_general, 'Monday', '07:00', '11:00')"
   ]
  },
  {
   "cell_type": "code",
   "execution_count": 32,
   "metadata": {
    "deletable": false,
    "id": "kwUcHPdy_Zcu"
   },
   "outputs": [
    {
     "data": {
      "text/plain": [
       "genre\n",
       "pop            218\n",
       "dance          182\n",
       "rock           162\n",
       "electronic     147\n",
       "hiphop          80\n",
       "ruspop          64\n",
       "alternative     58\n",
       "rusrap          55\n",
       "jazz            44\n",
       "classical       40\n",
       "Name: genre, dtype: int64"
      ]
     },
     "execution_count": 32,
     "metadata": {},
     "output_type": "execute_result"
    }
   ],
   "source": [
    "# вызов функции для утра понедельника в Петербурге (вместо df — таблица spb_general)\n",
    "genre_weekday(spb_general, 'Monday', '07:00', '11:00')"
   ]
  },
  {
   "cell_type": "code",
   "execution_count": 33,
   "metadata": {
    "deletable": false,
    "id": "EzXVRE1o_Zcu"
   },
   "outputs": [
    {
     "data": {
      "text/plain": [
       "genre\n",
       "pop            713\n",
       "rock           517\n",
       "dance          495\n",
       "electronic     482\n",
       "hiphop         273\n",
       "world          208\n",
       "ruspop         170\n",
       "alternative    163\n",
       "classical      163\n",
       "rusrap         142\n",
       "Name: genre, dtype: int64"
      ]
     },
     "execution_count": 33,
     "metadata": {},
     "output_type": "execute_result"
    }
   ],
   "source": [
    "# вызов функции для вечера пятницы в Москве\n",
    "genre_weekday(moscow_general, 'Friday', '17:00', '23:00')"
   ]
  },
  {
   "cell_type": "code",
   "execution_count": 34,
   "metadata": {
    "deletable": false,
    "id": "JZaEKu5v_Zcu"
   },
   "outputs": [
    {
     "data": {
      "text/plain": [
       "genre\n",
       "pop            256\n",
       "electronic     216\n",
       "rock           216\n",
       "dance          210\n",
       "hiphop          97\n",
       "alternative     63\n",
       "jazz            61\n",
       "classical       60\n",
       "rusrap          59\n",
       "world           54\n",
       "Name: genre, dtype: int64"
      ]
     },
     "execution_count": 34,
     "metadata": {},
     "output_type": "execute_result"
    }
   ],
   "source": [
    "# вызов функции для вечера пятницы в Петербурге\n",
    "genre_weekday(spb_general, 'Friday', '17:00', '23:00')"
   ]
  },
  {
   "cell_type": "markdown",
   "metadata": {
    "deletable": false,
    "editable": false,
    "id": "wrCe4MNX_Zcu"
   },
   "source": [
    "**Выводы**\n",
    "\n",
    "Если сравнить топ-10 жанров в понедельник утром, можно сделать такие выводы:\n",
    "\n",
    "1. В Москве и Петербурге слушают похожую музыку. Единственное отличие — в московский рейтинг вошёл жанр “world”, а в петербургский — джаз и классика.\n",
    "\n",
    "2. В Москве пропущенных значений оказалось так много, что значение `'unknown'` заняло десятое место среди самых популярных жанров. Значит, пропущенные значения занимают существенную долю в данных и угрожают достоверности исследования.\n",
    "\n",
    "Вечер пятницы не меняет эту картину. Некоторые жанры поднимаются немного выше, другие спускаются, но в целом топ-10 остаётся тем же самым.\n",
    "\n",
    "Таким образом, вторая гипотеза подтвердилась лишь частично:\n",
    "* Пользователи слушают похожую музыку в начале недели и в конце.\n",
    "* Разница между Москвой и Петербургом не слишком выражена. В Москве чаще слушают русскую популярную музыку, в Петербурге — джаз.\n",
    "\n",
    "Однако пропуски в данных ставят под сомнение этот результат. В Москве их так много, что рейтинг топ-10 мог бы выглядеть иначе, если бы не утерянные  данные о жанрах."
   ]
  },
  {
   "cell_type": "markdown",
   "metadata": {
    "deletable": false,
    "editable": false,
    "id": "JolODAqr_Zcu"
   },
   "source": [
    "### Жанровые предпочтения в Москве и Петербурге\n",
    "\n",
    "Гипотеза: Петербург — столица рэпа, музыку этого жанра там слушают чаще, чем в Москве.  А Москва — город контрастов, в котором, тем не менее, преобладает поп-музыка."
   ]
  },
  {
   "cell_type": "markdown",
   "metadata": {
    "deletable": false,
    "editable": false,
    "id": "DlegSvaT_Zcu",
    "tags": [
     "start_task"
    ]
   },
   "source": [
    "**Задание 26**\n",
    "\n",
    "Сгруппируйте таблицу `moscow_general` по жанру и посчитайте прослушивания треков каждого жанра методом `count()`. Затем отсортируйте результат в порядке убывания и сохраните его в таблице `moscow_genres`."
   ]
  },
  {
   "cell_type": "code",
   "execution_count": 35,
   "metadata": {
    "deletable": false,
    "id": "r19lIPke_Zcu"
   },
   "outputs": [],
   "source": [
    "# одной строкой: группировка таблицы moscow_general по столбцу 'genre', \n",
    "# подсчёт числа значений 'genre' в этой группировке методом count(), \n",
    "# сортировка получившегося Series в порядке убывания и сохранение в moscow_genres\n",
    "moscow_genres = moscow_general.groupby('genre') ['genre'].count().sort_values(ascending=False)"
   ]
  },
  {
   "cell_type": "markdown",
   "metadata": {
    "deletable": false,
    "editable": false,
    "id": "6kMuomxTiIr8",
    "tags": [
     "start_task"
    ]
   },
   "source": [
    "**Задание 27**\n",
    "\n",
    "Выведите на экран первые десять строк `moscow_genres`:"
   ]
  },
  {
   "cell_type": "code",
   "execution_count": 36,
   "metadata": {
    "deletable": false,
    "id": "WhCSooF8_Zcv"
   },
   "outputs": [
    {
     "data": {
      "text/plain": [
       "genre\n",
       "pop            5892\n",
       "dance          4435\n",
       "rock           3965\n",
       "electronic     3786\n",
       "hiphop         2096\n",
       "classical      1616\n",
       "world          1432\n",
       "alternative    1379\n",
       "ruspop         1372\n",
       "rusrap         1161\n",
       "Name: genre, dtype: int64"
      ]
     },
     "metadata": {},
     "output_type": "display_data"
    }
   ],
   "source": [
    "# просмотр первых 10 строк moscow_genres\n",
    "display(moscow_genres.head(10))"
   ]
  },
  {
   "cell_type": "markdown",
   "metadata": {
    "deletable": false,
    "editable": false,
    "id": "cnPG2vnN_Zcv",
    "tags": [
     "start_task"
    ]
   },
   "source": [
    "**Задание 28**\n",
    "\n",
    "\n",
    "Теперь повторите то же и для Петербурга.\n",
    "\n",
    "Сгруппируйте таблицу `spb_general` по жанру. Посчитайте прослушивания треков каждого жанра. Результат отсортируйте в порядке убывания и сохраните в таблице `spb_genres`:\n"
   ]
  },
  {
   "cell_type": "code",
   "execution_count": 37,
   "metadata": {
    "deletable": false,
    "id": "gluLIpE7_Zcv"
   },
   "outputs": [],
   "source": [
    "# одной строкой: группировка таблицы spb_general по столбцу 'genre', \n",
    "# подсчёт числа значений 'genre' в этой группировке методом count(), \n",
    "# сортировка получившегося Series в порядке убывания и сохранение в spb_genres\n",
    "spb_genres = spb_general.groupby('genre') ['genre'].count().sort_values(ascending=False)"
   ]
  },
  {
   "cell_type": "markdown",
   "metadata": {
    "deletable": false,
    "editable": false,
    "id": "5Doha_ODgyQ8",
    "tags": [
     "start_task"
    ]
   },
   "source": [
    "**Задание 29**\n",
    "\n",
    "Выведите на экран первые десять строк `spb_genres`:"
   ]
  },
  {
   "cell_type": "code",
   "execution_count": 38,
   "metadata": {
    "deletable": false,
    "id": "uaGJHjVU_Zcv"
   },
   "outputs": [
    {
     "data": {
      "text/plain": [
       "genre\n",
       "pop            2431\n",
       "dance          1932\n",
       "rock           1879\n",
       "electronic     1736\n",
       "hiphop          960\n",
       "alternative     649\n",
       "classical       646\n",
       "rusrap          564\n",
       "ruspop          538\n",
       "world           515\n",
       "Name: genre, dtype: int64"
      ]
     },
     "execution_count": 38,
     "metadata": {},
     "output_type": "execute_result"
    }
   ],
   "source": [
    "# просмотр первых 10 строк spb_genres\n",
    "spb_genres.head(10)"
   ]
  },
  {
   "cell_type": "markdown",
   "metadata": {
    "deletable": false,
    "editable": false,
    "id": "RY51YJYu_Zcv"
   },
   "source": [
    "**Выводы**"
   ]
  },
  {
   "cell_type": "markdown",
   "metadata": {
    "deletable": false,
    "editable": false,
    "id": "nVhnJEm__Zcv"
   },
   "source": [
    "Гипотеза частично подтвердилась:\n",
    "* Поп-музыка — самый популярный жанр в Москве, как и предполагала гипотеза. Более того, в топ-10 жанров встречается близкий жанр — русская популярная музыка.\n",
    "* Вопреки ожиданиям, рэп одинаково популярен в Москве и Петербурге. \n"
   ]
  },
  {
   "cell_type": "markdown",
   "metadata": {
    "deletable": false,
    "editable": false,
    "id": "ykKQ0N65_Zcv"
   },
   "source": [
    "## Итоги исследования"
   ]
  },
  {
   "cell_type": "markdown",
   "metadata": {
    "deletable": false,
    "editable": false,
    "id": "tjUwbHb3_Zcv"
   },
   "source": [
    "Вы проверили три гипотезы и установили:\n",
    "\n",
    "1. День недели по-разному влияет на активность пользователей в Москве и Петербурге. \n",
    "\n",
    "Первая гипотеза полностью подтвердилась.\n",
    "\n",
    "2. Музыкальные предпочтения не сильно меняются в течение недели — будь то Москва или Петербург. Небольшие различия заметны в начале недели, по понедельникам:\n",
    "* в Москве слушают музыку жанра “world”,\n",
    "* в Петербурге — джаз и классику.\n",
    "\n",
    "Таким образом, вторая гипотеза подтвердилась лишь отчасти. Этот результат мог оказаться иным, если бы не пропуски в данных.\n",
    "\n",
    "3. Во вкусах пользователей Москвы и Петербурга больше общего чем различий. Вопреки ожиданиям, предпочтения жанров в Петербурге напоминают московские.\n",
    "\n",
    "Третья гипотеза не подтвердилась. Если различия в предпочтениях и существуют, на основной массе пользователей они незаметны.\n",
    "\n",
    "**На практике исследования содержат проверки статистических гипотез.**\n",
    "Из данных одного сервиса не всегда можно сделать вывод о всех жителях города.\n",
    "Проверки статистических гипотез покажут, насколько они достоверны, исходя из имеющихся данных. \n",
    "С методами проверок гипотез вы ещё познакомитесь в следующих темах."
   ]
  }
 ],
 "metadata": {
  "ExecuteTimeLog": [
   {
    "duration": 436,
    "start_time": "2023-01-14T16:10:42.945Z"
   },
   {
    "duration": 134,
    "start_time": "2023-01-14T16:10:44.385Z"
   },
   {
    "duration": 101,
    "start_time": "2023-01-14T16:13:43.936Z"
   },
   {
    "duration": 19,
    "start_time": "2023-01-14T16:18:23.348Z"
   },
   {
    "duration": 504,
    "start_time": "2023-01-14T16:18:58.885Z"
   },
   {
    "duration": 5,
    "start_time": "2023-01-14T16:19:02.990Z"
   },
   {
    "duration": 198,
    "start_time": "2023-01-14T16:19:04.473Z"
   },
   {
    "duration": 29,
    "start_time": "2023-01-14T16:19:27.225Z"
   },
   {
    "duration": 3,
    "start_time": "2023-01-14T16:24:27.927Z"
   },
   {
    "duration": 169,
    "start_time": "2023-01-14T16:24:28.940Z"
   },
   {
    "duration": 12,
    "start_time": "2023-01-14T16:24:30.551Z"
   },
   {
    "duration": 40,
    "start_time": "2023-01-14T16:25:04.145Z"
   },
   {
    "duration": 2,
    "start_time": "2023-01-14T16:34:27.952Z"
   },
   {
    "duration": 54,
    "start_time": "2023-01-15T08:40:14.280Z"
   },
   {
    "duration": 5,
    "start_time": "2023-01-15T08:40:41.427Z"
   },
   {
    "duration": 6,
    "start_time": "2023-01-15T08:40:51.640Z"
   },
   {
    "duration": 5,
    "start_time": "2023-01-15T08:41:04.085Z"
   },
   {
    "duration": 419,
    "start_time": "2023-01-15T08:41:22.890Z"
   },
   {
    "duration": 438,
    "start_time": "2023-01-15T08:41:23.311Z"
   },
   {
    "duration": 16,
    "start_time": "2023-01-15T08:41:23.751Z"
   },
   {
    "duration": 36,
    "start_time": "2023-01-15T08:41:23.769Z"
   },
   {
    "duration": 2,
    "start_time": "2023-01-15T08:41:23.807Z"
   },
   {
    "duration": 7,
    "start_time": "2023-01-15T08:41:23.810Z"
   },
   {
    "duration": 8,
    "start_time": "2023-01-15T08:41:23.819Z"
   },
   {
    "duration": 6,
    "start_time": "2023-01-15T08:41:23.828Z"
   },
   {
    "duration": 5,
    "start_time": "2023-01-15T08:41:23.835Z"
   },
   {
    "duration": 4,
    "start_time": "2023-01-15T08:41:23.842Z"
   },
   {
    "duration": 5,
    "start_time": "2023-01-15T08:41:23.848Z"
   },
   {
    "duration": 6,
    "start_time": "2023-01-15T08:41:23.855Z"
   },
   {
    "duration": 7,
    "start_time": "2023-01-15T08:41:23.863Z"
   },
   {
    "duration": 5,
    "start_time": "2023-01-15T08:41:23.872Z"
   },
   {
    "duration": 5,
    "start_time": "2023-01-15T08:41:23.878Z"
   },
   {
    "duration": 4,
    "start_time": "2023-01-15T08:41:23.886Z"
   },
   {
    "duration": 16,
    "start_time": "2023-01-15T08:41:23.892Z"
   },
   {
    "duration": 10,
    "start_time": "2023-01-15T08:41:23.910Z"
   },
   {
    "duration": 6,
    "start_time": "2023-01-15T08:41:23.922Z"
   },
   {
    "duration": 11,
    "start_time": "2023-01-15T08:41:23.930Z"
   },
   {
    "duration": 5,
    "start_time": "2023-01-15T08:41:23.943Z"
   },
   {
    "duration": 5,
    "start_time": "2023-01-15T08:41:23.949Z"
   },
   {
    "duration": 4,
    "start_time": "2023-01-15T08:41:23.956Z"
   },
   {
    "duration": 7,
    "start_time": "2023-01-15T08:41:23.962Z"
   },
   {
    "duration": 7,
    "start_time": "2023-01-15T08:41:23.970Z"
   },
   {
    "duration": 6,
    "start_time": "2023-01-15T08:41:23.978Z"
   },
   {
    "duration": 7,
    "start_time": "2023-01-15T08:41:23.985Z"
   },
   {
    "duration": 9,
    "start_time": "2023-01-15T08:41:23.995Z"
   },
   {
    "duration": 5,
    "start_time": "2023-01-15T08:41:24.005Z"
   },
   {
    "duration": 72,
    "start_time": "2023-01-15T08:41:24.012Z"
   },
   {
    "duration": 0,
    "start_time": "2023-01-15T08:41:24.085Z"
   },
   {
    "duration": 0,
    "start_time": "2023-01-15T08:41:24.086Z"
   },
   {
    "duration": 0,
    "start_time": "2023-01-15T08:41:24.087Z"
   },
   {
    "duration": 0,
    "start_time": "2023-01-15T08:41:24.088Z"
   },
   {
    "duration": 0,
    "start_time": "2023-01-15T08:41:24.089Z"
   },
   {
    "duration": 0,
    "start_time": "2023-01-15T08:41:24.090Z"
   },
   {
    "duration": 0,
    "start_time": "2023-01-15T08:41:24.091Z"
   },
   {
    "duration": 0,
    "start_time": "2023-01-15T08:41:24.092Z"
   },
   {
    "duration": 4,
    "start_time": "2023-01-15T08:41:48.638Z"
   },
   {
    "duration": 10,
    "start_time": "2023-01-15T08:47:38.668Z"
   },
   {
    "duration": 4,
    "start_time": "2023-01-15T08:47:40.272Z"
   },
   {
    "duration": 3,
    "start_time": "2023-01-15T10:08:16.938Z"
   },
   {
    "duration": 17,
    "start_time": "2023-01-15T10:08:18.148Z"
   },
   {
    "duration": 4,
    "start_time": "2023-01-15T10:09:01.618Z"
   },
   {
    "duration": 12,
    "start_time": "2023-01-15T10:09:03.366Z"
   },
   {
    "duration": 4,
    "start_time": "2023-01-15T10:09:04.617Z"
   },
   {
    "duration": 5,
    "start_time": "2023-01-15T14:59:18.652Z"
   },
   {
    "duration": 12,
    "start_time": "2023-01-15T14:59:23.434Z"
   },
   {
    "duration": 4,
    "start_time": "2023-01-15T14:59:28.102Z"
   },
   {
    "duration": 29,
    "start_time": "2023-01-15T15:03:11.981Z"
   },
   {
    "duration": 93,
    "start_time": "2023-01-15T15:15:01.591Z"
   },
   {
    "duration": 4,
    "start_time": "2023-01-15T15:15:43.945Z"
   },
   {
    "duration": 3,
    "start_time": "2023-01-15T15:15:47.145Z"
   },
   {
    "duration": 52,
    "start_time": "2023-01-15T15:16:08.530Z"
   },
   {
    "duration": 3,
    "start_time": "2023-01-15T15:16:23.283Z"
   },
   {
    "duration": 471,
    "start_time": "2023-01-15T15:16:38.317Z"
   },
   {
    "duration": 175,
    "start_time": "2023-01-15T15:16:38.790Z"
   },
   {
    "duration": 38,
    "start_time": "2023-01-15T15:16:38.967Z"
   },
   {
    "duration": 55,
    "start_time": "2023-01-15T15:16:39.008Z"
   },
   {
    "duration": 31,
    "start_time": "2023-01-15T15:16:39.065Z"
   },
   {
    "duration": 34,
    "start_time": "2023-01-15T15:16:39.099Z"
   },
   {
    "duration": 23,
    "start_time": "2023-01-15T15:16:39.136Z"
   },
   {
    "duration": 26,
    "start_time": "2023-01-15T15:16:39.160Z"
   },
   {
    "duration": 77,
    "start_time": "2023-01-15T15:16:39.188Z"
   },
   {
    "duration": 19,
    "start_time": "2023-01-15T15:16:39.269Z"
   },
   {
    "duration": 60,
    "start_time": "2023-01-15T15:16:39.293Z"
   },
   {
    "duration": 18,
    "start_time": "2023-01-15T15:16:39.355Z"
   },
   {
    "duration": 29,
    "start_time": "2023-01-15T15:16:39.375Z"
   },
   {
    "duration": 20,
    "start_time": "2023-01-15T15:16:39.406Z"
   },
   {
    "duration": 22,
    "start_time": "2023-01-15T15:16:39.428Z"
   },
   {
    "duration": 14,
    "start_time": "2023-01-15T15:16:39.452Z"
   },
   {
    "duration": 29,
    "start_time": "2023-01-15T15:16:39.467Z"
   },
   {
    "duration": 32,
    "start_time": "2023-01-15T15:16:39.498Z"
   },
   {
    "duration": 20,
    "start_time": "2023-01-15T15:16:39.532Z"
   },
   {
    "duration": 33,
    "start_time": "2023-01-15T15:16:39.554Z"
   },
   {
    "duration": 23,
    "start_time": "2023-01-15T15:16:39.590Z"
   },
   {
    "duration": 28,
    "start_time": "2023-01-15T15:16:39.616Z"
   },
   {
    "duration": 45,
    "start_time": "2023-01-15T15:16:39.646Z"
   },
   {
    "duration": 28,
    "start_time": "2023-01-15T15:16:39.694Z"
   },
   {
    "duration": 25,
    "start_time": "2023-01-15T15:16:39.725Z"
   },
   {
    "duration": 31,
    "start_time": "2023-01-15T15:16:39.753Z"
   },
   {
    "duration": 22,
    "start_time": "2023-01-15T15:16:39.786Z"
   },
   {
    "duration": 38,
    "start_time": "2023-01-15T15:16:39.814Z"
   },
   {
    "duration": 19,
    "start_time": "2023-01-15T15:16:39.855Z"
   },
   {
    "duration": 77,
    "start_time": "2023-01-15T15:16:39.877Z"
   },
   {
    "duration": 0,
    "start_time": "2023-01-15T15:16:39.956Z"
   },
   {
    "duration": 0,
    "start_time": "2023-01-15T15:16:39.957Z"
   },
   {
    "duration": 0,
    "start_time": "2023-01-15T15:16:39.960Z"
   },
   {
    "duration": 0,
    "start_time": "2023-01-15T15:16:39.961Z"
   },
   {
    "duration": 0,
    "start_time": "2023-01-15T15:16:39.962Z"
   },
   {
    "duration": 0,
    "start_time": "2023-01-15T15:16:39.964Z"
   },
   {
    "duration": 0,
    "start_time": "2023-01-15T15:16:39.965Z"
   },
   {
    "duration": 0,
    "start_time": "2023-01-15T15:16:39.967Z"
   },
   {
    "duration": 28,
    "start_time": "2023-01-15T15:16:49.081Z"
   },
   {
    "duration": 3,
    "start_time": "2023-01-15T15:16:50.660Z"
   },
   {
    "duration": 26,
    "start_time": "2023-01-15T15:16:54.324Z"
   },
   {
    "duration": 35,
    "start_time": "2023-01-15T15:17:05.844Z"
   },
   {
    "duration": 6,
    "start_time": "2023-01-15T15:17:08.468Z"
   },
   {
    "duration": 43,
    "start_time": "2023-01-15T15:17:10.362Z"
   },
   {
    "duration": 4,
    "start_time": "2023-01-15T15:17:19.548Z"
   },
   {
    "duration": 4,
    "start_time": "2023-01-15T15:24:04.935Z"
   },
   {
    "duration": 24,
    "start_time": "2023-01-15T15:24:06.606Z"
   },
   {
    "duration": 24,
    "start_time": "2023-01-15T15:24:09.442Z"
   },
   {
    "duration": 3,
    "start_time": "2023-01-15T15:30:14.286Z"
   },
   {
    "duration": 27,
    "start_time": "2023-01-15T15:30:16.010Z"
   },
   {
    "duration": 2,
    "start_time": "2023-01-15T15:30:21.011Z"
   },
   {
    "duration": 28,
    "start_time": "2023-01-15T15:30:22.165Z"
   },
   {
    "duration": 63,
    "start_time": "2023-01-15T15:30:38.501Z"
   },
   {
    "duration": 8,
    "start_time": "2023-01-15T15:30:57.064Z"
   },
   {
    "duration": 8,
    "start_time": "2023-01-15T15:31:01.775Z"
   },
   {
    "duration": 40,
    "start_time": "2023-01-15T15:31:04.297Z"
   },
   {
    "duration": 3,
    "start_time": "2023-01-15T15:31:17.185Z"
   },
   {
    "duration": 26,
    "start_time": "2023-01-15T15:31:18.956Z"
   },
   {
    "duration": 443,
    "start_time": "2023-01-15T15:31:32.484Z"
   },
   {
    "duration": 186,
    "start_time": "2023-01-15T15:31:32.929Z"
   },
   {
    "duration": 16,
    "start_time": "2023-01-15T15:31:33.117Z"
   },
   {
    "duration": 38,
    "start_time": "2023-01-15T15:31:33.135Z"
   },
   {
    "duration": 21,
    "start_time": "2023-01-15T15:31:33.175Z"
   },
   {
    "duration": 31,
    "start_time": "2023-01-15T15:31:33.198Z"
   },
   {
    "duration": 24,
    "start_time": "2023-01-15T15:31:33.231Z"
   },
   {
    "duration": 41,
    "start_time": "2023-01-15T15:31:33.257Z"
   },
   {
    "duration": 74,
    "start_time": "2023-01-15T15:31:33.299Z"
   },
   {
    "duration": 26,
    "start_time": "2023-01-15T15:31:33.375Z"
   },
   {
    "duration": 54,
    "start_time": "2023-01-15T15:31:33.403Z"
   },
   {
    "duration": 28,
    "start_time": "2023-01-15T15:31:33.460Z"
   },
   {
    "duration": 16,
    "start_time": "2023-01-15T15:31:33.490Z"
   },
   {
    "duration": 28,
    "start_time": "2023-01-15T15:31:33.509Z"
   },
   {
    "duration": 20,
    "start_time": "2023-01-15T15:31:33.539Z"
   },
   {
    "duration": 25,
    "start_time": "2023-01-15T15:31:33.561Z"
   },
   {
    "duration": 34,
    "start_time": "2023-01-15T15:31:33.589Z"
   },
   {
    "duration": 26,
    "start_time": "2023-01-15T15:31:33.625Z"
   },
   {
    "duration": 25,
    "start_time": "2023-01-15T15:31:33.652Z"
   },
   {
    "duration": 9,
    "start_time": "2023-01-15T15:31:33.679Z"
   },
   {
    "duration": 29,
    "start_time": "2023-01-15T15:31:33.690Z"
   },
   {
    "duration": 15,
    "start_time": "2023-01-15T15:31:33.721Z"
   },
   {
    "duration": 20,
    "start_time": "2023-01-15T15:31:33.738Z"
   },
   {
    "duration": 20,
    "start_time": "2023-01-15T15:31:33.760Z"
   },
   {
    "duration": 25,
    "start_time": "2023-01-15T15:31:33.781Z"
   },
   {
    "duration": 16,
    "start_time": "2023-01-15T15:31:33.808Z"
   },
   {
    "duration": 34,
    "start_time": "2023-01-15T15:31:33.826Z"
   },
   {
    "duration": 24,
    "start_time": "2023-01-15T15:31:33.861Z"
   },
   {
    "duration": 33,
    "start_time": "2023-01-15T15:31:33.887Z"
   },
   {
    "duration": 74,
    "start_time": "2023-01-15T15:31:33.922Z"
   },
   {
    "duration": 0,
    "start_time": "2023-01-15T15:31:33.998Z"
   },
   {
    "duration": 0,
    "start_time": "2023-01-15T15:31:34.000Z"
   },
   {
    "duration": 0,
    "start_time": "2023-01-15T15:31:34.002Z"
   },
   {
    "duration": 0,
    "start_time": "2023-01-15T15:31:34.003Z"
   },
   {
    "duration": 0,
    "start_time": "2023-01-15T15:31:34.004Z"
   },
   {
    "duration": 0,
    "start_time": "2023-01-15T15:31:34.006Z"
   },
   {
    "duration": 0,
    "start_time": "2023-01-15T15:31:34.007Z"
   },
   {
    "duration": 0,
    "start_time": "2023-01-15T15:31:34.009Z"
   },
   {
    "duration": 4,
    "start_time": "2023-01-15T15:31:46.286Z"
   },
   {
    "duration": 31,
    "start_time": "2023-01-15T15:31:47.435Z"
   },
   {
    "duration": 4,
    "start_time": "2023-01-15T15:32:55.315Z"
   },
   {
    "duration": 34,
    "start_time": "2023-01-15T15:32:56.326Z"
   },
   {
    "duration": 3,
    "start_time": "2023-01-15T15:33:02.363Z"
   },
   {
    "duration": 24,
    "start_time": "2023-01-15T15:33:03.415Z"
   },
   {
    "duration": 69,
    "start_time": "2023-01-15T15:33:16.083Z"
   },
   {
    "duration": 3,
    "start_time": "2023-01-15T15:33:21.787Z"
   },
   {
    "duration": 25,
    "start_time": "2023-01-15T15:33:22.978Z"
   },
   {
    "duration": 68,
    "start_time": "2023-01-15T15:34:00.817Z"
   },
   {
    "duration": 3,
    "start_time": "2023-01-15T15:34:18.661Z"
   },
   {
    "duration": 25,
    "start_time": "2023-01-15T15:34:19.829Z"
   },
   {
    "duration": 7,
    "start_time": "2023-01-15T15:37:37.834Z"
   },
   {
    "duration": 27,
    "start_time": "2023-01-15T15:37:50.264Z"
   },
   {
    "duration": 10,
    "start_time": "2023-01-15T15:38:23.622Z"
   },
   {
    "duration": 4,
    "start_time": "2023-01-15T15:38:31.235Z"
   },
   {
    "duration": 26,
    "start_time": "2023-01-15T15:38:32.749Z"
   },
   {
    "duration": 10,
    "start_time": "2023-01-15T15:40:07.012Z"
   },
   {
    "duration": 1123,
    "start_time": "2023-01-15T15:45:33.261Z"
   },
   {
    "duration": 43,
    "start_time": "2023-01-15T15:45:34.720Z"
   },
   {
    "duration": 11,
    "start_time": "2023-01-15T15:45:48.133Z"
   },
   {
    "duration": 4,
    "start_time": "2023-01-15T15:45:58.475Z"
   },
   {
    "duration": 26,
    "start_time": "2023-01-15T15:45:59.791Z"
   },
   {
    "duration": 4,
    "start_time": "2023-01-15T15:46:02.510Z"
   },
   {
    "duration": 36,
    "start_time": "2023-01-15T15:46:03.671Z"
   },
   {
    "duration": 14,
    "start_time": "2023-01-15T15:55:42.995Z"
   },
   {
    "duration": 4,
    "start_time": "2023-01-15T15:55:54.175Z"
   },
   {
    "duration": 24,
    "start_time": "2023-01-15T15:55:55.347Z"
   },
   {
    "duration": 1121,
    "start_time": "2023-01-15T15:56:36.562Z"
   },
   {
    "duration": 24,
    "start_time": "2023-01-15T15:56:37.788Z"
   },
   {
    "duration": 3,
    "start_time": "2023-01-15T15:57:16.598Z"
   },
   {
    "duration": 5,
    "start_time": "2023-01-15T15:57:40.233Z"
   },
   {
    "duration": 25,
    "start_time": "2023-01-15T15:57:41.439Z"
   },
   {
    "duration": 4,
    "start_time": "2023-01-15T15:57:44.371Z"
   },
   {
    "duration": 25,
    "start_time": "2023-01-15T15:57:45.591Z"
   },
   {
    "duration": 5,
    "start_time": "2023-01-15T15:57:52.970Z"
   },
   {
    "duration": 26,
    "start_time": "2023-01-15T15:57:53.885Z"
   },
   {
    "duration": 395,
    "start_time": "2023-01-15T15:58:34.918Z"
   },
   {
    "duration": 158,
    "start_time": "2023-01-15T15:58:35.315Z"
   },
   {
    "duration": 16,
    "start_time": "2023-01-15T15:58:35.474Z"
   },
   {
    "duration": 36,
    "start_time": "2023-01-15T15:58:35.493Z"
   },
   {
    "duration": 2,
    "start_time": "2023-01-15T15:58:35.531Z"
   },
   {
    "duration": 8,
    "start_time": "2023-01-15T15:58:35.535Z"
   },
   {
    "duration": 12,
    "start_time": "2023-01-15T15:58:35.545Z"
   },
   {
    "duration": 16,
    "start_time": "2023-01-15T15:58:35.559Z"
   },
   {
    "duration": 40,
    "start_time": "2023-01-15T15:58:35.576Z"
   },
   {
    "duration": 64,
    "start_time": "2023-01-15T15:58:35.618Z"
   },
   {
    "duration": 0,
    "start_time": "2023-01-15T15:58:35.685Z"
   },
   {
    "duration": 0,
    "start_time": "2023-01-15T15:58:35.685Z"
   },
   {
    "duration": 0,
    "start_time": "2023-01-15T15:58:35.686Z"
   },
   {
    "duration": 0,
    "start_time": "2023-01-15T15:58:35.706Z"
   },
   {
    "duration": 0,
    "start_time": "2023-01-15T15:58:35.707Z"
   },
   {
    "duration": 0,
    "start_time": "2023-01-15T15:58:35.708Z"
   },
   {
    "duration": 0,
    "start_time": "2023-01-15T15:58:35.710Z"
   },
   {
    "duration": 0,
    "start_time": "2023-01-15T15:58:35.711Z"
   },
   {
    "duration": 0,
    "start_time": "2023-01-15T15:58:35.712Z"
   },
   {
    "duration": 0,
    "start_time": "2023-01-15T15:58:35.713Z"
   },
   {
    "duration": 0,
    "start_time": "2023-01-15T15:58:35.715Z"
   },
   {
    "duration": 0,
    "start_time": "2023-01-15T15:58:35.716Z"
   },
   {
    "duration": 0,
    "start_time": "2023-01-15T15:58:35.717Z"
   },
   {
    "duration": 0,
    "start_time": "2023-01-15T15:58:35.718Z"
   },
   {
    "duration": 0,
    "start_time": "2023-01-15T15:58:35.719Z"
   },
   {
    "duration": 0,
    "start_time": "2023-01-15T15:58:35.720Z"
   },
   {
    "duration": 0,
    "start_time": "2023-01-15T15:58:35.721Z"
   },
   {
    "duration": 0,
    "start_time": "2023-01-15T15:58:35.722Z"
   },
   {
    "duration": 0,
    "start_time": "2023-01-15T15:58:35.723Z"
   },
   {
    "duration": 0,
    "start_time": "2023-01-15T15:58:35.724Z"
   },
   {
    "duration": 0,
    "start_time": "2023-01-15T15:58:35.725Z"
   },
   {
    "duration": 0,
    "start_time": "2023-01-15T15:58:35.726Z"
   },
   {
    "duration": 0,
    "start_time": "2023-01-15T15:58:35.727Z"
   },
   {
    "duration": 0,
    "start_time": "2023-01-15T15:58:35.728Z"
   },
   {
    "duration": 0,
    "start_time": "2023-01-15T15:58:35.729Z"
   },
   {
    "duration": 0,
    "start_time": "2023-01-15T15:58:35.730Z"
   },
   {
    "duration": 0,
    "start_time": "2023-01-15T15:58:35.731Z"
   },
   {
    "duration": 0,
    "start_time": "2023-01-15T15:58:35.732Z"
   },
   {
    "duration": 8,
    "start_time": "2023-01-15T15:59:15.279Z"
   },
   {
    "duration": 3,
    "start_time": "2023-01-15T16:00:56.667Z"
   },
   {
    "duration": 25,
    "start_time": "2023-01-15T16:00:58.058Z"
   },
   {
    "duration": 397,
    "start_time": "2023-01-16T14:35:14.401Z"
   },
   {
    "duration": 472,
    "start_time": "2023-01-16T14:35:15.473Z"
   },
   {
    "duration": 17,
    "start_time": "2023-01-16T14:35:17.256Z"
   },
   {
    "duration": 31,
    "start_time": "2023-01-16T14:35:21.069Z"
   },
   {
    "duration": 2,
    "start_time": "2023-01-16T14:35:23.323Z"
   },
   {
    "duration": 4,
    "start_time": "2023-01-16T14:35:25.864Z"
   },
   {
    "duration": 11,
    "start_time": "2023-01-16T14:35:28.115Z"
   },
   {
    "duration": 4,
    "start_time": "2023-01-16T14:35:29.451Z"
   },
   {
    "duration": 28,
    "start_time": "2023-01-16T14:35:30.977Z"
   },
   {
    "duration": 5,
    "start_time": "2023-01-16T14:35:34.691Z"
   },
   {
    "duration": 26,
    "start_time": "2023-01-16T14:35:36.282Z"
   },
   {
    "duration": 3,
    "start_time": "2023-01-16T14:38:49.982Z"
   },
   {
    "duration": 25,
    "start_time": "2023-01-16T14:38:51.797Z"
   },
   {
    "duration": 3,
    "start_time": "2023-01-16T14:38:56.970Z"
   },
   {
    "duration": 27,
    "start_time": "2023-01-16T14:38:58.381Z"
   },
   {
    "duration": 2,
    "start_time": "2023-01-16T14:39:13.938Z"
   },
   {
    "duration": 27,
    "start_time": "2023-01-16T14:39:14.860Z"
   },
   {
    "duration": 33,
    "start_time": "2023-01-16T14:39:53.535Z"
   },
   {
    "duration": 3,
    "start_time": "2023-01-16T14:39:55.410Z"
   },
   {
    "duration": 24,
    "start_time": "2023-01-16T14:39:57.087Z"
   },
   {
    "duration": 464,
    "start_time": "2023-01-16T14:40:01.965Z"
   },
   {
    "duration": 181,
    "start_time": "2023-01-16T14:40:02.431Z"
   },
   {
    "duration": 19,
    "start_time": "2023-01-16T14:40:02.614Z"
   },
   {
    "duration": 47,
    "start_time": "2023-01-16T14:40:02.635Z"
   },
   {
    "duration": 4,
    "start_time": "2023-01-16T14:40:02.684Z"
   },
   {
    "duration": 23,
    "start_time": "2023-01-16T14:40:02.690Z"
   },
   {
    "duration": 26,
    "start_time": "2023-01-16T14:40:02.715Z"
   },
   {
    "duration": 21,
    "start_time": "2023-01-16T14:40:02.743Z"
   },
   {
    "duration": 49,
    "start_time": "2023-01-16T14:40:02.766Z"
   },
   {
    "duration": 19,
    "start_time": "2023-01-16T14:40:02.818Z"
   },
   {
    "duration": 32,
    "start_time": "2023-01-16T14:40:02.840Z"
   },
   {
    "duration": 20,
    "start_time": "2023-01-16T14:40:02.874Z"
   },
   {
    "duration": 8,
    "start_time": "2023-01-16T14:40:02.896Z"
   },
   {
    "duration": 24,
    "start_time": "2023-01-16T14:40:02.905Z"
   },
   {
    "duration": 12,
    "start_time": "2023-01-16T14:40:02.930Z"
   },
   {
    "duration": 8,
    "start_time": "2023-01-16T14:40:02.944Z"
   },
   {
    "duration": 15,
    "start_time": "2023-01-16T14:40:02.954Z"
   },
   {
    "duration": 20,
    "start_time": "2023-01-16T14:40:02.971Z"
   },
   {
    "duration": 32,
    "start_time": "2023-01-16T14:40:02.993Z"
   },
   {
    "duration": 22,
    "start_time": "2023-01-16T14:40:03.027Z"
   },
   {
    "duration": 8,
    "start_time": "2023-01-16T14:40:03.050Z"
   },
   {
    "duration": 10,
    "start_time": "2023-01-16T14:40:03.060Z"
   },
   {
    "duration": 20,
    "start_time": "2023-01-16T14:40:03.072Z"
   },
   {
    "duration": 33,
    "start_time": "2023-01-16T14:40:03.094Z"
   },
   {
    "duration": 25,
    "start_time": "2023-01-16T14:40:03.129Z"
   },
   {
    "duration": 7,
    "start_time": "2023-01-16T14:40:03.155Z"
   },
   {
    "duration": 14,
    "start_time": "2023-01-16T14:40:03.163Z"
   },
   {
    "duration": 4,
    "start_time": "2023-01-16T14:40:03.181Z"
   },
   {
    "duration": 10,
    "start_time": "2023-01-16T14:40:03.186Z"
   },
   {
    "duration": 69,
    "start_time": "2023-01-16T14:40:03.198Z"
   },
   {
    "duration": 0,
    "start_time": "2023-01-16T14:40:03.269Z"
   },
   {
    "duration": 0,
    "start_time": "2023-01-16T14:40:03.271Z"
   },
   {
    "duration": 0,
    "start_time": "2023-01-16T14:40:03.273Z"
   },
   {
    "duration": 0,
    "start_time": "2023-01-16T14:40:03.274Z"
   },
   {
    "duration": 0,
    "start_time": "2023-01-16T14:40:03.276Z"
   },
   {
    "duration": 0,
    "start_time": "2023-01-16T14:40:03.277Z"
   },
   {
    "duration": 0,
    "start_time": "2023-01-16T14:40:03.279Z"
   },
   {
    "duration": 0,
    "start_time": "2023-01-16T14:40:03.280Z"
   },
   {
    "duration": 28,
    "start_time": "2023-01-16T14:40:11.358Z"
   },
   {
    "duration": 3,
    "start_time": "2023-01-16T14:40:13.589Z"
   },
   {
    "duration": 29,
    "start_time": "2023-01-16T14:40:14.777Z"
   },
   {
    "duration": 8,
    "start_time": "2023-01-16T14:40:37.576Z"
   },
   {
    "duration": 27,
    "start_time": "2023-01-16T14:40:38.713Z"
   },
   {
    "duration": 7,
    "start_time": "2023-01-16T14:40:43.976Z"
   },
   {
    "duration": 28,
    "start_time": "2023-01-16T14:40:45.344Z"
   },
   {
    "duration": 817,
    "start_time": "2023-01-16T14:40:52.945Z"
   },
   {
    "duration": 27,
    "start_time": "2023-01-16T14:40:54.189Z"
   },
   {
    "duration": 7,
    "start_time": "2023-01-16T14:41:08.938Z"
   },
   {
    "duration": 35,
    "start_time": "2023-01-16T14:41:10.652Z"
   },
   {
    "duration": 3,
    "start_time": "2023-01-16T14:41:36.539Z"
   },
   {
    "duration": 28,
    "start_time": "2023-01-16T14:41:37.895Z"
   },
   {
    "duration": 4,
    "start_time": "2023-01-16T14:41:42.919Z"
   },
   {
    "duration": 28,
    "start_time": "2023-01-16T14:41:45.714Z"
   },
   {
    "duration": 3,
    "start_time": "2023-01-16T14:42:37.912Z"
   },
   {
    "duration": 26,
    "start_time": "2023-01-16T14:42:39.193Z"
   },
   {
    "duration": 3,
    "start_time": "2023-01-16T14:52:35.936Z"
   },
   {
    "duration": 25,
    "start_time": "2023-01-16T14:52:38.045Z"
   },
   {
    "duration": 4,
    "start_time": "2023-01-16T14:52:44.638Z"
   },
   {
    "duration": 26,
    "start_time": "2023-01-16T14:52:45.861Z"
   },
   {
    "duration": 3,
    "start_time": "2023-01-16T14:52:54.828Z"
   },
   {
    "duration": 26,
    "start_time": "2023-01-16T14:52:56.190Z"
   },
   {
    "duration": 3,
    "start_time": "2023-01-16T14:53:03.164Z"
   },
   {
    "duration": 26,
    "start_time": "2023-01-16T14:53:04.412Z"
   },
   {
    "duration": 25,
    "start_time": "2023-01-16T14:55:06.015Z"
   },
   {
    "duration": 2,
    "start_time": "2023-01-16T14:55:07.799Z"
   },
   {
    "duration": 26,
    "start_time": "2023-01-16T14:55:09.314Z"
   },
   {
    "duration": 3,
    "start_time": "2023-01-16T15:05:04.901Z"
   },
   {
    "duration": 27,
    "start_time": "2023-01-16T15:05:05.949Z"
   },
   {
    "duration": 5,
    "start_time": "2023-01-16T15:05:10.445Z"
   },
   {
    "duration": 47,
    "start_time": "2023-01-16T15:05:12.138Z"
   },
   {
    "duration": 3,
    "start_time": "2023-01-16T15:05:24.029Z"
   },
   {
    "duration": 27,
    "start_time": "2023-01-16T15:05:25.108Z"
   },
   {
    "duration": 3,
    "start_time": "2023-01-16T15:05:29.644Z"
   },
   {
    "duration": 27,
    "start_time": "2023-01-16T15:05:30.934Z"
   },
   {
    "duration": 3,
    "start_time": "2023-01-16T15:05:59.080Z"
   },
   {
    "duration": 27,
    "start_time": "2023-01-16T15:06:00.188Z"
   },
   {
    "duration": 41,
    "start_time": "2023-01-16T15:06:06.048Z"
   },
   {
    "duration": 3,
    "start_time": "2023-01-16T15:06:08.346Z"
   },
   {
    "duration": 27,
    "start_time": "2023-01-16T15:06:09.724Z"
   },
   {
    "duration": 4,
    "start_time": "2023-01-16T15:36:38.333Z"
   },
   {
    "duration": 26,
    "start_time": "2023-01-16T15:36:39.329Z"
   },
   {
    "duration": 174,
    "start_time": "2023-01-16T15:50:01.518Z"
   },
   {
    "duration": 3,
    "start_time": "2023-01-16T15:50:16.307Z"
   },
   {
    "duration": 28,
    "start_time": "2023-01-16T15:50:19.133Z"
   },
   {
    "duration": 3,
    "start_time": "2023-01-16T15:50:57.746Z"
   },
   {
    "duration": 30,
    "start_time": "2023-01-16T15:50:59.599Z"
   },
   {
    "duration": 3,
    "start_time": "2023-01-16T15:51:13.812Z"
   },
   {
    "duration": 26,
    "start_time": "2023-01-16T15:51:16.015Z"
   },
   {
    "duration": 453,
    "start_time": "2023-01-16T15:51:50.735Z"
   },
   {
    "duration": 179,
    "start_time": "2023-01-16T15:51:51.189Z"
   },
   {
    "duration": 18,
    "start_time": "2023-01-16T15:51:51.370Z"
   },
   {
    "duration": 30,
    "start_time": "2023-01-16T15:51:51.390Z"
   },
   {
    "duration": 3,
    "start_time": "2023-01-16T15:51:51.422Z"
   },
   {
    "duration": 34,
    "start_time": "2023-01-16T15:51:51.428Z"
   },
   {
    "duration": 12,
    "start_time": "2023-01-16T15:51:51.464Z"
   },
   {
    "duration": 12,
    "start_time": "2023-01-16T15:51:51.478Z"
   },
   {
    "duration": 48,
    "start_time": "2023-01-16T15:51:51.491Z"
   },
   {
    "duration": 7,
    "start_time": "2023-01-16T15:51:51.541Z"
   },
   {
    "duration": 38,
    "start_time": "2023-01-16T15:51:51.550Z"
   },
   {
    "duration": 13,
    "start_time": "2023-01-16T15:51:51.590Z"
   },
   {
    "duration": 17,
    "start_time": "2023-01-16T15:51:51.604Z"
   },
   {
    "duration": 17,
    "start_time": "2023-01-16T15:51:51.623Z"
   },
   {
    "duration": 10,
    "start_time": "2023-01-16T15:51:51.641Z"
   },
   {
    "duration": 9,
    "start_time": "2023-01-16T15:51:51.653Z"
   },
   {
    "duration": 12,
    "start_time": "2023-01-16T15:51:51.663Z"
   },
   {
    "duration": 18,
    "start_time": "2023-01-16T15:51:51.677Z"
   },
   {
    "duration": 15,
    "start_time": "2023-01-16T15:51:51.697Z"
   },
   {
    "duration": 20,
    "start_time": "2023-01-16T15:51:51.715Z"
   },
   {
    "duration": 19,
    "start_time": "2023-01-16T15:51:51.737Z"
   },
   {
    "duration": 10,
    "start_time": "2023-01-16T15:51:51.758Z"
   },
   {
    "duration": 18,
    "start_time": "2023-01-16T15:51:51.770Z"
   },
   {
    "duration": 9,
    "start_time": "2023-01-16T15:51:51.790Z"
   },
   {
    "duration": 18,
    "start_time": "2023-01-16T15:51:51.801Z"
   },
   {
    "duration": 18,
    "start_time": "2023-01-16T15:51:51.821Z"
   },
   {
    "duration": 17,
    "start_time": "2023-01-16T15:51:51.840Z"
   },
   {
    "duration": 5,
    "start_time": "2023-01-16T15:51:51.862Z"
   },
   {
    "duration": 14,
    "start_time": "2023-01-16T15:51:51.868Z"
   },
   {
    "duration": 58,
    "start_time": "2023-01-16T15:51:51.884Z"
   },
   {
    "duration": 0,
    "start_time": "2023-01-16T15:51:51.944Z"
   },
   {
    "duration": 0,
    "start_time": "2023-01-16T15:51:51.946Z"
   },
   {
    "duration": 0,
    "start_time": "2023-01-16T15:51:51.947Z"
   },
   {
    "duration": 0,
    "start_time": "2023-01-16T15:51:51.949Z"
   },
   {
    "duration": 0,
    "start_time": "2023-01-16T15:51:51.951Z"
   },
   {
    "duration": 0,
    "start_time": "2023-01-16T15:51:51.952Z"
   },
   {
    "duration": 0,
    "start_time": "2023-01-16T15:51:51.953Z"
   },
   {
    "duration": 0,
    "start_time": "2023-01-16T15:51:51.955Z"
   },
   {
    "duration": 3,
    "start_time": "2023-01-16T15:52:25.922Z"
   },
   {
    "duration": 26,
    "start_time": "2023-01-16T15:52:27.581Z"
   },
   {
    "duration": 4,
    "start_time": "2023-01-16T15:53:18.789Z"
   },
   {
    "duration": 28,
    "start_time": "2023-01-16T15:53:20.624Z"
   },
   {
    "duration": 4,
    "start_time": "2023-01-16T15:53:29.521Z"
   },
   {
    "duration": 75,
    "start_time": "2023-01-16T15:53:57.107Z"
   },
   {
    "duration": 27,
    "start_time": "2023-01-16T15:54:01.585Z"
   },
   {
    "duration": 4,
    "start_time": "2023-01-16T15:54:16.762Z"
   },
   {
    "duration": 28,
    "start_time": "2023-01-16T15:54:29.906Z"
   },
   {
    "duration": 3,
    "start_time": "2023-01-16T16:05:31.971Z"
   },
   {
    "duration": 8,
    "start_time": "2023-01-16T16:06:36.419Z"
   },
   {
    "duration": 10,
    "start_time": "2023-01-16T16:06:49.936Z"
   },
   {
    "duration": 7,
    "start_time": "2023-01-16T16:07:03.538Z"
   },
   {
    "duration": 27,
    "start_time": "2023-01-16T16:07:05.965Z"
   },
   {
    "duration": 10,
    "start_time": "2023-01-16T16:07:35.377Z"
   },
   {
    "duration": 24,
    "start_time": "2023-01-16T16:08:24.665Z"
   },
   {
    "duration": 26,
    "start_time": "2023-01-16T16:08:27.206Z"
   },
   {
    "duration": 20,
    "start_time": "2023-01-16T16:09:49.448Z"
   },
   {
    "duration": 25,
    "start_time": "2023-01-16T16:09:51.036Z"
   },
   {
    "duration": 432,
    "start_time": "2023-01-16T16:09:56.840Z"
   },
   {
    "duration": 161,
    "start_time": "2023-01-16T16:09:57.274Z"
   },
   {
    "duration": 24,
    "start_time": "2023-01-16T16:09:57.436Z"
   },
   {
    "duration": 28,
    "start_time": "2023-01-16T16:09:57.462Z"
   },
   {
    "duration": 2,
    "start_time": "2023-01-16T16:09:57.492Z"
   },
   {
    "duration": 11,
    "start_time": "2023-01-16T16:09:57.495Z"
   },
   {
    "duration": 15,
    "start_time": "2023-01-16T16:09:57.507Z"
   },
   {
    "duration": 7,
    "start_time": "2023-01-16T16:09:57.524Z"
   },
   {
    "duration": 41,
    "start_time": "2023-01-16T16:09:57.533Z"
   },
   {
    "duration": 32,
    "start_time": "2023-01-16T16:09:57.576Z"
   },
   {
    "duration": 28,
    "start_time": "2023-01-16T16:09:57.610Z"
   },
   {
    "duration": 2,
    "start_time": "2023-01-16T16:09:57.640Z"
   },
   {
    "duration": 6,
    "start_time": "2023-01-16T16:09:57.643Z"
   },
   {
    "duration": 5,
    "start_time": "2023-01-16T16:09:57.650Z"
   },
   {
    "duration": 4,
    "start_time": "2023-01-16T16:09:57.657Z"
   },
   {
    "duration": 5,
    "start_time": "2023-01-16T16:09:57.662Z"
   },
   {
    "duration": 6,
    "start_time": "2023-01-16T16:09:57.668Z"
   },
   {
    "duration": 4,
    "start_time": "2023-01-16T16:09:57.676Z"
   },
   {
    "duration": 4,
    "start_time": "2023-01-16T16:09:57.682Z"
   },
   {
    "duration": 6,
    "start_time": "2023-01-16T16:09:57.687Z"
   },
   {
    "duration": 6,
    "start_time": "2023-01-16T16:09:57.695Z"
   },
   {
    "duration": 6,
    "start_time": "2023-01-16T16:09:57.702Z"
   },
   {
    "duration": 9,
    "start_time": "2023-01-16T16:09:57.709Z"
   },
   {
    "duration": 7,
    "start_time": "2023-01-16T16:09:57.719Z"
   },
   {
    "duration": 17,
    "start_time": "2023-01-16T16:09:57.727Z"
   },
   {
    "duration": 5,
    "start_time": "2023-01-16T16:09:57.746Z"
   },
   {
    "duration": 4,
    "start_time": "2023-01-16T16:09:57.754Z"
   },
   {
    "duration": 3,
    "start_time": "2023-01-16T16:09:57.761Z"
   },
   {
    "duration": 4,
    "start_time": "2023-01-16T16:09:57.766Z"
   },
   {
    "duration": 52,
    "start_time": "2023-01-16T16:09:57.772Z"
   },
   {
    "duration": 0,
    "start_time": "2023-01-16T16:09:57.825Z"
   },
   {
    "duration": 0,
    "start_time": "2023-01-16T16:09:57.826Z"
   },
   {
    "duration": 0,
    "start_time": "2023-01-16T16:09:57.827Z"
   },
   {
    "duration": 0,
    "start_time": "2023-01-16T16:09:57.828Z"
   },
   {
    "duration": 0,
    "start_time": "2023-01-16T16:09:57.829Z"
   },
   {
    "duration": 0,
    "start_time": "2023-01-16T16:09:57.831Z"
   },
   {
    "duration": 0,
    "start_time": "2023-01-16T16:09:57.832Z"
   },
   {
    "duration": 0,
    "start_time": "2023-01-16T16:09:57.833Z"
   },
   {
    "duration": 73,
    "start_time": "2023-01-16T16:43:21.314Z"
   },
   {
    "duration": 66,
    "start_time": "2023-01-16T16:43:38.232Z"
   },
   {
    "duration": 91,
    "start_time": "2023-01-16T16:52:23.999Z"
   },
   {
    "duration": 68,
    "start_time": "2023-01-16T16:52:50.181Z"
   },
   {
    "duration": 47,
    "start_time": "2023-01-16T17:00:21.319Z"
   },
   {
    "duration": 8,
    "start_time": "2023-01-16T17:00:30.118Z"
   },
   {
    "duration": 75,
    "start_time": "2023-01-16T17:02:41.278Z"
   },
   {
    "duration": 9,
    "start_time": "2023-01-16T17:03:05.593Z"
   },
   {
    "duration": 10,
    "start_time": "2023-01-16T17:03:46.629Z"
   },
   {
    "duration": 9,
    "start_time": "2023-01-16T17:03:50.549Z"
   },
   {
    "duration": 11,
    "start_time": "2023-01-16T17:04:05.310Z"
   },
   {
    "duration": 474,
    "start_time": "2023-01-16T17:04:12.867Z"
   },
   {
    "duration": 177,
    "start_time": "2023-01-16T17:04:13.343Z"
   },
   {
    "duration": 17,
    "start_time": "2023-01-16T17:04:13.522Z"
   },
   {
    "duration": 45,
    "start_time": "2023-01-16T17:04:13.541Z"
   },
   {
    "duration": 3,
    "start_time": "2023-01-16T17:04:13.587Z"
   },
   {
    "duration": 9,
    "start_time": "2023-01-16T17:04:13.592Z"
   },
   {
    "duration": 19,
    "start_time": "2023-01-16T17:04:13.602Z"
   },
   {
    "duration": 12,
    "start_time": "2023-01-16T17:04:13.624Z"
   },
   {
    "duration": 41,
    "start_time": "2023-01-16T17:04:13.656Z"
   },
   {
    "duration": 36,
    "start_time": "2023-01-16T17:04:13.702Z"
   },
   {
    "duration": 33,
    "start_time": "2023-01-16T17:04:13.754Z"
   },
   {
    "duration": 86,
    "start_time": "2023-01-16T17:04:13.789Z"
   },
   {
    "duration": 81,
    "start_time": "2023-01-16T17:04:13.877Z"
   },
   {
    "duration": 69,
    "start_time": "2023-01-16T17:04:13.960Z"
   },
   {
    "duration": 105,
    "start_time": "2023-01-16T17:04:14.031Z"
   },
   {
    "duration": 0,
    "start_time": "2023-01-16T17:04:14.139Z"
   },
   {
    "duration": 0,
    "start_time": "2023-01-16T17:04:14.144Z"
   },
   {
    "duration": 0,
    "start_time": "2023-01-16T17:04:14.155Z"
   },
   {
    "duration": 0,
    "start_time": "2023-01-16T17:04:14.158Z"
   },
   {
    "duration": 0,
    "start_time": "2023-01-16T17:04:14.159Z"
   },
   {
    "duration": 0,
    "start_time": "2023-01-16T17:04:14.161Z"
   },
   {
    "duration": 0,
    "start_time": "2023-01-16T17:04:14.162Z"
   },
   {
    "duration": 0,
    "start_time": "2023-01-16T17:04:14.164Z"
   },
   {
    "duration": 0,
    "start_time": "2023-01-16T17:04:14.166Z"
   },
   {
    "duration": 0,
    "start_time": "2023-01-16T17:04:14.168Z"
   },
   {
    "duration": 0,
    "start_time": "2023-01-16T17:04:14.170Z"
   },
   {
    "duration": 0,
    "start_time": "2023-01-16T17:04:14.172Z"
   },
   {
    "duration": 0,
    "start_time": "2023-01-16T17:04:14.174Z"
   },
   {
    "duration": 0,
    "start_time": "2023-01-16T17:04:14.176Z"
   },
   {
    "duration": 0,
    "start_time": "2023-01-16T17:04:14.177Z"
   },
   {
    "duration": 0,
    "start_time": "2023-01-16T17:04:14.179Z"
   },
   {
    "duration": 0,
    "start_time": "2023-01-16T17:04:14.180Z"
   },
   {
    "duration": 0,
    "start_time": "2023-01-16T17:04:14.182Z"
   },
   {
    "duration": 0,
    "start_time": "2023-01-16T17:04:14.183Z"
   },
   {
    "duration": 0,
    "start_time": "2023-01-16T17:04:14.184Z"
   },
   {
    "duration": 0,
    "start_time": "2023-01-16T17:04:14.186Z"
   },
   {
    "duration": 0,
    "start_time": "2023-01-16T17:04:14.187Z"
   },
   {
    "duration": 0,
    "start_time": "2023-01-16T17:04:14.188Z"
   },
   {
    "duration": 11,
    "start_time": "2023-01-16T17:04:49.597Z"
   },
   {
    "duration": 10,
    "start_time": "2023-01-16T17:07:10.568Z"
   },
   {
    "duration": 11,
    "start_time": "2023-01-16T17:07:16.907Z"
   },
   {
    "duration": 10,
    "start_time": "2023-01-16T17:07:50.886Z"
   },
   {
    "duration": 11,
    "start_time": "2023-01-16T17:08:30.816Z"
   },
   {
    "duration": 19,
    "start_time": "2023-01-16T17:09:06.580Z"
   },
   {
    "duration": 10,
    "start_time": "2023-01-16T17:09:26.881Z"
   },
   {
    "duration": 10,
    "start_time": "2023-01-16T17:09:41.392Z"
   },
   {
    "duration": 12,
    "start_time": "2023-01-16T17:11:07.822Z"
   },
   {
    "duration": 11,
    "start_time": "2023-01-16T17:11:17.225Z"
   },
   {
    "duration": 461,
    "start_time": "2023-01-16T17:11:23.446Z"
   },
   {
    "duration": 183,
    "start_time": "2023-01-16T17:11:23.909Z"
   },
   {
    "duration": 20,
    "start_time": "2023-01-16T17:11:24.097Z"
   },
   {
    "duration": 47,
    "start_time": "2023-01-16T17:11:24.119Z"
   },
   {
    "duration": 2,
    "start_time": "2023-01-16T17:11:24.168Z"
   },
   {
    "duration": 7,
    "start_time": "2023-01-16T17:11:24.172Z"
   },
   {
    "duration": 14,
    "start_time": "2023-01-16T17:11:24.181Z"
   },
   {
    "duration": 12,
    "start_time": "2023-01-16T17:11:24.197Z"
   },
   {
    "duration": 52,
    "start_time": "2023-01-16T17:11:24.212Z"
   },
   {
    "duration": 25,
    "start_time": "2023-01-16T17:11:24.267Z"
   },
   {
    "duration": 34,
    "start_time": "2023-01-16T17:11:24.294Z"
   },
   {
    "duration": 86,
    "start_time": "2023-01-16T17:11:24.330Z"
   },
   {
    "duration": 89,
    "start_time": "2023-01-16T17:11:24.418Z"
   },
   {
    "duration": 80,
    "start_time": "2023-01-16T17:11:24.509Z"
   },
   {
    "duration": 96,
    "start_time": "2023-01-16T17:11:24.591Z"
   },
   {
    "duration": 0,
    "start_time": "2023-01-16T17:11:24.690Z"
   },
   {
    "duration": 0,
    "start_time": "2023-01-16T17:11:24.691Z"
   },
   {
    "duration": 0,
    "start_time": "2023-01-16T17:11:24.693Z"
   },
   {
    "duration": 0,
    "start_time": "2023-01-16T17:11:24.694Z"
   },
   {
    "duration": 0,
    "start_time": "2023-01-16T17:11:24.695Z"
   },
   {
    "duration": 0,
    "start_time": "2023-01-16T17:11:24.697Z"
   },
   {
    "duration": 0,
    "start_time": "2023-01-16T17:11:24.699Z"
   },
   {
    "duration": 0,
    "start_time": "2023-01-16T17:11:24.701Z"
   },
   {
    "duration": 0,
    "start_time": "2023-01-16T17:11:24.702Z"
   },
   {
    "duration": 0,
    "start_time": "2023-01-16T17:11:24.704Z"
   },
   {
    "duration": 0,
    "start_time": "2023-01-16T17:11:24.705Z"
   },
   {
    "duration": 0,
    "start_time": "2023-01-16T17:11:24.707Z"
   },
   {
    "duration": 0,
    "start_time": "2023-01-16T17:11:24.708Z"
   },
   {
    "duration": 0,
    "start_time": "2023-01-16T17:11:24.710Z"
   },
   {
    "duration": 0,
    "start_time": "2023-01-16T17:11:24.711Z"
   },
   {
    "duration": 0,
    "start_time": "2023-01-16T17:11:24.712Z"
   },
   {
    "duration": 0,
    "start_time": "2023-01-16T17:11:24.713Z"
   },
   {
    "duration": 0,
    "start_time": "2023-01-16T17:11:24.714Z"
   },
   {
    "duration": 0,
    "start_time": "2023-01-16T17:11:24.757Z"
   },
   {
    "duration": 0,
    "start_time": "2023-01-16T17:11:24.759Z"
   },
   {
    "duration": 0,
    "start_time": "2023-01-16T17:11:24.761Z"
   },
   {
    "duration": 0,
    "start_time": "2023-01-16T17:11:24.764Z"
   },
   {
    "duration": 0,
    "start_time": "2023-01-16T17:11:24.767Z"
   },
   {
    "duration": 11,
    "start_time": "2023-01-16T17:11:49.918Z"
   },
   {
    "duration": 59,
    "start_time": "2023-01-16T17:12:19.897Z"
   },
   {
    "duration": 443,
    "start_time": "2023-01-16T17:12:36.670Z"
   },
   {
    "duration": 179,
    "start_time": "2023-01-16T17:12:37.115Z"
   },
   {
    "duration": 19,
    "start_time": "2023-01-16T17:12:37.295Z"
   },
   {
    "duration": 46,
    "start_time": "2023-01-16T17:12:37.316Z"
   },
   {
    "duration": 3,
    "start_time": "2023-01-16T17:12:37.364Z"
   },
   {
    "duration": 7,
    "start_time": "2023-01-16T17:12:37.368Z"
   },
   {
    "duration": 12,
    "start_time": "2023-01-16T17:12:37.377Z"
   },
   {
    "duration": 6,
    "start_time": "2023-01-16T17:12:37.391Z"
   },
   {
    "duration": 28,
    "start_time": "2023-01-16T17:12:37.399Z"
   },
   {
    "duration": 21,
    "start_time": "2023-01-16T17:12:37.454Z"
   },
   {
    "duration": 27,
    "start_time": "2023-01-16T17:12:37.477Z"
   },
   {
    "duration": 87,
    "start_time": "2023-01-16T17:12:37.505Z"
   },
   {
    "duration": 87,
    "start_time": "2023-01-16T17:12:37.593Z"
   },
   {
    "duration": 78,
    "start_time": "2023-01-16T17:12:37.682Z"
   },
   {
    "duration": 44,
    "start_time": "2023-01-16T17:12:37.762Z"
   },
   {
    "duration": 2,
    "start_time": "2023-01-16T17:12:37.808Z"
   },
   {
    "duration": 12,
    "start_time": "2023-01-16T17:12:37.812Z"
   },
   {
    "duration": 8,
    "start_time": "2023-01-16T17:12:37.826Z"
   },
   {
    "duration": 20,
    "start_time": "2023-01-16T17:12:37.835Z"
   },
   {
    "duration": 13,
    "start_time": "2023-01-16T17:12:37.857Z"
   },
   {
    "duration": 10,
    "start_time": "2023-01-16T17:12:37.872Z"
   },
   {
    "duration": 8,
    "start_time": "2023-01-16T17:12:37.884Z"
   },
   {
    "duration": 5,
    "start_time": "2023-01-16T17:12:37.894Z"
   },
   {
    "duration": 9,
    "start_time": "2023-01-16T17:12:37.901Z"
   },
   {
    "duration": 6,
    "start_time": "2023-01-16T17:12:37.911Z"
   },
   {
    "duration": 7,
    "start_time": "2023-01-16T17:12:37.918Z"
   },
   {
    "duration": 8,
    "start_time": "2023-01-16T17:12:37.926Z"
   },
   {
    "duration": 9,
    "start_time": "2023-01-16T17:12:37.937Z"
   },
   {
    "duration": 7,
    "start_time": "2023-01-16T17:12:37.949Z"
   },
   {
    "duration": 45,
    "start_time": "2023-01-16T17:12:37.958Z"
   },
   {
    "duration": 0,
    "start_time": "2023-01-16T17:12:38.006Z"
   },
   {
    "duration": 0,
    "start_time": "2023-01-16T17:12:38.009Z"
   },
   {
    "duration": 0,
    "start_time": "2023-01-16T17:12:38.010Z"
   },
   {
    "duration": 0,
    "start_time": "2023-01-16T17:12:38.011Z"
   },
   {
    "duration": 0,
    "start_time": "2023-01-16T17:12:38.012Z"
   },
   {
    "duration": 0,
    "start_time": "2023-01-16T17:12:38.014Z"
   },
   {
    "duration": 0,
    "start_time": "2023-01-16T17:12:38.016Z"
   },
   {
    "duration": 0,
    "start_time": "2023-01-16T17:12:38.017Z"
   },
   {
    "duration": 77,
    "start_time": "2023-01-16T17:17:29.401Z"
   },
   {
    "duration": 14,
    "start_time": "2023-01-16T17:18:03.628Z"
   },
   {
    "duration": 42,
    "start_time": "2023-01-16T17:19:04.171Z"
   },
   {
    "duration": 10,
    "start_time": "2023-01-16T20:41:25.205Z"
   },
   {
    "duration": 3,
    "start_time": "2023-01-16T20:47:22.478Z"
   },
   {
    "duration": 5,
    "start_time": "2023-01-16T20:47:29.949Z"
   },
   {
    "duration": 61,
    "start_time": "2023-01-16T20:47:39.149Z"
   },
   {
    "duration": 21,
    "start_time": "2023-01-16T20:48:38.661Z"
   },
   {
    "duration": 34,
    "start_time": "2023-01-16T20:48:54.702Z"
   },
   {
    "duration": 15,
    "start_time": "2023-01-16T20:49:25.864Z"
   },
   {
    "duration": 11,
    "start_time": "2023-01-16T20:50:28.368Z"
   },
   {
    "duration": 10,
    "start_time": "2023-01-16T20:51:49.504Z"
   },
   {
    "duration": 10,
    "start_time": "2023-01-16T20:52:10.759Z"
   },
   {
    "duration": 13,
    "start_time": "2023-01-16T20:52:17.745Z"
   },
   {
    "duration": 3,
    "start_time": "2023-01-16T21:01:08.196Z"
   },
   {
    "duration": 3,
    "start_time": "2023-01-16T21:01:12.626Z"
   },
   {
    "duration": 9,
    "start_time": "2023-01-16T21:01:28.826Z"
   },
   {
    "duration": 4,
    "start_time": "2023-01-16T21:01:45.214Z"
   },
   {
    "duration": 3,
    "start_time": "2023-01-16T21:01:49.516Z"
   },
   {
    "duration": 453,
    "start_time": "2023-01-16T21:02:03.698Z"
   },
   {
    "duration": 191,
    "start_time": "2023-01-16T21:02:04.153Z"
   },
   {
    "duration": 19,
    "start_time": "2023-01-16T21:02:04.345Z"
   },
   {
    "duration": 34,
    "start_time": "2023-01-16T21:02:04.366Z"
   },
   {
    "duration": 19,
    "start_time": "2023-01-16T21:02:04.402Z"
   },
   {
    "duration": 4,
    "start_time": "2023-01-16T21:02:04.423Z"
   },
   {
    "duration": 17,
    "start_time": "2023-01-16T21:02:04.429Z"
   },
   {
    "duration": 10,
    "start_time": "2023-01-16T21:02:04.448Z"
   },
   {
    "duration": 30,
    "start_time": "2023-01-16T21:02:04.460Z"
   },
   {
    "duration": 46,
    "start_time": "2023-01-16T21:02:04.493Z"
   },
   {
    "duration": 37,
    "start_time": "2023-01-16T21:02:04.542Z"
   },
   {
    "duration": 107,
    "start_time": "2023-01-16T21:02:04.581Z"
   },
   {
    "duration": 82,
    "start_time": "2023-01-16T21:02:04.690Z"
   },
   {
    "duration": 69,
    "start_time": "2023-01-16T21:02:04.774Z"
   },
   {
    "duration": 44,
    "start_time": "2023-01-16T21:02:04.845Z"
   },
   {
    "duration": 30,
    "start_time": "2023-01-16T21:02:04.891Z"
   },
   {
    "duration": 41,
    "start_time": "2023-01-16T21:02:04.923Z"
   },
   {
    "duration": 13,
    "start_time": "2023-01-16T21:02:04.966Z"
   },
   {
    "duration": 3,
    "start_time": "2023-01-16T21:02:04.980Z"
   },
   {
    "duration": 11,
    "start_time": "2023-01-16T21:02:04.985Z"
   },
   {
    "duration": 27,
    "start_time": "2023-01-16T21:02:04.998Z"
   },
   {
    "duration": 25,
    "start_time": "2023-01-16T21:02:05.026Z"
   },
   {
    "duration": 37,
    "start_time": "2023-01-16T21:02:05.053Z"
   },
   {
    "duration": 15,
    "start_time": "2023-01-16T21:02:05.092Z"
   },
   {
    "duration": 12,
    "start_time": "2023-01-16T21:02:05.109Z"
   },
   {
    "duration": 7,
    "start_time": "2023-01-16T21:02:05.122Z"
   },
   {
    "duration": 7,
    "start_time": "2023-01-16T21:02:05.131Z"
   },
   {
    "duration": 10,
    "start_time": "2023-01-16T21:02:05.141Z"
   },
   {
    "duration": 6,
    "start_time": "2023-01-16T21:02:05.152Z"
   },
   {
    "duration": 66,
    "start_time": "2023-01-16T21:02:05.160Z"
   },
   {
    "duration": 0,
    "start_time": "2023-01-16T21:02:05.228Z"
   },
   {
    "duration": 0,
    "start_time": "2023-01-16T21:02:05.229Z"
   },
   {
    "duration": 0,
    "start_time": "2023-01-16T21:02:05.230Z"
   },
   {
    "duration": 0,
    "start_time": "2023-01-16T21:02:05.231Z"
   },
   {
    "duration": 0,
    "start_time": "2023-01-16T21:02:05.232Z"
   },
   {
    "duration": 0,
    "start_time": "2023-01-16T21:02:05.233Z"
   },
   {
    "duration": 0,
    "start_time": "2023-01-16T21:02:05.235Z"
   },
   {
    "duration": 0,
    "start_time": "2023-01-16T21:02:05.236Z"
   },
   {
    "duration": 3,
    "start_time": "2023-01-16T21:02:15.382Z"
   },
   {
    "duration": 462,
    "start_time": "2023-01-17T15:44:55.058Z"
   },
   {
    "duration": 455,
    "start_time": "2023-01-17T15:44:55.522Z"
   },
   {
    "duration": 18,
    "start_time": "2023-01-17T15:44:55.979Z"
   },
   {
    "duration": 45,
    "start_time": "2023-01-17T15:44:56.000Z"
   },
   {
    "duration": 12,
    "start_time": "2023-01-17T15:44:56.047Z"
   },
   {
    "duration": 31,
    "start_time": "2023-01-17T15:44:56.061Z"
   },
   {
    "duration": 22,
    "start_time": "2023-01-17T15:44:56.094Z"
   },
   {
    "duration": 9,
    "start_time": "2023-01-17T15:44:56.118Z"
   },
   {
    "duration": 41,
    "start_time": "2023-01-17T15:44:56.129Z"
   },
   {
    "duration": 19,
    "start_time": "2023-01-17T15:44:56.172Z"
   },
   {
    "duration": 24,
    "start_time": "2023-01-17T15:44:56.193Z"
   },
   {
    "duration": 74,
    "start_time": "2023-01-17T15:44:56.219Z"
   },
   {
    "duration": 88,
    "start_time": "2023-01-17T15:44:56.295Z"
   },
   {
    "duration": 69,
    "start_time": "2023-01-17T15:44:56.385Z"
   },
   {
    "duration": 37,
    "start_time": "2023-01-17T15:44:56.455Z"
   },
   {
    "duration": 16,
    "start_time": "2023-01-17T15:44:56.494Z"
   },
   {
    "duration": 72,
    "start_time": "2023-01-17T15:44:56.512Z"
   },
   {
    "duration": 11,
    "start_time": "2023-01-17T15:44:56.586Z"
   },
   {
    "duration": 13,
    "start_time": "2023-01-17T15:44:56.599Z"
   },
   {
    "duration": 7,
    "start_time": "2023-01-17T15:44:56.613Z"
   },
   {
    "duration": 6,
    "start_time": "2023-01-17T15:44:56.636Z"
   },
   {
    "duration": 15,
    "start_time": "2023-01-17T15:44:56.643Z"
   },
   {
    "duration": 12,
    "start_time": "2023-01-17T15:44:56.659Z"
   },
   {
    "duration": 9,
    "start_time": "2023-01-17T15:44:56.672Z"
   },
   {
    "duration": 12,
    "start_time": "2023-01-17T15:44:56.682Z"
   },
   {
    "duration": 36,
    "start_time": "2023-01-17T15:44:56.695Z"
   },
   {
    "duration": 17,
    "start_time": "2023-01-17T15:44:56.732Z"
   },
   {
    "duration": 14,
    "start_time": "2023-01-17T15:44:56.752Z"
   },
   {
    "duration": 23,
    "start_time": "2023-01-17T15:44:56.767Z"
   },
   {
    "duration": 47,
    "start_time": "2023-01-17T15:44:56.791Z"
   },
   {
    "duration": 0,
    "start_time": "2023-01-17T15:44:56.839Z"
   },
   {
    "duration": 0,
    "start_time": "2023-01-17T15:44:56.841Z"
   },
   {
    "duration": 0,
    "start_time": "2023-01-17T15:44:56.842Z"
   },
   {
    "duration": 0,
    "start_time": "2023-01-17T15:44:56.844Z"
   },
   {
    "duration": 0,
    "start_time": "2023-01-17T15:44:56.846Z"
   },
   {
    "duration": 0,
    "start_time": "2023-01-17T15:44:56.848Z"
   },
   {
    "duration": 0,
    "start_time": "2023-01-17T15:44:56.849Z"
   },
   {
    "duration": 0,
    "start_time": "2023-01-17T15:44:56.851Z"
   },
   {
    "duration": 3,
    "start_time": "2023-01-17T16:19:55.730Z"
   },
   {
    "duration": 3,
    "start_time": "2023-01-17T16:20:03.558Z"
   },
   {
    "duration": 3,
    "start_time": "2023-01-17T16:20:12.168Z"
   },
   {
    "duration": 70,
    "start_time": "2023-01-17T16:20:24.781Z"
   },
   {
    "duration": 3,
    "start_time": "2023-01-17T16:20:41.695Z"
   },
   {
    "duration": 432,
    "start_time": "2023-01-17T16:20:50.459Z"
   },
   {
    "duration": 183,
    "start_time": "2023-01-17T16:20:50.893Z"
   },
   {
    "duration": 18,
    "start_time": "2023-01-17T16:20:51.078Z"
   },
   {
    "duration": 60,
    "start_time": "2023-01-17T16:20:51.098Z"
   },
   {
    "duration": 18,
    "start_time": "2023-01-17T16:20:51.160Z"
   },
   {
    "duration": 38,
    "start_time": "2023-01-17T16:20:51.180Z"
   },
   {
    "duration": 39,
    "start_time": "2023-01-17T16:20:51.220Z"
   },
   {
    "duration": 35,
    "start_time": "2023-01-17T16:20:51.261Z"
   },
   {
    "duration": 61,
    "start_time": "2023-01-17T16:20:51.298Z"
   },
   {
    "duration": 31,
    "start_time": "2023-01-17T16:20:51.361Z"
   },
   {
    "duration": 49,
    "start_time": "2023-01-17T16:20:51.394Z"
   },
   {
    "duration": 106,
    "start_time": "2023-01-17T16:20:51.444Z"
   },
   {
    "duration": 85,
    "start_time": "2023-01-17T16:20:51.552Z"
   },
   {
    "duration": 68,
    "start_time": "2023-01-17T16:20:51.639Z"
   },
   {
    "duration": 48,
    "start_time": "2023-01-17T16:20:51.708Z"
   },
   {
    "duration": 10,
    "start_time": "2023-01-17T16:20:51.758Z"
   },
   {
    "duration": 67,
    "start_time": "2023-01-17T16:20:51.770Z"
   },
   {
    "duration": 15,
    "start_time": "2023-01-17T16:20:51.839Z"
   },
   {
    "duration": 18,
    "start_time": "2023-01-17T16:20:51.857Z"
   },
   {
    "duration": 27,
    "start_time": "2023-01-17T16:20:51.877Z"
   },
   {
    "duration": 16,
    "start_time": "2023-01-17T16:20:51.906Z"
   },
   {
    "duration": 42,
    "start_time": "2023-01-17T16:20:51.924Z"
   },
   {
    "duration": 16,
    "start_time": "2023-01-17T16:20:51.968Z"
   },
   {
    "duration": 28,
    "start_time": "2023-01-17T16:20:51.986Z"
   },
   {
    "duration": 42,
    "start_time": "2023-01-17T16:20:52.016Z"
   },
   {
    "duration": 23,
    "start_time": "2023-01-17T16:20:52.060Z"
   },
   {
    "duration": 21,
    "start_time": "2023-01-17T16:20:52.085Z"
   },
   {
    "duration": 10,
    "start_time": "2023-01-17T16:20:52.110Z"
   },
   {
    "duration": 32,
    "start_time": "2023-01-17T16:20:52.122Z"
   },
   {
    "duration": 49,
    "start_time": "2023-01-17T16:20:52.156Z"
   },
   {
    "duration": 0,
    "start_time": "2023-01-17T16:20:52.207Z"
   },
   {
    "duration": 0,
    "start_time": "2023-01-17T16:20:52.209Z"
   },
   {
    "duration": 0,
    "start_time": "2023-01-17T16:20:52.211Z"
   },
   {
    "duration": 0,
    "start_time": "2023-01-17T16:20:52.212Z"
   },
   {
    "duration": 0,
    "start_time": "2023-01-17T16:20:52.214Z"
   },
   {
    "duration": 0,
    "start_time": "2023-01-17T16:20:52.215Z"
   },
   {
    "duration": 0,
    "start_time": "2023-01-17T16:20:52.217Z"
   },
   {
    "duration": 0,
    "start_time": "2023-01-17T16:20:52.218Z"
   },
   {
    "duration": 4,
    "start_time": "2023-01-17T16:21:04.993Z"
   },
   {
    "duration": 3,
    "start_time": "2023-01-17T16:21:14.227Z"
   },
   {
    "duration": 3,
    "start_time": "2023-01-17T16:25:15.316Z"
   },
   {
    "duration": 449,
    "start_time": "2023-01-17T16:25:25.109Z"
   },
   {
    "duration": 172,
    "start_time": "2023-01-17T16:25:25.560Z"
   },
   {
    "duration": 18,
    "start_time": "2023-01-17T16:25:25.735Z"
   },
   {
    "duration": 31,
    "start_time": "2023-01-17T16:25:25.757Z"
   },
   {
    "duration": 3,
    "start_time": "2023-01-17T16:25:25.789Z"
   },
   {
    "duration": 8,
    "start_time": "2023-01-17T16:25:25.793Z"
   },
   {
    "duration": 14,
    "start_time": "2023-01-17T16:25:25.803Z"
   },
   {
    "duration": 5,
    "start_time": "2023-01-17T16:25:25.836Z"
   },
   {
    "duration": 32,
    "start_time": "2023-01-17T16:25:25.842Z"
   },
   {
    "duration": 19,
    "start_time": "2023-01-17T16:25:25.877Z"
   },
   {
    "duration": 43,
    "start_time": "2023-01-17T16:25:25.898Z"
   },
   {
    "duration": 85,
    "start_time": "2023-01-17T16:25:25.943Z"
   },
   {
    "duration": 77,
    "start_time": "2023-01-17T16:25:26.030Z"
   },
   {
    "duration": 73,
    "start_time": "2023-01-17T16:25:26.108Z"
   },
   {
    "duration": 37,
    "start_time": "2023-01-17T16:25:26.182Z"
   },
   {
    "duration": 23,
    "start_time": "2023-01-17T16:25:26.220Z"
   },
   {
    "duration": 62,
    "start_time": "2023-01-17T16:25:26.244Z"
   },
   {
    "duration": 11,
    "start_time": "2023-01-17T16:25:26.308Z"
   },
   {
    "duration": 23,
    "start_time": "2023-01-17T16:25:26.321Z"
   },
   {
    "duration": 28,
    "start_time": "2023-01-17T16:25:26.346Z"
   },
   {
    "duration": 37,
    "start_time": "2023-01-17T16:25:26.375Z"
   },
   {
    "duration": 30,
    "start_time": "2023-01-17T16:25:26.414Z"
   },
   {
    "duration": 12,
    "start_time": "2023-01-17T16:25:26.446Z"
   },
   {
    "duration": 36,
    "start_time": "2023-01-17T16:25:26.460Z"
   },
   {
    "duration": 33,
    "start_time": "2023-01-17T16:25:26.498Z"
   },
   {
    "duration": 26,
    "start_time": "2023-01-17T16:25:26.532Z"
   },
   {
    "duration": 26,
    "start_time": "2023-01-17T16:25:26.560Z"
   },
   {
    "duration": 31,
    "start_time": "2023-01-17T16:25:26.589Z"
   },
   {
    "duration": 14,
    "start_time": "2023-01-17T16:25:26.622Z"
   },
   {
    "duration": 51,
    "start_time": "2023-01-17T16:25:26.638Z"
   },
   {
    "duration": 0,
    "start_time": "2023-01-17T16:25:26.691Z"
   },
   {
    "duration": 0,
    "start_time": "2023-01-17T16:25:26.692Z"
   },
   {
    "duration": 0,
    "start_time": "2023-01-17T16:25:26.693Z"
   },
   {
    "duration": 0,
    "start_time": "2023-01-17T16:25:26.694Z"
   },
   {
    "duration": 0,
    "start_time": "2023-01-17T16:25:26.695Z"
   },
   {
    "duration": 0,
    "start_time": "2023-01-17T16:25:26.697Z"
   },
   {
    "duration": 0,
    "start_time": "2023-01-17T16:25:26.698Z"
   },
   {
    "duration": 0,
    "start_time": "2023-01-17T16:25:26.699Z"
   },
   {
    "duration": 3,
    "start_time": "2023-01-17T16:27:53.240Z"
   },
   {
    "duration": 3,
    "start_time": "2023-01-17T16:27:58.908Z"
   },
   {
    "duration": 3,
    "start_time": "2023-01-17T16:28:02.216Z"
   },
   {
    "duration": 3,
    "start_time": "2023-01-17T16:30:40.946Z"
   },
   {
    "duration": 409,
    "start_time": "2023-01-17T16:31:07.767Z"
   },
   {
    "duration": 183,
    "start_time": "2023-01-17T16:31:08.178Z"
   },
   {
    "duration": 24,
    "start_time": "2023-01-17T16:31:08.363Z"
   },
   {
    "duration": 60,
    "start_time": "2023-01-17T16:31:08.390Z"
   },
   {
    "duration": 3,
    "start_time": "2023-01-17T16:31:08.452Z"
   },
   {
    "duration": 11,
    "start_time": "2023-01-17T16:31:08.457Z"
   },
   {
    "duration": 20,
    "start_time": "2023-01-17T16:31:08.470Z"
   },
   {
    "duration": 17,
    "start_time": "2023-01-17T16:31:08.492Z"
   },
   {
    "duration": 45,
    "start_time": "2023-01-17T16:31:08.512Z"
   },
   {
    "duration": 27,
    "start_time": "2023-01-17T16:31:08.561Z"
   },
   {
    "duration": 37,
    "start_time": "2023-01-17T16:31:08.590Z"
   },
   {
    "duration": 76,
    "start_time": "2023-01-17T16:31:08.636Z"
   },
   {
    "duration": 89,
    "start_time": "2023-01-17T16:31:08.714Z"
   },
   {
    "duration": 75,
    "start_time": "2023-01-17T16:31:08.805Z"
   },
   {
    "duration": 37,
    "start_time": "2023-01-17T16:31:08.881Z"
   },
   {
    "duration": 22,
    "start_time": "2023-01-17T16:31:08.920Z"
   },
   {
    "duration": 39,
    "start_time": "2023-01-17T16:31:08.944Z"
   },
   {
    "duration": 14,
    "start_time": "2023-01-17T16:31:08.984Z"
   },
   {
    "duration": 3,
    "start_time": "2023-01-17T16:31:09.000Z"
   },
   {
    "duration": 34,
    "start_time": "2023-01-17T16:31:09.004Z"
   },
   {
    "duration": 36,
    "start_time": "2023-01-17T16:31:09.039Z"
   },
   {
    "duration": 7,
    "start_time": "2023-01-17T16:31:09.077Z"
   },
   {
    "duration": 13,
    "start_time": "2023-01-17T16:31:09.086Z"
   },
   {
    "duration": 5,
    "start_time": "2023-01-17T16:31:09.101Z"
   },
   {
    "duration": 9,
    "start_time": "2023-01-17T16:31:09.108Z"
   },
   {
    "duration": 5,
    "start_time": "2023-01-17T16:31:09.119Z"
   },
   {
    "duration": 5,
    "start_time": "2023-01-17T16:31:09.126Z"
   },
   {
    "duration": 8,
    "start_time": "2023-01-17T16:31:09.134Z"
   },
   {
    "duration": 8,
    "start_time": "2023-01-17T16:31:09.144Z"
   },
   {
    "duration": 48,
    "start_time": "2023-01-17T16:31:09.154Z"
   },
   {
    "duration": 0,
    "start_time": "2023-01-17T16:31:09.204Z"
   },
   {
    "duration": 0,
    "start_time": "2023-01-17T16:31:09.206Z"
   },
   {
    "duration": 0,
    "start_time": "2023-01-17T16:31:09.207Z"
   },
   {
    "duration": 0,
    "start_time": "2023-01-17T16:31:09.209Z"
   },
   {
    "duration": 0,
    "start_time": "2023-01-17T16:31:09.210Z"
   },
   {
    "duration": 0,
    "start_time": "2023-01-17T16:31:09.212Z"
   },
   {
    "duration": 0,
    "start_time": "2023-01-17T16:31:09.213Z"
   },
   {
    "duration": 0,
    "start_time": "2023-01-17T16:31:09.214Z"
   },
   {
    "duration": 14,
    "start_time": "2023-01-17T16:31:16.674Z"
   },
   {
    "duration": 3,
    "start_time": "2023-01-17T16:31:19.292Z"
   },
   {
    "duration": 49,
    "start_time": "2023-01-17T16:32:37.085Z"
   },
   {
    "duration": 3,
    "start_time": "2023-01-17T16:33:29.232Z"
   },
   {
    "duration": 3,
    "start_time": "2023-01-17T16:34:11.000Z"
   },
   {
    "duration": 25,
    "start_time": "2023-01-17T16:42:25.555Z"
   },
   {
    "duration": 60,
    "start_time": "2023-01-17T16:52:04.121Z"
   },
   {
    "duration": 67,
    "start_time": "2023-01-17T18:02:01.098Z"
   },
   {
    "duration": 11,
    "start_time": "2023-01-17T18:02:34.698Z"
   },
   {
    "duration": 13,
    "start_time": "2023-01-17T18:03:05.552Z"
   },
   {
    "duration": 11,
    "start_time": "2023-01-17T18:03:37.519Z"
   },
   {
    "duration": 420,
    "start_time": "2023-01-17T18:05:48.664Z"
   },
   {
    "duration": 166,
    "start_time": "2023-01-17T18:05:49.087Z"
   },
   {
    "duration": 18,
    "start_time": "2023-01-17T18:05:49.255Z"
   },
   {
    "duration": 50,
    "start_time": "2023-01-17T18:05:49.275Z"
   },
   {
    "duration": 61,
    "start_time": "2023-01-17T18:05:49.327Z"
   },
   {
    "duration": 43,
    "start_time": "2023-01-17T18:05:49.390Z"
   },
   {
    "duration": 52,
    "start_time": "2023-01-17T18:05:49.435Z"
   },
   {
    "duration": 29,
    "start_time": "2023-01-17T18:05:49.489Z"
   },
   {
    "duration": 60,
    "start_time": "2023-01-17T18:05:49.520Z"
   },
   {
    "duration": 42,
    "start_time": "2023-01-17T18:05:49.583Z"
   },
   {
    "duration": 47,
    "start_time": "2023-01-17T18:05:49.627Z"
   },
   {
    "duration": 79,
    "start_time": "2023-01-17T18:05:49.676Z"
   },
   {
    "duration": 80,
    "start_time": "2023-01-17T18:05:49.757Z"
   },
   {
    "duration": 64,
    "start_time": "2023-01-17T18:05:49.838Z"
   },
   {
    "duration": 51,
    "start_time": "2023-01-17T18:05:49.904Z"
   },
   {
    "duration": 13,
    "start_time": "2023-01-17T18:05:49.957Z"
   },
   {
    "duration": 62,
    "start_time": "2023-01-17T18:05:49.972Z"
   },
   {
    "duration": 16,
    "start_time": "2023-01-17T18:05:50.035Z"
   },
   {
    "duration": 32,
    "start_time": "2023-01-17T18:05:50.053Z"
   },
   {
    "duration": 33,
    "start_time": "2023-01-17T18:05:50.086Z"
   },
   {
    "duration": 59,
    "start_time": "2023-01-17T18:05:50.121Z"
   },
   {
    "duration": 42,
    "start_time": "2023-01-17T18:05:50.182Z"
   },
   {
    "duration": 36,
    "start_time": "2023-01-17T18:05:50.226Z"
   },
   {
    "duration": 33,
    "start_time": "2023-01-17T18:05:50.264Z"
   },
   {
    "duration": 45,
    "start_time": "2023-01-17T18:05:50.299Z"
   },
   {
    "duration": 38,
    "start_time": "2023-01-17T18:05:50.346Z"
   },
   {
    "duration": 35,
    "start_time": "2023-01-17T18:05:50.386Z"
   },
   {
    "duration": 37,
    "start_time": "2023-01-17T18:05:50.425Z"
   },
   {
    "duration": 30,
    "start_time": "2023-01-17T18:05:50.464Z"
   },
   {
    "duration": 54,
    "start_time": "2023-01-17T18:05:50.496Z"
   },
   {
    "duration": 0,
    "start_time": "2023-01-17T18:05:50.551Z"
   },
   {
    "duration": 0,
    "start_time": "2023-01-17T18:05:50.552Z"
   },
   {
    "duration": 0,
    "start_time": "2023-01-17T18:05:50.554Z"
   },
   {
    "duration": 0,
    "start_time": "2023-01-17T18:05:50.555Z"
   },
   {
    "duration": 0,
    "start_time": "2023-01-17T18:05:50.556Z"
   },
   {
    "duration": 0,
    "start_time": "2023-01-17T18:05:50.557Z"
   },
   {
    "duration": 0,
    "start_time": "2023-01-17T18:05:50.558Z"
   },
   {
    "duration": 0,
    "start_time": "2023-01-17T18:05:50.560Z"
   },
   {
    "duration": 4,
    "start_time": "2023-01-17T18:44:23.485Z"
   },
   {
    "duration": 78,
    "start_time": "2023-01-17T21:17:47.341Z"
   },
   {
    "duration": 9,
    "start_time": "2023-01-17T21:18:19.525Z"
   },
   {
    "duration": 406,
    "start_time": "2023-01-17T21:21:41.952Z"
   },
   {
    "duration": 173,
    "start_time": "2023-01-17T21:21:42.360Z"
   },
   {
    "duration": 22,
    "start_time": "2023-01-17T21:21:42.535Z"
   },
   {
    "duration": 28,
    "start_time": "2023-01-17T21:21:42.559Z"
   },
   {
    "duration": 2,
    "start_time": "2023-01-17T21:21:42.589Z"
   },
   {
    "duration": 9,
    "start_time": "2023-01-17T21:21:42.593Z"
   },
   {
    "duration": 40,
    "start_time": "2023-01-17T21:21:42.604Z"
   },
   {
    "duration": 6,
    "start_time": "2023-01-17T21:21:42.645Z"
   },
   {
    "duration": 31,
    "start_time": "2023-01-17T21:21:42.653Z"
   },
   {
    "duration": 21,
    "start_time": "2023-01-17T21:21:42.687Z"
   },
   {
    "duration": 32,
    "start_time": "2023-01-17T21:21:42.709Z"
   },
   {
    "duration": 81,
    "start_time": "2023-01-17T21:21:42.743Z"
   },
   {
    "duration": 83,
    "start_time": "2023-01-17T21:21:42.826Z"
   },
   {
    "duration": 79,
    "start_time": "2023-01-17T21:21:42.911Z"
   },
   {
    "duration": 49,
    "start_time": "2023-01-17T21:21:42.992Z"
   },
   {
    "duration": 26,
    "start_time": "2023-01-17T21:21:43.043Z"
   },
   {
    "duration": 54,
    "start_time": "2023-01-17T21:21:43.071Z"
   },
   {
    "duration": 20,
    "start_time": "2023-01-17T21:21:43.127Z"
   },
   {
    "duration": 46,
    "start_time": "2023-01-17T21:21:43.148Z"
   },
   {
    "duration": 11,
    "start_time": "2023-01-17T21:21:43.196Z"
   },
   {
    "duration": 40,
    "start_time": "2023-01-17T21:21:43.210Z"
   },
   {
    "duration": 29,
    "start_time": "2023-01-17T21:21:43.251Z"
   },
   {
    "duration": 47,
    "start_time": "2023-01-17T21:21:43.281Z"
   },
   {
    "duration": 52,
    "start_time": "2023-01-17T21:21:43.330Z"
   },
   {
    "duration": 23,
    "start_time": "2023-01-17T21:21:43.384Z"
   },
   {
    "duration": 42,
    "start_time": "2023-01-17T21:21:43.409Z"
   },
   {
    "duration": 26,
    "start_time": "2023-01-17T21:21:43.453Z"
   },
   {
    "duration": 30,
    "start_time": "2023-01-17T21:21:43.482Z"
   },
   {
    "duration": 38,
    "start_time": "2023-01-17T21:21:43.514Z"
   },
   {
    "duration": 44,
    "start_time": "2023-01-17T21:21:43.554Z"
   },
   {
    "duration": 0,
    "start_time": "2023-01-17T21:21:43.600Z"
   },
   {
    "duration": 0,
    "start_time": "2023-01-17T21:21:43.602Z"
   },
   {
    "duration": 0,
    "start_time": "2023-01-17T21:21:43.603Z"
   },
   {
    "duration": 0,
    "start_time": "2023-01-17T21:21:43.604Z"
   },
   {
    "duration": 0,
    "start_time": "2023-01-17T21:21:43.606Z"
   },
   {
    "duration": 0,
    "start_time": "2023-01-17T21:21:43.607Z"
   },
   {
    "duration": 0,
    "start_time": "2023-01-17T21:21:43.608Z"
   },
   {
    "duration": 0,
    "start_time": "2023-01-17T21:21:43.609Z"
   },
   {
    "duration": 3,
    "start_time": "2023-01-17T21:22:10.662Z"
   },
   {
    "duration": 3,
    "start_time": "2023-01-17T21:24:07.625Z"
   },
   {
    "duration": 79,
    "start_time": "2023-01-17T21:24:41.307Z"
   },
   {
    "duration": 8,
    "start_time": "2023-01-17T21:25:34.210Z"
   },
   {
    "duration": 12,
    "start_time": "2023-01-17T21:25:38.543Z"
   },
   {
    "duration": 12,
    "start_time": "2023-01-17T21:28:02.836Z"
   },
   {
    "duration": 9,
    "start_time": "2023-01-17T21:32:33.474Z"
   },
   {
    "duration": 9,
    "start_time": "2023-01-17T21:32:59.754Z"
   },
   {
    "duration": 409,
    "start_time": "2023-01-18T15:03:11.657Z"
   },
   {
    "duration": 447,
    "start_time": "2023-01-18T15:03:12.068Z"
   },
   {
    "duration": 19,
    "start_time": "2023-01-18T15:03:12.516Z"
   },
   {
    "duration": 28,
    "start_time": "2023-01-18T15:03:12.537Z"
   },
   {
    "duration": 3,
    "start_time": "2023-01-18T15:03:12.566Z"
   },
   {
    "duration": 8,
    "start_time": "2023-01-18T15:03:12.571Z"
   },
   {
    "duration": 21,
    "start_time": "2023-01-18T15:03:12.581Z"
   },
   {
    "duration": 6,
    "start_time": "2023-01-18T15:03:12.604Z"
   },
   {
    "duration": 24,
    "start_time": "2023-01-18T15:03:12.611Z"
   },
   {
    "duration": 20,
    "start_time": "2023-01-18T15:03:12.638Z"
   },
   {
    "duration": 39,
    "start_time": "2023-01-18T15:03:12.659Z"
   },
   {
    "duration": 69,
    "start_time": "2023-01-18T15:03:12.699Z"
   },
   {
    "duration": 84,
    "start_time": "2023-01-18T15:03:12.770Z"
   },
   {
    "duration": 74,
    "start_time": "2023-01-18T15:03:12.855Z"
   },
   {
    "duration": 35,
    "start_time": "2023-01-18T15:03:12.930Z"
   },
   {
    "duration": 10,
    "start_time": "2023-01-18T15:03:12.966Z"
   },
   {
    "duration": 35,
    "start_time": "2023-01-18T15:03:12.992Z"
   },
   {
    "duration": 12,
    "start_time": "2023-01-18T15:03:13.028Z"
   },
   {
    "duration": 11,
    "start_time": "2023-01-18T15:03:13.043Z"
   },
   {
    "duration": 89,
    "start_time": "2023-01-18T15:03:13.056Z"
   },
   {
    "duration": 0,
    "start_time": "2023-01-18T15:03:13.147Z"
   },
   {
    "duration": 0,
    "start_time": "2023-01-18T15:03:13.148Z"
   },
   {
    "duration": 0,
    "start_time": "2023-01-18T15:03:13.150Z"
   },
   {
    "duration": 0,
    "start_time": "2023-01-18T15:03:13.151Z"
   },
   {
    "duration": 0,
    "start_time": "2023-01-18T15:03:13.153Z"
   },
   {
    "duration": 0,
    "start_time": "2023-01-18T15:03:13.154Z"
   },
   {
    "duration": 0,
    "start_time": "2023-01-18T15:03:13.155Z"
   },
   {
    "duration": 0,
    "start_time": "2023-01-18T15:03:13.156Z"
   },
   {
    "duration": 0,
    "start_time": "2023-01-18T15:03:13.157Z"
   },
   {
    "duration": 0,
    "start_time": "2023-01-18T15:03:13.158Z"
   },
   {
    "duration": 0,
    "start_time": "2023-01-18T15:03:13.159Z"
   },
   {
    "duration": 0,
    "start_time": "2023-01-18T15:03:13.160Z"
   },
   {
    "duration": 0,
    "start_time": "2023-01-18T15:03:13.161Z"
   },
   {
    "duration": 0,
    "start_time": "2023-01-18T15:03:13.162Z"
   },
   {
    "duration": 0,
    "start_time": "2023-01-18T15:03:13.163Z"
   },
   {
    "duration": 0,
    "start_time": "2023-01-18T15:03:13.193Z"
   },
   {
    "duration": 0,
    "start_time": "2023-01-18T15:03:13.194Z"
   },
   {
    "duration": 0,
    "start_time": "2023-01-18T15:03:13.195Z"
   },
   {
    "duration": 10,
    "start_time": "2023-01-18T15:03:59.738Z"
   },
   {
    "duration": 8,
    "start_time": "2023-01-18T15:04:09.033Z"
   },
   {
    "duration": 57,
    "start_time": "2023-01-18T15:11:09.111Z"
   },
   {
    "duration": 60,
    "start_time": "2023-01-18T15:11:34.646Z"
   },
   {
    "duration": 47,
    "start_time": "2023-01-18T15:11:50.844Z"
   },
   {
    "duration": 4,
    "start_time": "2023-01-18T15:11:56.930Z"
   },
   {
    "duration": 50,
    "start_time": "2023-01-18T15:12:05.540Z"
   },
   {
    "duration": 54,
    "start_time": "2023-01-18T15:14:05.062Z"
   },
   {
    "duration": 411,
    "start_time": "2023-01-18T15:15:03.663Z"
   },
   {
    "duration": 160,
    "start_time": "2023-01-18T15:15:04.075Z"
   },
   {
    "duration": 17,
    "start_time": "2023-01-18T15:15:04.236Z"
   },
   {
    "duration": 56,
    "start_time": "2023-01-18T15:15:04.255Z"
   },
   {
    "duration": 4,
    "start_time": "2023-01-18T15:15:04.313Z"
   },
   {
    "duration": 13,
    "start_time": "2023-01-18T15:15:04.318Z"
   },
   {
    "duration": 16,
    "start_time": "2023-01-18T15:15:04.333Z"
   },
   {
    "duration": 12,
    "start_time": "2023-01-18T15:15:04.351Z"
   },
   {
    "duration": 46,
    "start_time": "2023-01-18T15:15:04.365Z"
   },
   {
    "duration": 18,
    "start_time": "2023-01-18T15:15:04.414Z"
   },
   {
    "duration": 38,
    "start_time": "2023-01-18T15:15:04.434Z"
   },
   {
    "duration": 74,
    "start_time": "2023-01-18T15:15:04.474Z"
   },
   {
    "duration": 73,
    "start_time": "2023-01-18T15:15:04.550Z"
   },
   {
    "duration": 67,
    "start_time": "2023-01-18T15:15:04.625Z"
   },
   {
    "duration": 34,
    "start_time": "2023-01-18T15:15:04.693Z"
   },
   {
    "duration": 10,
    "start_time": "2023-01-18T15:15:04.729Z"
   },
   {
    "duration": 95,
    "start_time": "2023-01-18T15:15:04.740Z"
   },
   {
    "duration": 12,
    "start_time": "2023-01-18T15:15:04.837Z"
   },
   {
    "duration": 59,
    "start_time": "2023-01-18T15:15:04.850Z"
   },
   {
    "duration": 76,
    "start_time": "2023-01-18T15:15:04.911Z"
   },
   {
    "duration": 0,
    "start_time": "2023-01-18T15:15:04.990Z"
   },
   {
    "duration": 0,
    "start_time": "2023-01-18T15:15:04.991Z"
   },
   {
    "duration": 0,
    "start_time": "2023-01-18T15:15:04.993Z"
   },
   {
    "duration": 0,
    "start_time": "2023-01-18T15:15:04.994Z"
   },
   {
    "duration": 0,
    "start_time": "2023-01-18T15:15:04.996Z"
   },
   {
    "duration": 0,
    "start_time": "2023-01-18T15:15:04.997Z"
   },
   {
    "duration": 0,
    "start_time": "2023-01-18T15:15:04.999Z"
   },
   {
    "duration": 0,
    "start_time": "2023-01-18T15:15:05.001Z"
   },
   {
    "duration": 0,
    "start_time": "2023-01-18T15:15:05.001Z"
   },
   {
    "duration": 0,
    "start_time": "2023-01-18T15:15:05.003Z"
   },
   {
    "duration": 0,
    "start_time": "2023-01-18T15:15:05.004Z"
   },
   {
    "duration": 0,
    "start_time": "2023-01-18T15:15:05.005Z"
   },
   {
    "duration": 0,
    "start_time": "2023-01-18T15:15:05.006Z"
   },
   {
    "duration": 0,
    "start_time": "2023-01-18T15:15:05.007Z"
   },
   {
    "duration": 0,
    "start_time": "2023-01-18T15:15:05.008Z"
   },
   {
    "duration": 0,
    "start_time": "2023-01-18T15:15:05.009Z"
   },
   {
    "duration": 0,
    "start_time": "2023-01-18T15:15:05.010Z"
   },
   {
    "duration": 0,
    "start_time": "2023-01-18T15:15:05.012Z"
   },
   {
    "duration": 51,
    "start_time": "2023-01-18T15:16:02.726Z"
   },
   {
    "duration": 46,
    "start_time": "2023-01-18T15:16:40.852Z"
   },
   {
    "duration": 430,
    "start_time": "2023-01-18T15:16:50.303Z"
   },
   {
    "duration": 177,
    "start_time": "2023-01-18T15:16:50.735Z"
   },
   {
    "duration": 20,
    "start_time": "2023-01-18T15:16:50.913Z"
   },
   {
    "duration": 31,
    "start_time": "2023-01-18T15:16:50.935Z"
   },
   {
    "duration": 23,
    "start_time": "2023-01-18T15:16:50.968Z"
   },
   {
    "duration": 5,
    "start_time": "2023-01-18T15:16:50.993Z"
   },
   {
    "duration": 14,
    "start_time": "2023-01-18T15:16:51.000Z"
   },
   {
    "duration": 12,
    "start_time": "2023-01-18T15:16:51.016Z"
   },
   {
    "duration": 30,
    "start_time": "2023-01-18T15:16:51.029Z"
   },
   {
    "duration": 38,
    "start_time": "2023-01-18T15:16:51.062Z"
   },
   {
    "duration": 23,
    "start_time": "2023-01-18T15:16:51.102Z"
   },
   {
    "duration": 82,
    "start_time": "2023-01-18T15:16:51.127Z"
   },
   {
    "duration": 85,
    "start_time": "2023-01-18T15:16:51.211Z"
   },
   {
    "duration": 63,
    "start_time": "2023-01-18T15:16:51.298Z"
   },
   {
    "duration": 46,
    "start_time": "2023-01-18T15:16:51.363Z"
   },
   {
    "duration": 9,
    "start_time": "2023-01-18T15:16:51.411Z"
   },
   {
    "duration": 41,
    "start_time": "2023-01-18T15:16:51.422Z"
   },
   {
    "duration": 28,
    "start_time": "2023-01-18T15:16:51.465Z"
   },
   {
    "duration": 12,
    "start_time": "2023-01-18T15:16:51.494Z"
   },
   {
    "duration": 58,
    "start_time": "2023-01-18T15:16:51.508Z"
   },
   {
    "duration": 0,
    "start_time": "2023-01-18T15:16:51.568Z"
   },
   {
    "duration": 0,
    "start_time": "2023-01-18T15:16:51.569Z"
   },
   {
    "duration": 0,
    "start_time": "2023-01-18T15:16:51.571Z"
   },
   {
    "duration": 0,
    "start_time": "2023-01-18T15:16:51.573Z"
   },
   {
    "duration": 0,
    "start_time": "2023-01-18T15:16:51.575Z"
   },
   {
    "duration": 0,
    "start_time": "2023-01-18T15:16:51.576Z"
   },
   {
    "duration": 0,
    "start_time": "2023-01-18T15:16:51.578Z"
   },
   {
    "duration": 0,
    "start_time": "2023-01-18T15:16:51.579Z"
   },
   {
    "duration": 0,
    "start_time": "2023-01-18T15:16:51.580Z"
   },
   {
    "duration": 0,
    "start_time": "2023-01-18T15:16:51.582Z"
   },
   {
    "duration": 0,
    "start_time": "2023-01-18T15:16:51.583Z"
   },
   {
    "duration": 0,
    "start_time": "2023-01-18T15:16:51.585Z"
   },
   {
    "duration": 0,
    "start_time": "2023-01-18T15:16:51.586Z"
   },
   {
    "duration": 0,
    "start_time": "2023-01-18T15:16:51.588Z"
   },
   {
    "duration": 0,
    "start_time": "2023-01-18T15:16:51.589Z"
   },
   {
    "duration": 0,
    "start_time": "2023-01-18T15:16:51.591Z"
   },
   {
    "duration": 0,
    "start_time": "2023-01-18T15:16:51.593Z"
   },
   {
    "duration": 0,
    "start_time": "2023-01-18T15:16:51.594Z"
   },
   {
    "duration": 86,
    "start_time": "2023-01-18T15:17:07.881Z"
   },
   {
    "duration": 57,
    "start_time": "2023-01-18T15:33:48.818Z"
   },
   {
    "duration": 41,
    "start_time": "2023-01-18T15:35:28.291Z"
   },
   {
    "duration": 46,
    "start_time": "2023-01-18T15:35:55.735Z"
   },
   {
    "duration": 47,
    "start_time": "2023-01-18T15:36:03.947Z"
   },
   {
    "duration": 57,
    "start_time": "2023-01-18T15:37:41.814Z"
   },
   {
    "duration": 48,
    "start_time": "2023-01-18T15:37:48.286Z"
   },
   {
    "duration": 57,
    "start_time": "2023-01-18T15:38:07.162Z"
   },
   {
    "duration": 51,
    "start_time": "2023-01-18T15:38:22.361Z"
   },
   {
    "duration": 57,
    "start_time": "2023-01-18T16:04:41.137Z"
   },
   {
    "duration": 424,
    "start_time": "2023-01-18T16:05:04.694Z"
   },
   {
    "duration": 173,
    "start_time": "2023-01-18T16:05:05.121Z"
   },
   {
    "duration": 17,
    "start_time": "2023-01-18T16:05:05.296Z"
   },
   {
    "duration": 28,
    "start_time": "2023-01-18T16:05:05.316Z"
   },
   {
    "duration": 2,
    "start_time": "2023-01-18T16:05:05.346Z"
   },
   {
    "duration": 7,
    "start_time": "2023-01-18T16:05:05.350Z"
   },
   {
    "duration": 41,
    "start_time": "2023-01-18T16:05:05.358Z"
   },
   {
    "duration": 6,
    "start_time": "2023-01-18T16:05:05.401Z"
   },
   {
    "duration": 26,
    "start_time": "2023-01-18T16:05:05.409Z"
   },
   {
    "duration": 19,
    "start_time": "2023-01-18T16:05:05.438Z"
   },
   {
    "duration": 42,
    "start_time": "2023-01-18T16:05:05.459Z"
   },
   {
    "duration": 75,
    "start_time": "2023-01-18T16:05:05.502Z"
   },
   {
    "duration": 82,
    "start_time": "2023-01-18T16:05:05.578Z"
   },
   {
    "duration": 80,
    "start_time": "2023-01-18T16:05:05.662Z"
   },
   {
    "duration": 54,
    "start_time": "2023-01-18T16:05:05.744Z"
   },
   {
    "duration": 10,
    "start_time": "2023-01-18T16:05:05.799Z"
   },
   {
    "duration": 39,
    "start_time": "2023-01-18T16:05:05.810Z"
   },
   {
    "duration": 12,
    "start_time": "2023-01-18T16:05:05.851Z"
   },
   {
    "duration": 32,
    "start_time": "2023-01-18T16:05:05.864Z"
   },
   {
    "duration": 56,
    "start_time": "2023-01-18T16:05:05.898Z"
   },
   {
    "duration": 0,
    "start_time": "2023-01-18T16:05:05.956Z"
   },
   {
    "duration": 0,
    "start_time": "2023-01-18T16:05:05.957Z"
   },
   {
    "duration": 0,
    "start_time": "2023-01-18T16:05:05.958Z"
   },
   {
    "duration": 0,
    "start_time": "2023-01-18T16:05:05.960Z"
   },
   {
    "duration": 0,
    "start_time": "2023-01-18T16:05:05.960Z"
   },
   {
    "duration": 0,
    "start_time": "2023-01-18T16:05:05.962Z"
   },
   {
    "duration": 0,
    "start_time": "2023-01-18T16:05:05.963Z"
   },
   {
    "duration": 0,
    "start_time": "2023-01-18T16:05:05.964Z"
   },
   {
    "duration": 0,
    "start_time": "2023-01-18T16:05:05.965Z"
   },
   {
    "duration": 0,
    "start_time": "2023-01-18T16:05:05.966Z"
   },
   {
    "duration": 0,
    "start_time": "2023-01-18T16:05:05.967Z"
   },
   {
    "duration": 0,
    "start_time": "2023-01-18T16:05:05.968Z"
   },
   {
    "duration": 0,
    "start_time": "2023-01-18T16:05:05.970Z"
   },
   {
    "duration": 0,
    "start_time": "2023-01-18T16:05:05.971Z"
   },
   {
    "duration": 0,
    "start_time": "2023-01-18T16:05:05.972Z"
   },
   {
    "duration": 0,
    "start_time": "2023-01-18T16:05:05.973Z"
   },
   {
    "duration": 0,
    "start_time": "2023-01-18T16:05:05.974Z"
   },
   {
    "duration": 0,
    "start_time": "2023-01-18T16:05:05.976Z"
   },
   {
    "duration": 46,
    "start_time": "2023-01-18T16:06:38.626Z"
   },
   {
    "duration": 47,
    "start_time": "2023-01-18T16:06:45.800Z"
   },
   {
    "duration": 46,
    "start_time": "2023-01-18T20:16:54.673Z"
   },
   {
    "duration": 7,
    "start_time": "2023-01-18T20:17:35.669Z"
   },
   {
    "duration": 9,
    "start_time": "2023-01-18T20:18:52.898Z"
   },
   {
    "duration": 411,
    "start_time": "2023-01-18T20:19:25.418Z"
   },
   {
    "duration": 210,
    "start_time": "2023-01-18T20:19:25.831Z"
   },
   {
    "duration": 16,
    "start_time": "2023-01-18T20:19:26.043Z"
   },
   {
    "duration": 28,
    "start_time": "2023-01-18T20:19:26.061Z"
   },
   {
    "duration": 3,
    "start_time": "2023-01-18T20:19:26.090Z"
   },
   {
    "duration": 10,
    "start_time": "2023-01-18T20:19:26.094Z"
   },
   {
    "duration": 12,
    "start_time": "2023-01-18T20:19:26.106Z"
   },
   {
    "duration": 7,
    "start_time": "2023-01-18T20:19:26.119Z"
   },
   {
    "duration": 24,
    "start_time": "2023-01-18T20:19:26.128Z"
   },
   {
    "duration": 19,
    "start_time": "2023-01-18T20:19:26.155Z"
   },
   {
    "duration": 46,
    "start_time": "2023-01-18T20:19:26.176Z"
   },
   {
    "duration": 62,
    "start_time": "2023-01-18T20:19:26.224Z"
   },
   {
    "duration": 69,
    "start_time": "2023-01-18T20:19:26.303Z"
   },
   {
    "duration": 75,
    "start_time": "2023-01-18T20:19:26.374Z"
   },
   {
    "duration": 34,
    "start_time": "2023-01-18T20:19:26.451Z"
   },
   {
    "duration": 23,
    "start_time": "2023-01-18T20:19:26.487Z"
   },
   {
    "duration": 33,
    "start_time": "2023-01-18T20:19:26.511Z"
   },
   {
    "duration": 11,
    "start_time": "2023-01-18T20:19:26.546Z"
   },
   {
    "duration": 11,
    "start_time": "2023-01-18T20:19:26.558Z"
   },
   {
    "duration": 59,
    "start_time": "2023-01-18T20:19:26.602Z"
   },
   {
    "duration": 0,
    "start_time": "2023-01-18T20:19:26.663Z"
   },
   {
    "duration": 0,
    "start_time": "2023-01-18T20:19:26.664Z"
   },
   {
    "duration": 0,
    "start_time": "2023-01-18T20:19:26.666Z"
   },
   {
    "duration": 0,
    "start_time": "2023-01-18T20:19:26.667Z"
   },
   {
    "duration": 0,
    "start_time": "2023-01-18T20:19:26.668Z"
   },
   {
    "duration": 0,
    "start_time": "2023-01-18T20:19:26.669Z"
   },
   {
    "duration": 0,
    "start_time": "2023-01-18T20:19:26.670Z"
   },
   {
    "duration": 0,
    "start_time": "2023-01-18T20:19:26.670Z"
   },
   {
    "duration": 0,
    "start_time": "2023-01-18T20:19:26.672Z"
   },
   {
    "duration": 0,
    "start_time": "2023-01-18T20:19:26.673Z"
   },
   {
    "duration": 0,
    "start_time": "2023-01-18T20:19:26.673Z"
   },
   {
    "duration": 0,
    "start_time": "2023-01-18T20:19:26.674Z"
   },
   {
    "duration": 0,
    "start_time": "2023-01-18T20:19:26.703Z"
   },
   {
    "duration": 0,
    "start_time": "2023-01-18T20:19:26.704Z"
   },
   {
    "duration": 0,
    "start_time": "2023-01-18T20:19:26.705Z"
   },
   {
    "duration": 0,
    "start_time": "2023-01-18T20:19:26.706Z"
   },
   {
    "duration": 0,
    "start_time": "2023-01-18T20:19:26.707Z"
   },
   {
    "duration": 0,
    "start_time": "2023-01-18T20:19:26.708Z"
   },
   {
    "duration": 4,
    "start_time": "2023-01-18T20:22:23.665Z"
   },
   {
    "duration": 7,
    "start_time": "2023-01-18T20:23:26.705Z"
   },
   {
    "duration": 9,
    "start_time": "2023-01-18T20:25:18.141Z"
   },
   {
    "duration": 7,
    "start_time": "2023-01-18T20:25:20.117Z"
   },
   {
    "duration": 700,
    "start_time": "2023-01-18T20:39:32.878Z"
   },
   {
    "duration": 6,
    "start_time": "2023-01-18T20:40:33.882Z"
   },
   {
    "duration": 4,
    "start_time": "2023-01-18T20:40:45.280Z"
   },
   {
    "duration": 5,
    "start_time": "2023-01-18T20:40:56.540Z"
   },
   {
    "duration": 4,
    "start_time": "2023-01-18T20:41:56.582Z"
   },
   {
    "duration": 664,
    "start_time": "2023-01-18T20:43:13.416Z"
   },
   {
    "duration": 4,
    "start_time": "2023-01-18T20:43:28.789Z"
   },
   {
    "duration": 634,
    "start_time": "2023-01-18T20:43:35.040Z"
   },
   {
    "duration": 431,
    "start_time": "2023-01-18T20:46:28.086Z"
   },
   {
    "duration": 208,
    "start_time": "2023-01-18T20:46:28.519Z"
   },
   {
    "duration": 18,
    "start_time": "2023-01-18T20:46:28.729Z"
   },
   {
    "duration": 28,
    "start_time": "2023-01-18T20:46:28.748Z"
   },
   {
    "duration": 2,
    "start_time": "2023-01-18T20:46:28.779Z"
   },
   {
    "duration": 7,
    "start_time": "2023-01-18T20:46:28.782Z"
   },
   {
    "duration": 13,
    "start_time": "2023-01-18T20:46:28.804Z"
   },
   {
    "duration": 8,
    "start_time": "2023-01-18T20:46:28.819Z"
   },
   {
    "duration": 27,
    "start_time": "2023-01-18T20:46:28.828Z"
   },
   {
    "duration": 19,
    "start_time": "2023-01-18T20:46:28.856Z"
   },
   {
    "duration": 45,
    "start_time": "2023-01-18T20:46:28.877Z"
   },
   {
    "duration": 67,
    "start_time": "2023-01-18T20:46:28.923Z"
   },
   {
    "duration": 69,
    "start_time": "2023-01-18T20:46:29.004Z"
   },
   {
    "duration": 74,
    "start_time": "2023-01-18T20:46:29.076Z"
   },
   {
    "duration": 34,
    "start_time": "2023-01-18T20:46:29.152Z"
   },
   {
    "duration": 11,
    "start_time": "2023-01-18T20:46:29.202Z"
   },
   {
    "duration": 36,
    "start_time": "2023-01-18T20:46:29.215Z"
   },
   {
    "duration": 13,
    "start_time": "2023-01-18T20:46:29.252Z"
   },
   {
    "duration": 11,
    "start_time": "2023-01-18T20:46:29.266Z"
   },
   {
    "duration": 18,
    "start_time": "2023-01-18T20:46:29.302Z"
   },
   {
    "duration": 78,
    "start_time": "2023-01-18T20:46:29.321Z"
   },
   {
    "duration": 0,
    "start_time": "2023-01-18T20:46:29.400Z"
   },
   {
    "duration": 0,
    "start_time": "2023-01-18T20:46:29.403Z"
   },
   {
    "duration": 0,
    "start_time": "2023-01-18T20:46:29.404Z"
   },
   {
    "duration": 0,
    "start_time": "2023-01-18T20:46:29.405Z"
   },
   {
    "duration": 0,
    "start_time": "2023-01-18T20:46:29.407Z"
   },
   {
    "duration": 0,
    "start_time": "2023-01-18T20:46:29.408Z"
   },
   {
    "duration": 0,
    "start_time": "2023-01-18T20:46:29.409Z"
   },
   {
    "duration": 0,
    "start_time": "2023-01-18T20:46:29.411Z"
   },
   {
    "duration": 0,
    "start_time": "2023-01-18T20:46:29.413Z"
   },
   {
    "duration": 0,
    "start_time": "2023-01-18T20:46:29.415Z"
   },
   {
    "duration": 0,
    "start_time": "2023-01-18T20:46:29.417Z"
   },
   {
    "duration": 0,
    "start_time": "2023-01-18T20:46:29.418Z"
   },
   {
    "duration": 0,
    "start_time": "2023-01-18T20:46:29.420Z"
   },
   {
    "duration": 0,
    "start_time": "2023-01-18T20:46:29.422Z"
   },
   {
    "duration": 0,
    "start_time": "2023-01-18T20:46:29.423Z"
   },
   {
    "duration": 0,
    "start_time": "2023-01-18T20:46:29.425Z"
   },
   {
    "duration": 0,
    "start_time": "2023-01-18T20:46:29.426Z"
   },
   {
    "duration": 15,
    "start_time": "2023-01-18T20:46:57.585Z"
   },
   {
    "duration": 14,
    "start_time": "2023-01-18T21:11:18.995Z"
   },
   {
    "duration": 14,
    "start_time": "2023-01-18T21:11:19.919Z"
   },
   {
    "duration": 24,
    "start_time": "2023-01-18T21:12:33.195Z"
   },
   {
    "duration": 21,
    "start_time": "2023-01-18T21:12:33.896Z"
   },
   {
    "duration": 20,
    "start_time": "2023-01-18T21:12:34.512Z"
   },
   {
    "duration": 133,
    "start_time": "2023-01-18T21:31:54.842Z"
   },
   {
    "duration": 70,
    "start_time": "2023-01-18T21:32:23.463Z"
   },
   {
    "duration": 17,
    "start_time": "2023-01-18T21:33:03.971Z"
   },
   {
    "duration": 13,
    "start_time": "2023-01-18T21:35:27.928Z"
   },
   {
    "duration": 20,
    "start_time": "2023-01-18T21:36:03.957Z"
   },
   {
    "duration": 407,
    "start_time": "2023-01-19T08:48:15.859Z"
   },
   {
    "duration": 548,
    "start_time": "2023-01-19T08:48:16.267Z"
   },
   {
    "duration": 18,
    "start_time": "2023-01-19T08:48:16.817Z"
   },
   {
    "duration": 36,
    "start_time": "2023-01-19T08:48:16.837Z"
   },
   {
    "duration": 2,
    "start_time": "2023-01-19T08:48:16.875Z"
   },
   {
    "duration": 5,
    "start_time": "2023-01-19T08:48:16.879Z"
   },
   {
    "duration": 11,
    "start_time": "2023-01-19T08:48:16.886Z"
   },
   {
    "duration": 5,
    "start_time": "2023-01-19T08:48:16.899Z"
   },
   {
    "duration": 51,
    "start_time": "2023-01-19T08:48:16.906Z"
   },
   {
    "duration": 18,
    "start_time": "2023-01-19T08:48:16.960Z"
   },
   {
    "duration": 20,
    "start_time": "2023-01-19T08:48:16.980Z"
   },
   {
    "duration": 78,
    "start_time": "2023-01-19T08:48:17.002Z"
   },
   {
    "duration": 75,
    "start_time": "2023-01-19T08:48:17.081Z"
   },
   {
    "duration": 54,
    "start_time": "2023-01-19T08:48:17.158Z"
   },
   {
    "duration": 61,
    "start_time": "2023-01-19T08:48:17.214Z"
   },
   {
    "duration": 10,
    "start_time": "2023-01-19T08:48:17.277Z"
   },
   {
    "duration": 37,
    "start_time": "2023-01-19T08:48:17.289Z"
   },
   {
    "duration": 38,
    "start_time": "2023-01-19T08:48:17.327Z"
   },
   {
    "duration": 12,
    "start_time": "2023-01-19T08:48:17.367Z"
   },
   {
    "duration": 16,
    "start_time": "2023-01-19T08:48:17.380Z"
   },
   {
    "duration": 20,
    "start_time": "2023-01-19T08:48:17.397Z"
   },
   {
    "duration": 38,
    "start_time": "2023-01-19T08:48:17.418Z"
   },
   {
    "duration": 14,
    "start_time": "2023-01-19T08:48:17.458Z"
   },
   {
    "duration": 19,
    "start_time": "2023-01-19T08:48:17.474Z"
   },
   {
    "duration": 15,
    "start_time": "2023-01-19T08:48:17.495Z"
   },
   {
    "duration": 13,
    "start_time": "2023-01-19T08:48:17.512Z"
   },
   {
    "duration": 95,
    "start_time": "2023-01-19T08:48:17.526Z"
   },
   {
    "duration": 0,
    "start_time": "2023-01-19T08:48:17.622Z"
   },
   {
    "duration": 0,
    "start_time": "2023-01-19T08:48:17.624Z"
   },
   {
    "duration": 1,
    "start_time": "2023-01-19T08:48:17.625Z"
   },
   {
    "duration": 0,
    "start_time": "2023-01-19T08:48:17.627Z"
   },
   {
    "duration": 0,
    "start_time": "2023-01-19T08:48:17.643Z"
   },
   {
    "duration": 0,
    "start_time": "2023-01-19T08:48:17.644Z"
   },
   {
    "duration": 0,
    "start_time": "2023-01-19T08:48:17.644Z"
   },
   {
    "duration": 0,
    "start_time": "2023-01-19T08:48:17.645Z"
   },
   {
    "duration": 0,
    "start_time": "2023-01-19T08:48:17.645Z"
   },
   {
    "duration": 1,
    "start_time": "2023-01-19T08:48:17.646Z"
   },
   {
    "duration": 0,
    "start_time": "2023-01-19T08:48:17.650Z"
   },
   {
    "duration": 131,
    "start_time": "2023-01-19T08:57:02.729Z"
   },
   {
    "duration": 51,
    "start_time": "2023-01-19T08:57:28.377Z"
   },
   {
    "duration": 75,
    "start_time": "2023-01-19T08:58:38.020Z"
   },
   {
    "duration": 51,
    "start_time": "2023-01-19T08:59:15.878Z"
   },
   {
    "duration": 358,
    "start_time": "2023-01-19T08:59:26.303Z"
   },
   {
    "duration": 156,
    "start_time": "2023-01-19T08:59:26.664Z"
   },
   {
    "duration": 22,
    "start_time": "2023-01-19T08:59:26.822Z"
   },
   {
    "duration": 26,
    "start_time": "2023-01-19T08:59:26.846Z"
   },
   {
    "duration": 2,
    "start_time": "2023-01-19T08:59:26.874Z"
   },
   {
    "duration": 14,
    "start_time": "2023-01-19T08:59:26.877Z"
   },
   {
    "duration": 11,
    "start_time": "2023-01-19T08:59:26.893Z"
   },
   {
    "duration": 6,
    "start_time": "2023-01-19T08:59:26.906Z"
   },
   {
    "duration": 41,
    "start_time": "2023-01-19T08:59:26.913Z"
   },
   {
    "duration": 19,
    "start_time": "2023-01-19T08:59:26.957Z"
   },
   {
    "duration": 22,
    "start_time": "2023-01-19T08:59:26.977Z"
   },
   {
    "duration": 76,
    "start_time": "2023-01-19T08:59:27.001Z"
   },
   {
    "duration": 71,
    "start_time": "2023-01-19T08:59:27.079Z"
   },
   {
    "duration": 56,
    "start_time": "2023-01-19T08:59:27.151Z"
   },
   {
    "duration": 56,
    "start_time": "2023-01-19T08:59:27.209Z"
   },
   {
    "duration": 11,
    "start_time": "2023-01-19T08:59:27.267Z"
   },
   {
    "duration": 44,
    "start_time": "2023-01-19T08:59:27.280Z"
   },
   {
    "duration": 24,
    "start_time": "2023-01-19T08:59:27.326Z"
   },
   {
    "duration": 10,
    "start_time": "2023-01-19T08:59:27.352Z"
   },
   {
    "duration": 15,
    "start_time": "2023-01-19T08:59:27.363Z"
   },
   {
    "duration": 14,
    "start_time": "2023-01-19T08:59:27.379Z"
   },
   {
    "duration": 12,
    "start_time": "2023-01-19T08:59:27.394Z"
   },
   {
    "duration": 43,
    "start_time": "2023-01-19T08:59:27.407Z"
   },
   {
    "duration": 13,
    "start_time": "2023-01-19T08:59:27.452Z"
   },
   {
    "duration": 14,
    "start_time": "2023-01-19T08:59:27.466Z"
   },
   {
    "duration": 12,
    "start_time": "2023-01-19T08:59:27.481Z"
   },
   {
    "duration": 54,
    "start_time": "2023-01-19T08:59:27.495Z"
   },
   {
    "duration": 0,
    "start_time": "2023-01-19T08:59:27.551Z"
   },
   {
    "duration": 0,
    "start_time": "2023-01-19T08:59:27.553Z"
   },
   {
    "duration": 0,
    "start_time": "2023-01-19T08:59:27.554Z"
   },
   {
    "duration": 0,
    "start_time": "2023-01-19T08:59:27.555Z"
   },
   {
    "duration": 0,
    "start_time": "2023-01-19T08:59:27.556Z"
   },
   {
    "duration": 0,
    "start_time": "2023-01-19T08:59:27.557Z"
   },
   {
    "duration": 0,
    "start_time": "2023-01-19T08:59:27.558Z"
   },
   {
    "duration": 0,
    "start_time": "2023-01-19T08:59:27.559Z"
   },
   {
    "duration": 0,
    "start_time": "2023-01-19T08:59:27.560Z"
   },
   {
    "duration": 0,
    "start_time": "2023-01-19T08:59:27.561Z"
   },
   {
    "duration": 0,
    "start_time": "2023-01-19T08:59:27.562Z"
   },
   {
    "duration": 4,
    "start_time": "2023-01-19T09:01:06.419Z"
   },
   {
    "duration": 8,
    "start_time": "2023-01-19T09:01:14.773Z"
   },
   {
    "duration": 367,
    "start_time": "2023-01-19T09:02:31.503Z"
   },
   {
    "duration": 164,
    "start_time": "2023-01-19T09:02:31.872Z"
   },
   {
    "duration": 16,
    "start_time": "2023-01-19T09:02:32.038Z"
   },
   {
    "duration": 35,
    "start_time": "2023-01-19T09:02:32.057Z"
   },
   {
    "duration": 3,
    "start_time": "2023-01-19T09:02:32.093Z"
   },
   {
    "duration": 13,
    "start_time": "2023-01-19T09:02:32.097Z"
   },
   {
    "duration": 15,
    "start_time": "2023-01-19T09:02:32.112Z"
   },
   {
    "duration": 16,
    "start_time": "2023-01-19T09:02:32.129Z"
   },
   {
    "duration": 27,
    "start_time": "2023-01-19T09:02:32.146Z"
   },
   {
    "duration": 23,
    "start_time": "2023-01-19T09:02:32.175Z"
   },
   {
    "duration": 23,
    "start_time": "2023-01-19T09:02:32.199Z"
   },
   {
    "duration": 82,
    "start_time": "2023-01-19T09:02:32.223Z"
   },
   {
    "duration": 77,
    "start_time": "2023-01-19T09:02:32.306Z"
   },
   {
    "duration": 53,
    "start_time": "2023-01-19T09:02:32.384Z"
   },
   {
    "duration": 38,
    "start_time": "2023-01-19T09:02:32.444Z"
   },
   {
    "duration": 10,
    "start_time": "2023-01-19T09:02:32.484Z"
   },
   {
    "duration": 53,
    "start_time": "2023-01-19T09:02:32.495Z"
   },
   {
    "duration": 12,
    "start_time": "2023-01-19T09:02:32.549Z"
   },
   {
    "duration": 33,
    "start_time": "2023-01-19T09:02:32.562Z"
   },
   {
    "duration": 25,
    "start_time": "2023-01-19T09:02:32.597Z"
   },
   {
    "duration": 36,
    "start_time": "2023-01-19T09:02:32.624Z"
   },
   {
    "duration": 32,
    "start_time": "2023-01-19T09:02:32.662Z"
   },
   {
    "duration": 37,
    "start_time": "2023-01-19T09:02:32.696Z"
   },
   {
    "duration": 14,
    "start_time": "2023-01-19T09:02:32.735Z"
   },
   {
    "duration": 22,
    "start_time": "2023-01-19T09:02:32.750Z"
   },
   {
    "duration": 45,
    "start_time": "2023-01-19T09:02:32.774Z"
   },
   {
    "duration": 8,
    "start_time": "2023-01-19T09:02:32.821Z"
   },
   {
    "duration": 13,
    "start_time": "2023-01-19T09:02:32.831Z"
   },
   {
    "duration": 8,
    "start_time": "2023-01-19T09:02:32.845Z"
   },
   {
    "duration": 68,
    "start_time": "2023-01-19T09:02:32.854Z"
   },
   {
    "duration": 0,
    "start_time": "2023-01-19T09:02:32.923Z"
   },
   {
    "duration": 0,
    "start_time": "2023-01-19T09:02:32.925Z"
   },
   {
    "duration": 0,
    "start_time": "2023-01-19T09:02:32.926Z"
   },
   {
    "duration": 0,
    "start_time": "2023-01-19T09:02:32.927Z"
   },
   {
    "duration": 0,
    "start_time": "2023-01-19T09:02:32.928Z"
   },
   {
    "duration": 0,
    "start_time": "2023-01-19T09:02:32.929Z"
   },
   {
    "duration": 0,
    "start_time": "2023-01-19T09:02:32.930Z"
   },
   {
    "duration": 0,
    "start_time": "2023-01-19T09:02:32.931Z"
   },
   {
    "duration": 57,
    "start_time": "2023-01-19T09:04:57.781Z"
   },
   {
    "duration": 7,
    "start_time": "2023-01-19T09:05:10.852Z"
   },
   {
    "duration": 432,
    "start_time": "2023-01-19T09:05:24.371Z"
   },
   {
    "duration": 198,
    "start_time": "2023-01-19T09:05:24.805Z"
   },
   {
    "duration": 17,
    "start_time": "2023-01-19T09:05:25.005Z"
   },
   {
    "duration": 44,
    "start_time": "2023-01-19T09:05:25.025Z"
   },
   {
    "duration": 3,
    "start_time": "2023-01-19T09:05:25.071Z"
   },
   {
    "duration": 35,
    "start_time": "2023-01-19T09:05:25.076Z"
   },
   {
    "duration": 19,
    "start_time": "2023-01-19T09:05:25.113Z"
   },
   {
    "duration": 14,
    "start_time": "2023-01-19T09:05:25.133Z"
   },
   {
    "duration": 31,
    "start_time": "2023-01-19T09:05:25.149Z"
   },
   {
    "duration": 18,
    "start_time": "2023-01-19T09:05:25.183Z"
   },
   {
    "duration": 28,
    "start_time": "2023-01-19T09:05:25.203Z"
   },
   {
    "duration": 66,
    "start_time": "2023-01-19T09:05:25.244Z"
   },
   {
    "duration": 91,
    "start_time": "2023-01-19T09:05:25.312Z"
   },
   {
    "duration": 64,
    "start_time": "2023-01-19T09:05:25.405Z"
   },
   {
    "duration": 47,
    "start_time": "2023-01-19T09:05:25.472Z"
   },
   {
    "duration": 27,
    "start_time": "2023-01-19T09:05:25.521Z"
   },
   {
    "duration": 47,
    "start_time": "2023-01-19T09:05:25.550Z"
   },
   {
    "duration": 18,
    "start_time": "2023-01-19T09:05:25.599Z"
   },
   {
    "duration": 61,
    "start_time": "2023-01-19T09:05:25.618Z"
   },
   {
    "duration": 43,
    "start_time": "2023-01-19T09:05:25.682Z"
   },
   {
    "duration": 22,
    "start_time": "2023-01-19T09:05:25.726Z"
   },
   {
    "duration": 24,
    "start_time": "2023-01-19T09:05:25.750Z"
   },
   {
    "duration": 29,
    "start_time": "2023-01-19T09:05:25.776Z"
   },
   {
    "duration": 15,
    "start_time": "2023-01-19T09:05:25.806Z"
   },
   {
    "duration": 37,
    "start_time": "2023-01-19T09:05:25.824Z"
   },
   {
    "duration": 28,
    "start_time": "2023-01-19T09:05:25.863Z"
   },
   {
    "duration": 15,
    "start_time": "2023-01-19T09:05:25.893Z"
   },
   {
    "duration": 6,
    "start_time": "2023-01-19T09:05:25.913Z"
   },
   {
    "duration": 10,
    "start_time": "2023-01-19T09:05:25.921Z"
   },
   {
    "duration": 54,
    "start_time": "2023-01-19T09:05:25.933Z"
   },
   {
    "duration": 0,
    "start_time": "2023-01-19T09:05:25.988Z"
   },
   {
    "duration": 0,
    "start_time": "2023-01-19T09:05:25.990Z"
   },
   {
    "duration": 0,
    "start_time": "2023-01-19T09:05:25.991Z"
   },
   {
    "duration": 0,
    "start_time": "2023-01-19T09:05:25.992Z"
   },
   {
    "duration": 0,
    "start_time": "2023-01-19T09:05:25.993Z"
   },
   {
    "duration": 0,
    "start_time": "2023-01-19T09:05:25.994Z"
   },
   {
    "duration": 0,
    "start_time": "2023-01-19T09:05:25.995Z"
   },
   {
    "duration": 0,
    "start_time": "2023-01-19T09:05:25.996Z"
   },
   {
    "duration": 480,
    "start_time": "2023-01-19T15:29:33.189Z"
   },
   {
    "duration": 306,
    "start_time": "2023-01-19T15:29:33.671Z"
   },
   {
    "duration": 25,
    "start_time": "2023-01-19T15:29:33.979Z"
   },
   {
    "duration": 92,
    "start_time": "2023-01-19T15:29:34.006Z"
   },
   {
    "duration": 25,
    "start_time": "2023-01-19T15:29:34.101Z"
   },
   {
    "duration": 44,
    "start_time": "2023-01-19T15:29:34.128Z"
   },
   {
    "duration": 33,
    "start_time": "2023-01-19T15:29:34.174Z"
   },
   {
    "duration": 25,
    "start_time": "2023-01-19T15:29:34.209Z"
   },
   {
    "duration": 56,
    "start_time": "2023-01-19T15:29:34.236Z"
   },
   {
    "duration": 50,
    "start_time": "2023-01-19T15:29:34.294Z"
   },
   {
    "duration": 40,
    "start_time": "2023-01-19T15:29:34.347Z"
   },
   {
    "duration": 112,
    "start_time": "2023-01-19T15:29:34.389Z"
   },
   {
    "duration": 68,
    "start_time": "2023-01-19T15:29:34.503Z"
   },
   {
    "duration": 84,
    "start_time": "2023-01-19T15:29:34.575Z"
   },
   {
    "duration": 43,
    "start_time": "2023-01-19T15:29:34.660Z"
   },
   {
    "duration": 14,
    "start_time": "2023-01-19T15:29:34.705Z"
   },
   {
    "duration": 61,
    "start_time": "2023-01-19T15:29:34.720Z"
   },
   {
    "duration": 24,
    "start_time": "2023-01-19T15:29:34.783Z"
   },
   {
    "duration": 45,
    "start_time": "2023-01-19T15:29:34.809Z"
   },
   {
    "duration": 53,
    "start_time": "2023-01-19T15:29:34.855Z"
   },
   {
    "duration": 62,
    "start_time": "2023-01-19T15:29:34.910Z"
   },
   {
    "duration": 49,
    "start_time": "2023-01-19T15:29:34.974Z"
   },
   {
    "duration": 63,
    "start_time": "2023-01-19T15:29:35.025Z"
   },
   {
    "duration": 40,
    "start_time": "2023-01-19T15:29:35.090Z"
   },
   {
    "duration": 43,
    "start_time": "2023-01-19T15:29:35.132Z"
   },
   {
    "duration": 41,
    "start_time": "2023-01-19T15:29:35.177Z"
   },
   {
    "duration": 54,
    "start_time": "2023-01-19T15:29:35.220Z"
   },
   {
    "duration": 15,
    "start_time": "2023-01-19T15:29:35.276Z"
   },
   {
    "duration": 26,
    "start_time": "2023-01-19T15:29:35.293Z"
   },
   {
    "duration": 73,
    "start_time": "2023-01-19T15:29:35.321Z"
   },
   {
    "duration": 0,
    "start_time": "2023-01-19T15:29:35.395Z"
   },
   {
    "duration": 0,
    "start_time": "2023-01-19T15:29:35.397Z"
   },
   {
    "duration": 0,
    "start_time": "2023-01-19T15:29:35.397Z"
   },
   {
    "duration": 0,
    "start_time": "2023-01-19T15:29:35.398Z"
   },
   {
    "duration": 0,
    "start_time": "2023-01-19T15:29:35.400Z"
   },
   {
    "duration": 0,
    "start_time": "2023-01-19T15:29:35.401Z"
   },
   {
    "duration": 0,
    "start_time": "2023-01-19T15:29:35.402Z"
   },
   {
    "duration": 0,
    "start_time": "2023-01-19T15:29:35.403Z"
   },
   {
    "duration": 15,
    "start_time": "2023-01-19T15:34:20.525Z"
   },
   {
    "duration": 9,
    "start_time": "2023-01-19T15:34:21.132Z"
   },
   {
    "duration": 96,
    "start_time": "2023-01-19T16:08:38.920Z"
   },
   {
    "duration": 394,
    "start_time": "2023-01-20T17:01:25.586Z"
   },
   {
    "duration": 244,
    "start_time": "2023-01-20T17:01:25.982Z"
   },
   {
    "duration": 20,
    "start_time": "2023-01-20T17:01:26.228Z"
   },
   {
    "duration": 49,
    "start_time": "2023-01-20T17:01:26.251Z"
   },
   {
    "duration": 3,
    "start_time": "2023-01-20T17:01:26.302Z"
   },
   {
    "duration": 9,
    "start_time": "2023-01-20T17:01:26.309Z"
   },
   {
    "duration": 30,
    "start_time": "2023-01-20T17:01:26.320Z"
   },
   {
    "duration": 16,
    "start_time": "2023-01-20T17:01:26.352Z"
   },
   {
    "duration": 36,
    "start_time": "2023-01-20T17:01:26.370Z"
   },
   {
    "duration": 33,
    "start_time": "2023-01-20T17:01:26.410Z"
   },
   {
    "duration": 34,
    "start_time": "2023-01-20T17:01:26.445Z"
   },
   {
    "duration": 104,
    "start_time": "2023-01-20T17:01:26.481Z"
   },
   {
    "duration": 95,
    "start_time": "2023-01-20T17:01:26.587Z"
   },
   {
    "duration": 71,
    "start_time": "2023-01-20T17:01:26.684Z"
   },
   {
    "duration": 42,
    "start_time": "2023-01-20T17:01:26.757Z"
   },
   {
    "duration": 13,
    "start_time": "2023-01-20T17:01:26.801Z"
   },
   {
    "duration": 61,
    "start_time": "2023-01-20T17:01:26.816Z"
   },
   {
    "duration": 12,
    "start_time": "2023-01-20T17:01:26.878Z"
   },
   {
    "duration": 13,
    "start_time": "2023-01-20T17:01:26.892Z"
   },
   {
    "duration": 47,
    "start_time": "2023-01-20T17:01:26.906Z"
   },
   {
    "duration": 17,
    "start_time": "2023-01-20T17:01:26.955Z"
   },
   {
    "duration": 34,
    "start_time": "2023-01-20T17:01:26.973Z"
   },
   {
    "duration": 39,
    "start_time": "2023-01-20T17:01:27.009Z"
   },
   {
    "duration": 15,
    "start_time": "2023-01-20T17:01:27.050Z"
   },
   {
    "duration": 21,
    "start_time": "2023-01-20T17:01:27.067Z"
   },
   {
    "duration": 15,
    "start_time": "2023-01-20T17:01:27.089Z"
   },
   {
    "duration": 36,
    "start_time": "2023-01-20T17:01:27.106Z"
   },
   {
    "duration": 15,
    "start_time": "2023-01-20T17:01:27.145Z"
   },
   {
    "duration": 11,
    "start_time": "2023-01-20T17:01:27.162Z"
   },
   {
    "duration": 71,
    "start_time": "2023-01-20T17:01:27.175Z"
   },
   {
    "duration": 0,
    "start_time": "2023-01-20T17:01:27.247Z"
   },
   {
    "duration": 0,
    "start_time": "2023-01-20T17:01:27.248Z"
   },
   {
    "duration": 0,
    "start_time": "2023-01-20T17:01:27.249Z"
   },
   {
    "duration": 0,
    "start_time": "2023-01-20T17:01:27.250Z"
   },
   {
    "duration": 0,
    "start_time": "2023-01-20T17:01:27.251Z"
   },
   {
    "duration": 0,
    "start_time": "2023-01-20T17:01:27.252Z"
   },
   {
    "duration": 0,
    "start_time": "2023-01-20T17:01:27.253Z"
   },
   {
    "duration": 0,
    "start_time": "2023-01-20T17:01:27.254Z"
   },
   {
    "duration": 72,
    "start_time": "2023-01-20T17:33:34.789Z"
   },
   {
    "duration": 78,
    "start_time": "2023-01-20T17:34:03.148Z"
   },
   {
    "duration": 5,
    "start_time": "2023-01-20T17:34:21.280Z"
   },
   {
    "duration": 442,
    "start_time": "2023-01-20T17:34:33.848Z"
   },
   {
    "duration": 213,
    "start_time": "2023-01-20T17:34:34.293Z"
   },
   {
    "duration": 20,
    "start_time": "2023-01-20T17:34:34.508Z"
   },
   {
    "duration": 53,
    "start_time": "2023-01-20T17:34:34.539Z"
   },
   {
    "duration": 11,
    "start_time": "2023-01-20T17:34:34.594Z"
   },
   {
    "duration": 15,
    "start_time": "2023-01-20T17:34:34.607Z"
   },
   {
    "duration": 21,
    "start_time": "2023-01-20T17:34:34.624Z"
   },
   {
    "duration": 17,
    "start_time": "2023-01-20T17:34:34.647Z"
   },
   {
    "duration": 42,
    "start_time": "2023-01-20T17:34:34.666Z"
   },
   {
    "duration": 40,
    "start_time": "2023-01-20T17:34:34.712Z"
   },
   {
    "duration": 46,
    "start_time": "2023-01-20T17:34:34.754Z"
   },
   {
    "duration": 130,
    "start_time": "2023-01-20T17:34:34.802Z"
   },
   {
    "duration": 81,
    "start_time": "2023-01-20T17:34:34.934Z"
   },
   {
    "duration": 81,
    "start_time": "2023-01-20T17:34:35.017Z"
   },
   {
    "duration": 56,
    "start_time": "2023-01-20T17:34:35.100Z"
   },
   {
    "duration": 13,
    "start_time": "2023-01-20T17:34:35.158Z"
   },
   {
    "duration": 43,
    "start_time": "2023-01-20T17:34:35.173Z"
   },
   {
    "duration": 33,
    "start_time": "2023-01-20T17:34:35.218Z"
   },
   {
    "duration": 18,
    "start_time": "2023-01-20T17:34:35.253Z"
   },
   {
    "duration": 20,
    "start_time": "2023-01-20T17:34:35.273Z"
   },
   {
    "duration": 55,
    "start_time": "2023-01-20T17:34:35.295Z"
   },
   {
    "duration": 27,
    "start_time": "2023-01-20T17:34:35.352Z"
   },
   {
    "duration": 27,
    "start_time": "2023-01-20T17:34:35.380Z"
   },
   {
    "duration": 16,
    "start_time": "2023-01-20T17:34:35.409Z"
   },
   {
    "duration": 39,
    "start_time": "2023-01-20T17:34:35.427Z"
   },
   {
    "duration": 15,
    "start_time": "2023-01-20T17:34:35.468Z"
   },
   {
    "duration": 8,
    "start_time": "2023-01-20T17:34:35.485Z"
   },
   {
    "duration": 14,
    "start_time": "2023-01-20T17:34:35.495Z"
   },
   {
    "duration": 35,
    "start_time": "2023-01-20T17:34:35.511Z"
   },
   {
    "duration": 6,
    "start_time": "2023-01-20T17:34:35.548Z"
   },
   {
    "duration": 17,
    "start_time": "2023-01-20T17:34:35.556Z"
   },
   {
    "duration": 8,
    "start_time": "2023-01-20T17:34:35.576Z"
   },
   {
    "duration": 22,
    "start_time": "2023-01-20T17:34:35.586Z"
   },
   {
    "duration": 7,
    "start_time": "2023-01-20T17:34:35.610Z"
   },
   {
    "duration": 12,
    "start_time": "2023-01-20T17:34:35.619Z"
   },
   {
    "duration": 24,
    "start_time": "2023-01-20T17:34:35.633Z"
   },
   {
    "duration": 9,
    "start_time": "2023-01-20T17:34:35.660Z"
   },
   {
    "duration": 7,
    "start_time": "2023-01-20T17:34:35.671Z"
   },
   {
    "duration": 5,
    "start_time": "2023-01-20T17:34:55.099Z"
   },
   {
    "duration": 7,
    "start_time": "2023-01-20T17:35:06.316Z"
   },
   {
    "duration": 5,
    "start_time": "2023-01-20T17:36:37.718Z"
   },
   {
    "duration": 5,
    "start_time": "2023-01-20T17:37:17.517Z"
   },
   {
    "duration": 7,
    "start_time": "2023-01-20T17:37:34.393Z"
   },
   {
    "duration": 7,
    "start_time": "2023-01-20T17:37:52.544Z"
   },
   {
    "duration": 10,
    "start_time": "2023-01-20T17:39:34.232Z"
   },
   {
    "duration": 5,
    "start_time": "2023-01-20T17:39:37.760Z"
   },
   {
    "duration": 6,
    "start_time": "2023-01-20T17:42:14.638Z"
   },
   {
    "duration": 479,
    "start_time": "2023-01-20T17:42:28.253Z"
   },
   {
    "duration": 225,
    "start_time": "2023-01-20T17:42:28.735Z"
   },
   {
    "duration": 26,
    "start_time": "2023-01-20T17:42:28.962Z"
   },
   {
    "duration": 62,
    "start_time": "2023-01-20T17:42:28.991Z"
   },
   {
    "duration": 26,
    "start_time": "2023-01-20T17:42:29.056Z"
   },
   {
    "duration": 32,
    "start_time": "2023-01-20T17:42:29.084Z"
   },
   {
    "duration": 37,
    "start_time": "2023-01-20T17:42:29.119Z"
   },
   {
    "duration": 19,
    "start_time": "2023-01-20T17:42:29.158Z"
   },
   {
    "duration": 38,
    "start_time": "2023-01-20T17:42:29.178Z"
   },
   {
    "duration": 30,
    "start_time": "2023-01-20T17:42:29.219Z"
   },
   {
    "duration": 33,
    "start_time": "2023-01-20T17:42:29.251Z"
   },
   {
    "duration": 86,
    "start_time": "2023-01-20T17:42:29.286Z"
   },
   {
    "duration": 95,
    "start_time": "2023-01-20T17:42:29.374Z"
   },
   {
    "duration": 82,
    "start_time": "2023-01-20T17:42:29.472Z"
   },
   {
    "duration": 45,
    "start_time": "2023-01-20T17:42:29.555Z"
   },
   {
    "duration": 12,
    "start_time": "2023-01-20T17:42:29.602Z"
   },
   {
    "duration": 64,
    "start_time": "2023-01-20T17:42:29.616Z"
   },
   {
    "duration": 13,
    "start_time": "2023-01-20T17:42:29.681Z"
   },
   {
    "duration": 30,
    "start_time": "2023-01-20T17:42:29.696Z"
   },
   {
    "duration": 25,
    "start_time": "2023-01-20T17:42:29.728Z"
   },
   {
    "duration": 19,
    "start_time": "2023-01-20T17:42:29.754Z"
   },
   {
    "duration": 33,
    "start_time": "2023-01-20T17:42:29.775Z"
   },
   {
    "duration": 39,
    "start_time": "2023-01-20T17:42:29.811Z"
   },
   {
    "duration": 18,
    "start_time": "2023-01-20T17:42:29.852Z"
   },
   {
    "duration": 30,
    "start_time": "2023-01-20T17:42:29.872Z"
   },
   {
    "duration": 15,
    "start_time": "2023-01-20T17:42:29.904Z"
   },
   {
    "duration": 22,
    "start_time": "2023-01-20T17:42:29.921Z"
   },
   {
    "duration": 14,
    "start_time": "2023-01-20T17:42:29.946Z"
   },
   {
    "duration": 11,
    "start_time": "2023-01-20T17:42:29.962Z"
   },
   {
    "duration": 13,
    "start_time": "2023-01-20T17:42:29.975Z"
   },
   {
    "duration": 35,
    "start_time": "2023-01-20T17:42:29.990Z"
   },
   {
    "duration": 27,
    "start_time": "2023-01-20T17:42:30.027Z"
   },
   {
    "duration": 22,
    "start_time": "2023-01-20T17:42:30.056Z"
   },
   {
    "duration": 14,
    "start_time": "2023-01-20T17:42:30.080Z"
   },
   {
    "duration": 14,
    "start_time": "2023-01-20T17:42:30.095Z"
   },
   {
    "duration": 20,
    "start_time": "2023-01-20T17:42:30.111Z"
   },
   {
    "duration": 8,
    "start_time": "2023-01-20T17:42:30.133Z"
   },
   {
    "duration": 19,
    "start_time": "2023-01-20T17:42:30.142Z"
   },
   {
    "duration": 5,
    "start_time": "2023-01-20T17:45:01.079Z"
   },
   {
    "duration": 5,
    "start_time": "2023-01-20T17:46:18.534Z"
   },
   {
    "duration": 5,
    "start_time": "2023-01-20T17:47:42.167Z"
   },
   {
    "duration": 5,
    "start_time": "2023-01-20T17:48:49.416Z"
   },
   {
    "duration": 6,
    "start_time": "2023-01-20T17:51:03.601Z"
   },
   {
    "duration": 5,
    "start_time": "2023-01-20T17:52:17.112Z"
   },
   {
    "duration": 510,
    "start_time": "2023-01-21T16:20:11.877Z"
   },
   {
    "duration": 343,
    "start_time": "2023-01-21T16:20:12.389Z"
   },
   {
    "duration": 33,
    "start_time": "2023-01-21T16:20:12.734Z"
   },
   {
    "duration": 69,
    "start_time": "2023-01-21T16:20:12.769Z"
   },
   {
    "duration": 16,
    "start_time": "2023-01-21T16:20:12.842Z"
   },
   {
    "duration": 13,
    "start_time": "2023-01-21T16:20:12.861Z"
   },
   {
    "duration": 42,
    "start_time": "2023-01-21T16:20:12.877Z"
   },
   {
    "duration": 31,
    "start_time": "2023-01-21T16:20:12.925Z"
   },
   {
    "duration": 66,
    "start_time": "2023-01-21T16:20:12.959Z"
   },
   {
    "duration": 41,
    "start_time": "2023-01-21T16:20:13.028Z"
   },
   {
    "duration": 54,
    "start_time": "2023-01-21T16:20:13.074Z"
   },
   {
    "duration": 153,
    "start_time": "2023-01-21T16:20:13.133Z"
   },
   {
    "duration": 116,
    "start_time": "2023-01-21T16:20:13.289Z"
   },
   {
    "duration": 117,
    "start_time": "2023-01-21T16:20:13.409Z"
   },
   {
    "duration": 167,
    "start_time": "2023-01-21T16:20:13.529Z"
   },
   {
    "duration": 21,
    "start_time": "2023-01-21T16:20:13.698Z"
   },
   {
    "duration": 159,
    "start_time": "2023-01-21T16:20:13.722Z"
   },
   {
    "duration": 69,
    "start_time": "2023-01-21T16:20:13.884Z"
   },
   {
    "duration": 24,
    "start_time": "2023-01-21T16:20:13.956Z"
   },
   {
    "duration": 37,
    "start_time": "2023-01-21T16:20:13.983Z"
   },
   {
    "duration": 51,
    "start_time": "2023-01-21T16:20:14.024Z"
   },
   {
    "duration": 51,
    "start_time": "2023-01-21T16:20:14.077Z"
   },
   {
    "duration": 24,
    "start_time": "2023-01-21T16:20:14.142Z"
   },
   {
    "duration": 24,
    "start_time": "2023-01-21T16:20:14.168Z"
   },
   {
    "duration": 56,
    "start_time": "2023-01-21T16:20:14.195Z"
   },
   {
    "duration": 16,
    "start_time": "2023-01-21T16:20:14.253Z"
   },
   {
    "duration": 9,
    "start_time": "2023-01-21T16:20:14.272Z"
   },
   {
    "duration": 49,
    "start_time": "2023-01-21T16:20:14.283Z"
   },
   {
    "duration": 11,
    "start_time": "2023-01-21T16:20:14.335Z"
   },
   {
    "duration": 6,
    "start_time": "2023-01-21T16:20:14.348Z"
   },
   {
    "duration": 12,
    "start_time": "2023-01-21T16:20:14.355Z"
   },
   {
    "duration": 6,
    "start_time": "2023-01-21T16:20:14.369Z"
   },
   {
    "duration": 14,
    "start_time": "2023-01-21T16:20:14.378Z"
   },
   {
    "duration": 43,
    "start_time": "2023-01-21T16:20:14.396Z"
   },
   {
    "duration": 5,
    "start_time": "2023-01-21T16:20:14.441Z"
   },
   {
    "duration": 8,
    "start_time": "2023-01-21T16:20:14.447Z"
   },
   {
    "duration": 6,
    "start_time": "2023-01-21T16:20:14.457Z"
   },
   {
    "duration": 8,
    "start_time": "2023-01-21T16:20:14.465Z"
   },
   {
    "duration": 29,
    "start_time": "2023-01-21T16:35:35.050Z"
   },
   {
    "duration": 27,
    "start_time": "2023-01-21T16:35:59.710Z"
   },
   {
    "duration": 24,
    "start_time": "2023-01-21T16:37:19.351Z"
   },
   {
    "duration": 16,
    "start_time": "2023-01-21T16:37:21.715Z"
   },
   {
    "duration": 157,
    "start_time": "2023-01-21T16:42:32.844Z"
   },
   {
    "duration": 79,
    "start_time": "2023-01-21T16:43:51.457Z"
   },
   {
    "duration": 67,
    "start_time": "2023-01-21T16:45:21.572Z"
   },
   {
    "duration": 496,
    "start_time": "2023-01-21T16:46:01.814Z"
   },
   {
    "duration": 295,
    "start_time": "2023-01-21T16:46:02.313Z"
   },
   {
    "duration": 25,
    "start_time": "2023-01-21T16:46:02.611Z"
   },
   {
    "duration": 88,
    "start_time": "2023-01-21T16:46:02.639Z"
   },
   {
    "duration": 29,
    "start_time": "2023-01-21T16:46:02.732Z"
   },
   {
    "duration": 26,
    "start_time": "2023-01-21T16:46:02.764Z"
   },
   {
    "duration": 77,
    "start_time": "2023-01-21T16:46:02.793Z"
   },
   {
    "duration": 44,
    "start_time": "2023-01-21T16:46:02.873Z"
   },
   {
    "duration": 70,
    "start_time": "2023-01-21T16:46:02.919Z"
   },
   {
    "duration": 150,
    "start_time": "2023-01-21T16:46:02.995Z"
   },
   {
    "duration": 121,
    "start_time": "2023-01-21T16:46:03.152Z"
   },
   {
    "duration": 132,
    "start_time": "2023-01-21T16:46:03.276Z"
   },
   {
    "duration": 133,
    "start_time": "2023-01-21T16:46:03.412Z"
   },
   {
    "duration": 143,
    "start_time": "2023-01-21T16:46:03.550Z"
   },
   {
    "duration": 91,
    "start_time": "2023-01-21T16:46:03.698Z"
   },
   {
    "duration": 52,
    "start_time": "2023-01-21T16:46:03.798Z"
   },
   {
    "duration": 79,
    "start_time": "2023-01-21T16:46:03.854Z"
   },
   {
    "duration": 47,
    "start_time": "2023-01-21T16:46:03.940Z"
   },
   {
    "duration": 79,
    "start_time": "2023-01-21T16:46:03.994Z"
   },
   {
    "duration": 76,
    "start_time": "2023-01-21T16:46:04.079Z"
   },
   {
    "duration": 24,
    "start_time": "2023-01-21T16:46:04.158Z"
   },
   {
    "duration": 94,
    "start_time": "2023-01-21T16:46:04.188Z"
   },
   {
    "duration": 86,
    "start_time": "2023-01-21T16:46:04.289Z"
   },
   {
    "duration": 33,
    "start_time": "2023-01-21T16:46:04.378Z"
   },
   {
    "duration": 35,
    "start_time": "2023-01-21T16:46:04.413Z"
   },
   {
    "duration": 26,
    "start_time": "2023-01-21T16:46:04.451Z"
   },
   {
    "duration": 39,
    "start_time": "2023-01-21T16:46:04.479Z"
   },
   {
    "duration": 16,
    "start_time": "2023-01-21T16:46:04.533Z"
   },
   {
    "duration": 13,
    "start_time": "2023-01-21T16:46:04.551Z"
   },
   {
    "duration": 9,
    "start_time": "2023-01-21T16:46:04.566Z"
   },
   {
    "duration": 61,
    "start_time": "2023-01-21T16:46:04.578Z"
   },
   {
    "duration": 17,
    "start_time": "2023-01-21T16:46:04.641Z"
   },
   {
    "duration": 26,
    "start_time": "2023-01-21T16:46:04.660Z"
   },
   {
    "duration": 21,
    "start_time": "2023-01-21T16:46:04.688Z"
   },
   {
    "duration": 79,
    "start_time": "2023-01-21T16:46:04.711Z"
   },
   {
    "duration": 8,
    "start_time": "2023-01-21T16:46:04.793Z"
   },
   {
    "duration": 45,
    "start_time": "2023-01-21T16:46:04.803Z"
   },
   {
    "duration": 7,
    "start_time": "2023-01-21T16:46:04.850Z"
   },
   {
    "duration": 483,
    "start_time": "2023-01-21T16:47:16.521Z"
   },
   {
    "duration": 278,
    "start_time": "2023-01-21T16:47:17.007Z"
   },
   {
    "duration": 27,
    "start_time": "2023-01-21T16:47:17.287Z"
   },
   {
    "duration": 92,
    "start_time": "2023-01-21T16:47:17.319Z"
   },
   {
    "duration": 54,
    "start_time": "2023-01-21T16:47:17.414Z"
   },
   {
    "duration": 66,
    "start_time": "2023-01-21T16:47:17.471Z"
   },
   {
    "duration": 67,
    "start_time": "2023-01-21T16:47:17.539Z"
   },
   {
    "duration": 31,
    "start_time": "2023-01-21T16:47:17.617Z"
   },
   {
    "duration": 65,
    "start_time": "2023-01-21T16:47:17.650Z"
   },
   {
    "duration": 64,
    "start_time": "2023-01-21T16:47:17.717Z"
   },
   {
    "duration": 59,
    "start_time": "2023-01-21T16:47:17.783Z"
   },
   {
    "duration": 128,
    "start_time": "2023-01-21T16:47:17.844Z"
   },
   {
    "duration": 138,
    "start_time": "2023-01-21T16:47:17.974Z"
   },
   {
    "duration": 126,
    "start_time": "2023-01-21T16:47:18.139Z"
   },
   {
    "duration": 76,
    "start_time": "2023-01-21T16:47:18.267Z"
   },
   {
    "duration": 19,
    "start_time": "2023-01-21T16:47:18.346Z"
   },
   {
    "duration": 92,
    "start_time": "2023-01-21T16:47:18.367Z"
   },
   {
    "duration": 20,
    "start_time": "2023-01-21T16:47:18.461Z"
   },
   {
    "duration": 57,
    "start_time": "2023-01-21T16:47:18.483Z"
   },
   {
    "duration": 58,
    "start_time": "2023-01-21T16:47:18.543Z"
   },
   {
    "duration": 74,
    "start_time": "2023-01-21T16:47:18.603Z"
   },
   {
    "duration": 72,
    "start_time": "2023-01-21T16:47:18.680Z"
   },
   {
    "duration": 59,
    "start_time": "2023-01-21T16:47:18.754Z"
   },
   {
    "duration": 59,
    "start_time": "2023-01-21T16:47:18.815Z"
   },
   {
    "duration": 87,
    "start_time": "2023-01-21T16:47:18.877Z"
   },
   {
    "duration": 80,
    "start_time": "2023-01-21T16:47:18.967Z"
   },
   {
    "duration": 63,
    "start_time": "2023-01-21T16:47:19.049Z"
   },
   {
    "duration": 56,
    "start_time": "2023-01-21T16:47:19.117Z"
   },
   {
    "duration": 89,
    "start_time": "2023-01-21T16:47:19.175Z"
   },
   {
    "duration": 76,
    "start_time": "2023-01-21T16:47:19.267Z"
   },
   {
    "duration": 107,
    "start_time": "2023-01-21T16:47:19.346Z"
   },
   {
    "duration": 20,
    "start_time": "2023-01-21T16:47:19.455Z"
   },
   {
    "duration": 61,
    "start_time": "2023-01-21T16:47:19.477Z"
   },
   {
    "duration": 19,
    "start_time": "2023-01-21T16:47:19.540Z"
   },
   {
    "duration": 81,
    "start_time": "2023-01-21T16:47:19.562Z"
   },
   {
    "duration": 22,
    "start_time": "2023-01-21T16:47:19.645Z"
   },
   {
    "duration": 66,
    "start_time": "2023-01-21T16:47:19.670Z"
   },
   {
    "duration": 55,
    "start_time": "2023-01-21T16:47:19.739Z"
   },
   {
    "duration": 94,
    "start_time": "2023-01-21T16:50:07.971Z"
   },
   {
    "duration": 584,
    "start_time": "2023-01-21T17:31:52.778Z"
   },
   {
    "duration": 307,
    "start_time": "2023-01-21T17:31:53.364Z"
   },
   {
    "duration": 41,
    "start_time": "2023-01-21T17:31:53.673Z"
   },
   {
    "duration": 97,
    "start_time": "2023-01-21T17:31:53.717Z"
   },
   {
    "duration": 32,
    "start_time": "2023-01-21T17:31:53.816Z"
   },
   {
    "duration": 8,
    "start_time": "2023-01-21T17:31:53.850Z"
   },
   {
    "duration": 15,
    "start_time": "2023-01-21T17:31:53.860Z"
   },
   {
    "duration": 50,
    "start_time": "2023-01-21T17:31:53.877Z"
   },
   {
    "duration": 47,
    "start_time": "2023-01-21T17:31:53.931Z"
   },
   {
    "duration": 56,
    "start_time": "2023-01-21T17:31:53.982Z"
   },
   {
    "duration": 36,
    "start_time": "2023-01-21T17:31:54.041Z"
   },
   {
    "duration": 218,
    "start_time": "2023-01-21T17:31:54.079Z"
   },
   {
    "duration": 118,
    "start_time": "2023-01-21T17:31:54.299Z"
   },
   {
    "duration": 119,
    "start_time": "2023-01-21T17:31:54.422Z"
   },
   {
    "duration": 87,
    "start_time": "2023-01-21T17:31:54.549Z"
   },
   {
    "duration": 19,
    "start_time": "2023-01-21T17:31:54.639Z"
   },
   {
    "duration": 91,
    "start_time": "2023-01-21T17:31:54.661Z"
   },
   {
    "duration": 18,
    "start_time": "2023-01-21T17:31:54.755Z"
   },
   {
    "duration": 53,
    "start_time": "2023-01-21T17:31:54.775Z"
   },
   {
    "duration": 50,
    "start_time": "2023-01-21T17:31:54.831Z"
   },
   {
    "duration": 74,
    "start_time": "2023-01-21T17:31:54.883Z"
   },
   {
    "duration": 34,
    "start_time": "2023-01-21T17:31:54.959Z"
   },
   {
    "duration": 74,
    "start_time": "2023-01-21T17:31:54.996Z"
   },
   {
    "duration": 30,
    "start_time": "2023-01-21T17:31:55.072Z"
   },
   {
    "duration": 52,
    "start_time": "2023-01-21T17:31:55.114Z"
   },
   {
    "duration": 25,
    "start_time": "2023-01-21T17:31:55.168Z"
   },
   {
    "duration": 53,
    "start_time": "2023-01-21T17:31:55.195Z"
   },
   {
    "duration": 96,
    "start_time": "2023-01-21T17:31:55.252Z"
   },
   {
    "duration": 16,
    "start_time": "2023-01-21T17:31:55.351Z"
   },
   {
    "duration": 13,
    "start_time": "2023-01-21T17:31:55.369Z"
   },
   {
    "duration": 78,
    "start_time": "2023-01-21T17:31:55.390Z"
   },
   {
    "duration": 23,
    "start_time": "2023-01-21T17:31:55.470Z"
   },
   {
    "duration": 48,
    "start_time": "2023-01-21T17:31:55.499Z"
   },
   {
    "duration": 28,
    "start_time": "2023-01-21T17:31:55.550Z"
   },
   {
    "duration": 92,
    "start_time": "2023-01-21T17:31:55.581Z"
   },
   {
    "duration": 136,
    "start_time": "2023-01-21T17:31:55.675Z"
   },
   {
    "duration": 0,
    "start_time": "2023-01-21T17:31:55.813Z"
   },
   {
    "duration": 0,
    "start_time": "2023-01-21T17:31:55.814Z"
   },
   {
    "duration": 48,
    "start_time": "2023-01-21T17:36:14.806Z"
   },
   {
    "duration": 51,
    "start_time": "2023-01-21T17:36:25.224Z"
   },
   {
    "duration": 14,
    "start_time": "2023-01-21T17:36:49.134Z"
   },
   {
    "duration": 11,
    "start_time": "2023-01-21T17:38:05.053Z"
   },
   {
    "duration": 507,
    "start_time": "2023-01-21T17:38:25.875Z"
   },
   {
    "duration": 240,
    "start_time": "2023-01-21T17:38:26.399Z"
   },
   {
    "duration": 20,
    "start_time": "2023-01-21T17:38:26.644Z"
   },
   {
    "duration": 69,
    "start_time": "2023-01-21T17:38:26.667Z"
   },
   {
    "duration": 2,
    "start_time": "2023-01-21T17:38:26.741Z"
   },
   {
    "duration": 9,
    "start_time": "2023-01-21T17:38:26.745Z"
   },
   {
    "duration": 22,
    "start_time": "2023-01-21T17:38:26.756Z"
   },
   {
    "duration": 51,
    "start_time": "2023-01-21T17:38:26.780Z"
   },
   {
    "duration": 49,
    "start_time": "2023-01-21T17:38:26.833Z"
   },
   {
    "duration": 47,
    "start_time": "2023-01-21T17:38:26.889Z"
   },
   {
    "duration": 30,
    "start_time": "2023-01-21T17:38:26.938Z"
   },
   {
    "duration": 112,
    "start_time": "2023-01-21T17:38:26.970Z"
   },
   {
    "duration": 114,
    "start_time": "2023-01-21T17:38:27.087Z"
   },
   {
    "duration": 96,
    "start_time": "2023-01-21T17:38:27.206Z"
   },
   {
    "duration": 59,
    "start_time": "2023-01-21T17:38:27.305Z"
   },
   {
    "duration": 30,
    "start_time": "2023-01-21T17:38:27.366Z"
   },
   {
    "duration": 79,
    "start_time": "2023-01-21T17:38:27.401Z"
   },
   {
    "duration": 44,
    "start_time": "2023-01-21T17:38:27.482Z"
   },
   {
    "duration": 22,
    "start_time": "2023-01-21T17:38:27.537Z"
   },
   {
    "duration": 21,
    "start_time": "2023-01-21T17:38:27.561Z"
   },
   {
    "duration": 74,
    "start_time": "2023-01-21T17:38:27.583Z"
   },
   {
    "duration": 48,
    "start_time": "2023-01-21T17:38:27.659Z"
   },
   {
    "duration": 63,
    "start_time": "2023-01-21T17:38:27.710Z"
   },
   {
    "duration": 41,
    "start_time": "2023-01-21T17:38:27.775Z"
   },
   {
    "duration": 31,
    "start_time": "2023-01-21T17:38:27.823Z"
   },
   {
    "duration": 21,
    "start_time": "2023-01-21T17:38:27.856Z"
   },
   {
    "duration": 60,
    "start_time": "2023-01-21T17:38:27.879Z"
   },
   {
    "duration": 28,
    "start_time": "2023-01-21T17:38:27.943Z"
   },
   {
    "duration": 72,
    "start_time": "2023-01-21T17:38:27.973Z"
   },
   {
    "duration": 24,
    "start_time": "2023-01-21T17:38:28.047Z"
   },
   {
    "duration": 90,
    "start_time": "2023-01-21T17:38:28.073Z"
   },
   {
    "duration": 37,
    "start_time": "2023-01-21T17:38:28.165Z"
   },
   {
    "duration": 69,
    "start_time": "2023-01-21T17:38:28.204Z"
   },
   {
    "duration": 18,
    "start_time": "2023-01-21T17:38:28.274Z"
   },
   {
    "duration": 79,
    "start_time": "2023-01-21T17:38:28.294Z"
   },
   {
    "duration": 24,
    "start_time": "2023-01-21T17:38:28.375Z"
   },
   {
    "duration": 35,
    "start_time": "2023-01-21T17:38:28.405Z"
   },
   {
    "duration": 24,
    "start_time": "2023-01-21T17:38:28.442Z"
   },
   {
    "duration": 22,
    "start_time": "2023-01-21T17:38:40.803Z"
   },
   {
    "duration": 568,
    "start_time": "2023-01-21T17:39:40.173Z"
   },
   {
    "duration": 263,
    "start_time": "2023-01-21T17:39:40.743Z"
   },
   {
    "duration": 31,
    "start_time": "2023-01-21T17:39:41.007Z"
   },
   {
    "duration": 101,
    "start_time": "2023-01-21T17:39:41.041Z"
   },
   {
    "duration": 3,
    "start_time": "2023-01-21T17:39:41.145Z"
   },
   {
    "duration": 55,
    "start_time": "2023-01-21T17:39:41.150Z"
   },
   {
    "duration": 35,
    "start_time": "2023-01-21T17:39:41.208Z"
   },
   {
    "duration": 8,
    "start_time": "2023-01-21T17:39:41.245Z"
   },
   {
    "duration": 43,
    "start_time": "2023-01-21T17:39:41.255Z"
   },
   {
    "duration": 57,
    "start_time": "2023-01-21T17:39:41.300Z"
   },
   {
    "duration": 44,
    "start_time": "2023-01-21T17:39:41.359Z"
   },
   {
    "duration": 136,
    "start_time": "2023-01-21T17:39:41.405Z"
   },
   {
    "duration": 114,
    "start_time": "2023-01-21T17:39:41.543Z"
   },
   {
    "duration": 106,
    "start_time": "2023-01-21T17:39:41.661Z"
   },
   {
    "duration": 72,
    "start_time": "2023-01-21T17:39:41.768Z"
   },
   {
    "duration": 17,
    "start_time": "2023-01-21T17:39:41.842Z"
   },
   {
    "duration": 82,
    "start_time": "2023-01-21T17:39:41.861Z"
   },
   {
    "duration": 14,
    "start_time": "2023-01-21T17:39:41.945Z"
   },
   {
    "duration": 30,
    "start_time": "2023-01-21T17:39:41.960Z"
   },
   {
    "duration": 30,
    "start_time": "2023-01-21T17:39:41.996Z"
   },
   {
    "duration": 39,
    "start_time": "2023-01-21T17:39:42.028Z"
   },
   {
    "duration": 37,
    "start_time": "2023-01-21T17:39:42.069Z"
   },
   {
    "duration": 51,
    "start_time": "2023-01-21T17:39:42.109Z"
   },
   {
    "duration": 19,
    "start_time": "2023-01-21T17:39:42.162Z"
   },
   {
    "duration": 34,
    "start_time": "2023-01-21T17:39:42.183Z"
   },
   {
    "duration": 34,
    "start_time": "2023-01-21T17:39:42.219Z"
   },
   {
    "duration": 10,
    "start_time": "2023-01-21T17:39:42.256Z"
   },
   {
    "duration": 27,
    "start_time": "2023-01-21T17:39:42.268Z"
   },
   {
    "duration": 44,
    "start_time": "2023-01-21T17:39:42.297Z"
   },
   {
    "duration": 5,
    "start_time": "2023-01-21T17:39:42.343Z"
   },
   {
    "duration": 29,
    "start_time": "2023-01-21T17:39:42.349Z"
   },
   {
    "duration": 25,
    "start_time": "2023-01-21T17:39:42.380Z"
   },
   {
    "duration": 53,
    "start_time": "2023-01-21T17:39:42.407Z"
   },
   {
    "duration": 14,
    "start_time": "2023-01-21T17:39:42.462Z"
   },
   {
    "duration": 67,
    "start_time": "2023-01-21T17:39:42.478Z"
   },
   {
    "duration": 12,
    "start_time": "2023-01-21T17:39:42.547Z"
   },
   {
    "duration": 6,
    "start_time": "2023-01-21T17:39:42.562Z"
   },
   {
    "duration": 27,
    "start_time": "2023-01-21T17:39:42.570Z"
   },
   {
    "duration": 9,
    "start_time": "2023-01-21T17:40:48.567Z"
   },
   {
    "duration": 22,
    "start_time": "2023-01-21T17:41:03.512Z"
   },
   {
    "duration": 12,
    "start_time": "2023-01-21T17:41:21.355Z"
   },
   {
    "duration": 38,
    "start_time": "2023-01-21T17:42:04.493Z"
   },
   {
    "duration": 23,
    "start_time": "2023-01-21T17:42:08.718Z"
   },
   {
    "duration": 12,
    "start_time": "2023-01-21T17:42:20.642Z"
   },
   {
    "duration": 147,
    "start_time": "2023-01-21T17:43:52.958Z"
   },
   {
    "duration": 15,
    "start_time": "2023-01-21T17:44:19.105Z"
   },
   {
    "duration": 21,
    "start_time": "2023-01-21T17:44:25.075Z"
   },
   {
    "duration": 8,
    "start_time": "2023-01-21T17:44:26.331Z"
   },
   {
    "duration": 516,
    "start_time": "2023-01-21T17:45:29.909Z"
   },
   {
    "duration": 277,
    "start_time": "2023-01-21T17:45:30.432Z"
   },
   {
    "duration": 41,
    "start_time": "2023-01-21T17:45:30.711Z"
   },
   {
    "duration": 63,
    "start_time": "2023-01-21T17:45:30.754Z"
   },
   {
    "duration": 20,
    "start_time": "2023-01-21T17:45:30.820Z"
   },
   {
    "duration": 26,
    "start_time": "2023-01-21T17:45:30.846Z"
   },
   {
    "duration": 40,
    "start_time": "2023-01-21T17:45:30.875Z"
   },
   {
    "duration": 20,
    "start_time": "2023-01-21T17:45:30.917Z"
   },
   {
    "duration": 43,
    "start_time": "2023-01-21T17:45:30.939Z"
   },
   {
    "duration": 68,
    "start_time": "2023-01-21T17:45:30.985Z"
   },
   {
    "duration": 46,
    "start_time": "2023-01-21T17:45:31.055Z"
   },
   {
    "duration": 133,
    "start_time": "2023-01-21T17:45:31.109Z"
   },
   {
    "duration": 138,
    "start_time": "2023-01-21T17:45:31.244Z"
   },
   {
    "duration": 87,
    "start_time": "2023-01-21T17:45:31.386Z"
   },
   {
    "duration": 86,
    "start_time": "2023-01-21T17:45:31.475Z"
   },
   {
    "duration": 36,
    "start_time": "2023-01-21T17:45:31.563Z"
   },
   {
    "duration": 111,
    "start_time": "2023-01-21T17:45:31.609Z"
   },
   {
    "duration": 18,
    "start_time": "2023-01-21T17:45:31.724Z"
   },
   {
    "duration": 20,
    "start_time": "2023-01-21T17:45:31.744Z"
   },
   {
    "duration": 43,
    "start_time": "2023-01-21T17:45:31.766Z"
   },
   {
    "duration": 47,
    "start_time": "2023-01-21T17:45:31.811Z"
   },
   {
    "duration": 28,
    "start_time": "2023-01-21T17:45:31.860Z"
   },
   {
    "duration": 29,
    "start_time": "2023-01-21T17:45:31.893Z"
   },
   {
    "duration": 36,
    "start_time": "2023-01-21T17:45:31.923Z"
   },
   {
    "duration": 58,
    "start_time": "2023-01-21T17:45:31.962Z"
   },
   {
    "duration": 49,
    "start_time": "2023-01-21T17:45:32.033Z"
   },
   {
    "duration": 28,
    "start_time": "2023-01-21T17:45:32.093Z"
   },
   {
    "duration": 40,
    "start_time": "2023-01-21T17:45:32.127Z"
   },
   {
    "duration": 42,
    "start_time": "2023-01-21T17:45:32.170Z"
   },
   {
    "duration": 23,
    "start_time": "2023-01-21T17:45:32.227Z"
   },
   {
    "duration": 50,
    "start_time": "2023-01-21T17:45:32.252Z"
   },
   {
    "duration": 42,
    "start_time": "2023-01-21T17:45:32.304Z"
   },
   {
    "duration": 50,
    "start_time": "2023-01-21T17:45:32.349Z"
   },
   {
    "duration": 29,
    "start_time": "2023-01-21T17:45:32.402Z"
   },
   {
    "duration": 37,
    "start_time": "2023-01-21T17:45:32.435Z"
   },
   {
    "duration": 6,
    "start_time": "2023-01-21T17:45:32.474Z"
   },
   {
    "duration": 70,
    "start_time": "2023-01-21T17:45:32.482Z"
   },
   {
    "duration": 17,
    "start_time": "2023-01-21T17:45:32.555Z"
   },
   {
    "duration": 462,
    "start_time": "2023-01-21T17:45:55.858Z"
   },
   {
    "duration": 223,
    "start_time": "2023-01-21T17:45:56.323Z"
   },
   {
    "duration": 23,
    "start_time": "2023-01-21T17:45:56.548Z"
   },
   {
    "duration": 58,
    "start_time": "2023-01-21T17:45:56.586Z"
   },
   {
    "duration": 5,
    "start_time": "2023-01-21T17:45:56.647Z"
   },
   {
    "duration": 35,
    "start_time": "2023-01-21T17:45:56.654Z"
   },
   {
    "duration": 22,
    "start_time": "2023-01-21T17:45:56.691Z"
   },
   {
    "duration": 32,
    "start_time": "2023-01-21T17:45:56.715Z"
   },
   {
    "duration": 68,
    "start_time": "2023-01-21T17:45:56.750Z"
   },
   {
    "duration": 34,
    "start_time": "2023-01-21T17:45:56.820Z"
   },
   {
    "duration": 41,
    "start_time": "2023-01-21T17:45:56.856Z"
   },
   {
    "duration": 142,
    "start_time": "2023-01-21T17:45:56.900Z"
   },
   {
    "duration": 144,
    "start_time": "2023-01-21T17:45:57.045Z"
   },
   {
    "duration": 122,
    "start_time": "2023-01-21T17:45:57.200Z"
   },
   {
    "duration": 81,
    "start_time": "2023-01-21T17:45:57.329Z"
   },
   {
    "duration": 21,
    "start_time": "2023-01-21T17:45:57.420Z"
   },
   {
    "duration": 88,
    "start_time": "2023-01-21T17:45:57.444Z"
   },
   {
    "duration": 21,
    "start_time": "2023-01-21T17:45:57.534Z"
   },
   {
    "duration": 56,
    "start_time": "2023-01-21T17:45:57.558Z"
   },
   {
    "duration": 83,
    "start_time": "2023-01-21T17:45:57.621Z"
   },
   {
    "duration": 38,
    "start_time": "2023-01-21T17:45:57.713Z"
   },
   {
    "duration": 25,
    "start_time": "2023-01-21T17:45:57.753Z"
   },
   {
    "duration": 80,
    "start_time": "2023-01-21T17:45:57.781Z"
   },
   {
    "duration": 19,
    "start_time": "2023-01-21T17:45:57.863Z"
   },
   {
    "duration": 46,
    "start_time": "2023-01-21T17:45:57.895Z"
   },
   {
    "duration": 24,
    "start_time": "2023-01-21T17:45:57.943Z"
   },
   {
    "duration": 14,
    "start_time": "2023-01-21T17:45:57.969Z"
   },
   {
    "duration": 59,
    "start_time": "2023-01-21T17:45:57.985Z"
   },
   {
    "duration": 16,
    "start_time": "2023-01-21T17:45:58.047Z"
   },
   {
    "duration": 9,
    "start_time": "2023-01-21T17:45:58.065Z"
   },
   {
    "duration": 72,
    "start_time": "2023-01-21T17:45:58.076Z"
   },
   {
    "duration": 16,
    "start_time": "2023-01-21T17:45:58.150Z"
   },
   {
    "duration": 35,
    "start_time": "2023-01-21T17:45:58.168Z"
   },
   {
    "duration": 42,
    "start_time": "2023-01-21T17:45:58.205Z"
   },
   {
    "duration": 17,
    "start_time": "2023-01-21T17:45:58.249Z"
   },
   {
    "duration": 7,
    "start_time": "2023-01-21T17:45:58.268Z"
   },
   {
    "duration": 19,
    "start_time": "2023-01-21T17:45:58.277Z"
   },
   {
    "duration": 41,
    "start_time": "2023-01-21T17:45:58.301Z"
   },
   {
    "duration": 486,
    "start_time": "2023-01-21T17:46:06.783Z"
   },
   {
    "duration": 238,
    "start_time": "2023-01-21T17:46:07.272Z"
   },
   {
    "duration": 26,
    "start_time": "2023-01-21T17:46:07.517Z"
   },
   {
    "duration": 61,
    "start_time": "2023-01-21T17:46:07.546Z"
   },
   {
    "duration": 38,
    "start_time": "2023-01-21T17:46:07.620Z"
   },
   {
    "duration": 10,
    "start_time": "2023-01-21T17:46:07.662Z"
   },
   {
    "duration": 23,
    "start_time": "2023-01-21T17:46:07.674Z"
   },
   {
    "duration": 37,
    "start_time": "2023-01-21T17:46:07.699Z"
   },
   {
    "duration": 38,
    "start_time": "2023-01-21T17:46:07.738Z"
   },
   {
    "duration": 37,
    "start_time": "2023-01-21T17:46:07.779Z"
   },
   {
    "duration": 48,
    "start_time": "2023-01-21T17:46:07.820Z"
   },
   {
    "duration": 97,
    "start_time": "2023-01-21T17:46:07.870Z"
   },
   {
    "duration": 104,
    "start_time": "2023-01-21T17:46:07.969Z"
   },
   {
    "duration": 84,
    "start_time": "2023-01-21T17:46:08.075Z"
   },
   {
    "duration": 79,
    "start_time": "2023-01-21T17:46:08.161Z"
   },
   {
    "duration": 12,
    "start_time": "2023-01-21T17:46:08.241Z"
   },
   {
    "duration": 93,
    "start_time": "2023-01-21T17:46:08.256Z"
   },
   {
    "duration": 19,
    "start_time": "2023-01-21T17:46:08.351Z"
   },
   {
    "duration": 27,
    "start_time": "2023-01-21T17:46:08.390Z"
   },
   {
    "duration": 73,
    "start_time": "2023-01-21T17:46:08.421Z"
   },
   {
    "duration": 51,
    "start_time": "2023-01-21T17:46:08.497Z"
   },
   {
    "duration": 17,
    "start_time": "2023-01-21T17:46:08.550Z"
   },
   {
    "duration": 30,
    "start_time": "2023-01-21T17:46:08.569Z"
   },
   {
    "duration": 40,
    "start_time": "2023-01-21T17:46:08.601Z"
   },
   {
    "duration": 23,
    "start_time": "2023-01-21T17:46:08.643Z"
   },
   {
    "duration": 32,
    "start_time": "2023-01-21T17:46:08.668Z"
   },
   {
    "duration": 54,
    "start_time": "2023-01-21T17:46:08.703Z"
   },
   {
    "duration": 54,
    "start_time": "2023-01-21T17:46:08.762Z"
   },
   {
    "duration": 31,
    "start_time": "2023-01-21T17:46:08.818Z"
   },
   {
    "duration": 20,
    "start_time": "2023-01-21T17:46:08.851Z"
   },
   {
    "duration": 85,
    "start_time": "2023-01-21T17:46:08.874Z"
   },
   {
    "duration": 15,
    "start_time": "2023-01-21T17:46:08.961Z"
   },
   {
    "duration": 35,
    "start_time": "2023-01-21T17:46:08.978Z"
   },
   {
    "duration": 38,
    "start_time": "2023-01-21T17:46:09.014Z"
   },
   {
    "duration": 10,
    "start_time": "2023-01-21T17:46:09.054Z"
   },
   {
    "duration": 9,
    "start_time": "2023-01-21T17:46:09.066Z"
   },
   {
    "duration": 59,
    "start_time": "2023-01-21T17:46:09.078Z"
   },
   {
    "duration": 8,
    "start_time": "2023-01-21T17:46:09.139Z"
   },
   {
    "duration": 528,
    "start_time": "2023-01-21T18:00:01.262Z"
   },
   {
    "duration": 279,
    "start_time": "2023-01-21T18:00:01.793Z"
   },
   {
    "duration": 26,
    "start_time": "2023-01-21T18:00:02.074Z"
   },
   {
    "duration": 115,
    "start_time": "2023-01-21T18:00:02.102Z"
   },
   {
    "duration": 29,
    "start_time": "2023-01-21T18:00:02.228Z"
   },
   {
    "duration": 10,
    "start_time": "2023-01-21T18:00:02.259Z"
   },
   {
    "duration": 75,
    "start_time": "2023-01-21T18:00:02.271Z"
   },
   {
    "duration": 9,
    "start_time": "2023-01-21T18:00:02.348Z"
   },
   {
    "duration": 50,
    "start_time": "2023-01-21T18:00:02.359Z"
   },
   {
    "duration": 47,
    "start_time": "2023-01-21T18:00:02.411Z"
   },
   {
    "duration": 34,
    "start_time": "2023-01-21T18:00:02.460Z"
   },
   {
    "duration": 148,
    "start_time": "2023-01-21T18:00:02.497Z"
   },
   {
    "duration": 115,
    "start_time": "2023-01-21T18:00:02.647Z"
   },
   {
    "duration": 108,
    "start_time": "2023-01-21T18:00:02.766Z"
   },
   {
    "duration": 73,
    "start_time": "2023-01-21T18:00:02.876Z"
   },
   {
    "duration": 14,
    "start_time": "2023-01-21T18:00:02.951Z"
   },
   {
    "duration": 82,
    "start_time": "2023-01-21T18:00:02.967Z"
   },
   {
    "duration": 16,
    "start_time": "2023-01-21T18:00:03.051Z"
   },
   {
    "duration": 45,
    "start_time": "2023-01-21T18:00:03.068Z"
   },
   {
    "duration": 45,
    "start_time": "2023-01-21T18:00:03.116Z"
   },
   {
    "duration": 53,
    "start_time": "2023-01-21T18:00:03.163Z"
   },
   {
    "duration": 49,
    "start_time": "2023-01-21T18:00:03.218Z"
   },
   {
    "duration": 56,
    "start_time": "2023-01-21T18:00:03.269Z"
   },
   {
    "duration": 22,
    "start_time": "2023-01-21T18:00:03.326Z"
   },
   {
    "duration": 27,
    "start_time": "2023-01-21T18:00:03.350Z"
   },
   {
    "duration": 34,
    "start_time": "2023-01-21T18:00:03.380Z"
   },
   {
    "duration": 36,
    "start_time": "2023-01-21T18:00:03.417Z"
   },
   {
    "duration": 20,
    "start_time": "2023-01-21T18:00:03.455Z"
   },
   {
    "duration": 32,
    "start_time": "2023-01-21T18:00:03.478Z"
   },
   {
    "duration": 41,
    "start_time": "2023-01-21T18:00:03.513Z"
   },
   {
    "duration": 46,
    "start_time": "2023-01-21T18:00:03.556Z"
   },
   {
    "duration": 71,
    "start_time": "2023-01-21T18:00:03.607Z"
   },
   {
    "duration": 54,
    "start_time": "2023-01-21T18:00:03.681Z"
   },
   {
    "duration": 14,
    "start_time": "2023-01-21T18:00:03.741Z"
   },
   {
    "duration": 12,
    "start_time": "2023-01-21T18:00:03.757Z"
   },
   {
    "duration": 6,
    "start_time": "2023-01-21T18:00:03.771Z"
   },
   {
    "duration": 38,
    "start_time": "2023-01-21T18:00:03.793Z"
   },
   {
    "duration": 19,
    "start_time": "2023-01-21T18:00:03.833Z"
   }
  ],
  "colab": {
   "collapsed_sections": [
    "E0vqbgi9ay0H",
    "VUC88oWjTJw2"
   ],
   "name": "automatization_template_upd4.ipynb",
   "provenance": []
  },
  "kernelspec": {
   "display_name": "Python 3 (ipykernel)",
   "language": "python",
   "name": "python3"
  },
  "language_info": {
   "codemirror_mode": {
    "name": "ipython",
    "version": 3
   },
   "file_extension": ".py",
   "mimetype": "text/x-python",
   "name": "python",
   "nbconvert_exporter": "python",
   "pygments_lexer": "ipython3",
   "version": "3.9.5"
  },
  "toc": {
   "base_numbering": 1,
   "nav_menu": {
    "height": "215px",
    "width": "403px"
   },
   "number_sections": true,
   "sideBar": true,
   "skip_h1_title": true,
   "title_cell": "Table of Contents",
   "title_sidebar": "Contents",
   "toc_cell": false,
   "toc_position": {
    "height": "calc(100% - 180px)",
    "left": "10px",
    "top": "150px",
    "width": "285.825px"
   },
   "toc_section_display": true,
   "toc_window_display": false
  }
 },
 "nbformat": 4,
 "nbformat_minor": 1
}
